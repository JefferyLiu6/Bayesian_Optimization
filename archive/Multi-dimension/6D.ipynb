{
 "cells": [
  {
   "cell_type": "code",
   "execution_count": 3,
   "metadata": {},
   "outputs": [
    {
     "name": "stdout",
     "output_type": "stream",
     "text": [
      "\n",
      "Run 1/10\n",
      "Initial points (x1, x2, x3, x4, x5, x6, f(x)):\n",
      "tensor([[ 0.6147,  0.3810,  0.6371,  0.4745,  0.7136,  0.6190, -0.0970],\n",
      "        [ 0.4425,  0.0958,  0.6142,  0.0573,  0.5657,  0.5332, -0.6787],\n",
      "        [ 0.3901,  0.9088,  0.5334,  0.7073,  0.7116,  0.2050, -1.7305],\n",
      "        [ 0.3078,  0.9809,  0.0103,  0.4660,  0.4604,  0.8547, -0.0764],\n",
      "        [ 0.4525,  0.6317,  0.4760,  0.2200,  0.2166,  0.2571, -0.5447],\n",
      "        [ 0.0458,  0.1755,  0.6177,  0.8291,  0.5246,  0.2708, -0.0501],\n",
      "        [ 0.7197,  0.3081,  0.3892,  0.2259,  0.3430,  0.0367, -0.0669],\n",
      "        [ 0.7133,  0.6944,  0.5993,  0.7455,  0.7119,  0.5221, -0.0183],\n",
      "        [ 0.5530,  0.5382,  0.7668,  0.8359,  0.8591,  0.7898, -0.0090],\n",
      "        [ 0.3781,  0.4777,  0.3984,  0.7909,  0.5555,  0.9628, -0.0438]])\n"
     ]
    },
    {
     "data": {
      "application/vnd.jupyter.widget-view+json": {
       "model_id": "88e24509211c4ddbbfd8a4f66bcfff7c",
       "version_major": 2,
       "version_minor": 0
      },
      "text/plain": [
       "Training GP:   0%|          | 0/500 [00:00<?, ?it/s]"
      ]
     },
     "metadata": {},
     "output_type": "display_data"
    },
    {
     "name": "stdout",
     "output_type": "stream",
     "text": [
      "Iteration 0, incumbent x=([0.39010000228881836, 0.9088000059127808, 0.5333999991416931, 0.7073000073432922, 0.7116000056266785, 0.20499999821186066]), f(x)=-1.7305\n"
     ]
    },
    {
     "data": {
      "application/vnd.jupyter.widget-view+json": {
       "model_id": "47de2a29dc5641639d13ebf19952be1d",
       "version_major": 2,
       "version_minor": 0
      },
      "text/plain": [
       "Training GP:   0%|          | 0/500 [00:00<?, ?it/s]"
      ]
     },
     "metadata": {},
     "output_type": "display_data"
    },
    {
     "name": "stdout",
     "output_type": "stream",
     "text": [
      "Iteration 1, incumbent x=([0.3862999975681305, 0.9114999771118164, 0.5325000286102295, 0.7067999839782715, 0.7114999890327454, 0.2011999934911728]), f(x)=-1.7578\n"
     ]
    },
    {
     "data": {
      "application/vnd.jupyter.widget-view+json": {
       "model_id": "2ff826b08ca64153a29831ec213fe952",
       "version_major": 2,
       "version_minor": 0
      },
      "text/plain": [
       "Training GP:   0%|          | 0/500 [00:00<?, ?it/s]"
      ]
     },
     "metadata": {},
     "output_type": "display_data"
    },
    {
     "name": "stdout",
     "output_type": "stream",
     "text": [
      "Iteration 2, incumbent x=([0.365200012922287, 0.9273999929428101, 0.527999997138977, 0.7035999894142151, 0.7107999920845032, 0.17870000004768372]), f(x)=-1.8918\n"
     ]
    },
    {
     "name": "stderr",
     "output_type": "stream",
     "text": [
      "/opt/anaconda3/envs/meng/lib/python3.10/site-packages/botorch/optim/optimize.py:677: RuntimeWarning: Optimization failed in `gen_candidates_scipy` with the following warning(s):\n",
      "[OptimizationWarning('Optimization failed within `scipy.optimize.minimize` with status 2 and message ABNORMAL_TERMINATION_IN_LNSRCH.')]\n",
      "Trying again with a new set of initial conditions.\n",
      "  return _optimize_acqf_batch(opt_inputs=opt_inputs)\n"
     ]
    },
    {
     "data": {
      "application/vnd.jupyter.widget-view+json": {
       "model_id": "7cd4eac42e074ddba7c841f8758888ce",
       "version_major": 2,
       "version_minor": 0
      },
      "text/plain": [
       "Training GP:   0%|          | 0/500 [00:00<?, ?it/s]"
      ]
     },
     "metadata": {},
     "output_type": "display_data"
    },
    {
     "name": "stdout",
     "output_type": "stream",
     "text": [
      "Iteration 3, incumbent x=([0.3375000059604645, 0.948199987411499, 0.5221999883651733, 0.6995000243186951, 0.7098000049591064, 0.14900000393390656]), f(x)=-1.9801\n"
     ]
    },
    {
     "data": {
      "application/vnd.jupyter.widget-view+json": {
       "model_id": "0083a5034a29442ab50981f0a9e58c6c",
       "version_major": 2,
       "version_minor": 0
      },
      "text/plain": [
       "Training GP:   0%|          | 0/500 [00:00<?, ?it/s]"
      ]
     },
     "metadata": {},
     "output_type": "display_data"
    },
    {
     "name": "stdout",
     "output_type": "stream",
     "text": [
      "Iteration 4, incumbent x=([0.3294000029563904, 0.9542999863624573, 0.5203999876976013, 0.6983000040054321, 0.7095999717712402, 0.1404000073671341]), f(x)=-1.9848\n"
     ]
    },
    {
     "data": {
      "application/vnd.jupyter.widget-view+json": {
       "model_id": "b7740ebb87db4bd08565ea94347ea76f",
       "version_major": 2,
       "version_minor": 0
      },
      "text/plain": [
       "Training GP:   0%|          | 0/500 [00:00<?, ?it/s]"
      ]
     },
     "metadata": {},
     "output_type": "display_data"
    },
    {
     "name": "stdout",
     "output_type": "stream",
     "text": [
      "Iteration 5, incumbent x=([0.3294000029563904, 0.9542999863624573, 0.5203999876976013, 0.6983000040054321, 0.7095999717712402, 0.1404000073671341]), f(x)=-1.9848\n"
     ]
    },
    {
     "data": {
      "application/vnd.jupyter.widget-view+json": {
       "model_id": "f7257ff8cb97424bba1ec1a1743a0395",
       "version_major": 2,
       "version_minor": 0
      },
      "text/plain": [
       "Training GP:   0%|          | 0/500 [00:00<?, ?it/s]"
      ]
     },
     "metadata": {},
     "output_type": "display_data"
    },
    {
     "name": "stdout",
     "output_type": "stream",
     "text": [
      "Iteration 6, incumbent x=([0.3294000029563904, 0.9542999863624573, 0.5203999876976013, 0.6983000040054321, 0.7095999717712402, 0.1404000073671341]), f(x)=-1.9848\n"
     ]
    },
    {
     "data": {
      "application/vnd.jupyter.widget-view+json": {
       "model_id": "3ad7d7543d16429991b560f6b5c5edfe",
       "version_major": 2,
       "version_minor": 0
      },
      "text/plain": [
       "Training GP:   0%|          | 0/500 [00:00<?, ?it/s]"
      ]
     },
     "metadata": {},
     "output_type": "display_data"
    },
    {
     "name": "stdout",
     "output_type": "stream",
     "text": [
      "Iteration 7, incumbent x=([0.3294000029563904, 0.9542999863624573, 0.5203999876976013, 0.6983000040054321, 0.7095999717712402, 0.1404000073671341]), f(x)=-1.9848\n"
     ]
    },
    {
     "data": {
      "application/vnd.jupyter.widget-view+json": {
       "model_id": "7670ede4fa4243c29210906bd1376ac2",
       "version_major": 2,
       "version_minor": 0
      },
      "text/plain": [
       "Training GP:   0%|          | 0/500 [00:00<?, ?it/s]"
      ]
     },
     "metadata": {},
     "output_type": "display_data"
    },
    {
     "name": "stdout",
     "output_type": "stream",
     "text": [
      "Iteration 8, incumbent x=([0.3294000029563904, 0.9542999863624573, 0.5203999876976013, 0.6983000040054321, 0.7095999717712402, 0.1404000073671341]), f(x)=-1.9848\n"
     ]
    },
    {
     "data": {
      "application/vnd.jupyter.widget-view+json": {
       "model_id": "0a8afc1357d240f98e883cb12537d1f2",
       "version_major": 2,
       "version_minor": 0
      },
      "text/plain": [
       "Training GP:   0%|          | 0/500 [00:00<?, ?it/s]"
      ]
     },
     "metadata": {},
     "output_type": "display_data"
    },
    {
     "name": "stdout",
     "output_type": "stream",
     "text": [
      "Iteration 9, incumbent x=([0.3294000029563904, 0.9542999863624573, 0.5203999876976013, 0.6983000040054321, 0.7095999717712402, 0.1404000073671341]), f(x)=-1.9848\n"
     ]
    },
    {
     "data": {
      "application/vnd.jupyter.widget-view+json": {
       "model_id": "f649d7e948cf47debdf8e827d1536d81",
       "version_major": 2,
       "version_minor": 0
      },
      "text/plain": [
       "Training GP:   0%|          | 0/500 [00:00<?, ?it/s]"
      ]
     },
     "metadata": {},
     "output_type": "display_data"
    },
    {
     "name": "stdout",
     "output_type": "stream",
     "text": [
      "\n",
      "Run 2/10\n",
      "Initial points (x1, x2, x3, x4, x5, x6, f(x)):\n",
      "tensor([[ 0.0043,  0.1056,  0.2858,  0.0270,  0.4716,  0.0601, -0.0634],\n",
      "        [ 0.7719,  0.7437,  0.5944,  0.8879,  0.4510,  0.7995, -0.0377],\n",
      "        [ 0.1498,  0.4015,  0.0542,  0.4594,  0.1756,  0.9492, -0.5919],\n",
      "        [ 0.8473,  0.8749,  0.6483,  0.2148,  0.9493,  0.0121, -0.0290],\n",
      "        [ 0.1809,  0.1877,  0.2927,  0.5997,  0.1213,  0.1148, -0.0879],\n",
      "        [ 0.2609,  0.8052,  0.1394,  0.0516,  0.0666,  0.2540, -0.1067],\n",
      "        [ 0.3686,  0.0043,  0.2659,  0.5096,  0.5824,  0.4283, -0.3154],\n",
      "        [ 0.4433,  0.1747,  0.7562,  0.3795,  0.1581,  0.3796, -0.7118],\n",
      "        [ 0.4301,  0.9623,  0.7606,  0.2981,  0.4291,  0.9418, -0.1093],\n",
      "        [ 0.8212,  0.6247,  0.3206,  0.9160,  0.7142,  0.2773, -0.0132]])\n"
     ]
    },
    {
     "data": {
      "application/vnd.jupyter.widget-view+json": {
       "model_id": "e9705aed99204b01a0bd14cdb794f6c7",
       "version_major": 2,
       "version_minor": 0
      },
      "text/plain": [
       "Training GP:   0%|          | 0/500 [00:00<?, ?it/s]"
      ]
     },
     "metadata": {},
     "output_type": "display_data"
    },
    {
     "name": "stdout",
     "output_type": "stream",
     "text": [
      "Iteration 0, incumbent x=([0.4433000087738037, 0.17470000684261322, 0.7562000155448914, 0.37950000166893005, 0.15809999406337738, 0.37959998846054077]), f(x)=-0.7118\n"
     ]
    },
    {
     "data": {
      "application/vnd.jupyter.widget-view+json": {
       "model_id": "e615204457b540d5adfa67c5633f9c49",
       "version_major": 2,
       "version_minor": 0
      },
      "text/plain": [
       "Training GP:   0%|          | 0/500 [00:00<?, ?it/s]"
      ]
     },
     "metadata": {},
     "output_type": "display_data"
    },
    {
     "name": "stdout",
     "output_type": "stream",
     "text": [
      "Iteration 1, incumbent x=([0.44999998807907104, 0.17159999907016754, 0.7635999917984009, 0.375900000333786, 0.16269999742507935, 0.38929998874664307]), f(x)=-0.7464\n"
     ]
    },
    {
     "data": {
      "application/vnd.jupyter.widget-view+json": {
       "model_id": "d27d82931a234ef48dee948430767c08",
       "version_major": 2,
       "version_minor": 0
      },
      "text/plain": [
       "Training GP:   0%|          | 0/500 [00:00<?, ?it/s]"
      ]
     },
     "metadata": {},
     "output_type": "display_data"
    },
    {
     "name": "stdout",
     "output_type": "stream",
     "text": [
      "Iteration 2, incumbent x=([0.4749999940395355, 0.1598999947309494, 0.7911999821662903, 0.36230000853538513, 0.18000000715255737, 0.42579999566078186]), f(x)=-0.8759\n"
     ]
    },
    {
     "data": {
      "application/vnd.jupyter.widget-view+json": {
       "model_id": "6d66bd7c64a04755b2866f4b3e2a98df",
       "version_major": 2,
       "version_minor": 0
      },
      "text/plain": [
       "Training GP:   0%|          | 0/500 [00:00<?, ?it/s]"
      ]
     },
     "metadata": {},
     "output_type": "display_data"
    },
    {
     "name": "stdout",
     "output_type": "stream",
     "text": [
      "Iteration 3, incumbent x=([0.4862000048160553, 0.15459999442100525, 0.803600013256073, 0.3562000095844269, 0.18780000507831573, 0.4422000050544739]), f(x)=-0.9307\n"
     ]
    },
    {
     "data": {
      "application/vnd.jupyter.widget-view+json": {
       "model_id": "6780a5b436334a678f4f64d9b8c7fa29",
       "version_major": 2,
       "version_minor": 0
      },
      "text/plain": [
       "Training GP:   0%|          | 0/500 [00:00<?, ?it/s]"
      ]
     },
     "metadata": {},
     "output_type": "display_data"
    },
    {
     "name": "stdout",
     "output_type": "stream",
     "text": [
      "Iteration 4, incumbent x=([0.5016999840736389, 0.14740000665187836, 0.8206999897956848, 0.34779998660087585, 0.19859999418258667, 0.46470001339912415]), f(x)=-0.9999\n"
     ]
    },
    {
     "data": {
      "application/vnd.jupyter.widget-view+json": {
       "model_id": "55c15782df66495f878d2e8525d1f03d",
       "version_major": 2,
       "version_minor": 0
      },
      "text/plain": [
       "Training GP:   0%|          | 0/500 [00:00<?, ?it/s]"
      ]
     },
     "metadata": {},
     "output_type": "display_data"
    },
    {
     "name": "stdout",
     "output_type": "stream",
     "text": [
      "Iteration 5, incumbent x=([0.5230000019073486, 0.13729999959468842, 0.8440999984741211, 0.33629998564720154, 0.2134000062942505, 0.4957999885082245]), f(x)=-1.0784\n"
     ]
    },
    {
     "data": {
      "application/vnd.jupyter.widget-view+json": {
       "model_id": "9acbb66da3024262b179ec3d200e4dac",
       "version_major": 2,
       "version_minor": 0
      },
      "text/plain": [
       "Training GP:   0%|          | 0/500 [00:00<?, ?it/s]"
      ]
     },
     "metadata": {},
     "output_type": "display_data"
    },
    {
     "name": "stdout",
     "output_type": "stream",
     "text": [
      "Iteration 6, incumbent x=([0.5471000075340271, 0.12559999525547028, 0.8705000281333923, 0.323199987411499, 0.23019999265670776, 0.5310999751091003]), f(x)=-1.1363\n"
     ]
    },
    {
     "data": {
      "application/vnd.jupyter.widget-view+json": {
       "model_id": "59e49c02dffa4af89177f0b3dff62ef1",
       "version_major": 2,
       "version_minor": 0
      },
      "text/plain": [
       "Training GP:   0%|          | 0/500 [00:00<?, ?it/s]"
      ]
     },
     "metadata": {},
     "output_type": "display_data"
    },
    {
     "name": "stdout",
     "output_type": "stream",
     "text": [
      "Iteration 7, incumbent x=([0.5651999711990356, 0.11640000343322754, 0.8903999924659729, 0.31299999356269836, 0.2425999939441681, 0.557699978351593]), f(x)=-1.1537\n"
     ]
    },
    {
     "data": {
      "application/vnd.jupyter.widget-view+json": {
       "model_id": "a01f31e75ad344c7a0ec4c8f80d52a88",
       "version_major": 2,
       "version_minor": 0
      },
      "text/plain": [
       "Training GP:   0%|          | 0/500 [00:00<?, ?it/s]"
      ]
     },
     "metadata": {},
     "output_type": "display_data"
    },
    {
     "name": "stdout",
     "output_type": "stream",
     "text": [
      "Iteration 8, incumbent x=([0.5723999738693237, 0.11259999871253967, 0.8982999920845032, 0.3091000020503998, 0.24770000576972961, 0.5683000087738037]), f(x)=-1.1543\n"
     ]
    },
    {
     "data": {
      "application/vnd.jupyter.widget-view+json": {
       "model_id": "1bfbc2db45bf4cd98549294bade7177f",
       "version_major": 2,
       "version_minor": 0
      },
      "text/plain": [
       "Training GP:   0%|          | 0/500 [00:00<?, ?it/s]"
      ]
     },
     "metadata": {},
     "output_type": "display_data"
    },
    {
     "name": "stdout",
     "output_type": "stream",
     "text": [
      "Iteration 9, incumbent x=([0.5724999904632568, 0.11249999701976776, 0.8984000086784363, 0.3091000020503998, 0.24789999425411224, 0.5684999823570251]), f(x)=-1.1544\n"
     ]
    },
    {
     "data": {
      "application/vnd.jupyter.widget-view+json": {
       "model_id": "c0c7d142961e4139b3424e80f1135338",
       "version_major": 2,
       "version_minor": 0
      },
      "text/plain": [
       "Training GP:   0%|          | 0/500 [00:00<?, ?it/s]"
      ]
     },
     "metadata": {},
     "output_type": "display_data"
    },
    {
     "name": "stdout",
     "output_type": "stream",
     "text": [
      "\n",
      "Run 3/10\n",
      "Initial points (x1, x2, x3, x4, x5, x6, f(x)):\n",
      "tensor([[ 5.5964e-01,  5.5909e-01,  9.1457e-02,  2.1000e-01,  7.1946e-03,\n",
      "          3.8962e-02, -2.4623e-01],\n",
      "        [ 9.9289e-01,  9.1311e-01,  6.1858e-01,  9.7439e-01,  3.1891e-01,\n",
      "          2.1483e-01, -1.2594e-03],\n",
      "        [ 9.2626e-01,  4.7352e-01,  5.9495e-01,  7.9558e-01,  7.6348e-01,\n",
      "          2.1370e-01, -3.3591e-03],\n",
      "        [ 3.0663e-01,  3.8553e-02,  5.2203e-01,  3.2074e-01,  6.0738e-01,\n",
      "          5.2326e-01, -9.1644e-01],\n",
      "        [ 9.2627e-01,  5.4306e-01,  7.5057e-01,  6.5778e-01,  9.4361e-01,\n",
      "          2.9215e-01, -4.4887e-03],\n",
      "        [ 9.1749e-01,  8.5862e-01,  3.0044e-01,  8.0649e-01,  9.6225e-01,\n",
      "          2.1729e-01, -1.2413e-02],\n",
      "        [ 3.0497e-01,  8.4205e-01,  9.0316e-01,  6.3190e-01,  6.5354e-01,\n",
      "          8.7033e-01, -2.4247e-02],\n",
      "        [ 9.3819e-01,  1.8377e-01,  2.9433e-01,  9.2098e-01,  7.7006e-01,\n",
      "          2.6540e-01, -1.6712e-04],\n",
      "        [ 3.3035e-01,  9.8522e-01,  1.8684e-01,  8.2164e-01,  7.9014e-01,\n",
      "          2.0476e-02, -1.3488e+00],\n",
      "        [ 8.7905e-04,  6.6599e-01,  7.4532e-01,  9.4320e-01,  5.6163e-01,\n",
      "          8.3921e-01, -7.7330e-02]])\n"
     ]
    },
    {
     "data": {
      "application/vnd.jupyter.widget-view+json": {
       "model_id": "44e8c2f2ca874a52bad342212ce78d1c",
       "version_major": 2,
       "version_minor": 0
      },
      "text/plain": [
       "Training GP:   0%|          | 0/500 [00:00<?, ?it/s]"
      ]
     },
     "metadata": {},
     "output_type": "display_data"
    },
    {
     "name": "stdout",
     "output_type": "stream",
     "text": [
      "Iteration 0, incumbent x=([0.3303000032901764, 0.9851999878883362, 0.1868000030517578, 0.8216000199317932, 0.7900999784469604, 0.020500000566244125]), f(x)=-1.3488\n"
     ]
    },
    {
     "data": {
      "application/vnd.jupyter.widget-view+json": {
       "model_id": "f1019c563cc24c4c8cab6a7072f8d65a",
       "version_major": 2,
       "version_minor": 0
      },
      "text/plain": [
       "Training GP:   0%|          | 0/500 [00:00<?, ?it/s]"
      ]
     },
     "metadata": {},
     "output_type": "display_data"
    },
    {
     "name": "stdout",
     "output_type": "stream",
     "text": [
      "Iteration 1, incumbent x=([0.3303000032901764, 0.9851999878883362, 0.1868000030517578, 0.8216000199317932, 0.7900999784469604, 0.020500000566244125]), f(x)=-1.3488\n"
     ]
    },
    {
     "data": {
      "application/vnd.jupyter.widget-view+json": {
       "model_id": "bd0d90cc66d545888387c2dcb2026b75",
       "version_major": 2,
       "version_minor": 0
      },
      "text/plain": [
       "Training GP:   0%|          | 0/500 [00:00<?, ?it/s]"
      ]
     },
     "metadata": {},
     "output_type": "display_data"
    },
    {
     "name": "stdout",
     "output_type": "stream",
     "text": [
      "Iteration 2, incumbent x=([0.3555000126361847, 0.9799000024795532, 0.19380000233650208, 0.8220000267028809, 0.7936999797821045, 0.03060000017285347]), f(x)=-1.4368\n"
     ]
    },
    {
     "data": {
      "application/vnd.jupyter.widget-view+json": {
       "model_id": "5fc2971e4fe14185999c6e9a9e370257",
       "version_major": 2,
       "version_minor": 0
      },
      "text/plain": [
       "Training GP:   0%|          | 0/500 [00:00<?, ?it/s]"
      ]
     },
     "metadata": {},
     "output_type": "display_data"
    },
    {
     "name": "stdout",
     "output_type": "stream",
     "text": [
      "Iteration 3, incumbent x=([0.38029998540878296, 0.9746000170707703, 0.20059999823570251, 0.8223999738693237, 0.7972999811172485, 0.040699999779462814]), f(x)=-1.4921\n"
     ]
    },
    {
     "data": {
      "application/vnd.jupyter.widget-view+json": {
       "model_id": "1d75eee19fbf488283dbefd040dae6bb",
       "version_major": 2,
       "version_minor": 0
      },
      "text/plain": [
       "Training GP:   0%|          | 0/500 [00:00<?, ?it/s]"
      ]
     },
     "metadata": {},
     "output_type": "display_data"
    },
    {
     "name": "stdout",
     "output_type": "stream",
     "text": [
      "Iteration 4, incumbent x=([0.39809998869895935, 0.9708999991416931, 0.20550000667572021, 0.8226000070571899, 0.7997999787330627, 0.04800000041723251]), f(x)=-1.5105\n"
     ]
    },
    {
     "data": {
      "application/vnd.jupyter.widget-view+json": {
       "model_id": "73c9429840714c79ae2ba5f9cb04b348",
       "version_major": 2,
       "version_minor": 0
      },
      "text/plain": [
       "Training GP:   0%|          | 0/500 [00:00<?, ?it/s]"
      ]
     },
     "metadata": {},
     "output_type": "display_data"
    },
    {
     "name": "stdout",
     "output_type": "stream",
     "text": [
      "Iteration 5, incumbent x=([0.40689998865127563, 0.968999981880188, 0.2079000025987625, 0.8227999806404114, 0.8009999990463257, 0.051500000059604645]), f(x)=-1.5127\n"
     ]
    },
    {
     "data": {
      "application/vnd.jupyter.widget-view+json": {
       "model_id": "3beb723efd1240118bff191ea5075460",
       "version_major": 2,
       "version_minor": 0
      },
      "text/plain": [
       "Training GP:   0%|          | 0/500 [00:00<?, ?it/s]"
      ]
     },
     "metadata": {},
     "output_type": "display_data"
    },
    {
     "name": "stdout",
     "output_type": "stream",
     "text": [
      "Iteration 6, incumbent x=([0.4081999957561493, 0.9686999917030334, 0.20829999446868896, 0.822700023651123, 0.8011000156402588, 0.05209999904036522]), f(x)=-1.5129\n"
     ]
    },
    {
     "data": {
      "application/vnd.jupyter.widget-view+json": {
       "model_id": "7b4ad736f9c84be0940c351c54aece72",
       "version_major": 2,
       "version_minor": 0
      },
      "text/plain": [
       "Training GP:   0%|          | 0/500 [00:00<?, ?it/s]"
      ]
     },
     "metadata": {},
     "output_type": "display_data"
    },
    {
     "name": "stdout",
     "output_type": "stream",
     "text": [
      "Iteration 7, incumbent x=([0.4081999957561493, 0.9686999917030334, 0.20829999446868896, 0.822700023651123, 0.8011000156402588, 0.05209999904036522]), f(x)=-1.5129\n"
     ]
    },
    {
     "data": {
      "application/vnd.jupyter.widget-view+json": {
       "model_id": "eb7c509698624b23b2c20dc96c8d09f9",
       "version_major": 2,
       "version_minor": 0
      },
      "text/plain": [
       "Training GP:   0%|          | 0/500 [00:00<?, ?it/s]"
      ]
     },
     "metadata": {},
     "output_type": "display_data"
    },
    {
     "name": "stdout",
     "output_type": "stream",
     "text": [
      "Iteration 8, incumbent x=([0.40849998593330383, 0.9685999751091003, 0.20829999446868896, 0.8227999806404114, 0.8011999726295471, 0.05180000141263008]), f(x)=-1.5130\n"
     ]
    },
    {
     "data": {
      "application/vnd.jupyter.widget-view+json": {
       "model_id": "86c893eb6b5a4a7d93476929223ed4f5",
       "version_major": 2,
       "version_minor": 0
      },
      "text/plain": [
       "Training GP:   0%|          | 0/500 [00:00<?, ?it/s]"
      ]
     },
     "metadata": {},
     "output_type": "display_data"
    },
    {
     "name": "stdout",
     "output_type": "stream",
     "text": [
      "Iteration 9, incumbent x=([0.40849998593330383, 0.9686999917030334, 0.20829999446868896, 0.822700023651123, 0.8011999726295471, 0.05169999971985817]), f(x)=-1.5131\n"
     ]
    },
    {
     "data": {
      "application/vnd.jupyter.widget-view+json": {
       "model_id": "c570fbc5268043fd98f332d81d7e239b",
       "version_major": 2,
       "version_minor": 0
      },
      "text/plain": [
       "Training GP:   0%|          | 0/500 [00:00<?, ?it/s]"
      ]
     },
     "metadata": {},
     "output_type": "display_data"
    },
    {
     "name": "stdout",
     "output_type": "stream",
     "text": [
      "\n",
      "Run 4/10\n",
      "Initial points (x1, x2, x3, x4, x5, x6, f(x)):\n",
      "tensor([[ 8.3025e-01,  1.2611e-01,  9.0747e-01,  8.1993e-01,  9.2010e-01,\n",
      "          1.1665e-01, -7.3003e-04],\n",
      "        [ 1.6439e-01,  7.3792e-01,  3.3265e-02,  9.9418e-01,  6.0643e-01,\n",
      "          5.6457e-01, -4.4689e-03],\n",
      "        [ 7.2412e-02,  6.5934e-01,  7.1501e-01,  5.7933e-01,  9.8093e-01,\n",
      "          6.5016e-01, -9.5071e-02],\n",
      "        [ 5.6634e-02,  9.2011e-01,  6.6976e-01,  2.6147e-01,  4.0715e-02,\n",
      "          7.8504e-01, -1.3525e-01],\n",
      "        [ 9.7516e-01,  9.0344e-02,  5.2733e-01,  6.7939e-01,  2.6388e-01,\n",
      "          3.9060e-01, -6.3217e-02],\n",
      "        [ 1.6614e-01,  2.6362e-01,  4.4166e-02,  4.8841e-01,  7.9646e-01,\n",
      "          7.4319e-01, -2.9218e-02],\n",
      "        [ 9.6970e-01,  6.0874e-02,  4.3848e-01,  9.8682e-01,  5.8187e-01,\n",
      "          3.5900e-01, -5.8567e-04],\n",
      "        [ 4.9695e-02,  7.3267e-01,  8.7959e-01,  9.0094e-01,  9.1858e-01,\n",
      "          5.9789e-01, -5.3036e-03],\n",
      "        [ 8.5637e-01,  3.7414e-01,  9.0606e-01,  4.5722e-01,  3.9689e-01,\n",
      "          2.5146e-01, -8.3082e-02],\n",
      "        [ 7.6622e-01,  7.0230e-01,  8.1804e-01,  1.8047e-01,  2.3415e-01,\n",
      "          9.7316e-01, -5.5339e-01]])\n"
     ]
    },
    {
     "data": {
      "application/vnd.jupyter.widget-view+json": {
       "model_id": "add17076da334a9492a04ede97eae4d0",
       "version_major": 2,
       "version_minor": 0
      },
      "text/plain": [
       "Training GP:   0%|          | 0/500 [00:00<?, ?it/s]"
      ]
     },
     "metadata": {},
     "output_type": "display_data"
    },
    {
     "name": "stdout",
     "output_type": "stream",
     "text": [
      "Iteration 0, incumbent x=([0.7662000060081482, 0.7023000121116638, 0.8180000185966492, 0.18050000071525574, 0.23420000076293945, 0.9732000231742859]), f(x)=-0.5534\n"
     ]
    },
    {
     "data": {
      "application/vnd.jupyter.widget-view+json": {
       "model_id": "59b2efbeccd34a8eaab0b0ece1e5a704",
       "version_major": 2,
       "version_minor": 0
      },
      "text/plain": [
       "Training GP:   0%|          | 0/500 [00:00<?, ?it/s]"
      ]
     },
     "metadata": {},
     "output_type": "display_data"
    },
    {
     "name": "stdout",
     "output_type": "stream",
     "text": [
      "Iteration 1, incumbent x=([0.7662000060081482, 0.7023000121116638, 0.8180000185966492, 0.18050000071525574, 0.23420000076293945, 0.9732000231742859]), f(x)=-0.5534\n"
     ]
    },
    {
     "data": {
      "application/vnd.jupyter.widget-view+json": {
       "model_id": "40bad7f1508b48c5a526e21c71a23174",
       "version_major": 2,
       "version_minor": 0
      },
      "text/plain": [
       "Training GP:   0%|          | 0/500 [00:00<?, ?it/s]"
      ]
     },
     "metadata": {},
     "output_type": "display_data"
    },
    {
     "name": "stdout",
     "output_type": "stream",
     "text": [
      "Iteration 2, incumbent x=([0.7254999876022339, 0.6973000168800354, 0.8061000108718872, 0.19789999723434448, 0.2272000014781952, 0.9623000025749207]), f(x)=-0.5965\n"
     ]
    },
    {
     "data": {
      "application/vnd.jupyter.widget-view+json": {
       "model_id": "74dbf0dc84e64d67a65514ec554bd23d",
       "version_major": 2,
       "version_minor": 0
      },
      "text/plain": [
       "Training GP:   0%|          | 0/500 [00:00<?, ?it/s]"
      ]
     },
     "metadata": {},
     "output_type": "display_data"
    },
    {
     "name": "stdout",
     "output_type": "stream",
     "text": [
      "Iteration 3, incumbent x=([0.6662999987602234, 0.6901000142097473, 0.7886999845504761, 0.22300000488758087, 0.21709999442100525, 0.9470999836921692]), f(x)=-0.6593\n"
     ]
    },
    {
     "data": {
      "application/vnd.jupyter.widget-view+json": {
       "model_id": "e23b37899b5e4437818cd5b0a104b4a4",
       "version_major": 2,
       "version_minor": 0
      },
      "text/plain": [
       "Training GP:   0%|          | 0/500 [00:00<?, ?it/s]"
      ]
     },
     "metadata": {},
     "output_type": "display_data"
    },
    {
     "name": "stdout",
     "output_type": "stream",
     "text": [
      "Iteration 4, incumbent x=([0.5971999764442444, 0.6805999875068665, 0.7681999802589417, 0.2529999911785126, 0.20550000667572021, 0.9304999709129333]), f(x)=-0.7346\n"
     ]
    },
    {
     "data": {
      "application/vnd.jupyter.widget-view+json": {
       "model_id": "9b898e89f591494f9598cd2e886c7b6a",
       "version_major": 2,
       "version_minor": 0
      },
      "text/plain": [
       "Training GP:   0%|          | 0/500 [00:00<?, ?it/s]"
      ]
     },
     "metadata": {},
     "output_type": "display_data"
    },
    {
     "name": "stdout",
     "output_type": "stream",
     "text": [
      "Iteration 5, incumbent x=([0.5360999703407288, 0.6697999835014343, 0.7495999932289124, 0.2809000015258789, 0.1956000030040741, 0.9168000221252441]), f(x)=-0.8039\n"
     ]
    },
    {
     "data": {
      "application/vnd.jupyter.widget-view+json": {
       "model_id": "1c6c5a551e494e2f9e56e53e7d8678a2",
       "version_major": 2,
       "version_minor": 0
      },
      "text/plain": [
       "Training GP:   0%|          | 0/500 [00:00<?, ?it/s]"
      ]
     },
     "metadata": {},
     "output_type": "display_data"
    },
    {
     "name": "stdout",
     "output_type": "stream",
     "text": [
      "Iteration 6, incumbent x=([0.4779999852180481, 0.6520000100135803, 0.7304999828338623, 0.3124000132083893, 0.1876000016927719, 0.9057999849319458]), f(x)=-0.8871\n"
     ]
    },
    {
     "data": {
      "application/vnd.jupyter.widget-view+json": {
       "model_id": "c0db010907594b8ba67ab660348ad021",
       "version_major": 2,
       "version_minor": 0
      },
      "text/plain": [
       "Training GP:   0%|          | 0/500 [00:00<?, ?it/s]"
      ]
     },
     "metadata": {},
     "output_type": "display_data"
    },
    {
     "name": "stderr",
     "output_type": "stream",
     "text": [
      "/opt/anaconda3/envs/meng/lib/python3.10/site-packages/botorch/optim/optimize.py:677: RuntimeWarning: Optimization failed in `gen_candidates_scipy` with the following warning(s):\n",
      "[OptimizationWarning('Optimization failed within `scipy.optimize.minimize` with status 2 and message ABNORMAL_TERMINATION_IN_LNSRCH.')]\n",
      "Trying again with a new set of initial conditions.\n",
      "  return _optimize_acqf_batch(opt_inputs=opt_inputs)\n"
     ]
    },
    {
     "name": "stdout",
     "output_type": "stream",
     "text": [
      "Iteration 7, incumbent x=([0.4226999878883362, 0.6240000128746033, 0.7103000283241272, 0.3497999906539917, 0.18209999799728394, 0.8977000117301941]), f(x)=-0.9872\n"
     ]
    },
    {
     "data": {
      "application/vnd.jupyter.widget-view+json": {
       "model_id": "df22e3330ac44114bfb640f0c415e074",
       "version_major": 2,
       "version_minor": 0
      },
      "text/plain": [
       "Training GP:   0%|          | 0/500 [00:00<?, ?it/s]"
      ]
     },
     "metadata": {},
     "output_type": "display_data"
    },
    {
     "name": "stdout",
     "output_type": "stream",
     "text": [
      "Iteration 8, incumbent x=([0.37619999051094055, 0.5842999815940857, 0.6901999711990356, 0.3919999897480011, 0.18029999732971191, 0.8942999839782715]), f(x)=-1.0924\n"
     ]
    },
    {
     "data": {
      "application/vnd.jupyter.widget-view+json": {
       "model_id": "0ddaf21a37db483a925b2c59eeaa5943",
       "version_major": 2,
       "version_minor": 0
      },
      "text/plain": [
       "Training GP:   0%|          | 0/500 [00:00<?, ?it/s]"
      ]
     },
     "metadata": {},
     "output_type": "display_data"
    },
    {
     "name": "stdout",
     "output_type": "stream",
     "text": [
      "Iteration 9, incumbent x=([0.34279999136924744, 0.5375999808311462, 0.6726999878883362, 0.4343000054359436, 0.1817999929189682, 0.8960999846458435]), f(x)=-1.1700\n"
     ]
    },
    {
     "data": {
      "application/vnd.jupyter.widget-view+json": {
       "model_id": "774c929c4be14dcfabf1be33aaf46107",
       "version_major": 2,
       "version_minor": 0
      },
      "text/plain": [
       "Training GP:   0%|          | 0/500 [00:00<?, ?it/s]"
      ]
     },
     "metadata": {},
     "output_type": "display_data"
    },
    {
     "name": "stdout",
     "output_type": "stream",
     "text": [
      "\n",
      "Run 5/10\n",
      "Initial points (x1, x2, x3, x4, x5, x6, f(x)):\n",
      "tensor([[ 0.5722,  0.5539,  0.9868,  0.6080,  0.2347,  0.4492, -0.2226],\n",
      "        [ 0.6743,  0.7480,  0.5601,  0.1674,  0.3333,  0.4648, -0.2940],\n",
      "        [ 0.6332,  0.7692,  0.2147,  0.7815,  0.8644,  0.6052, -0.0086],\n",
      "        [ 0.3650,  0.2536,  0.1642,  0.2833,  0.3858,  0.8337, -1.8485],\n",
      "        [ 0.6173,  0.3923,  0.1878,  0.8375,  0.2109,  0.4282, -0.0531],\n",
      "        [ 0.4974,  0.0340,  0.8837,  0.0947,  0.7794,  0.6970, -0.0589],\n",
      "        [ 0.3245,  0.2406,  0.8824,  0.2953,  0.9455,  0.5017, -0.0814],\n",
      "        [ 0.9711,  0.8482,  0.3557,  0.4164,  0.5201,  0.8180, -0.0340],\n",
      "        [ 0.5377,  0.2827,  0.4798,  0.4438,  0.9550,  0.7194, -0.0752],\n",
      "        [ 0.1577,  0.1606,  0.2336,  0.7799,  0.5395,  0.3515, -0.0604]])\n"
     ]
    },
    {
     "data": {
      "application/vnd.jupyter.widget-view+json": {
       "model_id": "3916adccf8ba4787a6a5225b82b7275e",
       "version_major": 2,
       "version_minor": 0
      },
      "text/plain": [
       "Training GP:   0%|          | 0/500 [00:00<?, ?it/s]"
      ]
     },
     "metadata": {},
     "output_type": "display_data"
    },
    {
     "name": "stdout",
     "output_type": "stream",
     "text": [
      "Iteration 0, incumbent x=([0.36500000953674316, 0.25360000133514404, 0.16419999301433563, 0.2833000123500824, 0.38580000400543213, 0.8337000012397766]), f(x)=-1.8485\n"
     ]
    },
    {
     "data": {
      "application/vnd.jupyter.widget-view+json": {
       "model_id": "d142d6089c3743f1b53252ddb3a27cfa",
       "version_major": 2,
       "version_minor": 0
      },
      "text/plain": [
       "Training GP:   0%|          | 0/500 [00:00<?, ?it/s]"
      ]
     },
     "metadata": {},
     "output_type": "display_data"
    },
    {
     "name": "stdout",
     "output_type": "stream",
     "text": [
      "Iteration 1, incumbent x=([0.36500000953674316, 0.25360000133514404, 0.16419999301433563, 0.2833000123500824, 0.38580000400543213, 0.8337000012397766]), f(x)=-1.8485\n"
     ]
    },
    {
     "data": {
      "application/vnd.jupyter.widget-view+json": {
       "model_id": "47732ba58c2a4542b1d5b604e572eff3",
       "version_major": 2,
       "version_minor": 0
      },
      "text/plain": [
       "Training GP:   0%|          | 0/500 [00:00<?, ?it/s]"
      ]
     },
     "metadata": {},
     "output_type": "display_data"
    },
    {
     "name": "stdout",
     "output_type": "stream",
     "text": [
      "Iteration 2, incumbent x=([0.36500000953674316, 0.25360000133514404, 0.16419999301433563, 0.2833000123500824, 0.38580000400543213, 0.8337000012397766]), f(x)=-1.8485\n"
     ]
    },
    {
     "data": {
      "application/vnd.jupyter.widget-view+json": {
       "model_id": "d6fdb48a5cad485886a9fae123138102",
       "version_major": 2,
       "version_minor": 0
      },
      "text/plain": [
       "Training GP:   0%|          | 0/500 [00:00<?, ?it/s]"
      ]
     },
     "metadata": {},
     "output_type": "display_data"
    },
    {
     "name": "stdout",
     "output_type": "stream",
     "text": [
      "Iteration 3, incumbent x=([0.37450000643730164, 0.2709999978542328, 0.179299995303154, 0.27649998664855957, 0.3763999938964844, 0.8277000188827515]), f(x)=-1.9006\n"
     ]
    },
    {
     "data": {
      "application/vnd.jupyter.widget-view+json": {
       "model_id": "2f9d25ad74194fe5b90cba5353b7819f",
       "version_major": 2,
       "version_minor": 0
      },
      "text/plain": [
       "Training GP:   0%|          | 0/500 [00:00<?, ?it/s]"
      ]
     },
     "metadata": {},
     "output_type": "display_data"
    },
    {
     "name": "stdout",
     "output_type": "stream",
     "text": [
      "Iteration 4, incumbent x=([0.3869999945163727, 0.29280000925064087, 0.19920000433921814, 0.2703000009059906, 0.36649999022483826, 0.8184999823570251]), f(x)=-1.9487\n"
     ]
    },
    {
     "data": {
      "application/vnd.jupyter.widget-view+json": {
       "model_id": "d2493f35478e4d2eae1233b3e63f947e",
       "version_major": 2,
       "version_minor": 0
      },
      "text/plain": [
       "Training GP:   0%|          | 0/500 [00:00<?, ?it/s]"
      ]
     },
     "metadata": {},
     "output_type": "display_data"
    },
    {
     "name": "stdout",
     "output_type": "stream",
     "text": [
      "Iteration 5, incumbent x=([0.39730000495910645, 0.3116999864578247, 0.2159000039100647, 0.263700008392334, 0.35690000653266907, 0.8112000226974487]), f(x)=-1.9734\n"
     ]
    },
    {
     "data": {
      "application/vnd.jupyter.widget-view+json": {
       "model_id": "a7f243317a93475e85546975ef64c4b0",
       "version_major": 2,
       "version_minor": 0
      },
      "text/plain": [
       "Training GP:   0%|          | 0/500 [00:00<?, ?it/s]"
      ]
     },
     "metadata": {},
     "output_type": "display_data"
    },
    {
     "name": "stdout",
     "output_type": "stream",
     "text": [
      "Iteration 6, incumbent x=([0.4041000008583069, 0.3253999948501587, 0.22750000655651093, 0.25690001249313354, 0.3481000065803528, 0.807200014591217]), f(x)=-1.9789\n"
     ]
    },
    {
     "data": {
      "application/vnd.jupyter.widget-view+json": {
       "model_id": "65b617459e6c41a49d5d0ebf68bca3d9",
       "version_major": 2,
       "version_minor": 0
      },
      "text/plain": [
       "Training GP:   0%|          | 0/500 [00:00<?, ?it/s]"
      ]
     },
     "metadata": {},
     "output_type": "display_data"
    },
    {
     "name": "stdout",
     "output_type": "stream",
     "text": [
      "Iteration 7, incumbent x=([0.4041000008583069, 0.3253999948501587, 0.22750000655651093, 0.25690001249313354, 0.3481000065803528, 0.807200014591217]), f(x)=-1.9789\n"
     ]
    },
    {
     "data": {
      "application/vnd.jupyter.widget-view+json": {
       "model_id": "02936bcd646d4663b0c5c4c3b097caa6",
       "version_major": 2,
       "version_minor": 0
      },
      "text/plain": [
       "Training GP:   0%|          | 0/500 [00:00<?, ?it/s]"
      ]
     },
     "metadata": {},
     "output_type": "display_data"
    },
    {
     "name": "stdout",
     "output_type": "stream",
     "text": [
      "Iteration 8, incumbent x=([0.4041000008583069, 0.3253999948501587, 0.22750000655651093, 0.25690001249313354, 0.3481000065803528, 0.807200014591217]), f(x)=-1.9789\n"
     ]
    },
    {
     "data": {
      "application/vnd.jupyter.widget-view+json": {
       "model_id": "38b5272858ff4ddf935fa78ec46cad0e",
       "version_major": 2,
       "version_minor": 0
      },
      "text/plain": [
       "Training GP:   0%|          | 0/500 [00:00<?, ?it/s]"
      ]
     },
     "metadata": {},
     "output_type": "display_data"
    },
    {
     "name": "stdout",
     "output_type": "stream",
     "text": [
      "Iteration 9, incumbent x=([0.41110000014305115, 0.32690000534057617, 0.22540000081062317, 0.2524999976158142, 0.34689998626708984, 0.8008999824523926]), f(x)=-1.9830\n"
     ]
    },
    {
     "data": {
      "application/vnd.jupyter.widget-view+json": {
       "model_id": "d5fe8b4dde704a50b64953ca0c09136c",
       "version_major": 2,
       "version_minor": 0
      },
      "text/plain": [
       "Training GP:   0%|          | 0/500 [00:00<?, ?it/s]"
      ]
     },
     "metadata": {},
     "output_type": "display_data"
    },
    {
     "name": "stdout",
     "output_type": "stream",
     "text": [
      "\n",
      "Run 6/10\n",
      "Initial points (x1, x2, x3, x4, x5, x6, f(x)):\n",
      "tensor([[ 5.3492e-01,  1.9880e-01,  6.5921e-01,  6.5689e-01,  2.3276e-01,\n",
      "          4.2506e-01, -3.1407e-01],\n",
      "        [ 2.0709e-01,  6.2974e-01,  3.6532e-01,  8.5127e-01,  8.5494e-01,\n",
      "          5.5094e-01, -3.3620e-02],\n",
      "        [ 2.8684e-01,  2.0632e-01,  4.4509e-01,  3.5929e-01,  7.2038e-01,\n",
      "          7.3052e-02, -9.5737e-02],\n",
      "        [ 9.6992e-01,  1.0779e-01,  8.8288e-01,  4.1317e-01,  7.5719e-01,\n",
      "          6.9485e-01, -1.3435e-02],\n",
      "        [ 5.2093e-01,  5.9323e-01,  8.7970e-01,  6.2859e-01,  7.6527e-01,\n",
      "          1.1322e-01, -1.1190e+00],\n",
      "        [ 8.5594e-01,  6.7208e-01,  6.2665e-01,  5.6907e-01,  7.4373e-01,\n",
      "          9.5922e-01, -1.3507e-02],\n",
      "        [ 3.8874e-01,  2.2145e-01,  3.7420e-01,  1.9526e-01,  7.4052e-01,\n",
      "          2.5288e-01, -1.4017e-01],\n",
      "        [ 2.3315e-01,  9.3141e-01,  9.5754e-01,  5.5751e-01,  4.1342e-01,\n",
      "          4.3546e-01, -2.5682e-01],\n",
      "        [ 7.3686e-01,  3.3110e-02,  9.1378e-02,  8.9940e-01,  9.9362e-01,\n",
      "          4.7029e-01, -7.4281e-05],\n",
      "        [ 1.0492e-01,  5.1366e-01,  2.6739e-01,  4.9904e-01,  7.4473e-01,\n",
      "          7.2134e-01, -1.0384e-01]])\n"
     ]
    },
    {
     "data": {
      "application/vnd.jupyter.widget-view+json": {
       "model_id": "f418c04aa13c4cec97b1c92250634641",
       "version_major": 2,
       "version_minor": 0
      },
      "text/plain": [
       "Training GP:   0%|          | 0/500 [00:00<?, ?it/s]"
      ]
     },
     "metadata": {},
     "output_type": "display_data"
    },
    {
     "name": "stdout",
     "output_type": "stream",
     "text": [
      "Iteration 0, incumbent x=([0.5209000110626221, 0.5932000279426575, 0.8797000050544739, 0.628600001335144, 0.7652999758720398, 0.11320000141859055]), f(x)=-1.1190\n"
     ]
    },
    {
     "data": {
      "application/vnd.jupyter.widget-view+json": {
       "model_id": "92875deba4ae46b1a74c143d459cd1a8",
       "version_major": 2,
       "version_minor": 0
      },
      "text/plain": [
       "Training GP:   0%|          | 0/500 [00:00<?, ?it/s]"
      ]
     },
     "metadata": {},
     "output_type": "display_data"
    },
    {
     "name": "stdout",
     "output_type": "stream",
     "text": [
      "Iteration 1, incumbent x=([0.5264000296592712, 0.5974000096321106, 0.88919997215271, 0.6319000124931335, 0.7648000121116638, 0.10830000042915344]), f(x)=-1.1228\n"
     ]
    },
    {
     "data": {
      "application/vnd.jupyter.widget-view+json": {
       "model_id": "fb9be2b646874f1c9428008689ad41a1",
       "version_major": 2,
       "version_minor": 0
      },
      "text/plain": [
       "Training GP:   0%|          | 0/500 [00:00<?, ?it/s]"
      ]
     },
     "metadata": {},
     "output_type": "display_data"
    },
    {
     "name": "stdout",
     "output_type": "stream",
     "text": [
      "Iteration 2, incumbent x=([0.5264000296592712, 0.5974000096321106, 0.88919997215271, 0.6319000124931335, 0.7648000121116638, 0.10830000042915344]), f(x)=-1.1228\n"
     ]
    },
    {
     "data": {
      "application/vnd.jupyter.widget-view+json": {
       "model_id": "e68b2555e416493f8ec93dcdbb8d252a",
       "version_major": 2,
       "version_minor": 0
      },
      "text/plain": [
       "Training GP:   0%|          | 0/500 [00:00<?, ?it/s]"
      ]
     },
     "metadata": {},
     "output_type": "display_data"
    },
    {
     "name": "stdout",
     "output_type": "stream",
     "text": [
      "Iteration 3, incumbent x=([0.5264000296592712, 0.5974000096321106, 0.88919997215271, 0.6319000124931335, 0.7648000121116638, 0.10830000042915344]), f(x)=-1.1228\n"
     ]
    },
    {
     "data": {
      "application/vnd.jupyter.widget-view+json": {
       "model_id": "f8d0db8665d54daca99fae1740215d2e",
       "version_major": 2,
       "version_minor": 0
      },
      "text/plain": [
       "Training GP:   0%|          | 0/500 [00:00<?, ?it/s]"
      ]
     },
     "metadata": {},
     "output_type": "display_data"
    },
    {
     "name": "stdout",
     "output_type": "stream",
     "text": [
      "Iteration 4, incumbent x=([0.5264000296592712, 0.5974000096321106, 0.88919997215271, 0.6319000124931335, 0.7648000121116638, 0.10830000042915344]), f(x)=-1.1228\n"
     ]
    },
    {
     "data": {
      "application/vnd.jupyter.widget-view+json": {
       "model_id": "bb019a9087f745caa7c69f1eac8ca3ae",
       "version_major": 2,
       "version_minor": 0
      },
      "text/plain": [
       "Training GP:   0%|          | 0/500 [00:00<?, ?it/s]"
      ]
     },
     "metadata": {},
     "output_type": "display_data"
    },
    {
     "name": "stdout",
     "output_type": "stream",
     "text": [
      "Iteration 5, incumbent x=([0.5303000211715698, 0.60589998960495, 0.8794000148773193, 0.6186000108718872, 0.7943999767303467, 0.09830000251531601]), f(x)=-1.1794\n"
     ]
    },
    {
     "data": {
      "application/vnd.jupyter.widget-view+json": {
       "model_id": "e03054780cb2428d84a3290c9c407202",
       "version_major": 2,
       "version_minor": 0
      },
      "text/plain": [
       "Training GP:   0%|          | 0/500 [00:00<?, ?it/s]"
      ]
     },
     "metadata": {},
     "output_type": "display_data"
    },
    {
     "name": "stdout",
     "output_type": "stream",
     "text": [
      "Iteration 6, incumbent x=([0.5350000262260437, 0.6189000010490417, 0.8644000291824341, 0.598800003528595, 0.8364999890327454, 0.08560000360012054]), f(x)=-1.2558\n"
     ]
    },
    {
     "data": {
      "application/vnd.jupyter.widget-view+json": {
       "model_id": "452d265aaafe481a84b3650eae2274a4",
       "version_major": 2,
       "version_minor": 0
      },
      "text/plain": [
       "Training GP:   0%|          | 0/500 [00:00<?, ?it/s]"
      ]
     },
     "metadata": {},
     "output_type": "display_data"
    },
    {
     "name": "stdout",
     "output_type": "stream",
     "text": [
      "Iteration 7, incumbent x=([0.5407999753952026, 0.6338000297546387, 0.8518000245094299, 0.5795000195503235, 0.8790000081062317, 0.07190000265836716]), f(x)=-1.3193\n"
     ]
    },
    {
     "data": {
      "application/vnd.jupyter.widget-view+json": {
       "model_id": "a197356193024f5d97765dcfa24fa90b",
       "version_major": 2,
       "version_minor": 0
      },
      "text/plain": [
       "Training GP:   0%|          | 0/500 [00:00<?, ?it/s]"
      ]
     },
     "metadata": {},
     "output_type": "display_data"
    },
    {
     "name": "stdout",
     "output_type": "stream",
     "text": [
      "Iteration 8, incumbent x=([0.5476999878883362, 0.6510000228881836, 0.8410000205039978, 0.5598999857902527, 0.9225000143051147, 0.05739999935030937]), f(x)=-1.3673\n"
     ]
    },
    {
     "data": {
      "application/vnd.jupyter.widget-view+json": {
       "model_id": "be109f74f4634612bfa07ab813eef7d4",
       "version_major": 2,
       "version_minor": 0
      },
      "text/plain": [
       "Training GP:   0%|          | 0/500 [00:00<?, ?it/s]"
      ]
     },
     "metadata": {},
     "output_type": "display_data"
    },
    {
     "name": "stdout",
     "output_type": "stream",
     "text": [
      "Iteration 9, incumbent x=([0.5541999936103821, 0.6685000061988831, 0.8325999975204468, 0.5418999791145325, 0.9624000191688538, 0.04430000111460686]), f(x)=-1.3942\n"
     ]
    },
    {
     "data": {
      "application/vnd.jupyter.widget-view+json": {
       "model_id": "4bc81e8030084ea184d52fcf5f0030aa",
       "version_major": 2,
       "version_minor": 0
      },
      "text/plain": [
       "Training GP:   0%|          | 0/500 [00:00<?, ?it/s]"
      ]
     },
     "metadata": {},
     "output_type": "display_data"
    },
    {
     "name": "stdout",
     "output_type": "stream",
     "text": [
      "\n",
      "Run 7/10\n",
      "Initial points (x1, x2, x3, x4, x5, x6, f(x)):\n",
      "tensor([[ 0.5979,  0.8453,  0.9464,  0.2965,  0.5138,  0.6443, -0.1066],\n",
      "        [ 0.8991,  0.0141,  0.5785,  0.1218,  0.9181,  0.6805, -0.0032],\n",
      "        [ 0.2000,  0.1121,  0.0019,  0.8928,  0.8047,  0.2547, -0.0027],\n",
      "        [ 0.4683,  0.1682,  0.1713,  0.5103,  0.1068,  0.5911, -0.7279],\n",
      "        [ 0.7893,  0.0854,  0.3679,  0.4761,  0.6386,  0.4480, -0.0881],\n",
      "        [ 0.0795,  0.3199,  0.0032,  0.4238,  0.3069,  0.9529, -0.8750],\n",
      "        [ 0.4462,  0.7756,  0.0131,  0.4101,  0.8469,  0.7885, -0.0038],\n",
      "        [ 0.6149,  0.1891,  0.7311,  0.9582,  0.4655,  0.7719, -0.1098],\n",
      "        [ 0.1614,  0.6985,  0.5411,  0.9334,  0.7705,  0.9722, -0.0103],\n",
      "        [ 0.4131,  0.4887,  0.4382,  0.4342,  0.0959,  0.1571, -0.7158]])\n"
     ]
    },
    {
     "data": {
      "application/vnd.jupyter.widget-view+json": {
       "model_id": "025433fced4b429abe32eb9f2ec128e8",
       "version_major": 2,
       "version_minor": 0
      },
      "text/plain": [
       "Training GP:   0%|          | 0/500 [00:00<?, ?it/s]"
      ]
     },
     "metadata": {},
     "output_type": "display_data"
    },
    {
     "name": "stdout",
     "output_type": "stream",
     "text": [
      "Iteration 0, incumbent x=([0.0794999971985817, 0.3199000060558319, 0.0031999999191612005, 0.423799991607666, 0.3068999946117401, 0.9528999924659729]), f(x)=-0.8750\n"
     ]
    },
    {
     "data": {
      "application/vnd.jupyter.widget-view+json": {
       "model_id": "089d8c061faa46f7bc5a8947adcdedb8",
       "version_major": 2,
       "version_minor": 0
      },
      "text/plain": [
       "Training GP:   0%|          | 0/500 [00:00<?, ?it/s]"
      ]
     },
     "metadata": {},
     "output_type": "display_data"
    },
    {
     "name": "stdout",
     "output_type": "stream",
     "text": [
      "Iteration 1, incumbent x=([0.0794999971985817, 0.3199000060558319, 0.0031999999191612005, 0.423799991607666, 0.3068999946117401, 0.9528999924659729]), f(x)=-0.8750\n"
     ]
    },
    {
     "data": {
      "application/vnd.jupyter.widget-view+json": {
       "model_id": "84c4c580a2224a80bbee8cced1f8d82b",
       "version_major": 2,
       "version_minor": 0
      },
      "text/plain": [
       "Training GP:   0%|          | 0/500 [00:00<?, ?it/s]"
      ]
     },
     "metadata": {},
     "output_type": "display_data"
    },
    {
     "name": "stdout",
     "output_type": "stream",
     "text": [
      "Iteration 2, incumbent x=([0.0794999971985817, 0.3199000060558319, 0.0031999999191612005, 0.423799991607666, 0.3068999946117401, 0.9528999924659729]), f(x)=-0.8750\n"
     ]
    },
    {
     "data": {
      "application/vnd.jupyter.widget-view+json": {
       "model_id": "a99cbb31b724469998532c4cb64edc50",
       "version_major": 2,
       "version_minor": 0
      },
      "text/plain": [
       "Training GP:   0%|          | 0/500 [00:00<?, ?it/s]"
      ]
     },
     "metadata": {},
     "output_type": "display_data"
    },
    {
     "name": "stdout",
     "output_type": "stream",
     "text": [
      "Iteration 3, incumbent x=([0.0794999971985817, 0.3199000060558319, 0.0031999999191612005, 0.423799991607666, 0.3068999946117401, 0.9528999924659729]), f(x)=-0.8750\n"
     ]
    },
    {
     "data": {
      "application/vnd.jupyter.widget-view+json": {
       "model_id": "2528f76b8cb24218b78077586ee02114",
       "version_major": 2,
       "version_minor": 0
      },
      "text/plain": [
       "Training GP:   0%|          | 0/500 [00:00<?, ?it/s]"
      ]
     },
     "metadata": {},
     "output_type": "display_data"
    },
    {
     "name": "stdout",
     "output_type": "stream",
     "text": [
      "Iteration 4, incumbent x=([0.09809999912977219, 0.3109999895095825, 0.010499999858438969, 0.43160000443458557, 0.3019999861717224, 0.9351999759674072]), f(x)=-0.9600\n"
     ]
    },
    {
     "data": {
      "application/vnd.jupyter.widget-view+json": {
       "model_id": "8bb34881cda34dc49ba67498ba4b69ec",
       "version_major": 2,
       "version_minor": 0
      },
      "text/plain": [
       "Training GP:   0%|          | 0/500 [00:00<?, ?it/s]"
      ]
     },
     "metadata": {},
     "output_type": "display_data"
    },
    {
     "name": "stdout",
     "output_type": "stream",
     "text": [
      "Iteration 5, incumbent x=([0.1137000024318695, 0.2994000017642975, 0.01769999973475933, 0.43529999256134033, 0.287200003862381, 0.9182999730110168]), f(x)=-1.0488\n"
     ]
    },
    {
     "data": {
      "application/vnd.jupyter.widget-view+json": {
       "model_id": "a81e92c2ed2342ea95c20134e9a47987",
       "version_major": 2,
       "version_minor": 0
      },
      "text/plain": [
       "Training GP:   0%|          | 0/500 [00:00<?, ?it/s]"
      ]
     },
     "metadata": {},
     "output_type": "display_data"
    },
    {
     "name": "stdout",
     "output_type": "stream",
     "text": [
      "Iteration 6, incumbent x=([0.1324000060558319, 0.28630000352859497, 0.026200000196695328, 0.44020000100135803, 0.271699994802475, 0.8985000252723694]), f(x)=-1.1413\n"
     ]
    },
    {
     "data": {
      "application/vnd.jupyter.widget-view+json": {
       "model_id": "4cf1e11021ce4e5591d36a37f8b5dcac",
       "version_major": 2,
       "version_minor": 0
      },
      "text/plain": [
       "Training GP:   0%|          | 0/500 [00:00<?, ?it/s]"
      ]
     },
     "metadata": {},
     "output_type": "display_data"
    },
    {
     "name": "stderr",
     "output_type": "stream",
     "text": [
      "/opt/anaconda3/envs/meng/lib/python3.10/site-packages/botorch/optim/optimize.py:677: RuntimeWarning: Optimization failed in `gen_candidates_scipy` with the following warning(s):\n",
      "[OptimizationWarning('Optimization failed within `scipy.optimize.minimize` with status 2 and message ABNORMAL_TERMINATION_IN_LNSRCH.')]\n",
      "Trying again with a new set of initial conditions.\n",
      "  return _optimize_acqf_batch(opt_inputs=opt_inputs)\n"
     ]
    },
    {
     "name": "stdout",
     "output_type": "stream",
     "text": [
      "Iteration 7, incumbent x=([0.15520000457763672, 0.27140000462532043, 0.03629999980330467, 0.44670000672340393, 0.2547000050544739, 0.8748000264167786]), f(x)=-1.2337\n"
     ]
    },
    {
     "data": {
      "application/vnd.jupyter.widget-view+json": {
       "model_id": "a051b138c2514fdcbe3255349e40e560",
       "version_major": 2,
       "version_minor": 0
      },
      "text/plain": [
       "Training GP:   0%|          | 0/500 [00:00<?, ?it/s]"
      ]
     },
     "metadata": {},
     "output_type": "display_data"
    },
    {
     "name": "stdout",
     "output_type": "stream",
     "text": [
      "Iteration 8, incumbent x=([0.181099995970726, 0.2563000023365021, 0.04749999940395355, 0.4542999863624573, 0.2370000034570694, 0.848800003528595]), f(x)=-1.3052\n"
     ]
    },
    {
     "data": {
      "application/vnd.jupyter.widget-view+json": {
       "model_id": "7b74991f787f4d538e0128414abaf345",
       "version_major": 2,
       "version_minor": 0
      },
      "text/plain": [
       "Training GP:   0%|          | 0/500 [00:00<?, ?it/s]"
      ]
     },
     "metadata": {},
     "output_type": "display_data"
    },
    {
     "name": "stdout",
     "output_type": "stream",
     "text": [
      "Iteration 9, incumbent x=([0.20309999585151672, 0.24420000612735748, 0.05689999833703041, 0.4609000086784363, 0.22360000014305115, 0.8269000053405762]), f(x)=-1.3436\n"
     ]
    },
    {
     "data": {
      "application/vnd.jupyter.widget-view+json": {
       "model_id": "411a81d7dc4844e1bc3cb360c2346dbf",
       "version_major": 2,
       "version_minor": 0
      },
      "text/plain": [
       "Training GP:   0%|          | 0/500 [00:00<?, ?it/s]"
      ]
     },
     "metadata": {},
     "output_type": "display_data"
    },
    {
     "name": "stdout",
     "output_type": "stream",
     "text": [
      "\n",
      "Run 8/10\n",
      "Initial points (x1, x2, x3, x4, x5, x6, f(x)):\n",
      "tensor([[ 0.6558,  0.3020,  0.4799,  0.7774,  0.9180,  0.9310, -0.0034],\n",
      "        [ 0.2604,  0.9534,  0.3804,  0.4104,  0.9510,  0.5686, -0.0738],\n",
      "        [ 0.1381,  0.2069,  0.5139,  0.4850,  0.5193,  0.3468, -0.6212],\n",
      "        [ 0.4477,  0.6316,  0.6947,  0.8215,  0.9111,  0.7315, -0.0142],\n",
      "        [ 0.4468,  0.0725,  0.9196,  0.7834,  0.9715,  0.5964, -0.0049],\n",
      "        [ 0.6265,  0.6688,  0.8898,  0.8178,  0.7261,  0.4066, -0.0778],\n",
      "        [ 0.2465,  0.5823,  0.8214,  0.4866,  0.9382,  0.1651, -0.7171],\n",
      "        [ 0.7763,  0.6066,  0.1668,  0.7295,  0.2111,  0.8447, -0.0533],\n",
      "        [ 0.7742,  0.0536,  0.7574,  0.5797,  0.7400,  0.7412, -0.0215],\n",
      "        [ 0.4269,  0.3049,  0.3977,  0.3234,  0.0525,  0.6908, -0.8874]])\n"
     ]
    },
    {
     "data": {
      "application/vnd.jupyter.widget-view+json": {
       "model_id": "196526b878a34d3b940ea2e68924c161",
       "version_major": 2,
       "version_minor": 0
      },
      "text/plain": [
       "Training GP:   0%|          | 0/500 [00:00<?, ?it/s]"
      ]
     },
     "metadata": {},
     "output_type": "display_data"
    },
    {
     "name": "stdout",
     "output_type": "stream",
     "text": [
      "Iteration 0, incumbent x=([0.4268999993801117, 0.30489999055862427, 0.3977000117301941, 0.32339999079704285, 0.05249999836087227, 0.6908000111579895]), f(x)=-0.8874\n"
     ]
    },
    {
     "data": {
      "application/vnd.jupyter.widget-view+json": {
       "model_id": "6c7a49b0160c47af88cab326869d8a41",
       "version_major": 2,
       "version_minor": 0
      },
      "text/plain": [
       "Training GP:   0%|          | 0/500 [00:00<?, ?it/s]"
      ]
     },
     "metadata": {},
     "output_type": "display_data"
    },
    {
     "name": "stdout",
     "output_type": "stream",
     "text": [
      "Iteration 1, incumbent x=([0.4268999993801117, 0.30489999055862427, 0.3977000117301941, 0.32339999079704285, 0.05249999836087227, 0.6908000111579895]), f(x)=-0.8874\n"
     ]
    },
    {
     "data": {
      "application/vnd.jupyter.widget-view+json": {
       "model_id": "0fdd8f6b892f4d2e8621a5ad2d17f78d",
       "version_major": 2,
       "version_minor": 0
      },
      "text/plain": [
       "Training GP:   0%|          | 0/500 [00:00<?, ?it/s]"
      ]
     },
     "metadata": {},
     "output_type": "display_data"
    },
    {
     "name": "stdout",
     "output_type": "stream",
     "text": [
      "Iteration 2, incumbent x=([0.43619999289512634, 0.31310001015663147, 0.39660000801086426, 0.3458999991416931, 0.07750000059604645, 0.691100001335144]), f(x)=-1.0290\n"
     ]
    },
    {
     "data": {
      "application/vnd.jupyter.widget-view+json": {
       "model_id": "358fd4726ce943c08e71e4210da602dd",
       "version_major": 2,
       "version_minor": 0
      },
      "text/plain": [
       "Training GP:   0%|          | 0/500 [00:00<?, ?it/s]"
      ]
     },
     "metadata": {},
     "output_type": "display_data"
    },
    {
     "name": "stdout",
     "output_type": "stream",
     "text": [
      "Iteration 3, incumbent x=([0.4366999864578247, 0.31520000100135803, 0.3986000120639801, 0.3587999939918518, 0.0966000035405159, 0.6869999766349792]), f(x)=-1.1559\n"
     ]
    },
    {
     "data": {
      "application/vnd.jupyter.widget-view+json": {
       "model_id": "1bc3033c57ae4f1580a8c2672ba02f63",
       "version_major": 2,
       "version_minor": 0
      },
      "text/plain": [
       "Training GP:   0%|          | 0/500 [00:00<?, ?it/s]"
      ]
     },
     "metadata": {},
     "output_type": "display_data"
    },
    {
     "name": "stdout",
     "output_type": "stream",
     "text": [
      "Iteration 4, incumbent x=([0.43059998750686646, 0.3142000138759613, 0.40450000762939453, 0.37310001254081726, 0.1281999945640564, 0.6771000027656555]), f(x)=-1.3973\n"
     ]
    },
    {
     "data": {
      "application/vnd.jupyter.widget-view+json": {
       "model_id": "b118846ece004d4abe6abee5086964d6",
       "version_major": 2,
       "version_minor": 0
      },
      "text/plain": [
       "Training GP:   0%|          | 0/500 [00:00<?, ?it/s]"
      ]
     },
     "metadata": {},
     "output_type": "display_data"
    },
    {
     "name": "stdout",
     "output_type": "stream",
     "text": [
      "Iteration 5, incumbent x=([0.4016000032424927, 0.3043999969959259, 0.4253999888896942, 0.4007999897003174, 0.21439999341964722, 0.6437000036239624]), f(x)=-2.0267\n"
     ]
    },
    {
     "data": {
      "application/vnd.jupyter.widget-view+json": {
       "model_id": "01f61036c9f445278302bb6b0e3f1f31",
       "version_major": 2,
       "version_minor": 0
      },
      "text/plain": [
       "Training GP:   0%|          | 0/500 [00:00<?, ?it/s]"
      ]
     },
     "metadata": {},
     "output_type": "display_data"
    },
    {
     "name": "stdout",
     "output_type": "stream",
     "text": [
      "Iteration 6, incumbent x=([0.3747999966144562, 0.29319998621940613, 0.4415999948978424, 0.4171999990940094, 0.2847999930381775, 0.6146000027656555]), f(x)=-2.2819\n"
     ]
    },
    {
     "data": {
      "application/vnd.jupyter.widget-view+json": {
       "model_id": "e84cf50bdd59450cbb7ce31e8be4cecc",
       "version_major": 2,
       "version_minor": 0
      },
      "text/plain": [
       "Training GP:   0%|          | 0/500 [00:00<?, ?it/s]"
      ]
     },
     "metadata": {},
     "output_type": "display_data"
    },
    {
     "name": "stdout",
     "output_type": "stream",
     "text": [
      "Iteration 7, incumbent x=([0.36880001425743103, 0.29089999198913574, 0.44530001282691956, 0.42080000042915344, 0.30000001192092896, 0.608299970626831]), f(x)=-2.2861\n"
     ]
    },
    {
     "data": {
      "application/vnd.jupyter.widget-view+json": {
       "model_id": "b77d9c0ca521408b8013f0016f3fdf05",
       "version_major": 2,
       "version_minor": 0
      },
      "text/plain": [
       "Training GP:   0%|          | 0/500 [00:00<?, ?it/s]"
      ]
     },
     "metadata": {},
     "output_type": "display_data"
    },
    {
     "name": "stdout",
     "output_type": "stream",
     "text": [
      "Iteration 8, incumbent x=([0.36880001425743103, 0.29089999198913574, 0.44530001282691956, 0.42080000042915344, 0.30000001192092896, 0.608299970626831]), f(x)=-2.2861\n"
     ]
    },
    {
     "data": {
      "application/vnd.jupyter.widget-view+json": {
       "model_id": "5228e94c5a53403c9fa836310a446326",
       "version_major": 2,
       "version_minor": 0
      },
      "text/plain": [
       "Training GP:   0%|          | 0/500 [00:00<?, ?it/s]"
      ]
     },
     "metadata": {},
     "output_type": "display_data"
    },
    {
     "name": "stdout",
     "output_type": "stream",
     "text": [
      "Iteration 9, incumbent x=([0.36880001425743103, 0.29089999198913574, 0.44530001282691956, 0.42080000042915344, 0.30000001192092896, 0.608299970626831]), f(x)=-2.2861\n"
     ]
    },
    {
     "data": {
      "application/vnd.jupyter.widget-view+json": {
       "model_id": "d48ea2b1357e410e81a6a0f1f6fdd61c",
       "version_major": 2,
       "version_minor": 0
      },
      "text/plain": [
       "Training GP:   0%|          | 0/500 [00:00<?, ?it/s]"
      ]
     },
     "metadata": {},
     "output_type": "display_data"
    },
    {
     "name": "stdout",
     "output_type": "stream",
     "text": [
      "\n",
      "Run 9/10\n",
      "Initial points (x1, x2, x3, x4, x5, x6, f(x)):\n",
      "tensor([[ 0.4581,  0.4829,  0.3125,  0.6150,  0.2139,  0.4118, -0.4362],\n",
      "        [ 0.6938,  0.9693,  0.6178,  0.3304,  0.5479,  0.4440, -0.0741],\n",
      "        [ 0.7041,  0.5573,  0.6959,  0.9849,  0.2924,  0.4823, -0.0201],\n",
      "        [ 0.6150,  0.4967,  0.4521,  0.0575,  0.0687,  0.0501, -0.0472],\n",
      "        [ 0.0108,  0.0343,  0.1212,  0.0490,  0.0310,  0.7192, -0.3576],\n",
      "        [ 0.8067,  0.8379,  0.7694,  0.6694,  0.7203,  0.2235, -0.1103],\n",
      "        [ 0.9502,  0.4655,  0.9314,  0.6533,  0.8914,  0.8988, -0.0057],\n",
      "        [ 0.3955,  0.3546,  0.5752,  0.4787,  0.5782,  0.7536, -0.5781],\n",
      "        [ 0.1093,  0.4771,  0.1076,  0.9829,  0.1483,  0.5956, -0.0098],\n",
      "        [ 0.3634,  0.7842,  0.5017,  0.4497,  0.8660,  0.9567, -0.0325]])\n"
     ]
    },
    {
     "data": {
      "application/vnd.jupyter.widget-view+json": {
       "model_id": "2b4285bf970b410a8f92f34a3c23f4ad",
       "version_major": 2,
       "version_minor": 0
      },
      "text/plain": [
       "Training GP:   0%|          | 0/500 [00:00<?, ?it/s]"
      ]
     },
     "metadata": {},
     "output_type": "display_data"
    },
    {
     "name": "stdout",
     "output_type": "stream",
     "text": [
      "Iteration 0, incumbent x=([0.3955000042915344, 0.3546000123023987, 0.5752000212669373, 0.4787999987602234, 0.5781999826431274, 0.753600001335144]), f(x)=-0.5781\n"
     ]
    },
    {
     "data": {
      "application/vnd.jupyter.widget-view+json": {
       "model_id": "fd29f24074614c0dbbe87de4e1d4dc4d",
       "version_major": 2,
       "version_minor": 0
      },
      "text/plain": [
       "Training GP:   0%|          | 0/500 [00:00<?, ?it/s]"
      ]
     },
     "metadata": {},
     "output_type": "display_data"
    },
    {
     "name": "stdout",
     "output_type": "stream",
     "text": [
      "Iteration 1, incumbent x=([0.39629998803138733, 0.3522000014781952, 0.5724999904632568, 0.4803999960422516, 0.571399986743927, 0.7479000091552734]), f(x)=-0.6071\n"
     ]
    },
    {
     "data": {
      "application/vnd.jupyter.widget-view+json": {
       "model_id": "07fba877fe83490f949e7dac6ca56d21",
       "version_major": 2,
       "version_minor": 0
      },
      "text/plain": [
       "Training GP:   0%|          | 0/500 [00:00<?, ?it/s]"
      ]
     },
     "metadata": {},
     "output_type": "display_data"
    },
    {
     "name": "stdout",
     "output_type": "stream",
     "text": [
      "Iteration 2, incumbent x=([0.39969998598098755, 0.34220001101493835, 0.5598000288009644, 0.48820000886917114, 0.5400000214576721, 0.7214000225067139]), f(x)=-0.7479\n"
     ]
    },
    {
     "data": {
      "application/vnd.jupyter.widget-view+json": {
       "model_id": "3c9cc01c98ae4f34b738fbeab89b4b13",
       "version_major": 2,
       "version_minor": 0
      },
      "text/plain": [
       "Training GP:   0%|          | 0/500 [00:00<?, ?it/s]"
      ]
     },
     "metadata": {},
     "output_type": "display_data"
    },
    {
     "name": "stdout",
     "output_type": "stream",
     "text": [
      "Iteration 3, incumbent x=([0.4011000096797943, 0.33809998631477356, 0.5544999837875366, 0.49140000343322754, 0.5270000100135803, 0.7103999853134155]), f(x)=-0.8096\n"
     ]
    },
    {
     "data": {
      "application/vnd.jupyter.widget-view+json": {
       "model_id": "9103b13a9e0e4cd2b1825b04aec301b0",
       "version_major": 2,
       "version_minor": 0
      },
      "text/plain": [
       "Training GP:   0%|          | 0/500 [00:00<?, ?it/s]"
      ]
     },
     "metadata": {},
     "output_type": "display_data"
    },
    {
     "name": "stdout",
     "output_type": "stream",
     "text": [
      "Iteration 4, incumbent x=([0.4032000005245209, 0.3319999873638153, 0.546500027179718, 0.49630001187324524, 0.5073999762535095, 0.6937999725341797]), f(x)=-0.9030\n"
     ]
    },
    {
     "data": {
      "application/vnd.jupyter.widget-view+json": {
       "model_id": "2868b72f666e4b4b81e95df4a8a8029b",
       "version_major": 2,
       "version_minor": 0
      },
      "text/plain": [
       "Training GP:   0%|          | 0/500 [00:00<?, ?it/s]"
      ]
     },
     "metadata": {},
     "output_type": "display_data"
    },
    {
     "name": "stdout",
     "output_type": "stream",
     "text": [
      "Iteration 5, incumbent x=([0.40619999170303345, 0.32359999418258667, 0.5349000096321106, 0.5031999945640564, 0.4796000123023987, 0.670199990272522]), f(x)=-1.0315\n"
     ]
    },
    {
     "data": {
      "application/vnd.jupyter.widget-view+json": {
       "model_id": "72b117079a08415ea239f3d1d3fede2a",
       "version_major": 2,
       "version_minor": 0
      },
      "text/plain": [
       "Training GP:   0%|          | 0/500 [00:00<?, ?it/s]"
      ]
     },
     "metadata": {},
     "output_type": "display_data"
    },
    {
     "name": "stdout",
     "output_type": "stream",
     "text": [
      "Iteration 6, incumbent x=([0.4092999994754791, 0.31520000100135803, 0.5227000117301941, 0.5105000138282776, 0.4505999982357025, 0.6456000208854675]), f(x)=-1.1493\n"
     ]
    },
    {
     "data": {
      "application/vnd.jupyter.widget-view+json": {
       "model_id": "d0f0b9d3769048e0a5b8de3c5968b6df",
       "version_major": 2,
       "version_minor": 0
      },
      "text/plain": [
       "Training GP:   0%|          | 0/500 [00:00<?, ?it/s]"
      ]
     },
     "metadata": {},
     "output_type": "display_data"
    },
    {
     "name": "stdout",
     "output_type": "stream",
     "text": [
      "Iteration 7, incumbent x=([0.4124000072479248, 0.3075999915599823, 0.5105999708175659, 0.5177000164985657, 0.42250001430511475, 0.6216999888420105]), f(x)=-1.2357\n"
     ]
    },
    {
     "data": {
      "application/vnd.jupyter.widget-view+json": {
       "model_id": "e4fe9ebb61584737b27c0ac183294584",
       "version_major": 2,
       "version_minor": 0
      },
      "text/plain": [
       "Training GP:   0%|          | 0/500 [00:00<?, ?it/s]"
      ]
     },
     "metadata": {},
     "output_type": "display_data"
    },
    {
     "name": "stdout",
     "output_type": "stream",
     "text": [
      "Iteration 8, incumbent x=([0.41510000824928284, 0.3012000024318695, 0.49970000982284546, 0.5238999724388123, 0.3977000117301941, 0.6003999710083008]), f(x)=-1.2822\n"
     ]
    },
    {
     "data": {
      "application/vnd.jupyter.widget-view+json": {
       "model_id": "2846a81ef4fc46e9975ab992a9502b0c",
       "version_major": 2,
       "version_minor": 0
      },
      "text/plain": [
       "Training GP:   0%|          | 0/500 [00:00<?, ?it/s]"
      ]
     },
     "metadata": {},
     "output_type": "display_data"
    },
    {
     "name": "stdout",
     "output_type": "stream",
     "text": [
      "Iteration 9, incumbent x=([0.41679999232292175, 0.2962000072002411, 0.4921000003814697, 0.527999997138977, 0.38029998540878296, 0.5856000185012817]), f(x)=-1.2983\n"
     ]
    },
    {
     "data": {
      "application/vnd.jupyter.widget-view+json": {
       "model_id": "28bade3d92d64eacaf97f0c71934f182",
       "version_major": 2,
       "version_minor": 0
      },
      "text/plain": [
       "Training GP:   0%|          | 0/500 [00:00<?, ?it/s]"
      ]
     },
     "metadata": {},
     "output_type": "display_data"
    },
    {
     "name": "stdout",
     "output_type": "stream",
     "text": [
      "\n",
      "Run 10/10\n",
      "Initial points (x1, x2, x3, x4, x5, x6, f(x)):\n",
      "tensor([[ 1.4904e-01,  4.8655e-01,  9.8566e-01,  1.6840e-01,  5.8394e-01,\n",
      "          6.9360e-01, -2.8161e-01],\n",
      "        [ 5.8308e-01,  1.2844e-01,  5.7212e-01,  9.2484e-01,  2.6934e-01,\n",
      "          7.8246e-01, -1.0025e-01],\n",
      "        [ 2.7189e-01,  4.6323e-01,  7.6713e-01,  5.0243e-01,  1.0250e-01,\n",
      "          7.6000e-01, -9.9130e-01],\n",
      "        [ 8.0354e-01,  7.6530e-01,  8.7090e-01,  7.2306e-01,  8.3643e-01,\n",
      "          5.8202e-01, -3.0332e-03],\n",
      "        [ 8.3947e-01,  5.9511e-02,  4.3149e-01,  4.4246e-01,  2.6217e-01,\n",
      "          6.3007e-01, -7.3562e-01],\n",
      "        [ 8.7751e-01,  1.6262e-01,  2.4380e-01,  3.3817e-01,  8.8474e-01,\n",
      "          7.6252e-02, -8.1534e-04],\n",
      "        [ 9.9003e-01,  1.9442e-01,  4.2555e-01,  4.3821e-01,  2.9877e-01,\n",
      "          8.4736e-01, -3.4928e-01],\n",
      "        [ 4.7849e-01,  1.9354e-01,  2.2387e-01,  5.6389e-01,  6.1249e-01,\n",
      "          2.2640e-01, -9.1488e-02],\n",
      "        [ 5.8527e-01,  1.8508e-01,  4.9201e-01,  7.1709e-01,  4.5784e-01,\n",
      "          3.5664e-01, -1.1765e-01],\n",
      "        [ 4.8311e-01,  6.7520e-01,  2.5246e-01,  5.2716e-01,  8.2810e-01,\n",
      "          4.9564e-01, -1.1345e-01]])\n"
     ]
    },
    {
     "data": {
      "application/vnd.jupyter.widget-view+json": {
       "model_id": "9cfa7994ce8c4385a7d377c1e8a45fb8",
       "version_major": 2,
       "version_minor": 0
      },
      "text/plain": [
       "Training GP:   0%|          | 0/500 [00:00<?, ?it/s]"
      ]
     },
     "metadata": {},
     "output_type": "display_data"
    },
    {
     "name": "stdout",
     "output_type": "stream",
     "text": [
      "Iteration 0, incumbent x=([0.2718999981880188, 0.46320000290870667, 0.7670999765396118, 0.5023999810218811, 0.10249999910593033, 0.7599999904632568]), f(x)=-0.9913\n"
     ]
    },
    {
     "data": {
      "application/vnd.jupyter.widget-view+json": {
       "model_id": "d4a327e31777442aa487f11c55375b12",
       "version_major": 2,
       "version_minor": 0
      },
      "text/plain": [
       "Training GP:   0%|          | 0/500 [00:00<?, ?it/s]"
      ]
     },
     "metadata": {},
     "output_type": "display_data"
    },
    {
     "name": "stdout",
     "output_type": "stream",
     "text": [
      "Iteration 1, incumbent x=([0.27059999108314514, 0.4648999869823456, 0.7681000232696533, 0.499099999666214, 0.1014999970793724, 0.7599999904632568]), f(x)=-0.9927\n"
     ]
    },
    {
     "data": {
      "application/vnd.jupyter.widget-view+json": {
       "model_id": "84c4028a907b44e1aeb2926457817f06",
       "version_major": 2,
       "version_minor": 0
      },
      "text/plain": [
       "Training GP:   0%|          | 0/500 [00:00<?, ?it/s]"
      ]
     },
     "metadata": {},
     "output_type": "display_data"
    },
    {
     "name": "stdout",
     "output_type": "stream",
     "text": [
      "Iteration 2, incumbent x=([0.26840001344680786, 0.46790000796318054, 0.7698000073432922, 0.49230000376701355, 0.09910000115633011, 0.7601000070571899]), f(x)=-0.9945\n"
     ]
    },
    {
     "data": {
      "application/vnd.jupyter.widget-view+json": {
       "model_id": "b6e896c91c7547e98d43c3307676e194",
       "version_major": 2,
       "version_minor": 0
      },
      "text/plain": [
       "Training GP:   0%|          | 0/500 [00:00<?, ?it/s]"
      ]
     },
     "metadata": {},
     "output_type": "display_data"
    },
    {
     "name": "stdout",
     "output_type": "stream",
     "text": [
      "Iteration 3, incumbent x=([0.26840001344680786, 0.46790000796318054, 0.7698000073432922, 0.49230000376701355, 0.09910000115633011, 0.7601000070571899]), f(x)=-0.9945\n"
     ]
    },
    {
     "data": {
      "application/vnd.jupyter.widget-view+json": {
       "model_id": "b2001732baa24e649ebb24a865628699",
       "version_major": 2,
       "version_minor": 0
      },
      "text/plain": [
       "Training GP:   0%|          | 0/500 [00:00<?, ?it/s]"
      ]
     },
     "metadata": {},
     "output_type": "display_data"
    },
    {
     "name": "stdout",
     "output_type": "stream",
     "text": [
      "Iteration 4, incumbent x=([0.2752000093460083, 0.46050000190734863, 0.7652000188827515, 0.4814999997615814, 0.0925000011920929, 0.7583000063896179]), f(x)=-0.9992\n"
     ]
    },
    {
     "data": {
      "application/vnd.jupyter.widget-view+json": {
       "model_id": "9498ad0257ed4963936830f8569f35e2",
       "version_major": 2,
       "version_minor": 0
      },
      "text/plain": [
       "Training GP:   0%|          | 0/500 [00:00<?, ?it/s]"
      ]
     },
     "metadata": {},
     "output_type": "display_data"
    },
    {
     "name": "stdout",
     "output_type": "stream",
     "text": [
      "Iteration 5, incumbent x=([0.2752000093460083, 0.46050000190734863, 0.7652000188827515, 0.4814999997615814, 0.0925000011920929, 0.7583000063896179]), f(x)=-0.9992\n"
     ]
    },
    {
     "data": {
      "application/vnd.jupyter.widget-view+json": {
       "model_id": "a084ce4a6f31421c8821abb224ae5cd6",
       "version_major": 2,
       "version_minor": 0
      },
      "text/plain": [
       "Training GP:   0%|          | 0/500 [00:00<?, ?it/s]"
      ]
     },
     "metadata": {},
     "output_type": "display_data"
    },
    {
     "name": "stdout",
     "output_type": "stream",
     "text": [
      "Iteration 6, incumbent x=([0.2752000093460083, 0.46050000190734863, 0.7652000188827515, 0.4814999997615814, 0.0925000011920929, 0.7583000063896179]), f(x)=-0.9992\n"
     ]
    },
    {
     "data": {
      "application/vnd.jupyter.widget-view+json": {
       "model_id": "bffba2a452df46b5a37225d1a806eefd",
       "version_major": 2,
       "version_minor": 0
      },
      "text/plain": [
       "Training GP:   0%|          | 0/500 [00:00<?, ?it/s]"
      ]
     },
     "metadata": {},
     "output_type": "display_data"
    },
    {
     "name": "stdout",
     "output_type": "stream",
     "text": [
      "Iteration 7, incumbent x=([0.29840001463890076, 0.4796999990940094, 0.7583000063896179, 0.4794999957084656, 0.11270000040531158, 0.756600022315979]), f(x)=-1.0296\n"
     ]
    },
    {
     "data": {
      "application/vnd.jupyter.widget-view+json": {
       "model_id": "5338d44b83974eb2b5a123d9cd39a78c",
       "version_major": 2,
       "version_minor": 0
      },
      "text/plain": [
       "Training GP:   0%|          | 0/500 [00:00<?, ?it/s]"
      ]
     },
     "metadata": {},
     "output_type": "display_data"
    },
    {
     "name": "stdout",
     "output_type": "stream",
     "text": [
      "Iteration 8, incumbent x=([0.32899999618530273, 0.498199999332428, 0.7479000091552734, 0.46560001373291016, 0.13019999861717224, 0.7533000111579895]), f(x)=-1.0603\n"
     ]
    },
    {
     "data": {
      "application/vnd.jupyter.widget-view+json": {
       "model_id": "e1f9d8076ec348c5aa017cc03e256a48",
       "version_major": 2,
       "version_minor": 0
      },
      "text/plain": [
       "Training GP:   0%|          | 0/500 [00:00<?, ?it/s]"
      ]
     },
     "metadata": {},
     "output_type": "display_data"
    },
    {
     "name": "stdout",
     "output_type": "stream",
     "text": [
      "Iteration 9, incumbent x=([0.35510000586509705, 0.51419997215271, 0.7386999726295471, 0.45260000228881836, 0.14309999346733093, 0.7508000135421753]), f(x)=-1.0738\n"
     ]
    },
    {
     "name": "stderr",
     "output_type": "stream",
     "text": [
      "/opt/anaconda3/envs/meng/lib/python3.10/site-packages/botorch/optim/optimize.py:677: RuntimeWarning: Optimization failed in `gen_candidates_scipy` with the following warning(s):\n",
      "[OptimizationWarning('Optimization failed within `scipy.optimize.minimize` with status 2 and message ABNORMAL_TERMINATION_IN_LNSRCH.')]\n",
      "Trying again with a new set of initial conditions.\n",
      "  return _optimize_acqf_batch(opt_inputs=opt_inputs)\n"
     ]
    },
    {
     "data": {
      "application/vnd.jupyter.widget-view+json": {
       "model_id": "6c851038a4ef47f4932da2aad9cbb4a2",
       "version_major": 2,
       "version_minor": 0
      },
      "text/plain": [
       "Training GP:   0%|          | 0/500 [00:00<?, ?it/s]"
      ]
     },
     "metadata": {},
     "output_type": "display_data"
    },
    {
     "name": "stderr",
     "output_type": "stream",
     "text": [
      "/opt/anaconda3/envs/meng/lib/python3.10/site-packages/botorch/optim/optimize.py:677: RuntimeWarning: Optimization failed in `gen_candidates_scipy` with the following warning(s):\n",
      "[OptimizationWarning('Optimization failed within `scipy.optimize.minimize` with status 2 and message ABNORMAL_TERMINATION_IN_LNSRCH.')]\n",
      "Trying again with a new set of initial conditions.\n",
      "  return _optimize_acqf_batch(opt_inputs=opt_inputs)\n"
     ]
    }
   ],
   "source": [
    "import torch\n",
    "import gpytorch\n",
    "import botorch\n",
    "import matplotlib.pyplot as plt\n",
    "import numpy as np\n",
    "\n",
    "plt.style.use(\"bmh\")\n",
    "\n",
    "from tqdm.notebook import tqdm\n",
    "\n",
    "class Hartmann:\n",
    "    \"\"\"Generic Hartmann in 3,4,6 dims on [0,1]^d.\"\"\"\n",
    "    _params = {\n",
    "        3: {\n",
    "            \"alpha\": torch.tensor([1.0,1.2,3.0,3.2]),\n",
    "            \"A\":     torch.tensor([[3.0,10,30],\n",
    "                                   [0.1,10,35],\n",
    "                                   [3.0,10,30],\n",
    "                                   [0.1,10,35]]),\n",
    "            \"P\":     torch.tensor([[3689,1170,2673],\n",
    "                                   [4699,4387,7470],\n",
    "                                   [1091,8732,5547],\n",
    "                                   [381,5743,8828]]) * 1e-4\n",
    "        },\n",
    "        4: {\n",
    "            \"alpha\": torch.tensor([1.0,1.2,3.0,3.2]),\n",
    "            \"A\":     torch.tensor([[10,3,17,3.5],\n",
    "                                   [0.05,10,17,0.1],\n",
    "                                   [3,3.5,1.7,10],\n",
    "                                   [17,8,0.05,10]]),\n",
    "            \"P\":     torch.tensor([[1312,1696,5569,124],\n",
    "                                   [2329,4135,8307,3736],\n",
    "                                   [2348,1451,3522,2883],\n",
    "                                   [4047,8828,8732,5743]]) * 1e-4\n",
    "        },\n",
    "        6: {\n",
    "            \"alpha\": torch.tensor([1.0,1.2,3.0,3.2]),\n",
    "            \"A\":     torch.tensor([[10,3,17,3.5,1.7,8],\n",
    "                                   [0.05,10,17,0.1,8,14],\n",
    "                                   [3,3.5,1.7,10,17,8],\n",
    "                                   [17,8,0.05,10,0.1,14]]),\n",
    "            \"P\":     torch.tensor([[1312,1696,5569,124,8283,5886],\n",
    "                                   [2329,4135,8307,3736,1004,9991],\n",
    "                                   [2348,1451,3522,2883,3047,6650],\n",
    "                                   [4047,8828,8732,5743,1091,381]]) * 1e-4\n",
    "        }\n",
    "    }\n",
    "\n",
    "    def __init__(self, dim=3):\n",
    "        assert dim in (3,4,6)\n",
    "        p = self._params[dim]\n",
    "        self.alpha, self.A, self.P = p[\"alpha\"], p[\"A\"], p[\"P\"]\n",
    "        self.bounds = torch.stack([torch.zeros(dim), torch.ones(dim)])\n",
    "\n",
    "    def __call__(self, x: torch.Tensor) -> torch.Tensor:\n",
    "        # x: (..., d)\n",
    "        d = x.size(-1)\n",
    "        inner = ((x.unsqueeze(-2) - self.P)**2 * self.A).sum(dim=-1)  # (..., 4)\n",
    "        return -(self.alpha * torch.exp(-inner)).sum(dim=-1)\n",
    "\n",
    "def visualize_gp_belief_and_policy(model, likelihood, policy=None, next_x=None):\n",
    "    # Disabled for 6D Hartmann function; kept for compatibility\n",
    "    pass\n",
    "\n",
    "class GPModel(gpytorch.models.ExactGP, botorch.models.gpytorch.GPyTorchModel):\n",
    "    _num_outputs = 1\n",
    "\n",
    "    def __init__(self, train_x, train_y, likelihood):\n",
    "        super().__init__(train_x, train_y, likelihood)\n",
    "        self.mean_module = gpytorch.means.ConstantMean()\n",
    "        self.covar_module = gpytorch.kernels.ScaleKernel(gpytorch.kernels.RBFKernel())\n",
    "\n",
    "    def forward(self, x):\n",
    "        mean_x = self.mean_module(x)\n",
    "        covar_x = self.covar_module(x)\n",
    "        return gpytorch.distributions.MultivariateNormal(mean_x, covar_x)\n",
    "\n",
    "def fit_gp_model(train_x, train_y, num_train_iters=500):\n",
    "    # Declare the GP\n",
    "    noise = 1e-4\n",
    "\n",
    "    likelihood = gpytorch.likelihoods.GaussianLikelihood()\n",
    "    model = GPModel(train_x, train_y, likelihood)\n",
    "    model.likelihood.noise = noise\n",
    "\n",
    "    # Train the hyperparameters\n",
    "    optimizer = torch.optim.Adam(model.parameters(), lr=0.01)\n",
    "    mll = gpytorch.mlls.ExactMarginalLogLikelihood(likelihood, model)\n",
    "\n",
    "    model.train()\n",
    "    likelihood.train()\n",
    "\n",
    "    for i in tqdm(range(num_train_iters), desc=\"Training GP\"):\n",
    "        optimizer.zero_grad()\n",
    "\n",
    "        output = model(train_x)\n",
    "        loss = -mll(output, train_y)\n",
    "\n",
    "        loss.backward()\n",
    "        optimizer.step()\n",
    "\n",
    "    model.eval()\n",
    "    likelihood.eval()\n",
    "\n",
    "    return model, likelihood\n",
    "\n",
    "# Initialize Hartmann function (6D) and bounds\n",
    "hartmann = Hartmann(dim=6)\n",
    "bounds = hartmann.bounds  # [[0, 0, 0, 0, 0, 0], [1, 1, 1, 1, 1, 1]]\n",
    "\n",
    "# Parameters\n",
    "n_initial_points = 10\n",
    "num_queries = 10\n",
    "num_runs = 10\n",
    "\n",
    "# Store minimum f(x) for each run\n",
    "all_min_f_values = []\n",
    "\n",
    "for run in range(num_runs):\n",
    "    print(f\"\\nRun {run + 1}/{num_runs}\")\n",
    "    \n",
    "    # Set different random seed for each run\n",
    "    torch.manual_seed(2 + run)\n",
    "    \n",
    "    # Initialize with 10 random points in [0, 1]^6\n",
    "    train_x = torch.rand(size=(n_initial_points, 6))  # Uniformly sampled in [0, 1]^6\n",
    "    train_y = hartmann(train_x)\n",
    "\n",
    "    # Print initial points and their function values\n",
    "    print(\"Initial points (x1, x2, x3, x4, x5, x6, f(x)):\")\n",
    "    print(torch.hstack([train_x, train_y.unsqueeze(1)]))\n",
    "\n",
    "    # Fit initial GP model\n",
    "    model, likelihood = fit_gp_model(train_x, train_y)\n",
    "\n",
    "    # Track minimum f(x) for this run\n",
    "    min_f_values = [train_y.min().item()]\n",
    "\n",
    "    # Run Bayesian optimization\n",
    "    for i in range(num_queries):\n",
    "        print(f\"Iteration {i}, incumbent x=({train_x[train_y.argmin()].numpy().round(4).tolist()}), f(x)={train_y.min().item():.4f}\")\n",
    "\n",
    "        model, likelihood = fit_gp_model(train_x, train_y)\n",
    "\n",
    "        policy = botorch.acquisition.analytic.ProbabilityOfImprovement(\n",
    "            model, best_f=train_y.min(), maximize=False\n",
    "        )\n",
    "        \n",
    "        next_x, acq_val = botorch.optim.optimize_acqf(\n",
    "            policy,\n",
    "            bounds=bounds,\n",
    "            q=1,\n",
    "            num_restarts=20,\n",
    "            raw_samples=50,\n",
    "        )\n",
    "\n",
    "        next_y = hartmann(next_x)\n",
    "\n",
    "        # Ensure next_y is 1D with shape (1,)\n",
    "        next_y = next_y.unsqueeze(0) if next_y.dim() == 0 else next_y\n",
    "\n",
    "        train_x = torch.cat([train_x, next_x])\n",
    "        train_y = torch.cat([train_y, next_y])\n",
    "        \n",
    "        # Store the minimum f(x)\n",
    "        min_f_values.append(train_y.min().item())\n",
    "\n",
    "    # Store results for this run\n",
    "    all_min_f_values.append(min_f_values)\n",
    "\n",
    "    # Plot minimum f(x) vs iteration for this run\n",
    "    plt.figure(figsize=(8, 6))\n",
    "    plt.plot(range(num_queries + 1), min_f_values, marker='o', linestyle='-', color='b')\n",
    "    plt.xlabel('Iteration')\n",
    "    plt.ylabel('Minimum f(x)')\n",
    "    plt.title(f'Minimum f(x) vs Iteration (Run {run + 1})')\n",
    "    plt.grid(True)\n",
    "    plt.savefig(f'min_f_vs_iteration_run_{run + 1}.png')\n",
    "    plt.close()\n",
    "\n",
    "# Convert to numpy array for easier computation\n",
    "all_min_f_values = np.array(all_min_f_values)  # Shape: (num_runs, num_queries + 1)\n",
    "\n",
    "# Compute mean, std, and 95% CI\n",
    "mean_f = np.mean(all_min_f_values, axis=0)\n",
    "std_f = np.std(all_min_f_values, axis=0)\n",
    "ci_95 = 1.96 * std_f / np.sqrt(num_runs)  # 95% CI: z=1.96 for normal distribution\n",
    "\n",
    "# Plot convergence with mean, std, and CI\n",
    "plt.figure(figsize=(10, 6))\n",
    "iterations = range(num_queries + 1)\n",
    "\n",
    "# Plot mean\n",
    "plt.plot(iterations, mean_f, marker='o', linestyle='-', color='b', label='Mean Minimum f(x)')\n",
    "\n",
    "# Plot 95% CI\n",
    "plt.fill_between(\n",
    "    iterations,\n",
    "    mean_f - ci_95,\n",
    "    mean_f + ci_95,\n",
    "    color='b',\n",
    "    alpha=0.2,\n",
    "    label='95% Confidence Interval'\n",
    ")\n",
    "\n",
    "# Plot mean ± std\n",
    "plt.fill_between(\n",
    "    iterations,\n",
    "    mean_f - std_f,\n",
    "    mean_f + std_f,\n",
    "    color='g',\n",
    "    alpha=0.1,\n",
    "    label='Mean ± Std'\n",
    ")\n",
    "\n",
    "plt.xlabel('Iteration')\n",
    "plt.ylabel('Minimum f(x)')\n",
    "plt.title('Convergence Plot: Mean, Std, and 95% CI over 10 Runs (Hartmann 6D)')\n",
    "plt.grid(True)\n",
    "plt.legend()\n",
    "plt.savefig('convergence_plot.png')\n",
    "plt.close()"
   ]
  }
 ],
 "metadata": {
  "kernelspec": {
   "display_name": "meng",
   "language": "python",
   "name": "python3"
  },
  "language_info": {
   "codemirror_mode": {
    "name": "ipython",
    "version": 3
   },
   "file_extension": ".py",
   "mimetype": "text/x-python",
   "name": "python",
   "nbconvert_exporter": "python",
   "pygments_lexer": "ipython3",
   "version": "3.10.16"
  }
 },
 "nbformat": 4,
 "nbformat_minor": 2
}
