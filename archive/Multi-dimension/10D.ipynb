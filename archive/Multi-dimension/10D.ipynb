{
 "cells": [
  {
   "cell_type": "code",
   "execution_count": 3,
   "metadata": {},
   "outputs": [
    {
     "name": "stdout",
     "output_type": "stream",
     "text": [
      "\n",
      "Run 1/10\n",
      "Initial points (x1, ..., x10, f(x)):\n",
      "tensor([[ 2.2939e+00, -2.3797e+00,  2.7423e+00, -5.1078e-01,  4.2719e+00,\n",
      "          2.3807e+00, -1.1493e+00, -8.0846e+00,  2.2831e+00, -8.8534e+00,\n",
      "          2.8702e+01],\n",
      "        [ 1.3143e+00,  6.6458e-01, -2.1990e+00,  8.1770e+00,  6.6737e-01,\n",
      "          4.1468e+00,  4.2319e+00, -5.8993e+00, -3.8443e+00,  9.6172e+00,\n",
      "          5.8286e+01],\n",
      "        [-9.7948e+00, -6.7918e-01, -7.9250e-01,  7.0931e+00, -9.5070e-01,\n",
      "          2.6332e+00, -4.8004e-01, -5.5995e+00, -5.6679e+00, -4.8583e+00,\n",
      "          1.3158e+02],\n",
      "        [-9.0840e+00, -6.4898e+00,  2.3535e+00,  6.5815e+00,  4.9262e-01,\n",
      "         -4.5839e+00,  4.3948e+00, -3.8387e+00, -2.2152e+00, -5.4821e+00,\n",
      "          1.0202e+02],\n",
      "        [-3.1400e+00, -9.2660e+00,  4.2669e+00,  3.8884e+00,  1.9863e+00,\n",
      "          4.9098e+00,  4.2383e+00,  4.4243e-01,  1.0591e+00,  7.6361e-01,\n",
      "          5.8570e+01],\n",
      "        [ 5.3360e+00,  6.7175e+00,  7.1815e+00,  5.7961e+00, -2.4381e+00,\n",
      "         -4.4518e-01, -2.0322e+00,  5.8173e+00,  1.1106e+00,  9.2554e+00,\n",
      "          8.1679e+01],\n",
      "        [ 5.0719e+00, -8.5466e+00,  2.9253e+00,  9.6087e+00,  8.8824e+00,\n",
      "         -1.5715e-01,  3.3175e+00, -9.3805e+00, -3.1880e+00,  4.8764e+00,\n",
      "          1.5187e+02],\n",
      "        [-9.1096e+00,  8.7120e+00, -6.5762e+00,  3.1622e+00, -3.7858e-01,\n",
      "          1.7622e+00,  9.6885e-01, -9.3483e+00, -2.1480e+00, -6.3211e+00,\n",
      "          1.4867e+02],\n",
      "        [ 8.5015e+00, -1.2275e+00, -9.9572e+00,  2.4220e+00,  4.3427e+00,\n",
      "         -4.4766e+00, -9.3808e-01,  4.3231e+00, -6.2221e+00, -5.2862e+00,\n",
      "          1.4218e+02],\n",
      "        [-9.6466e-01, -7.0225e+00,  6.1460e+00,  8.1791e-01,  5.9830e+00,\n",
      "          5.3536e+00, -7.7066e+00, -6.2329e+00, -6.8398e+00, -3.2140e+00,\n",
      "          1.6454e+02]])\n"
     ]
    },
    {
     "data": {
      "application/vnd.jupyter.widget-view+json": {
       "model_id": "81ebde12bff04a1f9bbe4715da859873",
       "version_major": 2,
       "version_minor": 0
      },
      "text/plain": [
       "Training GP:   0%|          | 0/500 [00:00<?, ?it/s]"
      ]
     },
     "metadata": {},
     "output_type": "display_data"
    },
    {
     "name": "stdout",
     "output_type": "stream",
     "text": [
      "Iteration 0, incumbent x=([2.2939000129699707, -2.379699945449829, 2.742300033569336, -0.5108000040054321, 4.271900177001953, 2.38070011138916, -1.1492999792099, -8.084600448608398, 2.283099889755249, -8.853400230407715]), f(x)=28.7018\n"
     ]
    },
    {
     "data": {
      "application/vnd.jupyter.widget-view+json": {
       "model_id": "65acc142fa81411baef1881e16bdf90c",
       "version_major": 2,
       "version_minor": 0
      },
      "text/plain": [
       "Training GP:   0%|          | 0/500 [00:00<?, ?it/s]"
      ]
     },
     "metadata": {},
     "output_type": "display_data"
    },
    {
     "name": "stdout",
     "output_type": "stream",
     "text": [
      "Iteration 1, incumbent x=([2.2939000129699707, -2.379699945449829, 2.742300033569336, -0.5108000040054321, 4.271900177001953, 2.38070011138916, -1.1492999792099, -8.084600448608398, 2.283099889755249, -8.853400230407715]), f(x)=28.7018\n"
     ]
    },
    {
     "data": {
      "application/vnd.jupyter.widget-view+json": {
       "model_id": "594a8deab24e46268b784f44b6200e61",
       "version_major": 2,
       "version_minor": 0
      },
      "text/plain": [
       "Training GP:   0%|          | 0/500 [00:00<?, ?it/s]"
      ]
     },
     "metadata": {},
     "output_type": "display_data"
    },
    {
     "name": "stdout",
     "output_type": "stream",
     "text": [
      "Iteration 2, incumbent x=([2.2939000129699707, -2.379699945449829, 2.742300033569336, -0.5108000040054321, 4.271900177001953, 2.38070011138916, -1.1492999792099, -8.084600448608398, 2.283099889755249, -8.853400230407715]), f(x)=28.7018\n"
     ]
    },
    {
     "data": {
      "application/vnd.jupyter.widget-view+json": {
       "model_id": "eabf7d1ff63442608d9280e5d8441e63",
       "version_major": 2,
       "version_minor": 0
      },
      "text/plain": [
       "Training GP:   0%|          | 0/500 [00:00<?, ?it/s]"
      ]
     },
     "metadata": {},
     "output_type": "display_data"
    },
    {
     "name": "stdout",
     "output_type": "stream",
     "text": [
      "Iteration 3, incumbent x=([2.2939000129699707, -2.379699945449829, 2.742300033569336, -0.5108000040054321, 4.271900177001953, 2.38070011138916, -1.1492999792099, -8.084600448608398, 2.283099889755249, -8.853400230407715]), f(x)=28.7018\n"
     ]
    },
    {
     "data": {
      "application/vnd.jupyter.widget-view+json": {
       "model_id": "75c2623767f2468a84928b7f07c1e8d7",
       "version_major": 2,
       "version_minor": 0
      },
      "text/plain": [
       "Training GP:   0%|          | 0/500 [00:00<?, ?it/s]"
      ]
     },
     "metadata": {},
     "output_type": "display_data"
    },
    {
     "name": "stdout",
     "output_type": "stream",
     "text": [
      "Iteration 4, incumbent x=([2.2939000129699707, -2.379699945449829, 2.742300033569336, -0.5108000040054321, 4.271900177001953, 2.38070011138916, -1.1492999792099, -8.084600448608398, 2.283099889755249, -8.853400230407715]), f(x)=28.7018\n"
     ]
    },
    {
     "data": {
      "application/vnd.jupyter.widget-view+json": {
       "model_id": "4395e1a9cd014afc9b9f80dcbd0b2287",
       "version_major": 2,
       "version_minor": 0
      },
      "text/plain": [
       "Training GP:   0%|          | 0/500 [00:00<?, ?it/s]"
      ]
     },
     "metadata": {},
     "output_type": "display_data"
    },
    {
     "name": "stdout",
     "output_type": "stream",
     "text": [
      "Iteration 5, incumbent x=([2.2939000129699707, -2.379699945449829, 2.742300033569336, -0.5108000040054321, 4.271900177001953, 2.38070011138916, -1.1492999792099, -8.084600448608398, 2.283099889755249, -8.853400230407715]), f(x)=28.7018\n"
     ]
    },
    {
     "data": {
      "application/vnd.jupyter.widget-view+json": {
       "model_id": "e541dd4d407f4721ac9b93bfd9d62a57",
       "version_major": 2,
       "version_minor": 0
      },
      "text/plain": [
       "Training GP:   0%|          | 0/500 [00:00<?, ?it/s]"
      ]
     },
     "metadata": {},
     "output_type": "display_data"
    },
    {
     "name": "stdout",
     "output_type": "stream",
     "text": [
      "Iteration 6, incumbent x=([2.2939000129699707, -2.379699945449829, 2.742300033569336, -0.5108000040054321, 4.271900177001953, 2.38070011138916, -1.1492999792099, -8.084600448608398, 2.283099889755249, -8.853400230407715]), f(x)=28.7018\n"
     ]
    },
    {
     "data": {
      "application/vnd.jupyter.widget-view+json": {
       "model_id": "0a66b141a43e4531992e4d0129f58313",
       "version_major": 2,
       "version_minor": 0
      },
      "text/plain": [
       "Training GP:   0%|          | 0/500 [00:00<?, ?it/s]"
      ]
     },
     "metadata": {},
     "output_type": "display_data"
    },
    {
     "name": "stdout",
     "output_type": "stream",
     "text": [
      "Iteration 7, incumbent x=([2.2939000129699707, -2.379699945449829, 2.742300033569336, -0.5108000040054321, 4.271900177001953, 2.38070011138916, -1.1492999792099, -8.084600448608398, 2.283099889755249, -8.853400230407715]), f(x)=28.7018\n"
     ]
    },
    {
     "data": {
      "application/vnd.jupyter.widget-view+json": {
       "model_id": "4fd060d9b3ac4deca3dc8336f525402f",
       "version_major": 2,
       "version_minor": 0
      },
      "text/plain": [
       "Training GP:   0%|          | 0/500 [00:00<?, ?it/s]"
      ]
     },
     "metadata": {},
     "output_type": "display_data"
    },
    {
     "name": "stdout",
     "output_type": "stream",
     "text": [
      "Iteration 8, incumbent x=([2.2939000129699707, -2.379699945449829, 2.742300033569336, -0.5108000040054321, 4.271900177001953, 2.38070011138916, -1.1492999792099, -8.084600448608398, 2.283099889755249, -8.853400230407715]), f(x)=28.7018\n"
     ]
    },
    {
     "data": {
      "application/vnd.jupyter.widget-view+json": {
       "model_id": "683195ea68e947a2836a89328d74a4cb",
       "version_major": 2,
       "version_minor": 0
      },
      "text/plain": [
       "Training GP:   0%|          | 0/500 [00:00<?, ?it/s]"
      ]
     },
     "metadata": {},
     "output_type": "display_data"
    },
    {
     "name": "stdout",
     "output_type": "stream",
     "text": [
      "Iteration 9, incumbent x=([2.2939000129699707, -2.379699945449829, 2.742300033569336, -0.5108000040054321, 4.271900177001953, 2.38070011138916, -1.1492999792099, -8.084600448608398, 2.283099889755249, -8.853400230407715]), f(x)=28.7018\n"
     ]
    },
    {
     "data": {
      "application/vnd.jupyter.widget-view+json": {
       "model_id": "df88fcf5fa4c4190986034b200352676",
       "version_major": 2,
       "version_minor": 0
      },
      "text/plain": [
       "Training GP:   0%|          | 0/500 [00:00<?, ?it/s]"
      ]
     },
     "metadata": {},
     "output_type": "display_data"
    },
    {
     "name": "stdout",
     "output_type": "stream",
     "text": [
      "Iteration 10, incumbent x=([2.2939000129699707, -2.379699945449829, 2.742300033569336, -0.5108000040054321, 4.271900177001953, 2.38070011138916, -1.1492999792099, -8.084600448608398, 2.283099889755249, -8.853400230407715]), f(x)=28.7018\n"
     ]
    },
    {
     "data": {
      "application/vnd.jupyter.widget-view+json": {
       "model_id": "f9959cf5903c4b4886c10661ca019b3b",
       "version_major": 2,
       "version_minor": 0
      },
      "text/plain": [
       "Training GP:   0%|          | 0/500 [00:00<?, ?it/s]"
      ]
     },
     "metadata": {},
     "output_type": "display_data"
    },
    {
     "name": "stdout",
     "output_type": "stream",
     "text": [
      "Iteration 11, incumbent x=([2.2939000129699707, -2.379699945449829, 2.742300033569336, -0.5108000040054321, 4.271900177001953, 2.38070011138916, -1.1492999792099, -8.084600448608398, 2.283099889755249, -8.853400230407715]), f(x)=28.7018\n"
     ]
    },
    {
     "data": {
      "application/vnd.jupyter.widget-view+json": {
       "model_id": "26a66f61c8114e6a8b519bdac1fb02a6",
       "version_major": 2,
       "version_minor": 0
      },
      "text/plain": [
       "Training GP:   0%|          | 0/500 [00:00<?, ?it/s]"
      ]
     },
     "metadata": {},
     "output_type": "display_data"
    },
    {
     "name": "stdout",
     "output_type": "stream",
     "text": [
      "Iteration 12, incumbent x=([2.2939000129699707, -2.379699945449829, 2.742300033569336, -0.5108000040054321, 4.271900177001953, 2.38070011138916, -1.1492999792099, -8.084600448608398, 2.283099889755249, -8.853400230407715]), f(x)=28.7018\n"
     ]
    },
    {
     "data": {
      "application/vnd.jupyter.widget-view+json": {
       "model_id": "97336d00516e4a4ab68e6e485d7c82be",
       "version_major": 2,
       "version_minor": 0
      },
      "text/plain": [
       "Training GP:   0%|          | 0/500 [00:00<?, ?it/s]"
      ]
     },
     "metadata": {},
     "output_type": "display_data"
    },
    {
     "name": "stdout",
     "output_type": "stream",
     "text": [
      "Iteration 13, incumbent x=([2.2939000129699707, -2.379699945449829, 2.742300033569336, -0.5108000040054321, 4.271900177001953, 2.38070011138916, -1.1492999792099, -8.084600448608398, 2.283099889755249, -8.853400230407715]), f(x)=28.7018\n"
     ]
    },
    {
     "data": {
      "application/vnd.jupyter.widget-view+json": {
       "model_id": "73ca3e3f7b264489a73d65aab6575387",
       "version_major": 2,
       "version_minor": 0
      },
      "text/plain": [
       "Training GP:   0%|          | 0/500 [00:00<?, ?it/s]"
      ]
     },
     "metadata": {},
     "output_type": "display_data"
    },
    {
     "name": "stdout",
     "output_type": "stream",
     "text": [
      "Iteration 14, incumbent x=([2.2939000129699707, -2.379699945449829, 2.742300033569336, -0.5108000040054321, 4.271900177001953, 2.38070011138916, -1.1492999792099, -8.084600448608398, 2.283099889755249, -8.853400230407715]), f(x)=28.7018\n"
     ]
    },
    {
     "data": {
      "application/vnd.jupyter.widget-view+json": {
       "model_id": "97c8add41c9b46bb95977f1d6e341fe5",
       "version_major": 2,
       "version_minor": 0
      },
      "text/plain": [
       "Training GP:   0%|          | 0/500 [00:00<?, ?it/s]"
      ]
     },
     "metadata": {},
     "output_type": "display_data"
    },
    {
     "name": "stdout",
     "output_type": "stream",
     "text": [
      "Iteration 15, incumbent x=([2.2939000129699707, -2.379699945449829, 2.742300033569336, -0.5108000040054321, 4.271900177001953, 2.38070011138916, -1.1492999792099, -8.084600448608398, 2.283099889755249, -8.853400230407715]), f(x)=28.7018\n"
     ]
    },
    {
     "data": {
      "application/vnd.jupyter.widget-view+json": {
       "model_id": "d1f7e53a88604c75a99e20a8223bc3e2",
       "version_major": 2,
       "version_minor": 0
      },
      "text/plain": [
       "Training GP:   0%|          | 0/500 [00:00<?, ?it/s]"
      ]
     },
     "metadata": {},
     "output_type": "display_data"
    },
    {
     "name": "stdout",
     "output_type": "stream",
     "text": [
      "Iteration 16, incumbent x=([2.2939000129699707, -2.379699945449829, 2.742300033569336, -0.5108000040054321, 4.271900177001953, 2.38070011138916, -1.1492999792099, -8.084600448608398, 2.283099889755249, -8.853400230407715]), f(x)=28.7018\n"
     ]
    },
    {
     "data": {
      "application/vnd.jupyter.widget-view+json": {
       "model_id": "04d72549bdd04a619e7a2ef039210f07",
       "version_major": 2,
       "version_minor": 0
      },
      "text/plain": [
       "Training GP:   0%|          | 0/500 [00:00<?, ?it/s]"
      ]
     },
     "metadata": {},
     "output_type": "display_data"
    },
    {
     "name": "stdout",
     "output_type": "stream",
     "text": [
      "Iteration 17, incumbent x=([2.2939000129699707, -2.379699945449829, 2.742300033569336, -0.5108000040054321, 4.271900177001953, 2.38070011138916, -1.1492999792099, -8.084600448608398, 2.283099889755249, -8.853400230407715]), f(x)=28.7018\n"
     ]
    },
    {
     "data": {
      "application/vnd.jupyter.widget-view+json": {
       "model_id": "2442faef6a754792830179df9f4cfd0c",
       "version_major": 2,
       "version_minor": 0
      },
      "text/plain": [
       "Training GP:   0%|          | 0/500 [00:00<?, ?it/s]"
      ]
     },
     "metadata": {},
     "output_type": "display_data"
    },
    {
     "name": "stdout",
     "output_type": "stream",
     "text": [
      "Iteration 18, incumbent x=([2.2939000129699707, -2.379699945449829, 2.742300033569336, -0.5108000040054321, 4.271900177001953, 2.38070011138916, -1.1492999792099, -8.084600448608398, 2.283099889755249, -8.853400230407715]), f(x)=28.7018\n"
     ]
    },
    {
     "data": {
      "application/vnd.jupyter.widget-view+json": {
       "model_id": "5003ea00f5634f92940b26e44272499a",
       "version_major": 2,
       "version_minor": 0
      },
      "text/plain": [
       "Training GP:   0%|          | 0/500 [00:00<?, ?it/s]"
      ]
     },
     "metadata": {},
     "output_type": "display_data"
    },
    {
     "name": "stdout",
     "output_type": "stream",
     "text": [
      "Iteration 19, incumbent x=([2.2939000129699707, -2.379699945449829, 2.742300033569336, -0.5108000040054321, 4.271900177001953, 2.38070011138916, -1.1492999792099, -8.084600448608398, 2.283099889755249, -8.853400230407715]), f(x)=28.7018\n"
     ]
    },
    {
     "data": {
      "application/vnd.jupyter.widget-view+json": {
       "model_id": "49130c1821844a188d314a7b8b84336e",
       "version_major": 2,
       "version_minor": 0
      },
      "text/plain": [
       "Training GP:   0%|          | 0/500 [00:00<?, ?it/s]"
      ]
     },
     "metadata": {},
     "output_type": "display_data"
    },
    {
     "name": "stdout",
     "output_type": "stream",
     "text": [
      "Iteration 20, incumbent x=([2.2939000129699707, -2.379699945449829, 2.742300033569336, -0.5108000040054321, 4.271900177001953, 2.38070011138916, -1.1492999792099, -8.084600448608398, 2.283099889755249, -8.853400230407715]), f(x)=28.7018\n"
     ]
    },
    {
     "data": {
      "application/vnd.jupyter.widget-view+json": {
       "model_id": "3b6fbd724b2f4475ac279c7274709e01",
       "version_major": 2,
       "version_minor": 0
      },
      "text/plain": [
       "Training GP:   0%|          | 0/500 [00:00<?, ?it/s]"
      ]
     },
     "metadata": {},
     "output_type": "display_data"
    },
    {
     "name": "stdout",
     "output_type": "stream",
     "text": [
      "Iteration 21, incumbent x=([2.2939000129699707, -2.379699945449829, 2.742300033569336, -0.5108000040054321, 4.271900177001953, 2.38070011138916, -1.1492999792099, -8.084600448608398, 2.283099889755249, -8.853400230407715]), f(x)=28.7018\n"
     ]
    },
    {
     "data": {
      "application/vnd.jupyter.widget-view+json": {
       "model_id": "4e7c52f47e9042deba912d29244c67d1",
       "version_major": 2,
       "version_minor": 0
      },
      "text/plain": [
       "Training GP:   0%|          | 0/500 [00:00<?, ?it/s]"
      ]
     },
     "metadata": {},
     "output_type": "display_data"
    },
    {
     "name": "stdout",
     "output_type": "stream",
     "text": [
      "Iteration 22, incumbent x=([2.2939000129699707, -2.379699945449829, 2.742300033569336, -0.5108000040054321, 4.271900177001953, 2.38070011138916, -1.1492999792099, -8.084600448608398, 2.283099889755249, -8.853400230407715]), f(x)=28.7018\n"
     ]
    },
    {
     "data": {
      "application/vnd.jupyter.widget-view+json": {
       "model_id": "07a296b8aed94471b37a66d8c7e12cf4",
       "version_major": 2,
       "version_minor": 0
      },
      "text/plain": [
       "Training GP:   0%|          | 0/500 [00:00<?, ?it/s]"
      ]
     },
     "metadata": {},
     "output_type": "display_data"
    },
    {
     "name": "stdout",
     "output_type": "stream",
     "text": [
      "Iteration 23, incumbent x=([2.2939000129699707, -2.379699945449829, 2.742300033569336, -0.5108000040054321, 4.271900177001953, 2.38070011138916, -1.1492999792099, -8.084600448608398, 2.283099889755249, -8.853400230407715]), f(x)=28.7018\n"
     ]
    },
    {
     "data": {
      "application/vnd.jupyter.widget-view+json": {
       "model_id": "04c059464f9d45a3a16ecd1c438aef04",
       "version_major": 2,
       "version_minor": 0
      },
      "text/plain": [
       "Training GP:   0%|          | 0/500 [00:00<?, ?it/s]"
      ]
     },
     "metadata": {},
     "output_type": "display_data"
    },
    {
     "name": "stdout",
     "output_type": "stream",
     "text": [
      "Iteration 24, incumbent x=([2.2939000129699707, -2.379699945449829, 2.742300033569336, -0.5108000040054321, 4.271900177001953, 2.38070011138916, -1.1492999792099, -8.084600448608398, 2.283099889755249, -8.853400230407715]), f(x)=28.7018\n"
     ]
    },
    {
     "data": {
      "application/vnd.jupyter.widget-view+json": {
       "model_id": "38e07664736c45edaf70880e5df48336",
       "version_major": 2,
       "version_minor": 0
      },
      "text/plain": [
       "Training GP:   0%|          | 0/500 [00:00<?, ?it/s]"
      ]
     },
     "metadata": {},
     "output_type": "display_data"
    },
    {
     "name": "stdout",
     "output_type": "stream",
     "text": [
      "Iteration 25, incumbent x=([2.2939000129699707, -2.379699945449829, 2.742300033569336, -0.5108000040054321, 4.271900177001953, 2.38070011138916, -1.1492999792099, -8.084600448608398, 2.283099889755249, -8.853400230407715]), f(x)=28.7018\n"
     ]
    },
    {
     "data": {
      "application/vnd.jupyter.widget-view+json": {
       "model_id": "8e218ca096ae492290a6754422e15a98",
       "version_major": 2,
       "version_minor": 0
      },
      "text/plain": [
       "Training GP:   0%|          | 0/500 [00:00<?, ?it/s]"
      ]
     },
     "metadata": {},
     "output_type": "display_data"
    },
    {
     "name": "stdout",
     "output_type": "stream",
     "text": [
      "Iteration 26, incumbent x=([2.2939000129699707, -2.379699945449829, 2.742300033569336, -0.5108000040054321, 4.271900177001953, 2.38070011138916, -1.1492999792099, -8.084600448608398, 2.283099889755249, -8.853400230407715]), f(x)=28.7018\n"
     ]
    },
    {
     "data": {
      "application/vnd.jupyter.widget-view+json": {
       "model_id": "ab8e3d2ecf884783b892d14f86aaa46c",
       "version_major": 2,
       "version_minor": 0
      },
      "text/plain": [
       "Training GP:   0%|          | 0/500 [00:00<?, ?it/s]"
      ]
     },
     "metadata": {},
     "output_type": "display_data"
    },
    {
     "name": "stdout",
     "output_type": "stream",
     "text": [
      "Iteration 27, incumbent x=([2.2939000129699707, -2.379699945449829, 2.742300033569336, -0.5108000040054321, 4.271900177001953, 2.38070011138916, -1.1492999792099, -8.084600448608398, 2.283099889755249, -8.853400230407715]), f(x)=28.7018\n"
     ]
    },
    {
     "data": {
      "application/vnd.jupyter.widget-view+json": {
       "model_id": "31ececc8e9924467b910a658813acca6",
       "version_major": 2,
       "version_minor": 0
      },
      "text/plain": [
       "Training GP:   0%|          | 0/500 [00:00<?, ?it/s]"
      ]
     },
     "metadata": {},
     "output_type": "display_data"
    },
    {
     "name": "stdout",
     "output_type": "stream",
     "text": [
      "Iteration 28, incumbent x=([2.2939000129699707, -2.379699945449829, 2.742300033569336, -0.5108000040054321, 4.271900177001953, 2.38070011138916, -1.1492999792099, -8.084600448608398, 2.283099889755249, -8.853400230407715]), f(x)=28.7018\n"
     ]
    },
    {
     "data": {
      "application/vnd.jupyter.widget-view+json": {
       "model_id": "64179ac4828f4d24bea633aed9ebf694",
       "version_major": 2,
       "version_minor": 0
      },
      "text/plain": [
       "Training GP:   0%|          | 0/500 [00:00<?, ?it/s]"
      ]
     },
     "metadata": {},
     "output_type": "display_data"
    },
    {
     "name": "stdout",
     "output_type": "stream",
     "text": [
      "Iteration 29, incumbent x=([2.2939000129699707, -2.379699945449829, 2.742300033569336, -0.5108000040054321, 4.271900177001953, 2.38070011138916, -1.1492999792099, -8.084600448608398, 2.283099889755249, -8.853400230407715]), f(x)=28.7018\n"
     ]
    },
    {
     "data": {
      "application/vnd.jupyter.widget-view+json": {
       "model_id": "39a27f5d59a9464d9c76da3620c171ea",
       "version_major": 2,
       "version_minor": 0
      },
      "text/plain": [
       "Training GP:   0%|          | 0/500 [00:00<?, ?it/s]"
      ]
     },
     "metadata": {},
     "output_type": "display_data"
    },
    {
     "name": "stdout",
     "output_type": "stream",
     "text": [
      "Iteration 30, incumbent x=([2.2939000129699707, -2.379699945449829, 2.742300033569336, -0.5108000040054321, 4.271900177001953, 2.38070011138916, -1.1492999792099, -8.084600448608398, 2.283099889755249, -8.853400230407715]), f(x)=28.7018\n"
     ]
    },
    {
     "data": {
      "application/vnd.jupyter.widget-view+json": {
       "model_id": "7b10bb9576be47dea6cd73fdae7a21ad",
       "version_major": 2,
       "version_minor": 0
      },
      "text/plain": [
       "Training GP:   0%|          | 0/500 [00:00<?, ?it/s]"
      ]
     },
     "metadata": {},
     "output_type": "display_data"
    },
    {
     "name": "stdout",
     "output_type": "stream",
     "text": [
      "Iteration 31, incumbent x=([2.2939000129699707, -2.379699945449829, 2.742300033569336, -0.5108000040054321, 4.271900177001953, 2.38070011138916, -1.1492999792099, -8.084600448608398, 2.283099889755249, -8.853400230407715]), f(x)=28.7018\n"
     ]
    },
    {
     "data": {
      "application/vnd.jupyter.widget-view+json": {
       "model_id": "6b57f4b869284478a4589fd32ff42d3f",
       "version_major": 2,
       "version_minor": 0
      },
      "text/plain": [
       "Training GP:   0%|          | 0/500 [00:00<?, ?it/s]"
      ]
     },
     "metadata": {},
     "output_type": "display_data"
    },
    {
     "name": "stdout",
     "output_type": "stream",
     "text": [
      "Iteration 32, incumbent x=([2.2939000129699707, -2.379699945449829, 2.742300033569336, -0.5108000040054321, 4.271900177001953, 2.38070011138916, -1.1492999792099, -8.084600448608398, 2.283099889755249, -8.853400230407715]), f(x)=28.7018\n"
     ]
    },
    {
     "data": {
      "application/vnd.jupyter.widget-view+json": {
       "model_id": "46aca1db55b8447786d63ccdb7108054",
       "version_major": 2,
       "version_minor": 0
      },
      "text/plain": [
       "Training GP:   0%|          | 0/500 [00:00<?, ?it/s]"
      ]
     },
     "metadata": {},
     "output_type": "display_data"
    },
    {
     "name": "stdout",
     "output_type": "stream",
     "text": [
      "Iteration 33, incumbent x=([2.2939000129699707, -2.379699945449829, 2.742300033569336, -0.5108000040054321, 4.271900177001953, 2.38070011138916, -1.1492999792099, -8.084600448608398, 2.283099889755249, -8.853400230407715]), f(x)=28.7018\n"
     ]
    },
    {
     "data": {
      "application/vnd.jupyter.widget-view+json": {
       "model_id": "53767736419f4a7c8bd781183febafda",
       "version_major": 2,
       "version_minor": 0
      },
      "text/plain": [
       "Training GP:   0%|          | 0/500 [00:00<?, ?it/s]"
      ]
     },
     "metadata": {},
     "output_type": "display_data"
    },
    {
     "name": "stdout",
     "output_type": "stream",
     "text": [
      "Iteration 34, incumbent x=([2.2939000129699707, -2.379699945449829, 2.742300033569336, -0.5108000040054321, 4.271900177001953, 2.38070011138916, -1.1492999792099, -8.084600448608398, 2.283099889755249, -8.853400230407715]), f(x)=28.7018\n"
     ]
    },
    {
     "data": {
      "application/vnd.jupyter.widget-view+json": {
       "model_id": "ca6518d0a35b4dd0891239e4ed0bc776",
       "version_major": 2,
       "version_minor": 0
      },
      "text/plain": [
       "Training GP:   0%|          | 0/500 [00:00<?, ?it/s]"
      ]
     },
     "metadata": {},
     "output_type": "display_data"
    },
    {
     "name": "stdout",
     "output_type": "stream",
     "text": [
      "Iteration 35, incumbent x=([2.2939000129699707, -2.379699945449829, 2.742300033569336, -0.5108000040054321, 4.271900177001953, 2.38070011138916, -1.1492999792099, -8.084600448608398, 2.283099889755249, -8.853400230407715]), f(x)=28.7018\n"
     ]
    },
    {
     "data": {
      "application/vnd.jupyter.widget-view+json": {
       "model_id": "b5ed5ca96e9c4d8eb15d3dc2ab18f4fc",
       "version_major": 2,
       "version_minor": 0
      },
      "text/plain": [
       "Training GP:   0%|          | 0/500 [00:00<?, ?it/s]"
      ]
     },
     "metadata": {},
     "output_type": "display_data"
    },
    {
     "name": "stdout",
     "output_type": "stream",
     "text": [
      "Iteration 36, incumbent x=([2.2939000129699707, -2.379699945449829, 2.742300033569336, -0.5108000040054321, 4.271900177001953, 2.38070011138916, -1.1492999792099, -8.084600448608398, 2.283099889755249, -8.853400230407715]), f(x)=28.7018\n"
     ]
    },
    {
     "data": {
      "application/vnd.jupyter.widget-view+json": {
       "model_id": "6860a55843004aa3960bbc95d92a3824",
       "version_major": 2,
       "version_minor": 0
      },
      "text/plain": [
       "Training GP:   0%|          | 0/500 [00:00<?, ?it/s]"
      ]
     },
     "metadata": {},
     "output_type": "display_data"
    },
    {
     "name": "stdout",
     "output_type": "stream",
     "text": [
      "Iteration 37, incumbent x=([2.2939000129699707, -2.379699945449829, 2.742300033569336, -0.5108000040054321, 4.271900177001953, 2.38070011138916, -1.1492999792099, -8.084600448608398, 2.283099889755249, -8.853400230407715]), f(x)=28.7018\n"
     ]
    },
    {
     "data": {
      "application/vnd.jupyter.widget-view+json": {
       "model_id": "843a883180d14c3587ab8a8bc4b839f3",
       "version_major": 2,
       "version_minor": 0
      },
      "text/plain": [
       "Training GP:   0%|          | 0/500 [00:00<?, ?it/s]"
      ]
     },
     "metadata": {},
     "output_type": "display_data"
    },
    {
     "name": "stdout",
     "output_type": "stream",
     "text": [
      "Iteration 38, incumbent x=([2.2939000129699707, -2.379699945449829, 2.742300033569336, -0.5108000040054321, 4.271900177001953, 2.38070011138916, -1.1492999792099, -8.084600448608398, 2.283099889755249, -8.853400230407715]), f(x)=28.7018\n"
     ]
    },
    {
     "data": {
      "application/vnd.jupyter.widget-view+json": {
       "model_id": "fa776c932d094b2997fd37af7572e84b",
       "version_major": 2,
       "version_minor": 0
      },
      "text/plain": [
       "Training GP:   0%|          | 0/500 [00:00<?, ?it/s]"
      ]
     },
     "metadata": {},
     "output_type": "display_data"
    },
    {
     "name": "stdout",
     "output_type": "stream",
     "text": [
      "Iteration 39, incumbent x=([2.2939000129699707, -2.379699945449829, 2.742300033569336, -0.5108000040054321, 4.271900177001953, 2.38070011138916, -1.1492999792099, -8.084600448608398, 2.283099889755249, -8.853400230407715]), f(x)=28.7018\n"
     ]
    },
    {
     "data": {
      "application/vnd.jupyter.widget-view+json": {
       "model_id": "4e61c3bdcb034a4eb7fe24783f87fe89",
       "version_major": 2,
       "version_minor": 0
      },
      "text/plain": [
       "Training GP:   0%|          | 0/500 [00:00<?, ?it/s]"
      ]
     },
     "metadata": {},
     "output_type": "display_data"
    },
    {
     "name": "stdout",
     "output_type": "stream",
     "text": [
      "Iteration 40, incumbent x=([2.2939000129699707, -2.379699945449829, 2.742300033569336, -0.5108000040054321, 4.271900177001953, 2.38070011138916, -1.1492999792099, -8.084600448608398, 2.283099889755249, -8.853400230407715]), f(x)=28.7018\n"
     ]
    },
    {
     "data": {
      "application/vnd.jupyter.widget-view+json": {
       "model_id": "1f85f7d4690b46d5bdc70132c1107877",
       "version_major": 2,
       "version_minor": 0
      },
      "text/plain": [
       "Training GP:   0%|          | 0/500 [00:00<?, ?it/s]"
      ]
     },
     "metadata": {},
     "output_type": "display_data"
    },
    {
     "name": "stdout",
     "output_type": "stream",
     "text": [
      "Iteration 41, incumbent x=([2.2939000129699707, -2.379699945449829, 2.742300033569336, -0.5108000040054321, 4.271900177001953, 2.38070011138916, -1.1492999792099, -8.084600448608398, 2.283099889755249, -8.853400230407715]), f(x)=28.7018\n"
     ]
    },
    {
     "data": {
      "application/vnd.jupyter.widget-view+json": {
       "model_id": "804321a2ac194981bbc320daf6c7c0dd",
       "version_major": 2,
       "version_minor": 0
      },
      "text/plain": [
       "Training GP:   0%|          | 0/500 [00:00<?, ?it/s]"
      ]
     },
     "metadata": {},
     "output_type": "display_data"
    },
    {
     "name": "stdout",
     "output_type": "stream",
     "text": [
      "Iteration 42, incumbent x=([2.2939000129699707, -2.379699945449829, 2.742300033569336, -0.5108000040054321, 4.271900177001953, 2.38070011138916, -1.1492999792099, -8.084600448608398, 2.283099889755249, -8.853400230407715]), f(x)=28.7018\n"
     ]
    },
    {
     "data": {
      "application/vnd.jupyter.widget-view+json": {
       "model_id": "61eccd1200f240adafe45bc06f28148a",
       "version_major": 2,
       "version_minor": 0
      },
      "text/plain": [
       "Training GP:   0%|          | 0/500 [00:00<?, ?it/s]"
      ]
     },
     "metadata": {},
     "output_type": "display_data"
    },
    {
     "name": "stdout",
     "output_type": "stream",
     "text": [
      "Iteration 43, incumbent x=([2.2939000129699707, -2.379699945449829, 2.742300033569336, -0.5108000040054321, 4.271900177001953, 2.38070011138916, -1.1492999792099, -8.084600448608398, 2.283099889755249, -8.853400230407715]), f(x)=28.7018\n"
     ]
    },
    {
     "data": {
      "application/vnd.jupyter.widget-view+json": {
       "model_id": "42dc83e2c8b44bc3b057bfc9f7c39b93",
       "version_major": 2,
       "version_minor": 0
      },
      "text/plain": [
       "Training GP:   0%|          | 0/500 [00:00<?, ?it/s]"
      ]
     },
     "metadata": {},
     "output_type": "display_data"
    },
    {
     "name": "stdout",
     "output_type": "stream",
     "text": [
      "Iteration 44, incumbent x=([2.2939000129699707, -2.379699945449829, 2.742300033569336, -0.5108000040054321, 4.271900177001953, 2.38070011138916, -1.1492999792099, -8.084600448608398, 2.283099889755249, -8.853400230407715]), f(x)=28.7018\n"
     ]
    },
    {
     "data": {
      "application/vnd.jupyter.widget-view+json": {
       "model_id": "594cc1f1b8764911b7d0623b724be4e3",
       "version_major": 2,
       "version_minor": 0
      },
      "text/plain": [
       "Training GP:   0%|          | 0/500 [00:00<?, ?it/s]"
      ]
     },
     "metadata": {},
     "output_type": "display_data"
    },
    {
     "name": "stdout",
     "output_type": "stream",
     "text": [
      "Iteration 45, incumbent x=([2.2939000129699707, -2.379699945449829, 2.742300033569336, -0.5108000040054321, 4.271900177001953, 2.38070011138916, -1.1492999792099, -8.084600448608398, 2.283099889755249, -8.853400230407715]), f(x)=28.7018\n"
     ]
    },
    {
     "data": {
      "application/vnd.jupyter.widget-view+json": {
       "model_id": "5cccc53ed948469b9c569b2841649b71",
       "version_major": 2,
       "version_minor": 0
      },
      "text/plain": [
       "Training GP:   0%|          | 0/500 [00:00<?, ?it/s]"
      ]
     },
     "metadata": {},
     "output_type": "display_data"
    },
    {
     "name": "stdout",
     "output_type": "stream",
     "text": [
      "Iteration 46, incumbent x=([2.2939000129699707, -2.379699945449829, 2.742300033569336, -0.5108000040054321, 4.271900177001953, 2.38070011138916, -1.1492999792099, -8.084600448608398, 2.283099889755249, -8.853400230407715]), f(x)=28.7018\n"
     ]
    },
    {
     "data": {
      "application/vnd.jupyter.widget-view+json": {
       "model_id": "c9f7378675b04e3191b6fa15bc52bc84",
       "version_major": 2,
       "version_minor": 0
      },
      "text/plain": [
       "Training GP:   0%|          | 0/500 [00:00<?, ?it/s]"
      ]
     },
     "metadata": {},
     "output_type": "display_data"
    },
    {
     "name": "stdout",
     "output_type": "stream",
     "text": [
      "Iteration 47, incumbent x=([2.2939000129699707, -2.379699945449829, 2.742300033569336, -0.5108000040054321, 4.271900177001953, 2.38070011138916, -1.1492999792099, -8.084600448608398, 2.283099889755249, -8.853400230407715]), f(x)=28.7018\n"
     ]
    },
    {
     "data": {
      "application/vnd.jupyter.widget-view+json": {
       "model_id": "75ea55adbe9840c492482aee67ffeb4d",
       "version_major": 2,
       "version_minor": 0
      },
      "text/plain": [
       "Training GP:   0%|          | 0/500 [00:00<?, ?it/s]"
      ]
     },
     "metadata": {},
     "output_type": "display_data"
    },
    {
     "name": "stdout",
     "output_type": "stream",
     "text": [
      "Iteration 48, incumbent x=([2.2939000129699707, -2.379699945449829, 2.742300033569336, -0.5108000040054321, 4.271900177001953, 2.38070011138916, -1.1492999792099, -8.084600448608398, 2.283099889755249, -8.853400230407715]), f(x)=28.7018\n"
     ]
    },
    {
     "data": {
      "application/vnd.jupyter.widget-view+json": {
       "model_id": "5d78eb99318a41279ff723606f355594",
       "version_major": 2,
       "version_minor": 0
      },
      "text/plain": [
       "Training GP:   0%|          | 0/500 [00:00<?, ?it/s]"
      ]
     },
     "metadata": {},
     "output_type": "display_data"
    },
    {
     "name": "stdout",
     "output_type": "stream",
     "text": [
      "Iteration 49, incumbent x=([2.2939000129699707, -2.379699945449829, 2.742300033569336, -0.5108000040054321, 4.271900177001953, 2.38070011138916, -1.1492999792099, -8.084600448608398, 2.283099889755249, -8.853400230407715]), f(x)=28.7018\n"
     ]
    },
    {
     "data": {
      "application/vnd.jupyter.widget-view+json": {
       "model_id": "83df833ce8c4473096fbf972c79c4f7c",
       "version_major": 2,
       "version_minor": 0
      },
      "text/plain": [
       "Training GP:   0%|          | 0/500 [00:00<?, ?it/s]"
      ]
     },
     "metadata": {},
     "output_type": "display_data"
    },
    {
     "name": "stdout",
     "output_type": "stream",
     "text": [
      "Iteration 50, incumbent x=([2.2939000129699707, -2.379699945449829, 2.742300033569336, -0.5108000040054321, 4.271900177001953, 2.38070011138916, -1.1492999792099, -8.084600448608398, 2.283099889755249, -8.853400230407715]), f(x)=28.7018\n"
     ]
    },
    {
     "data": {
      "application/vnd.jupyter.widget-view+json": {
       "model_id": "975696c3215f4821ac2afb0d4dedd11a",
       "version_major": 2,
       "version_minor": 0
      },
      "text/plain": [
       "Training GP:   0%|          | 0/500 [00:00<?, ?it/s]"
      ]
     },
     "metadata": {},
     "output_type": "display_data"
    },
    {
     "name": "stdout",
     "output_type": "stream",
     "text": [
      "Iteration 51, incumbent x=([2.2939000129699707, -2.379699945449829, 2.742300033569336, -0.5108000040054321, 4.271900177001953, 2.38070011138916, -1.1492999792099, -8.084600448608398, 2.283099889755249, -8.853400230407715]), f(x)=28.7018\n"
     ]
    },
    {
     "data": {
      "application/vnd.jupyter.widget-view+json": {
       "model_id": "1eb26cdf521642679d08fe535d0460ab",
       "version_major": 2,
       "version_minor": 0
      },
      "text/plain": [
       "Training GP:   0%|          | 0/500 [00:00<?, ?it/s]"
      ]
     },
     "metadata": {},
     "output_type": "display_data"
    },
    {
     "name": "stdout",
     "output_type": "stream",
     "text": [
      "Iteration 52, incumbent x=([2.2939000129699707, -2.379699945449829, 2.742300033569336, -0.5108000040054321, 4.271900177001953, 2.38070011138916, -1.1492999792099, -8.084600448608398, 2.283099889755249, -8.853400230407715]), f(x)=28.7018\n"
     ]
    },
    {
     "data": {
      "application/vnd.jupyter.widget-view+json": {
       "model_id": "fe3a209641984c97921399aa25e44b20",
       "version_major": 2,
       "version_minor": 0
      },
      "text/plain": [
       "Training GP:   0%|          | 0/500 [00:00<?, ?it/s]"
      ]
     },
     "metadata": {},
     "output_type": "display_data"
    },
    {
     "name": "stdout",
     "output_type": "stream",
     "text": [
      "Iteration 53, incumbent x=([2.2939000129699707, -2.379699945449829, 2.742300033569336, -0.5108000040054321, 4.271900177001953, 2.38070011138916, -1.1492999792099, -8.084600448608398, 2.283099889755249, -8.853400230407715]), f(x)=28.7018\n"
     ]
    },
    {
     "data": {
      "application/vnd.jupyter.widget-view+json": {
       "model_id": "2cf7947563464c2a8377964df6e3e76e",
       "version_major": 2,
       "version_minor": 0
      },
      "text/plain": [
       "Training GP:   0%|          | 0/500 [00:00<?, ?it/s]"
      ]
     },
     "metadata": {},
     "output_type": "display_data"
    },
    {
     "name": "stdout",
     "output_type": "stream",
     "text": [
      "Iteration 54, incumbent x=([2.2939000129699707, -2.379699945449829, 2.742300033569336, -0.5108000040054321, 4.271900177001953, 2.38070011138916, -1.1492999792099, -8.084600448608398, 2.283099889755249, -8.853400230407715]), f(x)=28.7018\n"
     ]
    },
    {
     "data": {
      "application/vnd.jupyter.widget-view+json": {
       "model_id": "27b02028d32e4f7ca2afceeb8232e6e4",
       "version_major": 2,
       "version_minor": 0
      },
      "text/plain": [
       "Training GP:   0%|          | 0/500 [00:00<?, ?it/s]"
      ]
     },
     "metadata": {},
     "output_type": "display_data"
    },
    {
     "name": "stdout",
     "output_type": "stream",
     "text": [
      "Iteration 55, incumbent x=([2.2939000129699707, -2.379699945449829, 2.742300033569336, -0.5108000040054321, 4.271900177001953, 2.38070011138916, -1.1492999792099, -8.084600448608398, 2.283099889755249, -8.853400230407715]), f(x)=28.7018\n"
     ]
    },
    {
     "data": {
      "application/vnd.jupyter.widget-view+json": {
       "model_id": "0fba762a761a4b6392d4ec67fc18c3f9",
       "version_major": 2,
       "version_minor": 0
      },
      "text/plain": [
       "Training GP:   0%|          | 0/500 [00:00<?, ?it/s]"
      ]
     },
     "metadata": {},
     "output_type": "display_data"
    },
    {
     "name": "stdout",
     "output_type": "stream",
     "text": [
      "Iteration 56, incumbent x=([2.2939000129699707, -2.379699945449829, 2.742300033569336, -0.5108000040054321, 4.271900177001953, 2.38070011138916, -1.1492999792099, -8.084600448608398, 2.283099889755249, -8.853400230407715]), f(x)=28.7018\n"
     ]
    },
    {
     "data": {
      "application/vnd.jupyter.widget-view+json": {
       "model_id": "811b8f091fcd4eaaa2503c6d8593a237",
       "version_major": 2,
       "version_minor": 0
      },
      "text/plain": [
       "Training GP:   0%|          | 0/500 [00:00<?, ?it/s]"
      ]
     },
     "metadata": {},
     "output_type": "display_data"
    },
    {
     "name": "stdout",
     "output_type": "stream",
     "text": [
      "Iteration 57, incumbent x=([2.2939000129699707, -2.379699945449829, 2.742300033569336, -0.5108000040054321, 4.271900177001953, 2.38070011138916, -1.1492999792099, -8.084600448608398, 2.283099889755249, -8.853400230407715]), f(x)=28.7018\n"
     ]
    },
    {
     "data": {
      "application/vnd.jupyter.widget-view+json": {
       "model_id": "3be0ad8dfec9436ea64fa5dc127828e0",
       "version_major": 2,
       "version_minor": 0
      },
      "text/plain": [
       "Training GP:   0%|          | 0/500 [00:00<?, ?it/s]"
      ]
     },
     "metadata": {},
     "output_type": "display_data"
    },
    {
     "name": "stdout",
     "output_type": "stream",
     "text": [
      "Iteration 58, incumbent x=([2.2939000129699707, -2.379699945449829, 2.742300033569336, -0.5108000040054321, 4.271900177001953, 2.38070011138916, -1.1492999792099, -8.084600448608398, 2.283099889755249, -8.853400230407715]), f(x)=28.7018\n"
     ]
    },
    {
     "data": {
      "application/vnd.jupyter.widget-view+json": {
       "model_id": "e992ca7580af4c2b9d85f8ce552fb365",
       "version_major": 2,
       "version_minor": 0
      },
      "text/plain": [
       "Training GP:   0%|          | 0/500 [00:00<?, ?it/s]"
      ]
     },
     "metadata": {},
     "output_type": "display_data"
    },
    {
     "name": "stdout",
     "output_type": "stream",
     "text": [
      "Iteration 59, incumbent x=([2.2939000129699707, -2.379699945449829, 2.742300033569336, -0.5108000040054321, 4.271900177001953, 2.38070011138916, -1.1492999792099, -8.084600448608398, 2.283099889755249, -8.853400230407715]), f(x)=28.7018\n"
     ]
    },
    {
     "data": {
      "application/vnd.jupyter.widget-view+json": {
       "model_id": "da5123a54e124f7db4cce7c2d3dde6e5",
       "version_major": 2,
       "version_minor": 0
      },
      "text/plain": [
       "Training GP:   0%|          | 0/500 [00:00<?, ?it/s]"
      ]
     },
     "metadata": {},
     "output_type": "display_data"
    },
    {
     "name": "stdout",
     "output_type": "stream",
     "text": [
      "Iteration 60, incumbent x=([2.2939000129699707, -2.379699945449829, 2.742300033569336, -0.5108000040054321, 4.271900177001953, 2.38070011138916, -1.1492999792099, -8.084600448608398, 2.283099889755249, -8.853400230407715]), f(x)=28.7018\n"
     ]
    },
    {
     "data": {
      "application/vnd.jupyter.widget-view+json": {
       "model_id": "51820a516be84197a1a62eb0727574c2",
       "version_major": 2,
       "version_minor": 0
      },
      "text/plain": [
       "Training GP:   0%|          | 0/500 [00:00<?, ?it/s]"
      ]
     },
     "metadata": {},
     "output_type": "display_data"
    },
    {
     "name": "stdout",
     "output_type": "stream",
     "text": [
      "Iteration 61, incumbent x=([2.2939000129699707, -2.379699945449829, 2.742300033569336, -0.5108000040054321, 4.271900177001953, 2.38070011138916, -1.1492999792099, -8.084600448608398, 2.283099889755249, -8.853400230407715]), f(x)=28.7018\n"
     ]
    },
    {
     "data": {
      "application/vnd.jupyter.widget-view+json": {
       "model_id": "049955de45774d77b2f6bd14829c0584",
       "version_major": 2,
       "version_minor": 0
      },
      "text/plain": [
       "Training GP:   0%|          | 0/500 [00:00<?, ?it/s]"
      ]
     },
     "metadata": {},
     "output_type": "display_data"
    },
    {
     "name": "stdout",
     "output_type": "stream",
     "text": [
      "Iteration 62, incumbent x=([2.2939000129699707, -2.379699945449829, 2.742300033569336, -0.5108000040054321, 4.271900177001953, 2.38070011138916, -1.1492999792099, -8.084600448608398, 2.283099889755249, -8.853400230407715]), f(x)=28.7018\n"
     ]
    },
    {
     "data": {
      "application/vnd.jupyter.widget-view+json": {
       "model_id": "3ef3071f60494953bd236f3130b5e48d",
       "version_major": 2,
       "version_minor": 0
      },
      "text/plain": [
       "Training GP:   0%|          | 0/500 [00:00<?, ?it/s]"
      ]
     },
     "metadata": {},
     "output_type": "display_data"
    },
    {
     "name": "stdout",
     "output_type": "stream",
     "text": [
      "Iteration 63, incumbent x=([2.2939000129699707, -2.379699945449829, 2.742300033569336, -0.5108000040054321, 4.271900177001953, 2.38070011138916, -1.1492999792099, -8.084600448608398, 2.283099889755249, -8.853400230407715]), f(x)=28.7018\n"
     ]
    },
    {
     "data": {
      "application/vnd.jupyter.widget-view+json": {
       "model_id": "f5b724378a194f7b869b471cf3f344ec",
       "version_major": 2,
       "version_minor": 0
      },
      "text/plain": [
       "Training GP:   0%|          | 0/500 [00:00<?, ?it/s]"
      ]
     },
     "metadata": {},
     "output_type": "display_data"
    },
    {
     "name": "stdout",
     "output_type": "stream",
     "text": [
      "Iteration 64, incumbent x=([2.2939000129699707, -2.379699945449829, 2.742300033569336, -0.5108000040054321, 4.271900177001953, 2.38070011138916, -1.1492999792099, -8.084600448608398, 2.283099889755249, -8.853400230407715]), f(x)=28.7018\n"
     ]
    },
    {
     "data": {
      "application/vnd.jupyter.widget-view+json": {
       "model_id": "d5d5b1cb0c3f4ed287475af4ff99c416",
       "version_major": 2,
       "version_minor": 0
      },
      "text/plain": [
       "Training GP:   0%|          | 0/500 [00:00<?, ?it/s]"
      ]
     },
     "metadata": {},
     "output_type": "display_data"
    },
    {
     "name": "stdout",
     "output_type": "stream",
     "text": [
      "Iteration 65, incumbent x=([2.2939000129699707, -2.379699945449829, 2.742300033569336, -0.5108000040054321, 4.271900177001953, 2.38070011138916, -1.1492999792099, -8.084600448608398, 2.283099889755249, -8.853400230407715]), f(x)=28.7018\n"
     ]
    },
    {
     "data": {
      "application/vnd.jupyter.widget-view+json": {
       "model_id": "3b2bbb82290e4e8bbd07f380d03b6be6",
       "version_major": 2,
       "version_minor": 0
      },
      "text/plain": [
       "Training GP:   0%|          | 0/500 [00:00<?, ?it/s]"
      ]
     },
     "metadata": {},
     "output_type": "display_data"
    },
    {
     "name": "stdout",
     "output_type": "stream",
     "text": [
      "Iteration 66, incumbent x=([2.2939000129699707, -2.379699945449829, 2.742300033569336, -0.5108000040054321, 4.271900177001953, 2.38070011138916, -1.1492999792099, -8.084600448608398, 2.283099889755249, -8.853400230407715]), f(x)=28.7018\n"
     ]
    },
    {
     "data": {
      "application/vnd.jupyter.widget-view+json": {
       "model_id": "42e237fc39b04ca7afadf46767059378",
       "version_major": 2,
       "version_minor": 0
      },
      "text/plain": [
       "Training GP:   0%|          | 0/500 [00:00<?, ?it/s]"
      ]
     },
     "metadata": {},
     "output_type": "display_data"
    },
    {
     "name": "stdout",
     "output_type": "stream",
     "text": [
      "Iteration 67, incumbent x=([2.2939000129699707, -2.379699945449829, 2.742300033569336, -0.5108000040054321, 4.271900177001953, 2.38070011138916, -1.1492999792099, -8.084600448608398, 2.283099889755249, -8.853400230407715]), f(x)=28.7018\n"
     ]
    },
    {
     "data": {
      "application/vnd.jupyter.widget-view+json": {
       "model_id": "ca724186679047bc8603ae82e90ef5fd",
       "version_major": 2,
       "version_minor": 0
      },
      "text/plain": [
       "Training GP:   0%|          | 0/500 [00:00<?, ?it/s]"
      ]
     },
     "metadata": {},
     "output_type": "display_data"
    },
    {
     "name": "stdout",
     "output_type": "stream",
     "text": [
      "Iteration 68, incumbent x=([2.2939000129699707, -2.379699945449829, 2.742300033569336, -0.5108000040054321, 4.271900177001953, 2.38070011138916, -1.1492999792099, -8.084600448608398, 2.283099889755249, -8.853400230407715]), f(x)=28.7018\n"
     ]
    },
    {
     "data": {
      "application/vnd.jupyter.widget-view+json": {
       "model_id": "bc7352129cce491ab3f6bb4ad7a01189",
       "version_major": 2,
       "version_minor": 0
      },
      "text/plain": [
       "Training GP:   0%|          | 0/500 [00:00<?, ?it/s]"
      ]
     },
     "metadata": {},
     "output_type": "display_data"
    },
    {
     "name": "stdout",
     "output_type": "stream",
     "text": [
      "Iteration 69, incumbent x=([2.2939000129699707, -2.379699945449829, 2.742300033569336, -0.5108000040054321, 4.271900177001953, 2.38070011138916, -1.1492999792099, -8.084600448608398, 2.283099889755249, -8.853400230407715]), f(x)=28.7018\n"
     ]
    },
    {
     "data": {
      "application/vnd.jupyter.widget-view+json": {
       "model_id": "7c1522dac848428aa28f9f1d39a571dc",
       "version_major": 2,
       "version_minor": 0
      },
      "text/plain": [
       "Training GP:   0%|          | 0/500 [00:00<?, ?it/s]"
      ]
     },
     "metadata": {},
     "output_type": "display_data"
    },
    {
     "name": "stdout",
     "output_type": "stream",
     "text": [
      "Iteration 70, incumbent x=([2.2939000129699707, -2.379699945449829, 2.742300033569336, -0.5108000040054321, 4.271900177001953, 2.38070011138916, -1.1492999792099, -8.084600448608398, 2.283099889755249, -8.853400230407715]), f(x)=28.7018\n"
     ]
    },
    {
     "data": {
      "application/vnd.jupyter.widget-view+json": {
       "model_id": "6a631a738c534899864c8fb0ecdd1ea4",
       "version_major": 2,
       "version_minor": 0
      },
      "text/plain": [
       "Training GP:   0%|          | 0/500 [00:00<?, ?it/s]"
      ]
     },
     "metadata": {},
     "output_type": "display_data"
    },
    {
     "name": "stdout",
     "output_type": "stream",
     "text": [
      "Iteration 71, incumbent x=([2.2939000129699707, -2.379699945449829, 2.742300033569336, -0.5108000040054321, 4.271900177001953, 2.38070011138916, -1.1492999792099, -8.084600448608398, 2.283099889755249, -8.853400230407715]), f(x)=28.7018\n"
     ]
    },
    {
     "data": {
      "application/vnd.jupyter.widget-view+json": {
       "model_id": "68939b8ba4014b2f941789af660d87c7",
       "version_major": 2,
       "version_minor": 0
      },
      "text/plain": [
       "Training GP:   0%|          | 0/500 [00:00<?, ?it/s]"
      ]
     },
     "metadata": {},
     "output_type": "display_data"
    },
    {
     "name": "stdout",
     "output_type": "stream",
     "text": [
      "Iteration 72, incumbent x=([2.2939000129699707, -2.379699945449829, 2.742300033569336, -0.5108000040054321, 4.271900177001953, 2.38070011138916, -1.1492999792099, -8.084600448608398, 2.283099889755249, -8.853400230407715]), f(x)=28.7018\n"
     ]
    },
    {
     "data": {
      "application/vnd.jupyter.widget-view+json": {
       "model_id": "0b35a3ec2caf40d0b1f9d99f3cf76bf2",
       "version_major": 2,
       "version_minor": 0
      },
      "text/plain": [
       "Training GP:   0%|          | 0/500 [00:00<?, ?it/s]"
      ]
     },
     "metadata": {},
     "output_type": "display_data"
    },
    {
     "name": "stdout",
     "output_type": "stream",
     "text": [
      "Iteration 73, incumbent x=([2.2939000129699707, -2.379699945449829, 2.742300033569336, -0.5108000040054321, 4.271900177001953, 2.38070011138916, -1.1492999792099, -8.084600448608398, 2.283099889755249, -8.853400230407715]), f(x)=28.7018\n"
     ]
    },
    {
     "data": {
      "application/vnd.jupyter.widget-view+json": {
       "model_id": "5d6d55b88cbe411893a50eaf8df019ec",
       "version_major": 2,
       "version_minor": 0
      },
      "text/plain": [
       "Training GP:   0%|          | 0/500 [00:00<?, ?it/s]"
      ]
     },
     "metadata": {},
     "output_type": "display_data"
    },
    {
     "name": "stdout",
     "output_type": "stream",
     "text": [
      "Iteration 74, incumbent x=([2.2939000129699707, -2.379699945449829, 2.742300033569336, -0.5108000040054321, 4.271900177001953, 2.38070011138916, -1.1492999792099, -8.084600448608398, 2.283099889755249, -8.853400230407715]), f(x)=28.7018\n"
     ]
    },
    {
     "data": {
      "application/vnd.jupyter.widget-view+json": {
       "model_id": "54357b7184dd40eaba54048b2aee0168",
       "version_major": 2,
       "version_minor": 0
      },
      "text/plain": [
       "Training GP:   0%|          | 0/500 [00:00<?, ?it/s]"
      ]
     },
     "metadata": {},
     "output_type": "display_data"
    },
    {
     "name": "stdout",
     "output_type": "stream",
     "text": [
      "Iteration 75, incumbent x=([2.2939000129699707, -2.379699945449829, 2.742300033569336, -0.5108000040054321, 4.271900177001953, 2.38070011138916, -1.1492999792099, -8.084600448608398, 2.283099889755249, -8.853400230407715]), f(x)=28.7018\n"
     ]
    },
    {
     "data": {
      "application/vnd.jupyter.widget-view+json": {
       "model_id": "43dbe380ff4344608d7487396e55dd2d",
       "version_major": 2,
       "version_minor": 0
      },
      "text/plain": [
       "Training GP:   0%|          | 0/500 [00:00<?, ?it/s]"
      ]
     },
     "metadata": {},
     "output_type": "display_data"
    },
    {
     "name": "stdout",
     "output_type": "stream",
     "text": [
      "Iteration 76, incumbent x=([2.2939000129699707, -2.379699945449829, 2.742300033569336, -0.5108000040054321, 4.271900177001953, 2.38070011138916, -1.1492999792099, -8.084600448608398, 2.283099889755249, -8.853400230407715]), f(x)=28.7018\n"
     ]
    },
    {
     "data": {
      "application/vnd.jupyter.widget-view+json": {
       "model_id": "e42fd77e947d45adbf96bd6e2ca337d1",
       "version_major": 2,
       "version_minor": 0
      },
      "text/plain": [
       "Training GP:   0%|          | 0/500 [00:00<?, ?it/s]"
      ]
     },
     "metadata": {},
     "output_type": "display_data"
    },
    {
     "name": "stdout",
     "output_type": "stream",
     "text": [
      "Iteration 77, incumbent x=([2.2939000129699707, -2.379699945449829, 2.742300033569336, -0.5108000040054321, 4.271900177001953, 2.38070011138916, -1.1492999792099, -8.084600448608398, 2.283099889755249, -8.853400230407715]), f(x)=28.7018\n"
     ]
    },
    {
     "data": {
      "application/vnd.jupyter.widget-view+json": {
       "model_id": "9a1de8449cf747c581c52c0e13314271",
       "version_major": 2,
       "version_minor": 0
      },
      "text/plain": [
       "Training GP:   0%|          | 0/500 [00:00<?, ?it/s]"
      ]
     },
     "metadata": {},
     "output_type": "display_data"
    },
    {
     "name": "stdout",
     "output_type": "stream",
     "text": [
      "Iteration 78, incumbent x=([2.2939000129699707, -2.379699945449829, 2.742300033569336, -0.5108000040054321, 4.271900177001953, 2.38070011138916, -1.1492999792099, -8.084600448608398, 2.283099889755249, -8.853400230407715]), f(x)=28.7018\n"
     ]
    },
    {
     "data": {
      "application/vnd.jupyter.widget-view+json": {
       "model_id": "04dfd6c247de4133aceb7f7db3215a13",
       "version_major": 2,
       "version_minor": 0
      },
      "text/plain": [
       "Training GP:   0%|          | 0/500 [00:00<?, ?it/s]"
      ]
     },
     "metadata": {},
     "output_type": "display_data"
    },
    {
     "name": "stdout",
     "output_type": "stream",
     "text": [
      "Iteration 79, incumbent x=([2.2939000129699707, -2.379699945449829, 2.742300033569336, -0.5108000040054321, 4.271900177001953, 2.38070011138916, -1.1492999792099, -8.084600448608398, 2.283099889755249, -8.853400230407715]), f(x)=28.7018\n"
     ]
    },
    {
     "data": {
      "application/vnd.jupyter.widget-view+json": {
       "model_id": "9fce30337bec417d9a625f98b312859c",
       "version_major": 2,
       "version_minor": 0
      },
      "text/plain": [
       "Training GP:   0%|          | 0/500 [00:00<?, ?it/s]"
      ]
     },
     "metadata": {},
     "output_type": "display_data"
    },
    {
     "name": "stdout",
     "output_type": "stream",
     "text": [
      "Iteration 80, incumbent x=([2.2939000129699707, -2.379699945449829, 2.742300033569336, -0.5108000040054321, 4.271900177001953, 2.38070011138916, -1.1492999792099, -8.084600448608398, 2.283099889755249, -8.853400230407715]), f(x)=28.7018\n"
     ]
    },
    {
     "data": {
      "application/vnd.jupyter.widget-view+json": {
       "model_id": "03411a2eae4947b78a56aa6cd2f8927f",
       "version_major": 2,
       "version_minor": 0
      },
      "text/plain": [
       "Training GP:   0%|          | 0/500 [00:00<?, ?it/s]"
      ]
     },
     "metadata": {},
     "output_type": "display_data"
    },
    {
     "name": "stdout",
     "output_type": "stream",
     "text": [
      "Iteration 81, incumbent x=([2.2939000129699707, -2.379699945449829, 2.742300033569336, -0.5108000040054321, 4.271900177001953, 2.38070011138916, -1.1492999792099, -8.084600448608398, 2.283099889755249, -8.853400230407715]), f(x)=28.7018\n"
     ]
    },
    {
     "data": {
      "application/vnd.jupyter.widget-view+json": {
       "model_id": "95636cba0b7a48e3936a17530857bf6b",
       "version_major": 2,
       "version_minor": 0
      },
      "text/plain": [
       "Training GP:   0%|          | 0/500 [00:00<?, ?it/s]"
      ]
     },
     "metadata": {},
     "output_type": "display_data"
    },
    {
     "name": "stdout",
     "output_type": "stream",
     "text": [
      "Iteration 82, incumbent x=([2.2939000129699707, -2.379699945449829, 2.742300033569336, -0.5108000040054321, 4.271900177001953, 2.38070011138916, -1.1492999792099, -8.084600448608398, 2.283099889755249, -8.853400230407715]), f(x)=28.7018\n"
     ]
    },
    {
     "data": {
      "application/vnd.jupyter.widget-view+json": {
       "model_id": "fe0b269c64ce4661b4446e4f459cf106",
       "version_major": 2,
       "version_minor": 0
      },
      "text/plain": [
       "Training GP:   0%|          | 0/500 [00:00<?, ?it/s]"
      ]
     },
     "metadata": {},
     "output_type": "display_data"
    },
    {
     "name": "stdout",
     "output_type": "stream",
     "text": [
      "Iteration 83, incumbent x=([2.2939000129699707, -2.379699945449829, 2.742300033569336, -0.5108000040054321, 4.271900177001953, 2.38070011138916, -1.1492999792099, -8.084600448608398, 2.283099889755249, -8.853400230407715]), f(x)=28.7018\n"
     ]
    },
    {
     "data": {
      "application/vnd.jupyter.widget-view+json": {
       "model_id": "ff42cab3228f4a6fbd56c2c158c81fba",
       "version_major": 2,
       "version_minor": 0
      },
      "text/plain": [
       "Training GP:   0%|          | 0/500 [00:00<?, ?it/s]"
      ]
     },
     "metadata": {},
     "output_type": "display_data"
    },
    {
     "name": "stdout",
     "output_type": "stream",
     "text": [
      "Iteration 84, incumbent x=([2.2939000129699707, -2.379699945449829, 2.742300033569336, -0.5108000040054321, 4.271900177001953, 2.38070011138916, -1.1492999792099, -8.084600448608398, 2.283099889755249, -8.853400230407715]), f(x)=28.7018\n"
     ]
    },
    {
     "data": {
      "application/vnd.jupyter.widget-view+json": {
       "model_id": "af4bceef5aa84209ae6169abc370ae14",
       "version_major": 2,
       "version_minor": 0
      },
      "text/plain": [
       "Training GP:   0%|          | 0/500 [00:00<?, ?it/s]"
      ]
     },
     "metadata": {},
     "output_type": "display_data"
    },
    {
     "name": "stdout",
     "output_type": "stream",
     "text": [
      "Iteration 85, incumbent x=([2.2939000129699707, -2.379699945449829, 2.742300033569336, -0.5108000040054321, 4.271900177001953, 2.38070011138916, -1.1492999792099, -8.084600448608398, 2.283099889755249, -8.853400230407715]), f(x)=28.7018\n"
     ]
    },
    {
     "data": {
      "application/vnd.jupyter.widget-view+json": {
       "model_id": "377518805acd42b4aa2a106722694394",
       "version_major": 2,
       "version_minor": 0
      },
      "text/plain": [
       "Training GP:   0%|          | 0/500 [00:00<?, ?it/s]"
      ]
     },
     "metadata": {},
     "output_type": "display_data"
    },
    {
     "name": "stdout",
     "output_type": "stream",
     "text": [
      "Iteration 86, incumbent x=([2.2939000129699707, -2.379699945449829, 2.742300033569336, -0.5108000040054321, 4.271900177001953, 2.38070011138916, -1.1492999792099, -8.084600448608398, 2.283099889755249, -8.853400230407715]), f(x)=28.7018\n"
     ]
    },
    {
     "data": {
      "application/vnd.jupyter.widget-view+json": {
       "model_id": "678e6eb89f414a198eea96bcd64ec349",
       "version_major": 2,
       "version_minor": 0
      },
      "text/plain": [
       "Training GP:   0%|          | 0/500 [00:00<?, ?it/s]"
      ]
     },
     "metadata": {},
     "output_type": "display_data"
    },
    {
     "name": "stdout",
     "output_type": "stream",
     "text": [
      "Iteration 87, incumbent x=([2.2939000129699707, -2.379699945449829, 2.742300033569336, -0.5108000040054321, 4.271900177001953, 2.38070011138916, -1.1492999792099, -8.084600448608398, 2.283099889755249, -8.853400230407715]), f(x)=28.7018\n"
     ]
    },
    {
     "data": {
      "application/vnd.jupyter.widget-view+json": {
       "model_id": "1bd3a2858ffe47958afd072f183a2a2e",
       "version_major": 2,
       "version_minor": 0
      },
      "text/plain": [
       "Training GP:   0%|          | 0/500 [00:00<?, ?it/s]"
      ]
     },
     "metadata": {},
     "output_type": "display_data"
    },
    {
     "name": "stdout",
     "output_type": "stream",
     "text": [
      "Iteration 88, incumbent x=([2.2939000129699707, -2.379699945449829, 2.742300033569336, -0.5108000040054321, 4.271900177001953, 2.38070011138916, -1.1492999792099, -8.084600448608398, 2.283099889755249, -8.853400230407715]), f(x)=28.7018\n"
     ]
    },
    {
     "data": {
      "application/vnd.jupyter.widget-view+json": {
       "model_id": "ab213a785caf482da6e3b1f0bc807ee7",
       "version_major": 2,
       "version_minor": 0
      },
      "text/plain": [
       "Training GP:   0%|          | 0/500 [00:00<?, ?it/s]"
      ]
     },
     "metadata": {},
     "output_type": "display_data"
    },
    {
     "name": "stdout",
     "output_type": "stream",
     "text": [
      "Iteration 89, incumbent x=([2.2939000129699707, -2.379699945449829, 2.742300033569336, -0.5108000040054321, 4.271900177001953, 2.38070011138916, -1.1492999792099, -8.084600448608398, 2.283099889755249, -8.853400230407715]), f(x)=28.7018\n"
     ]
    },
    {
     "data": {
      "application/vnd.jupyter.widget-view+json": {
       "model_id": "8d59f0e5f0284b5681a5cd2ebad33f72",
       "version_major": 2,
       "version_minor": 0
      },
      "text/plain": [
       "Training GP:   0%|          | 0/500 [00:00<?, ?it/s]"
      ]
     },
     "metadata": {},
     "output_type": "display_data"
    },
    {
     "name": "stdout",
     "output_type": "stream",
     "text": [
      "Iteration 90, incumbent x=([2.2939000129699707, -2.379699945449829, 2.742300033569336, -0.5108000040054321, 4.271900177001953, 2.38070011138916, -1.1492999792099, -8.084600448608398, 2.283099889755249, -8.853400230407715]), f(x)=28.7018\n"
     ]
    },
    {
     "data": {
      "application/vnd.jupyter.widget-view+json": {
       "model_id": "eab5f1cfc9f44e3296d73576ec5f0ad9",
       "version_major": 2,
       "version_minor": 0
      },
      "text/plain": [
       "Training GP:   0%|          | 0/500 [00:00<?, ?it/s]"
      ]
     },
     "metadata": {},
     "output_type": "display_data"
    },
    {
     "name": "stdout",
     "output_type": "stream",
     "text": [
      "Iteration 91, incumbent x=([2.2939000129699707, -2.379699945449829, 2.742300033569336, -0.5108000040054321, 4.271900177001953, 2.38070011138916, -1.1492999792099, -8.084600448608398, 2.283099889755249, -8.853400230407715]), f(x)=28.7018\n"
     ]
    },
    {
     "data": {
      "application/vnd.jupyter.widget-view+json": {
       "model_id": "daa5e341893e44d0abcf9e826d52e474",
       "version_major": 2,
       "version_minor": 0
      },
      "text/plain": [
       "Training GP:   0%|          | 0/500 [00:00<?, ?it/s]"
      ]
     },
     "metadata": {},
     "output_type": "display_data"
    },
    {
     "name": "stdout",
     "output_type": "stream",
     "text": [
      "Iteration 92, incumbent x=([2.2939000129699707, -2.379699945449829, 2.742300033569336, -0.5108000040054321, 4.271900177001953, 2.38070011138916, -1.1492999792099, -8.084600448608398, 2.283099889755249, -8.853400230407715]), f(x)=28.7018\n"
     ]
    },
    {
     "data": {
      "application/vnd.jupyter.widget-view+json": {
       "model_id": "bddb38109d8c4ca7a1583176f8820d65",
       "version_major": 2,
       "version_minor": 0
      },
      "text/plain": [
       "Training GP:   0%|          | 0/500 [00:00<?, ?it/s]"
      ]
     },
     "metadata": {},
     "output_type": "display_data"
    },
    {
     "name": "stdout",
     "output_type": "stream",
     "text": [
      "Iteration 93, incumbent x=([2.2939000129699707, -2.379699945449829, 2.742300033569336, -0.5108000040054321, 4.271900177001953, 2.38070011138916, -1.1492999792099, -8.084600448608398, 2.283099889755249, -8.853400230407715]), f(x)=28.7018\n"
     ]
    },
    {
     "data": {
      "application/vnd.jupyter.widget-view+json": {
       "model_id": "7f3f687cfa2b45cd81467039b15cd8aa",
       "version_major": 2,
       "version_minor": 0
      },
      "text/plain": [
       "Training GP:   0%|          | 0/500 [00:00<?, ?it/s]"
      ]
     },
     "metadata": {},
     "output_type": "display_data"
    },
    {
     "name": "stdout",
     "output_type": "stream",
     "text": [
      "Iteration 94, incumbent x=([2.2939000129699707, -2.379699945449829, 2.742300033569336, -0.5108000040054321, 4.271900177001953, 2.38070011138916, -1.1492999792099, -8.084600448608398, 2.283099889755249, -8.853400230407715]), f(x)=28.7018\n"
     ]
    },
    {
     "data": {
      "application/vnd.jupyter.widget-view+json": {
       "model_id": "46f8d6d4ae1949d9b44339cf22cb52da",
       "version_major": 2,
       "version_minor": 0
      },
      "text/plain": [
       "Training GP:   0%|          | 0/500 [00:00<?, ?it/s]"
      ]
     },
     "metadata": {},
     "output_type": "display_data"
    },
    {
     "name": "stdout",
     "output_type": "stream",
     "text": [
      "Iteration 95, incumbent x=([2.2939000129699707, -2.379699945449829, 2.742300033569336, -0.5108000040054321, 4.271900177001953, 2.38070011138916, -1.1492999792099, -8.084600448608398, 2.283099889755249, -8.853400230407715]), f(x)=28.7018\n"
     ]
    },
    {
     "data": {
      "application/vnd.jupyter.widget-view+json": {
       "model_id": "8c50b0a5b8d74c99b683a712a7a4100b",
       "version_major": 2,
       "version_minor": 0
      },
      "text/plain": [
       "Training GP:   0%|          | 0/500 [00:00<?, ?it/s]"
      ]
     },
     "metadata": {},
     "output_type": "display_data"
    },
    {
     "name": "stdout",
     "output_type": "stream",
     "text": [
      "Iteration 96, incumbent x=([2.2939000129699707, -2.379699945449829, 2.742300033569336, -0.5108000040054321, 4.271900177001953, 2.38070011138916, -1.1492999792099, -8.084600448608398, 2.283099889755249, -8.853400230407715]), f(x)=28.7018\n"
     ]
    },
    {
     "data": {
      "application/vnd.jupyter.widget-view+json": {
       "model_id": "e5ba8e0e2e5d4251bdff234ef9d4172a",
       "version_major": 2,
       "version_minor": 0
      },
      "text/plain": [
       "Training GP:   0%|          | 0/500 [00:00<?, ?it/s]"
      ]
     },
     "metadata": {},
     "output_type": "display_data"
    },
    {
     "name": "stdout",
     "output_type": "stream",
     "text": [
      "Iteration 97, incumbent x=([2.2939000129699707, -2.379699945449829, 2.742300033569336, -0.5108000040054321, 4.271900177001953, 2.38070011138916, -1.1492999792099, -8.084600448608398, 2.283099889755249, -8.853400230407715]), f(x)=28.7018\n"
     ]
    },
    {
     "data": {
      "application/vnd.jupyter.widget-view+json": {
       "model_id": "b1441e9cfa1b440a91430c121f0dde41",
       "version_major": 2,
       "version_minor": 0
      },
      "text/plain": [
       "Training GP:   0%|          | 0/500 [00:00<?, ?it/s]"
      ]
     },
     "metadata": {},
     "output_type": "display_data"
    },
    {
     "name": "stdout",
     "output_type": "stream",
     "text": [
      "Iteration 98, incumbent x=([2.2939000129699707, -2.379699945449829, 2.742300033569336, -0.5108000040054321, 4.271900177001953, 2.38070011138916, -1.1492999792099, -8.084600448608398, 2.283099889755249, -8.853400230407715]), f(x)=28.7018\n"
     ]
    },
    {
     "data": {
      "application/vnd.jupyter.widget-view+json": {
       "model_id": "3967dfec2fc34c59b6ac4fcf3e5c8d82",
       "version_major": 2,
       "version_minor": 0
      },
      "text/plain": [
       "Training GP:   0%|          | 0/500 [00:00<?, ?it/s]"
      ]
     },
     "metadata": {},
     "output_type": "display_data"
    },
    {
     "name": "stdout",
     "output_type": "stream",
     "text": [
      "Iteration 99, incumbent x=([2.2939000129699707, -2.379699945449829, 2.742300033569336, -0.5108000040054321, 4.271900177001953, 2.38070011138916, -1.1492999792099, -8.084600448608398, 2.283099889755249, -8.853400230407715]), f(x)=28.7018\n"
     ]
    },
    {
     "data": {
      "application/vnd.jupyter.widget-view+json": {
       "model_id": "4c245bd1baf7433ebbdaa7ea67e40500",
       "version_major": 2,
       "version_minor": 0
      },
      "text/plain": [
       "Training GP:   0%|          | 0/500 [00:00<?, ?it/s]"
      ]
     },
     "metadata": {},
     "output_type": "display_data"
    },
    {
     "name": "stdout",
     "output_type": "stream",
     "text": [
      "\n",
      "Run 2/10\n",
      "Initial points (x1, ..., x10, f(x)):\n",
      "tensor([[-9.9147e+00, -7.8886e+00, -4.2832e+00, -9.4609e+00, -5.6771e-01,\n",
      "         -8.7977e+00,  5.4373e+00,  4.8740e+00,  1.8884e+00,  7.7571e+00,\n",
      "          1.8006e+02],\n",
      "        [-9.7937e-01,  5.9898e+00, -7.0032e+00, -1.9706e+00, -8.9165e+00,\n",
      "         -8.1190e-01, -6.4879e+00,  8.9837e+00,  6.9464e+00,  7.4971e+00,\n",
      "          1.6025e+02],\n",
      "        [ 2.9662e+00, -5.7048e+00,  8.9861e+00, -9.7578e+00, -6.3825e+00,\n",
      "         -6.2457e+00, -4.1451e+00,  1.9940e+00, -7.5749e+00, -7.7041e+00,\n",
      "          2.2921e+02],\n",
      "        [-4.7824e+00,  6.1034e+00, -7.2128e+00, -8.9690e+00, -8.6671e+00,\n",
      "         -4.9209e+00, -2.6275e+00, -9.9135e+00, -4.6819e+00,  1.9238e-01,\n",
      "          1.8030e+02],\n",
      "        [ 1.6484e+00, -1.4336e+00, -1.1339e+00, -6.5057e+00,  5.1231e+00,\n",
      "         -2.4090e+00, -6.8372e+00, -2.4082e+00, -1.3971e+00,  9.2461e+00,\n",
      "          1.0999e+02],\n",
      "        [ 5.2116e+00, -4.0379e+00, -1.4187e+00,  8.8367e+00,  6.4244e+00,\n",
      "          2.4933e+00, -3.5872e+00,  8.3208e+00,  4.2843e+00, -4.4537e+00,\n",
      "          7.7601e+01],\n",
      "        [ 7.0966e+00,  7.1273e-01, -7.3956e+00, -4.4324e+00, -7.4894e+00,\n",
      "         -8.2825e+00,  2.4447e-01, -7.1663e+00,  5.3295e+00,  4.4722e+00,\n",
      "          9.9389e+01],\n",
      "        [ 2.1511e+00,  8.2397e+00, -4.5362e+00,  1.4912e-01,  6.1447e+00,\n",
      "          3.4566e+00,  1.2116e+00,  8.3620e+00,  2.2791e+00,  6.7283e+00,\n",
      "          4.4100e+01],\n",
      "        [-8.6180e+00, -8.6171e+00, -9.0259e+00,  5.6608e-01,  8.4862e+00,\n",
      "         -8.7268e+00,  3.9790e+00, -8.8248e+00, -6.6456e+00, -3.4100e+00,\n",
      "          1.3048e+02],\n",
      "        [-4.0664e+00,  2.9537e+00, -8.3851e+00,  9.8889e+00,  1.4578e+00,\n",
      "          3.4861e+00, -6.7552e+00,  5.5186e+00, -2.3349e+00, -4.9754e+00,\n",
      "          1.2349e+02]])\n"
     ]
    },
    {
     "data": {
      "application/vnd.jupyter.widget-view+json": {
       "model_id": "174be347a5e84f829168296f016fae57",
       "version_major": 2,
       "version_minor": 0
      },
      "text/plain": [
       "Training GP:   0%|          | 0/500 [00:00<?, ?it/s]"
      ]
     },
     "metadata": {},
     "output_type": "display_data"
    },
    {
     "name": "stdout",
     "output_type": "stream",
     "text": [
      "Iteration 0, incumbent x=([2.151099920272827, 8.239700317382812, -4.536200046539307, 0.14910000562667847, 6.144700050354004, 3.4565999507904053, 1.2115999460220337, 8.362000465393066, 2.279099941253662, 6.728300094604492]), f(x)=44.1003\n"
     ]
    },
    {
     "data": {
      "application/vnd.jupyter.widget-view+json": {
       "model_id": "3f199b1fa3df45c981920fa8fe51a161",
       "version_major": 2,
       "version_minor": 0
      },
      "text/plain": [
       "Training GP:   0%|          | 0/500 [00:00<?, ?it/s]"
      ]
     },
     "metadata": {},
     "output_type": "display_data"
    },
    {
     "name": "stdout",
     "output_type": "stream",
     "text": [
      "Iteration 1, incumbent x=([2.151099920272827, 8.239700317382812, -4.536200046539307, 0.14910000562667847, 6.144700050354004, 3.4565999507904053, 1.2115999460220337, 8.362000465393066, 2.279099941253662, 6.728300094604492]), f(x)=44.1003\n"
     ]
    },
    {
     "data": {
      "application/vnd.jupyter.widget-view+json": {
       "model_id": "a66b592889dd4fafbda86dd36487ba49",
       "version_major": 2,
       "version_minor": 0
      },
      "text/plain": [
       "Training GP:   0%|          | 0/500 [00:00<?, ?it/s]"
      ]
     },
     "metadata": {},
     "output_type": "display_data"
    },
    {
     "name": "stdout",
     "output_type": "stream",
     "text": [
      "Iteration 2, incumbent x=([-3.6194000244140625, 0.10010000318288803, -4.331500053405762, -1.0198999643325806, -8.909600257873535, -0.39809998869895935, -4.0802998542785645, 4.52869987487793, 7.336100101470947, -2.83870005607605]), f(x)=39.3176\n"
     ]
    },
    {
     "data": {
      "application/vnd.jupyter.widget-view+json": {
       "model_id": "2fcd984de3204567a39d0ac3dffc65fe",
       "version_major": 2,
       "version_minor": 0
      },
      "text/plain": [
       "Training GP:   0%|          | 0/500 [00:00<?, ?it/s]"
      ]
     },
     "metadata": {},
     "output_type": "display_data"
    },
    {
     "name": "stdout",
     "output_type": "stream",
     "text": [
      "Iteration 3, incumbent x=([-3.6194000244140625, 0.10010000318288803, -4.331500053405762, -1.0198999643325806, -8.909600257873535, -0.39809998869895935, -4.0802998542785645, 4.52869987487793, 7.336100101470947, -2.83870005607605]), f(x)=39.3176\n"
     ]
    },
    {
     "data": {
      "application/vnd.jupyter.widget-view+json": {
       "model_id": "b3de161d32a04971bec56d2132ac7d11",
       "version_major": 2,
       "version_minor": 0
      },
      "text/plain": [
       "Training GP:   0%|          | 0/500 [00:00<?, ?it/s]"
      ]
     },
     "metadata": {},
     "output_type": "display_data"
    },
    {
     "name": "stdout",
     "output_type": "stream",
     "text": [
      "Iteration 4, incumbent x=([-3.6194000244140625, 0.10010000318288803, -4.331500053405762, -1.0198999643325806, -8.909600257873535, -0.39809998869895935, -4.0802998542785645, 4.52869987487793, 7.336100101470947, -2.83870005607605]), f(x)=39.3176\n"
     ]
    },
    {
     "data": {
      "application/vnd.jupyter.widget-view+json": {
       "model_id": "2e30b7c7969c4df4a7fcfec0f317dff8",
       "version_major": 2,
       "version_minor": 0
      },
      "text/plain": [
       "Training GP:   0%|          | 0/500 [00:00<?, ?it/s]"
      ]
     },
     "metadata": {},
     "output_type": "display_data"
    },
    {
     "name": "stdout",
     "output_type": "stream",
     "text": [
      "Iteration 5, incumbent x=([-3.6194000244140625, 0.10010000318288803, -4.331500053405762, -1.0198999643325806, -8.909600257873535, -0.39809998869895935, -4.0802998542785645, 4.52869987487793, 7.336100101470947, -2.83870005607605]), f(x)=39.3176\n"
     ]
    },
    {
     "data": {
      "application/vnd.jupyter.widget-view+json": {
       "model_id": "109030bf951c4ab1bbc5bcde6a6a42e4",
       "version_major": 2,
       "version_minor": 0
      },
      "text/plain": [
       "Training GP:   0%|          | 0/500 [00:00<?, ?it/s]"
      ]
     },
     "metadata": {},
     "output_type": "display_data"
    },
    {
     "name": "stdout",
     "output_type": "stream",
     "text": [
      "Iteration 6, incumbent x=([-3.6194000244140625, 0.10010000318288803, -4.331500053405762, -1.0198999643325806, -8.909600257873535, -0.39809998869895935, -4.0802998542785645, 4.52869987487793, 7.336100101470947, -2.83870005607605]), f(x)=39.3176\n"
     ]
    },
    {
     "data": {
      "application/vnd.jupyter.widget-view+json": {
       "model_id": "5bbc37b0463340a4b9189f90646195c3",
       "version_major": 2,
       "version_minor": 0
      },
      "text/plain": [
       "Training GP:   0%|          | 0/500 [00:00<?, ?it/s]"
      ]
     },
     "metadata": {},
     "output_type": "display_data"
    },
    {
     "name": "stdout",
     "output_type": "stream",
     "text": [
      "Iteration 7, incumbent x=([-3.6194000244140625, 0.10010000318288803, -4.331500053405762, -1.0198999643325806, -8.909600257873535, -0.39809998869895935, -4.0802998542785645, 4.52869987487793, 7.336100101470947, -2.83870005607605]), f(x)=39.3176\n"
     ]
    },
    {
     "data": {
      "application/vnd.jupyter.widget-view+json": {
       "model_id": "d985297758e2448ba47a4ed65a5f8a9c",
       "version_major": 2,
       "version_minor": 0
      },
      "text/plain": [
       "Training GP:   0%|          | 0/500 [00:00<?, ?it/s]"
      ]
     },
     "metadata": {},
     "output_type": "display_data"
    },
    {
     "name": "stdout",
     "output_type": "stream",
     "text": [
      "Iteration 8, incumbent x=([-3.6194000244140625, 0.10010000318288803, -4.331500053405762, -1.0198999643325806, -8.909600257873535, -0.39809998869895935, -4.0802998542785645, 4.52869987487793, 7.336100101470947, -2.83870005607605]), f(x)=39.3176\n"
     ]
    },
    {
     "data": {
      "application/vnd.jupyter.widget-view+json": {
       "model_id": "0368260ae9ae4643b65836d5c8350510",
       "version_major": 2,
       "version_minor": 0
      },
      "text/plain": [
       "Training GP:   0%|          | 0/500 [00:00<?, ?it/s]"
      ]
     },
     "metadata": {},
     "output_type": "display_data"
    },
    {
     "name": "stdout",
     "output_type": "stream",
     "text": [
      "Iteration 9, incumbent x=([-3.6194000244140625, 0.10010000318288803, -4.331500053405762, -1.0198999643325806, -8.909600257873535, -0.39809998869895935, -4.0802998542785645, 4.52869987487793, 7.336100101470947, -2.83870005607605]), f(x)=39.3176\n"
     ]
    },
    {
     "data": {
      "application/vnd.jupyter.widget-view+json": {
       "model_id": "f148482cab9e4dcb93b65ed02a189786",
       "version_major": 2,
       "version_minor": 0
      },
      "text/plain": [
       "Training GP:   0%|          | 0/500 [00:00<?, ?it/s]"
      ]
     },
     "metadata": {},
     "output_type": "display_data"
    },
    {
     "name": "stdout",
     "output_type": "stream",
     "text": [
      "Iteration 10, incumbent x=([-3.6194000244140625, 0.10010000318288803, -4.331500053405762, -1.0198999643325806, -8.909600257873535, -0.39809998869895935, -4.0802998542785645, 4.52869987487793, 7.336100101470947, -2.83870005607605]), f(x)=39.3176\n"
     ]
    },
    {
     "data": {
      "application/vnd.jupyter.widget-view+json": {
       "model_id": "9a5754bad9d74b069fb5e952e6541edd",
       "version_major": 2,
       "version_minor": 0
      },
      "text/plain": [
       "Training GP:   0%|          | 0/500 [00:00<?, ?it/s]"
      ]
     },
     "metadata": {},
     "output_type": "display_data"
    },
    {
     "name": "stdout",
     "output_type": "stream",
     "text": [
      "Iteration 11, incumbent x=([-3.6194000244140625, 0.10010000318288803, -4.331500053405762, -1.0198999643325806, -8.909600257873535, -0.39809998869895935, -4.0802998542785645, 4.52869987487793, 7.336100101470947, -2.83870005607605]), f(x)=39.3176\n"
     ]
    },
    {
     "data": {
      "application/vnd.jupyter.widget-view+json": {
       "model_id": "24315121d8ac4db8bd4eacaa7ea479bd",
       "version_major": 2,
       "version_minor": 0
      },
      "text/plain": [
       "Training GP:   0%|          | 0/500 [00:00<?, ?it/s]"
      ]
     },
     "metadata": {},
     "output_type": "display_data"
    },
    {
     "name": "stdout",
     "output_type": "stream",
     "text": [
      "Iteration 12, incumbent x=([-3.6194000244140625, 0.10010000318288803, -4.331500053405762, -1.0198999643325806, -8.909600257873535, -0.39809998869895935, -4.0802998542785645, 4.52869987487793, 7.336100101470947, -2.83870005607605]), f(x)=39.3176\n"
     ]
    },
    {
     "data": {
      "application/vnd.jupyter.widget-view+json": {
       "model_id": "23a0ba5839db4567a57148b8067019e0",
       "version_major": 2,
       "version_minor": 0
      },
      "text/plain": [
       "Training GP:   0%|          | 0/500 [00:00<?, ?it/s]"
      ]
     },
     "metadata": {},
     "output_type": "display_data"
    },
    {
     "name": "stdout",
     "output_type": "stream",
     "text": [
      "Iteration 13, incumbent x=([-3.6194000244140625, 0.10010000318288803, -4.331500053405762, -1.0198999643325806, -8.909600257873535, -0.39809998869895935, -4.0802998542785645, 4.52869987487793, 7.336100101470947, -2.83870005607605]), f(x)=39.3176\n"
     ]
    },
    {
     "data": {
      "application/vnd.jupyter.widget-view+json": {
       "model_id": "70f9783f4e8346309fa9553989a078ad",
       "version_major": 2,
       "version_minor": 0
      },
      "text/plain": [
       "Training GP:   0%|          | 0/500 [00:00<?, ?it/s]"
      ]
     },
     "metadata": {},
     "output_type": "display_data"
    },
    {
     "name": "stdout",
     "output_type": "stream",
     "text": [
      "Iteration 14, incumbent x=([-3.6194000244140625, 0.10010000318288803, -4.331500053405762, -1.0198999643325806, -8.909600257873535, -0.39809998869895935, -4.0802998542785645, 4.52869987487793, 7.336100101470947, -2.83870005607605]), f(x)=39.3176\n"
     ]
    },
    {
     "data": {
      "application/vnd.jupyter.widget-view+json": {
       "model_id": "6ccf29d763924b1c85dc1af01d467a26",
       "version_major": 2,
       "version_minor": 0
      },
      "text/plain": [
       "Training GP:   0%|          | 0/500 [00:00<?, ?it/s]"
      ]
     },
     "metadata": {},
     "output_type": "display_data"
    },
    {
     "name": "stdout",
     "output_type": "stream",
     "text": [
      "Iteration 15, incumbent x=([-3.6194000244140625, 0.10010000318288803, -4.331500053405762, -1.0198999643325806, -8.909600257873535, -0.39809998869895935, -4.0802998542785645, 4.52869987487793, 7.336100101470947, -2.83870005607605]), f(x)=39.3176\n"
     ]
    },
    {
     "data": {
      "application/vnd.jupyter.widget-view+json": {
       "model_id": "3ef95ed136594dbbb6936da04e425a76",
       "version_major": 2,
       "version_minor": 0
      },
      "text/plain": [
       "Training GP:   0%|          | 0/500 [00:00<?, ?it/s]"
      ]
     },
     "metadata": {},
     "output_type": "display_data"
    },
    {
     "name": "stdout",
     "output_type": "stream",
     "text": [
      "Iteration 16, incumbent x=([-3.6194000244140625, 0.10010000318288803, -4.331500053405762, -1.0198999643325806, -8.909600257873535, -0.39809998869895935, -4.0802998542785645, 4.52869987487793, 7.336100101470947, -2.83870005607605]), f(x)=39.3176\n"
     ]
    },
    {
     "data": {
      "application/vnd.jupyter.widget-view+json": {
       "model_id": "a75ebc4849504e65aeb6c2f19b5d2ac5",
       "version_major": 2,
       "version_minor": 0
      },
      "text/plain": [
       "Training GP:   0%|          | 0/500 [00:00<?, ?it/s]"
      ]
     },
     "metadata": {},
     "output_type": "display_data"
    },
    {
     "name": "stdout",
     "output_type": "stream",
     "text": [
      "Iteration 17, incumbent x=([-3.6194000244140625, 0.10010000318288803, -4.331500053405762, -1.0198999643325806, -8.909600257873535, -0.39809998869895935, -4.0802998542785645, 4.52869987487793, 7.336100101470947, -2.83870005607605]), f(x)=39.3176\n"
     ]
    },
    {
     "data": {
      "application/vnd.jupyter.widget-view+json": {
       "model_id": "c26fb1a184cd4c15aa41d3f5d87c6ca9",
       "version_major": 2,
       "version_minor": 0
      },
      "text/plain": [
       "Training GP:   0%|          | 0/500 [00:00<?, ?it/s]"
      ]
     },
     "metadata": {},
     "output_type": "display_data"
    },
    {
     "name": "stdout",
     "output_type": "stream",
     "text": [
      "Iteration 18, incumbent x=([-2.2492001056671143, 2.0576999187469482, -4.600399971008301, 0.9412999749183655, 0.8862000107765198, 1.6366000175476074, -7.828499794006348, 1.729699969291687, -3.197200059890747, 9.350700378417969]), f(x)=35.5563\n"
     ]
    },
    {
     "data": {
      "application/vnd.jupyter.widget-view+json": {
       "model_id": "cbac869f4307439991e68b1fc1749a8c",
       "version_major": 2,
       "version_minor": 0
      },
      "text/plain": [
       "Training GP:   0%|          | 0/500 [00:00<?, ?it/s]"
      ]
     },
     "metadata": {},
     "output_type": "display_data"
    },
    {
     "name": "stdout",
     "output_type": "stream",
     "text": [
      "Iteration 19, incumbent x=([-2.2492001056671143, 2.0576999187469482, -4.600399971008301, 0.9412999749183655, 0.8862000107765198, 1.6366000175476074, -7.828499794006348, 1.729699969291687, -3.197200059890747, 9.350700378417969]), f(x)=35.5563\n"
     ]
    },
    {
     "data": {
      "application/vnd.jupyter.widget-view+json": {
       "model_id": "43cd3d3f30c24327bfc33189b3846027",
       "version_major": 2,
       "version_minor": 0
      },
      "text/plain": [
       "Training GP:   0%|          | 0/500 [00:00<?, ?it/s]"
      ]
     },
     "metadata": {},
     "output_type": "display_data"
    },
    {
     "name": "stdout",
     "output_type": "stream",
     "text": [
      "Iteration 20, incumbent x=([-2.2492001056671143, 2.0576999187469482, -4.600399971008301, 0.9412999749183655, 0.8862000107765198, 1.6366000175476074, -7.828499794006348, 1.729699969291687, -3.197200059890747, 9.350700378417969]), f(x)=35.5563\n"
     ]
    },
    {
     "data": {
      "application/vnd.jupyter.widget-view+json": {
       "model_id": "3eae7278e417430687af46bb6233bfbb",
       "version_major": 2,
       "version_minor": 0
      },
      "text/plain": [
       "Training GP:   0%|          | 0/500 [00:00<?, ?it/s]"
      ]
     },
     "metadata": {},
     "output_type": "display_data"
    },
    {
     "name": "stdout",
     "output_type": "stream",
     "text": [
      "Iteration 21, incumbent x=([-2.2492001056671143, 2.0576999187469482, -4.600399971008301, 0.9412999749183655, 0.8862000107765198, 1.6366000175476074, -7.828499794006348, 1.729699969291687, -3.197200059890747, 9.350700378417969]), f(x)=35.5563\n"
     ]
    },
    {
     "data": {
      "application/vnd.jupyter.widget-view+json": {
       "model_id": "0edaa91f09854f428c7958703f3ca410",
       "version_major": 2,
       "version_minor": 0
      },
      "text/plain": [
       "Training GP:   0%|          | 0/500 [00:00<?, ?it/s]"
      ]
     },
     "metadata": {},
     "output_type": "display_data"
    },
    {
     "name": "stdout",
     "output_type": "stream",
     "text": [
      "Iteration 22, incumbent x=([-2.2492001056671143, 2.0576999187469482, -4.600399971008301, 0.9412999749183655, 0.8862000107765198, 1.6366000175476074, -7.828499794006348, 1.729699969291687, -3.197200059890747, 9.350700378417969]), f(x)=35.5563\n"
     ]
    },
    {
     "data": {
      "application/vnd.jupyter.widget-view+json": {
       "model_id": "198779b9c80a4df09d677ccd8a1fc2c8",
       "version_major": 2,
       "version_minor": 0
      },
      "text/plain": [
       "Training GP:   0%|          | 0/500 [00:00<?, ?it/s]"
      ]
     },
     "metadata": {},
     "output_type": "display_data"
    },
    {
     "name": "stdout",
     "output_type": "stream",
     "text": [
      "Iteration 23, incumbent x=([-2.2492001056671143, 2.0576999187469482, -4.600399971008301, 0.9412999749183655, 0.8862000107765198, 1.6366000175476074, -7.828499794006348, 1.729699969291687, -3.197200059890747, 9.350700378417969]), f(x)=35.5563\n"
     ]
    },
    {
     "data": {
      "application/vnd.jupyter.widget-view+json": {
       "model_id": "578ba6bdba8d49c99314cabbf3eb8a08",
       "version_major": 2,
       "version_minor": 0
      },
      "text/plain": [
       "Training GP:   0%|          | 0/500 [00:00<?, ?it/s]"
      ]
     },
     "metadata": {},
     "output_type": "display_data"
    },
    {
     "name": "stdout",
     "output_type": "stream",
     "text": [
      "Iteration 24, incumbent x=([-2.2492001056671143, 2.0576999187469482, -4.600399971008301, 0.9412999749183655, 0.8862000107765198, 1.6366000175476074, -7.828499794006348, 1.729699969291687, -3.197200059890747, 9.350700378417969]), f(x)=35.5563\n"
     ]
    },
    {
     "data": {
      "application/vnd.jupyter.widget-view+json": {
       "model_id": "d364296b55f6490fad48b4ab412727a2",
       "version_major": 2,
       "version_minor": 0
      },
      "text/plain": [
       "Training GP:   0%|          | 0/500 [00:00<?, ?it/s]"
      ]
     },
     "metadata": {},
     "output_type": "display_data"
    },
    {
     "name": "stdout",
     "output_type": "stream",
     "text": [
      "Iteration 25, incumbent x=([-2.2492001056671143, 2.0576999187469482, -4.600399971008301, 0.9412999749183655, 0.8862000107765198, 1.6366000175476074, -7.828499794006348, 1.729699969291687, -3.197200059890747, 9.350700378417969]), f(x)=35.5563\n"
     ]
    },
    {
     "data": {
      "application/vnd.jupyter.widget-view+json": {
       "model_id": "94b17d4b629745f8b582ad3f0965699a",
       "version_major": 2,
       "version_minor": 0
      },
      "text/plain": [
       "Training GP:   0%|          | 0/500 [00:00<?, ?it/s]"
      ]
     },
     "metadata": {},
     "output_type": "display_data"
    },
    {
     "name": "stdout",
     "output_type": "stream",
     "text": [
      "Iteration 26, incumbent x=([-2.2492001056671143, 2.0576999187469482, -4.600399971008301, 0.9412999749183655, 0.8862000107765198, 1.6366000175476074, -7.828499794006348, 1.729699969291687, -3.197200059890747, 9.350700378417969]), f(x)=35.5563\n"
     ]
    },
    {
     "data": {
      "application/vnd.jupyter.widget-view+json": {
       "model_id": "e3c52ed3cd2c415eb271587e19f65cfa",
       "version_major": 2,
       "version_minor": 0
      },
      "text/plain": [
       "Training GP:   0%|          | 0/500 [00:00<?, ?it/s]"
      ]
     },
     "metadata": {},
     "output_type": "display_data"
    },
    {
     "name": "stdout",
     "output_type": "stream",
     "text": [
      "Iteration 27, incumbent x=([-2.2492001056671143, 2.0576999187469482, -4.600399971008301, 0.9412999749183655, 0.8862000107765198, 1.6366000175476074, -7.828499794006348, 1.729699969291687, -3.197200059890747, 9.350700378417969]), f(x)=35.5563\n"
     ]
    },
    {
     "data": {
      "application/vnd.jupyter.widget-view+json": {
       "model_id": "1efb9b694c9c4e038e53b6fd96821d42",
       "version_major": 2,
       "version_minor": 0
      },
      "text/plain": [
       "Training GP:   0%|          | 0/500 [00:00<?, ?it/s]"
      ]
     },
     "metadata": {},
     "output_type": "display_data"
    },
    {
     "name": "stdout",
     "output_type": "stream",
     "text": [
      "Iteration 28, incumbent x=([-2.2492001056671143, 2.0576999187469482, -4.600399971008301, 0.9412999749183655, 0.8862000107765198, 1.6366000175476074, -7.828499794006348, 1.729699969291687, -3.197200059890747, 9.350700378417969]), f(x)=35.5563\n"
     ]
    },
    {
     "data": {
      "application/vnd.jupyter.widget-view+json": {
       "model_id": "6c104718fefe40258c133d64e2f709d2",
       "version_major": 2,
       "version_minor": 0
      },
      "text/plain": [
       "Training GP:   0%|          | 0/500 [00:00<?, ?it/s]"
      ]
     },
     "metadata": {},
     "output_type": "display_data"
    },
    {
     "name": "stdout",
     "output_type": "stream",
     "text": [
      "Iteration 29, incumbent x=([-2.2492001056671143, 2.0576999187469482, -4.600399971008301, 0.9412999749183655, 0.8862000107765198, 1.6366000175476074, -7.828499794006348, 1.729699969291687, -3.197200059890747, 9.350700378417969]), f(x)=35.5563\n"
     ]
    },
    {
     "data": {
      "application/vnd.jupyter.widget-view+json": {
       "model_id": "71e4b878fa9a4769bd19ebc2800a17fa",
       "version_major": 2,
       "version_minor": 0
      },
      "text/plain": [
       "Training GP:   0%|          | 0/500 [00:00<?, ?it/s]"
      ]
     },
     "metadata": {},
     "output_type": "display_data"
    },
    {
     "name": "stdout",
     "output_type": "stream",
     "text": [
      "Iteration 30, incumbent x=([-2.2492001056671143, 2.0576999187469482, -4.600399971008301, 0.9412999749183655, 0.8862000107765198, 1.6366000175476074, -7.828499794006348, 1.729699969291687, -3.197200059890747, 9.350700378417969]), f(x)=35.5563\n"
     ]
    },
    {
     "data": {
      "application/vnd.jupyter.widget-view+json": {
       "model_id": "ad3d7f042e83456aa1defc8329d60606",
       "version_major": 2,
       "version_minor": 0
      },
      "text/plain": [
       "Training GP:   0%|          | 0/500 [00:00<?, ?it/s]"
      ]
     },
     "metadata": {},
     "output_type": "display_data"
    },
    {
     "name": "stdout",
     "output_type": "stream",
     "text": [
      "Iteration 31, incumbent x=([-2.2492001056671143, 2.0576999187469482, -4.600399971008301, 0.9412999749183655, 0.8862000107765198, 1.6366000175476074, -7.828499794006348, 1.729699969291687, -3.197200059890747, 9.350700378417969]), f(x)=35.5563\n"
     ]
    },
    {
     "data": {
      "application/vnd.jupyter.widget-view+json": {
       "model_id": "1941677d02bc449dbacca0f3f99b61ab",
       "version_major": 2,
       "version_minor": 0
      },
      "text/plain": [
       "Training GP:   0%|          | 0/500 [00:00<?, ?it/s]"
      ]
     },
     "metadata": {},
     "output_type": "display_data"
    },
    {
     "name": "stdout",
     "output_type": "stream",
     "text": [
      "Iteration 32, incumbent x=([-2.2492001056671143, 2.0576999187469482, -4.600399971008301, 0.9412999749183655, 0.8862000107765198, 1.6366000175476074, -7.828499794006348, 1.729699969291687, -3.197200059890747, 9.350700378417969]), f(x)=35.5563\n"
     ]
    },
    {
     "data": {
      "application/vnd.jupyter.widget-view+json": {
       "model_id": "72b85cb0d8f94c11b939f06929fcb5b2",
       "version_major": 2,
       "version_minor": 0
      },
      "text/plain": [
       "Training GP:   0%|          | 0/500 [00:00<?, ?it/s]"
      ]
     },
     "metadata": {},
     "output_type": "display_data"
    },
    {
     "name": "stdout",
     "output_type": "stream",
     "text": [
      "Iteration 33, incumbent x=([-2.2492001056671143, 2.0576999187469482, -4.600399971008301, 0.9412999749183655, 0.8862000107765198, 1.6366000175476074, -7.828499794006348, 1.729699969291687, -3.197200059890747, 9.350700378417969]), f(x)=35.5563\n"
     ]
    },
    {
     "data": {
      "application/vnd.jupyter.widget-view+json": {
       "model_id": "1a40bf0a9df041449390a532dd421bf1",
       "version_major": 2,
       "version_minor": 0
      },
      "text/plain": [
       "Training GP:   0%|          | 0/500 [00:00<?, ?it/s]"
      ]
     },
     "metadata": {},
     "output_type": "display_data"
    },
    {
     "name": "stdout",
     "output_type": "stream",
     "text": [
      "Iteration 34, incumbent x=([-2.2492001056671143, 2.0576999187469482, -4.600399971008301, 0.9412999749183655, 0.8862000107765198, 1.6366000175476074, -7.828499794006348, 1.729699969291687, -3.197200059890747, 9.350700378417969]), f(x)=35.5563\n"
     ]
    },
    {
     "data": {
      "application/vnd.jupyter.widget-view+json": {
       "model_id": "4a1ba8c336d74bbb9c161f83b84a322f",
       "version_major": 2,
       "version_minor": 0
      },
      "text/plain": [
       "Training GP:   0%|          | 0/500 [00:00<?, ?it/s]"
      ]
     },
     "metadata": {},
     "output_type": "display_data"
    },
    {
     "name": "stdout",
     "output_type": "stream",
     "text": [
      "Iteration 35, incumbent x=([-2.2492001056671143, 2.0576999187469482, -4.600399971008301, 0.9412999749183655, 0.8862000107765198, 1.6366000175476074, -7.828499794006348, 1.729699969291687, -3.197200059890747, 9.350700378417969]), f(x)=35.5563\n"
     ]
    },
    {
     "data": {
      "application/vnd.jupyter.widget-view+json": {
       "model_id": "c995dd73b2394387b67810756790cd12",
       "version_major": 2,
       "version_minor": 0
      },
      "text/plain": [
       "Training GP:   0%|          | 0/500 [00:00<?, ?it/s]"
      ]
     },
     "metadata": {},
     "output_type": "display_data"
    },
    {
     "name": "stdout",
     "output_type": "stream",
     "text": [
      "Iteration 36, incumbent x=([-2.2492001056671143, 2.0576999187469482, -4.600399971008301, 0.9412999749183655, 0.8862000107765198, 1.6366000175476074, -7.828499794006348, 1.729699969291687, -3.197200059890747, 9.350700378417969]), f(x)=35.5563\n"
     ]
    },
    {
     "data": {
      "application/vnd.jupyter.widget-view+json": {
       "model_id": "68a043828f3746f19192d50413a08ca1",
       "version_major": 2,
       "version_minor": 0
      },
      "text/plain": [
       "Training GP:   0%|          | 0/500 [00:00<?, ?it/s]"
      ]
     },
     "metadata": {},
     "output_type": "display_data"
    },
    {
     "name": "stdout",
     "output_type": "stream",
     "text": [
      "Iteration 37, incumbent x=([-2.2492001056671143, 2.0576999187469482, -4.600399971008301, 0.9412999749183655, 0.8862000107765198, 1.6366000175476074, -7.828499794006348, 1.729699969291687, -3.197200059890747, 9.350700378417969]), f(x)=35.5563\n"
     ]
    },
    {
     "data": {
      "application/vnd.jupyter.widget-view+json": {
       "model_id": "239f757caf634e46a0815aa5b6278198",
       "version_major": 2,
       "version_minor": 0
      },
      "text/plain": [
       "Training GP:   0%|          | 0/500 [00:00<?, ?it/s]"
      ]
     },
     "metadata": {},
     "output_type": "display_data"
    },
    {
     "name": "stdout",
     "output_type": "stream",
     "text": [
      "Iteration 38, incumbent x=([-2.2492001056671143, 2.0576999187469482, -4.600399971008301, 0.9412999749183655, 0.8862000107765198, 1.6366000175476074, -7.828499794006348, 1.729699969291687, -3.197200059890747, 9.350700378417969]), f(x)=35.5563\n"
     ]
    },
    {
     "data": {
      "application/vnd.jupyter.widget-view+json": {
       "model_id": "2c40c5cd87034b0d849d8b8d104ca940",
       "version_major": 2,
       "version_minor": 0
      },
      "text/plain": [
       "Training GP:   0%|          | 0/500 [00:00<?, ?it/s]"
      ]
     },
     "metadata": {},
     "output_type": "display_data"
    },
    {
     "name": "stdout",
     "output_type": "stream",
     "text": [
      "Iteration 39, incumbent x=([-2.2492001056671143, 2.0576999187469482, -4.600399971008301, 0.9412999749183655, 0.8862000107765198, 1.6366000175476074, -7.828499794006348, 1.729699969291687, -3.197200059890747, 9.350700378417969]), f(x)=35.5563\n"
     ]
    },
    {
     "data": {
      "application/vnd.jupyter.widget-view+json": {
       "model_id": "ebe457f9a51f46468ed70e90a21b4dfa",
       "version_major": 2,
       "version_minor": 0
      },
      "text/plain": [
       "Training GP:   0%|          | 0/500 [00:00<?, ?it/s]"
      ]
     },
     "metadata": {},
     "output_type": "display_data"
    },
    {
     "name": "stdout",
     "output_type": "stream",
     "text": [
      "Iteration 40, incumbent x=([-2.2492001056671143, 2.0576999187469482, -4.600399971008301, 0.9412999749183655, 0.8862000107765198, 1.6366000175476074, -7.828499794006348, 1.729699969291687, -3.197200059890747, 9.350700378417969]), f(x)=35.5563\n"
     ]
    },
    {
     "data": {
      "application/vnd.jupyter.widget-view+json": {
       "model_id": "8cdbca00985547b6b673bee2c936fb93",
       "version_major": 2,
       "version_minor": 0
      },
      "text/plain": [
       "Training GP:   0%|          | 0/500 [00:00<?, ?it/s]"
      ]
     },
     "metadata": {},
     "output_type": "display_data"
    },
    {
     "name": "stdout",
     "output_type": "stream",
     "text": [
      "Iteration 41, incumbent x=([-2.2492001056671143, 2.0576999187469482, -4.600399971008301, 0.9412999749183655, 0.8862000107765198, 1.6366000175476074, -7.828499794006348, 1.729699969291687, -3.197200059890747, 9.350700378417969]), f(x)=35.5563\n"
     ]
    },
    {
     "data": {
      "application/vnd.jupyter.widget-view+json": {
       "model_id": "2fce0f2f15b24c7095b5ad82e378fcf8",
       "version_major": 2,
       "version_minor": 0
      },
      "text/plain": [
       "Training GP:   0%|          | 0/500 [00:00<?, ?it/s]"
      ]
     },
     "metadata": {},
     "output_type": "display_data"
    },
    {
     "name": "stdout",
     "output_type": "stream",
     "text": [
      "Iteration 42, incumbent x=([-2.2492001056671143, 2.0576999187469482, -4.600399971008301, 0.9412999749183655, 0.8862000107765198, 1.6366000175476074, -7.828499794006348, 1.729699969291687, -3.197200059890747, 9.350700378417969]), f(x)=35.5563\n"
     ]
    },
    {
     "data": {
      "application/vnd.jupyter.widget-view+json": {
       "model_id": "fe73baa2112e4cdd964e0bfe82265a07",
       "version_major": 2,
       "version_minor": 0
      },
      "text/plain": [
       "Training GP:   0%|          | 0/500 [00:00<?, ?it/s]"
      ]
     },
     "metadata": {},
     "output_type": "display_data"
    },
    {
     "name": "stdout",
     "output_type": "stream",
     "text": [
      "Iteration 43, incumbent x=([-2.2492001056671143, 2.0576999187469482, -4.600399971008301, 0.9412999749183655, 0.8862000107765198, 1.6366000175476074, -7.828499794006348, 1.729699969291687, -3.197200059890747, 9.350700378417969]), f(x)=35.5563\n"
     ]
    },
    {
     "data": {
      "application/vnd.jupyter.widget-view+json": {
       "model_id": "10fc0e99e69b4813a9c7d3157428ea95",
       "version_major": 2,
       "version_minor": 0
      },
      "text/plain": [
       "Training GP:   0%|          | 0/500 [00:00<?, ?it/s]"
      ]
     },
     "metadata": {},
     "output_type": "display_data"
    },
    {
     "name": "stdout",
     "output_type": "stream",
     "text": [
      "Iteration 44, incumbent x=([-2.2492001056671143, 2.0576999187469482, -4.600399971008301, 0.9412999749183655, 0.8862000107765198, 1.6366000175476074, -7.828499794006348, 1.729699969291687, -3.197200059890747, 9.350700378417969]), f(x)=35.5563\n"
     ]
    },
    {
     "data": {
      "application/vnd.jupyter.widget-view+json": {
       "model_id": "ae50376aa1524ff1a4ce82faf7a36003",
       "version_major": 2,
       "version_minor": 0
      },
      "text/plain": [
       "Training GP:   0%|          | 0/500 [00:00<?, ?it/s]"
      ]
     },
     "metadata": {},
     "output_type": "display_data"
    },
    {
     "name": "stdout",
     "output_type": "stream",
     "text": [
      "Iteration 45, incumbent x=([-2.2492001056671143, 2.0576999187469482, -4.600399971008301, 0.9412999749183655, 0.8862000107765198, 1.6366000175476074, -7.828499794006348, 1.729699969291687, -3.197200059890747, 9.350700378417969]), f(x)=35.5563\n"
     ]
    },
    {
     "data": {
      "application/vnd.jupyter.widget-view+json": {
       "model_id": "3e4c012c84964deb890bb08091f0ef24",
       "version_major": 2,
       "version_minor": 0
      },
      "text/plain": [
       "Training GP:   0%|          | 0/500 [00:00<?, ?it/s]"
      ]
     },
     "metadata": {},
     "output_type": "display_data"
    },
    {
     "name": "stdout",
     "output_type": "stream",
     "text": [
      "Iteration 46, incumbent x=([-2.2492001056671143, 2.0576999187469482, -4.600399971008301, 0.9412999749183655, 0.8862000107765198, 1.6366000175476074, -7.828499794006348, 1.729699969291687, -3.197200059890747, 9.350700378417969]), f(x)=35.5563\n"
     ]
    },
    {
     "data": {
      "application/vnd.jupyter.widget-view+json": {
       "model_id": "c418bb8baa964abbb675a83b982d3038",
       "version_major": 2,
       "version_minor": 0
      },
      "text/plain": [
       "Training GP:   0%|          | 0/500 [00:00<?, ?it/s]"
      ]
     },
     "metadata": {},
     "output_type": "display_data"
    },
    {
     "name": "stdout",
     "output_type": "stream",
     "text": [
      "Iteration 47, incumbent x=([-2.2492001056671143, 2.0576999187469482, -4.600399971008301, 0.9412999749183655, 0.8862000107765198, 1.6366000175476074, -7.828499794006348, 1.729699969291687, -3.197200059890747, 9.350700378417969]), f(x)=35.5563\n"
     ]
    },
    {
     "data": {
      "application/vnd.jupyter.widget-view+json": {
       "model_id": "32ee34afcfc545e29dd417137368f66f",
       "version_major": 2,
       "version_minor": 0
      },
      "text/plain": [
       "Training GP:   0%|          | 0/500 [00:00<?, ?it/s]"
      ]
     },
     "metadata": {},
     "output_type": "display_data"
    },
    {
     "name": "stdout",
     "output_type": "stream",
     "text": [
      "Iteration 48, incumbent x=([-2.2492001056671143, 2.0576999187469482, -4.600399971008301, 0.9412999749183655, 0.8862000107765198, 1.6366000175476074, -7.828499794006348, 1.729699969291687, -3.197200059890747, 9.350700378417969]), f(x)=35.5563\n"
     ]
    },
    {
     "data": {
      "application/vnd.jupyter.widget-view+json": {
       "model_id": "480685c16e174b708b0d326f822a8df0",
       "version_major": 2,
       "version_minor": 0
      },
      "text/plain": [
       "Training GP:   0%|          | 0/500 [00:00<?, ?it/s]"
      ]
     },
     "metadata": {},
     "output_type": "display_data"
    },
    {
     "name": "stdout",
     "output_type": "stream",
     "text": [
      "Iteration 49, incumbent x=([-2.2492001056671143, 2.0576999187469482, -4.600399971008301, 0.9412999749183655, 0.8862000107765198, 1.6366000175476074, -7.828499794006348, 1.729699969291687, -3.197200059890747, 9.350700378417969]), f(x)=35.5563\n"
     ]
    },
    {
     "data": {
      "application/vnd.jupyter.widget-view+json": {
       "model_id": "7556a66cdfd44ff582c9c22d14e075f0",
       "version_major": 2,
       "version_minor": 0
      },
      "text/plain": [
       "Training GP:   0%|          | 0/500 [00:00<?, ?it/s]"
      ]
     },
     "metadata": {},
     "output_type": "display_data"
    },
    {
     "name": "stdout",
     "output_type": "stream",
     "text": [
      "Iteration 50, incumbent x=([-2.2492001056671143, 2.0576999187469482, -4.600399971008301, 0.9412999749183655, 0.8862000107765198, 1.6366000175476074, -7.828499794006348, 1.729699969291687, -3.197200059890747, 9.350700378417969]), f(x)=35.5563\n"
     ]
    },
    {
     "data": {
      "application/vnd.jupyter.widget-view+json": {
       "model_id": "2e65b70db6d64878891f2ad46d2be83a",
       "version_major": 2,
       "version_minor": 0
      },
      "text/plain": [
       "Training GP:   0%|          | 0/500 [00:00<?, ?it/s]"
      ]
     },
     "metadata": {},
     "output_type": "display_data"
    },
    {
     "name": "stdout",
     "output_type": "stream",
     "text": [
      "Iteration 51, incumbent x=([-2.2492001056671143, 2.0576999187469482, -4.600399971008301, 0.9412999749183655, 0.8862000107765198, 1.6366000175476074, -7.828499794006348, 1.729699969291687, -3.197200059890747, 9.350700378417969]), f(x)=35.5563\n"
     ]
    },
    {
     "data": {
      "application/vnd.jupyter.widget-view+json": {
       "model_id": "e3e6016cfe5945b68a8927ee5f11ead6",
       "version_major": 2,
       "version_minor": 0
      },
      "text/plain": [
       "Training GP:   0%|          | 0/500 [00:00<?, ?it/s]"
      ]
     },
     "metadata": {},
     "output_type": "display_data"
    },
    {
     "name": "stdout",
     "output_type": "stream",
     "text": [
      "Iteration 52, incumbent x=([-2.2492001056671143, 2.0576999187469482, -4.600399971008301, 0.9412999749183655, 0.8862000107765198, 1.6366000175476074, -7.828499794006348, 1.729699969291687, -3.197200059890747, 9.350700378417969]), f(x)=35.5563\n"
     ]
    },
    {
     "data": {
      "application/vnd.jupyter.widget-view+json": {
       "model_id": "8924de11868e488bb59df3b157a703e5",
       "version_major": 2,
       "version_minor": 0
      },
      "text/plain": [
       "Training GP:   0%|          | 0/500 [00:00<?, ?it/s]"
      ]
     },
     "metadata": {},
     "output_type": "display_data"
    },
    {
     "name": "stdout",
     "output_type": "stream",
     "text": [
      "Iteration 53, incumbent x=([-2.2492001056671143, 2.0576999187469482, -4.600399971008301, 0.9412999749183655, 0.8862000107765198, 1.6366000175476074, -7.828499794006348, 1.729699969291687, -3.197200059890747, 9.350700378417969]), f(x)=35.5563\n"
     ]
    },
    {
     "data": {
      "application/vnd.jupyter.widget-view+json": {
       "model_id": "603c9376a656416487b6c422bb482deb",
       "version_major": 2,
       "version_minor": 0
      },
      "text/plain": [
       "Training GP:   0%|          | 0/500 [00:00<?, ?it/s]"
      ]
     },
     "metadata": {},
     "output_type": "display_data"
    },
    {
     "name": "stdout",
     "output_type": "stream",
     "text": [
      "Iteration 54, incumbent x=([-2.2492001056671143, 2.0576999187469482, -4.600399971008301, 0.9412999749183655, 0.8862000107765198, 1.6366000175476074, -7.828499794006348, 1.729699969291687, -3.197200059890747, 9.350700378417969]), f(x)=35.5563\n"
     ]
    },
    {
     "data": {
      "application/vnd.jupyter.widget-view+json": {
       "model_id": "23f9c545946448948b1715972292ee08",
       "version_major": 2,
       "version_minor": 0
      },
      "text/plain": [
       "Training GP:   0%|          | 0/500 [00:00<?, ?it/s]"
      ]
     },
     "metadata": {},
     "output_type": "display_data"
    },
    {
     "name": "stdout",
     "output_type": "stream",
     "text": [
      "Iteration 55, incumbent x=([-2.2492001056671143, 2.0576999187469482, -4.600399971008301, 0.9412999749183655, 0.8862000107765198, 1.6366000175476074, -7.828499794006348, 1.729699969291687, -3.197200059890747, 9.350700378417969]), f(x)=35.5563\n"
     ]
    },
    {
     "data": {
      "application/vnd.jupyter.widget-view+json": {
       "model_id": "0aaf7e9fff3a4a1bb7cca345f40a04cb",
       "version_major": 2,
       "version_minor": 0
      },
      "text/plain": [
       "Training GP:   0%|          | 0/500 [00:00<?, ?it/s]"
      ]
     },
     "metadata": {},
     "output_type": "display_data"
    },
    {
     "name": "stdout",
     "output_type": "stream",
     "text": [
      "Iteration 56, incumbent x=([-2.2492001056671143, 2.0576999187469482, -4.600399971008301, 0.9412999749183655, 0.8862000107765198, 1.6366000175476074, -7.828499794006348, 1.729699969291687, -3.197200059890747, 9.350700378417969]), f(x)=35.5563\n"
     ]
    },
    {
     "data": {
      "application/vnd.jupyter.widget-view+json": {
       "model_id": "c77bf8725c7e405ea8176102c42ab8eb",
       "version_major": 2,
       "version_minor": 0
      },
      "text/plain": [
       "Training GP:   0%|          | 0/500 [00:00<?, ?it/s]"
      ]
     },
     "metadata": {},
     "output_type": "display_data"
    },
    {
     "name": "stdout",
     "output_type": "stream",
     "text": [
      "Iteration 57, incumbent x=([-2.2492001056671143, 2.0576999187469482, -4.600399971008301, 0.9412999749183655, 0.8862000107765198, 1.6366000175476074, -7.828499794006348, 1.729699969291687, -3.197200059890747, 9.350700378417969]), f(x)=35.5563\n"
     ]
    },
    {
     "data": {
      "application/vnd.jupyter.widget-view+json": {
       "model_id": "ec2954ade5bb4826ab96fc5f9a685516",
       "version_major": 2,
       "version_minor": 0
      },
      "text/plain": [
       "Training GP:   0%|          | 0/500 [00:00<?, ?it/s]"
      ]
     },
     "metadata": {},
     "output_type": "display_data"
    },
    {
     "name": "stdout",
     "output_type": "stream",
     "text": [
      "Iteration 58, incumbent x=([-2.2492001056671143, 2.0576999187469482, -4.600399971008301, 0.9412999749183655, 0.8862000107765198, 1.6366000175476074, -7.828499794006348, 1.729699969291687, -3.197200059890747, 9.350700378417969]), f(x)=35.5563\n"
     ]
    },
    {
     "data": {
      "application/vnd.jupyter.widget-view+json": {
       "model_id": "80c443542cb94d92bd65a2a376643cd2",
       "version_major": 2,
       "version_minor": 0
      },
      "text/plain": [
       "Training GP:   0%|          | 0/500 [00:00<?, ?it/s]"
      ]
     },
     "metadata": {},
     "output_type": "display_data"
    },
    {
     "name": "stdout",
     "output_type": "stream",
     "text": [
      "Iteration 59, incumbent x=([-2.2492001056671143, 2.0576999187469482, -4.600399971008301, 0.9412999749183655, 0.8862000107765198, 1.6366000175476074, -7.828499794006348, 1.729699969291687, -3.197200059890747, 9.350700378417969]), f(x)=35.5563\n"
     ]
    },
    {
     "data": {
      "application/vnd.jupyter.widget-view+json": {
       "model_id": "71682d0be54442ebb0352ecca095aa99",
       "version_major": 2,
       "version_minor": 0
      },
      "text/plain": [
       "Training GP:   0%|          | 0/500 [00:00<?, ?it/s]"
      ]
     },
     "metadata": {},
     "output_type": "display_data"
    },
    {
     "name": "stdout",
     "output_type": "stream",
     "text": [
      "Iteration 60, incumbent x=([-2.2492001056671143, 2.0576999187469482, -4.600399971008301, 0.9412999749183655, 0.8862000107765198, 1.6366000175476074, -7.828499794006348, 1.729699969291687, -3.197200059890747, 9.350700378417969]), f(x)=35.5563\n"
     ]
    },
    {
     "data": {
      "application/vnd.jupyter.widget-view+json": {
       "model_id": "a5df2d780eea4c1a9cbc8190c4517bf5",
       "version_major": 2,
       "version_minor": 0
      },
      "text/plain": [
       "Training GP:   0%|          | 0/500 [00:00<?, ?it/s]"
      ]
     },
     "metadata": {},
     "output_type": "display_data"
    },
    {
     "name": "stdout",
     "output_type": "stream",
     "text": [
      "Iteration 61, incumbent x=([-2.2492001056671143, 2.0576999187469482, -4.600399971008301, 0.9412999749183655, 0.8862000107765198, 1.6366000175476074, -7.828499794006348, 1.729699969291687, -3.197200059890747, 9.350700378417969]), f(x)=35.5563\n"
     ]
    },
    {
     "data": {
      "application/vnd.jupyter.widget-view+json": {
       "model_id": "23f8c51522b64124936f378ce73f164e",
       "version_major": 2,
       "version_minor": 0
      },
      "text/plain": [
       "Training GP:   0%|          | 0/500 [00:00<?, ?it/s]"
      ]
     },
     "metadata": {},
     "output_type": "display_data"
    },
    {
     "name": "stdout",
     "output_type": "stream",
     "text": [
      "Iteration 62, incumbent x=([-2.2492001056671143, 2.0576999187469482, -4.600399971008301, 0.9412999749183655, 0.8862000107765198, 1.6366000175476074, -7.828499794006348, 1.729699969291687, -3.197200059890747, 9.350700378417969]), f(x)=35.5563\n"
     ]
    },
    {
     "data": {
      "application/vnd.jupyter.widget-view+json": {
       "model_id": "dc61f472b8124b3fa3d060c449c9c78f",
       "version_major": 2,
       "version_minor": 0
      },
      "text/plain": [
       "Training GP:   0%|          | 0/500 [00:00<?, ?it/s]"
      ]
     },
     "metadata": {},
     "output_type": "display_data"
    },
    {
     "name": "stdout",
     "output_type": "stream",
     "text": [
      "Iteration 63, incumbent x=([-2.2492001056671143, 2.0576999187469482, -4.600399971008301, 0.9412999749183655, 0.8862000107765198, 1.6366000175476074, -7.828499794006348, 1.729699969291687, -3.197200059890747, 9.350700378417969]), f(x)=35.5563\n"
     ]
    },
    {
     "data": {
      "application/vnd.jupyter.widget-view+json": {
       "model_id": "2f1a6eaecf254a6e81ec907714e02b8c",
       "version_major": 2,
       "version_minor": 0
      },
      "text/plain": [
       "Training GP:   0%|          | 0/500 [00:00<?, ?it/s]"
      ]
     },
     "metadata": {},
     "output_type": "display_data"
    },
    {
     "name": "stdout",
     "output_type": "stream",
     "text": [
      "Iteration 64, incumbent x=([-2.2492001056671143, 2.0576999187469482, -4.600399971008301, 0.9412999749183655, 0.8862000107765198, 1.6366000175476074, -7.828499794006348, 1.729699969291687, -3.197200059890747, 9.350700378417969]), f(x)=35.5563\n"
     ]
    },
    {
     "data": {
      "application/vnd.jupyter.widget-view+json": {
       "model_id": "ef65f9bcf4874e7482fc0fe02dc31972",
       "version_major": 2,
       "version_minor": 0
      },
      "text/plain": [
       "Training GP:   0%|          | 0/500 [00:00<?, ?it/s]"
      ]
     },
     "metadata": {},
     "output_type": "display_data"
    },
    {
     "name": "stdout",
     "output_type": "stream",
     "text": [
      "Iteration 65, incumbent x=([-2.2492001056671143, 2.0576999187469482, -4.600399971008301, 0.9412999749183655, 0.8862000107765198, 1.6366000175476074, -7.828499794006348, 1.729699969291687, -3.197200059890747, 9.350700378417969]), f(x)=35.5563\n"
     ]
    },
    {
     "data": {
      "application/vnd.jupyter.widget-view+json": {
       "model_id": "986d127c910048b29018cf14028e4d32",
       "version_major": 2,
       "version_minor": 0
      },
      "text/plain": [
       "Training GP:   0%|          | 0/500 [00:00<?, ?it/s]"
      ]
     },
     "metadata": {},
     "output_type": "display_data"
    },
    {
     "name": "stdout",
     "output_type": "stream",
     "text": [
      "Iteration 66, incumbent x=([-2.2492001056671143, 2.0576999187469482, -4.600399971008301, 0.9412999749183655, 0.8862000107765198, 1.6366000175476074, -7.828499794006348, 1.729699969291687, -3.197200059890747, 9.350700378417969]), f(x)=35.5563\n"
     ]
    },
    {
     "data": {
      "application/vnd.jupyter.widget-view+json": {
       "model_id": "2d579690ed694221a0f8ee7938c29eec",
       "version_major": 2,
       "version_minor": 0
      },
      "text/plain": [
       "Training GP:   0%|          | 0/500 [00:00<?, ?it/s]"
      ]
     },
     "metadata": {},
     "output_type": "display_data"
    },
    {
     "name": "stdout",
     "output_type": "stream",
     "text": [
      "Iteration 67, incumbent x=([-2.2492001056671143, 2.0576999187469482, -4.600399971008301, 0.9412999749183655, 0.8862000107765198, 1.6366000175476074, -7.828499794006348, 1.729699969291687, -3.197200059890747, 9.350700378417969]), f(x)=35.5563\n"
     ]
    },
    {
     "data": {
      "application/vnd.jupyter.widget-view+json": {
       "model_id": "06e41b29efe7434ca2f01f0d45166be8",
       "version_major": 2,
       "version_minor": 0
      },
      "text/plain": [
       "Training GP:   0%|          | 0/500 [00:00<?, ?it/s]"
      ]
     },
     "metadata": {},
     "output_type": "display_data"
    },
    {
     "name": "stdout",
     "output_type": "stream",
     "text": [
      "Iteration 68, incumbent x=([-2.2492001056671143, 2.0576999187469482, -4.600399971008301, 0.9412999749183655, 0.8862000107765198, 1.6366000175476074, -7.828499794006348, 1.729699969291687, -3.197200059890747, 9.350700378417969]), f(x)=35.5563\n"
     ]
    },
    {
     "data": {
      "application/vnd.jupyter.widget-view+json": {
       "model_id": "66b6099b75e14cda8fbc1b8b2051ddc3",
       "version_major": 2,
       "version_minor": 0
      },
      "text/plain": [
       "Training GP:   0%|          | 0/500 [00:00<?, ?it/s]"
      ]
     },
     "metadata": {},
     "output_type": "display_data"
    },
    {
     "name": "stdout",
     "output_type": "stream",
     "text": [
      "Iteration 69, incumbent x=([-2.2492001056671143, 2.0576999187469482, -4.600399971008301, 0.9412999749183655, 0.8862000107765198, 1.6366000175476074, -7.828499794006348, 1.729699969291687, -3.197200059890747, 9.350700378417969]), f(x)=35.5563\n"
     ]
    },
    {
     "data": {
      "application/vnd.jupyter.widget-view+json": {
       "model_id": "d55d5c5a7806462ba51276abf9e47235",
       "version_major": 2,
       "version_minor": 0
      },
      "text/plain": [
       "Training GP:   0%|          | 0/500 [00:00<?, ?it/s]"
      ]
     },
     "metadata": {},
     "output_type": "display_data"
    },
    {
     "name": "stdout",
     "output_type": "stream",
     "text": [
      "Iteration 70, incumbent x=([-2.2492001056671143, 2.0576999187469482, -4.600399971008301, 0.9412999749183655, 0.8862000107765198, 1.6366000175476074, -7.828499794006348, 1.729699969291687, -3.197200059890747, 9.350700378417969]), f(x)=35.5563\n"
     ]
    },
    {
     "data": {
      "application/vnd.jupyter.widget-view+json": {
       "model_id": "a24fb3b13cfd430d8029dc50d3d15458",
       "version_major": 2,
       "version_minor": 0
      },
      "text/plain": [
       "Training GP:   0%|          | 0/500 [00:00<?, ?it/s]"
      ]
     },
     "metadata": {},
     "output_type": "display_data"
    },
    {
     "name": "stdout",
     "output_type": "stream",
     "text": [
      "Iteration 71, incumbent x=([-2.2492001056671143, 2.0576999187469482, -4.600399971008301, 0.9412999749183655, 0.8862000107765198, 1.6366000175476074, -7.828499794006348, 1.729699969291687, -3.197200059890747, 9.350700378417969]), f(x)=35.5563\n"
     ]
    },
    {
     "data": {
      "application/vnd.jupyter.widget-view+json": {
       "model_id": "4c09a524c61540919603aa24bd30478f",
       "version_major": 2,
       "version_minor": 0
      },
      "text/plain": [
       "Training GP:   0%|          | 0/500 [00:00<?, ?it/s]"
      ]
     },
     "metadata": {},
     "output_type": "display_data"
    },
    {
     "name": "stdout",
     "output_type": "stream",
     "text": [
      "Iteration 72, incumbent x=([-2.2492001056671143, 2.0576999187469482, -4.600399971008301, 0.9412999749183655, 0.8862000107765198, 1.6366000175476074, -7.828499794006348, 1.729699969291687, -3.197200059890747, 9.350700378417969]), f(x)=35.5563\n"
     ]
    },
    {
     "data": {
      "application/vnd.jupyter.widget-view+json": {
       "model_id": "8c00ed6a510f449491fbcdd25f827ffc",
       "version_major": 2,
       "version_minor": 0
      },
      "text/plain": [
       "Training GP:   0%|          | 0/500 [00:00<?, ?it/s]"
      ]
     },
     "metadata": {},
     "output_type": "display_data"
    },
    {
     "name": "stdout",
     "output_type": "stream",
     "text": [
      "Iteration 73, incumbent x=([-2.2492001056671143, 2.0576999187469482, -4.600399971008301, 0.9412999749183655, 0.8862000107765198, 1.6366000175476074, -7.828499794006348, 1.729699969291687, -3.197200059890747, 9.350700378417969]), f(x)=35.5563\n"
     ]
    },
    {
     "data": {
      "application/vnd.jupyter.widget-view+json": {
       "model_id": "b97d743cca604ecda00a73eefb70ed71",
       "version_major": 2,
       "version_minor": 0
      },
      "text/plain": [
       "Training GP:   0%|          | 0/500 [00:00<?, ?it/s]"
      ]
     },
     "metadata": {},
     "output_type": "display_data"
    },
    {
     "name": "stdout",
     "output_type": "stream",
     "text": [
      "Iteration 74, incumbent x=([-2.2492001056671143, 2.0576999187469482, -4.600399971008301, 0.9412999749183655, 0.8862000107765198, 1.6366000175476074, -7.828499794006348, 1.729699969291687, -3.197200059890747, 9.350700378417969]), f(x)=35.5563\n"
     ]
    },
    {
     "data": {
      "application/vnd.jupyter.widget-view+json": {
       "model_id": "20e462ca90e6430da842ac839d3e4c59",
       "version_major": 2,
       "version_minor": 0
      },
      "text/plain": [
       "Training GP:   0%|          | 0/500 [00:00<?, ?it/s]"
      ]
     },
     "metadata": {},
     "output_type": "display_data"
    },
    {
     "name": "stdout",
     "output_type": "stream",
     "text": [
      "Iteration 75, incumbent x=([-2.2492001056671143, 2.0576999187469482, -4.600399971008301, 0.9412999749183655, 0.8862000107765198, 1.6366000175476074, -7.828499794006348, 1.729699969291687, -3.197200059890747, 9.350700378417969]), f(x)=35.5563\n"
     ]
    },
    {
     "data": {
      "application/vnd.jupyter.widget-view+json": {
       "model_id": "7a0b97925cc344769cbfb3ca9443bbc3",
       "version_major": 2,
       "version_minor": 0
      },
      "text/plain": [
       "Training GP:   0%|          | 0/500 [00:00<?, ?it/s]"
      ]
     },
     "metadata": {},
     "output_type": "display_data"
    },
    {
     "name": "stdout",
     "output_type": "stream",
     "text": [
      "Iteration 76, incumbent x=([-2.2492001056671143, 2.0576999187469482, -4.600399971008301, 0.9412999749183655, 0.8862000107765198, 1.6366000175476074, -7.828499794006348, 1.729699969291687, -3.197200059890747, 9.350700378417969]), f(x)=35.5563\n"
     ]
    },
    {
     "data": {
      "application/vnd.jupyter.widget-view+json": {
       "model_id": "076708e9e88248b79fa4817499174ad5",
       "version_major": 2,
       "version_minor": 0
      },
      "text/plain": [
       "Training GP:   0%|          | 0/500 [00:00<?, ?it/s]"
      ]
     },
     "metadata": {},
     "output_type": "display_data"
    },
    {
     "name": "stdout",
     "output_type": "stream",
     "text": [
      "Iteration 77, incumbent x=([-2.2492001056671143, 2.0576999187469482, -4.600399971008301, 0.9412999749183655, 0.8862000107765198, 1.6366000175476074, -7.828499794006348, 1.729699969291687, -3.197200059890747, 9.350700378417969]), f(x)=35.5563\n"
     ]
    },
    {
     "data": {
      "application/vnd.jupyter.widget-view+json": {
       "model_id": "08e435fbd7804b108bdc9697e7cbefe4",
       "version_major": 2,
       "version_minor": 0
      },
      "text/plain": [
       "Training GP:   0%|          | 0/500 [00:00<?, ?it/s]"
      ]
     },
     "metadata": {},
     "output_type": "display_data"
    },
    {
     "name": "stdout",
     "output_type": "stream",
     "text": [
      "Iteration 78, incumbent x=([-2.2492001056671143, 2.0576999187469482, -4.600399971008301, 0.9412999749183655, 0.8862000107765198, 1.6366000175476074, -7.828499794006348, 1.729699969291687, -3.197200059890747, 9.350700378417969]), f(x)=35.5563\n"
     ]
    },
    {
     "data": {
      "application/vnd.jupyter.widget-view+json": {
       "model_id": "c65d1c5fbe39468795ac7168466a1c8c",
       "version_major": 2,
       "version_minor": 0
      },
      "text/plain": [
       "Training GP:   0%|          | 0/500 [00:00<?, ?it/s]"
      ]
     },
     "metadata": {},
     "output_type": "display_data"
    },
    {
     "name": "stdout",
     "output_type": "stream",
     "text": [
      "Iteration 79, incumbent x=([-2.2492001056671143, 2.0576999187469482, -4.600399971008301, 0.9412999749183655, 0.8862000107765198, 1.6366000175476074, -7.828499794006348, 1.729699969291687, -3.197200059890747, 9.350700378417969]), f(x)=35.5563\n"
     ]
    },
    {
     "data": {
      "application/vnd.jupyter.widget-view+json": {
       "model_id": "5f27310bfcb444109b0f4d2d46da3f5c",
       "version_major": 2,
       "version_minor": 0
      },
      "text/plain": [
       "Training GP:   0%|          | 0/500 [00:00<?, ?it/s]"
      ]
     },
     "metadata": {},
     "output_type": "display_data"
    },
    {
     "name": "stdout",
     "output_type": "stream",
     "text": [
      "Iteration 80, incumbent x=([-2.2492001056671143, 2.0576999187469482, -4.600399971008301, 0.9412999749183655, 0.8862000107765198, 1.6366000175476074, -7.828499794006348, 1.729699969291687, -3.197200059890747, 9.350700378417969]), f(x)=35.5563\n"
     ]
    },
    {
     "data": {
      "application/vnd.jupyter.widget-view+json": {
       "model_id": "75e143f78b4e491cb4c268dd51d3fe2c",
       "version_major": 2,
       "version_minor": 0
      },
      "text/plain": [
       "Training GP:   0%|          | 0/500 [00:00<?, ?it/s]"
      ]
     },
     "metadata": {},
     "output_type": "display_data"
    },
    {
     "name": "stdout",
     "output_type": "stream",
     "text": [
      "Iteration 81, incumbent x=([-2.2492001056671143, 2.0576999187469482, -4.600399971008301, 0.9412999749183655, 0.8862000107765198, 1.6366000175476074, -7.828499794006348, 1.729699969291687, -3.197200059890747, 9.350700378417969]), f(x)=35.5563\n"
     ]
    },
    {
     "data": {
      "application/vnd.jupyter.widget-view+json": {
       "model_id": "93f00ad0f7c14daea59829385344254b",
       "version_major": 2,
       "version_minor": 0
      },
      "text/plain": [
       "Training GP:   0%|          | 0/500 [00:00<?, ?it/s]"
      ]
     },
     "metadata": {},
     "output_type": "display_data"
    },
    {
     "name": "stdout",
     "output_type": "stream",
     "text": [
      "Iteration 82, incumbent x=([-2.2492001056671143, 2.0576999187469482, -4.600399971008301, 0.9412999749183655, 0.8862000107765198, 1.6366000175476074, -7.828499794006348, 1.729699969291687, -3.197200059890747, 9.350700378417969]), f(x)=35.5563\n"
     ]
    },
    {
     "data": {
      "application/vnd.jupyter.widget-view+json": {
       "model_id": "5cd971be54d449968ba87bac85b33c4a",
       "version_major": 2,
       "version_minor": 0
      },
      "text/plain": [
       "Training GP:   0%|          | 0/500 [00:00<?, ?it/s]"
      ]
     },
     "metadata": {},
     "output_type": "display_data"
    },
    {
     "name": "stdout",
     "output_type": "stream",
     "text": [
      "Iteration 83, incumbent x=([-2.2492001056671143, 2.0576999187469482, -4.600399971008301, 0.9412999749183655, 0.8862000107765198, 1.6366000175476074, -7.828499794006348, 1.729699969291687, -3.197200059890747, 9.350700378417969]), f(x)=35.5563\n"
     ]
    },
    {
     "data": {
      "application/vnd.jupyter.widget-view+json": {
       "model_id": "00c95d122fde42449d05eefbbe32fb61",
       "version_major": 2,
       "version_minor": 0
      },
      "text/plain": [
       "Training GP:   0%|          | 0/500 [00:00<?, ?it/s]"
      ]
     },
     "metadata": {},
     "output_type": "display_data"
    },
    {
     "name": "stdout",
     "output_type": "stream",
     "text": [
      "Iteration 84, incumbent x=([-2.2492001056671143, 2.0576999187469482, -4.600399971008301, 0.9412999749183655, 0.8862000107765198, 1.6366000175476074, -7.828499794006348, 1.729699969291687, -3.197200059890747, 9.350700378417969]), f(x)=35.5563\n"
     ]
    },
    {
     "data": {
      "application/vnd.jupyter.widget-view+json": {
       "model_id": "146aec7fe75e45b6a8cbcd79307152be",
       "version_major": 2,
       "version_minor": 0
      },
      "text/plain": [
       "Training GP:   0%|          | 0/500 [00:00<?, ?it/s]"
      ]
     },
     "metadata": {},
     "output_type": "display_data"
    },
    {
     "name": "stdout",
     "output_type": "stream",
     "text": [
      "Iteration 85, incumbent x=([-2.2492001056671143, 2.0576999187469482, -4.600399971008301, 0.9412999749183655, 0.8862000107765198, 1.6366000175476074, -7.828499794006348, 1.729699969291687, -3.197200059890747, 9.350700378417969]), f(x)=35.5563\n"
     ]
    },
    {
     "data": {
      "application/vnd.jupyter.widget-view+json": {
       "model_id": "00bda02046c844a29061eda929713740",
       "version_major": 2,
       "version_minor": 0
      },
      "text/plain": [
       "Training GP:   0%|          | 0/500 [00:00<?, ?it/s]"
      ]
     },
     "metadata": {},
     "output_type": "display_data"
    },
    {
     "name": "stdout",
     "output_type": "stream",
     "text": [
      "Iteration 86, incumbent x=([-2.2492001056671143, 2.0576999187469482, -4.600399971008301, 0.9412999749183655, 0.8862000107765198, 1.6366000175476074, -7.828499794006348, 1.729699969291687, -3.197200059890747, 9.350700378417969]), f(x)=35.5563\n"
     ]
    },
    {
     "data": {
      "application/vnd.jupyter.widget-view+json": {
       "model_id": "ace2403ff0364b1188ee0288f2187f7a",
       "version_major": 2,
       "version_minor": 0
      },
      "text/plain": [
       "Training GP:   0%|          | 0/500 [00:00<?, ?it/s]"
      ]
     },
     "metadata": {},
     "output_type": "display_data"
    },
    {
     "name": "stdout",
     "output_type": "stream",
     "text": [
      "Iteration 87, incumbent x=([-2.2492001056671143, 2.0576999187469482, -4.600399971008301, 0.9412999749183655, 0.8862000107765198, 1.6366000175476074, -7.828499794006348, 1.729699969291687, -3.197200059890747, 9.350700378417969]), f(x)=35.5563\n"
     ]
    },
    {
     "data": {
      "application/vnd.jupyter.widget-view+json": {
       "model_id": "86ca601807b44a44912e3a2ea42ea7ef",
       "version_major": 2,
       "version_minor": 0
      },
      "text/plain": [
       "Training GP:   0%|          | 0/500 [00:00<?, ?it/s]"
      ]
     },
     "metadata": {},
     "output_type": "display_data"
    },
    {
     "name": "stdout",
     "output_type": "stream",
     "text": [
      "Iteration 88, incumbent x=([-2.2492001056671143, 2.0576999187469482, -4.600399971008301, 0.9412999749183655, 0.8862000107765198, 1.6366000175476074, -7.828499794006348, 1.729699969291687, -3.197200059890747, 9.350700378417969]), f(x)=35.5563\n"
     ]
    },
    {
     "data": {
      "application/vnd.jupyter.widget-view+json": {
       "model_id": "30c9f433f50f457bbb5cd7c714883e3d",
       "version_major": 2,
       "version_minor": 0
      },
      "text/plain": [
       "Training GP:   0%|          | 0/500 [00:00<?, ?it/s]"
      ]
     },
     "metadata": {},
     "output_type": "display_data"
    },
    {
     "name": "stdout",
     "output_type": "stream",
     "text": [
      "Iteration 89, incumbent x=([-2.2492001056671143, 2.0576999187469482, -4.600399971008301, 0.9412999749183655, 0.8862000107765198, 1.6366000175476074, -7.828499794006348, 1.729699969291687, -3.197200059890747, 9.350700378417969]), f(x)=35.5563\n"
     ]
    },
    {
     "data": {
      "application/vnd.jupyter.widget-view+json": {
       "model_id": "6959e07824414c3d820a4aeb9f92dd9d",
       "version_major": 2,
       "version_minor": 0
      },
      "text/plain": [
       "Training GP:   0%|          | 0/500 [00:00<?, ?it/s]"
      ]
     },
     "metadata": {},
     "output_type": "display_data"
    },
    {
     "name": "stdout",
     "output_type": "stream",
     "text": [
      "Iteration 90, incumbent x=([-2.2492001056671143, 2.0576999187469482, -4.600399971008301, 0.9412999749183655, 0.8862000107765198, 1.6366000175476074, -7.828499794006348, 1.729699969291687, -3.197200059890747, 9.350700378417969]), f(x)=35.5563\n"
     ]
    },
    {
     "data": {
      "application/vnd.jupyter.widget-view+json": {
       "model_id": "f7186687de95418a9233322090841451",
       "version_major": 2,
       "version_minor": 0
      },
      "text/plain": [
       "Training GP:   0%|          | 0/500 [00:00<?, ?it/s]"
      ]
     },
     "metadata": {},
     "output_type": "display_data"
    },
    {
     "name": "stdout",
     "output_type": "stream",
     "text": [
      "Iteration 91, incumbent x=([-2.2492001056671143, 2.0576999187469482, -4.600399971008301, 0.9412999749183655, 0.8862000107765198, 1.6366000175476074, -7.828499794006348, 1.729699969291687, -3.197200059890747, 9.350700378417969]), f(x)=35.5563\n"
     ]
    },
    {
     "data": {
      "application/vnd.jupyter.widget-view+json": {
       "model_id": "73955616b4a14a62ab543eff5f677a79",
       "version_major": 2,
       "version_minor": 0
      },
      "text/plain": [
       "Training GP:   0%|          | 0/500 [00:00<?, ?it/s]"
      ]
     },
     "metadata": {},
     "output_type": "display_data"
    },
    {
     "name": "stdout",
     "output_type": "stream",
     "text": [
      "Iteration 92, incumbent x=([-2.2492001056671143, 2.0576999187469482, -4.600399971008301, 0.9412999749183655, 0.8862000107765198, 1.6366000175476074, -7.828499794006348, 1.729699969291687, -3.197200059890747, 9.350700378417969]), f(x)=35.5563\n"
     ]
    },
    {
     "data": {
      "application/vnd.jupyter.widget-view+json": {
       "model_id": "8dcca80250eb47e49cbebc6384e772fd",
       "version_major": 2,
       "version_minor": 0
      },
      "text/plain": [
       "Training GP:   0%|          | 0/500 [00:00<?, ?it/s]"
      ]
     },
     "metadata": {},
     "output_type": "display_data"
    },
    {
     "name": "stdout",
     "output_type": "stream",
     "text": [
      "Iteration 93, incumbent x=([-2.2492001056671143, 2.0576999187469482, -4.600399971008301, 0.9412999749183655, 0.8862000107765198, 1.6366000175476074, -7.828499794006348, 1.729699969291687, -3.197200059890747, 9.350700378417969]), f(x)=35.5563\n"
     ]
    },
    {
     "data": {
      "application/vnd.jupyter.widget-view+json": {
       "model_id": "99cd475464954c0aa48c4e10868de163",
       "version_major": 2,
       "version_minor": 0
      },
      "text/plain": [
       "Training GP:   0%|          | 0/500 [00:00<?, ?it/s]"
      ]
     },
     "metadata": {},
     "output_type": "display_data"
    },
    {
     "name": "stdout",
     "output_type": "stream",
     "text": [
      "Iteration 94, incumbent x=([-2.2492001056671143, 2.0576999187469482, -4.600399971008301, 0.9412999749183655, 0.8862000107765198, 1.6366000175476074, -7.828499794006348, 1.729699969291687, -3.197200059890747, 9.350700378417969]), f(x)=35.5563\n"
     ]
    },
    {
     "data": {
      "application/vnd.jupyter.widget-view+json": {
       "model_id": "25bc37da5d0f4ed8aa9e71563979ffec",
       "version_major": 2,
       "version_minor": 0
      },
      "text/plain": [
       "Training GP:   0%|          | 0/500 [00:00<?, ?it/s]"
      ]
     },
     "metadata": {},
     "output_type": "display_data"
    },
    {
     "name": "stdout",
     "output_type": "stream",
     "text": [
      "Iteration 95, incumbent x=([-2.2492001056671143, 2.0576999187469482, -4.600399971008301, 0.9412999749183655, 0.8862000107765198, 1.6366000175476074, -7.828499794006348, 1.729699969291687, -3.197200059890747, 9.350700378417969]), f(x)=35.5563\n"
     ]
    },
    {
     "data": {
      "application/vnd.jupyter.widget-view+json": {
       "model_id": "83a43fd02fa149cb86f73c31b420ddc9",
       "version_major": 2,
       "version_minor": 0
      },
      "text/plain": [
       "Training GP:   0%|          | 0/500 [00:00<?, ?it/s]"
      ]
     },
     "metadata": {},
     "output_type": "display_data"
    },
    {
     "name": "stdout",
     "output_type": "stream",
     "text": [
      "Iteration 96, incumbent x=([-2.2492001056671143, 2.0576999187469482, -4.600399971008301, 0.9412999749183655, 0.8862000107765198, 1.6366000175476074, -7.828499794006348, 1.729699969291687, -3.197200059890747, 9.350700378417969]), f(x)=35.5563\n"
     ]
    },
    {
     "data": {
      "application/vnd.jupyter.widget-view+json": {
       "model_id": "64b428c1057f4d3c81a796fa55e8484c",
       "version_major": 2,
       "version_minor": 0
      },
      "text/plain": [
       "Training GP:   0%|          | 0/500 [00:00<?, ?it/s]"
      ]
     },
     "metadata": {},
     "output_type": "display_data"
    },
    {
     "name": "stdout",
     "output_type": "stream",
     "text": [
      "Iteration 97, incumbent x=([-2.2492001056671143, 2.0576999187469482, -4.600399971008301, 0.9412999749183655, 0.8862000107765198, 1.6366000175476074, -7.828499794006348, 1.729699969291687, -3.197200059890747, 9.350700378417969]), f(x)=35.5563\n"
     ]
    },
    {
     "data": {
      "application/vnd.jupyter.widget-view+json": {
       "model_id": "d7017265c8cc4f2cac9a4e8288f414b2",
       "version_major": 2,
       "version_minor": 0
      },
      "text/plain": [
       "Training GP:   0%|          | 0/500 [00:00<?, ?it/s]"
      ]
     },
     "metadata": {},
     "output_type": "display_data"
    },
    {
     "name": "stdout",
     "output_type": "stream",
     "text": [
      "Iteration 98, incumbent x=([-2.2492001056671143, 2.0576999187469482, -4.600399971008301, 0.9412999749183655, 0.8862000107765198, 1.6366000175476074, -7.828499794006348, 1.729699969291687, -3.197200059890747, 9.350700378417969]), f(x)=35.5563\n"
     ]
    },
    {
     "data": {
      "application/vnd.jupyter.widget-view+json": {
       "model_id": "300955c5e1554ba4b6eae379f6fc715a",
       "version_major": 2,
       "version_minor": 0
      },
      "text/plain": [
       "Training GP:   0%|          | 0/500 [00:00<?, ?it/s]"
      ]
     },
     "metadata": {},
     "output_type": "display_data"
    },
    {
     "name": "stdout",
     "output_type": "stream",
     "text": [
      "Iteration 99, incumbent x=([-2.2492001056671143, 2.0576999187469482, -4.600399971008301, 0.9412999749183655, 0.8862000107765198, 1.6366000175476074, -7.828499794006348, 1.729699969291687, -3.197200059890747, 9.350700378417969]), f(x)=35.5563\n"
     ]
    },
    {
     "data": {
      "application/vnd.jupyter.widget-view+json": {
       "model_id": "4cbb8c2c3b8e43c59706b1a390e5ad39",
       "version_major": 2,
       "version_minor": 0
      },
      "text/plain": [
       "Training GP:   0%|          | 0/500 [00:00<?, ?it/s]"
      ]
     },
     "metadata": {},
     "output_type": "display_data"
    },
    {
     "name": "stdout",
     "output_type": "stream",
     "text": [
      "\n",
      "Run 3/10\n",
      "Initial points (x1, ..., x10, f(x)):\n",
      "tensor([[ 1.1928e+00,  1.1818e+00, -8.1709e+00, -5.7999e+00, -9.8561e+00,\n",
      "         -9.2208e+00,  9.8579e+00,  8.2623e+00,  2.3716e+00,  9.4878e+00,\n",
      "          2.1342e+02],\n",
      "        [-3.6218e+00, -5.7034e+00,  8.5252e+00, -5.2966e-01,  1.8989e+00,\n",
      "          5.9116e+00,  5.2697e+00, -5.7259e+00, -3.8674e+00, -9.2289e+00,\n",
      "          1.1074e+02],\n",
      "        [ 4.4058e-01, -3.5852e+00,  2.1476e+00,  4.6524e-01,  8.5254e+00,\n",
      "          8.6127e-01,  5.0114e+00,  3.1555e+00,  8.8723e+00, -4.1571e+00,\n",
      "          6.1577e+01],\n",
      "        [ 8.3498e+00,  7.1725e+00, -3.9912e+00,  6.1298e+00,  9.2450e+00,\n",
      "         -5.6542e+00, -3.9005e+00,  6.8410e+00,  8.0632e+00,  2.6380e+00,\n",
      "          1.2094e+02],\n",
      "        [ 3.0708e+00,  7.4067e+00,  8.7638e+00, -6.3245e+00, -4.1134e+00,\n",
      "          8.4197e+00,  5.4012e+00, -4.6921e+00, -3.3930e+00,  9.7045e+00,\n",
      "          1.1246e+02],\n",
      "        [-6.2632e+00,  6.4328e+00,  5.8028e+00, -9.5905e+00, -9.9824e+00,\n",
      "          3.3197e+00,  4.9064e+00,  8.8640e+00,  1.2325e+00,  6.7842e+00,\n",
      "          2.4282e+02],\n",
      "        [-7.1068e+00,  5.9692e+00, -9.6335e+00,  6.5143e+00,  1.0842e+00,\n",
      "          6.1770e+00,  3.9501e+00, -6.9181e+00,  1.0385e-01,  1.2649e+00,\n",
      "          1.7336e+02],\n",
      "        [ 1.4376e+00, -8.7556e+00, -5.0511e+00, -4.7106e+00, -5.4355e+00,\n",
      "          8.5150e+00,  5.6567e+00,  4.1177e+00, -2.9978e+00, -8.1136e+00,\n",
      "          9.7037e+01],\n",
      "        [ 2.1280e+00,  9.2396e+00,  4.4505e+00, -8.0735e+00, -8.8657e-01,\n",
      "          4.0617e-01,  6.3464e+00,  4.2245e+00, -7.0521e+00, -9.4306e+00,\n",
      "          1.1025e+02],\n",
      "        [ 2.9693e+00,  4.8818e+00,  5.7355e+00,  6.8838e+00,  8.8398e+00,\n",
      "         -4.1742e+00, -9.7268e+00,  4.8972e+00,  9.6460e+00, -7.2839e+00,\n",
      "          1.9266e+02]])\n"
     ]
    },
    {
     "data": {
      "application/vnd.jupyter.widget-view+json": {
       "model_id": "49962a2dc6fc413298359d0952bfe0d0",
       "version_major": 2,
       "version_minor": 0
      },
      "text/plain": [
       "Training GP:   0%|          | 0/500 [00:00<?, ?it/s]"
      ]
     },
     "metadata": {},
     "output_type": "display_data"
    },
    {
     "name": "stdout",
     "output_type": "stream",
     "text": [
      "Iteration 0, incumbent x=([0.4406000077724457, -3.585200071334839, 2.147599935531616, 0.4652000069618225, 8.525400161743164, 0.861299991607666, 5.01140022277832, 3.1554999351501465, 8.872300148010254, -4.157100200653076]), f(x)=61.5771\n"
     ]
    },
    {
     "data": {
      "application/vnd.jupyter.widget-view+json": {
       "model_id": "6e7bf0c9ed774a1a9ab1852910d3e3b5",
       "version_major": 2,
       "version_minor": 0
      },
      "text/plain": [
       "Training GP:   0%|          | 0/500 [00:00<?, ?it/s]"
      ]
     },
     "metadata": {},
     "output_type": "display_data"
    },
    {
     "name": "stdout",
     "output_type": "stream",
     "text": [
      "Iteration 1, incumbent x=([0.4406000077724457, -3.585200071334839, 2.147599935531616, 0.4652000069618225, 8.525400161743164, 0.861299991607666, 5.01140022277832, 3.1554999351501465, 8.872300148010254, -4.157100200653076]), f(x)=61.5771\n"
     ]
    },
    {
     "data": {
      "application/vnd.jupyter.widget-view+json": {
       "model_id": "75fe0e9786cf4891b4db007a5b2ddb2c",
       "version_major": 2,
       "version_minor": 0
      },
      "text/plain": [
       "Training GP:   0%|          | 0/500 [00:00<?, ?it/s]"
      ]
     },
     "metadata": {},
     "output_type": "display_data"
    },
    {
     "name": "stdout",
     "output_type": "stream",
     "text": [
      "Iteration 2, incumbent x=([0.4406000077724457, -3.585200071334839, 2.147599935531616, 0.4652000069618225, 8.525400161743164, 0.861299991607666, 5.01140022277832, 3.1554999351501465, 8.872300148010254, -4.157100200653076]), f(x)=61.5771\n"
     ]
    },
    {
     "data": {
      "application/vnd.jupyter.widget-view+json": {
       "model_id": "17f4dcaee9554d49a85288f38704d3c3",
       "version_major": 2,
       "version_minor": 0
      },
      "text/plain": [
       "Training GP:   0%|          | 0/500 [00:00<?, ?it/s]"
      ]
     },
     "metadata": {},
     "output_type": "display_data"
    },
    {
     "name": "stdout",
     "output_type": "stream",
     "text": [
      "Iteration 3, incumbent x=([0.4406000077724457, -3.585200071334839, 2.147599935531616, 0.4652000069618225, 8.525400161743164, 0.861299991607666, 5.01140022277832, 3.1554999351501465, 8.872300148010254, -4.157100200653076]), f(x)=61.5771\n"
     ]
    },
    {
     "data": {
      "application/vnd.jupyter.widget-view+json": {
       "model_id": "5d5dc1c263e44064a86209225e16ba07",
       "version_major": 2,
       "version_minor": 0
      },
      "text/plain": [
       "Training GP:   0%|          | 0/500 [00:00<?, ?it/s]"
      ]
     },
     "metadata": {},
     "output_type": "display_data"
    },
    {
     "name": "stdout",
     "output_type": "stream",
     "text": [
      "Iteration 4, incumbent x=([0.4406000077724457, -3.585200071334839, 2.147599935531616, 0.4652000069618225, 8.525400161743164, 0.861299991607666, 5.01140022277832, 3.1554999351501465, 8.872300148010254, -4.157100200653076]), f(x)=61.5771\n"
     ]
    },
    {
     "data": {
      "application/vnd.jupyter.widget-view+json": {
       "model_id": "11da10a61dee41d282c77bb91abfa9cf",
       "version_major": 2,
       "version_minor": 0
      },
      "text/plain": [
       "Training GP:   0%|          | 0/500 [00:00<?, ?it/s]"
      ]
     },
     "metadata": {},
     "output_type": "display_data"
    },
    {
     "name": "stdout",
     "output_type": "stream",
     "text": [
      "Iteration 5, incumbent x=([0.4406000077724457, -3.585200071334839, 2.147599935531616, 0.4652000069618225, 8.525400161743164, 0.861299991607666, 5.01140022277832, 3.1554999351501465, 8.872300148010254, -4.157100200653076]), f(x)=61.5771\n"
     ]
    },
    {
     "data": {
      "application/vnd.jupyter.widget-view+json": {
       "model_id": "6a628b6699944ba4af5e532a64e660dc",
       "version_major": 2,
       "version_minor": 0
      },
      "text/plain": [
       "Training GP:   0%|          | 0/500 [00:00<?, ?it/s]"
      ]
     },
     "metadata": {},
     "output_type": "display_data"
    },
    {
     "name": "stdout",
     "output_type": "stream",
     "text": [
      "Iteration 6, incumbent x=([0.4406000077724457, -3.585200071334839, 2.147599935531616, 0.4652000069618225, 8.525400161743164, 0.861299991607666, 5.01140022277832, 3.1554999351501465, 8.872300148010254, -4.157100200653076]), f(x)=61.5771\n"
     ]
    },
    {
     "data": {
      "application/vnd.jupyter.widget-view+json": {
       "model_id": "db69ef05fd494731ae0624a024433972",
       "version_major": 2,
       "version_minor": 0
      },
      "text/plain": [
       "Training GP:   0%|          | 0/500 [00:00<?, ?it/s]"
      ]
     },
     "metadata": {},
     "output_type": "display_data"
    },
    {
     "name": "stdout",
     "output_type": "stream",
     "text": [
      "Iteration 7, incumbent x=([0.4406000077724457, -3.585200071334839, 2.147599935531616, 0.4652000069618225, 8.525400161743164, 0.861299991607666, 5.01140022277832, 3.1554999351501465, 8.872300148010254, -4.157100200653076]), f(x)=61.5771\n"
     ]
    },
    {
     "data": {
      "application/vnd.jupyter.widget-view+json": {
       "model_id": "7e35054382e14d8e92b9d5f90eaa883c",
       "version_major": 2,
       "version_minor": 0
      },
      "text/plain": [
       "Training GP:   0%|          | 0/500 [00:00<?, ?it/s]"
      ]
     },
     "metadata": {},
     "output_type": "display_data"
    },
    {
     "name": "stdout",
     "output_type": "stream",
     "text": [
      "Iteration 8, incumbent x=([0.4406000077724457, -3.585200071334839, 2.147599935531616, 0.4652000069618225, 8.525400161743164, 0.861299991607666, 5.01140022277832, 3.1554999351501465, 8.872300148010254, -4.157100200653076]), f(x)=61.5771\n"
     ]
    },
    {
     "data": {
      "application/vnd.jupyter.widget-view+json": {
       "model_id": "82dbc0c262d94a6384d937cc2ee53e3e",
       "version_major": 2,
       "version_minor": 0
      },
      "text/plain": [
       "Training GP:   0%|          | 0/500 [00:00<?, ?it/s]"
      ]
     },
     "metadata": {},
     "output_type": "display_data"
    },
    {
     "name": "stdout",
     "output_type": "stream",
     "text": [
      "Iteration 9, incumbent x=([0.4406000077724457, -3.585200071334839, 2.147599935531616, 0.4652000069618225, 8.525400161743164, 0.861299991607666, 5.01140022277832, 3.1554999351501465, 8.872300148010254, -4.157100200653076]), f(x)=61.5771\n"
     ]
    },
    {
     "data": {
      "application/vnd.jupyter.widget-view+json": {
       "model_id": "5d6b1a4dd0ed4507b5c2c836186987db",
       "version_major": 2,
       "version_minor": 0
      },
      "text/plain": [
       "Training GP:   0%|          | 0/500 [00:00<?, ?it/s]"
      ]
     },
     "metadata": {},
     "output_type": "display_data"
    },
    {
     "name": "stdout",
     "output_type": "stream",
     "text": [
      "Iteration 10, incumbent x=([0.4406000077724457, -3.585200071334839, 2.147599935531616, 0.4652000069618225, 8.525400161743164, 0.861299991607666, 5.01140022277832, 3.1554999351501465, 8.872300148010254, -4.157100200653076]), f(x)=61.5771\n"
     ]
    },
    {
     "data": {
      "application/vnd.jupyter.widget-view+json": {
       "model_id": "4ab2094dd02f4618b0f76c2c040a3534",
       "version_major": 2,
       "version_minor": 0
      },
      "text/plain": [
       "Training GP:   0%|          | 0/500 [00:00<?, ?it/s]"
      ]
     },
     "metadata": {},
     "output_type": "display_data"
    },
    {
     "name": "stdout",
     "output_type": "stream",
     "text": [
      "Iteration 11, incumbent x=([0.4406000077724457, -3.585200071334839, 2.147599935531616, 0.4652000069618225, 8.525400161743164, 0.861299991607666, 5.01140022277832, 3.1554999351501465, 8.872300148010254, -4.157100200653076]), f(x)=61.5771\n"
     ]
    },
    {
     "data": {
      "application/vnd.jupyter.widget-view+json": {
       "model_id": "f5aeac7826f5495eab3ad57a13c6a4f8",
       "version_major": 2,
       "version_minor": 0
      },
      "text/plain": [
       "Training GP:   0%|          | 0/500 [00:00<?, ?it/s]"
      ]
     },
     "metadata": {},
     "output_type": "display_data"
    },
    {
     "name": "stdout",
     "output_type": "stream",
     "text": [
      "Iteration 12, incumbent x=([0.4406000077724457, -3.585200071334839, 2.147599935531616, 0.4652000069618225, 8.525400161743164, 0.861299991607666, 5.01140022277832, 3.1554999351501465, 8.872300148010254, -4.157100200653076]), f(x)=61.5771\n"
     ]
    },
    {
     "data": {
      "application/vnd.jupyter.widget-view+json": {
       "model_id": "f9d08999fdeb46f6bebf146e1b022c65",
       "version_major": 2,
       "version_minor": 0
      },
      "text/plain": [
       "Training GP:   0%|          | 0/500 [00:00<?, ?it/s]"
      ]
     },
     "metadata": {},
     "output_type": "display_data"
    },
    {
     "name": "stdout",
     "output_type": "stream",
     "text": [
      "Iteration 13, incumbent x=([0.4406000077724457, -3.585200071334839, 2.147599935531616, 0.4652000069618225, 8.525400161743164, 0.861299991607666, 5.01140022277832, 3.1554999351501465, 8.872300148010254, -4.157100200653076]), f(x)=61.5771\n"
     ]
    },
    {
     "data": {
      "application/vnd.jupyter.widget-view+json": {
       "model_id": "35637db5e03d41dcb4af7f9be31735e9",
       "version_major": 2,
       "version_minor": 0
      },
      "text/plain": [
       "Training GP:   0%|          | 0/500 [00:00<?, ?it/s]"
      ]
     },
     "metadata": {},
     "output_type": "display_data"
    },
    {
     "name": "stdout",
     "output_type": "stream",
     "text": [
      "Iteration 14, incumbent x=([0.4406000077724457, -3.585200071334839, 2.147599935531616, 0.4652000069618225, 8.525400161743164, 0.861299991607666, 5.01140022277832, 3.1554999351501465, 8.872300148010254, -4.157100200653076]), f(x)=61.5771\n"
     ]
    },
    {
     "data": {
      "application/vnd.jupyter.widget-view+json": {
       "model_id": "c3f9d3bac6604d64b556f5aca3e76380",
       "version_major": 2,
       "version_minor": 0
      },
      "text/plain": [
       "Training GP:   0%|          | 0/500 [00:00<?, ?it/s]"
      ]
     },
     "metadata": {},
     "output_type": "display_data"
    },
    {
     "name": "stdout",
     "output_type": "stream",
     "text": [
      "Iteration 15, incumbent x=([0.4406000077724457, -3.585200071334839, 2.147599935531616, 0.4652000069618225, 8.525400161743164, 0.861299991607666, 5.01140022277832, 3.1554999351501465, 8.872300148010254, -4.157100200653076]), f(x)=61.5771\n"
     ]
    },
    {
     "data": {
      "application/vnd.jupyter.widget-view+json": {
       "model_id": "515be941d25f408d9277f7f32da949f6",
       "version_major": 2,
       "version_minor": 0
      },
      "text/plain": [
       "Training GP:   0%|          | 0/500 [00:00<?, ?it/s]"
      ]
     },
     "metadata": {},
     "output_type": "display_data"
    },
    {
     "name": "stdout",
     "output_type": "stream",
     "text": [
      "Iteration 16, incumbent x=([0.3431999981403351, 3.588399887084961, 3.0141000747680664, -8.251199722290039, -4.600299835205078, 4.0868000984191895, -1.936900019645691, 4.4868998527526855, 5.656000137329102, 6.590199947357178]), f(x)=37.6568\n"
     ]
    },
    {
     "data": {
      "application/vnd.jupyter.widget-view+json": {
       "model_id": "b4a2b8b48ac44f5dbebd182833865db4",
       "version_major": 2,
       "version_minor": 0
      },
      "text/plain": [
       "Training GP:   0%|          | 0/500 [00:00<?, ?it/s]"
      ]
     },
     "metadata": {},
     "output_type": "display_data"
    },
    {
     "name": "stdout",
     "output_type": "stream",
     "text": [
      "Iteration 17, incumbent x=([0.3431999981403351, 3.588399887084961, 3.0141000747680664, -8.251199722290039, -4.600299835205078, 4.0868000984191895, -1.936900019645691, 4.4868998527526855, 5.656000137329102, 6.590199947357178]), f(x)=37.6568\n"
     ]
    },
    {
     "data": {
      "application/vnd.jupyter.widget-view+json": {
       "model_id": "f20965d7c909402cb105943134624f97",
       "version_major": 2,
       "version_minor": 0
      },
      "text/plain": [
       "Training GP:   0%|          | 0/500 [00:00<?, ?it/s]"
      ]
     },
     "metadata": {},
     "output_type": "display_data"
    },
    {
     "name": "stdout",
     "output_type": "stream",
     "text": [
      "Iteration 18, incumbent x=([0.3431999981403351, 3.588399887084961, 3.0141000747680664, -8.251199722290039, -4.600299835205078, 4.0868000984191895, -1.936900019645691, 4.4868998527526855, 5.656000137329102, 6.590199947357178]), f(x)=37.6568\n"
     ]
    },
    {
     "data": {
      "application/vnd.jupyter.widget-view+json": {
       "model_id": "e0cc560c8ffb45ba90a345f6316b159d",
       "version_major": 2,
       "version_minor": 0
      },
      "text/plain": [
       "Training GP:   0%|          | 0/500 [00:00<?, ?it/s]"
      ]
     },
     "metadata": {},
     "output_type": "display_data"
    },
    {
     "name": "stdout",
     "output_type": "stream",
     "text": [
      "Iteration 19, incumbent x=([0.3431999981403351, 3.588399887084961, 3.0141000747680664, -8.251199722290039, -4.600299835205078, 4.0868000984191895, -1.936900019645691, 4.4868998527526855, 5.656000137329102, 6.590199947357178]), f(x)=37.6568\n"
     ]
    },
    {
     "data": {
      "application/vnd.jupyter.widget-view+json": {
       "model_id": "fdd66e77e7744c4f8c8bca7bd77646ac",
       "version_major": 2,
       "version_minor": 0
      },
      "text/plain": [
       "Training GP:   0%|          | 0/500 [00:00<?, ?it/s]"
      ]
     },
     "metadata": {},
     "output_type": "display_data"
    },
    {
     "name": "stdout",
     "output_type": "stream",
     "text": [
      "Iteration 20, incumbent x=([0.3431999981403351, 3.588399887084961, 3.0141000747680664, -8.251199722290039, -4.600299835205078, 4.0868000984191895, -1.936900019645691, 4.4868998527526855, 5.656000137329102, 6.590199947357178]), f(x)=37.6568\n"
     ]
    },
    {
     "data": {
      "application/vnd.jupyter.widget-view+json": {
       "model_id": "50e472bca46e4ce0bfb99e29907ea9c1",
       "version_major": 2,
       "version_minor": 0
      },
      "text/plain": [
       "Training GP:   0%|          | 0/500 [00:00<?, ?it/s]"
      ]
     },
     "metadata": {},
     "output_type": "display_data"
    },
    {
     "name": "stdout",
     "output_type": "stream",
     "text": [
      "Iteration 21, incumbent x=([0.3431999981403351, 3.588399887084961, 3.0141000747680664, -8.251199722290039, -4.600299835205078, 4.0868000984191895, -1.936900019645691, 4.4868998527526855, 5.656000137329102, 6.590199947357178]), f(x)=37.6568\n"
     ]
    },
    {
     "data": {
      "application/vnd.jupyter.widget-view+json": {
       "model_id": "8748565c0e444b7da5e1304d0c078a72",
       "version_major": 2,
       "version_minor": 0
      },
      "text/plain": [
       "Training GP:   0%|          | 0/500 [00:00<?, ?it/s]"
      ]
     },
     "metadata": {},
     "output_type": "display_data"
    },
    {
     "name": "stdout",
     "output_type": "stream",
     "text": [
      "Iteration 22, incumbent x=([0.3431999981403351, 3.588399887084961, 3.0141000747680664, -8.251199722290039, -4.600299835205078, 4.0868000984191895, -1.936900019645691, 4.4868998527526855, 5.656000137329102, 6.590199947357178]), f(x)=37.6568\n"
     ]
    },
    {
     "data": {
      "application/vnd.jupyter.widget-view+json": {
       "model_id": "bab0b12791974073a312bdd126d0a251",
       "version_major": 2,
       "version_minor": 0
      },
      "text/plain": [
       "Training GP:   0%|          | 0/500 [00:00<?, ?it/s]"
      ]
     },
     "metadata": {},
     "output_type": "display_data"
    },
    {
     "name": "stdout",
     "output_type": "stream",
     "text": [
      "Iteration 23, incumbent x=([0.3431999981403351, 3.588399887084961, 3.0141000747680664, -8.251199722290039, -4.600299835205078, 4.0868000984191895, -1.936900019645691, 4.4868998527526855, 5.656000137329102, 6.590199947357178]), f(x)=37.6568\n"
     ]
    },
    {
     "data": {
      "application/vnd.jupyter.widget-view+json": {
       "model_id": "cde101afbcf44b0a97b8a53eb043dd69",
       "version_major": 2,
       "version_minor": 0
      },
      "text/plain": [
       "Training GP:   0%|          | 0/500 [00:00<?, ?it/s]"
      ]
     },
     "metadata": {},
     "output_type": "display_data"
    },
    {
     "name": "stdout",
     "output_type": "stream",
     "text": [
      "Iteration 24, incumbent x=([0.3431999981403351, 3.588399887084961, 3.0141000747680664, -8.251199722290039, -4.600299835205078, 4.0868000984191895, -1.936900019645691, 4.4868998527526855, 5.656000137329102, 6.590199947357178]), f(x)=37.6568\n"
     ]
    },
    {
     "data": {
      "application/vnd.jupyter.widget-view+json": {
       "model_id": "599db05638cc4c30b7fbbd7df2a4bae5",
       "version_major": 2,
       "version_minor": 0
      },
      "text/plain": [
       "Training GP:   0%|          | 0/500 [00:00<?, ?it/s]"
      ]
     },
     "metadata": {},
     "output_type": "display_data"
    },
    {
     "name": "stdout",
     "output_type": "stream",
     "text": [
      "Iteration 25, incumbent x=([0.3431999981403351, 3.588399887084961, 3.0141000747680664, -8.251199722290039, -4.600299835205078, 4.0868000984191895, -1.936900019645691, 4.4868998527526855, 5.656000137329102, 6.590199947357178]), f(x)=37.6568\n"
     ]
    },
    {
     "data": {
      "application/vnd.jupyter.widget-view+json": {
       "model_id": "ddd5b10c984f46fc9be5f8d830f00cfd",
       "version_major": 2,
       "version_minor": 0
      },
      "text/plain": [
       "Training GP:   0%|          | 0/500 [00:00<?, ?it/s]"
      ]
     },
     "metadata": {},
     "output_type": "display_data"
    },
    {
     "name": "stdout",
     "output_type": "stream",
     "text": [
      "Iteration 26, incumbent x=([0.3431999981403351, 3.588399887084961, 3.0141000747680664, -8.251199722290039, -4.600299835205078, 4.0868000984191895, -1.936900019645691, 4.4868998527526855, 5.656000137329102, 6.590199947357178]), f(x)=37.6568\n"
     ]
    },
    {
     "data": {
      "application/vnd.jupyter.widget-view+json": {
       "model_id": "66952babe8584c0887da2c4335651d1c",
       "version_major": 2,
       "version_minor": 0
      },
      "text/plain": [
       "Training GP:   0%|          | 0/500 [00:00<?, ?it/s]"
      ]
     },
     "metadata": {},
     "output_type": "display_data"
    },
    {
     "name": "stdout",
     "output_type": "stream",
     "text": [
      "Iteration 27, incumbent x=([0.3431999981403351, 3.588399887084961, 3.0141000747680664, -8.251199722290039, -4.600299835205078, 4.0868000984191895, -1.936900019645691, 4.4868998527526855, 5.656000137329102, 6.590199947357178]), f(x)=37.6568\n"
     ]
    },
    {
     "data": {
      "application/vnd.jupyter.widget-view+json": {
       "model_id": "aea645d6a7e94520b5d613b5a11b2c69",
       "version_major": 2,
       "version_minor": 0
      },
      "text/plain": [
       "Training GP:   0%|          | 0/500 [00:00<?, ?it/s]"
      ]
     },
     "metadata": {},
     "output_type": "display_data"
    },
    {
     "name": "stdout",
     "output_type": "stream",
     "text": [
      "Iteration 28, incumbent x=([0.3431999981403351, 3.588399887084961, 3.0141000747680664, -8.251199722290039, -4.600299835205078, 4.0868000984191895, -1.936900019645691, 4.4868998527526855, 5.656000137329102, 6.590199947357178]), f(x)=37.6568\n"
     ]
    },
    {
     "data": {
      "application/vnd.jupyter.widget-view+json": {
       "model_id": "e64e1f8ce6c0419b8786d9665f00ee28",
       "version_major": 2,
       "version_minor": 0
      },
      "text/plain": [
       "Training GP:   0%|          | 0/500 [00:00<?, ?it/s]"
      ]
     },
     "metadata": {},
     "output_type": "display_data"
    },
    {
     "name": "stdout",
     "output_type": "stream",
     "text": [
      "Iteration 29, incumbent x=([0.3431999981403351, 3.588399887084961, 3.0141000747680664, -8.251199722290039, -4.600299835205078, 4.0868000984191895, -1.936900019645691, 4.4868998527526855, 5.656000137329102, 6.590199947357178]), f(x)=37.6568\n"
     ]
    },
    {
     "data": {
      "application/vnd.jupyter.widget-view+json": {
       "model_id": "189308a0eeb0462e8187753e3f787688",
       "version_major": 2,
       "version_minor": 0
      },
      "text/plain": [
       "Training GP:   0%|          | 0/500 [00:00<?, ?it/s]"
      ]
     },
     "metadata": {},
     "output_type": "display_data"
    },
    {
     "name": "stdout",
     "output_type": "stream",
     "text": [
      "Iteration 30, incumbent x=([0.3431999981403351, 3.588399887084961, 3.0141000747680664, -8.251199722290039, -4.600299835205078, 4.0868000984191895, -1.936900019645691, 4.4868998527526855, 5.656000137329102, 6.590199947357178]), f(x)=37.6568\n"
     ]
    },
    {
     "data": {
      "application/vnd.jupyter.widget-view+json": {
       "model_id": "3e7b1512bdc94be385d7d0e8a557f92f",
       "version_major": 2,
       "version_minor": 0
      },
      "text/plain": [
       "Training GP:   0%|          | 0/500 [00:00<?, ?it/s]"
      ]
     },
     "metadata": {},
     "output_type": "display_data"
    },
    {
     "name": "stdout",
     "output_type": "stream",
     "text": [
      "Iteration 31, incumbent x=([0.3431999981403351, 3.588399887084961, 3.0141000747680664, -8.251199722290039, -4.600299835205078, 4.0868000984191895, -1.936900019645691, 4.4868998527526855, 5.656000137329102, 6.590199947357178]), f(x)=37.6568\n"
     ]
    },
    {
     "data": {
      "application/vnd.jupyter.widget-view+json": {
       "model_id": "312de7d6a0f5483ea0c0313b12edb00b",
       "version_major": 2,
       "version_minor": 0
      },
      "text/plain": [
       "Training GP:   0%|          | 0/500 [00:00<?, ?it/s]"
      ]
     },
     "metadata": {},
     "output_type": "display_data"
    },
    {
     "name": "stdout",
     "output_type": "stream",
     "text": [
      "Iteration 32, incumbent x=([0.3431999981403351, 3.588399887084961, 3.0141000747680664, -8.251199722290039, -4.600299835205078, 4.0868000984191895, -1.936900019645691, 4.4868998527526855, 5.656000137329102, 6.590199947357178]), f(x)=37.6568\n"
     ]
    },
    {
     "data": {
      "application/vnd.jupyter.widget-view+json": {
       "model_id": "7055550c656b42f6bc070be9d5d6130c",
       "version_major": 2,
       "version_minor": 0
      },
      "text/plain": [
       "Training GP:   0%|          | 0/500 [00:00<?, ?it/s]"
      ]
     },
     "metadata": {},
     "output_type": "display_data"
    },
    {
     "name": "stdout",
     "output_type": "stream",
     "text": [
      "Iteration 33, incumbent x=([0.3431999981403351, 3.588399887084961, 3.0141000747680664, -8.251199722290039, -4.600299835205078, 4.0868000984191895, -1.936900019645691, 4.4868998527526855, 5.656000137329102, 6.590199947357178]), f(x)=37.6568\n"
     ]
    },
    {
     "data": {
      "application/vnd.jupyter.widget-view+json": {
       "model_id": "2285773676b74908ab5a1a56ae604e04",
       "version_major": 2,
       "version_minor": 0
      },
      "text/plain": [
       "Training GP:   0%|          | 0/500 [00:00<?, ?it/s]"
      ]
     },
     "metadata": {},
     "output_type": "display_data"
    },
    {
     "name": "stdout",
     "output_type": "stream",
     "text": [
      "Iteration 34, incumbent x=([0.3431999981403351, 3.588399887084961, 3.0141000747680664, -8.251199722290039, -4.600299835205078, 4.0868000984191895, -1.936900019645691, 4.4868998527526855, 5.656000137329102, 6.590199947357178]), f(x)=37.6568\n"
     ]
    },
    {
     "data": {
      "application/vnd.jupyter.widget-view+json": {
       "model_id": "a239a3e4e5a7459698e423cc8881718f",
       "version_major": 2,
       "version_minor": 0
      },
      "text/plain": [
       "Training GP:   0%|          | 0/500 [00:00<?, ?it/s]"
      ]
     },
     "metadata": {},
     "output_type": "display_data"
    },
    {
     "name": "stdout",
     "output_type": "stream",
     "text": [
      "Iteration 35, incumbent x=([0.3431999981403351, 3.588399887084961, 3.0141000747680664, -8.251199722290039, -4.600299835205078, 4.0868000984191895, -1.936900019645691, 4.4868998527526855, 5.656000137329102, 6.590199947357178]), f(x)=37.6568\n"
     ]
    },
    {
     "data": {
      "application/vnd.jupyter.widget-view+json": {
       "model_id": "e0ef286f93fa4e4fabc527b89fea00fb",
       "version_major": 2,
       "version_minor": 0
      },
      "text/plain": [
       "Training GP:   0%|          | 0/500 [00:00<?, ?it/s]"
      ]
     },
     "metadata": {},
     "output_type": "display_data"
    },
    {
     "name": "stdout",
     "output_type": "stream",
     "text": [
      "Iteration 36, incumbent x=([0.3431999981403351, 3.588399887084961, 3.0141000747680664, -8.251199722290039, -4.600299835205078, 4.0868000984191895, -1.936900019645691, 4.4868998527526855, 5.656000137329102, 6.590199947357178]), f(x)=37.6568\n"
     ]
    },
    {
     "data": {
      "application/vnd.jupyter.widget-view+json": {
       "model_id": "bf42b6fee77944e9a0ba61e19cf85d25",
       "version_major": 2,
       "version_minor": 0
      },
      "text/plain": [
       "Training GP:   0%|          | 0/500 [00:00<?, ?it/s]"
      ]
     },
     "metadata": {},
     "output_type": "display_data"
    },
    {
     "name": "stdout",
     "output_type": "stream",
     "text": [
      "Iteration 37, incumbent x=([0.3431999981403351, 3.588399887084961, 3.0141000747680664, -8.251199722290039, -4.600299835205078, 4.0868000984191895, -1.936900019645691, 4.4868998527526855, 5.656000137329102, 6.590199947357178]), f(x)=37.6568\n"
     ]
    },
    {
     "data": {
      "application/vnd.jupyter.widget-view+json": {
       "model_id": "b9ddb9cbdb9e4ac6a5722f5d51f45b3b",
       "version_major": 2,
       "version_minor": 0
      },
      "text/plain": [
       "Training GP:   0%|          | 0/500 [00:00<?, ?it/s]"
      ]
     },
     "metadata": {},
     "output_type": "display_data"
    },
    {
     "name": "stdout",
     "output_type": "stream",
     "text": [
      "Iteration 38, incumbent x=([0.3431999981403351, 3.588399887084961, 3.0141000747680664, -8.251199722290039, -4.600299835205078, 4.0868000984191895, -1.936900019645691, 4.4868998527526855, 5.656000137329102, 6.590199947357178]), f(x)=37.6568\n"
     ]
    },
    {
     "data": {
      "application/vnd.jupyter.widget-view+json": {
       "model_id": "6dfe068bc1ce4750a7630e4fe1e641dd",
       "version_major": 2,
       "version_minor": 0
      },
      "text/plain": [
       "Training GP:   0%|          | 0/500 [00:00<?, ?it/s]"
      ]
     },
     "metadata": {},
     "output_type": "display_data"
    },
    {
     "name": "stdout",
     "output_type": "stream",
     "text": [
      "Iteration 39, incumbent x=([0.3431999981403351, 3.588399887084961, 3.0141000747680664, -8.251199722290039, -4.600299835205078, 4.0868000984191895, -1.936900019645691, 4.4868998527526855, 5.656000137329102, 6.590199947357178]), f(x)=37.6568\n"
     ]
    },
    {
     "data": {
      "application/vnd.jupyter.widget-view+json": {
       "model_id": "cfb0702a412847e4ae3824140024cac6",
       "version_major": 2,
       "version_minor": 0
      },
      "text/plain": [
       "Training GP:   0%|          | 0/500 [00:00<?, ?it/s]"
      ]
     },
     "metadata": {},
     "output_type": "display_data"
    },
    {
     "name": "stdout",
     "output_type": "stream",
     "text": [
      "Iteration 40, incumbent x=([0.3431999981403351, 3.588399887084961, 3.0141000747680664, -8.251199722290039, -4.600299835205078, 4.0868000984191895, -1.936900019645691, 4.4868998527526855, 5.656000137329102, 6.590199947357178]), f(x)=37.6568\n"
     ]
    },
    {
     "data": {
      "application/vnd.jupyter.widget-view+json": {
       "model_id": "c88e0b3a178c441190ab9c8208865f5c",
       "version_major": 2,
       "version_minor": 0
      },
      "text/plain": [
       "Training GP:   0%|          | 0/500 [00:00<?, ?it/s]"
      ]
     },
     "metadata": {},
     "output_type": "display_data"
    },
    {
     "name": "stdout",
     "output_type": "stream",
     "text": [
      "Iteration 41, incumbent x=([0.3431999981403351, 3.588399887084961, 3.0141000747680664, -8.251199722290039, -4.600299835205078, 4.0868000984191895, -1.936900019645691, 4.4868998527526855, 5.656000137329102, 6.590199947357178]), f(x)=37.6568\n"
     ]
    },
    {
     "data": {
      "application/vnd.jupyter.widget-view+json": {
       "model_id": "d4930f3d33e94c53845a83bf62a0d1eb",
       "version_major": 2,
       "version_minor": 0
      },
      "text/plain": [
       "Training GP:   0%|          | 0/500 [00:00<?, ?it/s]"
      ]
     },
     "metadata": {},
     "output_type": "display_data"
    },
    {
     "name": "stdout",
     "output_type": "stream",
     "text": [
      "Iteration 42, incumbent x=([0.3431999981403351, 3.588399887084961, 3.0141000747680664, -8.251199722290039, -4.600299835205078, 4.0868000984191895, -1.936900019645691, 4.4868998527526855, 5.656000137329102, 6.590199947357178]), f(x)=37.6568\n"
     ]
    },
    {
     "data": {
      "application/vnd.jupyter.widget-view+json": {
       "model_id": "d860dbe2b3794e5aa10c589721c18059",
       "version_major": 2,
       "version_minor": 0
      },
      "text/plain": [
       "Training GP:   0%|          | 0/500 [00:00<?, ?it/s]"
      ]
     },
     "metadata": {},
     "output_type": "display_data"
    },
    {
     "name": "stdout",
     "output_type": "stream",
     "text": [
      "Iteration 43, incumbent x=([0.3431999981403351, 3.588399887084961, 3.0141000747680664, -8.251199722290039, -4.600299835205078, 4.0868000984191895, -1.936900019645691, 4.4868998527526855, 5.656000137329102, 6.590199947357178]), f(x)=37.6568\n"
     ]
    },
    {
     "data": {
      "application/vnd.jupyter.widget-view+json": {
       "model_id": "63cb787a9b04467ea61d8825aa84f721",
       "version_major": 2,
       "version_minor": 0
      },
      "text/plain": [
       "Training GP:   0%|          | 0/500 [00:00<?, ?it/s]"
      ]
     },
     "metadata": {},
     "output_type": "display_data"
    },
    {
     "name": "stdout",
     "output_type": "stream",
     "text": [
      "Iteration 44, incumbent x=([0.3431999981403351, 3.588399887084961, 3.0141000747680664, -8.251199722290039, -4.600299835205078, 4.0868000984191895, -1.936900019645691, 4.4868998527526855, 5.656000137329102, 6.590199947357178]), f(x)=37.6568\n"
     ]
    },
    {
     "data": {
      "application/vnd.jupyter.widget-view+json": {
       "model_id": "14a0a43050394ee99ad4a98492a85773",
       "version_major": 2,
       "version_minor": 0
      },
      "text/plain": [
       "Training GP:   0%|          | 0/500 [00:00<?, ?it/s]"
      ]
     },
     "metadata": {},
     "output_type": "display_data"
    },
    {
     "name": "stdout",
     "output_type": "stream",
     "text": [
      "Iteration 45, incumbent x=([0.3431999981403351, 3.588399887084961, 3.0141000747680664, -8.251199722290039, -4.600299835205078, 4.0868000984191895, -1.936900019645691, 4.4868998527526855, 5.656000137329102, 6.590199947357178]), f(x)=37.6568\n"
     ]
    },
    {
     "data": {
      "application/vnd.jupyter.widget-view+json": {
       "model_id": "5fbeca12332c4cdc86491b353cd03bfc",
       "version_major": 2,
       "version_minor": 0
      },
      "text/plain": [
       "Training GP:   0%|          | 0/500 [00:00<?, ?it/s]"
      ]
     },
     "metadata": {},
     "output_type": "display_data"
    },
    {
     "name": "stdout",
     "output_type": "stream",
     "text": [
      "Iteration 46, incumbent x=([0.3431999981403351, 3.588399887084961, 3.0141000747680664, -8.251199722290039, -4.600299835205078, 4.0868000984191895, -1.936900019645691, 4.4868998527526855, 5.656000137329102, 6.590199947357178]), f(x)=37.6568\n"
     ]
    },
    {
     "data": {
      "application/vnd.jupyter.widget-view+json": {
       "model_id": "40e6e3cb9e2543a6b6b3af2d11b45002",
       "version_major": 2,
       "version_minor": 0
      },
      "text/plain": [
       "Training GP:   0%|          | 0/500 [00:00<?, ?it/s]"
      ]
     },
     "metadata": {},
     "output_type": "display_data"
    },
    {
     "name": "stdout",
     "output_type": "stream",
     "text": [
      "Iteration 47, incumbent x=([0.3431999981403351, 3.588399887084961, 3.0141000747680664, -8.251199722290039, -4.600299835205078, 4.0868000984191895, -1.936900019645691, 4.4868998527526855, 5.656000137329102, 6.590199947357178]), f(x)=37.6568\n"
     ]
    },
    {
     "data": {
      "application/vnd.jupyter.widget-view+json": {
       "model_id": "8c236530b1384fd6a0504be8ea823469",
       "version_major": 2,
       "version_minor": 0
      },
      "text/plain": [
       "Training GP:   0%|          | 0/500 [00:00<?, ?it/s]"
      ]
     },
     "metadata": {},
     "output_type": "display_data"
    },
    {
     "name": "stdout",
     "output_type": "stream",
     "text": [
      "Iteration 48, incumbent x=([0.3431999981403351, 3.588399887084961, 3.0141000747680664, -8.251199722290039, -4.600299835205078, 4.0868000984191895, -1.936900019645691, 4.4868998527526855, 5.656000137329102, 6.590199947357178]), f(x)=37.6568\n"
     ]
    },
    {
     "data": {
      "application/vnd.jupyter.widget-view+json": {
       "model_id": "09cd06cfc68f486c9838affdfb7679bb",
       "version_major": 2,
       "version_minor": 0
      },
      "text/plain": [
       "Training GP:   0%|          | 0/500 [00:00<?, ?it/s]"
      ]
     },
     "metadata": {},
     "output_type": "display_data"
    },
    {
     "name": "stdout",
     "output_type": "stream",
     "text": [
      "Iteration 49, incumbent x=([0.3431999981403351, 3.588399887084961, 3.0141000747680664, -8.251199722290039, -4.600299835205078, 4.0868000984191895, -1.936900019645691, 4.4868998527526855, 5.656000137329102, 6.590199947357178]), f(x)=37.6568\n"
     ]
    },
    {
     "data": {
      "application/vnd.jupyter.widget-view+json": {
       "model_id": "75ed7a49187643f3b536b114ec64e1d9",
       "version_major": 2,
       "version_minor": 0
      },
      "text/plain": [
       "Training GP:   0%|          | 0/500 [00:00<?, ?it/s]"
      ]
     },
     "metadata": {},
     "output_type": "display_data"
    },
    {
     "name": "stdout",
     "output_type": "stream",
     "text": [
      "Iteration 50, incumbent x=([0.3431999981403351, 3.588399887084961, 3.0141000747680664, -8.251199722290039, -4.600299835205078, 4.0868000984191895, -1.936900019645691, 4.4868998527526855, 5.656000137329102, 6.590199947357178]), f(x)=37.6568\n"
     ]
    },
    {
     "data": {
      "application/vnd.jupyter.widget-view+json": {
       "model_id": "9dd277b3434040cdb1379fadc5053499",
       "version_major": 2,
       "version_minor": 0
      },
      "text/plain": [
       "Training GP:   0%|          | 0/500 [00:00<?, ?it/s]"
      ]
     },
     "metadata": {},
     "output_type": "display_data"
    },
    {
     "name": "stdout",
     "output_type": "stream",
     "text": [
      "Iteration 51, incumbent x=([0.3431999981403351, 3.588399887084961, 3.0141000747680664, -8.251199722290039, -4.600299835205078, 4.0868000984191895, -1.936900019645691, 4.4868998527526855, 5.656000137329102, 6.590199947357178]), f(x)=37.6568\n"
     ]
    },
    {
     "data": {
      "application/vnd.jupyter.widget-view+json": {
       "model_id": "586fbc2d0b5142ac99d64e2d5c477c37",
       "version_major": 2,
       "version_minor": 0
      },
      "text/plain": [
       "Training GP:   0%|          | 0/500 [00:00<?, ?it/s]"
      ]
     },
     "metadata": {},
     "output_type": "display_data"
    },
    {
     "name": "stdout",
     "output_type": "stream",
     "text": [
      "Iteration 52, incumbent x=([0.3431999981403351, 3.588399887084961, 3.0141000747680664, -8.251199722290039, -4.600299835205078, 4.0868000984191895, -1.936900019645691, 4.4868998527526855, 5.656000137329102, 6.590199947357178]), f(x)=37.6568\n"
     ]
    },
    {
     "data": {
      "application/vnd.jupyter.widget-view+json": {
       "model_id": "dd493c8dddab413baad8b852117483de",
       "version_major": 2,
       "version_minor": 0
      },
      "text/plain": [
       "Training GP:   0%|          | 0/500 [00:00<?, ?it/s]"
      ]
     },
     "metadata": {},
     "output_type": "display_data"
    },
    {
     "name": "stdout",
     "output_type": "stream",
     "text": [
      "Iteration 53, incumbent x=([0.3431999981403351, 3.588399887084961, 3.0141000747680664, -8.251199722290039, -4.600299835205078, 4.0868000984191895, -1.936900019645691, 4.4868998527526855, 5.656000137329102, 6.590199947357178]), f(x)=37.6568\n"
     ]
    },
    {
     "data": {
      "application/vnd.jupyter.widget-view+json": {
       "model_id": "5f3b09272810481584dab12482a1a55d",
       "version_major": 2,
       "version_minor": 0
      },
      "text/plain": [
       "Training GP:   0%|          | 0/500 [00:00<?, ?it/s]"
      ]
     },
     "metadata": {},
     "output_type": "display_data"
    },
    {
     "name": "stdout",
     "output_type": "stream",
     "text": [
      "Iteration 54, incumbent x=([0.3431999981403351, 3.588399887084961, 3.0141000747680664, -8.251199722290039, -4.600299835205078, 4.0868000984191895, -1.936900019645691, 4.4868998527526855, 5.656000137329102, 6.590199947357178]), f(x)=37.6568\n"
     ]
    },
    {
     "data": {
      "application/vnd.jupyter.widget-view+json": {
       "model_id": "542d4d6edb754682a1e7bb87f72be0e8",
       "version_major": 2,
       "version_minor": 0
      },
      "text/plain": [
       "Training GP:   0%|          | 0/500 [00:00<?, ?it/s]"
      ]
     },
     "metadata": {},
     "output_type": "display_data"
    },
    {
     "name": "stdout",
     "output_type": "stream",
     "text": [
      "Iteration 55, incumbent x=([0.3431999981403351, 3.588399887084961, 3.0141000747680664, -8.251199722290039, -4.600299835205078, 4.0868000984191895, -1.936900019645691, 4.4868998527526855, 5.656000137329102, 6.590199947357178]), f(x)=37.6568\n"
     ]
    },
    {
     "data": {
      "application/vnd.jupyter.widget-view+json": {
       "model_id": "60550d6489b842e0a25a2df5022b68ce",
       "version_major": 2,
       "version_minor": 0
      },
      "text/plain": [
       "Training GP:   0%|          | 0/500 [00:00<?, ?it/s]"
      ]
     },
     "metadata": {},
     "output_type": "display_data"
    },
    {
     "name": "stdout",
     "output_type": "stream",
     "text": [
      "Iteration 56, incumbent x=([0.3431999981403351, 3.588399887084961, 3.0141000747680664, -8.251199722290039, -4.600299835205078, 4.0868000984191895, -1.936900019645691, 4.4868998527526855, 5.656000137329102, 6.590199947357178]), f(x)=37.6568\n"
     ]
    },
    {
     "data": {
      "application/vnd.jupyter.widget-view+json": {
       "model_id": "f2aebee1d54d464da7588b5272bcb398",
       "version_major": 2,
       "version_minor": 0
      },
      "text/plain": [
       "Training GP:   0%|          | 0/500 [00:00<?, ?it/s]"
      ]
     },
     "metadata": {},
     "output_type": "display_data"
    },
    {
     "name": "stdout",
     "output_type": "stream",
     "text": [
      "Iteration 57, incumbent x=([0.3431999981403351, 3.588399887084961, 3.0141000747680664, -8.251199722290039, -4.600299835205078, 4.0868000984191895, -1.936900019645691, 4.4868998527526855, 5.656000137329102, 6.590199947357178]), f(x)=37.6568\n"
     ]
    },
    {
     "data": {
      "application/vnd.jupyter.widget-view+json": {
       "model_id": "b2042298822349418f04e9396e60fcbc",
       "version_major": 2,
       "version_minor": 0
      },
      "text/plain": [
       "Training GP:   0%|          | 0/500 [00:00<?, ?it/s]"
      ]
     },
     "metadata": {},
     "output_type": "display_data"
    },
    {
     "name": "stdout",
     "output_type": "stream",
     "text": [
      "Iteration 58, incumbent x=([0.3431999981403351, 3.588399887084961, 3.0141000747680664, -8.251199722290039, -4.600299835205078, 4.0868000984191895, -1.936900019645691, 4.4868998527526855, 5.656000137329102, 6.590199947357178]), f(x)=37.6568\n"
     ]
    },
    {
     "data": {
      "application/vnd.jupyter.widget-view+json": {
       "model_id": "61737bb756134a08a95a2b938849113c",
       "version_major": 2,
       "version_minor": 0
      },
      "text/plain": [
       "Training GP:   0%|          | 0/500 [00:00<?, ?it/s]"
      ]
     },
     "metadata": {},
     "output_type": "display_data"
    },
    {
     "name": "stdout",
     "output_type": "stream",
     "text": [
      "Iteration 59, incumbent x=([0.3431999981403351, 3.588399887084961, 3.0141000747680664, -8.251199722290039, -4.600299835205078, 4.0868000984191895, -1.936900019645691, 4.4868998527526855, 5.656000137329102, 6.590199947357178]), f(x)=37.6568\n"
     ]
    },
    {
     "data": {
      "application/vnd.jupyter.widget-view+json": {
       "model_id": "e06fe0bf52ce43a491d8c3d4732dd460",
       "version_major": 2,
       "version_minor": 0
      },
      "text/plain": [
       "Training GP:   0%|          | 0/500 [00:00<?, ?it/s]"
      ]
     },
     "metadata": {},
     "output_type": "display_data"
    },
    {
     "name": "stdout",
     "output_type": "stream",
     "text": [
      "Iteration 60, incumbent x=([0.3431999981403351, 3.588399887084961, 3.0141000747680664, -8.251199722290039, -4.600299835205078, 4.0868000984191895, -1.936900019645691, 4.4868998527526855, 5.656000137329102, 6.590199947357178]), f(x)=37.6568\n"
     ]
    },
    {
     "data": {
      "application/vnd.jupyter.widget-view+json": {
       "model_id": "1f9ab7e6f3854b4d91f74beea2891281",
       "version_major": 2,
       "version_minor": 0
      },
      "text/plain": [
       "Training GP:   0%|          | 0/500 [00:00<?, ?it/s]"
      ]
     },
     "metadata": {},
     "output_type": "display_data"
    },
    {
     "name": "stdout",
     "output_type": "stream",
     "text": [
      "Iteration 61, incumbent x=([0.3431999981403351, 3.588399887084961, 3.0141000747680664, -8.251199722290039, -4.600299835205078, 4.0868000984191895, -1.936900019645691, 4.4868998527526855, 5.656000137329102, 6.590199947357178]), f(x)=37.6568\n"
     ]
    },
    {
     "data": {
      "application/vnd.jupyter.widget-view+json": {
       "model_id": "da916c27cbc94993ad721d4a0bce17d5",
       "version_major": 2,
       "version_minor": 0
      },
      "text/plain": [
       "Training GP:   0%|          | 0/500 [00:00<?, ?it/s]"
      ]
     },
     "metadata": {},
     "output_type": "display_data"
    },
    {
     "name": "stdout",
     "output_type": "stream",
     "text": [
      "Iteration 62, incumbent x=([0.3431999981403351, 3.588399887084961, 3.0141000747680664, -8.251199722290039, -4.600299835205078, 4.0868000984191895, -1.936900019645691, 4.4868998527526855, 5.656000137329102, 6.590199947357178]), f(x)=37.6568\n"
     ]
    },
    {
     "data": {
      "application/vnd.jupyter.widget-view+json": {
       "model_id": "21b41e7112d3422a96aaf1e1faac7317",
       "version_major": 2,
       "version_minor": 0
      },
      "text/plain": [
       "Training GP:   0%|          | 0/500 [00:00<?, ?it/s]"
      ]
     },
     "metadata": {},
     "output_type": "display_data"
    },
    {
     "name": "stdout",
     "output_type": "stream",
     "text": [
      "Iteration 63, incumbent x=([-3.361299991607666, 4.218800067901611, -0.07769999653100967, 0.6632999777793884, -3.7409000396728516, -1.9996999502182007, -8.557000160217285, -3.9268999099731445, -2.934000015258789, -0.6884999871253967]), f(x)=37.3269\n"
     ]
    },
    {
     "data": {
      "application/vnd.jupyter.widget-view+json": {
       "model_id": "b2cb2075f74a40e29198895476db54e1",
       "version_major": 2,
       "version_minor": 0
      },
      "text/plain": [
       "Training GP:   0%|          | 0/500 [00:00<?, ?it/s]"
      ]
     },
     "metadata": {},
     "output_type": "display_data"
    },
    {
     "name": "stdout",
     "output_type": "stream",
     "text": [
      "Iteration 64, incumbent x=([-3.361299991607666, 4.218800067901611, -0.07769999653100967, 0.6632999777793884, -3.7409000396728516, -1.9996999502182007, -8.557000160217285, -3.9268999099731445, -2.934000015258789, -0.6884999871253967]), f(x)=37.3269\n"
     ]
    },
    {
     "data": {
      "application/vnd.jupyter.widget-view+json": {
       "model_id": "72bf2ecf283b437dba03dcf025c0d93d",
       "version_major": 2,
       "version_minor": 0
      },
      "text/plain": [
       "Training GP:   0%|          | 0/500 [00:00<?, ?it/s]"
      ]
     },
     "metadata": {},
     "output_type": "display_data"
    },
    {
     "name": "stdout",
     "output_type": "stream",
     "text": [
      "Iteration 65, incumbent x=([-3.361299991607666, 4.218800067901611, -0.07769999653100967, 0.6632999777793884, -3.7409000396728516, -1.9996999502182007, -8.557000160217285, -3.9268999099731445, -2.934000015258789, -0.6884999871253967]), f(x)=37.3269\n"
     ]
    },
    {
     "data": {
      "application/vnd.jupyter.widget-view+json": {
       "model_id": "aa85ea66fd9243399cdda7f7237fc45e",
       "version_major": 2,
       "version_minor": 0
      },
      "text/plain": [
       "Training GP:   0%|          | 0/500 [00:00<?, ?it/s]"
      ]
     },
     "metadata": {},
     "output_type": "display_data"
    },
    {
     "name": "stdout",
     "output_type": "stream",
     "text": [
      "Iteration 66, incumbent x=([-3.361299991607666, 4.218800067901611, -0.07769999653100967, 0.6632999777793884, -3.7409000396728516, -1.9996999502182007, -8.557000160217285, -3.9268999099731445, -2.934000015258789, -0.6884999871253967]), f(x)=37.3269\n"
     ]
    },
    {
     "data": {
      "application/vnd.jupyter.widget-view+json": {
       "model_id": "c9a8938f9e4a411c88897252ce5b40b3",
       "version_major": 2,
       "version_minor": 0
      },
      "text/plain": [
       "Training GP:   0%|          | 0/500 [00:00<?, ?it/s]"
      ]
     },
     "metadata": {},
     "output_type": "display_data"
    },
    {
     "name": "stdout",
     "output_type": "stream",
     "text": [
      "Iteration 67, incumbent x=([-3.361299991607666, 4.218800067901611, -0.07769999653100967, 0.6632999777793884, -3.7409000396728516, -1.9996999502182007, -8.557000160217285, -3.9268999099731445, -2.934000015258789, -0.6884999871253967]), f(x)=37.3269\n"
     ]
    },
    {
     "data": {
      "application/vnd.jupyter.widget-view+json": {
       "model_id": "34cc75d9ce284768ad33c0b565ecb96b",
       "version_major": 2,
       "version_minor": 0
      },
      "text/plain": [
       "Training GP:   0%|          | 0/500 [00:00<?, ?it/s]"
      ]
     },
     "metadata": {},
     "output_type": "display_data"
    },
    {
     "name": "stdout",
     "output_type": "stream",
     "text": [
      "Iteration 68, incumbent x=([-3.361299991607666, 4.218800067901611, -0.07769999653100967, 0.6632999777793884, -3.7409000396728516, -1.9996999502182007, -8.557000160217285, -3.9268999099731445, -2.934000015258789, -0.6884999871253967]), f(x)=37.3269\n"
     ]
    },
    {
     "data": {
      "application/vnd.jupyter.widget-view+json": {
       "model_id": "ef79448983ad49e88c70d81c8d41a8fe",
       "version_major": 2,
       "version_minor": 0
      },
      "text/plain": [
       "Training GP:   0%|          | 0/500 [00:00<?, ?it/s]"
      ]
     },
     "metadata": {},
     "output_type": "display_data"
    },
    {
     "name": "stdout",
     "output_type": "stream",
     "text": [
      "Iteration 69, incumbent x=([-3.361299991607666, 4.218800067901611, -0.07769999653100967, 0.6632999777793884, -3.7409000396728516, -1.9996999502182007, -8.557000160217285, -3.9268999099731445, -2.934000015258789, -0.6884999871253967]), f(x)=37.3269\n"
     ]
    },
    {
     "data": {
      "application/vnd.jupyter.widget-view+json": {
       "model_id": "1e65a821b24c4a83b1a8c59af09ecf88",
       "version_major": 2,
       "version_minor": 0
      },
      "text/plain": [
       "Training GP:   0%|          | 0/500 [00:00<?, ?it/s]"
      ]
     },
     "metadata": {},
     "output_type": "display_data"
    },
    {
     "name": "stdout",
     "output_type": "stream",
     "text": [
      "Iteration 70, incumbent x=([-3.361299991607666, 4.218800067901611, -0.07769999653100967, 0.6632999777793884, -3.7409000396728516, -1.9996999502182007, -8.557000160217285, -3.9268999099731445, -2.934000015258789, -0.6884999871253967]), f(x)=37.3269\n"
     ]
    },
    {
     "data": {
      "application/vnd.jupyter.widget-view+json": {
       "model_id": "402cc111072e4e47ae841b4167277771",
       "version_major": 2,
       "version_minor": 0
      },
      "text/plain": [
       "Training GP:   0%|          | 0/500 [00:00<?, ?it/s]"
      ]
     },
     "metadata": {},
     "output_type": "display_data"
    },
    {
     "name": "stdout",
     "output_type": "stream",
     "text": [
      "Iteration 71, incumbent x=([-3.361299991607666, 4.218800067901611, -0.07769999653100967, 0.6632999777793884, -3.7409000396728516, -1.9996999502182007, -8.557000160217285, -3.9268999099731445, -2.934000015258789, -0.6884999871253967]), f(x)=37.3269\n"
     ]
    },
    {
     "data": {
      "application/vnd.jupyter.widget-view+json": {
       "model_id": "ce6cabbe5b6042569cab32d16d202a71",
       "version_major": 2,
       "version_minor": 0
      },
      "text/plain": [
       "Training GP:   0%|          | 0/500 [00:00<?, ?it/s]"
      ]
     },
     "metadata": {},
     "output_type": "display_data"
    },
    {
     "name": "stdout",
     "output_type": "stream",
     "text": [
      "Iteration 72, incumbent x=([-3.361299991607666, 4.218800067901611, -0.07769999653100967, 0.6632999777793884, -3.7409000396728516, -1.9996999502182007, -8.557000160217285, -3.9268999099731445, -2.934000015258789, -0.6884999871253967]), f(x)=37.3269\n"
     ]
    },
    {
     "data": {
      "application/vnd.jupyter.widget-view+json": {
       "model_id": "8f0c69709b124f1ba90616e76b221a2e",
       "version_major": 2,
       "version_minor": 0
      },
      "text/plain": [
       "Training GP:   0%|          | 0/500 [00:00<?, ?it/s]"
      ]
     },
     "metadata": {},
     "output_type": "display_data"
    },
    {
     "name": "stdout",
     "output_type": "stream",
     "text": [
      "Iteration 73, incumbent x=([-3.361299991607666, 4.218800067901611, -0.07769999653100967, 0.6632999777793884, -3.7409000396728516, -1.9996999502182007, -8.557000160217285, -3.9268999099731445, -2.934000015258789, -0.6884999871253967]), f(x)=37.3269\n"
     ]
    },
    {
     "data": {
      "application/vnd.jupyter.widget-view+json": {
       "model_id": "02520880167948a4b92b73db90223878",
       "version_major": 2,
       "version_minor": 0
      },
      "text/plain": [
       "Training GP:   0%|          | 0/500 [00:00<?, ?it/s]"
      ]
     },
     "metadata": {},
     "output_type": "display_data"
    },
    {
     "name": "stdout",
     "output_type": "stream",
     "text": [
      "Iteration 74, incumbent x=([-3.361299991607666, 4.218800067901611, -0.07769999653100967, 0.6632999777793884, -3.7409000396728516, -1.9996999502182007, -8.557000160217285, -3.9268999099731445, -2.934000015258789, -0.6884999871253967]), f(x)=37.3269\n"
     ]
    },
    {
     "data": {
      "application/vnd.jupyter.widget-view+json": {
       "model_id": "6f7fc7f3679c4604919d338e01e05018",
       "version_major": 2,
       "version_minor": 0
      },
      "text/plain": [
       "Training GP:   0%|          | 0/500 [00:00<?, ?it/s]"
      ]
     },
     "metadata": {},
     "output_type": "display_data"
    },
    {
     "name": "stdout",
     "output_type": "stream",
     "text": [
      "Iteration 75, incumbent x=([-3.361299991607666, 4.218800067901611, -0.07769999653100967, 0.6632999777793884, -3.7409000396728516, -1.9996999502182007, -8.557000160217285, -3.9268999099731445, -2.934000015258789, -0.6884999871253967]), f(x)=37.3269\n"
     ]
    },
    {
     "data": {
      "application/vnd.jupyter.widget-view+json": {
       "model_id": "11b7d89ca6274afd95d52c0403be33a1",
       "version_major": 2,
       "version_minor": 0
      },
      "text/plain": [
       "Training GP:   0%|          | 0/500 [00:00<?, ?it/s]"
      ]
     },
     "metadata": {},
     "output_type": "display_data"
    },
    {
     "name": "stdout",
     "output_type": "stream",
     "text": [
      "Iteration 76, incumbent x=([-3.361299991607666, 4.218800067901611, -0.07769999653100967, 0.6632999777793884, -3.7409000396728516, -1.9996999502182007, -8.557000160217285, -3.9268999099731445, -2.934000015258789, -0.6884999871253967]), f(x)=37.3269\n"
     ]
    },
    {
     "data": {
      "application/vnd.jupyter.widget-view+json": {
       "model_id": "dab495f56f374debba9a73d4c9d1bf67",
       "version_major": 2,
       "version_minor": 0
      },
      "text/plain": [
       "Training GP:   0%|          | 0/500 [00:00<?, ?it/s]"
      ]
     },
     "metadata": {},
     "output_type": "display_data"
    },
    {
     "name": "stdout",
     "output_type": "stream",
     "text": [
      "Iteration 77, incumbent x=([-3.361299991607666, 4.218800067901611, -0.07769999653100967, 0.6632999777793884, -3.7409000396728516, -1.9996999502182007, -8.557000160217285, -3.9268999099731445, -2.934000015258789, -0.6884999871253967]), f(x)=37.3269\n"
     ]
    },
    {
     "data": {
      "application/vnd.jupyter.widget-view+json": {
       "model_id": "5730d11874fd499090a289c7c2b89fed",
       "version_major": 2,
       "version_minor": 0
      },
      "text/plain": [
       "Training GP:   0%|          | 0/500 [00:00<?, ?it/s]"
      ]
     },
     "metadata": {},
     "output_type": "display_data"
    },
    {
     "name": "stdout",
     "output_type": "stream",
     "text": [
      "Iteration 78, incumbent x=([-3.361299991607666, 4.218800067901611, -0.07769999653100967, 0.6632999777793884, -3.7409000396728516, -1.9996999502182007, -8.557000160217285, -3.9268999099731445, -2.934000015258789, -0.6884999871253967]), f(x)=37.3269\n"
     ]
    },
    {
     "data": {
      "application/vnd.jupyter.widget-view+json": {
       "model_id": "70d28a24223940fb809eeadc482a3650",
       "version_major": 2,
       "version_minor": 0
      },
      "text/plain": [
       "Training GP:   0%|          | 0/500 [00:00<?, ?it/s]"
      ]
     },
     "metadata": {},
     "output_type": "display_data"
    },
    {
     "name": "stdout",
     "output_type": "stream",
     "text": [
      "Iteration 79, incumbent x=([-3.361299991607666, 4.218800067901611, -0.07769999653100967, 0.6632999777793884, -3.7409000396728516, -1.9996999502182007, -8.557000160217285, -3.9268999099731445, -2.934000015258789, -0.6884999871253967]), f(x)=37.3269\n"
     ]
    },
    {
     "data": {
      "application/vnd.jupyter.widget-view+json": {
       "model_id": "fb79e0460be9492ab90deae82826865c",
       "version_major": 2,
       "version_minor": 0
      },
      "text/plain": [
       "Training GP:   0%|          | 0/500 [00:00<?, ?it/s]"
      ]
     },
     "metadata": {},
     "output_type": "display_data"
    },
    {
     "name": "stdout",
     "output_type": "stream",
     "text": [
      "Iteration 80, incumbent x=([-3.361299991607666, 4.218800067901611, -0.07769999653100967, 0.6632999777793884, -3.7409000396728516, -1.9996999502182007, -8.557000160217285, -3.9268999099731445, -2.934000015258789, -0.6884999871253967]), f(x)=37.3269\n"
     ]
    },
    {
     "data": {
      "application/vnd.jupyter.widget-view+json": {
       "model_id": "0253aabe7b354cfe9122fb03e060103d",
       "version_major": 2,
       "version_minor": 0
      },
      "text/plain": [
       "Training GP:   0%|          | 0/500 [00:00<?, ?it/s]"
      ]
     },
     "metadata": {},
     "output_type": "display_data"
    },
    {
     "name": "stdout",
     "output_type": "stream",
     "text": [
      "Iteration 81, incumbent x=([-3.361299991607666, 4.218800067901611, -0.07769999653100967, 0.6632999777793884, -3.7409000396728516, -1.9996999502182007, -8.557000160217285, -3.9268999099731445, -2.934000015258789, -0.6884999871253967]), f(x)=37.3269\n"
     ]
    },
    {
     "data": {
      "application/vnd.jupyter.widget-view+json": {
       "model_id": "e8862a2a132e43788c5360e60ba17b0a",
       "version_major": 2,
       "version_minor": 0
      },
      "text/plain": [
       "Training GP:   0%|          | 0/500 [00:00<?, ?it/s]"
      ]
     },
     "metadata": {},
     "output_type": "display_data"
    },
    {
     "name": "stdout",
     "output_type": "stream",
     "text": [
      "Iteration 82, incumbent x=([-3.361299991607666, 4.218800067901611, -0.07769999653100967, 0.6632999777793884, -3.7409000396728516, -1.9996999502182007, -8.557000160217285, -3.9268999099731445, -2.934000015258789, -0.6884999871253967]), f(x)=37.3269\n"
     ]
    },
    {
     "data": {
      "application/vnd.jupyter.widget-view+json": {
       "model_id": "aed69068191547498449cb0a4f697872",
       "version_major": 2,
       "version_minor": 0
      },
      "text/plain": [
       "Training GP:   0%|          | 0/500 [00:00<?, ?it/s]"
      ]
     },
     "metadata": {},
     "output_type": "display_data"
    },
    {
     "name": "stdout",
     "output_type": "stream",
     "text": [
      "Iteration 83, incumbent x=([-3.361299991607666, 4.218800067901611, -0.07769999653100967, 0.6632999777793884, -3.7409000396728516, -1.9996999502182007, -8.557000160217285, -3.9268999099731445, -2.934000015258789, -0.6884999871253967]), f(x)=37.3269\n"
     ]
    },
    {
     "data": {
      "application/vnd.jupyter.widget-view+json": {
       "model_id": "4448fb75bcab45c79e2e6a62caa86310",
       "version_major": 2,
       "version_minor": 0
      },
      "text/plain": [
       "Training GP:   0%|          | 0/500 [00:00<?, ?it/s]"
      ]
     },
     "metadata": {},
     "output_type": "display_data"
    },
    {
     "name": "stdout",
     "output_type": "stream",
     "text": [
      "Iteration 84, incumbent x=([-3.361299991607666, 4.218800067901611, -0.07769999653100967, 0.6632999777793884, -3.7409000396728516, -1.9996999502182007, -8.557000160217285, -3.9268999099731445, -2.934000015258789, -0.6884999871253967]), f(x)=37.3269\n"
     ]
    },
    {
     "data": {
      "application/vnd.jupyter.widget-view+json": {
       "model_id": "c4fda69ea3914f32abf7cef7679f772b",
       "version_major": 2,
       "version_minor": 0
      },
      "text/plain": [
       "Training GP:   0%|          | 0/500 [00:00<?, ?it/s]"
      ]
     },
     "metadata": {},
     "output_type": "display_data"
    },
    {
     "name": "stdout",
     "output_type": "stream",
     "text": [
      "Iteration 85, incumbent x=([-3.361299991607666, 4.218800067901611, -0.07769999653100967, 0.6632999777793884, -3.7409000396728516, -1.9996999502182007, -8.557000160217285, -3.9268999099731445, -2.934000015258789, -0.6884999871253967]), f(x)=37.3269\n"
     ]
    },
    {
     "data": {
      "application/vnd.jupyter.widget-view+json": {
       "model_id": "655d9fa789da4da69563c3056268b448",
       "version_major": 2,
       "version_minor": 0
      },
      "text/plain": [
       "Training GP:   0%|          | 0/500 [00:00<?, ?it/s]"
      ]
     },
     "metadata": {},
     "output_type": "display_data"
    },
    {
     "name": "stdout",
     "output_type": "stream",
     "text": [
      "Iteration 86, incumbent x=([-3.361299991607666, 4.218800067901611, -0.07769999653100967, 0.6632999777793884, -3.7409000396728516, -1.9996999502182007, -8.557000160217285, -3.9268999099731445, -2.934000015258789, -0.6884999871253967]), f(x)=37.3269\n"
     ]
    },
    {
     "data": {
      "application/vnd.jupyter.widget-view+json": {
       "model_id": "506990b670b0437ebf45ce4259860032",
       "version_major": 2,
       "version_minor": 0
      },
      "text/plain": [
       "Training GP:   0%|          | 0/500 [00:00<?, ?it/s]"
      ]
     },
     "metadata": {},
     "output_type": "display_data"
    },
    {
     "name": "stdout",
     "output_type": "stream",
     "text": [
      "Iteration 87, incumbent x=([-3.361299991607666, 4.218800067901611, -0.07769999653100967, 0.6632999777793884, -3.7409000396728516, -1.9996999502182007, -8.557000160217285, -3.9268999099731445, -2.934000015258789, -0.6884999871253967]), f(x)=37.3269\n"
     ]
    },
    {
     "data": {
      "application/vnd.jupyter.widget-view+json": {
       "model_id": "0811826ff1424682bac6fba2b7f37a41",
       "version_major": 2,
       "version_minor": 0
      },
      "text/plain": [
       "Training GP:   0%|          | 0/500 [00:00<?, ?it/s]"
      ]
     },
     "metadata": {},
     "output_type": "display_data"
    },
    {
     "name": "stdout",
     "output_type": "stream",
     "text": [
      "Iteration 88, incumbent x=([-3.361299991607666, 4.218800067901611, -0.07769999653100967, 0.6632999777793884, -3.7409000396728516, -1.9996999502182007, -8.557000160217285, -3.9268999099731445, -2.934000015258789, -0.6884999871253967]), f(x)=37.3269\n"
     ]
    },
    {
     "data": {
      "application/vnd.jupyter.widget-view+json": {
       "model_id": "f9e7c88e1b1d4d6db0c066b949e29be3",
       "version_major": 2,
       "version_minor": 0
      },
      "text/plain": [
       "Training GP:   0%|          | 0/500 [00:00<?, ?it/s]"
      ]
     },
     "metadata": {},
     "output_type": "display_data"
    },
    {
     "name": "stdout",
     "output_type": "stream",
     "text": [
      "Iteration 89, incumbent x=([-3.361299991607666, 4.218800067901611, -0.07769999653100967, 0.6632999777793884, -3.7409000396728516, -1.9996999502182007, -8.557000160217285, -3.9268999099731445, -2.934000015258789, -0.6884999871253967]), f(x)=37.3269\n"
     ]
    },
    {
     "data": {
      "application/vnd.jupyter.widget-view+json": {
       "model_id": "ccadebbff48b477482a02f24680ea526",
       "version_major": 2,
       "version_minor": 0
      },
      "text/plain": [
       "Training GP:   0%|          | 0/500 [00:00<?, ?it/s]"
      ]
     },
     "metadata": {},
     "output_type": "display_data"
    },
    {
     "name": "stdout",
     "output_type": "stream",
     "text": [
      "Iteration 90, incumbent x=([-3.361299991607666, 4.218800067901611, -0.07769999653100967, 0.6632999777793884, -3.7409000396728516, -1.9996999502182007, -8.557000160217285, -3.9268999099731445, -2.934000015258789, -0.6884999871253967]), f(x)=37.3269\n"
     ]
    },
    {
     "data": {
      "application/vnd.jupyter.widget-view+json": {
       "model_id": "d37025bf74054fa7a78d8db4b237fab9",
       "version_major": 2,
       "version_minor": 0
      },
      "text/plain": [
       "Training GP:   0%|          | 0/500 [00:00<?, ?it/s]"
      ]
     },
     "metadata": {},
     "output_type": "display_data"
    },
    {
     "name": "stdout",
     "output_type": "stream",
     "text": [
      "Iteration 91, incumbent x=([-3.361299991607666, 4.218800067901611, -0.07769999653100967, 0.6632999777793884, -3.7409000396728516, -1.9996999502182007, -8.557000160217285, -3.9268999099731445, -2.934000015258789, -0.6884999871253967]), f(x)=37.3269\n"
     ]
    },
    {
     "data": {
      "application/vnd.jupyter.widget-view+json": {
       "model_id": "4da77af7e292407f98ae7879966b58ed",
       "version_major": 2,
       "version_minor": 0
      },
      "text/plain": [
       "Training GP:   0%|          | 0/500 [00:00<?, ?it/s]"
      ]
     },
     "metadata": {},
     "output_type": "display_data"
    },
    {
     "name": "stdout",
     "output_type": "stream",
     "text": [
      "Iteration 92, incumbent x=([-3.361299991607666, 4.218800067901611, -0.07769999653100967, 0.6632999777793884, -3.7409000396728516, -1.9996999502182007, -8.557000160217285, -3.9268999099731445, -2.934000015258789, -0.6884999871253967]), f(x)=37.3269\n"
     ]
    },
    {
     "data": {
      "application/vnd.jupyter.widget-view+json": {
       "model_id": "fbb828203c904a62ad9ae1737b08184f",
       "version_major": 2,
       "version_minor": 0
      },
      "text/plain": [
       "Training GP:   0%|          | 0/500 [00:00<?, ?it/s]"
      ]
     },
     "metadata": {},
     "output_type": "display_data"
    },
    {
     "name": "stdout",
     "output_type": "stream",
     "text": [
      "Iteration 93, incumbent x=([-3.361299991607666, 4.218800067901611, -0.07769999653100967, 0.6632999777793884, -3.7409000396728516, -1.9996999502182007, -8.557000160217285, -3.9268999099731445, -2.934000015258789, -0.6884999871253967]), f(x)=37.3269\n"
     ]
    },
    {
     "data": {
      "application/vnd.jupyter.widget-view+json": {
       "model_id": "34a50df2e4b049f5b1f61b62926f39d7",
       "version_major": 2,
       "version_minor": 0
      },
      "text/plain": [
       "Training GP:   0%|          | 0/500 [00:00<?, ?it/s]"
      ]
     },
     "metadata": {},
     "output_type": "display_data"
    },
    {
     "name": "stdout",
     "output_type": "stream",
     "text": [
      "Iteration 94, incumbent x=([-3.361299991607666, 4.218800067901611, -0.07769999653100967, 0.6632999777793884, -3.7409000396728516, -1.9996999502182007, -8.557000160217285, -3.9268999099731445, -2.934000015258789, -0.6884999871253967]), f(x)=37.3269\n"
     ]
    },
    {
     "data": {
      "application/vnd.jupyter.widget-view+json": {
       "model_id": "4d0a528a1bd64267990aee1641722f60",
       "version_major": 2,
       "version_minor": 0
      },
      "text/plain": [
       "Training GP:   0%|          | 0/500 [00:00<?, ?it/s]"
      ]
     },
     "metadata": {},
     "output_type": "display_data"
    },
    {
     "name": "stdout",
     "output_type": "stream",
     "text": [
      "Iteration 95, incumbent x=([-3.361299991607666, 4.218800067901611, -0.07769999653100967, 0.6632999777793884, -3.7409000396728516, -1.9996999502182007, -8.557000160217285, -3.9268999099731445, -2.934000015258789, -0.6884999871253967]), f(x)=37.3269\n"
     ]
    },
    {
     "data": {
      "application/vnd.jupyter.widget-view+json": {
       "model_id": "d0348d1cc6b148c18904ec417d624a47",
       "version_major": 2,
       "version_minor": 0
      },
      "text/plain": [
       "Training GP:   0%|          | 0/500 [00:00<?, ?it/s]"
      ]
     },
     "metadata": {},
     "output_type": "display_data"
    },
    {
     "name": "stdout",
     "output_type": "stream",
     "text": [
      "Iteration 96, incumbent x=([-3.361299991607666, 4.218800067901611, -0.07769999653100967, 0.6632999777793884, -3.7409000396728516, -1.9996999502182007, -8.557000160217285, -3.9268999099731445, -2.934000015258789, -0.6884999871253967]), f(x)=37.3269\n"
     ]
    },
    {
     "data": {
      "application/vnd.jupyter.widget-view+json": {
       "model_id": "eff04d81218a42f99d76cf67784bf26a",
       "version_major": 2,
       "version_minor": 0
      },
      "text/plain": [
       "Training GP:   0%|          | 0/500 [00:00<?, ?it/s]"
      ]
     },
     "metadata": {},
     "output_type": "display_data"
    },
    {
     "name": "stdout",
     "output_type": "stream",
     "text": [
      "Iteration 97, incumbent x=([-3.361299991607666, 4.218800067901611, -0.07769999653100967, 0.6632999777793884, -3.7409000396728516, -1.9996999502182007, -8.557000160217285, -3.9268999099731445, -2.934000015258789, -0.6884999871253967]), f(x)=37.3269\n"
     ]
    },
    {
     "data": {
      "application/vnd.jupyter.widget-view+json": {
       "model_id": "927ea2ecd9bc4af0abd357a9749d777b",
       "version_major": 2,
       "version_minor": 0
      },
      "text/plain": [
       "Training GP:   0%|          | 0/500 [00:00<?, ?it/s]"
      ]
     },
     "metadata": {},
     "output_type": "display_data"
    },
    {
     "name": "stdout",
     "output_type": "stream",
     "text": [
      "Iteration 98, incumbent x=([-3.361299991607666, 4.218800067901611, -0.07769999653100967, 0.6632999777793884, -3.7409000396728516, -1.9996999502182007, -8.557000160217285, -3.9268999099731445, -2.934000015258789, -0.6884999871253967]), f(x)=37.3269\n"
     ]
    },
    {
     "data": {
      "application/vnd.jupyter.widget-view+json": {
       "model_id": "3b9fa3c5dc314d64bc2d299ae872d2be",
       "version_major": 2,
       "version_minor": 0
      },
      "text/plain": [
       "Training GP:   0%|          | 0/500 [00:00<?, ?it/s]"
      ]
     },
     "metadata": {},
     "output_type": "display_data"
    },
    {
     "name": "stdout",
     "output_type": "stream",
     "text": [
      "Iteration 99, incumbent x=([-3.361299991607666, 4.218800067901611, -0.07769999653100967, 0.6632999777793884, -3.7409000396728516, -1.9996999502182007, -8.557000160217285, -3.9268999099731445, -2.934000015258789, -0.6884999871253967]), f(x)=37.3269\n"
     ]
    },
    {
     "data": {
      "application/vnd.jupyter.widget-view+json": {
       "model_id": "03be344a868449368b50815dcb8860d2",
       "version_major": 2,
       "version_minor": 0
      },
      "text/plain": [
       "Training GP:   0%|          | 0/500 [00:00<?, ?it/s]"
      ]
     },
     "metadata": {},
     "output_type": "display_data"
    },
    {
     "name": "stdout",
     "output_type": "stream",
     "text": [
      "\n",
      "Run 4/10\n",
      "Initial points (x1, ..., x10, f(x)):\n",
      "tensor([[  6.6050,  -7.4778,   8.1494,   6.3985,   8.4021,  -7.6671,  -6.7122,\n",
      "           4.7584,  -9.3347,   9.8837, 178.2963],\n",
      "        [  2.1286,   1.2914,  -8.5518,   3.1868,   4.3001,   1.5866,   9.6185,\n",
      "           3.0032,  -8.8673,   8.4022,  88.6118],\n",
      "        [  3.3953,  -4.7705,  -9.1857,   5.7007,   9.5032,  -8.1931,   0.5465,\n",
      "           3.5877,  -4.7224,  -2.1881, 116.3032],\n",
      "        [ -6.6773,  -4.7277,  -9.1167,  -0.2318,   5.9293,   4.8637,   9.3941,\n",
      "          -8.7825,  -1.2304,   9.7363, 166.2409],\n",
      "        [  1.6375,  -2.8200,  -9.0061,   4.6534,   7.5917,   8.0187,   8.3716,\n",
      "           1.9578,   7.1274,  -2.5171,  66.2864],\n",
      "        [  8.1212,  -0.8556,  -2.0622,  -4.9709,   5.3243,   4.0461,   6.3608,\n",
      "          -6.3907,  -5.3170,   9.4632, 109.5811],\n",
      "        [ -5.5504,  -5.7032,  -2.6756,  -3.2321,  -6.8007,   8.0813,   1.1147,\n",
      "           4.5591,   7.4174,  -6.4800, 118.0704],\n",
      "        [  7.6339,  -5.0095,  -1.5921,   7.5677,   9.2197,   8.7785,   5.7513,\n",
      "           9.2947,  -3.6031,  -0.6365, 146.5710],\n",
      "        [ -3.4203,  -0.7350,  -1.2159,   5.3428,   6.8734,  -7.2011,  -5.5220,\n",
      "          -3.0755,   1.3368,  -3.8818,  89.9893],\n",
      "        [ -6.2195,  -1.8264,  -4.8801,   0.2753,  -7.4026,  -2.4998,  -3.6897,\n",
      "          -1.3813,   7.8573,   6.5572,  90.4733]])\n"
     ]
    },
    {
     "data": {
      "application/vnd.jupyter.widget-view+json": {
       "model_id": "03945e78e7e5474987b0c66fc995f02e",
       "version_major": 2,
       "version_minor": 0
      },
      "text/plain": [
       "Training GP:   0%|          | 0/500 [00:00<?, ?it/s]"
      ]
     },
     "metadata": {},
     "output_type": "display_data"
    },
    {
     "name": "stdout",
     "output_type": "stream",
     "text": [
      "Iteration 0, incumbent x=([1.6375000476837158, -2.819999933242798, -9.006099700927734, 4.65339994430542, 7.591700077056885, 8.018699645996094, 8.371600151062012, 1.957800030708313, 7.127399921417236, -2.5171000957489014]), f(x)=66.2864\n"
     ]
    },
    {
     "data": {
      "application/vnd.jupyter.widget-view+json": {
       "model_id": "6e01e6fdc51f45b29f735c639863c6f1",
       "version_major": 2,
       "version_minor": 0
      },
      "text/plain": [
       "Training GP:   0%|          | 0/500 [00:00<?, ?it/s]"
      ]
     },
     "metadata": {},
     "output_type": "display_data"
    },
    {
     "name": "stdout",
     "output_type": "stream",
     "text": [
      "Iteration 1, incumbent x=([1.6375000476837158, -2.819999933242798, -9.006099700927734, 4.65339994430542, 7.591700077056885, 8.018699645996094, 8.371600151062012, 1.957800030708313, 7.127399921417236, -2.5171000957489014]), f(x)=66.2864\n"
     ]
    },
    {
     "data": {
      "application/vnd.jupyter.widget-view+json": {
       "model_id": "49e3f7637793424e9682acd221afec34",
       "version_major": 2,
       "version_minor": 0
      },
      "text/plain": [
       "Training GP:   0%|          | 0/500 [00:00<?, ?it/s]"
      ]
     },
     "metadata": {},
     "output_type": "display_data"
    },
    {
     "name": "stdout",
     "output_type": "stream",
     "text": [
      "Iteration 2, incumbent x=([1.6375000476837158, -2.819999933242798, -9.006099700927734, 4.65339994430542, 7.591700077056885, 8.018699645996094, 8.371600151062012, 1.957800030708313, 7.127399921417236, -2.5171000957489014]), f(x)=66.2864\n"
     ]
    },
    {
     "data": {
      "application/vnd.jupyter.widget-view+json": {
       "model_id": "97190108eca141babb68bf4e2a9e497e",
       "version_major": 2,
       "version_minor": 0
      },
      "text/plain": [
       "Training GP:   0%|          | 0/500 [00:00<?, ?it/s]"
      ]
     },
     "metadata": {},
     "output_type": "display_data"
    },
    {
     "name": "stdout",
     "output_type": "stream",
     "text": [
      "Iteration 3, incumbent x=([1.6375000476837158, -2.819999933242798, -9.006099700927734, 4.65339994430542, 7.591700077056885, 8.018699645996094, 8.371600151062012, 1.957800030708313, 7.127399921417236, -2.5171000957489014]), f(x)=66.2864\n"
     ]
    },
    {
     "data": {
      "application/vnd.jupyter.widget-view+json": {
       "model_id": "86fb0947afb5481c8149a24720e79b42",
       "version_major": 2,
       "version_minor": 0
      },
      "text/plain": [
       "Training GP:   0%|          | 0/500 [00:00<?, ?it/s]"
      ]
     },
     "metadata": {},
     "output_type": "display_data"
    },
    {
     "name": "stdout",
     "output_type": "stream",
     "text": [
      "Iteration 4, incumbent x=([1.6375000476837158, -2.819999933242798, -9.006099700927734, 4.65339994430542, 7.591700077056885, 8.018699645996094, 8.371600151062012, 1.957800030708313, 7.127399921417236, -2.5171000957489014]), f(x)=66.2864\n"
     ]
    },
    {
     "data": {
      "application/vnd.jupyter.widget-view+json": {
       "model_id": "4d23f9ad22d44e188503afaaee508605",
       "version_major": 2,
       "version_minor": 0
      },
      "text/plain": [
       "Training GP:   0%|          | 0/500 [00:00<?, ?it/s]"
      ]
     },
     "metadata": {},
     "output_type": "display_data"
    },
    {
     "name": "stdout",
     "output_type": "stream",
     "text": [
      "Iteration 5, incumbent x=([-0.25780001282691956, 0.49300000071525574, 4.796899795532227, 4.1631999015808105, 3.998500108718872, -5.029200077056885, 4.0777997970581055, -0.01489999983459711, 7.095699787139893, -3.890199899673462]), f(x)=29.9363\n"
     ]
    },
    {
     "data": {
      "application/vnd.jupyter.widget-view+json": {
       "model_id": "627a998bcb0443d09988e0c2a1604e36",
       "version_major": 2,
       "version_minor": 0
      },
      "text/plain": [
       "Training GP:   0%|          | 0/500 [00:00<?, ?it/s]"
      ]
     },
     "metadata": {},
     "output_type": "display_data"
    },
    {
     "name": "stdout",
     "output_type": "stream",
     "text": [
      "Iteration 6, incumbent x=([-0.25780001282691956, 0.49300000071525574, 4.796899795532227, 4.1631999015808105, 3.998500108718872, -5.029200077056885, 4.0777997970581055, -0.01489999983459711, 7.095699787139893, -3.890199899673462]), f(x)=29.9363\n"
     ]
    },
    {
     "data": {
      "application/vnd.jupyter.widget-view+json": {
       "model_id": "158c9d00993d4a399e450a9f1a16b58d",
       "version_major": 2,
       "version_minor": 0
      },
      "text/plain": [
       "Training GP:   0%|          | 0/500 [00:00<?, ?it/s]"
      ]
     },
     "metadata": {},
     "output_type": "display_data"
    },
    {
     "name": "stdout",
     "output_type": "stream",
     "text": [
      "Iteration 7, incumbent x=([-0.25780001282691956, 0.49300000071525574, 4.796899795532227, 4.1631999015808105, 3.998500108718872, -5.029200077056885, 4.0777997970581055, -0.01489999983459711, 7.095699787139893, -3.890199899673462]), f(x)=29.9363\n"
     ]
    },
    {
     "data": {
      "application/vnd.jupyter.widget-view+json": {
       "model_id": "7b2cec0f89164ec9b1948d75334dae78",
       "version_major": 2,
       "version_minor": 0
      },
      "text/plain": [
       "Training GP:   0%|          | 0/500 [00:00<?, ?it/s]"
      ]
     },
     "metadata": {},
     "output_type": "display_data"
    },
    {
     "name": "stdout",
     "output_type": "stream",
     "text": [
      "Iteration 8, incumbent x=([-0.25780001282691956, 0.49300000071525574, 4.796899795532227, 4.1631999015808105, 3.998500108718872, -5.029200077056885, 4.0777997970581055, -0.01489999983459711, 7.095699787139893, -3.890199899673462]), f(x)=29.9363\n"
     ]
    },
    {
     "data": {
      "application/vnd.jupyter.widget-view+json": {
       "model_id": "d06e8e97e0d6410b895e85e96e8bab07",
       "version_major": 2,
       "version_minor": 0
      },
      "text/plain": [
       "Training GP:   0%|          | 0/500 [00:00<?, ?it/s]"
      ]
     },
     "metadata": {},
     "output_type": "display_data"
    },
    {
     "name": "stdout",
     "output_type": "stream",
     "text": [
      "Iteration 9, incumbent x=([-0.25780001282691956, 0.49300000071525574, 4.796899795532227, 4.1631999015808105, 3.998500108718872, -5.029200077056885, 4.0777997970581055, -0.01489999983459711, 7.095699787139893, -3.890199899673462]), f(x)=29.9363\n"
     ]
    },
    {
     "data": {
      "application/vnd.jupyter.widget-view+json": {
       "model_id": "5b7dfb3a0f56451bb6780549551b60bb",
       "version_major": 2,
       "version_minor": 0
      },
      "text/plain": [
       "Training GP:   0%|          | 0/500 [00:00<?, ?it/s]"
      ]
     },
     "metadata": {},
     "output_type": "display_data"
    },
    {
     "name": "stdout",
     "output_type": "stream",
     "text": [
      "Iteration 10, incumbent x=([-0.25780001282691956, 0.49300000071525574, 4.796899795532227, 4.1631999015808105, 3.998500108718872, -5.029200077056885, 4.0777997970581055, -0.01489999983459711, 7.095699787139893, -3.890199899673462]), f(x)=29.9363\n"
     ]
    },
    {
     "data": {
      "application/vnd.jupyter.widget-view+json": {
       "model_id": "3b75174f9e8c4913b6d866d996ef9326",
       "version_major": 2,
       "version_minor": 0
      },
      "text/plain": [
       "Training GP:   0%|          | 0/500 [00:00<?, ?it/s]"
      ]
     },
     "metadata": {},
     "output_type": "display_data"
    },
    {
     "name": "stdout",
     "output_type": "stream",
     "text": [
      "Iteration 11, incumbent x=([-0.25780001282691956, 0.49300000071525574, 4.796899795532227, 4.1631999015808105, 3.998500108718872, -5.029200077056885, 4.0777997970581055, -0.01489999983459711, 7.095699787139893, -3.890199899673462]), f(x)=29.9363\n"
     ]
    },
    {
     "data": {
      "application/vnd.jupyter.widget-view+json": {
       "model_id": "26cb1c144a224f4a918d5794dbe1c886",
       "version_major": 2,
       "version_minor": 0
      },
      "text/plain": [
       "Training GP:   0%|          | 0/500 [00:00<?, ?it/s]"
      ]
     },
     "metadata": {},
     "output_type": "display_data"
    },
    {
     "name": "stdout",
     "output_type": "stream",
     "text": [
      "Iteration 12, incumbent x=([-0.25780001282691956, 0.49300000071525574, 4.796899795532227, 4.1631999015808105, 3.998500108718872, -5.029200077056885, 4.0777997970581055, -0.01489999983459711, 7.095699787139893, -3.890199899673462]), f(x)=29.9363\n"
     ]
    },
    {
     "data": {
      "application/vnd.jupyter.widget-view+json": {
       "model_id": "c575364521e0494bb3c86b680417e279",
       "version_major": 2,
       "version_minor": 0
      },
      "text/plain": [
       "Training GP:   0%|          | 0/500 [00:00<?, ?it/s]"
      ]
     },
     "metadata": {},
     "output_type": "display_data"
    },
    {
     "name": "stdout",
     "output_type": "stream",
     "text": [
      "Iteration 13, incumbent x=([-0.25780001282691956, 0.49300000071525574, 4.796899795532227, 4.1631999015808105, 3.998500108718872, -5.029200077056885, 4.0777997970581055, -0.01489999983459711, 7.095699787139893, -3.890199899673462]), f(x)=29.9363\n"
     ]
    },
    {
     "data": {
      "application/vnd.jupyter.widget-view+json": {
       "model_id": "a33f24443f4a4e7f8dbbdf014946518d",
       "version_major": 2,
       "version_minor": 0
      },
      "text/plain": [
       "Training GP:   0%|          | 0/500 [00:00<?, ?it/s]"
      ]
     },
     "metadata": {},
     "output_type": "display_data"
    },
    {
     "name": "stdout",
     "output_type": "stream",
     "text": [
      "Iteration 14, incumbent x=([-0.25780001282691956, 0.49300000071525574, 4.796899795532227, 4.1631999015808105, 3.998500108718872, -5.029200077056885, 4.0777997970581055, -0.01489999983459711, 7.095699787139893, -3.890199899673462]), f(x)=29.9363\n"
     ]
    },
    {
     "data": {
      "application/vnd.jupyter.widget-view+json": {
       "model_id": "93d65f96798a426da051a6e708178ea8",
       "version_major": 2,
       "version_minor": 0
      },
      "text/plain": [
       "Training GP:   0%|          | 0/500 [00:00<?, ?it/s]"
      ]
     },
     "metadata": {},
     "output_type": "display_data"
    },
    {
     "name": "stdout",
     "output_type": "stream",
     "text": [
      "Iteration 15, incumbent x=([-0.25780001282691956, 0.49300000071525574, 4.796899795532227, 4.1631999015808105, 3.998500108718872, -5.029200077056885, 4.0777997970581055, -0.01489999983459711, 7.095699787139893, -3.890199899673462]), f(x)=29.9363\n"
     ]
    },
    {
     "data": {
      "application/vnd.jupyter.widget-view+json": {
       "model_id": "b275de6c16ac42f191c9591aec44eea5",
       "version_major": 2,
       "version_minor": 0
      },
      "text/plain": [
       "Training GP:   0%|          | 0/500 [00:00<?, ?it/s]"
      ]
     },
     "metadata": {},
     "output_type": "display_data"
    },
    {
     "name": "stdout",
     "output_type": "stream",
     "text": [
      "Iteration 16, incumbent x=([-0.25780001282691956, 0.49300000071525574, 4.796899795532227, 4.1631999015808105, 3.998500108718872, -5.029200077056885, 4.0777997970581055, -0.01489999983459711, 7.095699787139893, -3.890199899673462]), f(x)=29.9363\n"
     ]
    },
    {
     "data": {
      "application/vnd.jupyter.widget-view+json": {
       "model_id": "7c98be6cde234071ae2880476eb6967a",
       "version_major": 2,
       "version_minor": 0
      },
      "text/plain": [
       "Training GP:   0%|          | 0/500 [00:00<?, ?it/s]"
      ]
     },
     "metadata": {},
     "output_type": "display_data"
    },
    {
     "name": "stdout",
     "output_type": "stream",
     "text": [
      "Iteration 17, incumbent x=([-0.25780001282691956, 0.49300000071525574, 4.796899795532227, 4.1631999015808105, 3.998500108718872, -5.029200077056885, 4.0777997970581055, -0.01489999983459711, 7.095699787139893, -3.890199899673462]), f(x)=29.9363\n"
     ]
    },
    {
     "data": {
      "application/vnd.jupyter.widget-view+json": {
       "model_id": "89340ce714244354acae60ff72f06f24",
       "version_major": 2,
       "version_minor": 0
      },
      "text/plain": [
       "Training GP:   0%|          | 0/500 [00:00<?, ?it/s]"
      ]
     },
     "metadata": {},
     "output_type": "display_data"
    },
    {
     "name": "stdout",
     "output_type": "stream",
     "text": [
      "Iteration 18, incumbent x=([-0.25780001282691956, 0.49300000071525574, 4.796899795532227, 4.1631999015808105, 3.998500108718872, -5.029200077056885, 4.0777997970581055, -0.01489999983459711, 7.095699787139893, -3.890199899673462]), f(x)=29.9363\n"
     ]
    },
    {
     "data": {
      "application/vnd.jupyter.widget-view+json": {
       "model_id": "dd6f2927b4f547d797b3eb74093bebc0",
       "version_major": 2,
       "version_minor": 0
      },
      "text/plain": [
       "Training GP:   0%|          | 0/500 [00:00<?, ?it/s]"
      ]
     },
     "metadata": {},
     "output_type": "display_data"
    },
    {
     "name": "stdout",
     "output_type": "stream",
     "text": [
      "Iteration 19, incumbent x=([-0.25780001282691956, 0.49300000071525574, 4.796899795532227, 4.1631999015808105, 3.998500108718872, -5.029200077056885, 4.0777997970581055, -0.01489999983459711, 7.095699787139893, -3.890199899673462]), f(x)=29.9363\n"
     ]
    },
    {
     "data": {
      "application/vnd.jupyter.widget-view+json": {
       "model_id": "c8ecee86c85845a8aa1db4bd3c8bc0fa",
       "version_major": 2,
       "version_minor": 0
      },
      "text/plain": [
       "Training GP:   0%|          | 0/500 [00:00<?, ?it/s]"
      ]
     },
     "metadata": {},
     "output_type": "display_data"
    },
    {
     "name": "stdout",
     "output_type": "stream",
     "text": [
      "Iteration 20, incumbent x=([-0.25780001282691956, 0.49300000071525574, 4.796899795532227, 4.1631999015808105, 3.998500108718872, -5.029200077056885, 4.0777997970581055, -0.01489999983459711, 7.095699787139893, -3.890199899673462]), f(x)=29.9363\n"
     ]
    },
    {
     "data": {
      "application/vnd.jupyter.widget-view+json": {
       "model_id": "d89342b7df454510af0d426d20b6d6b6",
       "version_major": 2,
       "version_minor": 0
      },
      "text/plain": [
       "Training GP:   0%|          | 0/500 [00:00<?, ?it/s]"
      ]
     },
     "metadata": {},
     "output_type": "display_data"
    },
    {
     "name": "stdout",
     "output_type": "stream",
     "text": [
      "Iteration 21, incumbent x=([-0.25780001282691956, 0.49300000071525574, 4.796899795532227, 4.1631999015808105, 3.998500108718872, -5.029200077056885, 4.0777997970581055, -0.01489999983459711, 7.095699787139893, -3.890199899673462]), f(x)=29.9363\n"
     ]
    },
    {
     "data": {
      "application/vnd.jupyter.widget-view+json": {
       "model_id": "6216b08259574177927e9f64180193ec",
       "version_major": 2,
       "version_minor": 0
      },
      "text/plain": [
       "Training GP:   0%|          | 0/500 [00:00<?, ?it/s]"
      ]
     },
     "metadata": {},
     "output_type": "display_data"
    },
    {
     "name": "stdout",
     "output_type": "stream",
     "text": [
      "Iteration 22, incumbent x=([-0.25780001282691956, 0.49300000071525574, 4.796899795532227, 4.1631999015808105, 3.998500108718872, -5.029200077056885, 4.0777997970581055, -0.01489999983459711, 7.095699787139893, -3.890199899673462]), f(x)=29.9363\n"
     ]
    },
    {
     "data": {
      "application/vnd.jupyter.widget-view+json": {
       "model_id": "41d494d282e84e1d8168d0a3b4290c87",
       "version_major": 2,
       "version_minor": 0
      },
      "text/plain": [
       "Training GP:   0%|          | 0/500 [00:00<?, ?it/s]"
      ]
     },
     "metadata": {},
     "output_type": "display_data"
    },
    {
     "name": "stdout",
     "output_type": "stream",
     "text": [
      "Iteration 23, incumbent x=([-0.25780001282691956, 0.49300000071525574, 4.796899795532227, 4.1631999015808105, 3.998500108718872, -5.029200077056885, 4.0777997970581055, -0.01489999983459711, 7.095699787139893, -3.890199899673462]), f(x)=29.9363\n"
     ]
    },
    {
     "data": {
      "application/vnd.jupyter.widget-view+json": {
       "model_id": "83411b7e0a874e57b593979b413b21bb",
       "version_major": 2,
       "version_minor": 0
      },
      "text/plain": [
       "Training GP:   0%|          | 0/500 [00:00<?, ?it/s]"
      ]
     },
     "metadata": {},
     "output_type": "display_data"
    },
    {
     "name": "stdout",
     "output_type": "stream",
     "text": [
      "Iteration 24, incumbent x=([-0.25780001282691956, 0.49300000071525574, 4.796899795532227, 4.1631999015808105, 3.998500108718872, -5.029200077056885, 4.0777997970581055, -0.01489999983459711, 7.095699787139893, -3.890199899673462]), f(x)=29.9363\n"
     ]
    },
    {
     "data": {
      "application/vnd.jupyter.widget-view+json": {
       "model_id": "84f9b5efbaff43a4810c8c953537ea61",
       "version_major": 2,
       "version_minor": 0
      },
      "text/plain": [
       "Training GP:   0%|          | 0/500 [00:00<?, ?it/s]"
      ]
     },
     "metadata": {},
     "output_type": "display_data"
    },
    {
     "name": "stdout",
     "output_type": "stream",
     "text": [
      "Iteration 25, incumbent x=([-0.25780001282691956, 0.49300000071525574, 4.796899795532227, 4.1631999015808105, 3.998500108718872, -5.029200077056885, 4.0777997970581055, -0.01489999983459711, 7.095699787139893, -3.890199899673462]), f(x)=29.9363\n"
     ]
    },
    {
     "data": {
      "application/vnd.jupyter.widget-view+json": {
       "model_id": "faa3a010a6eb498db562461e08b716ec",
       "version_major": 2,
       "version_minor": 0
      },
      "text/plain": [
       "Training GP:   0%|          | 0/500 [00:00<?, ?it/s]"
      ]
     },
     "metadata": {},
     "output_type": "display_data"
    },
    {
     "name": "stdout",
     "output_type": "stream",
     "text": [
      "Iteration 26, incumbent x=([-0.25780001282691956, 0.49300000071525574, 4.796899795532227, 4.1631999015808105, 3.998500108718872, -5.029200077056885, 4.0777997970581055, -0.01489999983459711, 7.095699787139893, -3.890199899673462]), f(x)=29.9363\n"
     ]
    },
    {
     "data": {
      "application/vnd.jupyter.widget-view+json": {
       "model_id": "66b27aea54ee4f06acd249d4ea0ae8c3",
       "version_major": 2,
       "version_minor": 0
      },
      "text/plain": [
       "Training GP:   0%|          | 0/500 [00:00<?, ?it/s]"
      ]
     },
     "metadata": {},
     "output_type": "display_data"
    },
    {
     "name": "stdout",
     "output_type": "stream",
     "text": [
      "Iteration 27, incumbent x=([-0.25780001282691956, 0.49300000071525574, 4.796899795532227, 4.1631999015808105, 3.998500108718872, -5.029200077056885, 4.0777997970581055, -0.01489999983459711, 7.095699787139893, -3.890199899673462]), f(x)=29.9363\n"
     ]
    },
    {
     "data": {
      "application/vnd.jupyter.widget-view+json": {
       "model_id": "d539ed19b4714c6dadc4b0b6a825dd48",
       "version_major": 2,
       "version_minor": 0
      },
      "text/plain": [
       "Training GP:   0%|          | 0/500 [00:00<?, ?it/s]"
      ]
     },
     "metadata": {},
     "output_type": "display_data"
    },
    {
     "name": "stdout",
     "output_type": "stream",
     "text": [
      "Iteration 28, incumbent x=([-0.25780001282691956, 0.49300000071525574, 4.796899795532227, 4.1631999015808105, 3.998500108718872, -5.029200077056885, 4.0777997970581055, -0.01489999983459711, 7.095699787139893, -3.890199899673462]), f(x)=29.9363\n"
     ]
    },
    {
     "data": {
      "application/vnd.jupyter.widget-view+json": {
       "model_id": "90eeca07b4d044c2a35e384a6923baf3",
       "version_major": 2,
       "version_minor": 0
      },
      "text/plain": [
       "Training GP:   0%|          | 0/500 [00:00<?, ?it/s]"
      ]
     },
     "metadata": {},
     "output_type": "display_data"
    },
    {
     "name": "stdout",
     "output_type": "stream",
     "text": [
      "Iteration 29, incumbent x=([-0.25780001282691956, 0.49300000071525574, 4.796899795532227, 4.1631999015808105, 3.998500108718872, -5.029200077056885, 4.0777997970581055, -0.01489999983459711, 7.095699787139893, -3.890199899673462]), f(x)=29.9363\n"
     ]
    },
    {
     "data": {
      "application/vnd.jupyter.widget-view+json": {
       "model_id": "e8cbb072d6a44861964adee1d6190b2e",
       "version_major": 2,
       "version_minor": 0
      },
      "text/plain": [
       "Training GP:   0%|          | 0/500 [00:00<?, ?it/s]"
      ]
     },
     "metadata": {},
     "output_type": "display_data"
    },
    {
     "name": "stdout",
     "output_type": "stream",
     "text": [
      "Iteration 30, incumbent x=([-0.25780001282691956, 0.49300000071525574, 4.796899795532227, 4.1631999015808105, 3.998500108718872, -5.029200077056885, 4.0777997970581055, -0.01489999983459711, 7.095699787139893, -3.890199899673462]), f(x)=29.9363\n"
     ]
    },
    {
     "data": {
      "application/vnd.jupyter.widget-view+json": {
       "model_id": "cf5fc0cc3c794fa59b2b7722b47d3a04",
       "version_major": 2,
       "version_minor": 0
      },
      "text/plain": [
       "Training GP:   0%|          | 0/500 [00:00<?, ?it/s]"
      ]
     },
     "metadata": {},
     "output_type": "display_data"
    },
    {
     "name": "stdout",
     "output_type": "stream",
     "text": [
      "Iteration 31, incumbent x=([-0.25780001282691956, 0.49300000071525574, 4.796899795532227, 4.1631999015808105, 3.998500108718872, -5.029200077056885, 4.0777997970581055, -0.01489999983459711, 7.095699787139893, -3.890199899673462]), f(x)=29.9363\n"
     ]
    },
    {
     "data": {
      "application/vnd.jupyter.widget-view+json": {
       "model_id": "bd9d6174c5b040cdba08132953460213",
       "version_major": 2,
       "version_minor": 0
      },
      "text/plain": [
       "Training GP:   0%|          | 0/500 [00:00<?, ?it/s]"
      ]
     },
     "metadata": {},
     "output_type": "display_data"
    },
    {
     "name": "stdout",
     "output_type": "stream",
     "text": [
      "Iteration 32, incumbent x=([-0.25780001282691956, 0.49300000071525574, 4.796899795532227, 4.1631999015808105, 3.998500108718872, -5.029200077056885, 4.0777997970581055, -0.01489999983459711, 7.095699787139893, -3.890199899673462]), f(x)=29.9363\n"
     ]
    },
    {
     "data": {
      "application/vnd.jupyter.widget-view+json": {
       "model_id": "c22c88a6fc1d47b7bb5476d26fc5f025",
       "version_major": 2,
       "version_minor": 0
      },
      "text/plain": [
       "Training GP:   0%|          | 0/500 [00:00<?, ?it/s]"
      ]
     },
     "metadata": {},
     "output_type": "display_data"
    },
    {
     "name": "stdout",
     "output_type": "stream",
     "text": [
      "Iteration 33, incumbent x=([-0.25780001282691956, 0.49300000071525574, 4.796899795532227, 4.1631999015808105, 3.998500108718872, -5.029200077056885, 4.0777997970581055, -0.01489999983459711, 7.095699787139893, -3.890199899673462]), f(x)=29.9363\n"
     ]
    },
    {
     "data": {
      "application/vnd.jupyter.widget-view+json": {
       "model_id": "c672a03d85044bd8bcca7e2d82939e69",
       "version_major": 2,
       "version_minor": 0
      },
      "text/plain": [
       "Training GP:   0%|          | 0/500 [00:00<?, ?it/s]"
      ]
     },
     "metadata": {},
     "output_type": "display_data"
    },
    {
     "name": "stdout",
     "output_type": "stream",
     "text": [
      "Iteration 34, incumbent x=([-0.25780001282691956, 0.49300000071525574, 4.796899795532227, 4.1631999015808105, 3.998500108718872, -5.029200077056885, 4.0777997970581055, -0.01489999983459711, 7.095699787139893, -3.890199899673462]), f(x)=29.9363\n"
     ]
    },
    {
     "data": {
      "application/vnd.jupyter.widget-view+json": {
       "model_id": "bc057181c66240b99e2c23f130013ec7",
       "version_major": 2,
       "version_minor": 0
      },
      "text/plain": [
       "Training GP:   0%|          | 0/500 [00:00<?, ?it/s]"
      ]
     },
     "metadata": {},
     "output_type": "display_data"
    },
    {
     "name": "stdout",
     "output_type": "stream",
     "text": [
      "Iteration 35, incumbent x=([-0.25780001282691956, 0.49300000071525574, 4.796899795532227, 4.1631999015808105, 3.998500108718872, -5.029200077056885, 4.0777997970581055, -0.01489999983459711, 7.095699787139893, -3.890199899673462]), f(x)=29.9363\n"
     ]
    },
    {
     "data": {
      "application/vnd.jupyter.widget-view+json": {
       "model_id": "cf49b05131e74d11afc8bbdb7bb718d0",
       "version_major": 2,
       "version_minor": 0
      },
      "text/plain": [
       "Training GP:   0%|          | 0/500 [00:00<?, ?it/s]"
      ]
     },
     "metadata": {},
     "output_type": "display_data"
    },
    {
     "name": "stdout",
     "output_type": "stream",
     "text": [
      "Iteration 36, incumbent x=([-0.25780001282691956, 0.49300000071525574, 4.796899795532227, 4.1631999015808105, 3.998500108718872, -5.029200077056885, 4.0777997970581055, -0.01489999983459711, 7.095699787139893, -3.890199899673462]), f(x)=29.9363\n"
     ]
    },
    {
     "data": {
      "application/vnd.jupyter.widget-view+json": {
       "model_id": "a561d07f599b472888312ba4ef06e2bb",
       "version_major": 2,
       "version_minor": 0
      },
      "text/plain": [
       "Training GP:   0%|          | 0/500 [00:00<?, ?it/s]"
      ]
     },
     "metadata": {},
     "output_type": "display_data"
    },
    {
     "name": "stdout",
     "output_type": "stream",
     "text": [
      "Iteration 37, incumbent x=([-0.25780001282691956, 0.49300000071525574, 4.796899795532227, 4.1631999015808105, 3.998500108718872, -5.029200077056885, 4.0777997970581055, -0.01489999983459711, 7.095699787139893, -3.890199899673462]), f(x)=29.9363\n"
     ]
    },
    {
     "data": {
      "application/vnd.jupyter.widget-view+json": {
       "model_id": "4f4824497da84ceca2cfbdbc4c622af9",
       "version_major": 2,
       "version_minor": 0
      },
      "text/plain": [
       "Training GP:   0%|          | 0/500 [00:00<?, ?it/s]"
      ]
     },
     "metadata": {},
     "output_type": "display_data"
    },
    {
     "name": "stdout",
     "output_type": "stream",
     "text": [
      "Iteration 38, incumbent x=([-0.25780001282691956, 0.49300000071525574, 4.796899795532227, 4.1631999015808105, 3.998500108718872, -5.029200077056885, 4.0777997970581055, -0.01489999983459711, 7.095699787139893, -3.890199899673462]), f(x)=29.9363\n"
     ]
    },
    {
     "data": {
      "application/vnd.jupyter.widget-view+json": {
       "model_id": "741b8fb1c9ba47889d3dca27ad54ab55",
       "version_major": 2,
       "version_minor": 0
      },
      "text/plain": [
       "Training GP:   0%|          | 0/500 [00:00<?, ?it/s]"
      ]
     },
     "metadata": {},
     "output_type": "display_data"
    },
    {
     "name": "stdout",
     "output_type": "stream",
     "text": [
      "Iteration 39, incumbent x=([-0.25780001282691956, 0.49300000071525574, 4.796899795532227, 4.1631999015808105, 3.998500108718872, -5.029200077056885, 4.0777997970581055, -0.01489999983459711, 7.095699787139893, -3.890199899673462]), f(x)=29.9363\n"
     ]
    },
    {
     "data": {
      "application/vnd.jupyter.widget-view+json": {
       "model_id": "790aef79f3dc4fc39f63dcbd585be2ad",
       "version_major": 2,
       "version_minor": 0
      },
      "text/plain": [
       "Training GP:   0%|          | 0/500 [00:00<?, ?it/s]"
      ]
     },
     "metadata": {},
     "output_type": "display_data"
    },
    {
     "name": "stdout",
     "output_type": "stream",
     "text": [
      "Iteration 40, incumbent x=([-0.25780001282691956, 0.49300000071525574, 4.796899795532227, 4.1631999015808105, 3.998500108718872, -5.029200077056885, 4.0777997970581055, -0.01489999983459711, 7.095699787139893, -3.890199899673462]), f(x)=29.9363\n"
     ]
    },
    {
     "data": {
      "application/vnd.jupyter.widget-view+json": {
       "model_id": "9ccd36849cca4d91af2633ca9ba537f1",
       "version_major": 2,
       "version_minor": 0
      },
      "text/plain": [
       "Training GP:   0%|          | 0/500 [00:00<?, ?it/s]"
      ]
     },
     "metadata": {},
     "output_type": "display_data"
    },
    {
     "name": "stdout",
     "output_type": "stream",
     "text": [
      "Iteration 41, incumbent x=([-0.25780001282691956, 0.49300000071525574, 4.796899795532227, 4.1631999015808105, 3.998500108718872, -5.029200077056885, 4.0777997970581055, -0.01489999983459711, 7.095699787139893, -3.890199899673462]), f(x)=29.9363\n"
     ]
    },
    {
     "data": {
      "application/vnd.jupyter.widget-view+json": {
       "model_id": "14aa4b47bfc1476ca211df9ab627c08d",
       "version_major": 2,
       "version_minor": 0
      },
      "text/plain": [
       "Training GP:   0%|          | 0/500 [00:00<?, ?it/s]"
      ]
     },
     "metadata": {},
     "output_type": "display_data"
    },
    {
     "name": "stdout",
     "output_type": "stream",
     "text": [
      "Iteration 42, incumbent x=([-0.25780001282691956, 0.49300000071525574, 4.796899795532227, 4.1631999015808105, 3.998500108718872, -5.029200077056885, 4.0777997970581055, -0.01489999983459711, 7.095699787139893, -3.890199899673462]), f(x)=29.9363\n"
     ]
    },
    {
     "data": {
      "application/vnd.jupyter.widget-view+json": {
       "model_id": "da8ea9551ee0492abe84882d82cb1fae",
       "version_major": 2,
       "version_minor": 0
      },
      "text/plain": [
       "Training GP:   0%|          | 0/500 [00:00<?, ?it/s]"
      ]
     },
     "metadata": {},
     "output_type": "display_data"
    },
    {
     "name": "stdout",
     "output_type": "stream",
     "text": [
      "Iteration 43, incumbent x=([-0.25780001282691956, 0.49300000071525574, 4.796899795532227, 4.1631999015808105, 3.998500108718872, -5.029200077056885, 4.0777997970581055, -0.01489999983459711, 7.095699787139893, -3.890199899673462]), f(x)=29.9363\n"
     ]
    },
    {
     "data": {
      "application/vnd.jupyter.widget-view+json": {
       "model_id": "f2dd5718a47743fdb13810f96a8f41fe",
       "version_major": 2,
       "version_minor": 0
      },
      "text/plain": [
       "Training GP:   0%|          | 0/500 [00:00<?, ?it/s]"
      ]
     },
     "metadata": {},
     "output_type": "display_data"
    },
    {
     "name": "stdout",
     "output_type": "stream",
     "text": [
      "Iteration 44, incumbent x=([-0.25780001282691956, 0.49300000071525574, 4.796899795532227, 4.1631999015808105, 3.998500108718872, -5.029200077056885, 4.0777997970581055, -0.01489999983459711, 7.095699787139893, -3.890199899673462]), f(x)=29.9363\n"
     ]
    },
    {
     "data": {
      "application/vnd.jupyter.widget-view+json": {
       "model_id": "63c522f4e6384949b08868f1902907fc",
       "version_major": 2,
       "version_minor": 0
      },
      "text/plain": [
       "Training GP:   0%|          | 0/500 [00:00<?, ?it/s]"
      ]
     },
     "metadata": {},
     "output_type": "display_data"
    },
    {
     "name": "stdout",
     "output_type": "stream",
     "text": [
      "Iteration 45, incumbent x=([-0.25780001282691956, 0.49300000071525574, 4.796899795532227, 4.1631999015808105, 3.998500108718872, -5.029200077056885, 4.0777997970581055, -0.01489999983459711, 7.095699787139893, -3.890199899673462]), f(x)=29.9363\n"
     ]
    },
    {
     "data": {
      "application/vnd.jupyter.widget-view+json": {
       "model_id": "a626ee32a7234ffc9392707e797982f6",
       "version_major": 2,
       "version_minor": 0
      },
      "text/plain": [
       "Training GP:   0%|          | 0/500 [00:00<?, ?it/s]"
      ]
     },
     "metadata": {},
     "output_type": "display_data"
    },
    {
     "name": "stdout",
     "output_type": "stream",
     "text": [
      "Iteration 46, incumbent x=([-0.25780001282691956, 0.49300000071525574, 4.796899795532227, 4.1631999015808105, 3.998500108718872, -5.029200077056885, 4.0777997970581055, -0.01489999983459711, 7.095699787139893, -3.890199899673462]), f(x)=29.9363\n"
     ]
    },
    {
     "data": {
      "application/vnd.jupyter.widget-view+json": {
       "model_id": "095cd118382745cebd56c4a3ba15a68d",
       "version_major": 2,
       "version_minor": 0
      },
      "text/plain": [
       "Training GP:   0%|          | 0/500 [00:00<?, ?it/s]"
      ]
     },
     "metadata": {},
     "output_type": "display_data"
    },
    {
     "name": "stdout",
     "output_type": "stream",
     "text": [
      "Iteration 47, incumbent x=([-0.25780001282691956, 0.49300000071525574, 4.796899795532227, 4.1631999015808105, 3.998500108718872, -5.029200077056885, 4.0777997970581055, -0.01489999983459711, 7.095699787139893, -3.890199899673462]), f(x)=29.9363\n"
     ]
    },
    {
     "data": {
      "application/vnd.jupyter.widget-view+json": {
       "model_id": "206770d6454a4935a161bec00da3591d",
       "version_major": 2,
       "version_minor": 0
      },
      "text/plain": [
       "Training GP:   0%|          | 0/500 [00:00<?, ?it/s]"
      ]
     },
     "metadata": {},
     "output_type": "display_data"
    },
    {
     "name": "stdout",
     "output_type": "stream",
     "text": [
      "Iteration 48, incumbent x=([-0.25780001282691956, 0.49300000071525574, 4.796899795532227, 4.1631999015808105, 3.998500108718872, -5.029200077056885, 4.0777997970581055, -0.01489999983459711, 7.095699787139893, -3.890199899673462]), f(x)=29.9363\n"
     ]
    },
    {
     "data": {
      "application/vnd.jupyter.widget-view+json": {
       "model_id": "125eaa792ea141e4a6afceae07148821",
       "version_major": 2,
       "version_minor": 0
      },
      "text/plain": [
       "Training GP:   0%|          | 0/500 [00:00<?, ?it/s]"
      ]
     },
     "metadata": {},
     "output_type": "display_data"
    },
    {
     "name": "stdout",
     "output_type": "stream",
     "text": [
      "Iteration 49, incumbent x=([-0.25780001282691956, 0.49300000071525574, 4.796899795532227, 4.1631999015808105, 3.998500108718872, -5.029200077056885, 4.0777997970581055, -0.01489999983459711, 7.095699787139893, -3.890199899673462]), f(x)=29.9363\n"
     ]
    },
    {
     "data": {
      "application/vnd.jupyter.widget-view+json": {
       "model_id": "cda912f7c1124e37b4d8f52a2df7919a",
       "version_major": 2,
       "version_minor": 0
      },
      "text/plain": [
       "Training GP:   0%|          | 0/500 [00:00<?, ?it/s]"
      ]
     },
     "metadata": {},
     "output_type": "display_data"
    },
    {
     "name": "stdout",
     "output_type": "stream",
     "text": [
      "Iteration 50, incumbent x=([-0.25780001282691956, 0.49300000071525574, 4.796899795532227, 4.1631999015808105, 3.998500108718872, -5.029200077056885, 4.0777997970581055, -0.01489999983459711, 7.095699787139893, -3.890199899673462]), f(x)=29.9363\n"
     ]
    },
    {
     "data": {
      "application/vnd.jupyter.widget-view+json": {
       "model_id": "6974f26990be43a4a15cfeffedd9718c",
       "version_major": 2,
       "version_minor": 0
      },
      "text/plain": [
       "Training GP:   0%|          | 0/500 [00:00<?, ?it/s]"
      ]
     },
     "metadata": {},
     "output_type": "display_data"
    },
    {
     "name": "stdout",
     "output_type": "stream",
     "text": [
      "Iteration 51, incumbent x=([-0.25780001282691956, 0.49300000071525574, 4.796899795532227, 4.1631999015808105, 3.998500108718872, -5.029200077056885, 4.0777997970581055, -0.01489999983459711, 7.095699787139893, -3.890199899673462]), f(x)=29.9363\n"
     ]
    },
    {
     "data": {
      "application/vnd.jupyter.widget-view+json": {
       "model_id": "f7c9df49db1e4981990609c4f8466274",
       "version_major": 2,
       "version_minor": 0
      },
      "text/plain": [
       "Training GP:   0%|          | 0/500 [00:00<?, ?it/s]"
      ]
     },
     "metadata": {},
     "output_type": "display_data"
    },
    {
     "name": "stdout",
     "output_type": "stream",
     "text": [
      "Iteration 52, incumbent x=([-0.25780001282691956, 0.49300000071525574, 4.796899795532227, 4.1631999015808105, 3.998500108718872, -5.029200077056885, 4.0777997970581055, -0.01489999983459711, 7.095699787139893, -3.890199899673462]), f(x)=29.9363\n"
     ]
    },
    {
     "data": {
      "application/vnd.jupyter.widget-view+json": {
       "model_id": "d28acfaf360c4a17ac8144fea6f0250f",
       "version_major": 2,
       "version_minor": 0
      },
      "text/plain": [
       "Training GP:   0%|          | 0/500 [00:00<?, ?it/s]"
      ]
     },
     "metadata": {},
     "output_type": "display_data"
    },
    {
     "name": "stdout",
     "output_type": "stream",
     "text": [
      "Iteration 53, incumbent x=([-0.25780001282691956, 0.49300000071525574, 4.796899795532227, 4.1631999015808105, 3.998500108718872, -5.029200077056885, 4.0777997970581055, -0.01489999983459711, 7.095699787139893, -3.890199899673462]), f(x)=29.9363\n"
     ]
    },
    {
     "data": {
      "application/vnd.jupyter.widget-view+json": {
       "model_id": "23a5e7565a0b4daab01427e0f197260e",
       "version_major": 2,
       "version_minor": 0
      },
      "text/plain": [
       "Training GP:   0%|          | 0/500 [00:00<?, ?it/s]"
      ]
     },
     "metadata": {},
     "output_type": "display_data"
    },
    {
     "name": "stdout",
     "output_type": "stream",
     "text": [
      "Iteration 54, incumbent x=([-0.25780001282691956, 0.49300000071525574, 4.796899795532227, 4.1631999015808105, 3.998500108718872, -5.029200077056885, 4.0777997970581055, -0.01489999983459711, 7.095699787139893, -3.890199899673462]), f(x)=29.9363\n"
     ]
    },
    {
     "data": {
      "application/vnd.jupyter.widget-view+json": {
       "model_id": "76e2266fb5974309adc52ff6493665f8",
       "version_major": 2,
       "version_minor": 0
      },
      "text/plain": [
       "Training GP:   0%|          | 0/500 [00:00<?, ?it/s]"
      ]
     },
     "metadata": {},
     "output_type": "display_data"
    },
    {
     "name": "stdout",
     "output_type": "stream",
     "text": [
      "Iteration 55, incumbent x=([-0.25780001282691956, 0.49300000071525574, 4.796899795532227, 4.1631999015808105, 3.998500108718872, -5.029200077056885, 4.0777997970581055, -0.01489999983459711, 7.095699787139893, -3.890199899673462]), f(x)=29.9363\n"
     ]
    },
    {
     "data": {
      "application/vnd.jupyter.widget-view+json": {
       "model_id": "d6a067e1759a406faf0cfc9b1f30ee72",
       "version_major": 2,
       "version_minor": 0
      },
      "text/plain": [
       "Training GP:   0%|          | 0/500 [00:00<?, ?it/s]"
      ]
     },
     "metadata": {},
     "output_type": "display_data"
    },
    {
     "name": "stdout",
     "output_type": "stream",
     "text": [
      "Iteration 56, incumbent x=([-0.25780001282691956, 0.49300000071525574, 4.796899795532227, 4.1631999015808105, 3.998500108718872, -5.029200077056885, 4.0777997970581055, -0.01489999983459711, 7.095699787139893, -3.890199899673462]), f(x)=29.9363\n"
     ]
    },
    {
     "data": {
      "application/vnd.jupyter.widget-view+json": {
       "model_id": "1ba7ec12600c4f6e9269e8c165cc4f2a",
       "version_major": 2,
       "version_minor": 0
      },
      "text/plain": [
       "Training GP:   0%|          | 0/500 [00:00<?, ?it/s]"
      ]
     },
     "metadata": {},
     "output_type": "display_data"
    },
    {
     "name": "stdout",
     "output_type": "stream",
     "text": [
      "Iteration 57, incumbent x=([-0.25780001282691956, 0.49300000071525574, 4.796899795532227, 4.1631999015808105, 3.998500108718872, -5.029200077056885, 4.0777997970581055, -0.01489999983459711, 7.095699787139893, -3.890199899673462]), f(x)=29.9363\n"
     ]
    },
    {
     "data": {
      "application/vnd.jupyter.widget-view+json": {
       "model_id": "abcf82fc1f4c4af18896297170b443c7",
       "version_major": 2,
       "version_minor": 0
      },
      "text/plain": [
       "Training GP:   0%|          | 0/500 [00:00<?, ?it/s]"
      ]
     },
     "metadata": {},
     "output_type": "display_data"
    },
    {
     "name": "stdout",
     "output_type": "stream",
     "text": [
      "Iteration 58, incumbent x=([-0.25780001282691956, 0.49300000071525574, 4.796899795532227, 4.1631999015808105, 3.998500108718872, -5.029200077056885, 4.0777997970581055, -0.01489999983459711, 7.095699787139893, -3.890199899673462]), f(x)=29.9363\n"
     ]
    },
    {
     "data": {
      "application/vnd.jupyter.widget-view+json": {
       "model_id": "cb069619fd57493da1ee745e66fedf60",
       "version_major": 2,
       "version_minor": 0
      },
      "text/plain": [
       "Training GP:   0%|          | 0/500 [00:00<?, ?it/s]"
      ]
     },
     "metadata": {},
     "output_type": "display_data"
    },
    {
     "name": "stdout",
     "output_type": "stream",
     "text": [
      "Iteration 59, incumbent x=([-0.25780001282691956, 0.49300000071525574, 4.796899795532227, 4.1631999015808105, 3.998500108718872, -5.029200077056885, 4.0777997970581055, -0.01489999983459711, 7.095699787139893, -3.890199899673462]), f(x)=29.9363\n"
     ]
    },
    {
     "data": {
      "application/vnd.jupyter.widget-view+json": {
       "model_id": "ba31a3ef25fc454e87c22ad314c8122c",
       "version_major": 2,
       "version_minor": 0
      },
      "text/plain": [
       "Training GP:   0%|          | 0/500 [00:00<?, ?it/s]"
      ]
     },
     "metadata": {},
     "output_type": "display_data"
    },
    {
     "name": "stdout",
     "output_type": "stream",
     "text": [
      "Iteration 60, incumbent x=([-0.25780001282691956, 0.49300000071525574, 4.796899795532227, 4.1631999015808105, 3.998500108718872, -5.029200077056885, 4.0777997970581055, -0.01489999983459711, 7.095699787139893, -3.890199899673462]), f(x)=29.9363\n"
     ]
    },
    {
     "data": {
      "application/vnd.jupyter.widget-view+json": {
       "model_id": "8175cea89c524d07b0e18edca7a243c1",
       "version_major": 2,
       "version_minor": 0
      },
      "text/plain": [
       "Training GP:   0%|          | 0/500 [00:00<?, ?it/s]"
      ]
     },
     "metadata": {},
     "output_type": "display_data"
    },
    {
     "name": "stdout",
     "output_type": "stream",
     "text": [
      "Iteration 61, incumbent x=([-0.25780001282691956, 0.49300000071525574, 4.796899795532227, 4.1631999015808105, 3.998500108718872, -5.029200077056885, 4.0777997970581055, -0.01489999983459711, 7.095699787139893, -3.890199899673462]), f(x)=29.9363\n"
     ]
    },
    {
     "data": {
      "application/vnd.jupyter.widget-view+json": {
       "model_id": "04e4d1ccd689447492b2b8570d2181b8",
       "version_major": 2,
       "version_minor": 0
      },
      "text/plain": [
       "Training GP:   0%|          | 0/500 [00:00<?, ?it/s]"
      ]
     },
     "metadata": {},
     "output_type": "display_data"
    },
    {
     "name": "stdout",
     "output_type": "stream",
     "text": [
      "Iteration 62, incumbent x=([-0.25780001282691956, 0.49300000071525574, 4.796899795532227, 4.1631999015808105, 3.998500108718872, -5.029200077056885, 4.0777997970581055, -0.01489999983459711, 7.095699787139893, -3.890199899673462]), f(x)=29.9363\n"
     ]
    },
    {
     "data": {
      "application/vnd.jupyter.widget-view+json": {
       "model_id": "68227d251d564a37aa485a85c6cfb4d3",
       "version_major": 2,
       "version_minor": 0
      },
      "text/plain": [
       "Training GP:   0%|          | 0/500 [00:00<?, ?it/s]"
      ]
     },
     "metadata": {},
     "output_type": "display_data"
    },
    {
     "name": "stdout",
     "output_type": "stream",
     "text": [
      "Iteration 63, incumbent x=([-0.25780001282691956, 0.49300000071525574, 4.796899795532227, 4.1631999015808105, 3.998500108718872, -5.029200077056885, 4.0777997970581055, -0.01489999983459711, 7.095699787139893, -3.890199899673462]), f(x)=29.9363\n"
     ]
    },
    {
     "data": {
      "application/vnd.jupyter.widget-view+json": {
       "model_id": "5006c77510ee487e9ddc6aee0a43ff32",
       "version_major": 2,
       "version_minor": 0
      },
      "text/plain": [
       "Training GP:   0%|          | 0/500 [00:00<?, ?it/s]"
      ]
     },
     "metadata": {},
     "output_type": "display_data"
    },
    {
     "name": "stdout",
     "output_type": "stream",
     "text": [
      "Iteration 64, incumbent x=([-0.25780001282691956, 0.49300000071525574, 4.796899795532227, 4.1631999015808105, 3.998500108718872, -5.029200077056885, 4.0777997970581055, -0.01489999983459711, 7.095699787139893, -3.890199899673462]), f(x)=29.9363\n"
     ]
    },
    {
     "data": {
      "application/vnd.jupyter.widget-view+json": {
       "model_id": "24aff029c42349139098e3b0bd96f52b",
       "version_major": 2,
       "version_minor": 0
      },
      "text/plain": [
       "Training GP:   0%|          | 0/500 [00:00<?, ?it/s]"
      ]
     },
     "metadata": {},
     "output_type": "display_data"
    },
    {
     "name": "stdout",
     "output_type": "stream",
     "text": [
      "Iteration 65, incumbent x=([-0.25780001282691956, 0.49300000071525574, 4.796899795532227, 4.1631999015808105, 3.998500108718872, -5.029200077056885, 4.0777997970581055, -0.01489999983459711, 7.095699787139893, -3.890199899673462]), f(x)=29.9363\n"
     ]
    },
    {
     "data": {
      "application/vnd.jupyter.widget-view+json": {
       "model_id": "3c45f5b936ef4965a76c70a2cc1c8b2a",
       "version_major": 2,
       "version_minor": 0
      },
      "text/plain": [
       "Training GP:   0%|          | 0/500 [00:00<?, ?it/s]"
      ]
     },
     "metadata": {},
     "output_type": "display_data"
    },
    {
     "name": "stdout",
     "output_type": "stream",
     "text": [
      "Iteration 66, incumbent x=([-0.25780001282691956, 0.49300000071525574, 4.796899795532227, 4.1631999015808105, 3.998500108718872, -5.029200077056885, 4.0777997970581055, -0.01489999983459711, 7.095699787139893, -3.890199899673462]), f(x)=29.9363\n"
     ]
    },
    {
     "data": {
      "application/vnd.jupyter.widget-view+json": {
       "model_id": "79124a5507414ffc846f79c271b30816",
       "version_major": 2,
       "version_minor": 0
      },
      "text/plain": [
       "Training GP:   0%|          | 0/500 [00:00<?, ?it/s]"
      ]
     },
     "metadata": {},
     "output_type": "display_data"
    },
    {
     "name": "stdout",
     "output_type": "stream",
     "text": [
      "Iteration 67, incumbent x=([-0.25780001282691956, 0.49300000071525574, 4.796899795532227, 4.1631999015808105, 3.998500108718872, -5.029200077056885, 4.0777997970581055, -0.01489999983459711, 7.095699787139893, -3.890199899673462]), f(x)=29.9363\n"
     ]
    },
    {
     "data": {
      "application/vnd.jupyter.widget-view+json": {
       "model_id": "17d230f23298487597f4bfa3360b802e",
       "version_major": 2,
       "version_minor": 0
      },
      "text/plain": [
       "Training GP:   0%|          | 0/500 [00:00<?, ?it/s]"
      ]
     },
     "metadata": {},
     "output_type": "display_data"
    },
    {
     "name": "stdout",
     "output_type": "stream",
     "text": [
      "Iteration 68, incumbent x=([-0.25780001282691956, 0.49300000071525574, 4.796899795532227, 4.1631999015808105, 3.998500108718872, -5.029200077056885, 4.0777997970581055, -0.01489999983459711, 7.095699787139893, -3.890199899673462]), f(x)=29.9363\n"
     ]
    },
    {
     "data": {
      "application/vnd.jupyter.widget-view+json": {
       "model_id": "8acea8112f504e46bbe6196f92845efd",
       "version_major": 2,
       "version_minor": 0
      },
      "text/plain": [
       "Training GP:   0%|          | 0/500 [00:00<?, ?it/s]"
      ]
     },
     "metadata": {},
     "output_type": "display_data"
    },
    {
     "name": "stdout",
     "output_type": "stream",
     "text": [
      "Iteration 69, incumbent x=([-0.25780001282691956, 0.49300000071525574, 4.796899795532227, 4.1631999015808105, 3.998500108718872, -5.029200077056885, 4.0777997970581055, -0.01489999983459711, 7.095699787139893, -3.890199899673462]), f(x)=29.9363\n"
     ]
    },
    {
     "data": {
      "application/vnd.jupyter.widget-view+json": {
       "model_id": "d2d392dd31b544ee82d98ef08305aceb",
       "version_major": 2,
       "version_minor": 0
      },
      "text/plain": [
       "Training GP:   0%|          | 0/500 [00:00<?, ?it/s]"
      ]
     },
     "metadata": {},
     "output_type": "display_data"
    },
    {
     "name": "stdout",
     "output_type": "stream",
     "text": [
      "Iteration 70, incumbent x=([-0.25780001282691956, 0.49300000071525574, 4.796899795532227, 4.1631999015808105, 3.998500108718872, -5.029200077056885, 4.0777997970581055, -0.01489999983459711, 7.095699787139893, -3.890199899673462]), f(x)=29.9363\n"
     ]
    },
    {
     "data": {
      "application/vnd.jupyter.widget-view+json": {
       "model_id": "82dc4fa93dbb4da0a39e755b4d442752",
       "version_major": 2,
       "version_minor": 0
      },
      "text/plain": [
       "Training GP:   0%|          | 0/500 [00:00<?, ?it/s]"
      ]
     },
     "metadata": {},
     "output_type": "display_data"
    },
    {
     "name": "stdout",
     "output_type": "stream",
     "text": [
      "Iteration 71, incumbent x=([-0.25780001282691956, 0.49300000071525574, 4.796899795532227, 4.1631999015808105, 3.998500108718872, -5.029200077056885, 4.0777997970581055, -0.01489999983459711, 7.095699787139893, -3.890199899673462]), f(x)=29.9363\n"
     ]
    },
    {
     "data": {
      "application/vnd.jupyter.widget-view+json": {
       "model_id": "81e4060d41c9438f9364c76e1eab14a7",
       "version_major": 2,
       "version_minor": 0
      },
      "text/plain": [
       "Training GP:   0%|          | 0/500 [00:00<?, ?it/s]"
      ]
     },
     "metadata": {},
     "output_type": "display_data"
    },
    {
     "name": "stdout",
     "output_type": "stream",
     "text": [
      "Iteration 72, incumbent x=([-0.25780001282691956, 0.49300000071525574, 4.796899795532227, 4.1631999015808105, 3.998500108718872, -5.029200077056885, 4.0777997970581055, -0.01489999983459711, 7.095699787139893, -3.890199899673462]), f(x)=29.9363\n"
     ]
    },
    {
     "data": {
      "application/vnd.jupyter.widget-view+json": {
       "model_id": "7f0b9a7bd52e4071bfaee24bf8a6631a",
       "version_major": 2,
       "version_minor": 0
      },
      "text/plain": [
       "Training GP:   0%|          | 0/500 [00:00<?, ?it/s]"
      ]
     },
     "metadata": {},
     "output_type": "display_data"
    },
    {
     "name": "stdout",
     "output_type": "stream",
     "text": [
      "Iteration 73, incumbent x=([-0.25780001282691956, 0.49300000071525574, 4.796899795532227, 4.1631999015808105, 3.998500108718872, -5.029200077056885, 4.0777997970581055, -0.01489999983459711, 7.095699787139893, -3.890199899673462]), f(x)=29.9363\n"
     ]
    },
    {
     "data": {
      "application/vnd.jupyter.widget-view+json": {
       "model_id": "1ed510e3db724b7a8f2c20eff4f8c37b",
       "version_major": 2,
       "version_minor": 0
      },
      "text/plain": [
       "Training GP:   0%|          | 0/500 [00:00<?, ?it/s]"
      ]
     },
     "metadata": {},
     "output_type": "display_data"
    },
    {
     "name": "stdout",
     "output_type": "stream",
     "text": [
      "Iteration 74, incumbent x=([-0.25780001282691956, 0.49300000071525574, 4.796899795532227, 4.1631999015808105, 3.998500108718872, -5.029200077056885, 4.0777997970581055, -0.01489999983459711, 7.095699787139893, -3.890199899673462]), f(x)=29.9363\n"
     ]
    },
    {
     "data": {
      "application/vnd.jupyter.widget-view+json": {
       "model_id": "366bb43b2ca84f38ab2ae4a72c72b9dd",
       "version_major": 2,
       "version_minor": 0
      },
      "text/plain": [
       "Training GP:   0%|          | 0/500 [00:00<?, ?it/s]"
      ]
     },
     "metadata": {},
     "output_type": "display_data"
    },
    {
     "name": "stdout",
     "output_type": "stream",
     "text": [
      "Iteration 75, incumbent x=([-0.25780001282691956, 0.49300000071525574, 4.796899795532227, 4.1631999015808105, 3.998500108718872, -5.029200077056885, 4.0777997970581055, -0.01489999983459711, 7.095699787139893, -3.890199899673462]), f(x)=29.9363\n"
     ]
    },
    {
     "data": {
      "application/vnd.jupyter.widget-view+json": {
       "model_id": "6a10d3ac123e454e95a53d803f23b733",
       "version_major": 2,
       "version_minor": 0
      },
      "text/plain": [
       "Training GP:   0%|          | 0/500 [00:00<?, ?it/s]"
      ]
     },
     "metadata": {},
     "output_type": "display_data"
    },
    {
     "name": "stdout",
     "output_type": "stream",
     "text": [
      "Iteration 76, incumbent x=([-0.25780001282691956, 0.49300000071525574, 4.796899795532227, 4.1631999015808105, 3.998500108718872, -5.029200077056885, 4.0777997970581055, -0.01489999983459711, 7.095699787139893, -3.890199899673462]), f(x)=29.9363\n"
     ]
    },
    {
     "data": {
      "application/vnd.jupyter.widget-view+json": {
       "model_id": "6be5479c5fec411c9138ded7fa7cf126",
       "version_major": 2,
       "version_minor": 0
      },
      "text/plain": [
       "Training GP:   0%|          | 0/500 [00:00<?, ?it/s]"
      ]
     },
     "metadata": {},
     "output_type": "display_data"
    },
    {
     "name": "stdout",
     "output_type": "stream",
     "text": [
      "Iteration 77, incumbent x=([-0.25780001282691956, 0.49300000071525574, 4.796899795532227, 4.1631999015808105, 3.998500108718872, -5.029200077056885, 4.0777997970581055, -0.01489999983459711, 7.095699787139893, -3.890199899673462]), f(x)=29.9363\n"
     ]
    },
    {
     "data": {
      "application/vnd.jupyter.widget-view+json": {
       "model_id": "f2f6b8ed1e6849b8a9bc69322171ae82",
       "version_major": 2,
       "version_minor": 0
      },
      "text/plain": [
       "Training GP:   0%|          | 0/500 [00:00<?, ?it/s]"
      ]
     },
     "metadata": {},
     "output_type": "display_data"
    },
    {
     "name": "stdout",
     "output_type": "stream",
     "text": [
      "Iteration 78, incumbent x=([-0.25780001282691956, 0.49300000071525574, 4.796899795532227, 4.1631999015808105, 3.998500108718872, -5.029200077056885, 4.0777997970581055, -0.01489999983459711, 7.095699787139893, -3.890199899673462]), f(x)=29.9363\n"
     ]
    },
    {
     "data": {
      "application/vnd.jupyter.widget-view+json": {
       "model_id": "5ac4686579e44d4280cd9b4d6775a5f3",
       "version_major": 2,
       "version_minor": 0
      },
      "text/plain": [
       "Training GP:   0%|          | 0/500 [00:00<?, ?it/s]"
      ]
     },
     "metadata": {},
     "output_type": "display_data"
    },
    {
     "name": "stdout",
     "output_type": "stream",
     "text": [
      "Iteration 79, incumbent x=([-0.25780001282691956, 0.49300000071525574, 4.796899795532227, 4.1631999015808105, 3.998500108718872, -5.029200077056885, 4.0777997970581055, -0.01489999983459711, 7.095699787139893, -3.890199899673462]), f(x)=29.9363\n"
     ]
    },
    {
     "data": {
      "application/vnd.jupyter.widget-view+json": {
       "model_id": "b525492537864d68b68a856ec12c1427",
       "version_major": 2,
       "version_minor": 0
      },
      "text/plain": [
       "Training GP:   0%|          | 0/500 [00:00<?, ?it/s]"
      ]
     },
     "metadata": {},
     "output_type": "display_data"
    },
    {
     "name": "stdout",
     "output_type": "stream",
     "text": [
      "Iteration 80, incumbent x=([-0.25780001282691956, 0.49300000071525574, 4.796899795532227, 4.1631999015808105, 3.998500108718872, -5.029200077056885, 4.0777997970581055, -0.01489999983459711, 7.095699787139893, -3.890199899673462]), f(x)=29.9363\n"
     ]
    },
    {
     "data": {
      "application/vnd.jupyter.widget-view+json": {
       "model_id": "354467fd9cff45499d8c0d9ad11c3be8",
       "version_major": 2,
       "version_minor": 0
      },
      "text/plain": [
       "Training GP:   0%|          | 0/500 [00:00<?, ?it/s]"
      ]
     },
     "metadata": {},
     "output_type": "display_data"
    },
    {
     "name": "stdout",
     "output_type": "stream",
     "text": [
      "Iteration 81, incumbent x=([-0.25780001282691956, 0.49300000071525574, 4.796899795532227, 4.1631999015808105, 3.998500108718872, -5.029200077056885, 4.0777997970581055, -0.01489999983459711, 7.095699787139893, -3.890199899673462]), f(x)=29.9363\n"
     ]
    },
    {
     "data": {
      "application/vnd.jupyter.widget-view+json": {
       "model_id": "1eeebc2ff4ff4b7699bd44a3c9be224f",
       "version_major": 2,
       "version_minor": 0
      },
      "text/plain": [
       "Training GP:   0%|          | 0/500 [00:00<?, ?it/s]"
      ]
     },
     "metadata": {},
     "output_type": "display_data"
    },
    {
     "name": "stdout",
     "output_type": "stream",
     "text": [
      "Iteration 82, incumbent x=([-0.25780001282691956, 0.49300000071525574, 4.796899795532227, 4.1631999015808105, 3.998500108718872, -5.029200077056885, 4.0777997970581055, -0.01489999983459711, 7.095699787139893, -3.890199899673462]), f(x)=29.9363\n"
     ]
    },
    {
     "data": {
      "application/vnd.jupyter.widget-view+json": {
       "model_id": "f31f32b252914899a05bf18c0b23bead",
       "version_major": 2,
       "version_minor": 0
      },
      "text/plain": [
       "Training GP:   0%|          | 0/500 [00:00<?, ?it/s]"
      ]
     },
     "metadata": {},
     "output_type": "display_data"
    },
    {
     "name": "stdout",
     "output_type": "stream",
     "text": [
      "Iteration 83, incumbent x=([-0.25780001282691956, 0.49300000071525574, 4.796899795532227, 4.1631999015808105, 3.998500108718872, -5.029200077056885, 4.0777997970581055, -0.01489999983459711, 7.095699787139893, -3.890199899673462]), f(x)=29.9363\n"
     ]
    },
    {
     "data": {
      "application/vnd.jupyter.widget-view+json": {
       "model_id": "2dc62eb8145348d3b2a59d046a781190",
       "version_major": 2,
       "version_minor": 0
      },
      "text/plain": [
       "Training GP:   0%|          | 0/500 [00:00<?, ?it/s]"
      ]
     },
     "metadata": {},
     "output_type": "display_data"
    },
    {
     "name": "stdout",
     "output_type": "stream",
     "text": [
      "Iteration 84, incumbent x=([-0.25780001282691956, 0.49300000071525574, 4.796899795532227, 4.1631999015808105, 3.998500108718872, -5.029200077056885, 4.0777997970581055, -0.01489999983459711, 7.095699787139893, -3.890199899673462]), f(x)=29.9363\n"
     ]
    },
    {
     "data": {
      "application/vnd.jupyter.widget-view+json": {
       "model_id": "9cc417664ac2408d9c60d5ad84f4966f",
       "version_major": 2,
       "version_minor": 0
      },
      "text/plain": [
       "Training GP:   0%|          | 0/500 [00:00<?, ?it/s]"
      ]
     },
     "metadata": {},
     "output_type": "display_data"
    },
    {
     "name": "stdout",
     "output_type": "stream",
     "text": [
      "Iteration 85, incumbent x=([-0.25780001282691956, 0.49300000071525574, 4.796899795532227, 4.1631999015808105, 3.998500108718872, -5.029200077056885, 4.0777997970581055, -0.01489999983459711, 7.095699787139893, -3.890199899673462]), f(x)=29.9363\n"
     ]
    },
    {
     "data": {
      "application/vnd.jupyter.widget-view+json": {
       "model_id": "4fbaba0aeced4c7289c0cb17c90311bf",
       "version_major": 2,
       "version_minor": 0
      },
      "text/plain": [
       "Training GP:   0%|          | 0/500 [00:00<?, ?it/s]"
      ]
     },
     "metadata": {},
     "output_type": "display_data"
    },
    {
     "name": "stdout",
     "output_type": "stream",
     "text": [
      "Iteration 86, incumbent x=([-0.25780001282691956, 0.49300000071525574, 4.796899795532227, 4.1631999015808105, 3.998500108718872, -5.029200077056885, 4.0777997970581055, -0.01489999983459711, 7.095699787139893, -3.890199899673462]), f(x)=29.9363\n"
     ]
    },
    {
     "data": {
      "application/vnd.jupyter.widget-view+json": {
       "model_id": "7fa62a0c31084332bb5186f70f5edea5",
       "version_major": 2,
       "version_minor": 0
      },
      "text/plain": [
       "Training GP:   0%|          | 0/500 [00:00<?, ?it/s]"
      ]
     },
     "metadata": {},
     "output_type": "display_data"
    },
    {
     "name": "stdout",
     "output_type": "stream",
     "text": [
      "Iteration 87, incumbent x=([-0.25780001282691956, 0.49300000071525574, 4.796899795532227, 4.1631999015808105, 3.998500108718872, -5.029200077056885, 4.0777997970581055, -0.01489999983459711, 7.095699787139893, -3.890199899673462]), f(x)=29.9363\n"
     ]
    },
    {
     "data": {
      "application/vnd.jupyter.widget-view+json": {
       "model_id": "8e640947ef4f41e8adb0327ceb8109a7",
       "version_major": 2,
       "version_minor": 0
      },
      "text/plain": [
       "Training GP:   0%|          | 0/500 [00:00<?, ?it/s]"
      ]
     },
     "metadata": {},
     "output_type": "display_data"
    },
    {
     "name": "stdout",
     "output_type": "stream",
     "text": [
      "Iteration 88, incumbent x=([-0.25780001282691956, 0.49300000071525574, 4.796899795532227, 4.1631999015808105, 3.998500108718872, -5.029200077056885, 4.0777997970581055, -0.01489999983459711, 7.095699787139893, -3.890199899673462]), f(x)=29.9363\n"
     ]
    },
    {
     "data": {
      "application/vnd.jupyter.widget-view+json": {
       "model_id": "0a5e518084754792950bc5b89d048f96",
       "version_major": 2,
       "version_minor": 0
      },
      "text/plain": [
       "Training GP:   0%|          | 0/500 [00:00<?, ?it/s]"
      ]
     },
     "metadata": {},
     "output_type": "display_data"
    },
    {
     "name": "stdout",
     "output_type": "stream",
     "text": [
      "Iteration 89, incumbent x=([-0.25780001282691956, 0.49300000071525574, 4.796899795532227, 4.1631999015808105, 3.998500108718872, -5.029200077056885, 4.0777997970581055, -0.01489999983459711, 7.095699787139893, -3.890199899673462]), f(x)=29.9363\n"
     ]
    },
    {
     "data": {
      "application/vnd.jupyter.widget-view+json": {
       "model_id": "47edac5e4ce2464daaf621e43540d8cf",
       "version_major": 2,
       "version_minor": 0
      },
      "text/plain": [
       "Training GP:   0%|          | 0/500 [00:00<?, ?it/s]"
      ]
     },
     "metadata": {},
     "output_type": "display_data"
    },
    {
     "name": "stdout",
     "output_type": "stream",
     "text": [
      "Iteration 90, incumbent x=([-0.25780001282691956, 0.49300000071525574, 4.796899795532227, 4.1631999015808105, 3.998500108718872, -5.029200077056885, 4.0777997970581055, -0.01489999983459711, 7.095699787139893, -3.890199899673462]), f(x)=29.9363\n"
     ]
    },
    {
     "data": {
      "application/vnd.jupyter.widget-view+json": {
       "model_id": "1084f051f27140f8889d259f73cc35d1",
       "version_major": 2,
       "version_minor": 0
      },
      "text/plain": [
       "Training GP:   0%|          | 0/500 [00:00<?, ?it/s]"
      ]
     },
     "metadata": {},
     "output_type": "display_data"
    },
    {
     "name": "stdout",
     "output_type": "stream",
     "text": [
      "Iteration 91, incumbent x=([-0.25780001282691956, 0.49300000071525574, 4.796899795532227, 4.1631999015808105, 3.998500108718872, -5.029200077056885, 4.0777997970581055, -0.01489999983459711, 7.095699787139893, -3.890199899673462]), f(x)=29.9363\n"
     ]
    },
    {
     "data": {
      "application/vnd.jupyter.widget-view+json": {
       "model_id": "59cc9cf74128481e93cebf57719f15fb",
       "version_major": 2,
       "version_minor": 0
      },
      "text/plain": [
       "Training GP:   0%|          | 0/500 [00:00<?, ?it/s]"
      ]
     },
     "metadata": {},
     "output_type": "display_data"
    },
    {
     "name": "stdout",
     "output_type": "stream",
     "text": [
      "Iteration 92, incumbent x=([-0.25780001282691956, 0.49300000071525574, 4.796899795532227, 4.1631999015808105, 3.998500108718872, -5.029200077056885, 4.0777997970581055, -0.01489999983459711, 7.095699787139893, -3.890199899673462]), f(x)=29.9363\n"
     ]
    },
    {
     "data": {
      "application/vnd.jupyter.widget-view+json": {
       "model_id": "870242f02abd4a1e821d0dff59772e48",
       "version_major": 2,
       "version_minor": 0
      },
      "text/plain": [
       "Training GP:   0%|          | 0/500 [00:00<?, ?it/s]"
      ]
     },
     "metadata": {},
     "output_type": "display_data"
    },
    {
     "name": "stdout",
     "output_type": "stream",
     "text": [
      "Iteration 93, incumbent x=([-0.25780001282691956, 0.49300000071525574, 4.796899795532227, 4.1631999015808105, 3.998500108718872, -5.029200077056885, 4.0777997970581055, -0.01489999983459711, 7.095699787139893, -3.890199899673462]), f(x)=29.9363\n"
     ]
    },
    {
     "data": {
      "application/vnd.jupyter.widget-view+json": {
       "model_id": "5acb842d1af2488380ff25c65ec0f9f0",
       "version_major": 2,
       "version_minor": 0
      },
      "text/plain": [
       "Training GP:   0%|          | 0/500 [00:00<?, ?it/s]"
      ]
     },
     "metadata": {},
     "output_type": "display_data"
    },
    {
     "name": "stdout",
     "output_type": "stream",
     "text": [
      "Iteration 94, incumbent x=([-0.25780001282691956, 0.49300000071525574, 4.796899795532227, 4.1631999015808105, 3.998500108718872, -5.029200077056885, 4.0777997970581055, -0.01489999983459711, 7.095699787139893, -3.890199899673462]), f(x)=29.9363\n"
     ]
    },
    {
     "data": {
      "application/vnd.jupyter.widget-view+json": {
       "model_id": "9b338767776d434cb654a5e4fee1c0c7",
       "version_major": 2,
       "version_minor": 0
      },
      "text/plain": [
       "Training GP:   0%|          | 0/500 [00:00<?, ?it/s]"
      ]
     },
     "metadata": {},
     "output_type": "display_data"
    },
    {
     "name": "stdout",
     "output_type": "stream",
     "text": [
      "Iteration 95, incumbent x=([-0.25780001282691956, 0.49300000071525574, 4.796899795532227, 4.1631999015808105, 3.998500108718872, -5.029200077056885, 4.0777997970581055, -0.01489999983459711, 7.095699787139893, -3.890199899673462]), f(x)=29.9363\n"
     ]
    },
    {
     "data": {
      "application/vnd.jupyter.widget-view+json": {
       "model_id": "f0b3f292925343229a6bf66b34cefe4f",
       "version_major": 2,
       "version_minor": 0
      },
      "text/plain": [
       "Training GP:   0%|          | 0/500 [00:00<?, ?it/s]"
      ]
     },
     "metadata": {},
     "output_type": "display_data"
    },
    {
     "name": "stdout",
     "output_type": "stream",
     "text": [
      "Iteration 96, incumbent x=([-0.25780001282691956, 0.49300000071525574, 4.796899795532227, 4.1631999015808105, 3.998500108718872, -5.029200077056885, 4.0777997970581055, -0.01489999983459711, 7.095699787139893, -3.890199899673462]), f(x)=29.9363\n"
     ]
    },
    {
     "data": {
      "application/vnd.jupyter.widget-view+json": {
       "model_id": "8e171697ec534db490a790b6784e15d3",
       "version_major": 2,
       "version_minor": 0
      },
      "text/plain": [
       "Training GP:   0%|          | 0/500 [00:00<?, ?it/s]"
      ]
     },
     "metadata": {},
     "output_type": "display_data"
    },
    {
     "name": "stdout",
     "output_type": "stream",
     "text": [
      "Iteration 97, incumbent x=([-0.25780001282691956, 0.49300000071525574, 4.796899795532227, 4.1631999015808105, 3.998500108718872, -5.029200077056885, 4.0777997970581055, -0.01489999983459711, 7.095699787139893, -3.890199899673462]), f(x)=29.9363\n"
     ]
    },
    {
     "data": {
      "application/vnd.jupyter.widget-view+json": {
       "model_id": "d52591630dbe40eabdad9385fde7788b",
       "version_major": 2,
       "version_minor": 0
      },
      "text/plain": [
       "Training GP:   0%|          | 0/500 [00:00<?, ?it/s]"
      ]
     },
     "metadata": {},
     "output_type": "display_data"
    },
    {
     "name": "stdout",
     "output_type": "stream",
     "text": [
      "Iteration 98, incumbent x=([-0.25780001282691956, 0.49300000071525574, 4.796899795532227, 4.1631999015808105, 3.998500108718872, -5.029200077056885, 4.0777997970581055, -0.01489999983459711, 7.095699787139893, -3.890199899673462]), f(x)=29.9363\n"
     ]
    },
    {
     "data": {
      "application/vnd.jupyter.widget-view+json": {
       "model_id": "f0e56c388631487b87254c709834f6f6",
       "version_major": 2,
       "version_minor": 0
      },
      "text/plain": [
       "Training GP:   0%|          | 0/500 [00:00<?, ?it/s]"
      ]
     },
     "metadata": {},
     "output_type": "display_data"
    },
    {
     "name": "stdout",
     "output_type": "stream",
     "text": [
      "Iteration 99, incumbent x=([-0.25780001282691956, 0.49300000071525574, 4.796899795532227, 4.1631999015808105, 3.998500108718872, -5.029200077056885, 4.0777997970581055, -0.01489999983459711, 7.095699787139893, -3.890199899673462]), f(x)=29.9363\n"
     ]
    },
    {
     "data": {
      "application/vnd.jupyter.widget-view+json": {
       "model_id": "20b275a8ebc047439cc72bb89b8e4cb4",
       "version_major": 2,
       "version_minor": 0
      },
      "text/plain": [
       "Training GP:   0%|          | 0/500 [00:00<?, ?it/s]"
      ]
     },
     "metadata": {},
     "output_type": "display_data"
    },
    {
     "name": "stdout",
     "output_type": "stream",
     "text": [
      "\n",
      "Run 5/10\n",
      "Initial points (x1, ..., x10, f(x)):\n",
      "tensor([[ 1.4440e+00,  1.0775e+00,  9.7366e+00,  2.1606e+00, -5.3069e+00,\n",
      "         -1.0164e+00,  3.4867e+00,  4.9601e+00,  1.2022e+00, -6.6525e+00,\n",
      "          8.2984e+01],\n",
      "        [-3.3334e+00, -7.0496e-01,  2.6649e+00,  5.3849e+00, -5.7060e+00,\n",
      "          5.6299e+00,  7.2882e+00,  2.1035e+00, -2.7005e+00, -4.9285e+00,\n",
      "          7.7564e+01],\n",
      "        [-6.7159e+00, -4.3336e+00, -2.2836e+00,  6.6750e+00,  2.3464e+00,\n",
      "         -2.1534e+00, -6.2439e+00,  6.7493e+00, -5.7819e+00, -1.4369e+00,\n",
      "          1.4272e+02],\n",
      "        [-5.1731e-02, -9.3196e+00,  7.6740e+00, -8.1061e+00,  5.5888e+00,\n",
      "          3.9400e+00, -3.5096e+00, -5.1890e+00,  7.6483e+00, -4.0949e+00,\n",
      "          9.1082e+01],\n",
      "        [ 8.9095e+00,  3.3537e-02,  9.4227e+00,  6.9648e+00, -2.8867e+00,\n",
      "         -1.6722e+00,  4.0199e-01,  6.3602e+00,  7.5457e-01, -4.3462e+00,\n",
      "          1.1587e+02],\n",
      "        [-4.0329e-01, -1.1239e+00,  9.0998e+00,  4.3873e+00, -6.8458e+00,\n",
      "         -6.7880e+00, -5.3277e+00,  5.5979e+00,  7.8994e-01, -2.9690e+00,\n",
      "          1.4309e+02],\n",
      "        [ 2.4523e+00,  6.4359e+00,  3.4208e-01,  3.9450e+00, -1.2560e+00,\n",
      "          2.5620e+00,  7.1043e+00, -1.9124e+00, -3.0897e+00, -3.1004e+00,\n",
      "          4.2525e+01],\n",
      "        [ 2.7406e+00, -5.1295e+00,  9.2296e+00,  5.3095e+00, -8.7340e+00,\n",
      "         -3.3840e+00,  8.6066e+00, -3.5804e+00, -9.3408e+00,  6.3207e+00,\n",
      "          1.5494e+02],\n",
      "        [-7.8651e+00, -2.3175e+00, -2.7587e+00, -5.3016e+00,  9.2719e+00,\n",
      "          5.4272e+00, -4.3752e+00, -5.5168e-01, -3.4437e+00, -2.4783e+00,\n",
      "          1.0537e+02],\n",
      "        [ 3.8992e+00, -1.2020e+00,  3.2985e+00, -1.5541e+00, -7.8122e+00,\n",
      "          9.8817e+00,  9.6693e+00, -4.9560e+00, -3.0895e+00, -5.8045e+00,\n",
      "          1.4417e+02]])\n"
     ]
    },
    {
     "data": {
      "application/vnd.jupyter.widget-view+json": {
       "model_id": "73783e4fab4a4d5abc4d30d8dfd8880a",
       "version_major": 2,
       "version_minor": 0
      },
      "text/plain": [
       "Training GP:   0%|          | 0/500 [00:00<?, ?it/s]"
      ]
     },
     "metadata": {},
     "output_type": "display_data"
    },
    {
     "name": "stdout",
     "output_type": "stream",
     "text": [
      "Iteration 0, incumbent x=([2.4523000717163086, 6.4359002113342285, 0.34209999442100525, 3.944999933242798, -1.25600004196167, 2.562000036239624, 7.104300022125244, -1.9124000072479248, -3.0896999835968018, -3.100399971008301]), f(x)=42.5255\n"
     ]
    },
    {
     "data": {
      "application/vnd.jupyter.widget-view+json": {
       "model_id": "69342aea5cdd4fffb5712e5c475b4f00",
       "version_major": 2,
       "version_minor": 0
      },
      "text/plain": [
       "Training GP:   0%|          | 0/500 [00:00<?, ?it/s]"
      ]
     },
     "metadata": {},
     "output_type": "display_data"
    },
    {
     "name": "stdout",
     "output_type": "stream",
     "text": [
      "Iteration 1, incumbent x=([2.4523000717163086, 6.4359002113342285, 0.34209999442100525, 3.944999933242798, -1.25600004196167, 2.562000036239624, 7.104300022125244, -1.9124000072479248, -3.0896999835968018, -3.100399971008301]), f(x)=42.5255\n"
     ]
    },
    {
     "data": {
      "application/vnd.jupyter.widget-view+json": {
       "model_id": "cae5da9146f942bd98645b3c02feffeb",
       "version_major": 2,
       "version_minor": 0
      },
      "text/plain": [
       "Training GP:   0%|          | 0/500 [00:00<?, ?it/s]"
      ]
     },
     "metadata": {},
     "output_type": "display_data"
    },
    {
     "name": "stdout",
     "output_type": "stream",
     "text": [
      "Iteration 2, incumbent x=([2.4523000717163086, 6.4359002113342285, 0.34209999442100525, 3.944999933242798, -1.25600004196167, 2.562000036239624, 7.104300022125244, -1.9124000072479248, -3.0896999835968018, -3.100399971008301]), f(x)=42.5255\n"
     ]
    },
    {
     "data": {
      "application/vnd.jupyter.widget-view+json": {
       "model_id": "42dd8201a4c5485ab1fdb1cad42e2aa9",
       "version_major": 2,
       "version_minor": 0
      },
      "text/plain": [
       "Training GP:   0%|          | 0/500 [00:00<?, ?it/s]"
      ]
     },
     "metadata": {},
     "output_type": "display_data"
    },
    {
     "name": "stdout",
     "output_type": "stream",
     "text": [
      "Iteration 3, incumbent x=([2.4523000717163086, 6.4359002113342285, 0.34209999442100525, 3.944999933242798, -1.25600004196167, 2.562000036239624, 7.104300022125244, -1.9124000072479248, -3.0896999835968018, -3.100399971008301]), f(x)=42.5255\n"
     ]
    },
    {
     "data": {
      "application/vnd.jupyter.widget-view+json": {
       "model_id": "931d7b823dd8405f803215b2e7c19d9c",
       "version_major": 2,
       "version_minor": 0
      },
      "text/plain": [
       "Training GP:   0%|          | 0/500 [00:00<?, ?it/s]"
      ]
     },
     "metadata": {},
     "output_type": "display_data"
    },
    {
     "name": "stdout",
     "output_type": "stream",
     "text": [
      "Iteration 4, incumbent x=([2.4523000717163086, 6.4359002113342285, 0.34209999442100525, 3.944999933242798, -1.25600004196167, 2.562000036239624, 7.104300022125244, -1.9124000072479248, -3.0896999835968018, -3.100399971008301]), f(x)=42.5255\n"
     ]
    },
    {
     "data": {
      "application/vnd.jupyter.widget-view+json": {
       "model_id": "1c8fc6115e6b48efb7943ab8ba1826c8",
       "version_major": 2,
       "version_minor": 0
      },
      "text/plain": [
       "Training GP:   0%|          | 0/500 [00:00<?, ?it/s]"
      ]
     },
     "metadata": {},
     "output_type": "display_data"
    },
    {
     "name": "stdout",
     "output_type": "stream",
     "text": [
      "Iteration 5, incumbent x=([2.4523000717163086, 6.4359002113342285, 0.34209999442100525, 3.944999933242798, -1.25600004196167, 2.562000036239624, 7.104300022125244, -1.9124000072479248, -3.0896999835968018, -3.100399971008301]), f(x)=42.5255\n"
     ]
    },
    {
     "data": {
      "application/vnd.jupyter.widget-view+json": {
       "model_id": "363a31417d3d460ab9939097ac82d815",
       "version_major": 2,
       "version_minor": 0
      },
      "text/plain": [
       "Training GP:   0%|          | 0/500 [00:00<?, ?it/s]"
      ]
     },
     "metadata": {},
     "output_type": "display_data"
    },
    {
     "name": "stdout",
     "output_type": "stream",
     "text": [
      "Iteration 6, incumbent x=([2.4523000717163086, 6.4359002113342285, 0.34209999442100525, 3.944999933242798, -1.25600004196167, 2.562000036239624, 7.104300022125244, -1.9124000072479248, -3.0896999835968018, -3.100399971008301]), f(x)=42.5255\n"
     ]
    },
    {
     "data": {
      "application/vnd.jupyter.widget-view+json": {
       "model_id": "71c2f3eec1964208ac7c6d4d644f25f3",
       "version_major": 2,
       "version_minor": 0
      },
      "text/plain": [
       "Training GP:   0%|          | 0/500 [00:00<?, ?it/s]"
      ]
     },
     "metadata": {},
     "output_type": "display_data"
    },
    {
     "name": "stdout",
     "output_type": "stream",
     "text": [
      "Iteration 7, incumbent x=([2.4523000717163086, 6.4359002113342285, 0.34209999442100525, 3.944999933242798, -1.25600004196167, 2.562000036239624, 7.104300022125244, -1.9124000072479248, -3.0896999835968018, -3.100399971008301]), f(x)=42.5255\n"
     ]
    },
    {
     "data": {
      "application/vnd.jupyter.widget-view+json": {
       "model_id": "ce5ccf83ba854e9da7bbbb00723869e1",
       "version_major": 2,
       "version_minor": 0
      },
      "text/plain": [
       "Training GP:   0%|          | 0/500 [00:00<?, ?it/s]"
      ]
     },
     "metadata": {},
     "output_type": "display_data"
    },
    {
     "name": "stdout",
     "output_type": "stream",
     "text": [
      "Iteration 8, incumbent x=([2.4523000717163086, 6.4359002113342285, 0.34209999442100525, 3.944999933242798, -1.25600004196167, 2.562000036239624, 7.104300022125244, -1.9124000072479248, -3.0896999835968018, -3.100399971008301]), f(x)=42.5255\n"
     ]
    },
    {
     "data": {
      "application/vnd.jupyter.widget-view+json": {
       "model_id": "4bc49cd65750494192ce57c9a77a6feb",
       "version_major": 2,
       "version_minor": 0
      },
      "text/plain": [
       "Training GP:   0%|          | 0/500 [00:00<?, ?it/s]"
      ]
     },
     "metadata": {},
     "output_type": "display_data"
    },
    {
     "name": "stdout",
     "output_type": "stream",
     "text": [
      "Iteration 9, incumbent x=([2.4523000717163086, 6.4359002113342285, 0.34209999442100525, 3.944999933242798, -1.25600004196167, 2.562000036239624, 7.104300022125244, -1.9124000072479248, -3.0896999835968018, -3.100399971008301]), f(x)=42.5255\n"
     ]
    },
    {
     "data": {
      "application/vnd.jupyter.widget-view+json": {
       "model_id": "78cd122527804133abba675e22152d41",
       "version_major": 2,
       "version_minor": 0
      },
      "text/plain": [
       "Training GP:   0%|          | 0/500 [00:00<?, ?it/s]"
      ]
     },
     "metadata": {},
     "output_type": "display_data"
    },
    {
     "name": "stdout",
     "output_type": "stream",
     "text": [
      "Iteration 10, incumbent x=([2.4523000717163086, 6.4359002113342285, 0.34209999442100525, 3.944999933242798, -1.25600004196167, 2.562000036239624, 7.104300022125244, -1.9124000072479248, -3.0896999835968018, -3.100399971008301]), f(x)=42.5255\n"
     ]
    },
    {
     "data": {
      "application/vnd.jupyter.widget-view+json": {
       "model_id": "9105406a4e29427799c87459db82de83",
       "version_major": 2,
       "version_minor": 0
      },
      "text/plain": [
       "Training GP:   0%|          | 0/500 [00:00<?, ?it/s]"
      ]
     },
     "metadata": {},
     "output_type": "display_data"
    },
    {
     "name": "stdout",
     "output_type": "stream",
     "text": [
      "Iteration 11, incumbent x=([2.4523000717163086, 6.4359002113342285, 0.34209999442100525, 3.944999933242798, -1.25600004196167, 2.562000036239624, 7.104300022125244, -1.9124000072479248, -3.0896999835968018, -3.100399971008301]), f(x)=42.5255\n"
     ]
    },
    {
     "data": {
      "application/vnd.jupyter.widget-view+json": {
       "model_id": "fd43c1244aa849f39a5cbb69245ae6e4",
       "version_major": 2,
       "version_minor": 0
      },
      "text/plain": [
       "Training GP:   0%|          | 0/500 [00:00<?, ?it/s]"
      ]
     },
     "metadata": {},
     "output_type": "display_data"
    },
    {
     "name": "stdout",
     "output_type": "stream",
     "text": [
      "Iteration 12, incumbent x=([2.4523000717163086, 6.4359002113342285, 0.34209999442100525, 3.944999933242798, -1.25600004196167, 2.562000036239624, 7.104300022125244, -1.9124000072479248, -3.0896999835968018, -3.100399971008301]), f(x)=42.5255\n"
     ]
    },
    {
     "data": {
      "application/vnd.jupyter.widget-view+json": {
       "model_id": "859c3e1079cd47b4b3bb40cdaecfd0fd",
       "version_major": 2,
       "version_minor": 0
      },
      "text/plain": [
       "Training GP:   0%|          | 0/500 [00:00<?, ?it/s]"
      ]
     },
     "metadata": {},
     "output_type": "display_data"
    },
    {
     "name": "stdout",
     "output_type": "stream",
     "text": [
      "Iteration 13, incumbent x=([2.4523000717163086, 6.4359002113342285, 0.34209999442100525, 3.944999933242798, -1.25600004196167, 2.562000036239624, 7.104300022125244, -1.9124000072479248, -3.0896999835968018, -3.100399971008301]), f(x)=42.5255\n"
     ]
    },
    {
     "data": {
      "application/vnd.jupyter.widget-view+json": {
       "model_id": "4744eb32bcfe4af3bceb639b64655506",
       "version_major": 2,
       "version_minor": 0
      },
      "text/plain": [
       "Training GP:   0%|          | 0/500 [00:00<?, ?it/s]"
      ]
     },
     "metadata": {},
     "output_type": "display_data"
    },
    {
     "name": "stdout",
     "output_type": "stream",
     "text": [
      "Iteration 14, incumbent x=([2.4523000717163086, 6.4359002113342285, 0.34209999442100525, 3.944999933242798, -1.25600004196167, 2.562000036239624, 7.104300022125244, -1.9124000072479248, -3.0896999835968018, -3.100399971008301]), f(x)=42.5255\n"
     ]
    },
    {
     "data": {
      "application/vnd.jupyter.widget-view+json": {
       "model_id": "2e2f7ae8f5e8484cbe2a5f8d7f6d05b6",
       "version_major": 2,
       "version_minor": 0
      },
      "text/plain": [
       "Training GP:   0%|          | 0/500 [00:00<?, ?it/s]"
      ]
     },
     "metadata": {},
     "output_type": "display_data"
    },
    {
     "name": "stdout",
     "output_type": "stream",
     "text": [
      "Iteration 15, incumbent x=([2.4523000717163086, 6.4359002113342285, 0.34209999442100525, 3.944999933242798, -1.25600004196167, 2.562000036239624, 7.104300022125244, -1.9124000072479248, -3.0896999835968018, -3.100399971008301]), f(x)=42.5255\n"
     ]
    },
    {
     "data": {
      "application/vnd.jupyter.widget-view+json": {
       "model_id": "dfd1a79a78ee42b1aa2938e9315cef05",
       "version_major": 2,
       "version_minor": 0
      },
      "text/plain": [
       "Training GP:   0%|          | 0/500 [00:00<?, ?it/s]"
      ]
     },
     "metadata": {},
     "output_type": "display_data"
    },
    {
     "name": "stdout",
     "output_type": "stream",
     "text": [
      "Iteration 16, incumbent x=([2.4523000717163086, 6.4359002113342285, 0.34209999442100525, 3.944999933242798, -1.25600004196167, 2.562000036239624, 7.104300022125244, -1.9124000072479248, -3.0896999835968018, -3.100399971008301]), f(x)=42.5255\n"
     ]
    },
    {
     "data": {
      "application/vnd.jupyter.widget-view+json": {
       "model_id": "90800c0cdc24485ab73f681ec4ebb66d",
       "version_major": 2,
       "version_minor": 0
      },
      "text/plain": [
       "Training GP:   0%|          | 0/500 [00:00<?, ?it/s]"
      ]
     },
     "metadata": {},
     "output_type": "display_data"
    },
    {
     "name": "stdout",
     "output_type": "stream",
     "text": [
      "Iteration 17, incumbent x=([2.4523000717163086, 6.4359002113342285, 0.34209999442100525, 3.944999933242798, -1.25600004196167, 2.562000036239624, 7.104300022125244, -1.9124000072479248, -3.0896999835968018, -3.100399971008301]), f(x)=42.5255\n"
     ]
    },
    {
     "data": {
      "application/vnd.jupyter.widget-view+json": {
       "model_id": "f6b2c027f47149b5b35dc5715937fe7e",
       "version_major": 2,
       "version_minor": 0
      },
      "text/plain": [
       "Training GP:   0%|          | 0/500 [00:00<?, ?it/s]"
      ]
     },
     "metadata": {},
     "output_type": "display_data"
    },
    {
     "name": "stdout",
     "output_type": "stream",
     "text": [
      "Iteration 18, incumbent x=([2.4523000717163086, 6.4359002113342285, 0.34209999442100525, 3.944999933242798, -1.25600004196167, 2.562000036239624, 7.104300022125244, -1.9124000072479248, -3.0896999835968018, -3.100399971008301]), f(x)=42.5255\n"
     ]
    },
    {
     "data": {
      "application/vnd.jupyter.widget-view+json": {
       "model_id": "57936091546a4b00855a0ff663576c67",
       "version_major": 2,
       "version_minor": 0
      },
      "text/plain": [
       "Training GP:   0%|          | 0/500 [00:00<?, ?it/s]"
      ]
     },
     "metadata": {},
     "output_type": "display_data"
    },
    {
     "name": "stdout",
     "output_type": "stream",
     "text": [
      "Iteration 19, incumbent x=([2.4523000717163086, 6.4359002113342285, 0.34209999442100525, 3.944999933242798, -1.25600004196167, 2.562000036239624, 7.104300022125244, -1.9124000072479248, -3.0896999835968018, -3.100399971008301]), f(x)=42.5255\n"
     ]
    },
    {
     "data": {
      "application/vnd.jupyter.widget-view+json": {
       "model_id": "4ed64eef4c7b433dbe8baad9d8026724",
       "version_major": 2,
       "version_minor": 0
      },
      "text/plain": [
       "Training GP:   0%|          | 0/500 [00:00<?, ?it/s]"
      ]
     },
     "metadata": {},
     "output_type": "display_data"
    },
    {
     "name": "stdout",
     "output_type": "stream",
     "text": [
      "Iteration 20, incumbent x=([2.4523000717163086, 6.4359002113342285, 0.34209999442100525, 3.944999933242798, -1.25600004196167, 2.562000036239624, 7.104300022125244, -1.9124000072479248, -3.0896999835968018, -3.100399971008301]), f(x)=42.5255\n"
     ]
    },
    {
     "data": {
      "application/vnd.jupyter.widget-view+json": {
       "model_id": "3dad21fe24c64fbdb52e7a3225fef16a",
       "version_major": 2,
       "version_minor": 0
      },
      "text/plain": [
       "Training GP:   0%|          | 0/500 [00:00<?, ?it/s]"
      ]
     },
     "metadata": {},
     "output_type": "display_data"
    },
    {
     "name": "stdout",
     "output_type": "stream",
     "text": [
      "Iteration 21, incumbent x=([2.4523000717163086, 6.4359002113342285, 0.34209999442100525, 3.944999933242798, -1.25600004196167, 2.562000036239624, 7.104300022125244, -1.9124000072479248, -3.0896999835968018, -3.100399971008301]), f(x)=42.5255\n"
     ]
    },
    {
     "data": {
      "application/vnd.jupyter.widget-view+json": {
       "model_id": "135281d253c847fda6ce2d29e3fc6731",
       "version_major": 2,
       "version_minor": 0
      },
      "text/plain": [
       "Training GP:   0%|          | 0/500 [00:00<?, ?it/s]"
      ]
     },
     "metadata": {},
     "output_type": "display_data"
    },
    {
     "name": "stdout",
     "output_type": "stream",
     "text": [
      "Iteration 22, incumbent x=([2.4523000717163086, 6.4359002113342285, 0.34209999442100525, 3.944999933242798, -1.25600004196167, 2.562000036239624, 7.104300022125244, -1.9124000072479248, -3.0896999835968018, -3.100399971008301]), f(x)=42.5255\n"
     ]
    },
    {
     "data": {
      "application/vnd.jupyter.widget-view+json": {
       "model_id": "1c55b8fcbd304857a5e3edbe5dbbace0",
       "version_major": 2,
       "version_minor": 0
      },
      "text/plain": [
       "Training GP:   0%|          | 0/500 [00:00<?, ?it/s]"
      ]
     },
     "metadata": {},
     "output_type": "display_data"
    },
    {
     "name": "stdout",
     "output_type": "stream",
     "text": [
      "Iteration 23, incumbent x=([2.4523000717163086, 6.4359002113342285, 0.34209999442100525, 3.944999933242798, -1.25600004196167, 2.562000036239624, 7.104300022125244, -1.9124000072479248, -3.0896999835968018, -3.100399971008301]), f(x)=42.5255\n"
     ]
    },
    {
     "data": {
      "application/vnd.jupyter.widget-view+json": {
       "model_id": "c2cf101c0a3946d99eb6973901baf4ea",
       "version_major": 2,
       "version_minor": 0
      },
      "text/plain": [
       "Training GP:   0%|          | 0/500 [00:00<?, ?it/s]"
      ]
     },
     "metadata": {},
     "output_type": "display_data"
    },
    {
     "name": "stdout",
     "output_type": "stream",
     "text": [
      "Iteration 24, incumbent x=([2.4523000717163086, 6.4359002113342285, 0.34209999442100525, 3.944999933242798, -1.25600004196167, 2.562000036239624, 7.104300022125244, -1.9124000072479248, -3.0896999835968018, -3.100399971008301]), f(x)=42.5255\n"
     ]
    },
    {
     "data": {
      "application/vnd.jupyter.widget-view+json": {
       "model_id": "6824a3c006444d84b49a043c0e7b35c4",
       "version_major": 2,
       "version_minor": 0
      },
      "text/plain": [
       "Training GP:   0%|          | 0/500 [00:00<?, ?it/s]"
      ]
     },
     "metadata": {},
     "output_type": "display_data"
    },
    {
     "name": "stdout",
     "output_type": "stream",
     "text": [
      "Iteration 25, incumbent x=([2.4523000717163086, 6.4359002113342285, 0.34209999442100525, 3.944999933242798, -1.25600004196167, 2.562000036239624, 7.104300022125244, -1.9124000072479248, -3.0896999835968018, -3.100399971008301]), f(x)=42.5255\n"
     ]
    },
    {
     "data": {
      "application/vnd.jupyter.widget-view+json": {
       "model_id": "a7b545e91dbc4af5b29399d092b14217",
       "version_major": 2,
       "version_minor": 0
      },
      "text/plain": [
       "Training GP:   0%|          | 0/500 [00:00<?, ?it/s]"
      ]
     },
     "metadata": {},
     "output_type": "display_data"
    },
    {
     "name": "stdout",
     "output_type": "stream",
     "text": [
      "Iteration 26, incumbent x=([2.4523000717163086, 6.4359002113342285, 0.34209999442100525, 3.944999933242798, -1.25600004196167, 2.562000036239624, 7.104300022125244, -1.9124000072479248, -3.0896999835968018, -3.100399971008301]), f(x)=42.5255\n"
     ]
    },
    {
     "data": {
      "application/vnd.jupyter.widget-view+json": {
       "model_id": "b93aa3be4a5b4585b0d173e0c2960323",
       "version_major": 2,
       "version_minor": 0
      },
      "text/plain": [
       "Training GP:   0%|          | 0/500 [00:00<?, ?it/s]"
      ]
     },
     "metadata": {},
     "output_type": "display_data"
    },
    {
     "name": "stdout",
     "output_type": "stream",
     "text": [
      "Iteration 27, incumbent x=([2.4523000717163086, 6.4359002113342285, 0.34209999442100525, 3.944999933242798, -1.25600004196167, 2.562000036239624, 7.104300022125244, -1.9124000072479248, -3.0896999835968018, -3.100399971008301]), f(x)=42.5255\n"
     ]
    },
    {
     "data": {
      "application/vnd.jupyter.widget-view+json": {
       "model_id": "ed3369c3a7864d06b827dbad8b387f16",
       "version_major": 2,
       "version_minor": 0
      },
      "text/plain": [
       "Training GP:   0%|          | 0/500 [00:00<?, ?it/s]"
      ]
     },
     "metadata": {},
     "output_type": "display_data"
    },
    {
     "name": "stdout",
     "output_type": "stream",
     "text": [
      "Iteration 28, incumbent x=([2.4523000717163086, 6.4359002113342285, 0.34209999442100525, 3.944999933242798, -1.25600004196167, 2.562000036239624, 7.104300022125244, -1.9124000072479248, -3.0896999835968018, -3.100399971008301]), f(x)=42.5255\n"
     ]
    },
    {
     "data": {
      "application/vnd.jupyter.widget-view+json": {
       "model_id": "772e88cb6522460bab8ad6707b44e1c4",
       "version_major": 2,
       "version_minor": 0
      },
      "text/plain": [
       "Training GP:   0%|          | 0/500 [00:00<?, ?it/s]"
      ]
     },
     "metadata": {},
     "output_type": "display_data"
    },
    {
     "name": "stdout",
     "output_type": "stream",
     "text": [
      "Iteration 29, incumbent x=([2.4523000717163086, 6.4359002113342285, 0.34209999442100525, 3.944999933242798, -1.25600004196167, 2.562000036239624, 7.104300022125244, -1.9124000072479248, -3.0896999835968018, -3.100399971008301]), f(x)=42.5255\n"
     ]
    },
    {
     "data": {
      "application/vnd.jupyter.widget-view+json": {
       "model_id": "1e03ba06f151451c85036952a34a5625",
       "version_major": 2,
       "version_minor": 0
      },
      "text/plain": [
       "Training GP:   0%|          | 0/500 [00:00<?, ?it/s]"
      ]
     },
     "metadata": {},
     "output_type": "display_data"
    },
    {
     "name": "stdout",
     "output_type": "stream",
     "text": [
      "Iteration 30, incumbent x=([2.4523000717163086, 6.4359002113342285, 0.34209999442100525, 3.944999933242798, -1.25600004196167, 2.562000036239624, 7.104300022125244, -1.9124000072479248, -3.0896999835968018, -3.100399971008301]), f(x)=42.5255\n"
     ]
    },
    {
     "data": {
      "application/vnd.jupyter.widget-view+json": {
       "model_id": "45900ed0543a487eae17de4eed33460c",
       "version_major": 2,
       "version_minor": 0
      },
      "text/plain": [
       "Training GP:   0%|          | 0/500 [00:00<?, ?it/s]"
      ]
     },
     "metadata": {},
     "output_type": "display_data"
    },
    {
     "name": "stdout",
     "output_type": "stream",
     "text": [
      "Iteration 31, incumbent x=([2.4523000717163086, 6.4359002113342285, 0.34209999442100525, 3.944999933242798, -1.25600004196167, 2.562000036239624, 7.104300022125244, -1.9124000072479248, -3.0896999835968018, -3.100399971008301]), f(x)=42.5255\n"
     ]
    },
    {
     "data": {
      "application/vnd.jupyter.widget-view+json": {
       "model_id": "89caed098581447ba155236a0f39fa4c",
       "version_major": 2,
       "version_minor": 0
      },
      "text/plain": [
       "Training GP:   0%|          | 0/500 [00:00<?, ?it/s]"
      ]
     },
     "metadata": {},
     "output_type": "display_data"
    },
    {
     "name": "stdout",
     "output_type": "stream",
     "text": [
      "Iteration 32, incumbent x=([2.4523000717163086, 6.4359002113342285, 0.34209999442100525, 3.944999933242798, -1.25600004196167, 2.562000036239624, 7.104300022125244, -1.9124000072479248, -3.0896999835968018, -3.100399971008301]), f(x)=42.5255\n"
     ]
    },
    {
     "data": {
      "application/vnd.jupyter.widget-view+json": {
       "model_id": "cb41569c4a4d415984d5a5e9a0d3e5bc",
       "version_major": 2,
       "version_minor": 0
      },
      "text/plain": [
       "Training GP:   0%|          | 0/500 [00:00<?, ?it/s]"
      ]
     },
     "metadata": {},
     "output_type": "display_data"
    },
    {
     "name": "stdout",
     "output_type": "stream",
     "text": [
      "Iteration 33, incumbent x=([2.4523000717163086, 6.4359002113342285, 0.34209999442100525, 3.944999933242798, -1.25600004196167, 2.562000036239624, 7.104300022125244, -1.9124000072479248, -3.0896999835968018, -3.100399971008301]), f(x)=42.5255\n"
     ]
    },
    {
     "data": {
      "application/vnd.jupyter.widget-view+json": {
       "model_id": "2306c385bbdc4c54a1fc751e598a22a5",
       "version_major": 2,
       "version_minor": 0
      },
      "text/plain": [
       "Training GP:   0%|          | 0/500 [00:00<?, ?it/s]"
      ]
     },
     "metadata": {},
     "output_type": "display_data"
    },
    {
     "name": "stdout",
     "output_type": "stream",
     "text": [
      "Iteration 34, incumbent x=([2.4523000717163086, 6.4359002113342285, 0.34209999442100525, 3.944999933242798, -1.25600004196167, 2.562000036239624, 7.104300022125244, -1.9124000072479248, -3.0896999835968018, -3.100399971008301]), f(x)=42.5255\n"
     ]
    },
    {
     "data": {
      "application/vnd.jupyter.widget-view+json": {
       "model_id": "1dd1b32285ca44b2801fe2b23b4588bf",
       "version_major": 2,
       "version_minor": 0
      },
      "text/plain": [
       "Training GP:   0%|          | 0/500 [00:00<?, ?it/s]"
      ]
     },
     "metadata": {},
     "output_type": "display_data"
    },
    {
     "name": "stdout",
     "output_type": "stream",
     "text": [
      "Iteration 35, incumbent x=([2.4523000717163086, 6.4359002113342285, 0.34209999442100525, 3.944999933242798, -1.25600004196167, 2.562000036239624, 7.104300022125244, -1.9124000072479248, -3.0896999835968018, -3.100399971008301]), f(x)=42.5255\n"
     ]
    },
    {
     "data": {
      "application/vnd.jupyter.widget-view+json": {
       "model_id": "6f31420e2a934e06863ec2ab71bfb9e0",
       "version_major": 2,
       "version_minor": 0
      },
      "text/plain": [
       "Training GP:   0%|          | 0/500 [00:00<?, ?it/s]"
      ]
     },
     "metadata": {},
     "output_type": "display_data"
    },
    {
     "name": "stdout",
     "output_type": "stream",
     "text": [
      "Iteration 36, incumbent x=([2.4523000717163086, 6.4359002113342285, 0.34209999442100525, 3.944999933242798, -1.25600004196167, 2.562000036239624, 7.104300022125244, -1.9124000072479248, -3.0896999835968018, -3.100399971008301]), f(x)=42.5255\n"
     ]
    },
    {
     "data": {
      "application/vnd.jupyter.widget-view+json": {
       "model_id": "310a3a687783492c9d7466c753ca4c39",
       "version_major": 2,
       "version_minor": 0
      },
      "text/plain": [
       "Training GP:   0%|          | 0/500 [00:00<?, ?it/s]"
      ]
     },
     "metadata": {},
     "output_type": "display_data"
    },
    {
     "name": "stdout",
     "output_type": "stream",
     "text": [
      "Iteration 37, incumbent x=([2.4523000717163086, 6.4359002113342285, 0.34209999442100525, 3.944999933242798, -1.25600004196167, 2.562000036239624, 7.104300022125244, -1.9124000072479248, -3.0896999835968018, -3.100399971008301]), f(x)=42.5255\n"
     ]
    },
    {
     "data": {
      "application/vnd.jupyter.widget-view+json": {
       "model_id": "7f377deb84a34540a0cd2ea80fb07379",
       "version_major": 2,
       "version_minor": 0
      },
      "text/plain": [
       "Training GP:   0%|          | 0/500 [00:00<?, ?it/s]"
      ]
     },
     "metadata": {},
     "output_type": "display_data"
    },
    {
     "name": "stdout",
     "output_type": "stream",
     "text": [
      "Iteration 38, incumbent x=([2.4523000717163086, 6.4359002113342285, 0.34209999442100525, 3.944999933242798, -1.25600004196167, 2.562000036239624, 7.104300022125244, -1.9124000072479248, -3.0896999835968018, -3.100399971008301]), f(x)=42.5255\n"
     ]
    },
    {
     "data": {
      "application/vnd.jupyter.widget-view+json": {
       "model_id": "6ac9b65092cd401a98490a0d4592037b",
       "version_major": 2,
       "version_minor": 0
      },
      "text/plain": [
       "Training GP:   0%|          | 0/500 [00:00<?, ?it/s]"
      ]
     },
     "metadata": {},
     "output_type": "display_data"
    },
    {
     "name": "stdout",
     "output_type": "stream",
     "text": [
      "Iteration 39, incumbent x=([2.4523000717163086, 6.4359002113342285, 0.34209999442100525, 3.944999933242798, -1.25600004196167, 2.562000036239624, 7.104300022125244, -1.9124000072479248, -3.0896999835968018, -3.100399971008301]), f(x)=42.5255\n"
     ]
    },
    {
     "data": {
      "application/vnd.jupyter.widget-view+json": {
       "model_id": "044f45a686ea4a708250620d57e1c77e",
       "version_major": 2,
       "version_minor": 0
      },
      "text/plain": [
       "Training GP:   0%|          | 0/500 [00:00<?, ?it/s]"
      ]
     },
     "metadata": {},
     "output_type": "display_data"
    },
    {
     "name": "stdout",
     "output_type": "stream",
     "text": [
      "Iteration 40, incumbent x=([2.4523000717163086, 6.4359002113342285, 0.34209999442100525, 3.944999933242798, -1.25600004196167, 2.562000036239624, 7.104300022125244, -1.9124000072479248, -3.0896999835968018, -3.100399971008301]), f(x)=42.5255\n"
     ]
    },
    {
     "data": {
      "application/vnd.jupyter.widget-view+json": {
       "model_id": "cf23dcd132744aa2b0f667d95ec3dbef",
       "version_major": 2,
       "version_minor": 0
      },
      "text/plain": [
       "Training GP:   0%|          | 0/500 [00:00<?, ?it/s]"
      ]
     },
     "metadata": {},
     "output_type": "display_data"
    },
    {
     "name": "stdout",
     "output_type": "stream",
     "text": [
      "Iteration 41, incumbent x=([2.4523000717163086, 6.4359002113342285, 0.34209999442100525, 3.944999933242798, -1.25600004196167, 2.562000036239624, 7.104300022125244, -1.9124000072479248, -3.0896999835968018, -3.100399971008301]), f(x)=42.5255\n"
     ]
    },
    {
     "data": {
      "application/vnd.jupyter.widget-view+json": {
       "model_id": "0d5881b491084e2c971292e8a604d68c",
       "version_major": 2,
       "version_minor": 0
      },
      "text/plain": [
       "Training GP:   0%|          | 0/500 [00:00<?, ?it/s]"
      ]
     },
     "metadata": {},
     "output_type": "display_data"
    },
    {
     "name": "stdout",
     "output_type": "stream",
     "text": [
      "Iteration 42, incumbent x=([2.4523000717163086, 6.4359002113342285, 0.34209999442100525, 3.944999933242798, -1.25600004196167, 2.562000036239624, 7.104300022125244, -1.9124000072479248, -3.0896999835968018, -3.100399971008301]), f(x)=42.5255\n"
     ]
    },
    {
     "data": {
      "application/vnd.jupyter.widget-view+json": {
       "model_id": "30e4f538949a4c00aacc433c2e37aef4",
       "version_major": 2,
       "version_minor": 0
      },
      "text/plain": [
       "Training GP:   0%|          | 0/500 [00:00<?, ?it/s]"
      ]
     },
     "metadata": {},
     "output_type": "display_data"
    },
    {
     "name": "stdout",
     "output_type": "stream",
     "text": [
      "Iteration 43, incumbent x=([2.4523000717163086, 6.4359002113342285, 0.34209999442100525, 3.944999933242798, -1.25600004196167, 2.562000036239624, 7.104300022125244, -1.9124000072479248, -3.0896999835968018, -3.100399971008301]), f(x)=42.5255\n"
     ]
    },
    {
     "data": {
      "application/vnd.jupyter.widget-view+json": {
       "model_id": "4d8a63aebd9747c38f84bbbc10c0933a",
       "version_major": 2,
       "version_minor": 0
      },
      "text/plain": [
       "Training GP:   0%|          | 0/500 [00:00<?, ?it/s]"
      ]
     },
     "metadata": {},
     "output_type": "display_data"
    },
    {
     "name": "stdout",
     "output_type": "stream",
     "text": [
      "Iteration 44, incumbent x=([2.4523000717163086, 6.4359002113342285, 0.34209999442100525, 3.944999933242798, -1.25600004196167, 2.562000036239624, 7.104300022125244, -1.9124000072479248, -3.0896999835968018, -3.100399971008301]), f(x)=42.5255\n"
     ]
    },
    {
     "data": {
      "application/vnd.jupyter.widget-view+json": {
       "model_id": "48164879c5b2473694a1e526b45d3f54",
       "version_major": 2,
       "version_minor": 0
      },
      "text/plain": [
       "Training GP:   0%|          | 0/500 [00:00<?, ?it/s]"
      ]
     },
     "metadata": {},
     "output_type": "display_data"
    },
    {
     "name": "stdout",
     "output_type": "stream",
     "text": [
      "Iteration 45, incumbent x=([2.4523000717163086, 6.4359002113342285, 0.34209999442100525, 3.944999933242798, -1.25600004196167, 2.562000036239624, 7.104300022125244, -1.9124000072479248, -3.0896999835968018, -3.100399971008301]), f(x)=42.5255\n"
     ]
    },
    {
     "data": {
      "application/vnd.jupyter.widget-view+json": {
       "model_id": "bfb9ed2f6c6147b88f83dc1bfd36e693",
       "version_major": 2,
       "version_minor": 0
      },
      "text/plain": [
       "Training GP:   0%|          | 0/500 [00:00<?, ?it/s]"
      ]
     },
     "metadata": {},
     "output_type": "display_data"
    },
    {
     "name": "stdout",
     "output_type": "stream",
     "text": [
      "Iteration 46, incumbent x=([2.4523000717163086, 6.4359002113342285, 0.34209999442100525, 3.944999933242798, -1.25600004196167, 2.562000036239624, 7.104300022125244, -1.9124000072479248, -3.0896999835968018, -3.100399971008301]), f(x)=42.5255\n"
     ]
    },
    {
     "data": {
      "application/vnd.jupyter.widget-view+json": {
       "model_id": "ce8cd1c279364011a95d1354ef638758",
       "version_major": 2,
       "version_minor": 0
      },
      "text/plain": [
       "Training GP:   0%|          | 0/500 [00:00<?, ?it/s]"
      ]
     },
     "metadata": {},
     "output_type": "display_data"
    },
    {
     "name": "stdout",
     "output_type": "stream",
     "text": [
      "Iteration 47, incumbent x=([2.4523000717163086, 6.4359002113342285, 0.34209999442100525, 3.944999933242798, -1.25600004196167, 2.562000036239624, 7.104300022125244, -1.9124000072479248, -3.0896999835968018, -3.100399971008301]), f(x)=42.5255\n"
     ]
    },
    {
     "data": {
      "application/vnd.jupyter.widget-view+json": {
       "model_id": "e9cc581877824215aa1e80f239d0d1a6",
       "version_major": 2,
       "version_minor": 0
      },
      "text/plain": [
       "Training GP:   0%|          | 0/500 [00:00<?, ?it/s]"
      ]
     },
     "metadata": {},
     "output_type": "display_data"
    },
    {
     "name": "stdout",
     "output_type": "stream",
     "text": [
      "Iteration 48, incumbent x=([2.4523000717163086, 6.4359002113342285, 0.34209999442100525, 3.944999933242798, -1.25600004196167, 2.562000036239624, 7.104300022125244, -1.9124000072479248, -3.0896999835968018, -3.100399971008301]), f(x)=42.5255\n"
     ]
    },
    {
     "data": {
      "application/vnd.jupyter.widget-view+json": {
       "model_id": "bc03fcc757e840e38f05cca305ce0997",
       "version_major": 2,
       "version_minor": 0
      },
      "text/plain": [
       "Training GP:   0%|          | 0/500 [00:00<?, ?it/s]"
      ]
     },
     "metadata": {},
     "output_type": "display_data"
    },
    {
     "name": "stdout",
     "output_type": "stream",
     "text": [
      "Iteration 49, incumbent x=([2.4523000717163086, 6.4359002113342285, 0.34209999442100525, 3.944999933242798, -1.25600004196167, 2.562000036239624, 7.104300022125244, -1.9124000072479248, -3.0896999835968018, -3.100399971008301]), f(x)=42.5255\n"
     ]
    },
    {
     "data": {
      "application/vnd.jupyter.widget-view+json": {
       "model_id": "0342c6389cf44f6682e0e0eb0a32fbb0",
       "version_major": 2,
       "version_minor": 0
      },
      "text/plain": [
       "Training GP:   0%|          | 0/500 [00:00<?, ?it/s]"
      ]
     },
     "metadata": {},
     "output_type": "display_data"
    },
    {
     "name": "stdout",
     "output_type": "stream",
     "text": [
      "Iteration 50, incumbent x=([2.4523000717163086, 6.4359002113342285, 0.34209999442100525, 3.944999933242798, -1.25600004196167, 2.562000036239624, 7.104300022125244, -1.9124000072479248, -3.0896999835968018, -3.100399971008301]), f(x)=42.5255\n"
     ]
    },
    {
     "data": {
      "application/vnd.jupyter.widget-view+json": {
       "model_id": "e7fe489f4f7347978d9a98bb5873852a",
       "version_major": 2,
       "version_minor": 0
      },
      "text/plain": [
       "Training GP:   0%|          | 0/500 [00:00<?, ?it/s]"
      ]
     },
     "metadata": {},
     "output_type": "display_data"
    },
    {
     "name": "stdout",
     "output_type": "stream",
     "text": [
      "Iteration 51, incumbent x=([2.4523000717163086, 6.4359002113342285, 0.34209999442100525, 3.944999933242798, -1.25600004196167, 2.562000036239624, 7.104300022125244, -1.9124000072479248, -3.0896999835968018, -3.100399971008301]), f(x)=42.5255\n"
     ]
    },
    {
     "data": {
      "application/vnd.jupyter.widget-view+json": {
       "model_id": "73fe4f1d56fc4cb48b689ba3ed2a5324",
       "version_major": 2,
       "version_minor": 0
      },
      "text/plain": [
       "Training GP:   0%|          | 0/500 [00:00<?, ?it/s]"
      ]
     },
     "metadata": {},
     "output_type": "display_data"
    },
    {
     "name": "stdout",
     "output_type": "stream",
     "text": [
      "Iteration 52, incumbent x=([2.4523000717163086, 6.4359002113342285, 0.34209999442100525, 3.944999933242798, -1.25600004196167, 2.562000036239624, 7.104300022125244, -1.9124000072479248, -3.0896999835968018, -3.100399971008301]), f(x)=42.5255\n"
     ]
    },
    {
     "data": {
      "application/vnd.jupyter.widget-view+json": {
       "model_id": "d216ef9c0a084ecda5721cf9b0fc4d8d",
       "version_major": 2,
       "version_minor": 0
      },
      "text/plain": [
       "Training GP:   0%|          | 0/500 [00:00<?, ?it/s]"
      ]
     },
     "metadata": {},
     "output_type": "display_data"
    },
    {
     "name": "stdout",
     "output_type": "stream",
     "text": [
      "Iteration 53, incumbent x=([2.4523000717163086, 6.4359002113342285, 0.34209999442100525, 3.944999933242798, -1.25600004196167, 2.562000036239624, 7.104300022125244, -1.9124000072479248, -3.0896999835968018, -3.100399971008301]), f(x)=42.5255\n"
     ]
    },
    {
     "data": {
      "application/vnd.jupyter.widget-view+json": {
       "model_id": "e5e59a1194d64c4c9e23f75c9eb08028",
       "version_major": 2,
       "version_minor": 0
      },
      "text/plain": [
       "Training GP:   0%|          | 0/500 [00:00<?, ?it/s]"
      ]
     },
     "metadata": {},
     "output_type": "display_data"
    },
    {
     "name": "stdout",
     "output_type": "stream",
     "text": [
      "Iteration 54, incumbent x=([2.4523000717163086, 6.4359002113342285, 0.34209999442100525, 3.944999933242798, -1.25600004196167, 2.562000036239624, 7.104300022125244, -1.9124000072479248, -3.0896999835968018, -3.100399971008301]), f(x)=42.5255\n"
     ]
    },
    {
     "data": {
      "application/vnd.jupyter.widget-view+json": {
       "model_id": "694ffbe218964b57b6bc9392462542f6",
       "version_major": 2,
       "version_minor": 0
      },
      "text/plain": [
       "Training GP:   0%|          | 0/500 [00:00<?, ?it/s]"
      ]
     },
     "metadata": {},
     "output_type": "display_data"
    },
    {
     "name": "stdout",
     "output_type": "stream",
     "text": [
      "Iteration 55, incumbent x=([2.4523000717163086, 6.4359002113342285, 0.34209999442100525, 3.944999933242798, -1.25600004196167, 2.562000036239624, 7.104300022125244, -1.9124000072479248, -3.0896999835968018, -3.100399971008301]), f(x)=42.5255\n"
     ]
    },
    {
     "data": {
      "application/vnd.jupyter.widget-view+json": {
       "model_id": "e687b7a1a4904940bce927deeb4917e2",
       "version_major": 2,
       "version_minor": 0
      },
      "text/plain": [
       "Training GP:   0%|          | 0/500 [00:00<?, ?it/s]"
      ]
     },
     "metadata": {},
     "output_type": "display_data"
    },
    {
     "name": "stdout",
     "output_type": "stream",
     "text": [
      "Iteration 56, incumbent x=([2.4523000717163086, 6.4359002113342285, 0.34209999442100525, 3.944999933242798, -1.25600004196167, 2.562000036239624, 7.104300022125244, -1.9124000072479248, -3.0896999835968018, -3.100399971008301]), f(x)=42.5255\n"
     ]
    },
    {
     "data": {
      "application/vnd.jupyter.widget-view+json": {
       "model_id": "6adadd700d51404c99e4d27ce29a5ddd",
       "version_major": 2,
       "version_minor": 0
      },
      "text/plain": [
       "Training GP:   0%|          | 0/500 [00:00<?, ?it/s]"
      ]
     },
     "metadata": {},
     "output_type": "display_data"
    },
    {
     "name": "stdout",
     "output_type": "stream",
     "text": [
      "Iteration 57, incumbent x=([2.4523000717163086, 6.4359002113342285, 0.34209999442100525, 3.944999933242798, -1.25600004196167, 2.562000036239624, 7.104300022125244, -1.9124000072479248, -3.0896999835968018, -3.100399971008301]), f(x)=42.5255\n"
     ]
    },
    {
     "data": {
      "application/vnd.jupyter.widget-view+json": {
       "model_id": "3b23dda1c1c440ca83d0a5d3b2e09f60",
       "version_major": 2,
       "version_minor": 0
      },
      "text/plain": [
       "Training GP:   0%|          | 0/500 [00:00<?, ?it/s]"
      ]
     },
     "metadata": {},
     "output_type": "display_data"
    },
    {
     "name": "stdout",
     "output_type": "stream",
     "text": [
      "Iteration 58, incumbent x=([-0.4722999930381775, -2.641200065612793, 2.2476000785827637, -2.0164999961853027, 2.5232999324798584, -0.9904000163078308, 7.603099822998047, -8.255800247192383, 5.0346999168396, -5.025599956512451]), f(x)=37.5326\n"
     ]
    },
    {
     "data": {
      "application/vnd.jupyter.widget-view+json": {
       "model_id": "d39e44265b5f459598d41cbc9e7c6d75",
       "version_major": 2,
       "version_minor": 0
      },
      "text/plain": [
       "Training GP:   0%|          | 0/500 [00:00<?, ?it/s]"
      ]
     },
     "metadata": {},
     "output_type": "display_data"
    },
    {
     "name": "stdout",
     "output_type": "stream",
     "text": [
      "Iteration 59, incumbent x=([-0.4722999930381775, -2.641200065612793, 2.2476000785827637, -2.0164999961853027, 2.5232999324798584, -0.9904000163078308, 7.603099822998047, -8.255800247192383, 5.0346999168396, -5.025599956512451]), f(x)=37.5326\n"
     ]
    },
    {
     "data": {
      "application/vnd.jupyter.widget-view+json": {
       "model_id": "9e1b2f41d8c041af88ae4adc46f77c14",
       "version_major": 2,
       "version_minor": 0
      },
      "text/plain": [
       "Training GP:   0%|          | 0/500 [00:00<?, ?it/s]"
      ]
     },
     "metadata": {},
     "output_type": "display_data"
    },
    {
     "name": "stdout",
     "output_type": "stream",
     "text": [
      "Iteration 60, incumbent x=([-0.4722999930381775, -2.641200065612793, 2.2476000785827637, -2.0164999961853027, 2.5232999324798584, -0.9904000163078308, 7.603099822998047, -8.255800247192383, 5.0346999168396, -5.025599956512451]), f(x)=37.5326\n"
     ]
    },
    {
     "data": {
      "application/vnd.jupyter.widget-view+json": {
       "model_id": "4c1610496ec64480aaa1496cc85a827e",
       "version_major": 2,
       "version_minor": 0
      },
      "text/plain": [
       "Training GP:   0%|          | 0/500 [00:00<?, ?it/s]"
      ]
     },
     "metadata": {},
     "output_type": "display_data"
    },
    {
     "name": "stdout",
     "output_type": "stream",
     "text": [
      "Iteration 61, incumbent x=([-0.4722999930381775, -2.641200065612793, 2.2476000785827637, -2.0164999961853027, 2.5232999324798584, -0.9904000163078308, 7.603099822998047, -8.255800247192383, 5.0346999168396, -5.025599956512451]), f(x)=37.5326\n"
     ]
    },
    {
     "data": {
      "application/vnd.jupyter.widget-view+json": {
       "model_id": "c589ba0fb07a472e8715dd7c7f0f2334",
       "version_major": 2,
       "version_minor": 0
      },
      "text/plain": [
       "Training GP:   0%|          | 0/500 [00:00<?, ?it/s]"
      ]
     },
     "metadata": {},
     "output_type": "display_data"
    },
    {
     "name": "stdout",
     "output_type": "stream",
     "text": [
      "Iteration 62, incumbent x=([-0.4722999930381775, -2.641200065612793, 2.2476000785827637, -2.0164999961853027, 2.5232999324798584, -0.9904000163078308, 7.603099822998047, -8.255800247192383, 5.0346999168396, -5.025599956512451]), f(x)=37.5326\n"
     ]
    },
    {
     "data": {
      "application/vnd.jupyter.widget-view+json": {
       "model_id": "44642d8ef24e47a68ec355ce01882cc8",
       "version_major": 2,
       "version_minor": 0
      },
      "text/plain": [
       "Training GP:   0%|          | 0/500 [00:00<?, ?it/s]"
      ]
     },
     "metadata": {},
     "output_type": "display_data"
    },
    {
     "name": "stdout",
     "output_type": "stream",
     "text": [
      "Iteration 63, incumbent x=([-0.4722999930381775, -2.641200065612793, 2.2476000785827637, -2.0164999961853027, 2.5232999324798584, -0.9904000163078308, 7.603099822998047, -8.255800247192383, 5.0346999168396, -5.025599956512451]), f(x)=37.5326\n"
     ]
    },
    {
     "data": {
      "application/vnd.jupyter.widget-view+json": {
       "model_id": "50193de7fe574ce49395dce8085ae577",
       "version_major": 2,
       "version_minor": 0
      },
      "text/plain": [
       "Training GP:   0%|          | 0/500 [00:00<?, ?it/s]"
      ]
     },
     "metadata": {},
     "output_type": "display_data"
    },
    {
     "name": "stdout",
     "output_type": "stream",
     "text": [
      "Iteration 64, incumbent x=([-0.4722999930381775, -2.641200065612793, 2.2476000785827637, -2.0164999961853027, 2.5232999324798584, -0.9904000163078308, 7.603099822998047, -8.255800247192383, 5.0346999168396, -5.025599956512451]), f(x)=37.5326\n"
     ]
    },
    {
     "data": {
      "application/vnd.jupyter.widget-view+json": {
       "model_id": "15b4b74454854298bb168a49a5777a81",
       "version_major": 2,
       "version_minor": 0
      },
      "text/plain": [
       "Training GP:   0%|          | 0/500 [00:00<?, ?it/s]"
      ]
     },
     "metadata": {},
     "output_type": "display_data"
    },
    {
     "name": "stdout",
     "output_type": "stream",
     "text": [
      "Iteration 65, incumbent x=([-0.4722999930381775, -2.641200065612793, 2.2476000785827637, -2.0164999961853027, 2.5232999324798584, -0.9904000163078308, 7.603099822998047, -8.255800247192383, 5.0346999168396, -5.025599956512451]), f(x)=37.5326\n"
     ]
    },
    {
     "data": {
      "application/vnd.jupyter.widget-view+json": {
       "model_id": "0853597326494b08a7e3b9fe3f1794f8",
       "version_major": 2,
       "version_minor": 0
      },
      "text/plain": [
       "Training GP:   0%|          | 0/500 [00:00<?, ?it/s]"
      ]
     },
     "metadata": {},
     "output_type": "display_data"
    },
    {
     "name": "stdout",
     "output_type": "stream",
     "text": [
      "Iteration 66, incumbent x=([-0.4722999930381775, -2.641200065612793, 2.2476000785827637, -2.0164999961853027, 2.5232999324798584, -0.9904000163078308, 7.603099822998047, -8.255800247192383, 5.0346999168396, -5.025599956512451]), f(x)=37.5326\n"
     ]
    },
    {
     "data": {
      "application/vnd.jupyter.widget-view+json": {
       "model_id": "da8623ff754347be933d85cefaa6f6d0",
       "version_major": 2,
       "version_minor": 0
      },
      "text/plain": [
       "Training GP:   0%|          | 0/500 [00:00<?, ?it/s]"
      ]
     },
     "metadata": {},
     "output_type": "display_data"
    },
    {
     "name": "stdout",
     "output_type": "stream",
     "text": [
      "Iteration 67, incumbent x=([-0.4722999930381775, -2.641200065612793, 2.2476000785827637, -2.0164999961853027, 2.5232999324798584, -0.9904000163078308, 7.603099822998047, -8.255800247192383, 5.0346999168396, -5.025599956512451]), f(x)=37.5326\n"
     ]
    },
    {
     "data": {
      "application/vnd.jupyter.widget-view+json": {
       "model_id": "fb82526c203e40caa75dd1e437573e27",
       "version_major": 2,
       "version_minor": 0
      },
      "text/plain": [
       "Training GP:   0%|          | 0/500 [00:00<?, ?it/s]"
      ]
     },
     "metadata": {},
     "output_type": "display_data"
    },
    {
     "name": "stdout",
     "output_type": "stream",
     "text": [
      "Iteration 68, incumbent x=([-0.4722999930381775, -2.641200065612793, 2.2476000785827637, -2.0164999961853027, 2.5232999324798584, -0.9904000163078308, 7.603099822998047, -8.255800247192383, 5.0346999168396, -5.025599956512451]), f(x)=37.5326\n"
     ]
    },
    {
     "data": {
      "application/vnd.jupyter.widget-view+json": {
       "model_id": "30e18c6a67db4a6894bf54b6e05dd489",
       "version_major": 2,
       "version_minor": 0
      },
      "text/plain": [
       "Training GP:   0%|          | 0/500 [00:00<?, ?it/s]"
      ]
     },
     "metadata": {},
     "output_type": "display_data"
    },
    {
     "name": "stdout",
     "output_type": "stream",
     "text": [
      "Iteration 69, incumbent x=([-0.4722999930381775, -2.641200065612793, 2.2476000785827637, -2.0164999961853027, 2.5232999324798584, -0.9904000163078308, 7.603099822998047, -8.255800247192383, 5.0346999168396, -5.025599956512451]), f(x)=37.5326\n"
     ]
    },
    {
     "data": {
      "application/vnd.jupyter.widget-view+json": {
       "model_id": "53a8e56c3e1c47d8851c5664c1daaba7",
       "version_major": 2,
       "version_minor": 0
      },
      "text/plain": [
       "Training GP:   0%|          | 0/500 [00:00<?, ?it/s]"
      ]
     },
     "metadata": {},
     "output_type": "display_data"
    },
    {
     "name": "stdout",
     "output_type": "stream",
     "text": [
      "Iteration 70, incumbent x=([-0.4722999930381775, -2.641200065612793, 2.2476000785827637, -2.0164999961853027, 2.5232999324798584, -0.9904000163078308, 7.603099822998047, -8.255800247192383, 5.0346999168396, -5.025599956512451]), f(x)=37.5326\n"
     ]
    },
    {
     "data": {
      "application/vnd.jupyter.widget-view+json": {
       "model_id": "544ed16b2e8543f3be900b2d0ca27068",
       "version_major": 2,
       "version_minor": 0
      },
      "text/plain": [
       "Training GP:   0%|          | 0/500 [00:00<?, ?it/s]"
      ]
     },
     "metadata": {},
     "output_type": "display_data"
    },
    {
     "name": "stdout",
     "output_type": "stream",
     "text": [
      "Iteration 71, incumbent x=([-8.085200309753418, -4.164599895477295, 1.2651000022888184, 5.773200035095215, 0.2842999994754791, -4.282800197601318, -0.3172000050544739, -2.7390999794006348, -0.5144000053405762, 5.583199977874756]), f(x)=37.0895\n"
     ]
    },
    {
     "data": {
      "application/vnd.jupyter.widget-view+json": {
       "model_id": "e3ba0047d7a84fecbf0ab1fcb9679c62",
       "version_major": 2,
       "version_minor": 0
      },
      "text/plain": [
       "Training GP:   0%|          | 0/500 [00:00<?, ?it/s]"
      ]
     },
     "metadata": {},
     "output_type": "display_data"
    },
    {
     "name": "stdout",
     "output_type": "stream",
     "text": [
      "Iteration 72, incumbent x=([-8.085200309753418, -4.164599895477295, 1.2651000022888184, 5.773200035095215, 0.2842999994754791, -4.282800197601318, -0.3172000050544739, -2.7390999794006348, -0.5144000053405762, 5.583199977874756]), f(x)=37.0895\n"
     ]
    },
    {
     "data": {
      "application/vnd.jupyter.widget-view+json": {
       "model_id": "529300d7893848af87a783006343d8a7",
       "version_major": 2,
       "version_minor": 0
      },
      "text/plain": [
       "Training GP:   0%|          | 0/500 [00:00<?, ?it/s]"
      ]
     },
     "metadata": {},
     "output_type": "display_data"
    },
    {
     "name": "stdout",
     "output_type": "stream",
     "text": [
      "Iteration 73, incumbent x=([-8.085200309753418, -4.164599895477295, 1.2651000022888184, 5.773200035095215, 0.2842999994754791, -4.282800197601318, -0.3172000050544739, -2.7390999794006348, -0.5144000053405762, 5.583199977874756]), f(x)=37.0895\n"
     ]
    },
    {
     "data": {
      "application/vnd.jupyter.widget-view+json": {
       "model_id": "81d8107159954262b017623edfbe97fe",
       "version_major": 2,
       "version_minor": 0
      },
      "text/plain": [
       "Training GP:   0%|          | 0/500 [00:00<?, ?it/s]"
      ]
     },
     "metadata": {},
     "output_type": "display_data"
    },
    {
     "name": "stdout",
     "output_type": "stream",
     "text": [
      "Iteration 74, incumbent x=([-8.085200309753418, -4.164599895477295, 1.2651000022888184, 5.773200035095215, 0.2842999994754791, -4.282800197601318, -0.3172000050544739, -2.7390999794006348, -0.5144000053405762, 5.583199977874756]), f(x)=37.0895\n"
     ]
    },
    {
     "data": {
      "application/vnd.jupyter.widget-view+json": {
       "model_id": "436b6311f2b0437c8db6ab09da81914a",
       "version_major": 2,
       "version_minor": 0
      },
      "text/plain": [
       "Training GP:   0%|          | 0/500 [00:00<?, ?it/s]"
      ]
     },
     "metadata": {},
     "output_type": "display_data"
    },
    {
     "name": "stdout",
     "output_type": "stream",
     "text": [
      "Iteration 75, incumbent x=([-8.085200309753418, -4.164599895477295, 1.2651000022888184, 5.773200035095215, 0.2842999994754791, -4.282800197601318, -0.3172000050544739, -2.7390999794006348, -0.5144000053405762, 5.583199977874756]), f(x)=37.0895\n"
     ]
    },
    {
     "data": {
      "application/vnd.jupyter.widget-view+json": {
       "model_id": "158bfcd72d4a4c3394295b7644f97d0c",
       "version_major": 2,
       "version_minor": 0
      },
      "text/plain": [
       "Training GP:   0%|          | 0/500 [00:00<?, ?it/s]"
      ]
     },
     "metadata": {},
     "output_type": "display_data"
    },
    {
     "name": "stdout",
     "output_type": "stream",
     "text": [
      "Iteration 76, incumbent x=([-8.085200309753418, -4.164599895477295, 1.2651000022888184, 5.773200035095215, 0.2842999994754791, -4.282800197601318, -0.3172000050544739, -2.7390999794006348, -0.5144000053405762, 5.583199977874756]), f(x)=37.0895\n"
     ]
    },
    {
     "data": {
      "application/vnd.jupyter.widget-view+json": {
       "model_id": "fe9d892c88354f7aa4ec142d6a9f86f4",
       "version_major": 2,
       "version_minor": 0
      },
      "text/plain": [
       "Training GP:   0%|          | 0/500 [00:00<?, ?it/s]"
      ]
     },
     "metadata": {},
     "output_type": "display_data"
    },
    {
     "name": "stdout",
     "output_type": "stream",
     "text": [
      "Iteration 77, incumbent x=([-8.085200309753418, -4.164599895477295, 1.2651000022888184, 5.773200035095215, 0.2842999994754791, -4.282800197601318, -0.3172000050544739, -2.7390999794006348, -0.5144000053405762, 5.583199977874756]), f(x)=37.0895\n"
     ]
    },
    {
     "data": {
      "application/vnd.jupyter.widget-view+json": {
       "model_id": "0dea9d7c338a4cce96a88ffdd8250801",
       "version_major": 2,
       "version_minor": 0
      },
      "text/plain": [
       "Training GP:   0%|          | 0/500 [00:00<?, ?it/s]"
      ]
     },
     "metadata": {},
     "output_type": "display_data"
    },
    {
     "name": "stdout",
     "output_type": "stream",
     "text": [
      "Iteration 78, incumbent x=([-8.085200309753418, -4.164599895477295, 1.2651000022888184, 5.773200035095215, 0.2842999994754791, -4.282800197601318, -0.3172000050544739, -2.7390999794006348, -0.5144000053405762, 5.583199977874756]), f(x)=37.0895\n"
     ]
    },
    {
     "data": {
      "application/vnd.jupyter.widget-view+json": {
       "model_id": "15789b5820a24aeaac03c033e210805a",
       "version_major": 2,
       "version_minor": 0
      },
      "text/plain": [
       "Training GP:   0%|          | 0/500 [00:00<?, ?it/s]"
      ]
     },
     "metadata": {},
     "output_type": "display_data"
    },
    {
     "name": "stdout",
     "output_type": "stream",
     "text": [
      "Iteration 79, incumbent x=([-8.085200309753418, -4.164599895477295, 1.2651000022888184, 5.773200035095215, 0.2842999994754791, -4.282800197601318, -0.3172000050544739, -2.7390999794006348, -0.5144000053405762, 5.583199977874756]), f(x)=37.0895\n"
     ]
    },
    {
     "data": {
      "application/vnd.jupyter.widget-view+json": {
       "model_id": "4915b88bf6354fd384875332f6aa137a",
       "version_major": 2,
       "version_minor": 0
      },
      "text/plain": [
       "Training GP:   0%|          | 0/500 [00:00<?, ?it/s]"
      ]
     },
     "metadata": {},
     "output_type": "display_data"
    },
    {
     "name": "stdout",
     "output_type": "stream",
     "text": [
      "Iteration 80, incumbent x=([-8.085200309753418, -4.164599895477295, 1.2651000022888184, 5.773200035095215, 0.2842999994754791, -4.282800197601318, -0.3172000050544739, -2.7390999794006348, -0.5144000053405762, 5.583199977874756]), f(x)=37.0895\n"
     ]
    },
    {
     "data": {
      "application/vnd.jupyter.widget-view+json": {
       "model_id": "7ccd28713e6343f895a203a040d2853c",
       "version_major": 2,
       "version_minor": 0
      },
      "text/plain": [
       "Training GP:   0%|          | 0/500 [00:00<?, ?it/s]"
      ]
     },
     "metadata": {},
     "output_type": "display_data"
    },
    {
     "name": "stdout",
     "output_type": "stream",
     "text": [
      "Iteration 81, incumbent x=([-8.085200309753418, -4.164599895477295, 1.2651000022888184, 5.773200035095215, 0.2842999994754791, -4.282800197601318, -0.3172000050544739, -2.7390999794006348, -0.5144000053405762, 5.583199977874756]), f(x)=37.0895\n"
     ]
    },
    {
     "data": {
      "application/vnd.jupyter.widget-view+json": {
       "model_id": "7638bb05da6b4a2a87694044581d2d91",
       "version_major": 2,
       "version_minor": 0
      },
      "text/plain": [
       "Training GP:   0%|          | 0/500 [00:00<?, ?it/s]"
      ]
     },
     "metadata": {},
     "output_type": "display_data"
    },
    {
     "name": "stdout",
     "output_type": "stream",
     "text": [
      "Iteration 82, incumbent x=([-8.085200309753418, -4.164599895477295, 1.2651000022888184, 5.773200035095215, 0.2842999994754791, -4.282800197601318, -0.3172000050544739, -2.7390999794006348, -0.5144000053405762, 5.583199977874756]), f(x)=37.0895\n"
     ]
    },
    {
     "data": {
      "application/vnd.jupyter.widget-view+json": {
       "model_id": "b1e5c3ae5b4a45829a08fdea4246bb80",
       "version_major": 2,
       "version_minor": 0
      },
      "text/plain": [
       "Training GP:   0%|          | 0/500 [00:00<?, ?it/s]"
      ]
     },
     "metadata": {},
     "output_type": "display_data"
    },
    {
     "name": "stdout",
     "output_type": "stream",
     "text": [
      "Iteration 83, incumbent x=([-8.085200309753418, -4.164599895477295, 1.2651000022888184, 5.773200035095215, 0.2842999994754791, -4.282800197601318, -0.3172000050544739, -2.7390999794006348, -0.5144000053405762, 5.583199977874756]), f(x)=37.0895\n"
     ]
    },
    {
     "data": {
      "application/vnd.jupyter.widget-view+json": {
       "model_id": "e3b8e4ac52144110a25af930f8df4bf4",
       "version_major": 2,
       "version_minor": 0
      },
      "text/plain": [
       "Training GP:   0%|          | 0/500 [00:00<?, ?it/s]"
      ]
     },
     "metadata": {},
     "output_type": "display_data"
    },
    {
     "name": "stdout",
     "output_type": "stream",
     "text": [
      "Iteration 84, incumbent x=([-8.085200309753418, -4.164599895477295, 1.2651000022888184, 5.773200035095215, 0.2842999994754791, -4.282800197601318, -0.3172000050544739, -2.7390999794006348, -0.5144000053405762, 5.583199977874756]), f(x)=37.0895\n"
     ]
    },
    {
     "data": {
      "application/vnd.jupyter.widget-view+json": {
       "model_id": "5be4c69c529449e1bea313c5883cdf84",
       "version_major": 2,
       "version_minor": 0
      },
      "text/plain": [
       "Training GP:   0%|          | 0/500 [00:00<?, ?it/s]"
      ]
     },
     "metadata": {},
     "output_type": "display_data"
    },
    {
     "name": "stdout",
     "output_type": "stream",
     "text": [
      "Iteration 85, incumbent x=([-8.085200309753418, -4.164599895477295, 1.2651000022888184, 5.773200035095215, 0.2842999994754791, -4.282800197601318, -0.3172000050544739, -2.7390999794006348, -0.5144000053405762, 5.583199977874756]), f(x)=37.0895\n"
     ]
    },
    {
     "data": {
      "application/vnd.jupyter.widget-view+json": {
       "model_id": "b5c699614d154b778fc085c12a75938a",
       "version_major": 2,
       "version_minor": 0
      },
      "text/plain": [
       "Training GP:   0%|          | 0/500 [00:00<?, ?it/s]"
      ]
     },
     "metadata": {},
     "output_type": "display_data"
    },
    {
     "name": "stdout",
     "output_type": "stream",
     "text": [
      "Iteration 86, incumbent x=([-8.085200309753418, -4.164599895477295, 1.2651000022888184, 5.773200035095215, 0.2842999994754791, -4.282800197601318, -0.3172000050544739, -2.7390999794006348, -0.5144000053405762, 5.583199977874756]), f(x)=37.0895\n"
     ]
    },
    {
     "data": {
      "application/vnd.jupyter.widget-view+json": {
       "model_id": "e4f02c8461a947bf93e0a6658d479515",
       "version_major": 2,
       "version_minor": 0
      },
      "text/plain": [
       "Training GP:   0%|          | 0/500 [00:00<?, ?it/s]"
      ]
     },
     "metadata": {},
     "output_type": "display_data"
    },
    {
     "name": "stdout",
     "output_type": "stream",
     "text": [
      "Iteration 87, incumbent x=([-8.085200309753418, -4.164599895477295, 1.2651000022888184, 5.773200035095215, 0.2842999994754791, -4.282800197601318, -0.3172000050544739, -2.7390999794006348, -0.5144000053405762, 5.583199977874756]), f(x)=37.0895\n"
     ]
    },
    {
     "data": {
      "application/vnd.jupyter.widget-view+json": {
       "model_id": "777636379b31464db15f0da969e13827",
       "version_major": 2,
       "version_minor": 0
      },
      "text/plain": [
       "Training GP:   0%|          | 0/500 [00:00<?, ?it/s]"
      ]
     },
     "metadata": {},
     "output_type": "display_data"
    },
    {
     "name": "stdout",
     "output_type": "stream",
     "text": [
      "Iteration 88, incumbent x=([-8.085200309753418, -4.164599895477295, 1.2651000022888184, 5.773200035095215, 0.2842999994754791, -4.282800197601318, -0.3172000050544739, -2.7390999794006348, -0.5144000053405762, 5.583199977874756]), f(x)=37.0895\n"
     ]
    },
    {
     "data": {
      "application/vnd.jupyter.widget-view+json": {
       "model_id": "58984448f01348018520841fb18beb47",
       "version_major": 2,
       "version_minor": 0
      },
      "text/plain": [
       "Training GP:   0%|          | 0/500 [00:00<?, ?it/s]"
      ]
     },
     "metadata": {},
     "output_type": "display_data"
    },
    {
     "name": "stdout",
     "output_type": "stream",
     "text": [
      "Iteration 89, incumbent x=([-8.085200309753418, -4.164599895477295, 1.2651000022888184, 5.773200035095215, 0.2842999994754791, -4.282800197601318, -0.3172000050544739, -2.7390999794006348, -0.5144000053405762, 5.583199977874756]), f(x)=37.0895\n"
     ]
    },
    {
     "data": {
      "application/vnd.jupyter.widget-view+json": {
       "model_id": "527466d567a74b448b1d3f0b5ec783aa",
       "version_major": 2,
       "version_minor": 0
      },
      "text/plain": [
       "Training GP:   0%|          | 0/500 [00:00<?, ?it/s]"
      ]
     },
     "metadata": {},
     "output_type": "display_data"
    },
    {
     "name": "stdout",
     "output_type": "stream",
     "text": [
      "Iteration 90, incumbent x=([-8.085200309753418, -4.164599895477295, 1.2651000022888184, 5.773200035095215, 0.2842999994754791, -4.282800197601318, -0.3172000050544739, -2.7390999794006348, -0.5144000053405762, 5.583199977874756]), f(x)=37.0895\n"
     ]
    },
    {
     "data": {
      "application/vnd.jupyter.widget-view+json": {
       "model_id": "6f2c5ad3dcf84547b0fb835019c112c0",
       "version_major": 2,
       "version_minor": 0
      },
      "text/plain": [
       "Training GP:   0%|          | 0/500 [00:00<?, ?it/s]"
      ]
     },
     "metadata": {},
     "output_type": "display_data"
    },
    {
     "name": "stdout",
     "output_type": "stream",
     "text": [
      "Iteration 91, incumbent x=([-8.085200309753418, -4.164599895477295, 1.2651000022888184, 5.773200035095215, 0.2842999994754791, -4.282800197601318, -0.3172000050544739, -2.7390999794006348, -0.5144000053405762, 5.583199977874756]), f(x)=37.0895\n"
     ]
    },
    {
     "data": {
      "application/vnd.jupyter.widget-view+json": {
       "model_id": "3b97911779894083baeedb39a171f321",
       "version_major": 2,
       "version_minor": 0
      },
      "text/plain": [
       "Training GP:   0%|          | 0/500 [00:00<?, ?it/s]"
      ]
     },
     "metadata": {},
     "output_type": "display_data"
    },
    {
     "name": "stdout",
     "output_type": "stream",
     "text": [
      "Iteration 92, incumbent x=([-8.085200309753418, -4.164599895477295, 1.2651000022888184, 5.773200035095215, 0.2842999994754791, -4.282800197601318, -0.3172000050544739, -2.7390999794006348, -0.5144000053405762, 5.583199977874756]), f(x)=37.0895\n"
     ]
    },
    {
     "data": {
      "application/vnd.jupyter.widget-view+json": {
       "model_id": "b69c1ca3840a460ba177b2bd3b3c8144",
       "version_major": 2,
       "version_minor": 0
      },
      "text/plain": [
       "Training GP:   0%|          | 0/500 [00:00<?, ?it/s]"
      ]
     },
     "metadata": {},
     "output_type": "display_data"
    },
    {
     "name": "stdout",
     "output_type": "stream",
     "text": [
      "Iteration 93, incumbent x=([-8.085200309753418, -4.164599895477295, 1.2651000022888184, 5.773200035095215, 0.2842999994754791, -4.282800197601318, -0.3172000050544739, -2.7390999794006348, -0.5144000053405762, 5.583199977874756]), f(x)=37.0895\n"
     ]
    },
    {
     "data": {
      "application/vnd.jupyter.widget-view+json": {
       "model_id": "adc457fea85042169fa59638745b79e0",
       "version_major": 2,
       "version_minor": 0
      },
      "text/plain": [
       "Training GP:   0%|          | 0/500 [00:00<?, ?it/s]"
      ]
     },
     "metadata": {},
     "output_type": "display_data"
    },
    {
     "name": "stdout",
     "output_type": "stream",
     "text": [
      "Iteration 94, incumbent x=([-8.085200309753418, -4.164599895477295, 1.2651000022888184, 5.773200035095215, 0.2842999994754791, -4.282800197601318, -0.3172000050544739, -2.7390999794006348, -0.5144000053405762, 5.583199977874756]), f(x)=37.0895\n"
     ]
    },
    {
     "data": {
      "application/vnd.jupyter.widget-view+json": {
       "model_id": "9357827c69d540ca8e137b5e7014a431",
       "version_major": 2,
       "version_minor": 0
      },
      "text/plain": [
       "Training GP:   0%|          | 0/500 [00:00<?, ?it/s]"
      ]
     },
     "metadata": {},
     "output_type": "display_data"
    },
    {
     "name": "stdout",
     "output_type": "stream",
     "text": [
      "Iteration 95, incumbent x=([-8.085200309753418, -4.164599895477295, 1.2651000022888184, 5.773200035095215, 0.2842999994754791, -4.282800197601318, -0.3172000050544739, -2.7390999794006348, -0.5144000053405762, 5.583199977874756]), f(x)=37.0895\n"
     ]
    },
    {
     "data": {
      "application/vnd.jupyter.widget-view+json": {
       "model_id": "e77575285b61419f85a70a24ce9578a7",
       "version_major": 2,
       "version_minor": 0
      },
      "text/plain": [
       "Training GP:   0%|          | 0/500 [00:00<?, ?it/s]"
      ]
     },
     "metadata": {},
     "output_type": "display_data"
    },
    {
     "name": "stdout",
     "output_type": "stream",
     "text": [
      "Iteration 96, incumbent x=([-8.085200309753418, -4.164599895477295, 1.2651000022888184, 5.773200035095215, 0.2842999994754791, -4.282800197601318, -0.3172000050544739, -2.7390999794006348, -0.5144000053405762, 5.583199977874756]), f(x)=37.0895\n"
     ]
    },
    {
     "data": {
      "application/vnd.jupyter.widget-view+json": {
       "model_id": "fa590373180f4846b3485cd5d602b0a9",
       "version_major": 2,
       "version_minor": 0
      },
      "text/plain": [
       "Training GP:   0%|          | 0/500 [00:00<?, ?it/s]"
      ]
     },
     "metadata": {},
     "output_type": "display_data"
    },
    {
     "name": "stdout",
     "output_type": "stream",
     "text": [
      "Iteration 97, incumbent x=([-8.085200309753418, -4.164599895477295, 1.2651000022888184, 5.773200035095215, 0.2842999994754791, -4.282800197601318, -0.3172000050544739, -2.7390999794006348, -0.5144000053405762, 5.583199977874756]), f(x)=37.0895\n"
     ]
    },
    {
     "data": {
      "application/vnd.jupyter.widget-view+json": {
       "model_id": "2031bfd226e04589b894888b28073db2",
       "version_major": 2,
       "version_minor": 0
      },
      "text/plain": [
       "Training GP:   0%|          | 0/500 [00:00<?, ?it/s]"
      ]
     },
     "metadata": {},
     "output_type": "display_data"
    },
    {
     "name": "stdout",
     "output_type": "stream",
     "text": [
      "Iteration 98, incumbent x=([-8.085200309753418, -4.164599895477295, 1.2651000022888184, 5.773200035095215, 0.2842999994754791, -4.282800197601318, -0.3172000050544739, -2.7390999794006348, -0.5144000053405762, 5.583199977874756]), f(x)=37.0895\n"
     ]
    },
    {
     "data": {
      "application/vnd.jupyter.widget-view+json": {
       "model_id": "74bfa6653df44af2bb67731c9e928e64",
       "version_major": 2,
       "version_minor": 0
      },
      "text/plain": [
       "Training GP:   0%|          | 0/500 [00:00<?, ?it/s]"
      ]
     },
     "metadata": {},
     "output_type": "display_data"
    },
    {
     "name": "stdout",
     "output_type": "stream",
     "text": [
      "Iteration 99, incumbent x=([-8.085200309753418, -4.164599895477295, 1.2651000022888184, 5.773200035095215, 0.2842999994754791, -4.282800197601318, -0.3172000050544739, -2.7390999794006348, -0.5144000053405762, 5.583199977874756]), f(x)=37.0895\n"
     ]
    },
    {
     "data": {
      "application/vnd.jupyter.widget-view+json": {
       "model_id": "3bde7ee738af440e8bfc673015e28dec",
       "version_major": 2,
       "version_minor": 0
      },
      "text/plain": [
       "Training GP:   0%|          | 0/500 [00:00<?, ?it/s]"
      ]
     },
     "metadata": {},
     "output_type": "display_data"
    },
    {
     "name": "stdout",
     "output_type": "stream",
     "text": [
      "\n",
      "Run 6/10\n",
      "Initial points (x1, ..., x10, f(x)):\n",
      "tensor([[ 6.9845e-01, -6.0239e+00,  3.1842e+00,  3.1378e+00, -5.3448e+00,\n",
      "         -1.4988e+00, -5.8583e+00,  2.5947e+00, -2.6937e+00,  7.0254e+00,\n",
      "          9.5223e+01],\n",
      "        [ 7.0989e+00,  1.0187e+00, -4.2632e+00, -5.8736e+00, -1.0982e+00,\n",
      "         -2.8143e+00,  4.4076e+00, -8.5390e+00,  9.3984e+00, -7.8443e+00,\n",
      "          1.1552e+02],\n",
      "        [ 7.6576e+00, -1.7365e+00,  5.1439e+00,  3.8970e+00,  4.1860e-01,\n",
      "          1.8646e+00,  7.5941e+00,  2.5718e+00,  5.3055e+00, -7.7356e+00,\n",
      "          4.3294e+01],\n",
      "        [ 7.1189e+00,  3.4417e+00,  2.5330e+00,  1.3815e+00,  4.8747e+00,\n",
      "          9.1843e+00, -2.2252e+00, -5.5711e+00, -2.5160e+00, -6.0948e+00,\n",
      "          9.9498e+01],\n",
      "        [ 4.8105e+00, -4.9424e+00, -5.3370e+00,  8.6283e+00,  9.1508e+00,\n",
      "          1.1501e+00, -1.7316e+00, -1.2908e+00,  4.7372e+00, -9.3378e+00,\n",
      "          1.0696e+02],\n",
      "        [-8.1724e+00,  7.9881e+00,  9.8724e+00, -5.9425e-01, -7.9015e+00,\n",
      "          2.7323e-01, -4.6522e+00, -1.9225e-02,  4.8946e+00,  4.4267e+00,\n",
      "          8.5334e+01],\n",
      "        [-1.1726e+00,  1.1010e+00,  2.7214e+00, -7.8382e+00, -3.3904e+00,\n",
      "          3.9154e-01, -5.7061e+00, -4.3673e+00,  3.3588e+00,  5.7553e+00,\n",
      "          5.1071e+01],\n",
      "        [ 1.4012e-01, -3.8898e+00,  5.4752e+00, -5.4817e+00, -2.3472e+00,\n",
      "          9.4337e+00,  1.8417e+00,  7.0461e-01,  3.3711e+00, -2.4385e+00,\n",
      "          9.3136e+01],\n",
      "        [ 8.5558e+00, -8.1562e+00, -2.7508e+00, -1.7287e+00, -4.1147e+00,\n",
      "         -2.4750e+00,  6.1975e+00,  5.4869e+00,  5.5604e-01,  8.7119e+00,\n",
      "          7.9538e+01],\n",
      "        [-7.0605e+00, -5.9630e+00,  4.5182e+00, -5.3750e-01, -9.1129e+00,\n",
      "         -6.9216e+00, -6.0877e+00,  7.7221e+00,  4.5287e+00,  7.7361e+00,\n",
      "          1.7580e+02]])\n"
     ]
    },
    {
     "data": {
      "application/vnd.jupyter.widget-view+json": {
       "model_id": "664df8716d154c5cae2d936df5a8ce5d",
       "version_major": 2,
       "version_minor": 0
      },
      "text/plain": [
       "Training GP:   0%|          | 0/500 [00:00<?, ?it/s]"
      ]
     },
     "metadata": {},
     "output_type": "display_data"
    },
    {
     "name": "stdout",
     "output_type": "stream",
     "text": [
      "Iteration 0, incumbent x=([7.657599925994873, -1.7365000247955322, 5.143899917602539, 3.8970000743865967, 0.4185999929904938, 1.8645999431610107, 7.594099998474121, 2.5717999935150146, 5.305500030517578, -7.735599994659424]), f(x)=43.2941\n"
     ]
    },
    {
     "data": {
      "application/vnd.jupyter.widget-view+json": {
       "model_id": "d42ea970ef3a4955a306bbc8f76af3d5",
       "version_major": 2,
       "version_minor": 0
      },
      "text/plain": [
       "Training GP:   0%|          | 0/500 [00:00<?, ?it/s]"
      ]
     },
     "metadata": {},
     "output_type": "display_data"
    },
    {
     "name": "stdout",
     "output_type": "stream",
     "text": [
      "Iteration 1, incumbent x=([7.657599925994873, -1.7365000247955322, 5.143899917602539, 3.8970000743865967, 0.4185999929904938, 1.8645999431610107, 7.594099998474121, 2.5717999935150146, 5.305500030517578, -7.735599994659424]), f(x)=43.2941\n"
     ]
    },
    {
     "data": {
      "application/vnd.jupyter.widget-view+json": {
       "model_id": "3af581f88edf4f06aac27402d0be1f45",
       "version_major": 2,
       "version_minor": 0
      },
      "text/plain": [
       "Training GP:   0%|          | 0/500 [00:00<?, ?it/s]"
      ]
     },
     "metadata": {},
     "output_type": "display_data"
    },
    {
     "name": "stdout",
     "output_type": "stream",
     "text": [
      "Iteration 2, incumbent x=([7.657599925994873, -1.7365000247955322, 5.143899917602539, 3.8970000743865967, 0.4185999929904938, 1.8645999431610107, 7.594099998474121, 2.5717999935150146, 5.305500030517578, -7.735599994659424]), f(x)=43.2941\n"
     ]
    },
    {
     "data": {
      "application/vnd.jupyter.widget-view+json": {
       "model_id": "50c7b41cc8d245d5ad8bb9ed6b06d46e",
       "version_major": 2,
       "version_minor": 0
      },
      "text/plain": [
       "Training GP:   0%|          | 0/500 [00:00<?, ?it/s]"
      ]
     },
     "metadata": {},
     "output_type": "display_data"
    },
    {
     "name": "stdout",
     "output_type": "stream",
     "text": [
      "Iteration 3, incumbent x=([7.657599925994873, -1.7365000247955322, 5.143899917602539, 3.8970000743865967, 0.4185999929904938, 1.8645999431610107, 7.594099998474121, 2.5717999935150146, 5.305500030517578, -7.735599994659424]), f(x)=43.2941\n"
     ]
    },
    {
     "data": {
      "application/vnd.jupyter.widget-view+json": {
       "model_id": "d1cd5f2d723a4a3faeebfc6160d07b62",
       "version_major": 2,
       "version_minor": 0
      },
      "text/plain": [
       "Training GP:   0%|          | 0/500 [00:00<?, ?it/s]"
      ]
     },
     "metadata": {},
     "output_type": "display_data"
    },
    {
     "name": "stdout",
     "output_type": "stream",
     "text": [
      "Iteration 4, incumbent x=([7.657599925994873, -1.7365000247955322, 5.143899917602539, 3.8970000743865967, 0.4185999929904938, 1.8645999431610107, 7.594099998474121, 2.5717999935150146, 5.305500030517578, -7.735599994659424]), f(x)=43.2941\n"
     ]
    },
    {
     "data": {
      "application/vnd.jupyter.widget-view+json": {
       "model_id": "99a5d93fd3464905ba9ed3cdbb2c3ef3",
       "version_major": 2,
       "version_minor": 0
      },
      "text/plain": [
       "Training GP:   0%|          | 0/500 [00:00<?, ?it/s]"
      ]
     },
     "metadata": {},
     "output_type": "display_data"
    },
    {
     "name": "stdout",
     "output_type": "stream",
     "text": [
      "Iteration 5, incumbent x=([7.657599925994873, -1.7365000247955322, 5.143899917602539, 3.8970000743865967, 0.4185999929904938, 1.8645999431610107, 7.594099998474121, 2.5717999935150146, 5.305500030517578, -7.735599994659424]), f(x)=43.2941\n"
     ]
    },
    {
     "data": {
      "application/vnd.jupyter.widget-view+json": {
       "model_id": "3fb9be1a941243dea2e6434fd9e27d0c",
       "version_major": 2,
       "version_minor": 0
      },
      "text/plain": [
       "Training GP:   0%|          | 0/500 [00:00<?, ?it/s]"
      ]
     },
     "metadata": {},
     "output_type": "display_data"
    },
    {
     "name": "stdout",
     "output_type": "stream",
     "text": [
      "Iteration 6, incumbent x=([7.657599925994873, -1.7365000247955322, 5.143899917602539, 3.8970000743865967, 0.4185999929904938, 1.8645999431610107, 7.594099998474121, 2.5717999935150146, 5.305500030517578, -7.735599994659424]), f(x)=43.2941\n"
     ]
    },
    {
     "data": {
      "application/vnd.jupyter.widget-view+json": {
       "model_id": "eb5d7edb643a4be2967e6cc7f9adf5fa",
       "version_major": 2,
       "version_minor": 0
      },
      "text/plain": [
       "Training GP:   0%|          | 0/500 [00:00<?, ?it/s]"
      ]
     },
     "metadata": {},
     "output_type": "display_data"
    },
    {
     "name": "stdout",
     "output_type": "stream",
     "text": [
      "Iteration 7, incumbent x=([7.657599925994873, -1.7365000247955322, 5.143899917602539, 3.8970000743865967, 0.4185999929904938, 1.8645999431610107, 7.594099998474121, 2.5717999935150146, 5.305500030517578, -7.735599994659424]), f(x)=43.2941\n"
     ]
    },
    {
     "data": {
      "application/vnd.jupyter.widget-view+json": {
       "model_id": "dfdf44cc431c49f68808c919335ba8cf",
       "version_major": 2,
       "version_minor": 0
      },
      "text/plain": [
       "Training GP:   0%|          | 0/500 [00:00<?, ?it/s]"
      ]
     },
     "metadata": {},
     "output_type": "display_data"
    },
    {
     "name": "stdout",
     "output_type": "stream",
     "text": [
      "Iteration 8, incumbent x=([7.657599925994873, -1.7365000247955322, 5.143899917602539, 3.8970000743865967, 0.4185999929904938, 1.8645999431610107, 7.594099998474121, 2.5717999935150146, 5.305500030517578, -7.735599994659424]), f(x)=43.2941\n"
     ]
    },
    {
     "data": {
      "application/vnd.jupyter.widget-view+json": {
       "model_id": "519f2eeee6a44fdb86e3ad88edd90f93",
       "version_major": 2,
       "version_minor": 0
      },
      "text/plain": [
       "Training GP:   0%|          | 0/500 [00:00<?, ?it/s]"
      ]
     },
     "metadata": {},
     "output_type": "display_data"
    },
    {
     "name": "stdout",
     "output_type": "stream",
     "text": [
      "Iteration 9, incumbent x=([7.657599925994873, -1.7365000247955322, 5.143899917602539, 3.8970000743865967, 0.4185999929904938, 1.8645999431610107, 7.594099998474121, 2.5717999935150146, 5.305500030517578, -7.735599994659424]), f(x)=43.2941\n"
     ]
    },
    {
     "data": {
      "application/vnd.jupyter.widget-view+json": {
       "model_id": "dd3c7fabdf1c4b1b8757cd5bad1c96ea",
       "version_major": 2,
       "version_minor": 0
      },
      "text/plain": [
       "Training GP:   0%|          | 0/500 [00:00<?, ?it/s]"
      ]
     },
     "metadata": {},
     "output_type": "display_data"
    },
    {
     "name": "stdout",
     "output_type": "stream",
     "text": [
      "Iteration 10, incumbent x=([7.657599925994873, -1.7365000247955322, 5.143899917602539, 3.8970000743865967, 0.4185999929904938, 1.8645999431610107, 7.594099998474121, 2.5717999935150146, 5.305500030517578, -7.735599994659424]), f(x)=43.2941\n"
     ]
    },
    {
     "data": {
      "application/vnd.jupyter.widget-view+json": {
       "model_id": "444a2a528f9e4eddbff5c2b11d8e50bd",
       "version_major": 2,
       "version_minor": 0
      },
      "text/plain": [
       "Training GP:   0%|          | 0/500 [00:00<?, ?it/s]"
      ]
     },
     "metadata": {},
     "output_type": "display_data"
    },
    {
     "name": "stdout",
     "output_type": "stream",
     "text": [
      "Iteration 11, incumbent x=([3.1249001026153564, 2.4509999752044678, 4.885700225830078, 8.216300010681152, 1.5017999410629272, 0.6992999911308289, 3.6257998943328857, 3.8789000511169434, -8.461299896240234, 2.448499917984009]), f(x)=25.8494\n"
     ]
    },
    {
     "data": {
      "application/vnd.jupyter.widget-view+json": {
       "model_id": "130900028aee4d99a193ad5dab3ccaf8",
       "version_major": 2,
       "version_minor": 0
      },
      "text/plain": [
       "Training GP:   0%|          | 0/500 [00:00<?, ?it/s]"
      ]
     },
     "metadata": {},
     "output_type": "display_data"
    },
    {
     "name": "stdout",
     "output_type": "stream",
     "text": [
      "Iteration 12, incumbent x=([3.1249001026153564, 2.4509999752044678, 4.885700225830078, 8.216300010681152, 1.5017999410629272, 0.6992999911308289, 3.6257998943328857, 3.8789000511169434, -8.461299896240234, 2.448499917984009]), f(x)=25.8494\n"
     ]
    },
    {
     "data": {
      "application/vnd.jupyter.widget-view+json": {
       "model_id": "c9d829a6775b4f63af922b76d7bafd36",
       "version_major": 2,
       "version_minor": 0
      },
      "text/plain": [
       "Training GP:   0%|          | 0/500 [00:00<?, ?it/s]"
      ]
     },
     "metadata": {},
     "output_type": "display_data"
    },
    {
     "name": "stdout",
     "output_type": "stream",
     "text": [
      "Iteration 13, incumbent x=([3.1249001026153564, 2.4509999752044678, 4.885700225830078, 8.216300010681152, 1.5017999410629272, 0.6992999911308289, 3.6257998943328857, 3.8789000511169434, -8.461299896240234, 2.448499917984009]), f(x)=25.8494\n"
     ]
    },
    {
     "data": {
      "application/vnd.jupyter.widget-view+json": {
       "model_id": "e92926dca2f342fdb4329e6817781917",
       "version_major": 2,
       "version_minor": 0
      },
      "text/plain": [
       "Training GP:   0%|          | 0/500 [00:00<?, ?it/s]"
      ]
     },
     "metadata": {},
     "output_type": "display_data"
    },
    {
     "name": "stdout",
     "output_type": "stream",
     "text": [
      "Iteration 14, incumbent x=([3.1249001026153564, 2.4509999752044678, 4.885700225830078, 8.216300010681152, 1.5017999410629272, 0.6992999911308289, 3.6257998943328857, 3.8789000511169434, -8.461299896240234, 2.448499917984009]), f(x)=25.8494\n"
     ]
    },
    {
     "data": {
      "application/vnd.jupyter.widget-view+json": {
       "model_id": "735c7f83cc654bd883ed1ff43959a593",
       "version_major": 2,
       "version_minor": 0
      },
      "text/plain": [
       "Training GP:   0%|          | 0/500 [00:00<?, ?it/s]"
      ]
     },
     "metadata": {},
     "output_type": "display_data"
    },
    {
     "name": "stdout",
     "output_type": "stream",
     "text": [
      "Iteration 15, incumbent x=([3.1249001026153564, 2.4509999752044678, 4.885700225830078, 8.216300010681152, 1.5017999410629272, 0.6992999911308289, 3.6257998943328857, 3.8789000511169434, -8.461299896240234, 2.448499917984009]), f(x)=25.8494\n"
     ]
    },
    {
     "data": {
      "application/vnd.jupyter.widget-view+json": {
       "model_id": "a5564c01530c4b218e9b2c21dd885259",
       "version_major": 2,
       "version_minor": 0
      },
      "text/plain": [
       "Training GP:   0%|          | 0/500 [00:00<?, ?it/s]"
      ]
     },
     "metadata": {},
     "output_type": "display_data"
    },
    {
     "name": "stdout",
     "output_type": "stream",
     "text": [
      "Iteration 16, incumbent x=([3.1249001026153564, 2.4509999752044678, 4.885700225830078, 8.216300010681152, 1.5017999410629272, 0.6992999911308289, 3.6257998943328857, 3.8789000511169434, -8.461299896240234, 2.448499917984009]), f(x)=25.8494\n"
     ]
    },
    {
     "data": {
      "application/vnd.jupyter.widget-view+json": {
       "model_id": "6df067b48d3f45e4909290ba52667334",
       "version_major": 2,
       "version_minor": 0
      },
      "text/plain": [
       "Training GP:   0%|          | 0/500 [00:00<?, ?it/s]"
      ]
     },
     "metadata": {},
     "output_type": "display_data"
    },
    {
     "name": "stdout",
     "output_type": "stream",
     "text": [
      "Iteration 17, incumbent x=([3.1249001026153564, 2.4509999752044678, 4.885700225830078, 8.216300010681152, 1.5017999410629272, 0.6992999911308289, 3.6257998943328857, 3.8789000511169434, -8.461299896240234, 2.448499917984009]), f(x)=25.8494\n"
     ]
    },
    {
     "data": {
      "application/vnd.jupyter.widget-view+json": {
       "model_id": "509d0a55037d41b1b83a9748cd9a26fb",
       "version_major": 2,
       "version_minor": 0
      },
      "text/plain": [
       "Training GP:   0%|          | 0/500 [00:00<?, ?it/s]"
      ]
     },
     "metadata": {},
     "output_type": "display_data"
    },
    {
     "name": "stdout",
     "output_type": "stream",
     "text": [
      "Iteration 18, incumbent x=([3.1249001026153564, 2.4509999752044678, 4.885700225830078, 8.216300010681152, 1.5017999410629272, 0.6992999911308289, 3.6257998943328857, 3.8789000511169434, -8.461299896240234, 2.448499917984009]), f(x)=25.8494\n"
     ]
    },
    {
     "data": {
      "application/vnd.jupyter.widget-view+json": {
       "model_id": "23915d82fedd4931939d7603252af2fa",
       "version_major": 2,
       "version_minor": 0
      },
      "text/plain": [
       "Training GP:   0%|          | 0/500 [00:00<?, ?it/s]"
      ]
     },
     "metadata": {},
     "output_type": "display_data"
    },
    {
     "name": "stdout",
     "output_type": "stream",
     "text": [
      "Iteration 19, incumbent x=([3.1249001026153564, 2.4509999752044678, 4.885700225830078, 8.216300010681152, 1.5017999410629272, 0.6992999911308289, 3.6257998943328857, 3.8789000511169434, -8.461299896240234, 2.448499917984009]), f(x)=25.8494\n"
     ]
    },
    {
     "data": {
      "application/vnd.jupyter.widget-view+json": {
       "model_id": "19709c0a5bc54afbb1d95036b7439cfc",
       "version_major": 2,
       "version_minor": 0
      },
      "text/plain": [
       "Training GP:   0%|          | 0/500 [00:00<?, ?it/s]"
      ]
     },
     "metadata": {},
     "output_type": "display_data"
    },
    {
     "name": "stdout",
     "output_type": "stream",
     "text": [
      "Iteration 20, incumbent x=([3.1249001026153564, 2.4509999752044678, 4.885700225830078, 8.216300010681152, 1.5017999410629272, 0.6992999911308289, 3.6257998943328857, 3.8789000511169434, -8.461299896240234, 2.448499917984009]), f(x)=25.8494\n"
     ]
    },
    {
     "data": {
      "application/vnd.jupyter.widget-view+json": {
       "model_id": "711dccd7a25e45799323797335df00a0",
       "version_major": 2,
       "version_minor": 0
      },
      "text/plain": [
       "Training GP:   0%|          | 0/500 [00:00<?, ?it/s]"
      ]
     },
     "metadata": {},
     "output_type": "display_data"
    },
    {
     "name": "stdout",
     "output_type": "stream",
     "text": [
      "Iteration 21, incumbent x=([3.1249001026153564, 2.4509999752044678, 4.885700225830078, 8.216300010681152, 1.5017999410629272, 0.6992999911308289, 3.6257998943328857, 3.8789000511169434, -8.461299896240234, 2.448499917984009]), f(x)=25.8494\n"
     ]
    },
    {
     "data": {
      "application/vnd.jupyter.widget-view+json": {
       "model_id": "6172784057f8431d9dbd7e47276629ce",
       "version_major": 2,
       "version_minor": 0
      },
      "text/plain": [
       "Training GP:   0%|          | 0/500 [00:00<?, ?it/s]"
      ]
     },
     "metadata": {},
     "output_type": "display_data"
    },
    {
     "name": "stdout",
     "output_type": "stream",
     "text": [
      "Iteration 22, incumbent x=([3.1249001026153564, 2.4509999752044678, 4.885700225830078, 8.216300010681152, 1.5017999410629272, 0.6992999911308289, 3.6257998943328857, 3.8789000511169434, -8.461299896240234, 2.448499917984009]), f(x)=25.8494\n"
     ]
    },
    {
     "data": {
      "application/vnd.jupyter.widget-view+json": {
       "model_id": "48f1c2ecad1f448f908769dfe5f623fe",
       "version_major": 2,
       "version_minor": 0
      },
      "text/plain": [
       "Training GP:   0%|          | 0/500 [00:00<?, ?it/s]"
      ]
     },
     "metadata": {},
     "output_type": "display_data"
    },
    {
     "name": "stdout",
     "output_type": "stream",
     "text": [
      "Iteration 23, incumbent x=([3.1249001026153564, 2.4509999752044678, 4.885700225830078, 8.216300010681152, 1.5017999410629272, 0.6992999911308289, 3.6257998943328857, 3.8789000511169434, -8.461299896240234, 2.448499917984009]), f(x)=25.8494\n"
     ]
    },
    {
     "data": {
      "application/vnd.jupyter.widget-view+json": {
       "model_id": "367eb131cd054f26965568aa29cb4310",
       "version_major": 2,
       "version_minor": 0
      },
      "text/plain": [
       "Training GP:   0%|          | 0/500 [00:00<?, ?it/s]"
      ]
     },
     "metadata": {},
     "output_type": "display_data"
    },
    {
     "name": "stdout",
     "output_type": "stream",
     "text": [
      "Iteration 24, incumbent x=([3.1249001026153564, 2.4509999752044678, 4.885700225830078, 8.216300010681152, 1.5017999410629272, 0.6992999911308289, 3.6257998943328857, 3.8789000511169434, -8.461299896240234, 2.448499917984009]), f(x)=25.8494\n"
     ]
    },
    {
     "data": {
      "application/vnd.jupyter.widget-view+json": {
       "model_id": "fabf6a3409ec46f187e3735a5dde8d89",
       "version_major": 2,
       "version_minor": 0
      },
      "text/plain": [
       "Training GP:   0%|          | 0/500 [00:00<?, ?it/s]"
      ]
     },
     "metadata": {},
     "output_type": "display_data"
    },
    {
     "name": "stdout",
     "output_type": "stream",
     "text": [
      "Iteration 25, incumbent x=([3.1249001026153564, 2.4509999752044678, 4.885700225830078, 8.216300010681152, 1.5017999410629272, 0.6992999911308289, 3.6257998943328857, 3.8789000511169434, -8.461299896240234, 2.448499917984009]), f(x)=25.8494\n"
     ]
    },
    {
     "data": {
      "application/vnd.jupyter.widget-view+json": {
       "model_id": "af03d3f9ce6f4ffca710b2ed3266be51",
       "version_major": 2,
       "version_minor": 0
      },
      "text/plain": [
       "Training GP:   0%|          | 0/500 [00:00<?, ?it/s]"
      ]
     },
     "metadata": {},
     "output_type": "display_data"
    },
    {
     "name": "stdout",
     "output_type": "stream",
     "text": [
      "Iteration 26, incumbent x=([3.1249001026153564, 2.4509999752044678, 4.885700225830078, 8.216300010681152, 1.5017999410629272, 0.6992999911308289, 3.6257998943328857, 3.8789000511169434, -8.461299896240234, 2.448499917984009]), f(x)=25.8494\n"
     ]
    },
    {
     "data": {
      "application/vnd.jupyter.widget-view+json": {
       "model_id": "9ab6d8808700494dae2714ca67751668",
       "version_major": 2,
       "version_minor": 0
      },
      "text/plain": [
       "Training GP:   0%|          | 0/500 [00:00<?, ?it/s]"
      ]
     },
     "metadata": {},
     "output_type": "display_data"
    },
    {
     "name": "stdout",
     "output_type": "stream",
     "text": [
      "Iteration 27, incumbent x=([3.1249001026153564, 2.4509999752044678, 4.885700225830078, 8.216300010681152, 1.5017999410629272, 0.6992999911308289, 3.6257998943328857, 3.8789000511169434, -8.461299896240234, 2.448499917984009]), f(x)=25.8494\n"
     ]
    },
    {
     "data": {
      "application/vnd.jupyter.widget-view+json": {
       "model_id": "f06efca652044f9aa1aa842fe297e99b",
       "version_major": 2,
       "version_minor": 0
      },
      "text/plain": [
       "Training GP:   0%|          | 0/500 [00:00<?, ?it/s]"
      ]
     },
     "metadata": {},
     "output_type": "display_data"
    },
    {
     "name": "stdout",
     "output_type": "stream",
     "text": [
      "Iteration 28, incumbent x=([3.1249001026153564, 2.4509999752044678, 4.885700225830078, 8.216300010681152, 1.5017999410629272, 0.6992999911308289, 3.6257998943328857, 3.8789000511169434, -8.461299896240234, 2.448499917984009]), f(x)=25.8494\n"
     ]
    },
    {
     "data": {
      "application/vnd.jupyter.widget-view+json": {
       "model_id": "43cb3ba1cd144e29a72f5c4ceaab86ff",
       "version_major": 2,
       "version_minor": 0
      },
      "text/plain": [
       "Training GP:   0%|          | 0/500 [00:00<?, ?it/s]"
      ]
     },
     "metadata": {},
     "output_type": "display_data"
    },
    {
     "name": "stdout",
     "output_type": "stream",
     "text": [
      "Iteration 29, incumbent x=([3.1249001026153564, 2.4509999752044678, 4.885700225830078, 8.216300010681152, 1.5017999410629272, 0.6992999911308289, 3.6257998943328857, 3.8789000511169434, -8.461299896240234, 2.448499917984009]), f(x)=25.8494\n"
     ]
    },
    {
     "data": {
      "application/vnd.jupyter.widget-view+json": {
       "model_id": "a90e90370930492eb36cc719de901366",
       "version_major": 2,
       "version_minor": 0
      },
      "text/plain": [
       "Training GP:   0%|          | 0/500 [00:00<?, ?it/s]"
      ]
     },
     "metadata": {},
     "output_type": "display_data"
    },
    {
     "name": "stdout",
     "output_type": "stream",
     "text": [
      "Iteration 30, incumbent x=([3.1249001026153564, 2.4509999752044678, 4.885700225830078, 8.216300010681152, 1.5017999410629272, 0.6992999911308289, 3.6257998943328857, 3.8789000511169434, -8.461299896240234, 2.448499917984009]), f(x)=25.8494\n"
     ]
    },
    {
     "data": {
      "application/vnd.jupyter.widget-view+json": {
       "model_id": "dfc9b3e5612840ea9c00b2a9d308575d",
       "version_major": 2,
       "version_minor": 0
      },
      "text/plain": [
       "Training GP:   0%|          | 0/500 [00:00<?, ?it/s]"
      ]
     },
     "metadata": {},
     "output_type": "display_data"
    },
    {
     "name": "stdout",
     "output_type": "stream",
     "text": [
      "Iteration 31, incumbent x=([3.1249001026153564, 2.4509999752044678, 4.885700225830078, 8.216300010681152, 1.5017999410629272, 0.6992999911308289, 3.6257998943328857, 3.8789000511169434, -8.461299896240234, 2.448499917984009]), f(x)=25.8494\n"
     ]
    },
    {
     "data": {
      "application/vnd.jupyter.widget-view+json": {
       "model_id": "feab7b34026f45908cd9ff72923b88d1",
       "version_major": 2,
       "version_minor": 0
      },
      "text/plain": [
       "Training GP:   0%|          | 0/500 [00:00<?, ?it/s]"
      ]
     },
     "metadata": {},
     "output_type": "display_data"
    },
    {
     "name": "stdout",
     "output_type": "stream",
     "text": [
      "Iteration 32, incumbent x=([3.1249001026153564, 2.4509999752044678, 4.885700225830078, 8.216300010681152, 1.5017999410629272, 0.6992999911308289, 3.6257998943328857, 3.8789000511169434, -8.461299896240234, 2.448499917984009]), f(x)=25.8494\n"
     ]
    },
    {
     "data": {
      "application/vnd.jupyter.widget-view+json": {
       "model_id": "684f173769a1404185cdfeced2811faa",
       "version_major": 2,
       "version_minor": 0
      },
      "text/plain": [
       "Training GP:   0%|          | 0/500 [00:00<?, ?it/s]"
      ]
     },
     "metadata": {},
     "output_type": "display_data"
    },
    {
     "name": "stdout",
     "output_type": "stream",
     "text": [
      "Iteration 33, incumbent x=([3.1249001026153564, 2.4509999752044678, 4.885700225830078, 8.216300010681152, 1.5017999410629272, 0.6992999911308289, 3.6257998943328857, 3.8789000511169434, -8.461299896240234, 2.448499917984009]), f(x)=25.8494\n"
     ]
    },
    {
     "data": {
      "application/vnd.jupyter.widget-view+json": {
       "model_id": "469e20c050bc4239b0866ed23ede2fe6",
       "version_major": 2,
       "version_minor": 0
      },
      "text/plain": [
       "Training GP:   0%|          | 0/500 [00:00<?, ?it/s]"
      ]
     },
     "metadata": {},
     "output_type": "display_data"
    },
    {
     "name": "stdout",
     "output_type": "stream",
     "text": [
      "Iteration 34, incumbent x=([3.1249001026153564, 2.4509999752044678, 4.885700225830078, 8.216300010681152, 1.5017999410629272, 0.6992999911308289, 3.6257998943328857, 3.8789000511169434, -8.461299896240234, 2.448499917984009]), f(x)=25.8494\n"
     ]
    },
    {
     "data": {
      "application/vnd.jupyter.widget-view+json": {
       "model_id": "a2f8048904494ab6bca366aae0dc3ba7",
       "version_major": 2,
       "version_minor": 0
      },
      "text/plain": [
       "Training GP:   0%|          | 0/500 [00:00<?, ?it/s]"
      ]
     },
     "metadata": {},
     "output_type": "display_data"
    },
    {
     "name": "stdout",
     "output_type": "stream",
     "text": [
      "Iteration 35, incumbent x=([3.1249001026153564, 2.4509999752044678, 4.885700225830078, 8.216300010681152, 1.5017999410629272, 0.6992999911308289, 3.6257998943328857, 3.8789000511169434, -8.461299896240234, 2.448499917984009]), f(x)=25.8494\n"
     ]
    },
    {
     "data": {
      "application/vnd.jupyter.widget-view+json": {
       "model_id": "69b7df4dfea64d3cbe300cd4665498cb",
       "version_major": 2,
       "version_minor": 0
      },
      "text/plain": [
       "Training GP:   0%|          | 0/500 [00:00<?, ?it/s]"
      ]
     },
     "metadata": {},
     "output_type": "display_data"
    },
    {
     "name": "stdout",
     "output_type": "stream",
     "text": [
      "Iteration 36, incumbent x=([3.1249001026153564, 2.4509999752044678, 4.885700225830078, 8.216300010681152, 1.5017999410629272, 0.6992999911308289, 3.6257998943328857, 3.8789000511169434, -8.461299896240234, 2.448499917984009]), f(x)=25.8494\n"
     ]
    },
    {
     "data": {
      "application/vnd.jupyter.widget-view+json": {
       "model_id": "aa1687e4c3264ffe9b35e5d5d127d83a",
       "version_major": 2,
       "version_minor": 0
      },
      "text/plain": [
       "Training GP:   0%|          | 0/500 [00:00<?, ?it/s]"
      ]
     },
     "metadata": {},
     "output_type": "display_data"
    },
    {
     "name": "stdout",
     "output_type": "stream",
     "text": [
      "Iteration 37, incumbent x=([3.1249001026153564, 2.4509999752044678, 4.885700225830078, 8.216300010681152, 1.5017999410629272, 0.6992999911308289, 3.6257998943328857, 3.8789000511169434, -8.461299896240234, 2.448499917984009]), f(x)=25.8494\n"
     ]
    },
    {
     "data": {
      "application/vnd.jupyter.widget-view+json": {
       "model_id": "a1dd3a2bc9f7443583534c5efcb7ccc7",
       "version_major": 2,
       "version_minor": 0
      },
      "text/plain": [
       "Training GP:   0%|          | 0/500 [00:00<?, ?it/s]"
      ]
     },
     "metadata": {},
     "output_type": "display_data"
    },
    {
     "name": "stdout",
     "output_type": "stream",
     "text": [
      "Iteration 38, incumbent x=([3.1249001026153564, 2.4509999752044678, 4.885700225830078, 8.216300010681152, 1.5017999410629272, 0.6992999911308289, 3.6257998943328857, 3.8789000511169434, -8.461299896240234, 2.448499917984009]), f(x)=25.8494\n"
     ]
    },
    {
     "data": {
      "application/vnd.jupyter.widget-view+json": {
       "model_id": "84bb44927ec144aea490c2124d9f3c7c",
       "version_major": 2,
       "version_minor": 0
      },
      "text/plain": [
       "Training GP:   0%|          | 0/500 [00:00<?, ?it/s]"
      ]
     },
     "metadata": {},
     "output_type": "display_data"
    },
    {
     "name": "stdout",
     "output_type": "stream",
     "text": [
      "Iteration 39, incumbent x=([3.1249001026153564, 2.4509999752044678, 4.885700225830078, 8.216300010681152, 1.5017999410629272, 0.6992999911308289, 3.6257998943328857, 3.8789000511169434, -8.461299896240234, 2.448499917984009]), f(x)=25.8494\n"
     ]
    },
    {
     "data": {
      "application/vnd.jupyter.widget-view+json": {
       "model_id": "b9abb0875ede42d480499cd93f1bd2ce",
       "version_major": 2,
       "version_minor": 0
      },
      "text/plain": [
       "Training GP:   0%|          | 0/500 [00:00<?, ?it/s]"
      ]
     },
     "metadata": {},
     "output_type": "display_data"
    },
    {
     "name": "stdout",
     "output_type": "stream",
     "text": [
      "Iteration 40, incumbent x=([3.1249001026153564, 2.4509999752044678, 4.885700225830078, 8.216300010681152, 1.5017999410629272, 0.6992999911308289, 3.6257998943328857, 3.8789000511169434, -8.461299896240234, 2.448499917984009]), f(x)=25.8494\n"
     ]
    },
    {
     "data": {
      "application/vnd.jupyter.widget-view+json": {
       "model_id": "9373a2d0663b45028d1c5505bdd3660b",
       "version_major": 2,
       "version_minor": 0
      },
      "text/plain": [
       "Training GP:   0%|          | 0/500 [00:00<?, ?it/s]"
      ]
     },
     "metadata": {},
     "output_type": "display_data"
    },
    {
     "name": "stdout",
     "output_type": "stream",
     "text": [
      "Iteration 41, incumbent x=([3.1249001026153564, 2.4509999752044678, 4.885700225830078, 8.216300010681152, 1.5017999410629272, 0.6992999911308289, 3.6257998943328857, 3.8789000511169434, -8.461299896240234, 2.448499917984009]), f(x)=25.8494\n"
     ]
    },
    {
     "data": {
      "application/vnd.jupyter.widget-view+json": {
       "model_id": "7fcd89c8bfb94d8da8927fec46156bd5",
       "version_major": 2,
       "version_minor": 0
      },
      "text/plain": [
       "Training GP:   0%|          | 0/500 [00:00<?, ?it/s]"
      ]
     },
     "metadata": {},
     "output_type": "display_data"
    },
    {
     "name": "stdout",
     "output_type": "stream",
     "text": [
      "Iteration 42, incumbent x=([3.1249001026153564, 2.4509999752044678, 4.885700225830078, 8.216300010681152, 1.5017999410629272, 0.6992999911308289, 3.6257998943328857, 3.8789000511169434, -8.461299896240234, 2.448499917984009]), f(x)=25.8494\n"
     ]
    },
    {
     "data": {
      "application/vnd.jupyter.widget-view+json": {
       "model_id": "8d7286e9e39948b5a5a83da7b730334e",
       "version_major": 2,
       "version_minor": 0
      },
      "text/plain": [
       "Training GP:   0%|          | 0/500 [00:00<?, ?it/s]"
      ]
     },
     "metadata": {},
     "output_type": "display_data"
    },
    {
     "name": "stdout",
     "output_type": "stream",
     "text": [
      "Iteration 43, incumbent x=([3.1249001026153564, 2.4509999752044678, 4.885700225830078, 8.216300010681152, 1.5017999410629272, 0.6992999911308289, 3.6257998943328857, 3.8789000511169434, -8.461299896240234, 2.448499917984009]), f(x)=25.8494\n"
     ]
    },
    {
     "data": {
      "application/vnd.jupyter.widget-view+json": {
       "model_id": "2897c263f72c45398472f866b9ff94f1",
       "version_major": 2,
       "version_minor": 0
      },
      "text/plain": [
       "Training GP:   0%|          | 0/500 [00:00<?, ?it/s]"
      ]
     },
     "metadata": {},
     "output_type": "display_data"
    },
    {
     "name": "stdout",
     "output_type": "stream",
     "text": [
      "Iteration 44, incumbent x=([3.1249001026153564, 2.4509999752044678, 4.885700225830078, 8.216300010681152, 1.5017999410629272, 0.6992999911308289, 3.6257998943328857, 3.8789000511169434, -8.461299896240234, 2.448499917984009]), f(x)=25.8494\n"
     ]
    },
    {
     "data": {
      "application/vnd.jupyter.widget-view+json": {
       "model_id": "de247835d01749828a661c5fd5610a74",
       "version_major": 2,
       "version_minor": 0
      },
      "text/plain": [
       "Training GP:   0%|          | 0/500 [00:00<?, ?it/s]"
      ]
     },
     "metadata": {},
     "output_type": "display_data"
    },
    {
     "name": "stdout",
     "output_type": "stream",
     "text": [
      "Iteration 45, incumbent x=([3.1249001026153564, 2.4509999752044678, 4.885700225830078, 8.216300010681152, 1.5017999410629272, 0.6992999911308289, 3.6257998943328857, 3.8789000511169434, -8.461299896240234, 2.448499917984009]), f(x)=25.8494\n"
     ]
    },
    {
     "data": {
      "application/vnd.jupyter.widget-view+json": {
       "model_id": "569b2728e68940729c08aec5162691ea",
       "version_major": 2,
       "version_minor": 0
      },
      "text/plain": [
       "Training GP:   0%|          | 0/500 [00:00<?, ?it/s]"
      ]
     },
     "metadata": {},
     "output_type": "display_data"
    },
    {
     "name": "stdout",
     "output_type": "stream",
     "text": [
      "Iteration 46, incumbent x=([3.1249001026153564, 2.4509999752044678, 4.885700225830078, 8.216300010681152, 1.5017999410629272, 0.6992999911308289, 3.6257998943328857, 3.8789000511169434, -8.461299896240234, 2.448499917984009]), f(x)=25.8494\n"
     ]
    },
    {
     "data": {
      "application/vnd.jupyter.widget-view+json": {
       "model_id": "5e49954a2bd7480ab9a56bfc27763400",
       "version_major": 2,
       "version_minor": 0
      },
      "text/plain": [
       "Training GP:   0%|          | 0/500 [00:00<?, ?it/s]"
      ]
     },
     "metadata": {},
     "output_type": "display_data"
    },
    {
     "name": "stdout",
     "output_type": "stream",
     "text": [
      "Iteration 47, incumbent x=([3.1249001026153564, 2.4509999752044678, 4.885700225830078, 8.216300010681152, 1.5017999410629272, 0.6992999911308289, 3.6257998943328857, 3.8789000511169434, -8.461299896240234, 2.448499917984009]), f(x)=25.8494\n"
     ]
    },
    {
     "data": {
      "application/vnd.jupyter.widget-view+json": {
       "model_id": "d4da6ae8badb4178b0f355b2538f3e28",
       "version_major": 2,
       "version_minor": 0
      },
      "text/plain": [
       "Training GP:   0%|          | 0/500 [00:00<?, ?it/s]"
      ]
     },
     "metadata": {},
     "output_type": "display_data"
    },
    {
     "name": "stdout",
     "output_type": "stream",
     "text": [
      "Iteration 48, incumbent x=([3.1249001026153564, 2.4509999752044678, 4.885700225830078, 8.216300010681152, 1.5017999410629272, 0.6992999911308289, 3.6257998943328857, 3.8789000511169434, -8.461299896240234, 2.448499917984009]), f(x)=25.8494\n"
     ]
    },
    {
     "data": {
      "application/vnd.jupyter.widget-view+json": {
       "model_id": "67483c11a2ca417ab0b599094a65b1cc",
       "version_major": 2,
       "version_minor": 0
      },
      "text/plain": [
       "Training GP:   0%|          | 0/500 [00:00<?, ?it/s]"
      ]
     },
     "metadata": {},
     "output_type": "display_data"
    },
    {
     "name": "stdout",
     "output_type": "stream",
     "text": [
      "Iteration 49, incumbent x=([3.1249001026153564, 2.4509999752044678, 4.885700225830078, 8.216300010681152, 1.5017999410629272, 0.6992999911308289, 3.6257998943328857, 3.8789000511169434, -8.461299896240234, 2.448499917984009]), f(x)=25.8494\n"
     ]
    },
    {
     "data": {
      "application/vnd.jupyter.widget-view+json": {
       "model_id": "e5cefcaab13f478584cb15e3c18ad1ba",
       "version_major": 2,
       "version_minor": 0
      },
      "text/plain": [
       "Training GP:   0%|          | 0/500 [00:00<?, ?it/s]"
      ]
     },
     "metadata": {},
     "output_type": "display_data"
    },
    {
     "name": "stdout",
     "output_type": "stream",
     "text": [
      "Iteration 50, incumbent x=([3.1249001026153564, 2.4509999752044678, 4.885700225830078, 8.216300010681152, 1.5017999410629272, 0.6992999911308289, 3.6257998943328857, 3.8789000511169434, -8.461299896240234, 2.448499917984009]), f(x)=25.8494\n"
     ]
    },
    {
     "data": {
      "application/vnd.jupyter.widget-view+json": {
       "model_id": "ab50d818b46244019751554a2da6c30b",
       "version_major": 2,
       "version_minor": 0
      },
      "text/plain": [
       "Training GP:   0%|          | 0/500 [00:00<?, ?it/s]"
      ]
     },
     "metadata": {},
     "output_type": "display_data"
    },
    {
     "name": "stdout",
     "output_type": "stream",
     "text": [
      "Iteration 51, incumbent x=([3.1249001026153564, 2.4509999752044678, 4.885700225830078, 8.216300010681152, 1.5017999410629272, 0.6992999911308289, 3.6257998943328857, 3.8789000511169434, -8.461299896240234, 2.448499917984009]), f(x)=25.8494\n"
     ]
    },
    {
     "data": {
      "application/vnd.jupyter.widget-view+json": {
       "model_id": "f883948e83dc4d7caa4f58036a69ee77",
       "version_major": 2,
       "version_minor": 0
      },
      "text/plain": [
       "Training GP:   0%|          | 0/500 [00:00<?, ?it/s]"
      ]
     },
     "metadata": {},
     "output_type": "display_data"
    },
    {
     "name": "stdout",
     "output_type": "stream",
     "text": [
      "Iteration 52, incumbent x=([3.1249001026153564, 2.4509999752044678, 4.885700225830078, 8.216300010681152, 1.5017999410629272, 0.6992999911308289, 3.6257998943328857, 3.8789000511169434, -8.461299896240234, 2.448499917984009]), f(x)=25.8494\n"
     ]
    },
    {
     "data": {
      "application/vnd.jupyter.widget-view+json": {
       "model_id": "f47a8decd71d47f3949872232a41b011",
       "version_major": 2,
       "version_minor": 0
      },
      "text/plain": [
       "Training GP:   0%|          | 0/500 [00:00<?, ?it/s]"
      ]
     },
     "metadata": {},
     "output_type": "display_data"
    },
    {
     "name": "stdout",
     "output_type": "stream",
     "text": [
      "Iteration 53, incumbent x=([3.1249001026153564, 2.4509999752044678, 4.885700225830078, 8.216300010681152, 1.5017999410629272, 0.6992999911308289, 3.6257998943328857, 3.8789000511169434, -8.461299896240234, 2.448499917984009]), f(x)=25.8494\n"
     ]
    },
    {
     "data": {
      "application/vnd.jupyter.widget-view+json": {
       "model_id": "b0e6f20a5b6b4a91984765b4c1ea7f01",
       "version_major": 2,
       "version_minor": 0
      },
      "text/plain": [
       "Training GP:   0%|          | 0/500 [00:00<?, ?it/s]"
      ]
     },
     "metadata": {},
     "output_type": "display_data"
    },
    {
     "name": "stdout",
     "output_type": "stream",
     "text": [
      "Iteration 54, incumbent x=([3.1249001026153564, 2.4509999752044678, 4.885700225830078, 8.216300010681152, 1.5017999410629272, 0.6992999911308289, 3.6257998943328857, 3.8789000511169434, -8.461299896240234, 2.448499917984009]), f(x)=25.8494\n"
     ]
    },
    {
     "data": {
      "application/vnd.jupyter.widget-view+json": {
       "model_id": "22076ec9c1b549a9a42b62624cd0af0a",
       "version_major": 2,
       "version_minor": 0
      },
      "text/plain": [
       "Training GP:   0%|          | 0/500 [00:00<?, ?it/s]"
      ]
     },
     "metadata": {},
     "output_type": "display_data"
    },
    {
     "name": "stdout",
     "output_type": "stream",
     "text": [
      "Iteration 55, incumbent x=([3.1249001026153564, 2.4509999752044678, 4.885700225830078, 8.216300010681152, 1.5017999410629272, 0.6992999911308289, 3.6257998943328857, 3.8789000511169434, -8.461299896240234, 2.448499917984009]), f(x)=25.8494\n"
     ]
    },
    {
     "data": {
      "application/vnd.jupyter.widget-view+json": {
       "model_id": "acd56c47e88d43e4b7e697db1c52eeda",
       "version_major": 2,
       "version_minor": 0
      },
      "text/plain": [
       "Training GP:   0%|          | 0/500 [00:00<?, ?it/s]"
      ]
     },
     "metadata": {},
     "output_type": "display_data"
    },
    {
     "name": "stdout",
     "output_type": "stream",
     "text": [
      "Iteration 56, incumbent x=([3.1249001026153564, 2.4509999752044678, 4.885700225830078, 8.216300010681152, 1.5017999410629272, 0.6992999911308289, 3.6257998943328857, 3.8789000511169434, -8.461299896240234, 2.448499917984009]), f(x)=25.8494\n"
     ]
    },
    {
     "data": {
      "application/vnd.jupyter.widget-view+json": {
       "model_id": "da7b8fbbe9ce4065be61ac0252890263",
       "version_major": 2,
       "version_minor": 0
      },
      "text/plain": [
       "Training GP:   0%|          | 0/500 [00:00<?, ?it/s]"
      ]
     },
     "metadata": {},
     "output_type": "display_data"
    },
    {
     "name": "stdout",
     "output_type": "stream",
     "text": [
      "Iteration 57, incumbent x=([3.1249001026153564, 2.4509999752044678, 4.885700225830078, 8.216300010681152, 1.5017999410629272, 0.6992999911308289, 3.6257998943328857, 3.8789000511169434, -8.461299896240234, 2.448499917984009]), f(x)=25.8494\n"
     ]
    },
    {
     "data": {
      "application/vnd.jupyter.widget-view+json": {
       "model_id": "988f220242b44b0da893c8abc1736926",
       "version_major": 2,
       "version_minor": 0
      },
      "text/plain": [
       "Training GP:   0%|          | 0/500 [00:00<?, ?it/s]"
      ]
     },
     "metadata": {},
     "output_type": "display_data"
    },
    {
     "name": "stdout",
     "output_type": "stream",
     "text": [
      "Iteration 58, incumbent x=([3.1249001026153564, 2.4509999752044678, 4.885700225830078, 8.216300010681152, 1.5017999410629272, 0.6992999911308289, 3.6257998943328857, 3.8789000511169434, -8.461299896240234, 2.448499917984009]), f(x)=25.8494\n"
     ]
    },
    {
     "data": {
      "application/vnd.jupyter.widget-view+json": {
       "model_id": "7c083315b04842a7a71030ae48244f66",
       "version_major": 2,
       "version_minor": 0
      },
      "text/plain": [
       "Training GP:   0%|          | 0/500 [00:00<?, ?it/s]"
      ]
     },
     "metadata": {},
     "output_type": "display_data"
    },
    {
     "name": "stdout",
     "output_type": "stream",
     "text": [
      "Iteration 59, incumbent x=([3.1249001026153564, 2.4509999752044678, 4.885700225830078, 8.216300010681152, 1.5017999410629272, 0.6992999911308289, 3.6257998943328857, 3.8789000511169434, -8.461299896240234, 2.448499917984009]), f(x)=25.8494\n"
     ]
    },
    {
     "data": {
      "application/vnd.jupyter.widget-view+json": {
       "model_id": "296c6a04c9464e0798bd688f76fa3d7c",
       "version_major": 2,
       "version_minor": 0
      },
      "text/plain": [
       "Training GP:   0%|          | 0/500 [00:00<?, ?it/s]"
      ]
     },
     "metadata": {},
     "output_type": "display_data"
    },
    {
     "name": "stdout",
     "output_type": "stream",
     "text": [
      "Iteration 60, incumbent x=([3.1249001026153564, 2.4509999752044678, 4.885700225830078, 8.216300010681152, 1.5017999410629272, 0.6992999911308289, 3.6257998943328857, 3.8789000511169434, -8.461299896240234, 2.448499917984009]), f(x)=25.8494\n"
     ]
    },
    {
     "data": {
      "application/vnd.jupyter.widget-view+json": {
       "model_id": "7cc9bc5270bc483ba50576cac0ef615e",
       "version_major": 2,
       "version_minor": 0
      },
      "text/plain": [
       "Training GP:   0%|          | 0/500 [00:00<?, ?it/s]"
      ]
     },
     "metadata": {},
     "output_type": "display_data"
    },
    {
     "name": "stdout",
     "output_type": "stream",
     "text": [
      "Iteration 61, incumbent x=([3.1249001026153564, 2.4509999752044678, 4.885700225830078, 8.216300010681152, 1.5017999410629272, 0.6992999911308289, 3.6257998943328857, 3.8789000511169434, -8.461299896240234, 2.448499917984009]), f(x)=25.8494\n"
     ]
    },
    {
     "data": {
      "application/vnd.jupyter.widget-view+json": {
       "model_id": "ca149d02242b49c1a4e2f69831584336",
       "version_major": 2,
       "version_minor": 0
      },
      "text/plain": [
       "Training GP:   0%|          | 0/500 [00:00<?, ?it/s]"
      ]
     },
     "metadata": {},
     "output_type": "display_data"
    },
    {
     "name": "stdout",
     "output_type": "stream",
     "text": [
      "Iteration 62, incumbent x=([3.1249001026153564, 2.4509999752044678, 4.885700225830078, 8.216300010681152, 1.5017999410629272, 0.6992999911308289, 3.6257998943328857, 3.8789000511169434, -8.461299896240234, 2.448499917984009]), f(x)=25.8494\n"
     ]
    },
    {
     "data": {
      "application/vnd.jupyter.widget-view+json": {
       "model_id": "a2dd33b8750f4cb6a9dad067d2fd020d",
       "version_major": 2,
       "version_minor": 0
      },
      "text/plain": [
       "Training GP:   0%|          | 0/500 [00:00<?, ?it/s]"
      ]
     },
     "metadata": {},
     "output_type": "display_data"
    },
    {
     "name": "stdout",
     "output_type": "stream",
     "text": [
      "Iteration 63, incumbent x=([3.1249001026153564, 2.4509999752044678, 4.885700225830078, 8.216300010681152, 1.5017999410629272, 0.6992999911308289, 3.6257998943328857, 3.8789000511169434, -8.461299896240234, 2.448499917984009]), f(x)=25.8494\n"
     ]
    },
    {
     "data": {
      "application/vnd.jupyter.widget-view+json": {
       "model_id": "43ac69e6be424bce8914a5bc05282327",
       "version_major": 2,
       "version_minor": 0
      },
      "text/plain": [
       "Training GP:   0%|          | 0/500 [00:00<?, ?it/s]"
      ]
     },
     "metadata": {},
     "output_type": "display_data"
    },
    {
     "name": "stdout",
     "output_type": "stream",
     "text": [
      "Iteration 64, incumbent x=([3.1249001026153564, 2.4509999752044678, 4.885700225830078, 8.216300010681152, 1.5017999410629272, 0.6992999911308289, 3.6257998943328857, 3.8789000511169434, -8.461299896240234, 2.448499917984009]), f(x)=25.8494\n"
     ]
    },
    {
     "data": {
      "application/vnd.jupyter.widget-view+json": {
       "model_id": "b870edc493df49e69564ef973d606201",
       "version_major": 2,
       "version_minor": 0
      },
      "text/plain": [
       "Training GP:   0%|          | 0/500 [00:00<?, ?it/s]"
      ]
     },
     "metadata": {},
     "output_type": "display_data"
    },
    {
     "name": "stdout",
     "output_type": "stream",
     "text": [
      "Iteration 65, incumbent x=([3.1249001026153564, 2.4509999752044678, 4.885700225830078, 8.216300010681152, 1.5017999410629272, 0.6992999911308289, 3.6257998943328857, 3.8789000511169434, -8.461299896240234, 2.448499917984009]), f(x)=25.8494\n"
     ]
    },
    {
     "data": {
      "application/vnd.jupyter.widget-view+json": {
       "model_id": "0ba59c07431142bc91d066935faab521",
       "version_major": 2,
       "version_minor": 0
      },
      "text/plain": [
       "Training GP:   0%|          | 0/500 [00:00<?, ?it/s]"
      ]
     },
     "metadata": {},
     "output_type": "display_data"
    },
    {
     "name": "stdout",
     "output_type": "stream",
     "text": [
      "Iteration 66, incumbent x=([3.1249001026153564, 2.4509999752044678, 4.885700225830078, 8.216300010681152, 1.5017999410629272, 0.6992999911308289, 3.6257998943328857, 3.8789000511169434, -8.461299896240234, 2.448499917984009]), f(x)=25.8494\n"
     ]
    },
    {
     "data": {
      "application/vnd.jupyter.widget-view+json": {
       "model_id": "54e3c07638024a5392397040636a75a9",
       "version_major": 2,
       "version_minor": 0
      },
      "text/plain": [
       "Training GP:   0%|          | 0/500 [00:00<?, ?it/s]"
      ]
     },
     "metadata": {},
     "output_type": "display_data"
    },
    {
     "name": "stdout",
     "output_type": "stream",
     "text": [
      "Iteration 67, incumbent x=([3.1249001026153564, 2.4509999752044678, 4.885700225830078, 8.216300010681152, 1.5017999410629272, 0.6992999911308289, 3.6257998943328857, 3.8789000511169434, -8.461299896240234, 2.448499917984009]), f(x)=25.8494\n"
     ]
    },
    {
     "data": {
      "application/vnd.jupyter.widget-view+json": {
       "model_id": "42749afe605a43f292d9acc46b337c6e",
       "version_major": 2,
       "version_minor": 0
      },
      "text/plain": [
       "Training GP:   0%|          | 0/500 [00:00<?, ?it/s]"
      ]
     },
     "metadata": {},
     "output_type": "display_data"
    },
    {
     "name": "stdout",
     "output_type": "stream",
     "text": [
      "Iteration 68, incumbent x=([3.1249001026153564, 2.4509999752044678, 4.885700225830078, 8.216300010681152, 1.5017999410629272, 0.6992999911308289, 3.6257998943328857, 3.8789000511169434, -8.461299896240234, 2.448499917984009]), f(x)=25.8494\n"
     ]
    },
    {
     "data": {
      "application/vnd.jupyter.widget-view+json": {
       "model_id": "e96682a5a74e415e8aa02bfb0b6dcbfb",
       "version_major": 2,
       "version_minor": 0
      },
      "text/plain": [
       "Training GP:   0%|          | 0/500 [00:00<?, ?it/s]"
      ]
     },
     "metadata": {},
     "output_type": "display_data"
    },
    {
     "name": "stdout",
     "output_type": "stream",
     "text": [
      "Iteration 69, incumbent x=([3.1249001026153564, 2.4509999752044678, 4.885700225830078, 8.216300010681152, 1.5017999410629272, 0.6992999911308289, 3.6257998943328857, 3.8789000511169434, -8.461299896240234, 2.448499917984009]), f(x)=25.8494\n"
     ]
    },
    {
     "data": {
      "application/vnd.jupyter.widget-view+json": {
       "model_id": "89c2443657254b87972d7a7fd7111817",
       "version_major": 2,
       "version_minor": 0
      },
      "text/plain": [
       "Training GP:   0%|          | 0/500 [00:00<?, ?it/s]"
      ]
     },
     "metadata": {},
     "output_type": "display_data"
    },
    {
     "name": "stdout",
     "output_type": "stream",
     "text": [
      "Iteration 70, incumbent x=([3.1249001026153564, 2.4509999752044678, 4.885700225830078, 8.216300010681152, 1.5017999410629272, 0.6992999911308289, 3.6257998943328857, 3.8789000511169434, -8.461299896240234, 2.448499917984009]), f(x)=25.8494\n"
     ]
    },
    {
     "data": {
      "application/vnd.jupyter.widget-view+json": {
       "model_id": "0ecfa7c11163461f8aea49d2778e7ad6",
       "version_major": 2,
       "version_minor": 0
      },
      "text/plain": [
       "Training GP:   0%|          | 0/500 [00:00<?, ?it/s]"
      ]
     },
     "metadata": {},
     "output_type": "display_data"
    },
    {
     "name": "stdout",
     "output_type": "stream",
     "text": [
      "Iteration 71, incumbent x=([3.1249001026153564, 2.4509999752044678, 4.885700225830078, 8.216300010681152, 1.5017999410629272, 0.6992999911308289, 3.6257998943328857, 3.8789000511169434, -8.461299896240234, 2.448499917984009]), f(x)=25.8494\n"
     ]
    },
    {
     "data": {
      "application/vnd.jupyter.widget-view+json": {
       "model_id": "4fa69b7f4b964df28e7399fdbd055da5",
       "version_major": 2,
       "version_minor": 0
      },
      "text/plain": [
       "Training GP:   0%|          | 0/500 [00:00<?, ?it/s]"
      ]
     },
     "metadata": {},
     "output_type": "display_data"
    },
    {
     "name": "stdout",
     "output_type": "stream",
     "text": [
      "Iteration 72, incumbent x=([3.1249001026153564, 2.4509999752044678, 4.885700225830078, 8.216300010681152, 1.5017999410629272, 0.6992999911308289, 3.6257998943328857, 3.8789000511169434, -8.461299896240234, 2.448499917984009]), f(x)=25.8494\n"
     ]
    },
    {
     "data": {
      "application/vnd.jupyter.widget-view+json": {
       "model_id": "e6c32b46a6844686be75e6e4613ccb84",
       "version_major": 2,
       "version_minor": 0
      },
      "text/plain": [
       "Training GP:   0%|          | 0/500 [00:00<?, ?it/s]"
      ]
     },
     "metadata": {},
     "output_type": "display_data"
    },
    {
     "name": "stdout",
     "output_type": "stream",
     "text": [
      "Iteration 73, incumbent x=([3.1249001026153564, 2.4509999752044678, 4.885700225830078, 8.216300010681152, 1.5017999410629272, 0.6992999911308289, 3.6257998943328857, 3.8789000511169434, -8.461299896240234, 2.448499917984009]), f(x)=25.8494\n"
     ]
    },
    {
     "data": {
      "application/vnd.jupyter.widget-view+json": {
       "model_id": "e69dd5c34feb467db6256e5603ca583c",
       "version_major": 2,
       "version_minor": 0
      },
      "text/plain": [
       "Training GP:   0%|          | 0/500 [00:00<?, ?it/s]"
      ]
     },
     "metadata": {},
     "output_type": "display_data"
    },
    {
     "name": "stdout",
     "output_type": "stream",
     "text": [
      "Iteration 74, incumbent x=([3.1249001026153564, 2.4509999752044678, 4.885700225830078, 8.216300010681152, 1.5017999410629272, 0.6992999911308289, 3.6257998943328857, 3.8789000511169434, -8.461299896240234, 2.448499917984009]), f(x)=25.8494\n"
     ]
    },
    {
     "data": {
      "application/vnd.jupyter.widget-view+json": {
       "model_id": "d849bbe7502e4886a3eb2e2c41f3b5e3",
       "version_major": 2,
       "version_minor": 0
      },
      "text/plain": [
       "Training GP:   0%|          | 0/500 [00:00<?, ?it/s]"
      ]
     },
     "metadata": {},
     "output_type": "display_data"
    },
    {
     "name": "stdout",
     "output_type": "stream",
     "text": [
      "Iteration 75, incumbent x=([3.1249001026153564, 2.4509999752044678, 4.885700225830078, 8.216300010681152, 1.5017999410629272, 0.6992999911308289, 3.6257998943328857, 3.8789000511169434, -8.461299896240234, 2.448499917984009]), f(x)=25.8494\n"
     ]
    },
    {
     "data": {
      "application/vnd.jupyter.widget-view+json": {
       "model_id": "ae432b7a96a142e49cdfba71d7d6cd18",
       "version_major": 2,
       "version_minor": 0
      },
      "text/plain": [
       "Training GP:   0%|          | 0/500 [00:00<?, ?it/s]"
      ]
     },
     "metadata": {},
     "output_type": "display_data"
    },
    {
     "name": "stdout",
     "output_type": "stream",
     "text": [
      "Iteration 76, incumbent x=([3.1249001026153564, 2.4509999752044678, 4.885700225830078, 8.216300010681152, 1.5017999410629272, 0.6992999911308289, 3.6257998943328857, 3.8789000511169434, -8.461299896240234, 2.448499917984009]), f(x)=25.8494\n"
     ]
    },
    {
     "data": {
      "application/vnd.jupyter.widget-view+json": {
       "model_id": "3f6f262712594773babfb4d054b596c0",
       "version_major": 2,
       "version_minor": 0
      },
      "text/plain": [
       "Training GP:   0%|          | 0/500 [00:00<?, ?it/s]"
      ]
     },
     "metadata": {},
     "output_type": "display_data"
    },
    {
     "name": "stdout",
     "output_type": "stream",
     "text": [
      "Iteration 77, incumbent x=([3.1249001026153564, 2.4509999752044678, 4.885700225830078, 8.216300010681152, 1.5017999410629272, 0.6992999911308289, 3.6257998943328857, 3.8789000511169434, -8.461299896240234, 2.448499917984009]), f(x)=25.8494\n"
     ]
    },
    {
     "data": {
      "application/vnd.jupyter.widget-view+json": {
       "model_id": "e4c9a9296ece4ec08bc1a2b1670c3383",
       "version_major": 2,
       "version_minor": 0
      },
      "text/plain": [
       "Training GP:   0%|          | 0/500 [00:00<?, ?it/s]"
      ]
     },
     "metadata": {},
     "output_type": "display_data"
    },
    {
     "name": "stdout",
     "output_type": "stream",
     "text": [
      "Iteration 78, incumbent x=([3.1249001026153564, 2.4509999752044678, 4.885700225830078, 8.216300010681152, 1.5017999410629272, 0.6992999911308289, 3.6257998943328857, 3.8789000511169434, -8.461299896240234, 2.448499917984009]), f(x)=25.8494\n"
     ]
    },
    {
     "data": {
      "application/vnd.jupyter.widget-view+json": {
       "model_id": "f257bcb764d64ac78b3c78fd44f9fe49",
       "version_major": 2,
       "version_minor": 0
      },
      "text/plain": [
       "Training GP:   0%|          | 0/500 [00:00<?, ?it/s]"
      ]
     },
     "metadata": {},
     "output_type": "display_data"
    },
    {
     "name": "stdout",
     "output_type": "stream",
     "text": [
      "Iteration 79, incumbent x=([3.1249001026153564, 2.4509999752044678, 4.885700225830078, 8.216300010681152, 1.5017999410629272, 0.6992999911308289, 3.6257998943328857, 3.8789000511169434, -8.461299896240234, 2.448499917984009]), f(x)=25.8494\n"
     ]
    },
    {
     "data": {
      "application/vnd.jupyter.widget-view+json": {
       "model_id": "69d9aa2ad30b4ca88e3b577b4fadc22c",
       "version_major": 2,
       "version_minor": 0
      },
      "text/plain": [
       "Training GP:   0%|          | 0/500 [00:00<?, ?it/s]"
      ]
     },
     "metadata": {},
     "output_type": "display_data"
    },
    {
     "name": "stdout",
     "output_type": "stream",
     "text": [
      "Iteration 80, incumbent x=([3.1249001026153564, 2.4509999752044678, 4.885700225830078, 8.216300010681152, 1.5017999410629272, 0.6992999911308289, 3.6257998943328857, 3.8789000511169434, -8.461299896240234, 2.448499917984009]), f(x)=25.8494\n"
     ]
    },
    {
     "data": {
      "application/vnd.jupyter.widget-view+json": {
       "model_id": "4adecf7ca45645c7a37e851cb8bb813d",
       "version_major": 2,
       "version_minor": 0
      },
      "text/plain": [
       "Training GP:   0%|          | 0/500 [00:00<?, ?it/s]"
      ]
     },
     "metadata": {},
     "output_type": "display_data"
    },
    {
     "name": "stdout",
     "output_type": "stream",
     "text": [
      "Iteration 81, incumbent x=([3.1249001026153564, 2.4509999752044678, 4.885700225830078, 8.216300010681152, 1.5017999410629272, 0.6992999911308289, 3.6257998943328857, 3.8789000511169434, -8.461299896240234, 2.448499917984009]), f(x)=25.8494\n"
     ]
    },
    {
     "data": {
      "application/vnd.jupyter.widget-view+json": {
       "model_id": "c8349023f12a4a699b0cdab2e087ad39",
       "version_major": 2,
       "version_minor": 0
      },
      "text/plain": [
       "Training GP:   0%|          | 0/500 [00:00<?, ?it/s]"
      ]
     },
     "metadata": {},
     "output_type": "display_data"
    },
    {
     "name": "stdout",
     "output_type": "stream",
     "text": [
      "Iteration 82, incumbent x=([3.1249001026153564, 2.4509999752044678, 4.885700225830078, 8.216300010681152, 1.5017999410629272, 0.6992999911308289, 3.6257998943328857, 3.8789000511169434, -8.461299896240234, 2.448499917984009]), f(x)=25.8494\n"
     ]
    },
    {
     "data": {
      "application/vnd.jupyter.widget-view+json": {
       "model_id": "04e72bc4d5f4415e86bb3966667e310e",
       "version_major": 2,
       "version_minor": 0
      },
      "text/plain": [
       "Training GP:   0%|          | 0/500 [00:00<?, ?it/s]"
      ]
     },
     "metadata": {},
     "output_type": "display_data"
    },
    {
     "name": "stdout",
     "output_type": "stream",
     "text": [
      "Iteration 83, incumbent x=([3.1249001026153564, 2.4509999752044678, 4.885700225830078, 8.216300010681152, 1.5017999410629272, 0.6992999911308289, 3.6257998943328857, 3.8789000511169434, -8.461299896240234, 2.448499917984009]), f(x)=25.8494\n"
     ]
    },
    {
     "data": {
      "application/vnd.jupyter.widget-view+json": {
       "model_id": "fc512ce66b8040ec9c4c4b99d126ce5f",
       "version_major": 2,
       "version_minor": 0
      },
      "text/plain": [
       "Training GP:   0%|          | 0/500 [00:00<?, ?it/s]"
      ]
     },
     "metadata": {},
     "output_type": "display_data"
    },
    {
     "name": "stdout",
     "output_type": "stream",
     "text": [
      "Iteration 84, incumbent x=([3.1249001026153564, 2.4509999752044678, 4.885700225830078, 8.216300010681152, 1.5017999410629272, 0.6992999911308289, 3.6257998943328857, 3.8789000511169434, -8.461299896240234, 2.448499917984009]), f(x)=25.8494\n"
     ]
    },
    {
     "data": {
      "application/vnd.jupyter.widget-view+json": {
       "model_id": "a1e8d4b4cad84aefb77e667e2abeed46",
       "version_major": 2,
       "version_minor": 0
      },
      "text/plain": [
       "Training GP:   0%|          | 0/500 [00:00<?, ?it/s]"
      ]
     },
     "metadata": {},
     "output_type": "display_data"
    },
    {
     "name": "stdout",
     "output_type": "stream",
     "text": [
      "Iteration 85, incumbent x=([3.1249001026153564, 2.4509999752044678, 4.885700225830078, 8.216300010681152, 1.5017999410629272, 0.6992999911308289, 3.6257998943328857, 3.8789000511169434, -8.461299896240234, 2.448499917984009]), f(x)=25.8494\n"
     ]
    },
    {
     "data": {
      "application/vnd.jupyter.widget-view+json": {
       "model_id": "1dde2694e7d04193b6bb195378db3c2f",
       "version_major": 2,
       "version_minor": 0
      },
      "text/plain": [
       "Training GP:   0%|          | 0/500 [00:00<?, ?it/s]"
      ]
     },
     "metadata": {},
     "output_type": "display_data"
    },
    {
     "name": "stdout",
     "output_type": "stream",
     "text": [
      "Iteration 86, incumbent x=([3.1249001026153564, 2.4509999752044678, 4.885700225830078, 8.216300010681152, 1.5017999410629272, 0.6992999911308289, 3.6257998943328857, 3.8789000511169434, -8.461299896240234, 2.448499917984009]), f(x)=25.8494\n"
     ]
    },
    {
     "data": {
      "application/vnd.jupyter.widget-view+json": {
       "model_id": "15c592cd7f3b47469768ac0999442bf6",
       "version_major": 2,
       "version_minor": 0
      },
      "text/plain": [
       "Training GP:   0%|          | 0/500 [00:00<?, ?it/s]"
      ]
     },
     "metadata": {},
     "output_type": "display_data"
    },
    {
     "name": "stdout",
     "output_type": "stream",
     "text": [
      "Iteration 87, incumbent x=([3.1249001026153564, 2.4509999752044678, 4.885700225830078, 8.216300010681152, 1.5017999410629272, 0.6992999911308289, 3.6257998943328857, 3.8789000511169434, -8.461299896240234, 2.448499917984009]), f(x)=25.8494\n"
     ]
    },
    {
     "data": {
      "application/vnd.jupyter.widget-view+json": {
       "model_id": "fed99cd68c2e479cb7c0c3c57105a8c6",
       "version_major": 2,
       "version_minor": 0
      },
      "text/plain": [
       "Training GP:   0%|          | 0/500 [00:00<?, ?it/s]"
      ]
     },
     "metadata": {},
     "output_type": "display_data"
    },
    {
     "name": "stdout",
     "output_type": "stream",
     "text": [
      "Iteration 88, incumbent x=([3.1249001026153564, 2.4509999752044678, 4.885700225830078, 8.216300010681152, 1.5017999410629272, 0.6992999911308289, 3.6257998943328857, 3.8789000511169434, -8.461299896240234, 2.448499917984009]), f(x)=25.8494\n"
     ]
    },
    {
     "data": {
      "application/vnd.jupyter.widget-view+json": {
       "model_id": "4020e43be8d04399b81808aed16ac1f8",
       "version_major": 2,
       "version_minor": 0
      },
      "text/plain": [
       "Training GP:   0%|          | 0/500 [00:00<?, ?it/s]"
      ]
     },
     "metadata": {},
     "output_type": "display_data"
    },
    {
     "name": "stdout",
     "output_type": "stream",
     "text": [
      "Iteration 89, incumbent x=([3.1249001026153564, 2.4509999752044678, 4.885700225830078, 8.216300010681152, 1.5017999410629272, 0.6992999911308289, 3.6257998943328857, 3.8789000511169434, -8.461299896240234, 2.448499917984009]), f(x)=25.8494\n"
     ]
    },
    {
     "data": {
      "application/vnd.jupyter.widget-view+json": {
       "model_id": "3788928aca634356bf5c221da7d95585",
       "version_major": 2,
       "version_minor": 0
      },
      "text/plain": [
       "Training GP:   0%|          | 0/500 [00:00<?, ?it/s]"
      ]
     },
     "metadata": {},
     "output_type": "display_data"
    },
    {
     "name": "stdout",
     "output_type": "stream",
     "text": [
      "Iteration 90, incumbent x=([3.1249001026153564, 2.4509999752044678, 4.885700225830078, 8.216300010681152, 1.5017999410629272, 0.6992999911308289, 3.6257998943328857, 3.8789000511169434, -8.461299896240234, 2.448499917984009]), f(x)=25.8494\n"
     ]
    },
    {
     "data": {
      "application/vnd.jupyter.widget-view+json": {
       "model_id": "fe2a92b82f974a019c3020fda81e01dc",
       "version_major": 2,
       "version_minor": 0
      },
      "text/plain": [
       "Training GP:   0%|          | 0/500 [00:00<?, ?it/s]"
      ]
     },
     "metadata": {},
     "output_type": "display_data"
    },
    {
     "name": "stdout",
     "output_type": "stream",
     "text": [
      "Iteration 91, incumbent x=([3.1249001026153564, 2.4509999752044678, 4.885700225830078, 8.216300010681152, 1.5017999410629272, 0.6992999911308289, 3.6257998943328857, 3.8789000511169434, -8.461299896240234, 2.448499917984009]), f(x)=25.8494\n"
     ]
    },
    {
     "data": {
      "application/vnd.jupyter.widget-view+json": {
       "model_id": "83da61beee654b66ae1ab1144b25b606",
       "version_major": 2,
       "version_minor": 0
      },
      "text/plain": [
       "Training GP:   0%|          | 0/500 [00:00<?, ?it/s]"
      ]
     },
     "metadata": {},
     "output_type": "display_data"
    },
    {
     "name": "stdout",
     "output_type": "stream",
     "text": [
      "Iteration 92, incumbent x=([3.1249001026153564, 2.4509999752044678, 4.885700225830078, 8.216300010681152, 1.5017999410629272, 0.6992999911308289, 3.6257998943328857, 3.8789000511169434, -8.461299896240234, 2.448499917984009]), f(x)=25.8494\n"
     ]
    },
    {
     "data": {
      "application/vnd.jupyter.widget-view+json": {
       "model_id": "5478adea9fee41a18cff2e0299cc24be",
       "version_major": 2,
       "version_minor": 0
      },
      "text/plain": [
       "Training GP:   0%|          | 0/500 [00:00<?, ?it/s]"
      ]
     },
     "metadata": {},
     "output_type": "display_data"
    },
    {
     "name": "stdout",
     "output_type": "stream",
     "text": [
      "Iteration 93, incumbent x=([3.1249001026153564, 2.4509999752044678, 4.885700225830078, 8.216300010681152, 1.5017999410629272, 0.6992999911308289, 3.6257998943328857, 3.8789000511169434, -8.461299896240234, 2.448499917984009]), f(x)=25.8494\n"
     ]
    },
    {
     "data": {
      "application/vnd.jupyter.widget-view+json": {
       "model_id": "e6875bddd21e4715827352e92f3d9577",
       "version_major": 2,
       "version_minor": 0
      },
      "text/plain": [
       "Training GP:   0%|          | 0/500 [00:00<?, ?it/s]"
      ]
     },
     "metadata": {},
     "output_type": "display_data"
    },
    {
     "name": "stdout",
     "output_type": "stream",
     "text": [
      "Iteration 94, incumbent x=([3.1249001026153564, 2.4509999752044678, 4.885700225830078, 8.216300010681152, 1.5017999410629272, 0.6992999911308289, 3.6257998943328857, 3.8789000511169434, -8.461299896240234, 2.448499917984009]), f(x)=25.8494\n"
     ]
    },
    {
     "data": {
      "application/vnd.jupyter.widget-view+json": {
       "model_id": "0e6574e2c0284644ba0bc4c06cfa11cc",
       "version_major": 2,
       "version_minor": 0
      },
      "text/plain": [
       "Training GP:   0%|          | 0/500 [00:00<?, ?it/s]"
      ]
     },
     "metadata": {},
     "output_type": "display_data"
    },
    {
     "name": "stdout",
     "output_type": "stream",
     "text": [
      "Iteration 95, incumbent x=([3.1249001026153564, 2.4509999752044678, 4.885700225830078, 8.216300010681152, 1.5017999410629272, 0.6992999911308289, 3.6257998943328857, 3.8789000511169434, -8.461299896240234, 2.448499917984009]), f(x)=25.8494\n"
     ]
    },
    {
     "data": {
      "application/vnd.jupyter.widget-view+json": {
       "model_id": "b7a3d9dbef56449189676ed861a03f56",
       "version_major": 2,
       "version_minor": 0
      },
      "text/plain": [
       "Training GP:   0%|          | 0/500 [00:00<?, ?it/s]"
      ]
     },
     "metadata": {},
     "output_type": "display_data"
    },
    {
     "name": "stdout",
     "output_type": "stream",
     "text": [
      "Iteration 96, incumbent x=([3.1249001026153564, 2.4509999752044678, 4.885700225830078, 8.216300010681152, 1.5017999410629272, 0.6992999911308289, 3.6257998943328857, 3.8789000511169434, -8.461299896240234, 2.448499917984009]), f(x)=25.8494\n"
     ]
    },
    {
     "data": {
      "application/vnd.jupyter.widget-view+json": {
       "model_id": "be3037b2345745988933c63dd72fb9b5",
       "version_major": 2,
       "version_minor": 0
      },
      "text/plain": [
       "Training GP:   0%|          | 0/500 [00:00<?, ?it/s]"
      ]
     },
     "metadata": {},
     "output_type": "display_data"
    },
    {
     "name": "stdout",
     "output_type": "stream",
     "text": [
      "Iteration 97, incumbent x=([3.1249001026153564, 2.4509999752044678, 4.885700225830078, 8.216300010681152, 1.5017999410629272, 0.6992999911308289, 3.6257998943328857, 3.8789000511169434, -8.461299896240234, 2.448499917984009]), f(x)=25.8494\n"
     ]
    },
    {
     "data": {
      "application/vnd.jupyter.widget-view+json": {
       "model_id": "b27a6b4897ed44198b212c8015330d99",
       "version_major": 2,
       "version_minor": 0
      },
      "text/plain": [
       "Training GP:   0%|          | 0/500 [00:00<?, ?it/s]"
      ]
     },
     "metadata": {},
     "output_type": "display_data"
    },
    {
     "name": "stdout",
     "output_type": "stream",
     "text": [
      "Iteration 98, incumbent x=([3.1249001026153564, 2.4509999752044678, 4.885700225830078, 8.216300010681152, 1.5017999410629272, 0.6992999911308289, 3.6257998943328857, 3.8789000511169434, -8.461299896240234, 2.448499917984009]), f(x)=25.8494\n"
     ]
    },
    {
     "data": {
      "application/vnd.jupyter.widget-view+json": {
       "model_id": "5f151ff62a784afbbd5662d8ca424042",
       "version_major": 2,
       "version_minor": 0
      },
      "text/plain": [
       "Training GP:   0%|          | 0/500 [00:00<?, ?it/s]"
      ]
     },
     "metadata": {},
     "output_type": "display_data"
    },
    {
     "name": "stdout",
     "output_type": "stream",
     "text": [
      "Iteration 99, incumbent x=([3.1249001026153564, 2.4509999752044678, 4.885700225830078, 8.216300010681152, 1.5017999410629272, 0.6992999911308289, 3.6257998943328857, 3.8789000511169434, -8.461299896240234, 2.448499917984009]), f(x)=25.8494\n"
     ]
    },
    {
     "data": {
      "application/vnd.jupyter.widget-view+json": {
       "model_id": "f0be979feeae4ec78f69b29a2c80e195",
       "version_major": 2,
       "version_minor": 0
      },
      "text/plain": [
       "Training GP:   0%|          | 0/500 [00:00<?, ?it/s]"
      ]
     },
     "metadata": {},
     "output_type": "display_data"
    },
    {
     "name": "stdout",
     "output_type": "stream",
     "text": [
      "\n",
      "Run 7/10\n",
      "Initial points (x1, ..., x10, f(x)):\n",
      "tensor([[ 1.9585e+00,  6.9059e+00,  8.9282e+00, -4.0694e+00,  2.7604e-01,\n",
      "          2.8869e+00,  7.9811e+00, -9.7182e+00,  1.5690e+00, -7.5639e+00,\n",
      "          1.2196e+02],\n",
      "        [ 8.3619e+00,  3.6107e+00, -5.9997e+00, -7.7578e+00, -9.9610e+00,\n",
      "          7.8566e+00,  6.0943e+00, -4.9064e+00, -6.3403e-01, -6.6354e+00,\n",
      "          1.6645e+02],\n",
      "        [-6.5748e+00,  2.0637e-01, -7.8636e+00,  1.8229e+00,  5.7853e+00,\n",
      "         -8.2919e+00, -2.6422e+00, -4.7819e-01,  2.7723e+00, -1.0396e+00,\n",
      "          7.9060e+01],\n",
      "        [-8.4101e+00, -3.6026e+00, -9.9359e+00, -1.5247e+00, -3.8612e+00,\n",
      "          9.0574e+00, -1.0769e+00,  5.5112e+00, -9.7386e+00, -1.7971e+00,\n",
      "          2.1235e+02],\n",
      "        [ 6.9390e+00,  5.7694e+00,  2.2972e+00, -6.2170e+00,  4.6212e+00,\n",
      "          9.1643e+00, -6.9033e-01,  5.4383e+00, -6.7726e+00,  3.9694e+00,\n",
      "          1.5580e+02],\n",
      "        [ 8.2210e-01,  8.6674e+00,  5.4107e+00,  9.4440e+00, -1.7376e+00,\n",
      "         -2.2579e-01, -1.2365e+00, -1.3151e+00, -8.0829e+00, -6.8571e+00,\n",
      "          9.8590e+01],\n",
      "        [-2.8919e+00, -6.8921e+00, -9.3741e+00, -4.7918e+00,  5.0950e-01,\n",
      "         -9.8342e+00,  2.4999e+00,  9.8180e+00, -3.3240e+00, -5.7466e+00,\n",
      "          2.3222e+02],\n",
      "        [ 6.8118e+00,  5.2486e-01,  4.2768e+00, -7.2911e+00, -6.8538e+00,\n",
      "         -3.7583e+00, -8.5938e+00, -3.5747e+00, -2.2173e+00,  3.9025e+00,\n",
      "          1.0020e+02],\n",
      "        [ 1.6935e+00, -8.2942e+00,  6.5972e-01, -3.3796e+00,  3.3417e+00,\n",
      "          7.1354e+00, -6.1182e+00, -1.3520e+00,  1.8928e+00,  6.7054e+00,\n",
      "          5.9604e+01],\n",
      "        [-4.3166e+00,  9.2232e+00, -8.3858e+00,  8.0703e+00, -1.0154e-01,\n",
      "          7.6355e+00,  9.2310e+00, -4.2415e+00, -4.3147e+00,  5.9399e+00,\n",
      "          1.0403e+02]])\n"
     ]
    },
    {
     "data": {
      "application/vnd.jupyter.widget-view+json": {
       "model_id": "c688e226c97245f4932a46cd262cc0f5",
       "version_major": 2,
       "version_minor": 0
      },
      "text/plain": [
       "Training GP:   0%|          | 0/500 [00:00<?, ?it/s]"
      ]
     },
     "metadata": {},
     "output_type": "display_data"
    },
    {
     "name": "stdout",
     "output_type": "stream",
     "text": [
      "Iteration 0, incumbent x=([1.69350004196167, -8.29419994354248, 0.6596999764442444, -3.3796000480651855, 3.3417000770568848, 7.13539981842041, -6.118199825286865, -1.3519999980926514, 1.892799973487854, 6.705399990081787]), f(x)=59.6039\n"
     ]
    },
    {
     "data": {
      "application/vnd.jupyter.widget-view+json": {
       "model_id": "bc7b33b9907142a990826769ee90715f",
       "version_major": 2,
       "version_minor": 0
      },
      "text/plain": [
       "Training GP:   0%|          | 0/500 [00:00<?, ?it/s]"
      ]
     },
     "metadata": {},
     "output_type": "display_data"
    },
    {
     "name": "stdout",
     "output_type": "stream",
     "text": [
      "Iteration 1, incumbent x=([1.69350004196167, -8.29419994354248, 0.6596999764442444, -3.3796000480651855, 3.3417000770568848, 7.13539981842041, -6.118199825286865, -1.3519999980926514, 1.892799973487854, 6.705399990081787]), f(x)=59.6039\n"
     ]
    },
    {
     "data": {
      "application/vnd.jupyter.widget-view+json": {
       "model_id": "9aca48d7c89446ad8a4d83c3ec912e4c",
       "version_major": 2,
       "version_minor": 0
      },
      "text/plain": [
       "Training GP:   0%|          | 0/500 [00:00<?, ?it/s]"
      ]
     },
     "metadata": {},
     "output_type": "display_data"
    },
    {
     "name": "stdout",
     "output_type": "stream",
     "text": [
      "Iteration 2, incumbent x=([1.69350004196167, -8.29419994354248, 0.6596999764442444, -3.3796000480651855, 3.3417000770568848, 7.13539981842041, -6.118199825286865, -1.3519999980926514, 1.892799973487854, 6.705399990081787]), f(x)=59.6039\n"
     ]
    },
    {
     "data": {
      "application/vnd.jupyter.widget-view+json": {
       "model_id": "829a0210186240cab8391ce5a86fcf89",
       "version_major": 2,
       "version_minor": 0
      },
      "text/plain": [
       "Training GP:   0%|          | 0/500 [00:00<?, ?it/s]"
      ]
     },
     "metadata": {},
     "output_type": "display_data"
    },
    {
     "name": "stdout",
     "output_type": "stream",
     "text": [
      "Iteration 3, incumbent x=([1.69350004196167, -8.29419994354248, 0.6596999764442444, -3.3796000480651855, 3.3417000770568848, 7.13539981842041, -6.118199825286865, -1.3519999980926514, 1.892799973487854, 6.705399990081787]), f(x)=59.6039\n"
     ]
    },
    {
     "data": {
      "application/vnd.jupyter.widget-view+json": {
       "model_id": "61d9a4e87fa44960aade8af9e786dede",
       "version_major": 2,
       "version_minor": 0
      },
      "text/plain": [
       "Training GP:   0%|          | 0/500 [00:00<?, ?it/s]"
      ]
     },
     "metadata": {},
     "output_type": "display_data"
    },
    {
     "name": "stdout",
     "output_type": "stream",
     "text": [
      "Iteration 4, incumbent x=([1.69350004196167, -8.29419994354248, 0.6596999764442444, -3.3796000480651855, 3.3417000770568848, 7.13539981842041, -6.118199825286865, -1.3519999980926514, 1.892799973487854, 6.705399990081787]), f(x)=59.6039\n"
     ]
    },
    {
     "data": {
      "application/vnd.jupyter.widget-view+json": {
       "model_id": "71746727ce154ad29ad23890febc796a",
       "version_major": 2,
       "version_minor": 0
      },
      "text/plain": [
       "Training GP:   0%|          | 0/500 [00:00<?, ?it/s]"
      ]
     },
     "metadata": {},
     "output_type": "display_data"
    },
    {
     "name": "stdout",
     "output_type": "stream",
     "text": [
      "Iteration 5, incumbent x=([1.69350004196167, -8.29419994354248, 0.6596999764442444, -3.3796000480651855, 3.3417000770568848, 7.13539981842041, -6.118199825286865, -1.3519999980926514, 1.892799973487854, 6.705399990081787]), f(x)=59.6039\n"
     ]
    },
    {
     "data": {
      "application/vnd.jupyter.widget-view+json": {
       "model_id": "1a58767d6d364b2bb7eef2b1513be24c",
       "version_major": 2,
       "version_minor": 0
      },
      "text/plain": [
       "Training GP:   0%|          | 0/500 [00:00<?, ?it/s]"
      ]
     },
     "metadata": {},
     "output_type": "display_data"
    },
    {
     "name": "stdout",
     "output_type": "stream",
     "text": [
      "Iteration 6, incumbent x=([1.69350004196167, -8.29419994354248, 0.6596999764442444, -3.3796000480651855, 3.3417000770568848, 7.13539981842041, -6.118199825286865, -1.3519999980926514, 1.892799973487854, 6.705399990081787]), f(x)=59.6039\n"
     ]
    },
    {
     "data": {
      "application/vnd.jupyter.widget-view+json": {
       "model_id": "2efde38129274225985ca1b60e9fc8f1",
       "version_major": 2,
       "version_minor": 0
      },
      "text/plain": [
       "Training GP:   0%|          | 0/500 [00:00<?, ?it/s]"
      ]
     },
     "metadata": {},
     "output_type": "display_data"
    },
    {
     "name": "stdout",
     "output_type": "stream",
     "text": [
      "Iteration 7, incumbent x=([1.69350004196167, -8.29419994354248, 0.6596999764442444, -3.3796000480651855, 3.3417000770568848, 7.13539981842041, -6.118199825286865, -1.3519999980926514, 1.892799973487854, 6.705399990081787]), f(x)=59.6039\n"
     ]
    },
    {
     "data": {
      "application/vnd.jupyter.widget-view+json": {
       "model_id": "11e5aa5598514291834f6f68a3287719",
       "version_major": 2,
       "version_minor": 0
      },
      "text/plain": [
       "Training GP:   0%|          | 0/500 [00:00<?, ?it/s]"
      ]
     },
     "metadata": {},
     "output_type": "display_data"
    },
    {
     "name": "stdout",
     "output_type": "stream",
     "text": [
      "Iteration 8, incumbent x=([1.69350004196167, -8.29419994354248, 0.6596999764442444, -3.3796000480651855, 3.3417000770568848, 7.13539981842041, -6.118199825286865, -1.3519999980926514, 1.892799973487854, 6.705399990081787]), f(x)=59.6039\n"
     ]
    },
    {
     "data": {
      "application/vnd.jupyter.widget-view+json": {
       "model_id": "530841ee595c42e985dc4857469b8484",
       "version_major": 2,
       "version_minor": 0
      },
      "text/plain": [
       "Training GP:   0%|          | 0/500 [00:00<?, ?it/s]"
      ]
     },
     "metadata": {},
     "output_type": "display_data"
    },
    {
     "name": "stdout",
     "output_type": "stream",
     "text": [
      "Iteration 9, incumbent x=([1.69350004196167, -8.29419994354248, 0.6596999764442444, -3.3796000480651855, 3.3417000770568848, 7.13539981842041, -6.118199825286865, -1.3519999980926514, 1.892799973487854, 6.705399990081787]), f(x)=59.6039\n"
     ]
    },
    {
     "data": {
      "application/vnd.jupyter.widget-view+json": {
       "model_id": "1de78d7afb7b4bab8e3e37153b8cda8c",
       "version_major": 2,
       "version_minor": 0
      },
      "text/plain": [
       "Training GP:   0%|          | 0/500 [00:00<?, ?it/s]"
      ]
     },
     "metadata": {},
     "output_type": "display_data"
    },
    {
     "name": "stdout",
     "output_type": "stream",
     "text": [
      "Iteration 10, incumbent x=([1.69350004196167, -8.29419994354248, 0.6596999764442444, -3.3796000480651855, 3.3417000770568848, 7.13539981842041, -6.118199825286865, -1.3519999980926514, 1.892799973487854, 6.705399990081787]), f(x)=59.6039\n"
     ]
    },
    {
     "data": {
      "application/vnd.jupyter.widget-view+json": {
       "model_id": "a2cd759e3d9644fe8d27bb4ddce092a2",
       "version_major": 2,
       "version_minor": 0
      },
      "text/plain": [
       "Training GP:   0%|          | 0/500 [00:00<?, ?it/s]"
      ]
     },
     "metadata": {},
     "output_type": "display_data"
    },
    {
     "name": "stdout",
     "output_type": "stream",
     "text": [
      "Iteration 11, incumbent x=([1.69350004196167, -8.29419994354248, 0.6596999764442444, -3.3796000480651855, 3.3417000770568848, 7.13539981842041, -6.118199825286865, -1.3519999980926514, 1.892799973487854, 6.705399990081787]), f(x)=59.6039\n"
     ]
    },
    {
     "data": {
      "application/vnd.jupyter.widget-view+json": {
       "model_id": "57891a03295145688b04ced381c9fb15",
       "version_major": 2,
       "version_minor": 0
      },
      "text/plain": [
       "Training GP:   0%|          | 0/500 [00:00<?, ?it/s]"
      ]
     },
     "metadata": {},
     "output_type": "display_data"
    },
    {
     "name": "stdout",
     "output_type": "stream",
     "text": [
      "Iteration 12, incumbent x=([1.69350004196167, -8.29419994354248, 0.6596999764442444, -3.3796000480651855, 3.3417000770568848, 7.13539981842041, -6.118199825286865, -1.3519999980926514, 1.892799973487854, 6.705399990081787]), f(x)=59.6039\n"
     ]
    },
    {
     "data": {
      "application/vnd.jupyter.widget-view+json": {
       "model_id": "b654c4cf3eab4cfd9f008152a8a62742",
       "version_major": 2,
       "version_minor": 0
      },
      "text/plain": [
       "Training GP:   0%|          | 0/500 [00:00<?, ?it/s]"
      ]
     },
     "metadata": {},
     "output_type": "display_data"
    },
    {
     "name": "stdout",
     "output_type": "stream",
     "text": [
      "Iteration 13, incumbent x=([1.69350004196167, -8.29419994354248, 0.6596999764442444, -3.3796000480651855, 3.3417000770568848, 7.13539981842041, -6.118199825286865, -1.3519999980926514, 1.892799973487854, 6.705399990081787]), f(x)=59.6039\n"
     ]
    },
    {
     "data": {
      "application/vnd.jupyter.widget-view+json": {
       "model_id": "a3c40ce2a91a4cd4b8d48443eb2d86f9",
       "version_major": 2,
       "version_minor": 0
      },
      "text/plain": [
       "Training GP:   0%|          | 0/500 [00:00<?, ?it/s]"
      ]
     },
     "metadata": {},
     "output_type": "display_data"
    },
    {
     "name": "stdout",
     "output_type": "stream",
     "text": [
      "Iteration 14, incumbent x=([1.69350004196167, -8.29419994354248, 0.6596999764442444, -3.3796000480651855, 3.3417000770568848, 7.13539981842041, -6.118199825286865, -1.3519999980926514, 1.892799973487854, 6.705399990081787]), f(x)=59.6039\n"
     ]
    },
    {
     "data": {
      "application/vnd.jupyter.widget-view+json": {
       "model_id": "a33eada59d9c458886a4e59cf69d2436",
       "version_major": 2,
       "version_minor": 0
      },
      "text/plain": [
       "Training GP:   0%|          | 0/500 [00:00<?, ?it/s]"
      ]
     },
     "metadata": {},
     "output_type": "display_data"
    },
    {
     "name": "stdout",
     "output_type": "stream",
     "text": [
      "Iteration 15, incumbent x=([1.69350004196167, -8.29419994354248, 0.6596999764442444, -3.3796000480651855, 3.3417000770568848, 7.13539981842041, -6.118199825286865, -1.3519999980926514, 1.892799973487854, 6.705399990081787]), f(x)=59.6039\n"
     ]
    },
    {
     "data": {
      "application/vnd.jupyter.widget-view+json": {
       "model_id": "460265fd71a143538eecb9ac9ecbb1a2",
       "version_major": 2,
       "version_minor": 0
      },
      "text/plain": [
       "Training GP:   0%|          | 0/500 [00:00<?, ?it/s]"
      ]
     },
     "metadata": {},
     "output_type": "display_data"
    },
    {
     "name": "stdout",
     "output_type": "stream",
     "text": [
      "Iteration 16, incumbent x=([3.1221001148223877, -8.914600372314453, 1.8595000505447388, 2.6266000270843506, -4.2221999168396, 3.5627999305725098, 1.299299955368042, -4.543499946594238, -4.8379998207092285, -3.603100061416626]), f(x)=37.2346\n"
     ]
    },
    {
     "data": {
      "application/vnd.jupyter.widget-view+json": {
       "model_id": "23533674a452477393c56ce0f4bbbd6d",
       "version_major": 2,
       "version_minor": 0
      },
      "text/plain": [
       "Training GP:   0%|          | 0/500 [00:00<?, ?it/s]"
      ]
     },
     "metadata": {},
     "output_type": "display_data"
    },
    {
     "name": "stdout",
     "output_type": "stream",
     "text": [
      "Iteration 17, incumbent x=([3.1221001148223877, -8.914600372314453, 1.8595000505447388, 2.6266000270843506, -4.2221999168396, 3.5627999305725098, 1.299299955368042, -4.543499946594238, -4.8379998207092285, -3.603100061416626]), f(x)=37.2346\n"
     ]
    },
    {
     "data": {
      "application/vnd.jupyter.widget-view+json": {
       "model_id": "b438097ded494b5fb616655d43388998",
       "version_major": 2,
       "version_minor": 0
      },
      "text/plain": [
       "Training GP:   0%|          | 0/500 [00:00<?, ?it/s]"
      ]
     },
     "metadata": {},
     "output_type": "display_data"
    },
    {
     "name": "stdout",
     "output_type": "stream",
     "text": [
      "Iteration 18, incumbent x=([3.1221001148223877, -8.914600372314453, 1.8595000505447388, 2.6266000270843506, -4.2221999168396, 3.5627999305725098, 1.299299955368042, -4.543499946594238, -4.8379998207092285, -3.603100061416626]), f(x)=37.2346\n"
     ]
    },
    {
     "data": {
      "application/vnd.jupyter.widget-view+json": {
       "model_id": "0ace6f08fb0145a9bc4b693f7b65fcb0",
       "version_major": 2,
       "version_minor": 0
      },
      "text/plain": [
       "Training GP:   0%|          | 0/500 [00:00<?, ?it/s]"
      ]
     },
     "metadata": {},
     "output_type": "display_data"
    },
    {
     "name": "stdout",
     "output_type": "stream",
     "text": [
      "Iteration 19, incumbent x=([3.1221001148223877, -8.914600372314453, 1.8595000505447388, 2.6266000270843506, -4.2221999168396, 3.5627999305725098, 1.299299955368042, -4.543499946594238, -4.8379998207092285, -3.603100061416626]), f(x)=37.2346\n"
     ]
    },
    {
     "data": {
      "application/vnd.jupyter.widget-view+json": {
       "model_id": "305a416940cb4f4783069efa6768edb7",
       "version_major": 2,
       "version_minor": 0
      },
      "text/plain": [
       "Training GP:   0%|          | 0/500 [00:00<?, ?it/s]"
      ]
     },
     "metadata": {},
     "output_type": "display_data"
    },
    {
     "name": "stdout",
     "output_type": "stream",
     "text": [
      "Iteration 20, incumbent x=([3.1221001148223877, -8.914600372314453, 1.8595000505447388, 2.6266000270843506, -4.2221999168396, 3.5627999305725098, 1.299299955368042, -4.543499946594238, -4.8379998207092285, -3.603100061416626]), f(x)=37.2346\n"
     ]
    },
    {
     "data": {
      "application/vnd.jupyter.widget-view+json": {
       "model_id": "ef1afec3755e454e93e711b324c85d38",
       "version_major": 2,
       "version_minor": 0
      },
      "text/plain": [
       "Training GP:   0%|          | 0/500 [00:00<?, ?it/s]"
      ]
     },
     "metadata": {},
     "output_type": "display_data"
    },
    {
     "name": "stdout",
     "output_type": "stream",
     "text": [
      "Iteration 21, incumbent x=([-0.24390000104904175, -2.027400016784668, 1.875100016593933, 6.565700054168701, -4.32480001449585, -0.8490999937057495, 3.8117001056671143, 0.635699987411499, 4.098100185394287, 2.3141000270843506]), f(x)=25.7048\n"
     ]
    },
    {
     "data": {
      "application/vnd.jupyter.widget-view+json": {
       "model_id": "f61b23ba066d4657b5fe46abffc36aa8",
       "version_major": 2,
       "version_minor": 0
      },
      "text/plain": [
       "Training GP:   0%|          | 0/500 [00:00<?, ?it/s]"
      ]
     },
     "metadata": {},
     "output_type": "display_data"
    },
    {
     "name": "stdout",
     "output_type": "stream",
     "text": [
      "Iteration 22, incumbent x=([-0.24390000104904175, -2.027400016784668, 1.875100016593933, 6.565700054168701, -4.32480001449585, -0.8490999937057495, 3.8117001056671143, 0.635699987411499, 4.098100185394287, 2.3141000270843506]), f(x)=25.7048\n"
     ]
    },
    {
     "data": {
      "application/vnd.jupyter.widget-view+json": {
       "model_id": "8910ea5b6fd74fc5aa1aea629e8ed694",
       "version_major": 2,
       "version_minor": 0
      },
      "text/plain": [
       "Training GP:   0%|          | 0/500 [00:00<?, ?it/s]"
      ]
     },
     "metadata": {},
     "output_type": "display_data"
    },
    {
     "name": "stdout",
     "output_type": "stream",
     "text": [
      "Iteration 23, incumbent x=([-0.24390000104904175, -2.027400016784668, 1.875100016593933, 6.565700054168701, -4.32480001449585, -0.8490999937057495, 3.8117001056671143, 0.635699987411499, 4.098100185394287, 2.3141000270843506]), f(x)=25.7048\n"
     ]
    },
    {
     "data": {
      "application/vnd.jupyter.widget-view+json": {
       "model_id": "da1eb2dc01a842a29c71c74a915f8405",
       "version_major": 2,
       "version_minor": 0
      },
      "text/plain": [
       "Training GP:   0%|          | 0/500 [00:00<?, ?it/s]"
      ]
     },
     "metadata": {},
     "output_type": "display_data"
    },
    {
     "name": "stdout",
     "output_type": "stream",
     "text": [
      "Iteration 24, incumbent x=([-0.24390000104904175, -2.027400016784668, 1.875100016593933, 6.565700054168701, -4.32480001449585, -0.8490999937057495, 3.8117001056671143, 0.635699987411499, 4.098100185394287, 2.3141000270843506]), f(x)=25.7048\n"
     ]
    },
    {
     "data": {
      "application/vnd.jupyter.widget-view+json": {
       "model_id": "54af77ccca8247a38ae49407b58bed94",
       "version_major": 2,
       "version_minor": 0
      },
      "text/plain": [
       "Training GP:   0%|          | 0/500 [00:00<?, ?it/s]"
      ]
     },
     "metadata": {},
     "output_type": "display_data"
    },
    {
     "name": "stdout",
     "output_type": "stream",
     "text": [
      "Iteration 25, incumbent x=([-0.24390000104904175, -2.027400016784668, 1.875100016593933, 6.565700054168701, -4.32480001449585, -0.8490999937057495, 3.8117001056671143, 0.635699987411499, 4.098100185394287, 2.3141000270843506]), f(x)=25.7048\n"
     ]
    },
    {
     "data": {
      "application/vnd.jupyter.widget-view+json": {
       "model_id": "4eb8c2438bd14bb3ba700224aed6da24",
       "version_major": 2,
       "version_minor": 0
      },
      "text/plain": [
       "Training GP:   0%|          | 0/500 [00:00<?, ?it/s]"
      ]
     },
     "metadata": {},
     "output_type": "display_data"
    },
    {
     "name": "stdout",
     "output_type": "stream",
     "text": [
      "Iteration 26, incumbent x=([-0.24390000104904175, -2.027400016784668, 1.875100016593933, 6.565700054168701, -4.32480001449585, -0.8490999937057495, 3.8117001056671143, 0.635699987411499, 4.098100185394287, 2.3141000270843506]), f(x)=25.7048\n"
     ]
    },
    {
     "data": {
      "application/vnd.jupyter.widget-view+json": {
       "model_id": "56fb450bfeaf4afc8e1b446aa0028c33",
       "version_major": 2,
       "version_minor": 0
      },
      "text/plain": [
       "Training GP:   0%|          | 0/500 [00:00<?, ?it/s]"
      ]
     },
     "metadata": {},
     "output_type": "display_data"
    },
    {
     "name": "stdout",
     "output_type": "stream",
     "text": [
      "Iteration 27, incumbent x=([-0.24390000104904175, -2.027400016784668, 1.875100016593933, 6.565700054168701, -4.32480001449585, -0.8490999937057495, 3.8117001056671143, 0.635699987411499, 4.098100185394287, 2.3141000270843506]), f(x)=25.7048\n"
     ]
    },
    {
     "data": {
      "application/vnd.jupyter.widget-view+json": {
       "model_id": "83d3997e61b943ab9032865dcb62e3ab",
       "version_major": 2,
       "version_minor": 0
      },
      "text/plain": [
       "Training GP:   0%|          | 0/500 [00:00<?, ?it/s]"
      ]
     },
     "metadata": {},
     "output_type": "display_data"
    },
    {
     "name": "stdout",
     "output_type": "stream",
     "text": [
      "Iteration 28, incumbent x=([-0.24390000104904175, -2.027400016784668, 1.875100016593933, 6.565700054168701, -4.32480001449585, -0.8490999937057495, 3.8117001056671143, 0.635699987411499, 4.098100185394287, 2.3141000270843506]), f(x)=25.7048\n"
     ]
    },
    {
     "data": {
      "application/vnd.jupyter.widget-view+json": {
       "model_id": "99dff45844c4482da3250afad15fa160",
       "version_major": 2,
       "version_minor": 0
      },
      "text/plain": [
       "Training GP:   0%|          | 0/500 [00:00<?, ?it/s]"
      ]
     },
     "metadata": {},
     "output_type": "display_data"
    },
    {
     "name": "stdout",
     "output_type": "stream",
     "text": [
      "Iteration 29, incumbent x=([-0.24390000104904175, -2.027400016784668, 1.875100016593933, 6.565700054168701, -4.32480001449585, -0.8490999937057495, 3.8117001056671143, 0.635699987411499, 4.098100185394287, 2.3141000270843506]), f(x)=25.7048\n"
     ]
    },
    {
     "data": {
      "application/vnd.jupyter.widget-view+json": {
       "model_id": "c1ef099ddb2d481e86ff35d0a7986d86",
       "version_major": 2,
       "version_minor": 0
      },
      "text/plain": [
       "Training GP:   0%|          | 0/500 [00:00<?, ?it/s]"
      ]
     },
     "metadata": {},
     "output_type": "display_data"
    },
    {
     "name": "stdout",
     "output_type": "stream",
     "text": [
      "Iteration 30, incumbent x=([-0.24390000104904175, -2.027400016784668, 1.875100016593933, 6.565700054168701, -4.32480001449585, -0.8490999937057495, 3.8117001056671143, 0.635699987411499, 4.098100185394287, 2.3141000270843506]), f(x)=25.7048\n"
     ]
    },
    {
     "data": {
      "application/vnd.jupyter.widget-view+json": {
       "model_id": "7b34f17c351b4da589de361f04c7837b",
       "version_major": 2,
       "version_minor": 0
      },
      "text/plain": [
       "Training GP:   0%|          | 0/500 [00:00<?, ?it/s]"
      ]
     },
     "metadata": {},
     "output_type": "display_data"
    },
    {
     "name": "stdout",
     "output_type": "stream",
     "text": [
      "Iteration 31, incumbent x=([-0.24390000104904175, -2.027400016784668, 1.875100016593933, 6.565700054168701, -4.32480001449585, -0.8490999937057495, 3.8117001056671143, 0.635699987411499, 4.098100185394287, 2.3141000270843506]), f(x)=25.7048\n"
     ]
    },
    {
     "data": {
      "application/vnd.jupyter.widget-view+json": {
       "model_id": "5ebeb17e6acd4019a5e4470ccc2ec8ee",
       "version_major": 2,
       "version_minor": 0
      },
      "text/plain": [
       "Training GP:   0%|          | 0/500 [00:00<?, ?it/s]"
      ]
     },
     "metadata": {},
     "output_type": "display_data"
    },
    {
     "name": "stdout",
     "output_type": "stream",
     "text": [
      "Iteration 32, incumbent x=([-0.24390000104904175, -2.027400016784668, 1.875100016593933, 6.565700054168701, -4.32480001449585, -0.8490999937057495, 3.8117001056671143, 0.635699987411499, 4.098100185394287, 2.3141000270843506]), f(x)=25.7048\n"
     ]
    },
    {
     "data": {
      "application/vnd.jupyter.widget-view+json": {
       "model_id": "31604879ba6d4ddb9bbcc7a872ee9536",
       "version_major": 2,
       "version_minor": 0
      },
      "text/plain": [
       "Training GP:   0%|          | 0/500 [00:00<?, ?it/s]"
      ]
     },
     "metadata": {},
     "output_type": "display_data"
    },
    {
     "name": "stdout",
     "output_type": "stream",
     "text": [
      "Iteration 33, incumbent x=([-0.24390000104904175, -2.027400016784668, 1.875100016593933, 6.565700054168701, -4.32480001449585, -0.8490999937057495, 3.8117001056671143, 0.635699987411499, 4.098100185394287, 2.3141000270843506]), f(x)=25.7048\n"
     ]
    },
    {
     "data": {
      "application/vnd.jupyter.widget-view+json": {
       "model_id": "ff31cf791139448484433b222cb23107",
       "version_major": 2,
       "version_minor": 0
      },
      "text/plain": [
       "Training GP:   0%|          | 0/500 [00:00<?, ?it/s]"
      ]
     },
     "metadata": {},
     "output_type": "display_data"
    },
    {
     "name": "stdout",
     "output_type": "stream",
     "text": [
      "Iteration 34, incumbent x=([-0.24390000104904175, -2.027400016784668, 1.875100016593933, 6.565700054168701, -4.32480001449585, -0.8490999937057495, 3.8117001056671143, 0.635699987411499, 4.098100185394287, 2.3141000270843506]), f(x)=25.7048\n"
     ]
    },
    {
     "data": {
      "application/vnd.jupyter.widget-view+json": {
       "model_id": "d423719bf0ce4a4eb108284bd4562cdb",
       "version_major": 2,
       "version_minor": 0
      },
      "text/plain": [
       "Training GP:   0%|          | 0/500 [00:00<?, ?it/s]"
      ]
     },
     "metadata": {},
     "output_type": "display_data"
    },
    {
     "name": "stdout",
     "output_type": "stream",
     "text": [
      "Iteration 35, incumbent x=([-0.24390000104904175, -2.027400016784668, 1.875100016593933, 6.565700054168701, -4.32480001449585, -0.8490999937057495, 3.8117001056671143, 0.635699987411499, 4.098100185394287, 2.3141000270843506]), f(x)=25.7048\n"
     ]
    },
    {
     "data": {
      "application/vnd.jupyter.widget-view+json": {
       "model_id": "9893752909e04e3887e3c65d4cbc40a8",
       "version_major": 2,
       "version_minor": 0
      },
      "text/plain": [
       "Training GP:   0%|          | 0/500 [00:00<?, ?it/s]"
      ]
     },
     "metadata": {},
     "output_type": "display_data"
    },
    {
     "name": "stdout",
     "output_type": "stream",
     "text": [
      "Iteration 36, incumbent x=([-0.24390000104904175, -2.027400016784668, 1.875100016593933, 6.565700054168701, -4.32480001449585, -0.8490999937057495, 3.8117001056671143, 0.635699987411499, 4.098100185394287, 2.3141000270843506]), f(x)=25.7048\n"
     ]
    },
    {
     "data": {
      "application/vnd.jupyter.widget-view+json": {
       "model_id": "d56b100566204bda98504c9b81baef9a",
       "version_major": 2,
       "version_minor": 0
      },
      "text/plain": [
       "Training GP:   0%|          | 0/500 [00:00<?, ?it/s]"
      ]
     },
     "metadata": {},
     "output_type": "display_data"
    },
    {
     "name": "stdout",
     "output_type": "stream",
     "text": [
      "Iteration 37, incumbent x=([-0.24390000104904175, -2.027400016784668, 1.875100016593933, 6.565700054168701, -4.32480001449585, -0.8490999937057495, 3.8117001056671143, 0.635699987411499, 4.098100185394287, 2.3141000270843506]), f(x)=25.7048\n"
     ]
    },
    {
     "data": {
      "application/vnd.jupyter.widget-view+json": {
       "model_id": "369f6a869dcf485db31e057752b9c610",
       "version_major": 2,
       "version_minor": 0
      },
      "text/plain": [
       "Training GP:   0%|          | 0/500 [00:00<?, ?it/s]"
      ]
     },
     "metadata": {},
     "output_type": "display_data"
    },
    {
     "name": "stdout",
     "output_type": "stream",
     "text": [
      "Iteration 38, incumbent x=([-0.24390000104904175, -2.027400016784668, 1.875100016593933, 6.565700054168701, -4.32480001449585, -0.8490999937057495, 3.8117001056671143, 0.635699987411499, 4.098100185394287, 2.3141000270843506]), f(x)=25.7048\n"
     ]
    },
    {
     "data": {
      "application/vnd.jupyter.widget-view+json": {
       "model_id": "d60a3d8168f34ef295ee9990520dc0f4",
       "version_major": 2,
       "version_minor": 0
      },
      "text/plain": [
       "Training GP:   0%|          | 0/500 [00:00<?, ?it/s]"
      ]
     },
     "metadata": {},
     "output_type": "display_data"
    },
    {
     "name": "stdout",
     "output_type": "stream",
     "text": [
      "Iteration 39, incumbent x=([-0.24390000104904175, -2.027400016784668, 1.875100016593933, 6.565700054168701, -4.32480001449585, -0.8490999937057495, 3.8117001056671143, 0.635699987411499, 4.098100185394287, 2.3141000270843506]), f(x)=25.7048\n"
     ]
    },
    {
     "data": {
      "application/vnd.jupyter.widget-view+json": {
       "model_id": "4df09762231845e09f0fa27a0cfedf5a",
       "version_major": 2,
       "version_minor": 0
      },
      "text/plain": [
       "Training GP:   0%|          | 0/500 [00:00<?, ?it/s]"
      ]
     },
     "metadata": {},
     "output_type": "display_data"
    },
    {
     "name": "stdout",
     "output_type": "stream",
     "text": [
      "Iteration 40, incumbent x=([-0.24390000104904175, -2.027400016784668, 1.875100016593933, 6.565700054168701, -4.32480001449585, -0.8490999937057495, 3.8117001056671143, 0.635699987411499, 4.098100185394287, 2.3141000270843506]), f(x)=25.7048\n"
     ]
    },
    {
     "data": {
      "application/vnd.jupyter.widget-view+json": {
       "model_id": "51f54f1f35404862b26183b99585e9a3",
       "version_major": 2,
       "version_minor": 0
      },
      "text/plain": [
       "Training GP:   0%|          | 0/500 [00:00<?, ?it/s]"
      ]
     },
     "metadata": {},
     "output_type": "display_data"
    },
    {
     "name": "stdout",
     "output_type": "stream",
     "text": [
      "Iteration 41, incumbent x=([-0.24390000104904175, -2.027400016784668, 1.875100016593933, 6.565700054168701, -4.32480001449585, -0.8490999937057495, 3.8117001056671143, 0.635699987411499, 4.098100185394287, 2.3141000270843506]), f(x)=25.7048\n"
     ]
    },
    {
     "data": {
      "application/vnd.jupyter.widget-view+json": {
       "model_id": "86c9c264da2c42f8a90585e26ffb72e1",
       "version_major": 2,
       "version_minor": 0
      },
      "text/plain": [
       "Training GP:   0%|          | 0/500 [00:00<?, ?it/s]"
      ]
     },
     "metadata": {},
     "output_type": "display_data"
    },
    {
     "name": "stdout",
     "output_type": "stream",
     "text": [
      "Iteration 42, incumbent x=([-0.24390000104904175, -2.027400016784668, 1.875100016593933, 6.565700054168701, -4.32480001449585, -0.8490999937057495, 3.8117001056671143, 0.635699987411499, 4.098100185394287, 2.3141000270843506]), f(x)=25.7048\n"
     ]
    },
    {
     "data": {
      "application/vnd.jupyter.widget-view+json": {
       "model_id": "7df74bf4a8e947509456330cb40d06a0",
       "version_major": 2,
       "version_minor": 0
      },
      "text/plain": [
       "Training GP:   0%|          | 0/500 [00:00<?, ?it/s]"
      ]
     },
     "metadata": {},
     "output_type": "display_data"
    },
    {
     "name": "stdout",
     "output_type": "stream",
     "text": [
      "Iteration 43, incumbent x=([-0.24390000104904175, -2.027400016784668, 1.875100016593933, 6.565700054168701, -4.32480001449585, -0.8490999937057495, 3.8117001056671143, 0.635699987411499, 4.098100185394287, 2.3141000270843506]), f(x)=25.7048\n"
     ]
    },
    {
     "data": {
      "application/vnd.jupyter.widget-view+json": {
       "model_id": "3bc30190b754493a9fef4caa94ae4eec",
       "version_major": 2,
       "version_minor": 0
      },
      "text/plain": [
       "Training GP:   0%|          | 0/500 [00:00<?, ?it/s]"
      ]
     },
     "metadata": {},
     "output_type": "display_data"
    },
    {
     "name": "stdout",
     "output_type": "stream",
     "text": [
      "Iteration 44, incumbent x=([-0.24390000104904175, -2.027400016784668, 1.875100016593933, 6.565700054168701, -4.32480001449585, -0.8490999937057495, 3.8117001056671143, 0.635699987411499, 4.098100185394287, 2.3141000270843506]), f(x)=25.7048\n"
     ]
    },
    {
     "data": {
      "application/vnd.jupyter.widget-view+json": {
       "model_id": "62505d8ac5a241b18a1df3f07445c5dc",
       "version_major": 2,
       "version_minor": 0
      },
      "text/plain": [
       "Training GP:   0%|          | 0/500 [00:00<?, ?it/s]"
      ]
     },
     "metadata": {},
     "output_type": "display_data"
    },
    {
     "name": "stdout",
     "output_type": "stream",
     "text": [
      "Iteration 45, incumbent x=([-0.24390000104904175, -2.027400016784668, 1.875100016593933, 6.565700054168701, -4.32480001449585, -0.8490999937057495, 3.8117001056671143, 0.635699987411499, 4.098100185394287, 2.3141000270843506]), f(x)=25.7048\n"
     ]
    },
    {
     "data": {
      "application/vnd.jupyter.widget-view+json": {
       "model_id": "a8796246f8dd4d75a35123ea17837826",
       "version_major": 2,
       "version_minor": 0
      },
      "text/plain": [
       "Training GP:   0%|          | 0/500 [00:00<?, ?it/s]"
      ]
     },
     "metadata": {},
     "output_type": "display_data"
    },
    {
     "name": "stdout",
     "output_type": "stream",
     "text": [
      "Iteration 46, incumbent x=([-0.24390000104904175, -2.027400016784668, 1.875100016593933, 6.565700054168701, -4.32480001449585, -0.8490999937057495, 3.8117001056671143, 0.635699987411499, 4.098100185394287, 2.3141000270843506]), f(x)=25.7048\n"
     ]
    },
    {
     "data": {
      "application/vnd.jupyter.widget-view+json": {
       "model_id": "bd859c4bda334fc39603dfad4f592a45",
       "version_major": 2,
       "version_minor": 0
      },
      "text/plain": [
       "Training GP:   0%|          | 0/500 [00:00<?, ?it/s]"
      ]
     },
     "metadata": {},
     "output_type": "display_data"
    },
    {
     "name": "stdout",
     "output_type": "stream",
     "text": [
      "Iteration 47, incumbent x=([-0.24390000104904175, -2.027400016784668, 1.875100016593933, 6.565700054168701, -4.32480001449585, -0.8490999937057495, 3.8117001056671143, 0.635699987411499, 4.098100185394287, 2.3141000270843506]), f(x)=25.7048\n"
     ]
    },
    {
     "data": {
      "application/vnd.jupyter.widget-view+json": {
       "model_id": "5157d251eca644f7af7630efcf3773b2",
       "version_major": 2,
       "version_minor": 0
      },
      "text/plain": [
       "Training GP:   0%|          | 0/500 [00:00<?, ?it/s]"
      ]
     },
     "metadata": {},
     "output_type": "display_data"
    },
    {
     "name": "stdout",
     "output_type": "stream",
     "text": [
      "Iteration 48, incumbent x=([-0.24390000104904175, -2.027400016784668, 1.875100016593933, 6.565700054168701, -4.32480001449585, -0.8490999937057495, 3.8117001056671143, 0.635699987411499, 4.098100185394287, 2.3141000270843506]), f(x)=25.7048\n"
     ]
    },
    {
     "data": {
      "application/vnd.jupyter.widget-view+json": {
       "model_id": "43cfa38a78a1410e9e46aceab0a388ee",
       "version_major": 2,
       "version_minor": 0
      },
      "text/plain": [
       "Training GP:   0%|          | 0/500 [00:00<?, ?it/s]"
      ]
     },
     "metadata": {},
     "output_type": "display_data"
    },
    {
     "name": "stdout",
     "output_type": "stream",
     "text": [
      "Iteration 49, incumbent x=([-0.24390000104904175, -2.027400016784668, 1.875100016593933, 6.565700054168701, -4.32480001449585, -0.8490999937057495, 3.8117001056671143, 0.635699987411499, 4.098100185394287, 2.3141000270843506]), f(x)=25.7048\n"
     ]
    },
    {
     "data": {
      "application/vnd.jupyter.widget-view+json": {
       "model_id": "a0b175a2d66c441c9f06b4d3db8631ef",
       "version_major": 2,
       "version_minor": 0
      },
      "text/plain": [
       "Training GP:   0%|          | 0/500 [00:00<?, ?it/s]"
      ]
     },
     "metadata": {},
     "output_type": "display_data"
    },
    {
     "name": "stdout",
     "output_type": "stream",
     "text": [
      "Iteration 50, incumbent x=([-0.24390000104904175, -2.027400016784668, 1.875100016593933, 6.565700054168701, -4.32480001449585, -0.8490999937057495, 3.8117001056671143, 0.635699987411499, 4.098100185394287, 2.3141000270843506]), f(x)=25.7048\n"
     ]
    },
    {
     "data": {
      "application/vnd.jupyter.widget-view+json": {
       "model_id": "41ade17cc49241a8a21f70b7b33ae9d2",
       "version_major": 2,
       "version_minor": 0
      },
      "text/plain": [
       "Training GP:   0%|          | 0/500 [00:00<?, ?it/s]"
      ]
     },
     "metadata": {},
     "output_type": "display_data"
    },
    {
     "name": "stdout",
     "output_type": "stream",
     "text": [
      "Iteration 51, incumbent x=([-0.24390000104904175, -2.027400016784668, 1.875100016593933, 6.565700054168701, -4.32480001449585, -0.8490999937057495, 3.8117001056671143, 0.635699987411499, 4.098100185394287, 2.3141000270843506]), f(x)=25.7048\n"
     ]
    },
    {
     "data": {
      "application/vnd.jupyter.widget-view+json": {
       "model_id": "c76be346f3f648638f4ec58bc8758513",
       "version_major": 2,
       "version_minor": 0
      },
      "text/plain": [
       "Training GP:   0%|          | 0/500 [00:00<?, ?it/s]"
      ]
     },
     "metadata": {},
     "output_type": "display_data"
    },
    {
     "name": "stdout",
     "output_type": "stream",
     "text": [
      "Iteration 52, incumbent x=([-0.24390000104904175, -2.027400016784668, 1.875100016593933, 6.565700054168701, -4.32480001449585, -0.8490999937057495, 3.8117001056671143, 0.635699987411499, 4.098100185394287, 2.3141000270843506]), f(x)=25.7048\n"
     ]
    },
    {
     "data": {
      "application/vnd.jupyter.widget-view+json": {
       "model_id": "e1f26e8d52df4298a2e46e5915963d38",
       "version_major": 2,
       "version_minor": 0
      },
      "text/plain": [
       "Training GP:   0%|          | 0/500 [00:00<?, ?it/s]"
      ]
     },
     "metadata": {},
     "output_type": "display_data"
    },
    {
     "name": "stdout",
     "output_type": "stream",
     "text": [
      "Iteration 53, incumbent x=([-0.24390000104904175, -2.027400016784668, 1.875100016593933, 6.565700054168701, -4.32480001449585, -0.8490999937057495, 3.8117001056671143, 0.635699987411499, 4.098100185394287, 2.3141000270843506]), f(x)=25.7048\n"
     ]
    },
    {
     "data": {
      "application/vnd.jupyter.widget-view+json": {
       "model_id": "d3de5d18aed64ca6a9502d07d15d1ad2",
       "version_major": 2,
       "version_minor": 0
      },
      "text/plain": [
       "Training GP:   0%|          | 0/500 [00:00<?, ?it/s]"
      ]
     },
     "metadata": {},
     "output_type": "display_data"
    },
    {
     "name": "stdout",
     "output_type": "stream",
     "text": [
      "Iteration 54, incumbent x=([-0.24390000104904175, -2.027400016784668, 1.875100016593933, 6.565700054168701, -4.32480001449585, -0.8490999937057495, 3.8117001056671143, 0.635699987411499, 4.098100185394287, 2.3141000270843506]), f(x)=25.7048\n"
     ]
    },
    {
     "data": {
      "application/vnd.jupyter.widget-view+json": {
       "model_id": "9df752c0073941a3b182cb18e3420f27",
       "version_major": 2,
       "version_minor": 0
      },
      "text/plain": [
       "Training GP:   0%|          | 0/500 [00:00<?, ?it/s]"
      ]
     },
     "metadata": {},
     "output_type": "display_data"
    },
    {
     "name": "stdout",
     "output_type": "stream",
     "text": [
      "Iteration 55, incumbent x=([-0.24390000104904175, -2.027400016784668, 1.875100016593933, 6.565700054168701, -4.32480001449585, -0.8490999937057495, 3.8117001056671143, 0.635699987411499, 4.098100185394287, 2.3141000270843506]), f(x)=25.7048\n"
     ]
    },
    {
     "data": {
      "application/vnd.jupyter.widget-view+json": {
       "model_id": "7192646ebc104d8a866d086b991e17c0",
       "version_major": 2,
       "version_minor": 0
      },
      "text/plain": [
       "Training GP:   0%|          | 0/500 [00:00<?, ?it/s]"
      ]
     },
     "metadata": {},
     "output_type": "display_data"
    },
    {
     "name": "stdout",
     "output_type": "stream",
     "text": [
      "Iteration 56, incumbent x=([-0.24390000104904175, -2.027400016784668, 1.875100016593933, 6.565700054168701, -4.32480001449585, -0.8490999937057495, 3.8117001056671143, 0.635699987411499, 4.098100185394287, 2.3141000270843506]), f(x)=25.7048\n"
     ]
    },
    {
     "data": {
      "application/vnd.jupyter.widget-view+json": {
       "model_id": "3c9c36ad68d4406baa7b280f04806fbd",
       "version_major": 2,
       "version_minor": 0
      },
      "text/plain": [
       "Training GP:   0%|          | 0/500 [00:00<?, ?it/s]"
      ]
     },
     "metadata": {},
     "output_type": "display_data"
    },
    {
     "name": "stdout",
     "output_type": "stream",
     "text": [
      "Iteration 57, incumbent x=([-0.24390000104904175, -2.027400016784668, 1.875100016593933, 6.565700054168701, -4.32480001449585, -0.8490999937057495, 3.8117001056671143, 0.635699987411499, 4.098100185394287, 2.3141000270843506]), f(x)=25.7048\n"
     ]
    },
    {
     "data": {
      "application/vnd.jupyter.widget-view+json": {
       "model_id": "9359d22b3edc4385b805bec1d5c7f917",
       "version_major": 2,
       "version_minor": 0
      },
      "text/plain": [
       "Training GP:   0%|          | 0/500 [00:00<?, ?it/s]"
      ]
     },
     "metadata": {},
     "output_type": "display_data"
    },
    {
     "name": "stdout",
     "output_type": "stream",
     "text": [
      "Iteration 58, incumbent x=([-0.24390000104904175, -2.027400016784668, 1.875100016593933, 6.565700054168701, -4.32480001449585, -0.8490999937057495, 3.8117001056671143, 0.635699987411499, 4.098100185394287, 2.3141000270843506]), f(x)=25.7048\n"
     ]
    },
    {
     "data": {
      "application/vnd.jupyter.widget-view+json": {
       "model_id": "5ac5dfe8d0e749dd8ed08cfa509737a9",
       "version_major": 2,
       "version_minor": 0
      },
      "text/plain": [
       "Training GP:   0%|          | 0/500 [00:00<?, ?it/s]"
      ]
     },
     "metadata": {},
     "output_type": "display_data"
    },
    {
     "name": "stdout",
     "output_type": "stream",
     "text": [
      "Iteration 59, incumbent x=([-0.24390000104904175, -2.027400016784668, 1.875100016593933, 6.565700054168701, -4.32480001449585, -0.8490999937057495, 3.8117001056671143, 0.635699987411499, 4.098100185394287, 2.3141000270843506]), f(x)=25.7048\n"
     ]
    },
    {
     "data": {
      "application/vnd.jupyter.widget-view+json": {
       "model_id": "0032c371b6494c2185da252e40783a20",
       "version_major": 2,
       "version_minor": 0
      },
      "text/plain": [
       "Training GP:   0%|          | 0/500 [00:00<?, ?it/s]"
      ]
     },
     "metadata": {},
     "output_type": "display_data"
    },
    {
     "name": "stdout",
     "output_type": "stream",
     "text": [
      "Iteration 60, incumbent x=([-0.24390000104904175, -2.027400016784668, 1.875100016593933, 6.565700054168701, -4.32480001449585, -0.8490999937057495, 3.8117001056671143, 0.635699987411499, 4.098100185394287, 2.3141000270843506]), f(x)=25.7048\n"
     ]
    },
    {
     "data": {
      "application/vnd.jupyter.widget-view+json": {
       "model_id": "643849afc5104dc393ad5d2bbaa2310f",
       "version_major": 2,
       "version_minor": 0
      },
      "text/plain": [
       "Training GP:   0%|          | 0/500 [00:00<?, ?it/s]"
      ]
     },
     "metadata": {},
     "output_type": "display_data"
    },
    {
     "name": "stdout",
     "output_type": "stream",
     "text": [
      "Iteration 61, incumbent x=([-0.24390000104904175, -2.027400016784668, 1.875100016593933, 6.565700054168701, -4.32480001449585, -0.8490999937057495, 3.8117001056671143, 0.635699987411499, 4.098100185394287, 2.3141000270843506]), f(x)=25.7048\n"
     ]
    },
    {
     "data": {
      "application/vnd.jupyter.widget-view+json": {
       "model_id": "9d3235afb27049caa5bfc1c3533aba37",
       "version_major": 2,
       "version_minor": 0
      },
      "text/plain": [
       "Training GP:   0%|          | 0/500 [00:00<?, ?it/s]"
      ]
     },
     "metadata": {},
     "output_type": "display_data"
    },
    {
     "name": "stdout",
     "output_type": "stream",
     "text": [
      "Iteration 62, incumbent x=([-0.24390000104904175, -2.027400016784668, 1.875100016593933, 6.565700054168701, -4.32480001449585, -0.8490999937057495, 3.8117001056671143, 0.635699987411499, 4.098100185394287, 2.3141000270843506]), f(x)=25.7048\n"
     ]
    },
    {
     "data": {
      "application/vnd.jupyter.widget-view+json": {
       "model_id": "c1754c9ff2d3476abe39d4565d3e5d36",
       "version_major": 2,
       "version_minor": 0
      },
      "text/plain": [
       "Training GP:   0%|          | 0/500 [00:00<?, ?it/s]"
      ]
     },
     "metadata": {},
     "output_type": "display_data"
    },
    {
     "name": "stdout",
     "output_type": "stream",
     "text": [
      "Iteration 63, incumbent x=([-0.24390000104904175, -2.027400016784668, 1.875100016593933, 6.565700054168701, -4.32480001449585, -0.8490999937057495, 3.8117001056671143, 0.635699987411499, 4.098100185394287, 2.3141000270843506]), f(x)=25.7048\n"
     ]
    },
    {
     "data": {
      "application/vnd.jupyter.widget-view+json": {
       "model_id": "3dac98f5267a408da091fb16bbe04ad0",
       "version_major": 2,
       "version_minor": 0
      },
      "text/plain": [
       "Training GP:   0%|          | 0/500 [00:00<?, ?it/s]"
      ]
     },
     "metadata": {},
     "output_type": "display_data"
    },
    {
     "name": "stdout",
     "output_type": "stream",
     "text": [
      "Iteration 64, incumbent x=([-0.24390000104904175, -2.027400016784668, 1.875100016593933, 6.565700054168701, -4.32480001449585, -0.8490999937057495, 3.8117001056671143, 0.635699987411499, 4.098100185394287, 2.3141000270843506]), f(x)=25.7048\n"
     ]
    },
    {
     "data": {
      "application/vnd.jupyter.widget-view+json": {
       "model_id": "af6bcb9d6bea45338eb0cbf00c71d3c3",
       "version_major": 2,
       "version_minor": 0
      },
      "text/plain": [
       "Training GP:   0%|          | 0/500 [00:00<?, ?it/s]"
      ]
     },
     "metadata": {},
     "output_type": "display_data"
    },
    {
     "name": "stdout",
     "output_type": "stream",
     "text": [
      "Iteration 65, incumbent x=([-0.24390000104904175, -2.027400016784668, 1.875100016593933, 6.565700054168701, -4.32480001449585, -0.8490999937057495, 3.8117001056671143, 0.635699987411499, 4.098100185394287, 2.3141000270843506]), f(x)=25.7048\n"
     ]
    },
    {
     "data": {
      "application/vnd.jupyter.widget-view+json": {
       "model_id": "15f1e8dd4d2f40f188221dfe40ad72c0",
       "version_major": 2,
       "version_minor": 0
      },
      "text/plain": [
       "Training GP:   0%|          | 0/500 [00:00<?, ?it/s]"
      ]
     },
     "metadata": {},
     "output_type": "display_data"
    },
    {
     "name": "stdout",
     "output_type": "stream",
     "text": [
      "Iteration 66, incumbent x=([-0.24390000104904175, -2.027400016784668, 1.875100016593933, 6.565700054168701, -4.32480001449585, -0.8490999937057495, 3.8117001056671143, 0.635699987411499, 4.098100185394287, 2.3141000270843506]), f(x)=25.7048\n"
     ]
    },
    {
     "data": {
      "application/vnd.jupyter.widget-view+json": {
       "model_id": "3ca273cfc19643939860114c550e9c24",
       "version_major": 2,
       "version_minor": 0
      },
      "text/plain": [
       "Training GP:   0%|          | 0/500 [00:00<?, ?it/s]"
      ]
     },
     "metadata": {},
     "output_type": "display_data"
    },
    {
     "name": "stdout",
     "output_type": "stream",
     "text": [
      "Iteration 67, incumbent x=([-0.24390000104904175, -2.027400016784668, 1.875100016593933, 6.565700054168701, -4.32480001449585, -0.8490999937057495, 3.8117001056671143, 0.635699987411499, 4.098100185394287, 2.3141000270843506]), f(x)=25.7048\n"
     ]
    },
    {
     "data": {
      "application/vnd.jupyter.widget-view+json": {
       "model_id": "8e8974a3611d4bab8b9f36e3cb892976",
       "version_major": 2,
       "version_minor": 0
      },
      "text/plain": [
       "Training GP:   0%|          | 0/500 [00:00<?, ?it/s]"
      ]
     },
     "metadata": {},
     "output_type": "display_data"
    },
    {
     "name": "stdout",
     "output_type": "stream",
     "text": [
      "Iteration 68, incumbent x=([-0.24390000104904175, -2.027400016784668, 1.875100016593933, 6.565700054168701, -4.32480001449585, -0.8490999937057495, 3.8117001056671143, 0.635699987411499, 4.098100185394287, 2.3141000270843506]), f(x)=25.7048\n"
     ]
    },
    {
     "data": {
      "application/vnd.jupyter.widget-view+json": {
       "model_id": "34926c5bc65e4a99914192b7dedde6f6",
       "version_major": 2,
       "version_minor": 0
      },
      "text/plain": [
       "Training GP:   0%|          | 0/500 [00:00<?, ?it/s]"
      ]
     },
     "metadata": {},
     "output_type": "display_data"
    },
    {
     "name": "stdout",
     "output_type": "stream",
     "text": [
      "Iteration 69, incumbent x=([-0.24390000104904175, -2.027400016784668, 1.875100016593933, 6.565700054168701, -4.32480001449585, -0.8490999937057495, 3.8117001056671143, 0.635699987411499, 4.098100185394287, 2.3141000270843506]), f(x)=25.7048\n"
     ]
    },
    {
     "data": {
      "application/vnd.jupyter.widget-view+json": {
       "model_id": "42452b7dd7f249ac86bf268956d03894",
       "version_major": 2,
       "version_minor": 0
      },
      "text/plain": [
       "Training GP:   0%|          | 0/500 [00:00<?, ?it/s]"
      ]
     },
     "metadata": {},
     "output_type": "display_data"
    },
    {
     "name": "stdout",
     "output_type": "stream",
     "text": [
      "Iteration 70, incumbent x=([-0.24390000104904175, -2.027400016784668, 1.875100016593933, 6.565700054168701, -4.32480001449585, -0.8490999937057495, 3.8117001056671143, 0.635699987411499, 4.098100185394287, 2.3141000270843506]), f(x)=25.7048\n"
     ]
    },
    {
     "data": {
      "application/vnd.jupyter.widget-view+json": {
       "model_id": "83a35d544ab2455cb3172a739d9c3160",
       "version_major": 2,
       "version_minor": 0
      },
      "text/plain": [
       "Training GP:   0%|          | 0/500 [00:00<?, ?it/s]"
      ]
     },
     "metadata": {},
     "output_type": "display_data"
    },
    {
     "name": "stdout",
     "output_type": "stream",
     "text": [
      "Iteration 71, incumbent x=([-0.24390000104904175, -2.027400016784668, 1.875100016593933, 6.565700054168701, -4.32480001449585, -0.8490999937057495, 3.8117001056671143, 0.635699987411499, 4.098100185394287, 2.3141000270843506]), f(x)=25.7048\n"
     ]
    },
    {
     "data": {
      "application/vnd.jupyter.widget-view+json": {
       "model_id": "83572ed0fe3543bbbe39a4d164f725c0",
       "version_major": 2,
       "version_minor": 0
      },
      "text/plain": [
       "Training GP:   0%|          | 0/500 [00:00<?, ?it/s]"
      ]
     },
     "metadata": {},
     "output_type": "display_data"
    },
    {
     "name": "stdout",
     "output_type": "stream",
     "text": [
      "Iteration 72, incumbent x=([-0.24390000104904175, -2.027400016784668, 1.875100016593933, 6.565700054168701, -4.32480001449585, -0.8490999937057495, 3.8117001056671143, 0.635699987411499, 4.098100185394287, 2.3141000270843506]), f(x)=25.7048\n"
     ]
    },
    {
     "data": {
      "application/vnd.jupyter.widget-view+json": {
       "model_id": "6632b5d171714b93929a940be0da4fce",
       "version_major": 2,
       "version_minor": 0
      },
      "text/plain": [
       "Training GP:   0%|          | 0/500 [00:00<?, ?it/s]"
      ]
     },
     "metadata": {},
     "output_type": "display_data"
    },
    {
     "name": "stdout",
     "output_type": "stream",
     "text": [
      "Iteration 73, incumbent x=([-0.24390000104904175, -2.027400016784668, 1.875100016593933, 6.565700054168701, -4.32480001449585, -0.8490999937057495, 3.8117001056671143, 0.635699987411499, 4.098100185394287, 2.3141000270843506]), f(x)=25.7048\n"
     ]
    },
    {
     "data": {
      "application/vnd.jupyter.widget-view+json": {
       "model_id": "a643318cac4b47429cd49fbc0f9812b3",
       "version_major": 2,
       "version_minor": 0
      },
      "text/plain": [
       "Training GP:   0%|          | 0/500 [00:00<?, ?it/s]"
      ]
     },
     "metadata": {},
     "output_type": "display_data"
    },
    {
     "name": "stdout",
     "output_type": "stream",
     "text": [
      "Iteration 74, incumbent x=([-0.24390000104904175, -2.027400016784668, 1.875100016593933, 6.565700054168701, -4.32480001449585, -0.8490999937057495, 3.8117001056671143, 0.635699987411499, 4.098100185394287, 2.3141000270843506]), f(x)=25.7048\n"
     ]
    },
    {
     "data": {
      "application/vnd.jupyter.widget-view+json": {
       "model_id": "59a340a9c69f480d841f72b73dbac2c2",
       "version_major": 2,
       "version_minor": 0
      },
      "text/plain": [
       "Training GP:   0%|          | 0/500 [00:00<?, ?it/s]"
      ]
     },
     "metadata": {},
     "output_type": "display_data"
    },
    {
     "name": "stdout",
     "output_type": "stream",
     "text": [
      "Iteration 75, incumbent x=([-0.24390000104904175, -2.027400016784668, 1.875100016593933, 6.565700054168701, -4.32480001449585, -0.8490999937057495, 3.8117001056671143, 0.635699987411499, 4.098100185394287, 2.3141000270843506]), f(x)=25.7048\n"
     ]
    },
    {
     "data": {
      "application/vnd.jupyter.widget-view+json": {
       "model_id": "44504b05b42d4fe4bba2343ff77740a1",
       "version_major": 2,
       "version_minor": 0
      },
      "text/plain": [
       "Training GP:   0%|          | 0/500 [00:00<?, ?it/s]"
      ]
     },
     "metadata": {},
     "output_type": "display_data"
    },
    {
     "name": "stdout",
     "output_type": "stream",
     "text": [
      "Iteration 76, incumbent x=([-0.24390000104904175, -2.027400016784668, 1.875100016593933, 6.565700054168701, -4.32480001449585, -0.8490999937057495, 3.8117001056671143, 0.635699987411499, 4.098100185394287, 2.3141000270843506]), f(x)=25.7048\n"
     ]
    },
    {
     "data": {
      "application/vnd.jupyter.widget-view+json": {
       "model_id": "4888089ab9044a30b6db6b1c276ee415",
       "version_major": 2,
       "version_minor": 0
      },
      "text/plain": [
       "Training GP:   0%|          | 0/500 [00:00<?, ?it/s]"
      ]
     },
     "metadata": {},
     "output_type": "display_data"
    },
    {
     "name": "stdout",
     "output_type": "stream",
     "text": [
      "Iteration 77, incumbent x=([-0.24390000104904175, -2.027400016784668, 1.875100016593933, 6.565700054168701, -4.32480001449585, -0.8490999937057495, 3.8117001056671143, 0.635699987411499, 4.098100185394287, 2.3141000270843506]), f(x)=25.7048\n"
     ]
    },
    {
     "data": {
      "application/vnd.jupyter.widget-view+json": {
       "model_id": "eaa38b0df10a4241811b62e735f8908b",
       "version_major": 2,
       "version_minor": 0
      },
      "text/plain": [
       "Training GP:   0%|          | 0/500 [00:00<?, ?it/s]"
      ]
     },
     "metadata": {},
     "output_type": "display_data"
    },
    {
     "name": "stdout",
     "output_type": "stream",
     "text": [
      "Iteration 78, incumbent x=([-0.24390000104904175, -2.027400016784668, 1.875100016593933, 6.565700054168701, -4.32480001449585, -0.8490999937057495, 3.8117001056671143, 0.635699987411499, 4.098100185394287, 2.3141000270843506]), f(x)=25.7048\n"
     ]
    },
    {
     "data": {
      "application/vnd.jupyter.widget-view+json": {
       "model_id": "46d51057a8c742acafdf2948411a953b",
       "version_major": 2,
       "version_minor": 0
      },
      "text/plain": [
       "Training GP:   0%|          | 0/500 [00:00<?, ?it/s]"
      ]
     },
     "metadata": {},
     "output_type": "display_data"
    },
    {
     "name": "stdout",
     "output_type": "stream",
     "text": [
      "Iteration 79, incumbent x=([-0.24390000104904175, -2.027400016784668, 1.875100016593933, 6.565700054168701, -4.32480001449585, -0.8490999937057495, 3.8117001056671143, 0.635699987411499, 4.098100185394287, 2.3141000270843506]), f(x)=25.7048\n"
     ]
    },
    {
     "data": {
      "application/vnd.jupyter.widget-view+json": {
       "model_id": "6ad6104bf109418398832452ed320721",
       "version_major": 2,
       "version_minor": 0
      },
      "text/plain": [
       "Training GP:   0%|          | 0/500 [00:00<?, ?it/s]"
      ]
     },
     "metadata": {},
     "output_type": "display_data"
    },
    {
     "name": "stdout",
     "output_type": "stream",
     "text": [
      "Iteration 80, incumbent x=([-0.24390000104904175, -2.027400016784668, 1.875100016593933, 6.565700054168701, -4.32480001449585, -0.8490999937057495, 3.8117001056671143, 0.635699987411499, 4.098100185394287, 2.3141000270843506]), f(x)=25.7048\n"
     ]
    },
    {
     "data": {
      "application/vnd.jupyter.widget-view+json": {
       "model_id": "80ee621633ca46408241c72b5f2a8190",
       "version_major": 2,
       "version_minor": 0
      },
      "text/plain": [
       "Training GP:   0%|          | 0/500 [00:00<?, ?it/s]"
      ]
     },
     "metadata": {},
     "output_type": "display_data"
    },
    {
     "name": "stdout",
     "output_type": "stream",
     "text": [
      "Iteration 81, incumbent x=([-0.24390000104904175, -2.027400016784668, 1.875100016593933, 6.565700054168701, -4.32480001449585, -0.8490999937057495, 3.8117001056671143, 0.635699987411499, 4.098100185394287, 2.3141000270843506]), f(x)=25.7048\n"
     ]
    },
    {
     "data": {
      "application/vnd.jupyter.widget-view+json": {
       "model_id": "5d248030f8704de7a9bbbf2a75fe9f80",
       "version_major": 2,
       "version_minor": 0
      },
      "text/plain": [
       "Training GP:   0%|          | 0/500 [00:00<?, ?it/s]"
      ]
     },
     "metadata": {},
     "output_type": "display_data"
    },
    {
     "name": "stdout",
     "output_type": "stream",
     "text": [
      "Iteration 82, incumbent x=([-0.24390000104904175, -2.027400016784668, 1.875100016593933, 6.565700054168701, -4.32480001449585, -0.8490999937057495, 3.8117001056671143, 0.635699987411499, 4.098100185394287, 2.3141000270843506]), f(x)=25.7048\n"
     ]
    },
    {
     "data": {
      "application/vnd.jupyter.widget-view+json": {
       "model_id": "29fff600b9394b2ca79d833cb922cb41",
       "version_major": 2,
       "version_minor": 0
      },
      "text/plain": [
       "Training GP:   0%|          | 0/500 [00:00<?, ?it/s]"
      ]
     },
     "metadata": {},
     "output_type": "display_data"
    },
    {
     "name": "stdout",
     "output_type": "stream",
     "text": [
      "Iteration 83, incumbent x=([-0.24390000104904175, -2.027400016784668, 1.875100016593933, 6.565700054168701, -4.32480001449585, -0.8490999937057495, 3.8117001056671143, 0.635699987411499, 4.098100185394287, 2.3141000270843506]), f(x)=25.7048\n"
     ]
    },
    {
     "data": {
      "application/vnd.jupyter.widget-view+json": {
       "model_id": "9e53055769e94985894311fde0648cc2",
       "version_major": 2,
       "version_minor": 0
      },
      "text/plain": [
       "Training GP:   0%|          | 0/500 [00:00<?, ?it/s]"
      ]
     },
     "metadata": {},
     "output_type": "display_data"
    },
    {
     "name": "stdout",
     "output_type": "stream",
     "text": [
      "Iteration 84, incumbent x=([-0.24390000104904175, -2.027400016784668, 1.875100016593933, 6.565700054168701, -4.32480001449585, -0.8490999937057495, 3.8117001056671143, 0.635699987411499, 4.098100185394287, 2.3141000270843506]), f(x)=25.7048\n"
     ]
    },
    {
     "data": {
      "application/vnd.jupyter.widget-view+json": {
       "model_id": "e453adbcac7248a0b5301da6af559d3f",
       "version_major": 2,
       "version_minor": 0
      },
      "text/plain": [
       "Training GP:   0%|          | 0/500 [00:00<?, ?it/s]"
      ]
     },
     "metadata": {},
     "output_type": "display_data"
    },
    {
     "name": "stdout",
     "output_type": "stream",
     "text": [
      "Iteration 85, incumbent x=([-0.24390000104904175, -2.027400016784668, 1.875100016593933, 6.565700054168701, -4.32480001449585, -0.8490999937057495, 3.8117001056671143, 0.635699987411499, 4.098100185394287, 2.3141000270843506]), f(x)=25.7048\n"
     ]
    },
    {
     "data": {
      "application/vnd.jupyter.widget-view+json": {
       "model_id": "300856a24b4e42229a177152677ea9b7",
       "version_major": 2,
       "version_minor": 0
      },
      "text/plain": [
       "Training GP:   0%|          | 0/500 [00:00<?, ?it/s]"
      ]
     },
     "metadata": {},
     "output_type": "display_data"
    },
    {
     "name": "stdout",
     "output_type": "stream",
     "text": [
      "Iteration 86, incumbent x=([-0.24390000104904175, -2.027400016784668, 1.875100016593933, 6.565700054168701, -4.32480001449585, -0.8490999937057495, 3.8117001056671143, 0.635699987411499, 4.098100185394287, 2.3141000270843506]), f(x)=25.7048\n"
     ]
    },
    {
     "data": {
      "application/vnd.jupyter.widget-view+json": {
       "model_id": "3e6611cba27f490fa9549e8ec3e6a78e",
       "version_major": 2,
       "version_minor": 0
      },
      "text/plain": [
       "Training GP:   0%|          | 0/500 [00:00<?, ?it/s]"
      ]
     },
     "metadata": {},
     "output_type": "display_data"
    },
    {
     "name": "stdout",
     "output_type": "stream",
     "text": [
      "Iteration 87, incumbent x=([-0.24390000104904175, -2.027400016784668, 1.875100016593933, 6.565700054168701, -4.32480001449585, -0.8490999937057495, 3.8117001056671143, 0.635699987411499, 4.098100185394287, 2.3141000270843506]), f(x)=25.7048\n"
     ]
    },
    {
     "data": {
      "application/vnd.jupyter.widget-view+json": {
       "model_id": "063e0e2b22974e2ebab7620433e82a34",
       "version_major": 2,
       "version_minor": 0
      },
      "text/plain": [
       "Training GP:   0%|          | 0/500 [00:00<?, ?it/s]"
      ]
     },
     "metadata": {},
     "output_type": "display_data"
    },
    {
     "name": "stdout",
     "output_type": "stream",
     "text": [
      "Iteration 88, incumbent x=([-0.24390000104904175, -2.027400016784668, 1.875100016593933, 6.565700054168701, -4.32480001449585, -0.8490999937057495, 3.8117001056671143, 0.635699987411499, 4.098100185394287, 2.3141000270843506]), f(x)=25.7048\n"
     ]
    },
    {
     "data": {
      "application/vnd.jupyter.widget-view+json": {
       "model_id": "53b370ec03fd4e2cb2cfa37205312e26",
       "version_major": 2,
       "version_minor": 0
      },
      "text/plain": [
       "Training GP:   0%|          | 0/500 [00:00<?, ?it/s]"
      ]
     },
     "metadata": {},
     "output_type": "display_data"
    },
    {
     "name": "stdout",
     "output_type": "stream",
     "text": [
      "Iteration 89, incumbent x=([-0.24390000104904175, -2.027400016784668, 1.875100016593933, 6.565700054168701, -4.32480001449585, -0.8490999937057495, 3.8117001056671143, 0.635699987411499, 4.098100185394287, 2.3141000270843506]), f(x)=25.7048\n"
     ]
    },
    {
     "data": {
      "application/vnd.jupyter.widget-view+json": {
       "model_id": "ba69e21241c04aba87f37e19352a6778",
       "version_major": 2,
       "version_minor": 0
      },
      "text/plain": [
       "Training GP:   0%|          | 0/500 [00:00<?, ?it/s]"
      ]
     },
     "metadata": {},
     "output_type": "display_data"
    },
    {
     "name": "stdout",
     "output_type": "stream",
     "text": [
      "Iteration 90, incumbent x=([-0.24390000104904175, -2.027400016784668, 1.875100016593933, 6.565700054168701, -4.32480001449585, -0.8490999937057495, 3.8117001056671143, 0.635699987411499, 4.098100185394287, 2.3141000270843506]), f(x)=25.7048\n"
     ]
    },
    {
     "data": {
      "application/vnd.jupyter.widget-view+json": {
       "model_id": "ca4bd40c94154d8fbb171eb38f9f6e0f",
       "version_major": 2,
       "version_minor": 0
      },
      "text/plain": [
       "Training GP:   0%|          | 0/500 [00:00<?, ?it/s]"
      ]
     },
     "metadata": {},
     "output_type": "display_data"
    },
    {
     "name": "stdout",
     "output_type": "stream",
     "text": [
      "Iteration 91, incumbent x=([-0.24390000104904175, -2.027400016784668, 1.875100016593933, 6.565700054168701, -4.32480001449585, -0.8490999937057495, 3.8117001056671143, 0.635699987411499, 4.098100185394287, 2.3141000270843506]), f(x)=25.7048\n"
     ]
    },
    {
     "data": {
      "application/vnd.jupyter.widget-view+json": {
       "model_id": "fe676418b6834dc6aae45516fb182c0c",
       "version_major": 2,
       "version_minor": 0
      },
      "text/plain": [
       "Training GP:   0%|          | 0/500 [00:00<?, ?it/s]"
      ]
     },
     "metadata": {},
     "output_type": "display_data"
    },
    {
     "name": "stdout",
     "output_type": "stream",
     "text": [
      "Iteration 92, incumbent x=([-0.24390000104904175, -2.027400016784668, 1.875100016593933, 6.565700054168701, -4.32480001449585, -0.8490999937057495, 3.8117001056671143, 0.635699987411499, 4.098100185394287, 2.3141000270843506]), f(x)=25.7048\n"
     ]
    },
    {
     "data": {
      "application/vnd.jupyter.widget-view+json": {
       "model_id": "a48a6fef1c8b44bba89b381162383518",
       "version_major": 2,
       "version_minor": 0
      },
      "text/plain": [
       "Training GP:   0%|          | 0/500 [00:00<?, ?it/s]"
      ]
     },
     "metadata": {},
     "output_type": "display_data"
    },
    {
     "name": "stdout",
     "output_type": "stream",
     "text": [
      "Iteration 93, incumbent x=([-0.24390000104904175, -2.027400016784668, 1.875100016593933, 6.565700054168701, -4.32480001449585, -0.8490999937057495, 3.8117001056671143, 0.635699987411499, 4.098100185394287, 2.3141000270843506]), f(x)=25.7048\n"
     ]
    },
    {
     "data": {
      "application/vnd.jupyter.widget-view+json": {
       "model_id": "4508832bad664e08b5062c8cde3f544e",
       "version_major": 2,
       "version_minor": 0
      },
      "text/plain": [
       "Training GP:   0%|          | 0/500 [00:00<?, ?it/s]"
      ]
     },
     "metadata": {},
     "output_type": "display_data"
    },
    {
     "name": "stdout",
     "output_type": "stream",
     "text": [
      "Iteration 94, incumbent x=([-0.24390000104904175, -2.027400016784668, 1.875100016593933, 6.565700054168701, -4.32480001449585, -0.8490999937057495, 3.8117001056671143, 0.635699987411499, 4.098100185394287, 2.3141000270843506]), f(x)=25.7048\n"
     ]
    },
    {
     "data": {
      "application/vnd.jupyter.widget-view+json": {
       "model_id": "ba2e2db003d140e7a7b54325ac3a1bb3",
       "version_major": 2,
       "version_minor": 0
      },
      "text/plain": [
       "Training GP:   0%|          | 0/500 [00:00<?, ?it/s]"
      ]
     },
     "metadata": {},
     "output_type": "display_data"
    },
    {
     "name": "stdout",
     "output_type": "stream",
     "text": [
      "Iteration 95, incumbent x=([-0.24390000104904175, -2.027400016784668, 1.875100016593933, 6.565700054168701, -4.32480001449585, -0.8490999937057495, 3.8117001056671143, 0.635699987411499, 4.098100185394287, 2.3141000270843506]), f(x)=25.7048\n"
     ]
    },
    {
     "data": {
      "application/vnd.jupyter.widget-view+json": {
       "model_id": "93796ad85b4d4ce4a82c4d905ebb9ee9",
       "version_major": 2,
       "version_minor": 0
      },
      "text/plain": [
       "Training GP:   0%|          | 0/500 [00:00<?, ?it/s]"
      ]
     },
     "metadata": {},
     "output_type": "display_data"
    },
    {
     "name": "stdout",
     "output_type": "stream",
     "text": [
      "Iteration 96, incumbent x=([-0.24390000104904175, -2.027400016784668, 1.875100016593933, 6.565700054168701, -4.32480001449585, -0.8490999937057495, 3.8117001056671143, 0.635699987411499, 4.098100185394287, 2.3141000270843506]), f(x)=25.7048\n"
     ]
    },
    {
     "data": {
      "application/vnd.jupyter.widget-view+json": {
       "model_id": "96a57efc52b946e081dbfb610bdbdcca",
       "version_major": 2,
       "version_minor": 0
      },
      "text/plain": [
       "Training GP:   0%|          | 0/500 [00:00<?, ?it/s]"
      ]
     },
     "metadata": {},
     "output_type": "display_data"
    },
    {
     "name": "stdout",
     "output_type": "stream",
     "text": [
      "Iteration 97, incumbent x=([-0.24390000104904175, -2.027400016784668, 1.875100016593933, 6.565700054168701, -4.32480001449585, -0.8490999937057495, 3.8117001056671143, 0.635699987411499, 4.098100185394287, 2.3141000270843506]), f(x)=25.7048\n"
     ]
    },
    {
     "data": {
      "application/vnd.jupyter.widget-view+json": {
       "model_id": "4049203768c743d39649c23bf4812f96",
       "version_major": 2,
       "version_minor": 0
      },
      "text/plain": [
       "Training GP:   0%|          | 0/500 [00:00<?, ?it/s]"
      ]
     },
     "metadata": {},
     "output_type": "display_data"
    },
    {
     "name": "stdout",
     "output_type": "stream",
     "text": [
      "Iteration 98, incumbent x=([-0.24390000104904175, -2.027400016784668, 1.875100016593933, 6.565700054168701, -4.32480001449585, -0.8490999937057495, 3.8117001056671143, 0.635699987411499, 4.098100185394287, 2.3141000270843506]), f(x)=25.7048\n"
     ]
    },
    {
     "data": {
      "application/vnd.jupyter.widget-view+json": {
       "model_id": "6709874781864f8c83f47db593d6ab95",
       "version_major": 2,
       "version_minor": 0
      },
      "text/plain": [
       "Training GP:   0%|          | 0/500 [00:00<?, ?it/s]"
      ]
     },
     "metadata": {},
     "output_type": "display_data"
    },
    {
     "name": "stdout",
     "output_type": "stream",
     "text": [
      "Iteration 99, incumbent x=([-0.24390000104904175, -2.027400016784668, 1.875100016593933, 6.565700054168701, -4.32480001449585, -0.8490999937057495, 3.8117001056671143, 0.635699987411499, 4.098100185394287, 2.3141000270843506]), f(x)=25.7048\n"
     ]
    },
    {
     "data": {
      "application/vnd.jupyter.widget-view+json": {
       "model_id": "dd1e31d6b36a43d7a594d162a78ffd6c",
       "version_major": 2,
       "version_minor": 0
      },
      "text/plain": [
       "Training GP:   0%|          | 0/500 [00:00<?, ?it/s]"
      ]
     },
     "metadata": {},
     "output_type": "display_data"
    },
    {
     "name": "stdout",
     "output_type": "stream",
     "text": [
      "\n",
      "Run 8/10\n",
      "Initial points (x1, ..., x10, f(x)):\n",
      "tensor([[ 3.1157e+00, -3.9595e+00, -4.0207e-01,  5.5475e+00,  8.3593e+00,\n",
      "          8.6207e+00, -4.7928e+00,  9.0685e+00, -2.3912e+00, -1.7913e+00,\n",
      "          9.7243e+01],\n",
      "        [ 9.0204e+00,  1.3726e+00, -7.2381e+00, -5.8627e+00,  2.7801e-01,\n",
      "         -3.0001e-01,  3.8543e-01, -3.0644e+00, -1.0469e+00,  2.6311e+00,\n",
      "          9.8669e+01],\n",
      "        [ 3.8949e+00,  6.4294e+00,  8.2225e+00,  4.6300e+00, -1.0642e+00,\n",
      "         -8.5508e+00,  8.3917e+00,  5.6689e+00,  9.4298e+00,  1.9281e+00,\n",
      "          1.1167e+02],\n",
      "        [ 2.5303e+00,  3.3767e+00,  7.7965e+00,  6.3557e+00,  4.5227e+00,\n",
      "         -1.8673e+00, -5.0705e+00,  1.6451e+00,  6.4284e+00, -2.6864e-01,\n",
      "          5.5720e+01],\n",
      "        [ 8.7631e+00, -6.6987e+00,  5.5260e+00,  2.1329e+00, -6.6632e+00,\n",
      "          4.5894e+00, -5.7774e+00,  6.8942e+00,  5.4850e+00, -8.9282e+00,\n",
      "          1.7332e+02],\n",
      "        [ 5.1476e+00,  1.5947e+00,  4.7994e+00,  4.8247e+00, -1.4623e+00,\n",
      "         -3.9021e+00, -2.0463e+00, -3.5318e+00, -8.9508e+00,  3.8159e+00,\n",
      "          6.2126e+01],\n",
      "        [-4.3528e+00,  2.4702e+00, -2.5406e+00,  7.1441e+00,  7.3155e-01,\n",
      "         -9.2740e+00, -2.6564e-02, -1.4913e+00, -5.2477e+00,  8.5671e+00,\n",
      "          8.0803e+01],\n",
      "        [ 1.8123e+00, -3.0947e+00, -9.8603e+00,  9.1042e+00, -7.6167e+00,\n",
      "          9.3229e-01,  6.1380e+00, -8.5022e+00,  3.2978e+00,  9.5586e+00,\n",
      "          1.6608e+02],\n",
      "        [-4.0467e+00, -3.3697e+00, -9.0376e+00, -9.9274e+00, -2.7730e+00,\n",
      "          7.6098e+00,  4.3946e-02, -7.5143e+00,  6.4905e+00,  1.0440e+00,\n",
      "          1.5707e+02],\n",
      "        [ 9.2763e+00, -9.7420e+00, -9.1086e+00,  1.0394e+00, -7.9306e+00,\n",
      "         -8.5820e+00,  7.0244e+00, -8.2273e+00, -7.9913e+00,  2.8992e+00,\n",
      "          1.7881e+02]])\n"
     ]
    },
    {
     "data": {
      "application/vnd.jupyter.widget-view+json": {
       "model_id": "d917f83063be413d870759780b5f58bf",
       "version_major": 2,
       "version_minor": 0
      },
      "text/plain": [
       "Training GP:   0%|          | 0/500 [00:00<?, ?it/s]"
      ]
     },
     "metadata": {},
     "output_type": "display_data"
    },
    {
     "name": "stdout",
     "output_type": "stream",
     "text": [
      "Iteration 0, incumbent x=([2.5302999019622803, 3.376699924468994, 7.796500205993652, 6.3557000160217285, 4.52269983291626, -1.867300033569336, -5.070499897003174, 1.6450999975204468, 6.428400039672852, -0.2685999870300293]), f(x)=55.7201\n"
     ]
    },
    {
     "data": {
      "application/vnd.jupyter.widget-view+json": {
       "model_id": "e9c8ec626b0f41aa9b7524d8f7c71a2e",
       "version_major": 2,
       "version_minor": 0
      },
      "text/plain": [
       "Training GP:   0%|          | 0/500 [00:00<?, ?it/s]"
      ]
     },
     "metadata": {},
     "output_type": "display_data"
    },
    {
     "name": "stdout",
     "output_type": "stream",
     "text": [
      "Iteration 1, incumbent x=([2.5302999019622803, 3.376699924468994, 7.796500205993652, 6.3557000160217285, 4.52269983291626, -1.867300033569336, -5.070499897003174, 1.6450999975204468, 6.428400039672852, -0.2685999870300293]), f(x)=55.7201\n"
     ]
    },
    {
     "data": {
      "application/vnd.jupyter.widget-view+json": {
       "model_id": "7d5cb19e40c74153adf6434a9365e87f",
       "version_major": 2,
       "version_minor": 0
      },
      "text/plain": [
       "Training GP:   0%|          | 0/500 [00:00<?, ?it/s]"
      ]
     },
     "metadata": {},
     "output_type": "display_data"
    },
    {
     "name": "stdout",
     "output_type": "stream",
     "text": [
      "Iteration 2, incumbent x=([2.5302999019622803, 3.376699924468994, 7.796500205993652, 6.3557000160217285, 4.52269983291626, -1.867300033569336, -5.070499897003174, 1.6450999975204468, 6.428400039672852, -0.2685999870300293]), f(x)=55.7201\n"
     ]
    },
    {
     "data": {
      "application/vnd.jupyter.widget-view+json": {
       "model_id": "8fcbd403146a475fa221340276c15c60",
       "version_major": 2,
       "version_minor": 0
      },
      "text/plain": [
       "Training GP:   0%|          | 0/500 [00:00<?, ?it/s]"
      ]
     },
     "metadata": {},
     "output_type": "display_data"
    },
    {
     "name": "stdout",
     "output_type": "stream",
     "text": [
      "Iteration 3, incumbent x=([2.5302999019622803, 3.376699924468994, 7.796500205993652, 6.3557000160217285, 4.52269983291626, -1.867300033569336, -5.070499897003174, 1.6450999975204468, 6.428400039672852, -0.2685999870300293]), f(x)=55.7201\n"
     ]
    },
    {
     "data": {
      "application/vnd.jupyter.widget-view+json": {
       "model_id": "9f267e6460024e278f49b25ffc57f5b6",
       "version_major": 2,
       "version_minor": 0
      },
      "text/plain": [
       "Training GP:   0%|          | 0/500 [00:00<?, ?it/s]"
      ]
     },
     "metadata": {},
     "output_type": "display_data"
    },
    {
     "name": "stdout",
     "output_type": "stream",
     "text": [
      "Iteration 4, incumbent x=([2.5302999019622803, 3.376699924468994, 7.796500205993652, 6.3557000160217285, 4.52269983291626, -1.867300033569336, -5.070499897003174, 1.6450999975204468, 6.428400039672852, -0.2685999870300293]), f(x)=55.7201\n"
     ]
    },
    {
     "data": {
      "application/vnd.jupyter.widget-view+json": {
       "model_id": "a9af73cf4610401798a626b146c24573",
       "version_major": 2,
       "version_minor": 0
      },
      "text/plain": [
       "Training GP:   0%|          | 0/500 [00:00<?, ?it/s]"
      ]
     },
     "metadata": {},
     "output_type": "display_data"
    },
    {
     "name": "stdout",
     "output_type": "stream",
     "text": [
      "Iteration 5, incumbent x=([2.5302999019622803, 3.376699924468994, 7.796500205993652, 6.3557000160217285, 4.52269983291626, -1.867300033569336, -5.070499897003174, 1.6450999975204468, 6.428400039672852, -0.2685999870300293]), f(x)=55.7201\n"
     ]
    },
    {
     "data": {
      "application/vnd.jupyter.widget-view+json": {
       "model_id": "1ec6dbc7dc744bf48b04467e462b4d29",
       "version_major": 2,
       "version_minor": 0
      },
      "text/plain": [
       "Training GP:   0%|          | 0/500 [00:00<?, ?it/s]"
      ]
     },
     "metadata": {},
     "output_type": "display_data"
    },
    {
     "name": "stdout",
     "output_type": "stream",
     "text": [
      "Iteration 6, incumbent x=([2.5302999019622803, 3.376699924468994, 7.796500205993652, 6.3557000160217285, 4.52269983291626, -1.867300033569336, -5.070499897003174, 1.6450999975204468, 6.428400039672852, -0.2685999870300293]), f(x)=55.7201\n"
     ]
    },
    {
     "data": {
      "application/vnd.jupyter.widget-view+json": {
       "model_id": "5e80bfa300d545db8932d0069fb96aa1",
       "version_major": 2,
       "version_minor": 0
      },
      "text/plain": [
       "Training GP:   0%|          | 0/500 [00:00<?, ?it/s]"
      ]
     },
     "metadata": {},
     "output_type": "display_data"
    },
    {
     "name": "stdout",
     "output_type": "stream",
     "text": [
      "Iteration 7, incumbent x=([2.5302999019622803, 3.376699924468994, 7.796500205993652, 6.3557000160217285, 4.52269983291626, -1.867300033569336, -5.070499897003174, 1.6450999975204468, 6.428400039672852, -0.2685999870300293]), f(x)=55.7201\n"
     ]
    },
    {
     "data": {
      "application/vnd.jupyter.widget-view+json": {
       "model_id": "d0360cbb3b1a4f3ab599c6b28b449ecd",
       "version_major": 2,
       "version_minor": 0
      },
      "text/plain": [
       "Training GP:   0%|          | 0/500 [00:00<?, ?it/s]"
      ]
     },
     "metadata": {},
     "output_type": "display_data"
    },
    {
     "name": "stdout",
     "output_type": "stream",
     "text": [
      "Iteration 8, incumbent x=([2.5302999019622803, 3.376699924468994, 7.796500205993652, 6.3557000160217285, 4.52269983291626, -1.867300033569336, -5.070499897003174, 1.6450999975204468, 6.428400039672852, -0.2685999870300293]), f(x)=55.7201\n"
     ]
    },
    {
     "data": {
      "application/vnd.jupyter.widget-view+json": {
       "model_id": "dc4802ed3ae5472b8c4a87fadcfeefc7",
       "version_major": 2,
       "version_minor": 0
      },
      "text/plain": [
       "Training GP:   0%|          | 0/500 [00:00<?, ?it/s]"
      ]
     },
     "metadata": {},
     "output_type": "display_data"
    },
    {
     "name": "stdout",
     "output_type": "stream",
     "text": [
      "Iteration 9, incumbent x=([2.5302999019622803, 3.376699924468994, 7.796500205993652, 6.3557000160217285, 4.52269983291626, -1.867300033569336, -5.070499897003174, 1.6450999975204468, 6.428400039672852, -0.2685999870300293]), f(x)=55.7201\n"
     ]
    },
    {
     "data": {
      "application/vnd.jupyter.widget-view+json": {
       "model_id": "a2972484376b4b7a934c88b742e658b4",
       "version_major": 2,
       "version_minor": 0
      },
      "text/plain": [
       "Training GP:   0%|          | 0/500 [00:00<?, ?it/s]"
      ]
     },
     "metadata": {},
     "output_type": "display_data"
    },
    {
     "name": "stdout",
     "output_type": "stream",
     "text": [
      "Iteration 10, incumbent x=([2.5302999019622803, 3.376699924468994, 7.796500205993652, 6.3557000160217285, 4.52269983291626, -1.867300033569336, -5.070499897003174, 1.6450999975204468, 6.428400039672852, -0.2685999870300293]), f(x)=55.7201\n"
     ]
    },
    {
     "data": {
      "application/vnd.jupyter.widget-view+json": {
       "model_id": "e66c46980b7e4bc4baffea60dd5674d1",
       "version_major": 2,
       "version_minor": 0
      },
      "text/plain": [
       "Training GP:   0%|          | 0/500 [00:00<?, ?it/s]"
      ]
     },
     "metadata": {},
     "output_type": "display_data"
    },
    {
     "name": "stdout",
     "output_type": "stream",
     "text": [
      "Iteration 11, incumbent x=([2.5302999019622803, 3.376699924468994, 7.796500205993652, 6.3557000160217285, 4.52269983291626, -1.867300033569336, -5.070499897003174, 1.6450999975204468, 6.428400039672852, -0.2685999870300293]), f(x)=55.7201\n"
     ]
    },
    {
     "data": {
      "application/vnd.jupyter.widget-view+json": {
       "model_id": "bbdee17a7730402db6f4db1d3ef0b4fa",
       "version_major": 2,
       "version_minor": 0
      },
      "text/plain": [
       "Training GP:   0%|          | 0/500 [00:00<?, ?it/s]"
      ]
     },
     "metadata": {},
     "output_type": "display_data"
    },
    {
     "name": "stdout",
     "output_type": "stream",
     "text": [
      "Iteration 12, incumbent x=([2.5302999019622803, 3.376699924468994, 7.796500205993652, 6.3557000160217285, 4.52269983291626, -1.867300033569336, -5.070499897003174, 1.6450999975204468, 6.428400039672852, -0.2685999870300293]), f(x)=55.7201\n"
     ]
    },
    {
     "data": {
      "application/vnd.jupyter.widget-view+json": {
       "model_id": "9e28ffdb1e1947a2b2fab83b48e09fb0",
       "version_major": 2,
       "version_minor": 0
      },
      "text/plain": [
       "Training GP:   0%|          | 0/500 [00:00<?, ?it/s]"
      ]
     },
     "metadata": {},
     "output_type": "display_data"
    },
    {
     "name": "stdout",
     "output_type": "stream",
     "text": [
      "Iteration 13, incumbent x=([2.5302999019622803, 3.376699924468994, 7.796500205993652, 6.3557000160217285, 4.52269983291626, -1.867300033569336, -5.070499897003174, 1.6450999975204468, 6.428400039672852, -0.2685999870300293]), f(x)=55.7201\n"
     ]
    },
    {
     "data": {
      "application/vnd.jupyter.widget-view+json": {
       "model_id": "4f98161e96a249219b689057ac55cfda",
       "version_major": 2,
       "version_minor": 0
      },
      "text/plain": [
       "Training GP:   0%|          | 0/500 [00:00<?, ?it/s]"
      ]
     },
     "metadata": {},
     "output_type": "display_data"
    },
    {
     "name": "stdout",
     "output_type": "stream",
     "text": [
      "Iteration 14, incumbent x=([2.5302999019622803, 3.376699924468994, 7.796500205993652, 6.3557000160217285, 4.52269983291626, -1.867300033569336, -5.070499897003174, 1.6450999975204468, 6.428400039672852, -0.2685999870300293]), f(x)=55.7201\n"
     ]
    },
    {
     "data": {
      "application/vnd.jupyter.widget-view+json": {
       "model_id": "328f7160807444768e0f8a16bdc9ba0b",
       "version_major": 2,
       "version_minor": 0
      },
      "text/plain": [
       "Training GP:   0%|          | 0/500 [00:00<?, ?it/s]"
      ]
     },
     "metadata": {},
     "output_type": "display_data"
    },
    {
     "name": "stdout",
     "output_type": "stream",
     "text": [
      "Iteration 15, incumbent x=([2.5302999019622803, 3.376699924468994, 7.796500205993652, 6.3557000160217285, 4.52269983291626, -1.867300033569336, -5.070499897003174, 1.6450999975204468, 6.428400039672852, -0.2685999870300293]), f(x)=55.7201\n"
     ]
    },
    {
     "data": {
      "application/vnd.jupyter.widget-view+json": {
       "model_id": "0da9d6585b6941ba8594b866c0f901fb",
       "version_major": 2,
       "version_minor": 0
      },
      "text/plain": [
       "Training GP:   0%|          | 0/500 [00:00<?, ?it/s]"
      ]
     },
     "metadata": {},
     "output_type": "display_data"
    },
    {
     "name": "stdout",
     "output_type": "stream",
     "text": [
      "Iteration 16, incumbent x=([2.5302999019622803, 3.376699924468994, 7.796500205993652, 6.3557000160217285, 4.52269983291626, -1.867300033569336, -5.070499897003174, 1.6450999975204468, 6.428400039672852, -0.2685999870300293]), f(x)=55.7201\n"
     ]
    },
    {
     "data": {
      "application/vnd.jupyter.widget-view+json": {
       "model_id": "77c7f85f4383488da69a44a5fcbf705d",
       "version_major": 2,
       "version_minor": 0
      },
      "text/plain": [
       "Training GP:   0%|          | 0/500 [00:00<?, ?it/s]"
      ]
     },
     "metadata": {},
     "output_type": "display_data"
    },
    {
     "name": "stdout",
     "output_type": "stream",
     "text": [
      "Iteration 17, incumbent x=([2.5302999019622803, 3.376699924468994, 7.796500205993652, 6.3557000160217285, 4.52269983291626, -1.867300033569336, -5.070499897003174, 1.6450999975204468, 6.428400039672852, -0.2685999870300293]), f(x)=55.7201\n"
     ]
    },
    {
     "data": {
      "application/vnd.jupyter.widget-view+json": {
       "model_id": "bbadb0d90d65498f9ad78d9da02750cf",
       "version_major": 2,
       "version_minor": 0
      },
      "text/plain": [
       "Training GP:   0%|          | 0/500 [00:00<?, ?it/s]"
      ]
     },
     "metadata": {},
     "output_type": "display_data"
    },
    {
     "name": "stdout",
     "output_type": "stream",
     "text": [
      "Iteration 18, incumbent x=([2.5302999019622803, 3.376699924468994, 7.796500205993652, 6.3557000160217285, 4.52269983291626, -1.867300033569336, -5.070499897003174, 1.6450999975204468, 6.428400039672852, -0.2685999870300293]), f(x)=55.7201\n"
     ]
    },
    {
     "data": {
      "application/vnd.jupyter.widget-view+json": {
       "model_id": "73e9e1e1ffde4f739d289c72f6e76397",
       "version_major": 2,
       "version_minor": 0
      },
      "text/plain": [
       "Training GP:   0%|          | 0/500 [00:00<?, ?it/s]"
      ]
     },
     "metadata": {},
     "output_type": "display_data"
    },
    {
     "name": "stdout",
     "output_type": "stream",
     "text": [
      "Iteration 19, incumbent x=([2.5302999019622803, 3.376699924468994, 7.796500205993652, 6.3557000160217285, 4.52269983291626, -1.867300033569336, -5.070499897003174, 1.6450999975204468, 6.428400039672852, -0.2685999870300293]), f(x)=55.7201\n"
     ]
    },
    {
     "data": {
      "application/vnd.jupyter.widget-view+json": {
       "model_id": "a36b2760b21c45618cad29577d6bd294",
       "version_major": 2,
       "version_minor": 0
      },
      "text/plain": [
       "Training GP:   0%|          | 0/500 [00:00<?, ?it/s]"
      ]
     },
     "metadata": {},
     "output_type": "display_data"
    },
    {
     "name": "stdout",
     "output_type": "stream",
     "text": [
      "Iteration 20, incumbent x=([2.5302999019622803, 3.376699924468994, 7.796500205993652, 6.3557000160217285, 4.52269983291626, -1.867300033569336, -5.070499897003174, 1.6450999975204468, 6.428400039672852, -0.2685999870300293]), f(x)=55.7201\n"
     ]
    },
    {
     "data": {
      "application/vnd.jupyter.widget-view+json": {
       "model_id": "73dced6582ba4f3b8eb4a8b4fdcc70ca",
       "version_major": 2,
       "version_minor": 0
      },
      "text/plain": [
       "Training GP:   0%|          | 0/500 [00:00<?, ?it/s]"
      ]
     },
     "metadata": {},
     "output_type": "display_data"
    },
    {
     "name": "stdout",
     "output_type": "stream",
     "text": [
      "Iteration 21, incumbent x=([2.5302999019622803, 3.376699924468994, 7.796500205993652, 6.3557000160217285, 4.52269983291626, -1.867300033569336, -5.070499897003174, 1.6450999975204468, 6.428400039672852, -0.2685999870300293]), f(x)=55.7201\n"
     ]
    },
    {
     "data": {
      "application/vnd.jupyter.widget-view+json": {
       "model_id": "1dd3423a12b447f19fc11f32878ea3bf",
       "version_major": 2,
       "version_minor": 0
      },
      "text/plain": [
       "Training GP:   0%|          | 0/500 [00:00<?, ?it/s]"
      ]
     },
     "metadata": {},
     "output_type": "display_data"
    },
    {
     "name": "stdout",
     "output_type": "stream",
     "text": [
      "Iteration 22, incumbent x=([2.5302999019622803, 3.376699924468994, 7.796500205993652, 6.3557000160217285, 4.52269983291626, -1.867300033569336, -5.070499897003174, 1.6450999975204468, 6.428400039672852, -0.2685999870300293]), f(x)=55.7201\n"
     ]
    },
    {
     "data": {
      "application/vnd.jupyter.widget-view+json": {
       "model_id": "2b4455d697ba4f8387f498b04d913471",
       "version_major": 2,
       "version_minor": 0
      },
      "text/plain": [
       "Training GP:   0%|          | 0/500 [00:00<?, ?it/s]"
      ]
     },
     "metadata": {},
     "output_type": "display_data"
    },
    {
     "name": "stdout",
     "output_type": "stream",
     "text": [
      "Iteration 23, incumbent x=([2.5302999019622803, 3.376699924468994, 7.796500205993652, 6.3557000160217285, 4.52269983291626, -1.867300033569336, -5.070499897003174, 1.6450999975204468, 6.428400039672852, -0.2685999870300293]), f(x)=55.7201\n"
     ]
    },
    {
     "data": {
      "application/vnd.jupyter.widget-view+json": {
       "model_id": "a3b0d05ddbba465ab521e183d2a91849",
       "version_major": 2,
       "version_minor": 0
      },
      "text/plain": [
       "Training GP:   0%|          | 0/500 [00:00<?, ?it/s]"
      ]
     },
     "metadata": {},
     "output_type": "display_data"
    },
    {
     "name": "stdout",
     "output_type": "stream",
     "text": [
      "Iteration 24, incumbent x=([2.5302999019622803, 3.376699924468994, 7.796500205993652, 6.3557000160217285, 4.52269983291626, -1.867300033569336, -5.070499897003174, 1.6450999975204468, 6.428400039672852, -0.2685999870300293]), f(x)=55.7201\n"
     ]
    },
    {
     "data": {
      "application/vnd.jupyter.widget-view+json": {
       "model_id": "6999453b7167468b8390cbfc4a22dcb0",
       "version_major": 2,
       "version_minor": 0
      },
      "text/plain": [
       "Training GP:   0%|          | 0/500 [00:00<?, ?it/s]"
      ]
     },
     "metadata": {},
     "output_type": "display_data"
    },
    {
     "name": "stdout",
     "output_type": "stream",
     "text": [
      "Iteration 25, incumbent x=([2.5302999019622803, 3.376699924468994, 7.796500205993652, 6.3557000160217285, 4.52269983291626, -1.867300033569336, -5.070499897003174, 1.6450999975204468, 6.428400039672852, -0.2685999870300293]), f(x)=55.7201\n"
     ]
    },
    {
     "data": {
      "application/vnd.jupyter.widget-view+json": {
       "model_id": "a6e63942cfc74697a622360535cc97a7",
       "version_major": 2,
       "version_minor": 0
      },
      "text/plain": [
       "Training GP:   0%|          | 0/500 [00:00<?, ?it/s]"
      ]
     },
     "metadata": {},
     "output_type": "display_data"
    },
    {
     "name": "stdout",
     "output_type": "stream",
     "text": [
      "Iteration 26, incumbent x=([2.5302999019622803, 3.376699924468994, 7.796500205993652, 6.3557000160217285, 4.52269983291626, -1.867300033569336, -5.070499897003174, 1.6450999975204468, 6.428400039672852, -0.2685999870300293]), f(x)=55.7201\n"
     ]
    },
    {
     "data": {
      "application/vnd.jupyter.widget-view+json": {
       "model_id": "116fffe02c3044c9a5c84c7b81bcf06f",
       "version_major": 2,
       "version_minor": 0
      },
      "text/plain": [
       "Training GP:   0%|          | 0/500 [00:00<?, ?it/s]"
      ]
     },
     "metadata": {},
     "output_type": "display_data"
    },
    {
     "name": "stdout",
     "output_type": "stream",
     "text": [
      "Iteration 27, incumbent x=([2.5302999019622803, 3.376699924468994, 7.796500205993652, 6.3557000160217285, 4.52269983291626, -1.867300033569336, -5.070499897003174, 1.6450999975204468, 6.428400039672852, -0.2685999870300293]), f(x)=55.7201\n"
     ]
    },
    {
     "data": {
      "application/vnd.jupyter.widget-view+json": {
       "model_id": "007cf89b81dc4b29983402c57f147deb",
       "version_major": 2,
       "version_minor": 0
      },
      "text/plain": [
       "Training GP:   0%|          | 0/500 [00:00<?, ?it/s]"
      ]
     },
     "metadata": {},
     "output_type": "display_data"
    },
    {
     "name": "stdout",
     "output_type": "stream",
     "text": [
      "Iteration 28, incumbent x=([2.5302999019622803, 3.376699924468994, 7.796500205993652, 6.3557000160217285, 4.52269983291626, -1.867300033569336, -5.070499897003174, 1.6450999975204468, 6.428400039672852, -0.2685999870300293]), f(x)=55.7201\n"
     ]
    },
    {
     "data": {
      "application/vnd.jupyter.widget-view+json": {
       "model_id": "391414764ed74d58a59c7225ca7bdedc",
       "version_major": 2,
       "version_minor": 0
      },
      "text/plain": [
       "Training GP:   0%|          | 0/500 [00:00<?, ?it/s]"
      ]
     },
     "metadata": {},
     "output_type": "display_data"
    },
    {
     "name": "stdout",
     "output_type": "stream",
     "text": [
      "Iteration 29, incumbent x=([2.5302999019622803, 3.376699924468994, 7.796500205993652, 6.3557000160217285, 4.52269983291626, -1.867300033569336, -5.070499897003174, 1.6450999975204468, 6.428400039672852, -0.2685999870300293]), f(x)=55.7201\n"
     ]
    },
    {
     "data": {
      "application/vnd.jupyter.widget-view+json": {
       "model_id": "611bf5f5f73d485387ff13faafd5aeca",
       "version_major": 2,
       "version_minor": 0
      },
      "text/plain": [
       "Training GP:   0%|          | 0/500 [00:00<?, ?it/s]"
      ]
     },
     "metadata": {},
     "output_type": "display_data"
    },
    {
     "name": "stdout",
     "output_type": "stream",
     "text": [
      "Iteration 30, incumbent x=([2.5302999019622803, 3.376699924468994, 7.796500205993652, 6.3557000160217285, 4.52269983291626, -1.867300033569336, -5.070499897003174, 1.6450999975204468, 6.428400039672852, -0.2685999870300293]), f(x)=55.7201\n"
     ]
    },
    {
     "data": {
      "application/vnd.jupyter.widget-view+json": {
       "model_id": "9c89e6d34f9b4db0af953d7d42384938",
       "version_major": 2,
       "version_minor": 0
      },
      "text/plain": [
       "Training GP:   0%|          | 0/500 [00:00<?, ?it/s]"
      ]
     },
     "metadata": {},
     "output_type": "display_data"
    },
    {
     "name": "stdout",
     "output_type": "stream",
     "text": [
      "Iteration 31, incumbent x=([2.5302999019622803, 3.376699924468994, 7.796500205993652, 6.3557000160217285, 4.52269983291626, -1.867300033569336, -5.070499897003174, 1.6450999975204468, 6.428400039672852, -0.2685999870300293]), f(x)=55.7201\n"
     ]
    },
    {
     "data": {
      "application/vnd.jupyter.widget-view+json": {
       "model_id": "2f02b4a959004b0d9c85dcbf5a44c685",
       "version_major": 2,
       "version_minor": 0
      },
      "text/plain": [
       "Training GP:   0%|          | 0/500 [00:00<?, ?it/s]"
      ]
     },
     "metadata": {},
     "output_type": "display_data"
    },
    {
     "name": "stdout",
     "output_type": "stream",
     "text": [
      "Iteration 32, incumbent x=([2.5302999019622803, 3.376699924468994, 7.796500205993652, 6.3557000160217285, 4.52269983291626, -1.867300033569336, -5.070499897003174, 1.6450999975204468, 6.428400039672852, -0.2685999870300293]), f(x)=55.7201\n"
     ]
    },
    {
     "data": {
      "application/vnd.jupyter.widget-view+json": {
       "model_id": "e0985cf58f9e478cbf368ce73faaf29e",
       "version_major": 2,
       "version_minor": 0
      },
      "text/plain": [
       "Training GP:   0%|          | 0/500 [00:00<?, ?it/s]"
      ]
     },
     "metadata": {},
     "output_type": "display_data"
    },
    {
     "name": "stdout",
     "output_type": "stream",
     "text": [
      "Iteration 33, incumbent x=([2.5302999019622803, 3.376699924468994, 7.796500205993652, 6.3557000160217285, 4.52269983291626, -1.867300033569336, -5.070499897003174, 1.6450999975204468, 6.428400039672852, -0.2685999870300293]), f(x)=55.7201\n"
     ]
    },
    {
     "data": {
      "application/vnd.jupyter.widget-view+json": {
       "model_id": "1244ee7faffc41e28151ebfdbc4e35bd",
       "version_major": 2,
       "version_minor": 0
      },
      "text/plain": [
       "Training GP:   0%|          | 0/500 [00:00<?, ?it/s]"
      ]
     },
     "metadata": {},
     "output_type": "display_data"
    },
    {
     "name": "stdout",
     "output_type": "stream",
     "text": [
      "Iteration 34, incumbent x=([2.5302999019622803, 3.376699924468994, 7.796500205993652, 6.3557000160217285, 4.52269983291626, -1.867300033569336, -5.070499897003174, 1.6450999975204468, 6.428400039672852, -0.2685999870300293]), f(x)=55.7201\n"
     ]
    },
    {
     "data": {
      "application/vnd.jupyter.widget-view+json": {
       "model_id": "a7c1c2241c134570aa993727228c939d",
       "version_major": 2,
       "version_minor": 0
      },
      "text/plain": [
       "Training GP:   0%|          | 0/500 [00:00<?, ?it/s]"
      ]
     },
     "metadata": {},
     "output_type": "display_data"
    },
    {
     "name": "stdout",
     "output_type": "stream",
     "text": [
      "Iteration 35, incumbent x=([2.5302999019622803, 3.376699924468994, 7.796500205993652, 6.3557000160217285, 4.52269983291626, -1.867300033569336, -5.070499897003174, 1.6450999975204468, 6.428400039672852, -0.2685999870300293]), f(x)=55.7201\n"
     ]
    },
    {
     "data": {
      "application/vnd.jupyter.widget-view+json": {
       "model_id": "a16d35a109cc4fe380fc897dc975aefe",
       "version_major": 2,
       "version_minor": 0
      },
      "text/plain": [
       "Training GP:   0%|          | 0/500 [00:00<?, ?it/s]"
      ]
     },
     "metadata": {},
     "output_type": "display_data"
    },
    {
     "name": "stdout",
     "output_type": "stream",
     "text": [
      "Iteration 36, incumbent x=([2.5302999019622803, 3.376699924468994, 7.796500205993652, 6.3557000160217285, 4.52269983291626, -1.867300033569336, -5.070499897003174, 1.6450999975204468, 6.428400039672852, -0.2685999870300293]), f(x)=55.7201\n"
     ]
    },
    {
     "data": {
      "application/vnd.jupyter.widget-view+json": {
       "model_id": "e042a2a2fad84304a3a1ad92e0b419b5",
       "version_major": 2,
       "version_minor": 0
      },
      "text/plain": [
       "Training GP:   0%|          | 0/500 [00:00<?, ?it/s]"
      ]
     },
     "metadata": {},
     "output_type": "display_data"
    },
    {
     "name": "stdout",
     "output_type": "stream",
     "text": [
      "Iteration 37, incumbent x=([2.5302999019622803, 3.376699924468994, 7.796500205993652, 6.3557000160217285, 4.52269983291626, -1.867300033569336, -5.070499897003174, 1.6450999975204468, 6.428400039672852, -0.2685999870300293]), f(x)=55.7201\n"
     ]
    },
    {
     "data": {
      "application/vnd.jupyter.widget-view+json": {
       "model_id": "df83db31a74c4406a16f49119db7d064",
       "version_major": 2,
       "version_minor": 0
      },
      "text/plain": [
       "Training GP:   0%|          | 0/500 [00:00<?, ?it/s]"
      ]
     },
     "metadata": {},
     "output_type": "display_data"
    },
    {
     "name": "stdout",
     "output_type": "stream",
     "text": [
      "Iteration 38, incumbent x=([2.5302999019622803, 3.376699924468994, 7.796500205993652, 6.3557000160217285, 4.52269983291626, -1.867300033569336, -5.070499897003174, 1.6450999975204468, 6.428400039672852, -0.2685999870300293]), f(x)=55.7201\n"
     ]
    },
    {
     "data": {
      "application/vnd.jupyter.widget-view+json": {
       "model_id": "80f199895270494fa06c9eb17879e7e6",
       "version_major": 2,
       "version_minor": 0
      },
      "text/plain": [
       "Training GP:   0%|          | 0/500 [00:00<?, ?it/s]"
      ]
     },
     "metadata": {},
     "output_type": "display_data"
    },
    {
     "name": "stdout",
     "output_type": "stream",
     "text": [
      "Iteration 39, incumbent x=([-4.459499835968018, 6.445199966430664, 0.6596999764442444, 2.6577000617980957, 7.560999870300293, 2.6194000244140625, 3.5401999950408936, -4.203000068664551, 4.032599925994873, -7.170100212097168]), f(x)=31.1970\n"
     ]
    },
    {
     "data": {
      "application/vnd.jupyter.widget-view+json": {
       "model_id": "51650d09a8a84afaabd576512f5e8d36",
       "version_major": 2,
       "version_minor": 0
      },
      "text/plain": [
       "Training GP:   0%|          | 0/500 [00:00<?, ?it/s]"
      ]
     },
     "metadata": {},
     "output_type": "display_data"
    },
    {
     "name": "stdout",
     "output_type": "stream",
     "text": [
      "Iteration 40, incumbent x=([-4.459499835968018, 6.445199966430664, 0.6596999764442444, 2.6577000617980957, 7.560999870300293, 2.6194000244140625, 3.5401999950408936, -4.203000068664551, 4.032599925994873, -7.170100212097168]), f(x)=31.1970\n"
     ]
    },
    {
     "data": {
      "application/vnd.jupyter.widget-view+json": {
       "model_id": "4a16fada67414bf5bb617f0b7c59d8a8",
       "version_major": 2,
       "version_minor": 0
      },
      "text/plain": [
       "Training GP:   0%|          | 0/500 [00:00<?, ?it/s]"
      ]
     },
     "metadata": {},
     "output_type": "display_data"
    },
    {
     "name": "stdout",
     "output_type": "stream",
     "text": [
      "Iteration 41, incumbent x=([-4.459499835968018, 6.445199966430664, 0.6596999764442444, 2.6577000617980957, 7.560999870300293, 2.6194000244140625, 3.5401999950408936, -4.203000068664551, 4.032599925994873, -7.170100212097168]), f(x)=31.1970\n"
     ]
    },
    {
     "data": {
      "application/vnd.jupyter.widget-view+json": {
       "model_id": "46c95a72f31e4f1591b9ff4d1bf66569",
       "version_major": 2,
       "version_minor": 0
      },
      "text/plain": [
       "Training GP:   0%|          | 0/500 [00:00<?, ?it/s]"
      ]
     },
     "metadata": {},
     "output_type": "display_data"
    },
    {
     "name": "stdout",
     "output_type": "stream",
     "text": [
      "Iteration 42, incumbent x=([-4.459499835968018, 6.445199966430664, 0.6596999764442444, 2.6577000617980957, 7.560999870300293, 2.6194000244140625, 3.5401999950408936, -4.203000068664551, 4.032599925994873, -7.170100212097168]), f(x)=31.1970\n"
     ]
    },
    {
     "data": {
      "application/vnd.jupyter.widget-view+json": {
       "model_id": "d3604bea68c64c959faf9fafe44163fb",
       "version_major": 2,
       "version_minor": 0
      },
      "text/plain": [
       "Training GP:   0%|          | 0/500 [00:00<?, ?it/s]"
      ]
     },
     "metadata": {},
     "output_type": "display_data"
    },
    {
     "name": "stdout",
     "output_type": "stream",
     "text": [
      "Iteration 43, incumbent x=([-4.459499835968018, 6.445199966430664, 0.6596999764442444, 2.6577000617980957, 7.560999870300293, 2.6194000244140625, 3.5401999950408936, -4.203000068664551, 4.032599925994873, -7.170100212097168]), f(x)=31.1970\n"
     ]
    },
    {
     "data": {
      "application/vnd.jupyter.widget-view+json": {
       "model_id": "99a3a44878f5484b9ea494d79469f8c0",
       "version_major": 2,
       "version_minor": 0
      },
      "text/plain": [
       "Training GP:   0%|          | 0/500 [00:00<?, ?it/s]"
      ]
     },
     "metadata": {},
     "output_type": "display_data"
    },
    {
     "name": "stdout",
     "output_type": "stream",
     "text": [
      "Iteration 44, incumbent x=([-4.459499835968018, 6.445199966430664, 0.6596999764442444, 2.6577000617980957, 7.560999870300293, 2.6194000244140625, 3.5401999950408936, -4.203000068664551, 4.032599925994873, -7.170100212097168]), f(x)=31.1970\n"
     ]
    },
    {
     "data": {
      "application/vnd.jupyter.widget-view+json": {
       "model_id": "5185b512c2384ef49a27c7b5f6db2c42",
       "version_major": 2,
       "version_minor": 0
      },
      "text/plain": [
       "Training GP:   0%|          | 0/500 [00:00<?, ?it/s]"
      ]
     },
     "metadata": {},
     "output_type": "display_data"
    },
    {
     "name": "stdout",
     "output_type": "stream",
     "text": [
      "Iteration 45, incumbent x=([-4.459499835968018, 6.445199966430664, 0.6596999764442444, 2.6577000617980957, 7.560999870300293, 2.6194000244140625, 3.5401999950408936, -4.203000068664551, 4.032599925994873, -7.170100212097168]), f(x)=31.1970\n"
     ]
    },
    {
     "data": {
      "application/vnd.jupyter.widget-view+json": {
       "model_id": "821dde01d0bc44ffb2a4251eaee18fca",
       "version_major": 2,
       "version_minor": 0
      },
      "text/plain": [
       "Training GP:   0%|          | 0/500 [00:00<?, ?it/s]"
      ]
     },
     "metadata": {},
     "output_type": "display_data"
    },
    {
     "name": "stdout",
     "output_type": "stream",
     "text": [
      "Iteration 46, incumbent x=([-4.459499835968018, 6.445199966430664, 0.6596999764442444, 2.6577000617980957, 7.560999870300293, 2.6194000244140625, 3.5401999950408936, -4.203000068664551, 4.032599925994873, -7.170100212097168]), f(x)=31.1970\n"
     ]
    },
    {
     "data": {
      "application/vnd.jupyter.widget-view+json": {
       "model_id": "d8f2fcdfa9a34e829e24995cdb652675",
       "version_major": 2,
       "version_minor": 0
      },
      "text/plain": [
       "Training GP:   0%|          | 0/500 [00:00<?, ?it/s]"
      ]
     },
     "metadata": {},
     "output_type": "display_data"
    },
    {
     "name": "stdout",
     "output_type": "stream",
     "text": [
      "Iteration 47, incumbent x=([-4.459499835968018, 6.445199966430664, 0.6596999764442444, 2.6577000617980957, 7.560999870300293, 2.6194000244140625, 3.5401999950408936, -4.203000068664551, 4.032599925994873, -7.170100212097168]), f(x)=31.1970\n"
     ]
    },
    {
     "data": {
      "application/vnd.jupyter.widget-view+json": {
       "model_id": "89c6e17977bd4eda9c02cf2fdeb59871",
       "version_major": 2,
       "version_minor": 0
      },
      "text/plain": [
       "Training GP:   0%|          | 0/500 [00:00<?, ?it/s]"
      ]
     },
     "metadata": {},
     "output_type": "display_data"
    },
    {
     "name": "stdout",
     "output_type": "stream",
     "text": [
      "Iteration 48, incumbent x=([-4.459499835968018, 6.445199966430664, 0.6596999764442444, 2.6577000617980957, 7.560999870300293, 2.6194000244140625, 3.5401999950408936, -4.203000068664551, 4.032599925994873, -7.170100212097168]), f(x)=31.1970\n"
     ]
    },
    {
     "data": {
      "application/vnd.jupyter.widget-view+json": {
       "model_id": "3c76ebaddc7d40f59c5217a1ed37d725",
       "version_major": 2,
       "version_minor": 0
      },
      "text/plain": [
       "Training GP:   0%|          | 0/500 [00:00<?, ?it/s]"
      ]
     },
     "metadata": {},
     "output_type": "display_data"
    },
    {
     "name": "stdout",
     "output_type": "stream",
     "text": [
      "Iteration 49, incumbent x=([-4.459499835968018, 6.445199966430664, 0.6596999764442444, 2.6577000617980957, 7.560999870300293, 2.6194000244140625, 3.5401999950408936, -4.203000068664551, 4.032599925994873, -7.170100212097168]), f(x)=31.1970\n"
     ]
    },
    {
     "data": {
      "application/vnd.jupyter.widget-view+json": {
       "model_id": "248c37cdd6494b70904caf9f4556cdf8",
       "version_major": 2,
       "version_minor": 0
      },
      "text/plain": [
       "Training GP:   0%|          | 0/500 [00:00<?, ?it/s]"
      ]
     },
     "metadata": {},
     "output_type": "display_data"
    },
    {
     "name": "stdout",
     "output_type": "stream",
     "text": [
      "Iteration 50, incumbent x=([-4.459499835968018, 6.445199966430664, 0.6596999764442444, 2.6577000617980957, 7.560999870300293, 2.6194000244140625, 3.5401999950408936, -4.203000068664551, 4.032599925994873, -7.170100212097168]), f(x)=31.1970\n"
     ]
    },
    {
     "data": {
      "application/vnd.jupyter.widget-view+json": {
       "model_id": "27f59d36bb2146ba8aedf63034d7c143",
       "version_major": 2,
       "version_minor": 0
      },
      "text/plain": [
       "Training GP:   0%|          | 0/500 [00:00<?, ?it/s]"
      ]
     },
     "metadata": {},
     "output_type": "display_data"
    },
    {
     "name": "stdout",
     "output_type": "stream",
     "text": [
      "Iteration 51, incumbent x=([-4.459499835968018, 6.445199966430664, 0.6596999764442444, 2.6577000617980957, 7.560999870300293, 2.6194000244140625, 3.5401999950408936, -4.203000068664551, 4.032599925994873, -7.170100212097168]), f(x)=31.1970\n"
     ]
    },
    {
     "data": {
      "application/vnd.jupyter.widget-view+json": {
       "model_id": "e812aa6fa6a24fd28857a39231135175",
       "version_major": 2,
       "version_minor": 0
      },
      "text/plain": [
       "Training GP:   0%|          | 0/500 [00:00<?, ?it/s]"
      ]
     },
     "metadata": {},
     "output_type": "display_data"
    },
    {
     "name": "stdout",
     "output_type": "stream",
     "text": [
      "Iteration 52, incumbent x=([-4.459499835968018, 6.445199966430664, 0.6596999764442444, 2.6577000617980957, 7.560999870300293, 2.6194000244140625, 3.5401999950408936, -4.203000068664551, 4.032599925994873, -7.170100212097168]), f(x)=31.1970\n"
     ]
    },
    {
     "data": {
      "application/vnd.jupyter.widget-view+json": {
       "model_id": "575de03e8fc9461d8d02c43a44a39cb0",
       "version_major": 2,
       "version_minor": 0
      },
      "text/plain": [
       "Training GP:   0%|          | 0/500 [00:00<?, ?it/s]"
      ]
     },
     "metadata": {},
     "output_type": "display_data"
    },
    {
     "name": "stdout",
     "output_type": "stream",
     "text": [
      "Iteration 53, incumbent x=([-4.459499835968018, 6.445199966430664, 0.6596999764442444, 2.6577000617980957, 7.560999870300293, 2.6194000244140625, 3.5401999950408936, -4.203000068664551, 4.032599925994873, -7.170100212097168]), f(x)=31.1970\n"
     ]
    },
    {
     "data": {
      "application/vnd.jupyter.widget-view+json": {
       "model_id": "1419c9f2365e4ca8b0ed0267d583d118",
       "version_major": 2,
       "version_minor": 0
      },
      "text/plain": [
       "Training GP:   0%|          | 0/500 [00:00<?, ?it/s]"
      ]
     },
     "metadata": {},
     "output_type": "display_data"
    },
    {
     "name": "stdout",
     "output_type": "stream",
     "text": [
      "Iteration 54, incumbent x=([-4.459499835968018, 6.445199966430664, 0.6596999764442444, 2.6577000617980957, 7.560999870300293, 2.6194000244140625, 3.5401999950408936, -4.203000068664551, 4.032599925994873, -7.170100212097168]), f(x)=31.1970\n"
     ]
    },
    {
     "data": {
      "application/vnd.jupyter.widget-view+json": {
       "model_id": "666bbbdc79ab44f89b36e7bdf0189149",
       "version_major": 2,
       "version_minor": 0
      },
      "text/plain": [
       "Training GP:   0%|          | 0/500 [00:00<?, ?it/s]"
      ]
     },
     "metadata": {},
     "output_type": "display_data"
    },
    {
     "name": "stdout",
     "output_type": "stream",
     "text": [
      "Iteration 55, incumbent x=([-4.459499835968018, 6.445199966430664, 0.6596999764442444, 2.6577000617980957, 7.560999870300293, 2.6194000244140625, 3.5401999950408936, -4.203000068664551, 4.032599925994873, -7.170100212097168]), f(x)=31.1970\n"
     ]
    },
    {
     "data": {
      "application/vnd.jupyter.widget-view+json": {
       "model_id": "bb5064a54fa44e4ea4fda4488868c037",
       "version_major": 2,
       "version_minor": 0
      },
      "text/plain": [
       "Training GP:   0%|          | 0/500 [00:00<?, ?it/s]"
      ]
     },
     "metadata": {},
     "output_type": "display_data"
    },
    {
     "name": "stdout",
     "output_type": "stream",
     "text": [
      "Iteration 56, incumbent x=([-4.459499835968018, 6.445199966430664, 0.6596999764442444, 2.6577000617980957, 7.560999870300293, 2.6194000244140625, 3.5401999950408936, -4.203000068664551, 4.032599925994873, -7.170100212097168]), f(x)=31.1970\n"
     ]
    },
    {
     "data": {
      "application/vnd.jupyter.widget-view+json": {
       "model_id": "ae10c25019ac48a1b05257cb6376bf4c",
       "version_major": 2,
       "version_minor": 0
      },
      "text/plain": [
       "Training GP:   0%|          | 0/500 [00:00<?, ?it/s]"
      ]
     },
     "metadata": {},
     "output_type": "display_data"
    },
    {
     "name": "stdout",
     "output_type": "stream",
     "text": [
      "Iteration 57, incumbent x=([-4.459499835968018, 6.445199966430664, 0.6596999764442444, 2.6577000617980957, 7.560999870300293, 2.6194000244140625, 3.5401999950408936, -4.203000068664551, 4.032599925994873, -7.170100212097168]), f(x)=31.1970\n"
     ]
    },
    {
     "data": {
      "application/vnd.jupyter.widget-view+json": {
       "model_id": "31d5d954a8784afb9b2c864508a0dcc3",
       "version_major": 2,
       "version_minor": 0
      },
      "text/plain": [
       "Training GP:   0%|          | 0/500 [00:00<?, ?it/s]"
      ]
     },
     "metadata": {},
     "output_type": "display_data"
    },
    {
     "name": "stdout",
     "output_type": "stream",
     "text": [
      "Iteration 58, incumbent x=([-4.459499835968018, 6.445199966430664, 0.6596999764442444, 2.6577000617980957, 7.560999870300293, 2.6194000244140625, 3.5401999950408936, -4.203000068664551, 4.032599925994873, -7.170100212097168]), f(x)=31.1970\n"
     ]
    },
    {
     "data": {
      "application/vnd.jupyter.widget-view+json": {
       "model_id": "3633ad2cc2d34521b38155d7a3f09b0f",
       "version_major": 2,
       "version_minor": 0
      },
      "text/plain": [
       "Training GP:   0%|          | 0/500 [00:00<?, ?it/s]"
      ]
     },
     "metadata": {},
     "output_type": "display_data"
    },
    {
     "name": "stdout",
     "output_type": "stream",
     "text": [
      "Iteration 59, incumbent x=([-4.459499835968018, 6.445199966430664, 0.6596999764442444, 2.6577000617980957, 7.560999870300293, 2.6194000244140625, 3.5401999950408936, -4.203000068664551, 4.032599925994873, -7.170100212097168]), f(x)=31.1970\n"
     ]
    },
    {
     "data": {
      "application/vnd.jupyter.widget-view+json": {
       "model_id": "92b4a1fb68854d419bab07a5defe4c7a",
       "version_major": 2,
       "version_minor": 0
      },
      "text/plain": [
       "Training GP:   0%|          | 0/500 [00:00<?, ?it/s]"
      ]
     },
     "metadata": {},
     "output_type": "display_data"
    },
    {
     "name": "stdout",
     "output_type": "stream",
     "text": [
      "Iteration 60, incumbent x=([-4.459499835968018, 6.445199966430664, 0.6596999764442444, 2.6577000617980957, 7.560999870300293, 2.6194000244140625, 3.5401999950408936, -4.203000068664551, 4.032599925994873, -7.170100212097168]), f(x)=31.1970\n"
     ]
    },
    {
     "data": {
      "application/vnd.jupyter.widget-view+json": {
       "model_id": "884b8257c8e140ea9859b84f3017a51a",
       "version_major": 2,
       "version_minor": 0
      },
      "text/plain": [
       "Training GP:   0%|          | 0/500 [00:00<?, ?it/s]"
      ]
     },
     "metadata": {},
     "output_type": "display_data"
    },
    {
     "name": "stdout",
     "output_type": "stream",
     "text": [
      "Iteration 61, incumbent x=([-4.459499835968018, 6.445199966430664, 0.6596999764442444, 2.6577000617980957, 7.560999870300293, 2.6194000244140625, 3.5401999950408936, -4.203000068664551, 4.032599925994873, -7.170100212097168]), f(x)=31.1970\n"
     ]
    },
    {
     "data": {
      "application/vnd.jupyter.widget-view+json": {
       "model_id": "9aa14b7ec02a4394a1989e5d5fe44613",
       "version_major": 2,
       "version_minor": 0
      },
      "text/plain": [
       "Training GP:   0%|          | 0/500 [00:00<?, ?it/s]"
      ]
     },
     "metadata": {},
     "output_type": "display_data"
    },
    {
     "name": "stdout",
     "output_type": "stream",
     "text": [
      "Iteration 62, incumbent x=([-4.459499835968018, 6.445199966430664, 0.6596999764442444, 2.6577000617980957, 7.560999870300293, 2.6194000244140625, 3.5401999950408936, -4.203000068664551, 4.032599925994873, -7.170100212097168]), f(x)=31.1970\n"
     ]
    },
    {
     "data": {
      "application/vnd.jupyter.widget-view+json": {
       "model_id": "024044c23c534e568b26cfa407331dae",
       "version_major": 2,
       "version_minor": 0
      },
      "text/plain": [
       "Training GP:   0%|          | 0/500 [00:00<?, ?it/s]"
      ]
     },
     "metadata": {},
     "output_type": "display_data"
    },
    {
     "name": "stdout",
     "output_type": "stream",
     "text": [
      "Iteration 63, incumbent x=([-4.459499835968018, 6.445199966430664, 0.6596999764442444, 2.6577000617980957, 7.560999870300293, 2.6194000244140625, 3.5401999950408936, -4.203000068664551, 4.032599925994873, -7.170100212097168]), f(x)=31.1970\n"
     ]
    },
    {
     "data": {
      "application/vnd.jupyter.widget-view+json": {
       "model_id": "465940a68b6e4021bd7d942facf28ab3",
       "version_major": 2,
       "version_minor": 0
      },
      "text/plain": [
       "Training GP:   0%|          | 0/500 [00:00<?, ?it/s]"
      ]
     },
     "metadata": {},
     "output_type": "display_data"
    },
    {
     "name": "stdout",
     "output_type": "stream",
     "text": [
      "Iteration 64, incumbent x=([-4.459499835968018, 6.445199966430664, 0.6596999764442444, 2.6577000617980957, 7.560999870300293, 2.6194000244140625, 3.5401999950408936, -4.203000068664551, 4.032599925994873, -7.170100212097168]), f(x)=31.1970\n"
     ]
    },
    {
     "data": {
      "application/vnd.jupyter.widget-view+json": {
       "model_id": "ed4a9f56d2714df4bee5b73b966335e9",
       "version_major": 2,
       "version_minor": 0
      },
      "text/plain": [
       "Training GP:   0%|          | 0/500 [00:00<?, ?it/s]"
      ]
     },
     "metadata": {},
     "output_type": "display_data"
    },
    {
     "name": "stdout",
     "output_type": "stream",
     "text": [
      "Iteration 65, incumbent x=([-4.459499835968018, 6.445199966430664, 0.6596999764442444, 2.6577000617980957, 7.560999870300293, 2.6194000244140625, 3.5401999950408936, -4.203000068664551, 4.032599925994873, -7.170100212097168]), f(x)=31.1970\n"
     ]
    },
    {
     "data": {
      "application/vnd.jupyter.widget-view+json": {
       "model_id": "1645fc02905649eb98485694d4b1a371",
       "version_major": 2,
       "version_minor": 0
      },
      "text/plain": [
       "Training GP:   0%|          | 0/500 [00:00<?, ?it/s]"
      ]
     },
     "metadata": {},
     "output_type": "display_data"
    },
    {
     "name": "stdout",
     "output_type": "stream",
     "text": [
      "Iteration 66, incumbent x=([-4.459499835968018, 6.445199966430664, 0.6596999764442444, 2.6577000617980957, 7.560999870300293, 2.6194000244140625, 3.5401999950408936, -4.203000068664551, 4.032599925994873, -7.170100212097168]), f(x)=31.1970\n"
     ]
    },
    {
     "data": {
      "application/vnd.jupyter.widget-view+json": {
       "model_id": "9d3106f1f93848d58a25a1cd0c20a9a7",
       "version_major": 2,
       "version_minor": 0
      },
      "text/plain": [
       "Training GP:   0%|          | 0/500 [00:00<?, ?it/s]"
      ]
     },
     "metadata": {},
     "output_type": "display_data"
    },
    {
     "name": "stdout",
     "output_type": "stream",
     "text": [
      "Iteration 67, incumbent x=([-4.459499835968018, 6.445199966430664, 0.6596999764442444, 2.6577000617980957, 7.560999870300293, 2.6194000244140625, 3.5401999950408936, -4.203000068664551, 4.032599925994873, -7.170100212097168]), f(x)=31.1970\n"
     ]
    },
    {
     "data": {
      "application/vnd.jupyter.widget-view+json": {
       "model_id": "c5e8d9548cbc4a9b917a8cf5b575f200",
       "version_major": 2,
       "version_minor": 0
      },
      "text/plain": [
       "Training GP:   0%|          | 0/500 [00:00<?, ?it/s]"
      ]
     },
     "metadata": {},
     "output_type": "display_data"
    },
    {
     "name": "stdout",
     "output_type": "stream",
     "text": [
      "Iteration 68, incumbent x=([-4.459499835968018, 6.445199966430664, 0.6596999764442444, 2.6577000617980957, 7.560999870300293, 2.6194000244140625, 3.5401999950408936, -4.203000068664551, 4.032599925994873, -7.170100212097168]), f(x)=31.1970\n"
     ]
    },
    {
     "data": {
      "application/vnd.jupyter.widget-view+json": {
       "model_id": "85a2a43bc32d4de8b89cee374642bba3",
       "version_major": 2,
       "version_minor": 0
      },
      "text/plain": [
       "Training GP:   0%|          | 0/500 [00:00<?, ?it/s]"
      ]
     },
     "metadata": {},
     "output_type": "display_data"
    },
    {
     "name": "stdout",
     "output_type": "stream",
     "text": [
      "Iteration 69, incumbent x=([-4.459499835968018, 6.445199966430664, 0.6596999764442444, 2.6577000617980957, 7.560999870300293, 2.6194000244140625, 3.5401999950408936, -4.203000068664551, 4.032599925994873, -7.170100212097168]), f(x)=31.1970\n"
     ]
    },
    {
     "data": {
      "application/vnd.jupyter.widget-view+json": {
       "model_id": "68e49e8ead9b49168b9634b1283b23cd",
       "version_major": 2,
       "version_minor": 0
      },
      "text/plain": [
       "Training GP:   0%|          | 0/500 [00:00<?, ?it/s]"
      ]
     },
     "metadata": {},
     "output_type": "display_data"
    },
    {
     "name": "stdout",
     "output_type": "stream",
     "text": [
      "Iteration 70, incumbent x=([-4.459499835968018, 6.445199966430664, 0.6596999764442444, 2.6577000617980957, 7.560999870300293, 2.6194000244140625, 3.5401999950408936, -4.203000068664551, 4.032599925994873, -7.170100212097168]), f(x)=31.1970\n"
     ]
    },
    {
     "data": {
      "application/vnd.jupyter.widget-view+json": {
       "model_id": "59eb284101fc4a528932afef224c4877",
       "version_major": 2,
       "version_minor": 0
      },
      "text/plain": [
       "Training GP:   0%|          | 0/500 [00:00<?, ?it/s]"
      ]
     },
     "metadata": {},
     "output_type": "display_data"
    },
    {
     "name": "stdout",
     "output_type": "stream",
     "text": [
      "Iteration 71, incumbent x=([-4.459499835968018, 6.445199966430664, 0.6596999764442444, 2.6577000617980957, 7.560999870300293, 2.6194000244140625, 3.5401999950408936, -4.203000068664551, 4.032599925994873, -7.170100212097168]), f(x)=31.1970\n"
     ]
    },
    {
     "data": {
      "application/vnd.jupyter.widget-view+json": {
       "model_id": "1d6ceeb901f747c79b647b4bc83f345a",
       "version_major": 2,
       "version_minor": 0
      },
      "text/plain": [
       "Training GP:   0%|          | 0/500 [00:00<?, ?it/s]"
      ]
     },
     "metadata": {},
     "output_type": "display_data"
    },
    {
     "name": "stdout",
     "output_type": "stream",
     "text": [
      "Iteration 72, incumbent x=([-4.459499835968018, 6.445199966430664, 0.6596999764442444, 2.6577000617980957, 7.560999870300293, 2.6194000244140625, 3.5401999950408936, -4.203000068664551, 4.032599925994873, -7.170100212097168]), f(x)=31.1970\n"
     ]
    },
    {
     "data": {
      "application/vnd.jupyter.widget-view+json": {
       "model_id": "120c938991b340f2addd4efa4a9849ba",
       "version_major": 2,
       "version_minor": 0
      },
      "text/plain": [
       "Training GP:   0%|          | 0/500 [00:00<?, ?it/s]"
      ]
     },
     "metadata": {},
     "output_type": "display_data"
    },
    {
     "name": "stdout",
     "output_type": "stream",
     "text": [
      "Iteration 73, incumbent x=([-4.459499835968018, 6.445199966430664, 0.6596999764442444, 2.6577000617980957, 7.560999870300293, 2.6194000244140625, 3.5401999950408936, -4.203000068664551, 4.032599925994873, -7.170100212097168]), f(x)=31.1970\n"
     ]
    },
    {
     "data": {
      "application/vnd.jupyter.widget-view+json": {
       "model_id": "5e6dd06d2e2b4bc58768ec1535768997",
       "version_major": 2,
       "version_minor": 0
      },
      "text/plain": [
       "Training GP:   0%|          | 0/500 [00:00<?, ?it/s]"
      ]
     },
     "metadata": {},
     "output_type": "display_data"
    },
    {
     "name": "stdout",
     "output_type": "stream",
     "text": [
      "Iteration 74, incumbent x=([-4.459499835968018, 6.445199966430664, 0.6596999764442444, 2.6577000617980957, 7.560999870300293, 2.6194000244140625, 3.5401999950408936, -4.203000068664551, 4.032599925994873, -7.170100212097168]), f(x)=31.1970\n"
     ]
    },
    {
     "data": {
      "application/vnd.jupyter.widget-view+json": {
       "model_id": "3d60a788a0c24a3f857e440ea45927b5",
       "version_major": 2,
       "version_minor": 0
      },
      "text/plain": [
       "Training GP:   0%|          | 0/500 [00:00<?, ?it/s]"
      ]
     },
     "metadata": {},
     "output_type": "display_data"
    },
    {
     "name": "stdout",
     "output_type": "stream",
     "text": [
      "Iteration 75, incumbent x=([-4.459499835968018, 6.445199966430664, 0.6596999764442444, 2.6577000617980957, 7.560999870300293, 2.6194000244140625, 3.5401999950408936, -4.203000068664551, 4.032599925994873, -7.170100212097168]), f(x)=31.1970\n"
     ]
    },
    {
     "data": {
      "application/vnd.jupyter.widget-view+json": {
       "model_id": "41b55d8b20ff44bda5c2476ee82b597c",
       "version_major": 2,
       "version_minor": 0
      },
      "text/plain": [
       "Training GP:   0%|          | 0/500 [00:00<?, ?it/s]"
      ]
     },
     "metadata": {},
     "output_type": "display_data"
    },
    {
     "name": "stdout",
     "output_type": "stream",
     "text": [
      "Iteration 76, incumbent x=([-4.459499835968018, 6.445199966430664, 0.6596999764442444, 2.6577000617980957, 7.560999870300293, 2.6194000244140625, 3.5401999950408936, -4.203000068664551, 4.032599925994873, -7.170100212097168]), f(x)=31.1970\n"
     ]
    },
    {
     "data": {
      "application/vnd.jupyter.widget-view+json": {
       "model_id": "7b89c4b0eb76434296fd650f8a39c8fd",
       "version_major": 2,
       "version_minor": 0
      },
      "text/plain": [
       "Training GP:   0%|          | 0/500 [00:00<?, ?it/s]"
      ]
     },
     "metadata": {},
     "output_type": "display_data"
    },
    {
     "name": "stdout",
     "output_type": "stream",
     "text": [
      "Iteration 77, incumbent x=([-4.459499835968018, 6.445199966430664, 0.6596999764442444, 2.6577000617980957, 7.560999870300293, 2.6194000244140625, 3.5401999950408936, -4.203000068664551, 4.032599925994873, -7.170100212097168]), f(x)=31.1970\n"
     ]
    },
    {
     "data": {
      "application/vnd.jupyter.widget-view+json": {
       "model_id": "fe32471c1ec44d1f8d398541b40bcc32",
       "version_major": 2,
       "version_minor": 0
      },
      "text/plain": [
       "Training GP:   0%|          | 0/500 [00:00<?, ?it/s]"
      ]
     },
     "metadata": {},
     "output_type": "display_data"
    },
    {
     "name": "stdout",
     "output_type": "stream",
     "text": [
      "Iteration 78, incumbent x=([-4.459499835968018, 6.445199966430664, 0.6596999764442444, 2.6577000617980957, 7.560999870300293, 2.6194000244140625, 3.5401999950408936, -4.203000068664551, 4.032599925994873, -7.170100212097168]), f(x)=31.1970\n"
     ]
    },
    {
     "data": {
      "application/vnd.jupyter.widget-view+json": {
       "model_id": "ef6256e2f9844a30ba72ff0a89a140eb",
       "version_major": 2,
       "version_minor": 0
      },
      "text/plain": [
       "Training GP:   0%|          | 0/500 [00:00<?, ?it/s]"
      ]
     },
     "metadata": {},
     "output_type": "display_data"
    },
    {
     "name": "stdout",
     "output_type": "stream",
     "text": [
      "Iteration 79, incumbent x=([-4.459499835968018, 6.445199966430664, 0.6596999764442444, 2.6577000617980957, 7.560999870300293, 2.6194000244140625, 3.5401999950408936, -4.203000068664551, 4.032599925994873, -7.170100212097168]), f(x)=31.1970\n"
     ]
    },
    {
     "data": {
      "application/vnd.jupyter.widget-view+json": {
       "model_id": "4b34b2b9c5464fb3b0a9730eceb4ec71",
       "version_major": 2,
       "version_minor": 0
      },
      "text/plain": [
       "Training GP:   0%|          | 0/500 [00:00<?, ?it/s]"
      ]
     },
     "metadata": {},
     "output_type": "display_data"
    },
    {
     "name": "stdout",
     "output_type": "stream",
     "text": [
      "Iteration 80, incumbent x=([-4.459499835968018, 6.445199966430664, 0.6596999764442444, 2.6577000617980957, 7.560999870300293, 2.6194000244140625, 3.5401999950408936, -4.203000068664551, 4.032599925994873, -7.170100212097168]), f(x)=31.1970\n"
     ]
    },
    {
     "data": {
      "application/vnd.jupyter.widget-view+json": {
       "model_id": "fcd568eac7d04c3099346f08b8d80564",
       "version_major": 2,
       "version_minor": 0
      },
      "text/plain": [
       "Training GP:   0%|          | 0/500 [00:00<?, ?it/s]"
      ]
     },
     "metadata": {},
     "output_type": "display_data"
    },
    {
     "name": "stdout",
     "output_type": "stream",
     "text": [
      "Iteration 81, incumbent x=([-4.459499835968018, 6.445199966430664, 0.6596999764442444, 2.6577000617980957, 7.560999870300293, 2.6194000244140625, 3.5401999950408936, -4.203000068664551, 4.032599925994873, -7.170100212097168]), f(x)=31.1970\n"
     ]
    },
    {
     "data": {
      "application/vnd.jupyter.widget-view+json": {
       "model_id": "dc145da9bb33452fa3726e78208cb671",
       "version_major": 2,
       "version_minor": 0
      },
      "text/plain": [
       "Training GP:   0%|          | 0/500 [00:00<?, ?it/s]"
      ]
     },
     "metadata": {},
     "output_type": "display_data"
    },
    {
     "name": "stdout",
     "output_type": "stream",
     "text": [
      "Iteration 82, incumbent x=([-4.459499835968018, 6.445199966430664, 0.6596999764442444, 2.6577000617980957, 7.560999870300293, 2.6194000244140625, 3.5401999950408936, -4.203000068664551, 4.032599925994873, -7.170100212097168]), f(x)=31.1970\n"
     ]
    },
    {
     "data": {
      "application/vnd.jupyter.widget-view+json": {
       "model_id": "9b640036ee26471986106f4c8fd2f8eb",
       "version_major": 2,
       "version_minor": 0
      },
      "text/plain": [
       "Training GP:   0%|          | 0/500 [00:00<?, ?it/s]"
      ]
     },
     "metadata": {},
     "output_type": "display_data"
    },
    {
     "name": "stdout",
     "output_type": "stream",
     "text": [
      "Iteration 83, incumbent x=([-4.459499835968018, 6.445199966430664, 0.6596999764442444, 2.6577000617980957, 7.560999870300293, 2.6194000244140625, 3.5401999950408936, -4.203000068664551, 4.032599925994873, -7.170100212097168]), f(x)=31.1970\n"
     ]
    },
    {
     "data": {
      "application/vnd.jupyter.widget-view+json": {
       "model_id": "8306ade8d46a44caa09933308d93c41a",
       "version_major": 2,
       "version_minor": 0
      },
      "text/plain": [
       "Training GP:   0%|          | 0/500 [00:00<?, ?it/s]"
      ]
     },
     "metadata": {},
     "output_type": "display_data"
    },
    {
     "name": "stdout",
     "output_type": "stream",
     "text": [
      "Iteration 84, incumbent x=([-4.459499835968018, 6.445199966430664, 0.6596999764442444, 2.6577000617980957, 7.560999870300293, 2.6194000244140625, 3.5401999950408936, -4.203000068664551, 4.032599925994873, -7.170100212097168]), f(x)=31.1970\n"
     ]
    },
    {
     "data": {
      "application/vnd.jupyter.widget-view+json": {
       "model_id": "bfbc1080c08f4bd1ae8b70bebfd41e97",
       "version_major": 2,
       "version_minor": 0
      },
      "text/plain": [
       "Training GP:   0%|          | 0/500 [00:00<?, ?it/s]"
      ]
     },
     "metadata": {},
     "output_type": "display_data"
    },
    {
     "name": "stdout",
     "output_type": "stream",
     "text": [
      "Iteration 85, incumbent x=([-4.459499835968018, 6.445199966430664, 0.6596999764442444, 2.6577000617980957, 7.560999870300293, 2.6194000244140625, 3.5401999950408936, -4.203000068664551, 4.032599925994873, -7.170100212097168]), f(x)=31.1970\n"
     ]
    },
    {
     "data": {
      "application/vnd.jupyter.widget-view+json": {
       "model_id": "2efe484d2a0e4c6e944ab9cc27f7d128",
       "version_major": 2,
       "version_minor": 0
      },
      "text/plain": [
       "Training GP:   0%|          | 0/500 [00:00<?, ?it/s]"
      ]
     },
     "metadata": {},
     "output_type": "display_data"
    },
    {
     "name": "stdout",
     "output_type": "stream",
     "text": [
      "Iteration 86, incumbent x=([-4.459499835968018, 6.445199966430664, 0.6596999764442444, 2.6577000617980957, 7.560999870300293, 2.6194000244140625, 3.5401999950408936, -4.203000068664551, 4.032599925994873, -7.170100212097168]), f(x)=31.1970\n"
     ]
    },
    {
     "data": {
      "application/vnd.jupyter.widget-view+json": {
       "model_id": "f55f717f52fb452b92ddaa14d396d812",
       "version_major": 2,
       "version_minor": 0
      },
      "text/plain": [
       "Training GP:   0%|          | 0/500 [00:00<?, ?it/s]"
      ]
     },
     "metadata": {},
     "output_type": "display_data"
    },
    {
     "name": "stdout",
     "output_type": "stream",
     "text": [
      "Iteration 87, incumbent x=([-4.459499835968018, 6.445199966430664, 0.6596999764442444, 2.6577000617980957, 7.560999870300293, 2.6194000244140625, 3.5401999950408936, -4.203000068664551, 4.032599925994873, -7.170100212097168]), f(x)=31.1970\n"
     ]
    },
    {
     "data": {
      "application/vnd.jupyter.widget-view+json": {
       "model_id": "bba5faec5f7846ebab732285740009ed",
       "version_major": 2,
       "version_minor": 0
      },
      "text/plain": [
       "Training GP:   0%|          | 0/500 [00:00<?, ?it/s]"
      ]
     },
     "metadata": {},
     "output_type": "display_data"
    },
    {
     "name": "stdout",
     "output_type": "stream",
     "text": [
      "Iteration 88, incumbent x=([-4.459499835968018, 6.445199966430664, 0.6596999764442444, 2.6577000617980957, 7.560999870300293, 2.6194000244140625, 3.5401999950408936, -4.203000068664551, 4.032599925994873, -7.170100212097168]), f(x)=31.1970\n"
     ]
    },
    {
     "data": {
      "application/vnd.jupyter.widget-view+json": {
       "model_id": "0fa23fc748af4a7fbcce2a2853fe03f5",
       "version_major": 2,
       "version_minor": 0
      },
      "text/plain": [
       "Training GP:   0%|          | 0/500 [00:00<?, ?it/s]"
      ]
     },
     "metadata": {},
     "output_type": "display_data"
    },
    {
     "name": "stdout",
     "output_type": "stream",
     "text": [
      "Iteration 89, incumbent x=([-4.459499835968018, 6.445199966430664, 0.6596999764442444, 2.6577000617980957, 7.560999870300293, 2.6194000244140625, 3.5401999950408936, -4.203000068664551, 4.032599925994873, -7.170100212097168]), f(x)=31.1970\n"
     ]
    },
    {
     "data": {
      "application/vnd.jupyter.widget-view+json": {
       "model_id": "50bed48d773f4bee9afba656ef571eab",
       "version_major": 2,
       "version_minor": 0
      },
      "text/plain": [
       "Training GP:   0%|          | 0/500 [00:00<?, ?it/s]"
      ]
     },
     "metadata": {},
     "output_type": "display_data"
    },
    {
     "name": "stdout",
     "output_type": "stream",
     "text": [
      "Iteration 90, incumbent x=([-4.459499835968018, 6.445199966430664, 0.6596999764442444, 2.6577000617980957, 7.560999870300293, 2.6194000244140625, 3.5401999950408936, -4.203000068664551, 4.032599925994873, -7.170100212097168]), f(x)=31.1970\n"
     ]
    },
    {
     "data": {
      "application/vnd.jupyter.widget-view+json": {
       "model_id": "d76b24709d6e4ba19c01713540db570a",
       "version_major": 2,
       "version_minor": 0
      },
      "text/plain": [
       "Training GP:   0%|          | 0/500 [00:00<?, ?it/s]"
      ]
     },
     "metadata": {},
     "output_type": "display_data"
    },
    {
     "name": "stdout",
     "output_type": "stream",
     "text": [
      "Iteration 91, incumbent x=([-4.459499835968018, 6.445199966430664, 0.6596999764442444, 2.6577000617980957, 7.560999870300293, 2.6194000244140625, 3.5401999950408936, -4.203000068664551, 4.032599925994873, -7.170100212097168]), f(x)=31.1970\n"
     ]
    },
    {
     "data": {
      "application/vnd.jupyter.widget-view+json": {
       "model_id": "8bce4e1d1aae4f78854946ab762b38d4",
       "version_major": 2,
       "version_minor": 0
      },
      "text/plain": [
       "Training GP:   0%|          | 0/500 [00:00<?, ?it/s]"
      ]
     },
     "metadata": {},
     "output_type": "display_data"
    },
    {
     "name": "stdout",
     "output_type": "stream",
     "text": [
      "Iteration 92, incumbent x=([-4.459499835968018, 6.445199966430664, 0.6596999764442444, 2.6577000617980957, 7.560999870300293, 2.6194000244140625, 3.5401999950408936, -4.203000068664551, 4.032599925994873, -7.170100212097168]), f(x)=31.1970\n"
     ]
    },
    {
     "data": {
      "application/vnd.jupyter.widget-view+json": {
       "model_id": "624d4522aa714e159a1935739e026744",
       "version_major": 2,
       "version_minor": 0
      },
      "text/plain": [
       "Training GP:   0%|          | 0/500 [00:00<?, ?it/s]"
      ]
     },
     "metadata": {},
     "output_type": "display_data"
    },
    {
     "name": "stdout",
     "output_type": "stream",
     "text": [
      "Iteration 93, incumbent x=([-4.459499835968018, 6.445199966430664, 0.6596999764442444, 2.6577000617980957, 7.560999870300293, 2.6194000244140625, 3.5401999950408936, -4.203000068664551, 4.032599925994873, -7.170100212097168]), f(x)=31.1970\n"
     ]
    },
    {
     "data": {
      "application/vnd.jupyter.widget-view+json": {
       "model_id": "b2b7c7e0873c45de9f249783b3a6e498",
       "version_major": 2,
       "version_minor": 0
      },
      "text/plain": [
       "Training GP:   0%|          | 0/500 [00:00<?, ?it/s]"
      ]
     },
     "metadata": {},
     "output_type": "display_data"
    },
    {
     "name": "stdout",
     "output_type": "stream",
     "text": [
      "Iteration 94, incumbent x=([-4.459499835968018, 6.445199966430664, 0.6596999764442444, 2.6577000617980957, 7.560999870300293, 2.6194000244140625, 3.5401999950408936, -4.203000068664551, 4.032599925994873, -7.170100212097168]), f(x)=31.1970\n"
     ]
    },
    {
     "data": {
      "application/vnd.jupyter.widget-view+json": {
       "model_id": "cc97b6cfb31f4010a9d4033527807238",
       "version_major": 2,
       "version_minor": 0
      },
      "text/plain": [
       "Training GP:   0%|          | 0/500 [00:00<?, ?it/s]"
      ]
     },
     "metadata": {},
     "output_type": "display_data"
    },
    {
     "name": "stdout",
     "output_type": "stream",
     "text": [
      "Iteration 95, incumbent x=([-4.459499835968018, 6.445199966430664, 0.6596999764442444, 2.6577000617980957, 7.560999870300293, 2.6194000244140625, 3.5401999950408936, -4.203000068664551, 4.032599925994873, -7.170100212097168]), f(x)=31.1970\n"
     ]
    },
    {
     "data": {
      "application/vnd.jupyter.widget-view+json": {
       "model_id": "c5350624637c4f0eab14541e60b99a6c",
       "version_major": 2,
       "version_minor": 0
      },
      "text/plain": [
       "Training GP:   0%|          | 0/500 [00:00<?, ?it/s]"
      ]
     },
     "metadata": {},
     "output_type": "display_data"
    },
    {
     "name": "stdout",
     "output_type": "stream",
     "text": [
      "Iteration 96, incumbent x=([-4.459499835968018, 6.445199966430664, 0.6596999764442444, 2.6577000617980957, 7.560999870300293, 2.6194000244140625, 3.5401999950408936, -4.203000068664551, 4.032599925994873, -7.170100212097168]), f(x)=31.1970\n"
     ]
    },
    {
     "data": {
      "application/vnd.jupyter.widget-view+json": {
       "model_id": "3f9b0b72bf074dcc89538a82fca363a1",
       "version_major": 2,
       "version_minor": 0
      },
      "text/plain": [
       "Training GP:   0%|          | 0/500 [00:00<?, ?it/s]"
      ]
     },
     "metadata": {},
     "output_type": "display_data"
    },
    {
     "name": "stdout",
     "output_type": "stream",
     "text": [
      "Iteration 97, incumbent x=([-4.459499835968018, 6.445199966430664, 0.6596999764442444, 2.6577000617980957, 7.560999870300293, 2.6194000244140625, 3.5401999950408936, -4.203000068664551, 4.032599925994873, -7.170100212097168]), f(x)=31.1970\n"
     ]
    },
    {
     "data": {
      "application/vnd.jupyter.widget-view+json": {
       "model_id": "32cb453a64a8494986e95012c6603b32",
       "version_major": 2,
       "version_minor": 0
      },
      "text/plain": [
       "Training GP:   0%|          | 0/500 [00:00<?, ?it/s]"
      ]
     },
     "metadata": {},
     "output_type": "display_data"
    },
    {
     "name": "stdout",
     "output_type": "stream",
     "text": [
      "Iteration 98, incumbent x=([-4.459499835968018, 6.445199966430664, 0.6596999764442444, 2.6577000617980957, 7.560999870300293, 2.6194000244140625, 3.5401999950408936, -4.203000068664551, 4.032599925994873, -7.170100212097168]), f(x)=31.1970\n"
     ]
    },
    {
     "data": {
      "application/vnd.jupyter.widget-view+json": {
       "model_id": "f91d991d86b04c7dac4ba05ea4878a1d",
       "version_major": 2,
       "version_minor": 0
      },
      "text/plain": [
       "Training GP:   0%|          | 0/500 [00:00<?, ?it/s]"
      ]
     },
     "metadata": {},
     "output_type": "display_data"
    },
    {
     "name": "stdout",
     "output_type": "stream",
     "text": [
      "Iteration 99, incumbent x=([-4.459499835968018, 6.445199966430664, 0.6596999764442444, 2.6577000617980957, 7.560999870300293, 2.6194000244140625, 3.5401999950408936, -4.203000068664551, 4.032599925994873, -7.170100212097168]), f(x)=31.1970\n"
     ]
    },
    {
     "data": {
      "application/vnd.jupyter.widget-view+json": {
       "model_id": "cb8449c9cb414b30ba665c4791324a85",
       "version_major": 2,
       "version_minor": 0
      },
      "text/plain": [
       "Training GP:   0%|          | 0/500 [00:00<?, ?it/s]"
      ]
     },
     "metadata": {},
     "output_type": "display_data"
    },
    {
     "name": "stdout",
     "output_type": "stream",
     "text": [
      "\n",
      "Run 9/10\n",
      "Initial points (x1, ..., x10, f(x)):\n",
      "tensor([[-8.3831e-01, -3.4287e-01, -3.7500e+00,  2.3004e+00, -5.7211e+00,\n",
      "         -1.7635e+00,  3.8759e+00,  9.3862e+00,  2.3559e+00, -3.3927e+00,\n",
      "          8.5401e+01],\n",
      "        [ 9.5884e-01, -1.1207e+00,  4.0819e+00,  1.1450e+00,  3.9172e+00,\n",
      "          9.6986e+00, -4.1525e+00, -3.5342e-01,  2.2999e+00, -6.5319e-02,\n",
      "          5.8087e+01],\n",
      "        [-9.5775e-01, -8.8497e+00, -8.6261e+00, -8.9986e+00, -9.7849e+00,\n",
      "         -9.3135e+00, -7.5756e+00, -9.0194e+00, -9.3807e+00,  4.3837e+00,\n",
      "          2.5565e+02],\n",
      "        [ 6.1335e+00,  6.7572e+00,  5.3872e+00,  3.3885e+00,  4.4055e+00,\n",
      "         -5.5302e+00,  9.0035e+00, -6.8963e-01,  8.6280e+00,  3.0657e+00,\n",
      "          1.1795e+02],\n",
      "        [ 7.8272e+00,  7.9770e+00, -2.0894e+00, -2.9085e+00,  1.5047e+00,\n",
      "         -4.2500e-01,  1.5641e+00,  5.0730e+00, -7.8141e+00, -4.5888e-01,\n",
      "          4.3227e+01],\n",
      "        [-7.8483e+00,  9.6574e+00, -7.0330e+00,  1.9126e+00, -2.7322e+00,\n",
      "          5.6839e+00,  3.3590e-02, -1.0057e+00,  7.3194e+00,  9.1338e+00,\n",
      "          1.2803e+02],\n",
      "        [-7.2572e+00, -9.6453e+00,  8.3343e-01,  3.1499e+00,  2.2823e+00,\n",
      "          9.2371e+00,  4.4888e+00, -4.6004e+00, -6.8481e+00,  7.7582e+00,\n",
      "          1.7739e+02],\n",
      "        [ 9.5843e+00, -4.7453e+00, -6.4001e+00,  3.5002e+00, -7.1516e+00,\n",
      "         -2.4199e+00, -9.8908e+00,  2.7358e+00, -3.4098e+00, -5.5948e+00,\n",
      "          2.1633e+02],\n",
      "        [-6.3589e+00, -3.5187e+00,  4.7494e+00,  5.6622e-01,  8.6114e+00,\n",
      "         -3.5742e+00, -2.9265e+00,  9.7876e+00, -9.5385e+00, -3.9364e+00,\n",
      "          1.9137e+02],\n",
      "        [-6.2038e+00,  9.6213e+00,  5.3239e+00, -3.3506e+00, -4.2453e+00,\n",
      "          3.0668e+00, -3.3804e+00,  3.1048e+00, -5.1186e+00, -6.1882e+00,\n",
      "          1.3195e+02]])\n"
     ]
    },
    {
     "data": {
      "application/vnd.jupyter.widget-view+json": {
       "model_id": "844428dfabe64a37a488fb0f782284b8",
       "version_major": 2,
       "version_minor": 0
      },
      "text/plain": [
       "Training GP:   0%|          | 0/500 [00:00<?, ?it/s]"
      ]
     },
     "metadata": {},
     "output_type": "display_data"
    },
    {
     "name": "stdout",
     "output_type": "stream",
     "text": [
      "Iteration 0, incumbent x=([7.827199935913086, 7.9770002365112305, -2.089400053024292, -2.9084999561309814, 1.504699945449829, -0.42500001192092896, 1.5641000270843506, 5.072999954223633, -7.8140997886657715, -0.45890000462532043]), f(x)=43.2266\n"
     ]
    },
    {
     "data": {
      "application/vnd.jupyter.widget-view+json": {
       "model_id": "f86547aab6e245ebb4f080b7d8e330c2",
       "version_major": 2,
       "version_minor": 0
      },
      "text/plain": [
       "Training GP:   0%|          | 0/500 [00:00<?, ?it/s]"
      ]
     },
     "metadata": {},
     "output_type": "display_data"
    },
    {
     "name": "stdout",
     "output_type": "stream",
     "text": [
      "Iteration 1, incumbent x=([7.827199935913086, 7.9770002365112305, -2.089400053024292, -2.9084999561309814, 1.504699945449829, -0.42500001192092896, 1.5641000270843506, 5.072999954223633, -7.8140997886657715, -0.45890000462532043]), f(x)=43.2266\n"
     ]
    },
    {
     "data": {
      "application/vnd.jupyter.widget-view+json": {
       "model_id": "cd6bea66808441d0a22106d6ae993a75",
       "version_major": 2,
       "version_minor": 0
      },
      "text/plain": [
       "Training GP:   0%|          | 0/500 [00:00<?, ?it/s]"
      ]
     },
     "metadata": {},
     "output_type": "display_data"
    },
    {
     "name": "stdout",
     "output_type": "stream",
     "text": [
      "Iteration 2, incumbent x=([7.827199935913086, 7.9770002365112305, -2.089400053024292, -2.9084999561309814, 1.504699945449829, -0.42500001192092896, 1.5641000270843506, 5.072999954223633, -7.8140997886657715, -0.45890000462532043]), f(x)=43.2266\n"
     ]
    },
    {
     "data": {
      "application/vnd.jupyter.widget-view+json": {
       "model_id": "cafc6bc390c94ff28a68584ac8e0d969",
       "version_major": 2,
       "version_minor": 0
      },
      "text/plain": [
       "Training GP:   0%|          | 0/500 [00:00<?, ?it/s]"
      ]
     },
     "metadata": {},
     "output_type": "display_data"
    },
    {
     "name": "stdout",
     "output_type": "stream",
     "text": [
      "Iteration 3, incumbent x=([7.827199935913086, 7.9770002365112305, -2.089400053024292, -2.9084999561309814, 1.504699945449829, -0.42500001192092896, 1.5641000270843506, 5.072999954223633, -7.8140997886657715, -0.45890000462532043]), f(x)=43.2266\n"
     ]
    },
    {
     "data": {
      "application/vnd.jupyter.widget-view+json": {
       "model_id": "0fdc9ee3cc464e90bf205795d97ad263",
       "version_major": 2,
       "version_minor": 0
      },
      "text/plain": [
       "Training GP:   0%|          | 0/500 [00:00<?, ?it/s]"
      ]
     },
     "metadata": {},
     "output_type": "display_data"
    },
    {
     "name": "stdout",
     "output_type": "stream",
     "text": [
      "Iteration 4, incumbent x=([7.827199935913086, 7.9770002365112305, -2.089400053024292, -2.9084999561309814, 1.504699945449829, -0.42500001192092896, 1.5641000270843506, 5.072999954223633, -7.8140997886657715, -0.45890000462532043]), f(x)=43.2266\n"
     ]
    },
    {
     "data": {
      "application/vnd.jupyter.widget-view+json": {
       "model_id": "22e886e823c44b65a7dedfb9175b07c9",
       "version_major": 2,
       "version_minor": 0
      },
      "text/plain": [
       "Training GP:   0%|          | 0/500 [00:00<?, ?it/s]"
      ]
     },
     "metadata": {},
     "output_type": "display_data"
    },
    {
     "name": "stdout",
     "output_type": "stream",
     "text": [
      "Iteration 5, incumbent x=([7.827199935913086, 7.9770002365112305, -2.089400053024292, -2.9084999561309814, 1.504699945449829, -0.42500001192092896, 1.5641000270843506, 5.072999954223633, -7.8140997886657715, -0.45890000462532043]), f(x)=43.2266\n"
     ]
    },
    {
     "data": {
      "application/vnd.jupyter.widget-view+json": {
       "model_id": "fa581ea8def14ab98f08edefe22fb0a6",
       "version_major": 2,
       "version_minor": 0
      },
      "text/plain": [
       "Training GP:   0%|          | 0/500 [00:00<?, ?it/s]"
      ]
     },
     "metadata": {},
     "output_type": "display_data"
    },
    {
     "name": "stdout",
     "output_type": "stream",
     "text": [
      "Iteration 6, incumbent x=([7.827199935913086, 7.9770002365112305, -2.089400053024292, -2.9084999561309814, 1.504699945449829, -0.42500001192092896, 1.5641000270843506, 5.072999954223633, -7.8140997886657715, -0.45890000462532043]), f(x)=43.2266\n"
     ]
    },
    {
     "data": {
      "application/vnd.jupyter.widget-view+json": {
       "model_id": "0b75390258324f76ac732b10c8f7e626",
       "version_major": 2,
       "version_minor": 0
      },
      "text/plain": [
       "Training GP:   0%|          | 0/500 [00:00<?, ?it/s]"
      ]
     },
     "metadata": {},
     "output_type": "display_data"
    },
    {
     "name": "stdout",
     "output_type": "stream",
     "text": [
      "Iteration 7, incumbent x=([7.827199935913086, 7.9770002365112305, -2.089400053024292, -2.9084999561309814, 1.504699945449829, -0.42500001192092896, 1.5641000270843506, 5.072999954223633, -7.8140997886657715, -0.45890000462532043]), f(x)=43.2266\n"
     ]
    },
    {
     "data": {
      "application/vnd.jupyter.widget-view+json": {
       "model_id": "62a6211cbe1f481eb8a0a65599d531f5",
       "version_major": 2,
       "version_minor": 0
      },
      "text/plain": [
       "Training GP:   0%|          | 0/500 [00:00<?, ?it/s]"
      ]
     },
     "metadata": {},
     "output_type": "display_data"
    },
    {
     "name": "stdout",
     "output_type": "stream",
     "text": [
      "Iteration 8, incumbent x=([7.827199935913086, 7.9770002365112305, -2.089400053024292, -2.9084999561309814, 1.504699945449829, -0.42500001192092896, 1.5641000270843506, 5.072999954223633, -7.8140997886657715, -0.45890000462532043]), f(x)=43.2266\n"
     ]
    },
    {
     "data": {
      "application/vnd.jupyter.widget-view+json": {
       "model_id": "66e66c90717c4661a1bbd9b9143102ff",
       "version_major": 2,
       "version_minor": 0
      },
      "text/plain": [
       "Training GP:   0%|          | 0/500 [00:00<?, ?it/s]"
      ]
     },
     "metadata": {},
     "output_type": "display_data"
    },
    {
     "name": "stdout",
     "output_type": "stream",
     "text": [
      "Iteration 9, incumbent x=([7.827199935913086, 7.9770002365112305, -2.089400053024292, -2.9084999561309814, 1.504699945449829, -0.42500001192092896, 1.5641000270843506, 5.072999954223633, -7.8140997886657715, -0.45890000462532043]), f(x)=43.2266\n"
     ]
    },
    {
     "data": {
      "application/vnd.jupyter.widget-view+json": {
       "model_id": "4774ebbd71f84dadb7d3b60f175ed3df",
       "version_major": 2,
       "version_minor": 0
      },
      "text/plain": [
       "Training GP:   0%|          | 0/500 [00:00<?, ?it/s]"
      ]
     },
     "metadata": {},
     "output_type": "display_data"
    },
    {
     "name": "stdout",
     "output_type": "stream",
     "text": [
      "Iteration 10, incumbent x=([7.827199935913086, 7.9770002365112305, -2.089400053024292, -2.9084999561309814, 1.504699945449829, -0.42500001192092896, 1.5641000270843506, 5.072999954223633, -7.8140997886657715, -0.45890000462532043]), f(x)=43.2266\n"
     ]
    },
    {
     "data": {
      "application/vnd.jupyter.widget-view+json": {
       "model_id": "fb7058d2848148a8baaaf43eed9ed776",
       "version_major": 2,
       "version_minor": 0
      },
      "text/plain": [
       "Training GP:   0%|          | 0/500 [00:00<?, ?it/s]"
      ]
     },
     "metadata": {},
     "output_type": "display_data"
    },
    {
     "name": "stdout",
     "output_type": "stream",
     "text": [
      "Iteration 11, incumbent x=([7.827199935913086, 7.9770002365112305, -2.089400053024292, -2.9084999561309814, 1.504699945449829, -0.42500001192092896, 1.5641000270843506, 5.072999954223633, -7.8140997886657715, -0.45890000462532043]), f(x)=43.2266\n"
     ]
    },
    {
     "data": {
      "application/vnd.jupyter.widget-view+json": {
       "model_id": "c0745f10907046c0bacbc85eb443fed4",
       "version_major": 2,
       "version_minor": 0
      },
      "text/plain": [
       "Training GP:   0%|          | 0/500 [00:00<?, ?it/s]"
      ]
     },
     "metadata": {},
     "output_type": "display_data"
    },
    {
     "name": "stdout",
     "output_type": "stream",
     "text": [
      "Iteration 12, incumbent x=([7.827199935913086, 7.9770002365112305, -2.089400053024292, -2.9084999561309814, 1.504699945449829, -0.42500001192092896, 1.5641000270843506, 5.072999954223633, -7.8140997886657715, -0.45890000462532043]), f(x)=43.2266\n"
     ]
    },
    {
     "data": {
      "application/vnd.jupyter.widget-view+json": {
       "model_id": "93b6d8d3c9ad45dcb3faf4fa09cd257c",
       "version_major": 2,
       "version_minor": 0
      },
      "text/plain": [
       "Training GP:   0%|          | 0/500 [00:00<?, ?it/s]"
      ]
     },
     "metadata": {},
     "output_type": "display_data"
    },
    {
     "name": "stdout",
     "output_type": "stream",
     "text": [
      "Iteration 13, incumbent x=([7.827199935913086, 7.9770002365112305, -2.089400053024292, -2.9084999561309814, 1.504699945449829, -0.42500001192092896, 1.5641000270843506, 5.072999954223633, -7.8140997886657715, -0.45890000462532043]), f(x)=43.2266\n"
     ]
    },
    {
     "data": {
      "application/vnd.jupyter.widget-view+json": {
       "model_id": "49913e2a4cfb4690a2122cb6e7bd6b68",
       "version_major": 2,
       "version_minor": 0
      },
      "text/plain": [
       "Training GP:   0%|          | 0/500 [00:00<?, ?it/s]"
      ]
     },
     "metadata": {},
     "output_type": "display_data"
    },
    {
     "name": "stdout",
     "output_type": "stream",
     "text": [
      "Iteration 14, incumbent x=([4.446899890899658, -4.179299831390381, -0.04560000076889992, -8.619799613952637, 4.6697998046875, -5.0254998207092285, -3.885999917984009, 3.487499952316284, -4.663700103759766, 7.475200176239014]), f(x)=39.8708\n"
     ]
    },
    {
     "data": {
      "application/vnd.jupyter.widget-view+json": {
       "model_id": "c550d20175cd42d58b74e51595fbb29f",
       "version_major": 2,
       "version_minor": 0
      },
      "text/plain": [
       "Training GP:   0%|          | 0/500 [00:00<?, ?it/s]"
      ]
     },
     "metadata": {},
     "output_type": "display_data"
    },
    {
     "name": "stdout",
     "output_type": "stream",
     "text": [
      "Iteration 15, incumbent x=([4.446899890899658, -4.179299831390381, -0.04560000076889992, -8.619799613952637, 4.6697998046875, -5.0254998207092285, -3.885999917984009, 3.487499952316284, -4.663700103759766, 7.475200176239014]), f(x)=39.8708\n"
     ]
    },
    {
     "data": {
      "application/vnd.jupyter.widget-view+json": {
       "model_id": "49d0235d6a8d464a864e482cc65a1622",
       "version_major": 2,
       "version_minor": 0
      },
      "text/plain": [
       "Training GP:   0%|          | 0/500 [00:00<?, ?it/s]"
      ]
     },
     "metadata": {},
     "output_type": "display_data"
    },
    {
     "name": "stdout",
     "output_type": "stream",
     "text": [
      "Iteration 16, incumbent x=([3.347899913787842, 5.737500190734863, 1.4714000225067139, 6.662700176239014, -0.728600025177002, 3.2660999298095703, 4.650300025939941, 1.246500015258789, -0.054499998688697815, -5.417699813842773]), f(x)=39.4720\n"
     ]
    },
    {
     "data": {
      "application/vnd.jupyter.widget-view+json": {
       "model_id": "3f1d2235702f457aa95f1cfa6a020345",
       "version_major": 2,
       "version_minor": 0
      },
      "text/plain": [
       "Training GP:   0%|          | 0/500 [00:00<?, ?it/s]"
      ]
     },
     "metadata": {},
     "output_type": "display_data"
    },
    {
     "name": "stdout",
     "output_type": "stream",
     "text": [
      "Iteration 17, incumbent x=([3.347899913787842, 5.737500190734863, 1.4714000225067139, 6.662700176239014, -0.728600025177002, 3.2660999298095703, 4.650300025939941, 1.246500015258789, -0.054499998688697815, -5.417699813842773]), f(x)=39.4720\n"
     ]
    },
    {
     "data": {
      "application/vnd.jupyter.widget-view+json": {
       "model_id": "726a335eff364d45a3ac5fc3b81b53b7",
       "version_major": 2,
       "version_minor": 0
      },
      "text/plain": [
       "Training GP:   0%|          | 0/500 [00:00<?, ?it/s]"
      ]
     },
     "metadata": {},
     "output_type": "display_data"
    },
    {
     "name": "stdout",
     "output_type": "stream",
     "text": [
      "Iteration 18, incumbent x=([3.347899913787842, 5.737500190734863, 1.4714000225067139, 6.662700176239014, -0.728600025177002, 3.2660999298095703, 4.650300025939941, 1.246500015258789, -0.054499998688697815, -5.417699813842773]), f(x)=39.4720\n"
     ]
    },
    {
     "data": {
      "application/vnd.jupyter.widget-view+json": {
       "model_id": "298ae9bc37bc49d494e6556fa979adba",
       "version_major": 2,
       "version_minor": 0
      },
      "text/plain": [
       "Training GP:   0%|          | 0/500 [00:00<?, ?it/s]"
      ]
     },
     "metadata": {},
     "output_type": "display_data"
    },
    {
     "name": "stdout",
     "output_type": "stream",
     "text": [
      "Iteration 19, incumbent x=([3.347899913787842, 5.737500190734863, 1.4714000225067139, 6.662700176239014, -0.728600025177002, 3.2660999298095703, 4.650300025939941, 1.246500015258789, -0.054499998688697815, -5.417699813842773]), f(x)=39.4720\n"
     ]
    },
    {
     "data": {
      "application/vnd.jupyter.widget-view+json": {
       "model_id": "4a980a693e1643b4994f887c875ebe2d",
       "version_major": 2,
       "version_minor": 0
      },
      "text/plain": [
       "Training GP:   0%|          | 0/500 [00:00<?, ?it/s]"
      ]
     },
     "metadata": {},
     "output_type": "display_data"
    },
    {
     "name": "stdout",
     "output_type": "stream",
     "text": [
      "Iteration 20, incumbent x=([3.347899913787842, 5.737500190734863, 1.4714000225067139, 6.662700176239014, -0.728600025177002, 3.2660999298095703, 4.650300025939941, 1.246500015258789, -0.054499998688697815, -5.417699813842773]), f(x)=39.4720\n"
     ]
    },
    {
     "data": {
      "application/vnd.jupyter.widget-view+json": {
       "model_id": "39a7200cdf6e48eabae27c48f4b35538",
       "version_major": 2,
       "version_minor": 0
      },
      "text/plain": [
       "Training GP:   0%|          | 0/500 [00:00<?, ?it/s]"
      ]
     },
     "metadata": {},
     "output_type": "display_data"
    },
    {
     "name": "stdout",
     "output_type": "stream",
     "text": [
      "Iteration 21, incumbent x=([3.347899913787842, 5.737500190734863, 1.4714000225067139, 6.662700176239014, -0.728600025177002, 3.2660999298095703, 4.650300025939941, 1.246500015258789, -0.054499998688697815, -5.417699813842773]), f(x)=39.4720\n"
     ]
    },
    {
     "data": {
      "application/vnd.jupyter.widget-view+json": {
       "model_id": "68e7789086034c9ca8c6e1eafb616288",
       "version_major": 2,
       "version_minor": 0
      },
      "text/plain": [
       "Training GP:   0%|          | 0/500 [00:00<?, ?it/s]"
      ]
     },
     "metadata": {},
     "output_type": "display_data"
    },
    {
     "name": "stdout",
     "output_type": "stream",
     "text": [
      "Iteration 22, incumbent x=([3.347899913787842, 5.737500190734863, 1.4714000225067139, 6.662700176239014, -0.728600025177002, 3.2660999298095703, 4.650300025939941, 1.246500015258789, -0.054499998688697815, -5.417699813842773]), f(x)=39.4720\n"
     ]
    },
    {
     "data": {
      "application/vnd.jupyter.widget-view+json": {
       "model_id": "878331f97a144bd0a8f02003ad05fc7a",
       "version_major": 2,
       "version_minor": 0
      },
      "text/plain": [
       "Training GP:   0%|          | 0/500 [00:00<?, ?it/s]"
      ]
     },
     "metadata": {},
     "output_type": "display_data"
    },
    {
     "name": "stdout",
     "output_type": "stream",
     "text": [
      "Iteration 23, incumbent x=([3.347899913787842, 5.737500190734863, 1.4714000225067139, 6.662700176239014, -0.728600025177002, 3.2660999298095703, 4.650300025939941, 1.246500015258789, -0.054499998688697815, -5.417699813842773]), f(x)=39.4720\n"
     ]
    },
    {
     "data": {
      "application/vnd.jupyter.widget-view+json": {
       "model_id": "b804fff7c7834bbfa87b98a792de7515",
       "version_major": 2,
       "version_minor": 0
      },
      "text/plain": [
       "Training GP:   0%|          | 0/500 [00:00<?, ?it/s]"
      ]
     },
     "metadata": {},
     "output_type": "display_data"
    },
    {
     "name": "stdout",
     "output_type": "stream",
     "text": [
      "Iteration 24, incumbent x=([3.347899913787842, 5.737500190734863, 1.4714000225067139, 6.662700176239014, -0.728600025177002, 3.2660999298095703, 4.650300025939941, 1.246500015258789, -0.054499998688697815, -5.417699813842773]), f(x)=39.4720\n"
     ]
    },
    {
     "data": {
      "application/vnd.jupyter.widget-view+json": {
       "model_id": "71f8d1f1bc3046269b1a27a14972749c",
       "version_major": 2,
       "version_minor": 0
      },
      "text/plain": [
       "Training GP:   0%|          | 0/500 [00:00<?, ?it/s]"
      ]
     },
     "metadata": {},
     "output_type": "display_data"
    },
    {
     "name": "stdout",
     "output_type": "stream",
     "text": [
      "Iteration 25, incumbent x=([3.347899913787842, 5.737500190734863, 1.4714000225067139, 6.662700176239014, -0.728600025177002, 3.2660999298095703, 4.650300025939941, 1.246500015258789, -0.054499998688697815, -5.417699813842773]), f(x)=39.4720\n"
     ]
    },
    {
     "data": {
      "application/vnd.jupyter.widget-view+json": {
       "model_id": "5cbf4344ea3c403c9b5ab6ac52b2176a",
       "version_major": 2,
       "version_minor": 0
      },
      "text/plain": [
       "Training GP:   0%|          | 0/500 [00:00<?, ?it/s]"
      ]
     },
     "metadata": {},
     "output_type": "display_data"
    },
    {
     "name": "stdout",
     "output_type": "stream",
     "text": [
      "Iteration 26, incumbent x=([3.347899913787842, 5.737500190734863, 1.4714000225067139, 6.662700176239014, -0.728600025177002, 3.2660999298095703, 4.650300025939941, 1.246500015258789, -0.054499998688697815, -5.417699813842773]), f(x)=39.4720\n"
     ]
    },
    {
     "data": {
      "application/vnd.jupyter.widget-view+json": {
       "model_id": "f6aa198f89aa42e9bad2ca7c6311ba5f",
       "version_major": 2,
       "version_minor": 0
      },
      "text/plain": [
       "Training GP:   0%|          | 0/500 [00:00<?, ?it/s]"
      ]
     },
     "metadata": {},
     "output_type": "display_data"
    },
    {
     "name": "stdout",
     "output_type": "stream",
     "text": [
      "Iteration 27, incumbent x=([3.347899913787842, 5.737500190734863, 1.4714000225067139, 6.662700176239014, -0.728600025177002, 3.2660999298095703, 4.650300025939941, 1.246500015258789, -0.054499998688697815, -5.417699813842773]), f(x)=39.4720\n"
     ]
    },
    {
     "data": {
      "application/vnd.jupyter.widget-view+json": {
       "model_id": "1f3d95d60ad246ee9199ae7d4dc13969",
       "version_major": 2,
       "version_minor": 0
      },
      "text/plain": [
       "Training GP:   0%|          | 0/500 [00:00<?, ?it/s]"
      ]
     },
     "metadata": {},
     "output_type": "display_data"
    },
    {
     "name": "stdout",
     "output_type": "stream",
     "text": [
      "Iteration 28, incumbent x=([3.347899913787842, 5.737500190734863, 1.4714000225067139, 6.662700176239014, -0.728600025177002, 3.2660999298095703, 4.650300025939941, 1.246500015258789, -0.054499998688697815, -5.417699813842773]), f(x)=39.4720\n"
     ]
    },
    {
     "data": {
      "application/vnd.jupyter.widget-view+json": {
       "model_id": "63bfcb9f60d74f87a255bc1c2accf179",
       "version_major": 2,
       "version_minor": 0
      },
      "text/plain": [
       "Training GP:   0%|          | 0/500 [00:00<?, ?it/s]"
      ]
     },
     "metadata": {},
     "output_type": "display_data"
    },
    {
     "name": "stdout",
     "output_type": "stream",
     "text": [
      "Iteration 29, incumbent x=([3.347899913787842, 5.737500190734863, 1.4714000225067139, 6.662700176239014, -0.728600025177002, 3.2660999298095703, 4.650300025939941, 1.246500015258789, -0.054499998688697815, -5.417699813842773]), f(x)=39.4720\n"
     ]
    },
    {
     "data": {
      "application/vnd.jupyter.widget-view+json": {
       "model_id": "e248a337763d4143ba724be6fa9d81d7",
       "version_major": 2,
       "version_minor": 0
      },
      "text/plain": [
       "Training GP:   0%|          | 0/500 [00:00<?, ?it/s]"
      ]
     },
     "metadata": {},
     "output_type": "display_data"
    },
    {
     "name": "stdout",
     "output_type": "stream",
     "text": [
      "Iteration 30, incumbent x=([3.347899913787842, 5.737500190734863, 1.4714000225067139, 6.662700176239014, -0.728600025177002, 3.2660999298095703, 4.650300025939941, 1.246500015258789, -0.054499998688697815, -5.417699813842773]), f(x)=39.4720\n"
     ]
    },
    {
     "data": {
      "application/vnd.jupyter.widget-view+json": {
       "model_id": "9fa34acb638d444dbd9d79843e2e8e3d",
       "version_major": 2,
       "version_minor": 0
      },
      "text/plain": [
       "Training GP:   0%|          | 0/500 [00:00<?, ?it/s]"
      ]
     },
     "metadata": {},
     "output_type": "display_data"
    },
    {
     "name": "stdout",
     "output_type": "stream",
     "text": [
      "Iteration 31, incumbent x=([3.347899913787842, 5.737500190734863, 1.4714000225067139, 6.662700176239014, -0.728600025177002, 3.2660999298095703, 4.650300025939941, 1.246500015258789, -0.054499998688697815, -5.417699813842773]), f(x)=39.4720\n"
     ]
    },
    {
     "data": {
      "application/vnd.jupyter.widget-view+json": {
       "model_id": "6cc487b65db0445aada3a21de897c149",
       "version_major": 2,
       "version_minor": 0
      },
      "text/plain": [
       "Training GP:   0%|          | 0/500 [00:00<?, ?it/s]"
      ]
     },
     "metadata": {},
     "output_type": "display_data"
    },
    {
     "name": "stdout",
     "output_type": "stream",
     "text": [
      "Iteration 32, incumbent x=([3.347899913787842, 5.737500190734863, 1.4714000225067139, 6.662700176239014, -0.728600025177002, 3.2660999298095703, 4.650300025939941, 1.246500015258789, -0.054499998688697815, -5.417699813842773]), f(x)=39.4720\n"
     ]
    },
    {
     "data": {
      "application/vnd.jupyter.widget-view+json": {
       "model_id": "05d101aa93174ebd86b976a3a2ce8a04",
       "version_major": 2,
       "version_minor": 0
      },
      "text/plain": [
       "Training GP:   0%|          | 0/500 [00:00<?, ?it/s]"
      ]
     },
     "metadata": {},
     "output_type": "display_data"
    },
    {
     "name": "stdout",
     "output_type": "stream",
     "text": [
      "Iteration 33, incumbent x=([3.347899913787842, 5.737500190734863, 1.4714000225067139, 6.662700176239014, -0.728600025177002, 3.2660999298095703, 4.650300025939941, 1.246500015258789, -0.054499998688697815, -5.417699813842773]), f(x)=39.4720\n"
     ]
    },
    {
     "data": {
      "application/vnd.jupyter.widget-view+json": {
       "model_id": "d2dfddb2cc22420f941fd8c86146b6f7",
       "version_major": 2,
       "version_minor": 0
      },
      "text/plain": [
       "Training GP:   0%|          | 0/500 [00:00<?, ?it/s]"
      ]
     },
     "metadata": {},
     "output_type": "display_data"
    },
    {
     "name": "stdout",
     "output_type": "stream",
     "text": [
      "Iteration 34, incumbent x=([3.347899913787842, 5.737500190734863, 1.4714000225067139, 6.662700176239014, -0.728600025177002, 3.2660999298095703, 4.650300025939941, 1.246500015258789, -0.054499998688697815, -5.417699813842773]), f(x)=39.4720\n"
     ]
    },
    {
     "data": {
      "application/vnd.jupyter.widget-view+json": {
       "model_id": "f2c895433c8d4f1cbb3408c86d1cf5d4",
       "version_major": 2,
       "version_minor": 0
      },
      "text/plain": [
       "Training GP:   0%|          | 0/500 [00:00<?, ?it/s]"
      ]
     },
     "metadata": {},
     "output_type": "display_data"
    },
    {
     "name": "stdout",
     "output_type": "stream",
     "text": [
      "Iteration 35, incumbent x=([3.347899913787842, 5.737500190734863, 1.4714000225067139, 6.662700176239014, -0.728600025177002, 3.2660999298095703, 4.650300025939941, 1.246500015258789, -0.054499998688697815, -5.417699813842773]), f(x)=39.4720\n"
     ]
    },
    {
     "data": {
      "application/vnd.jupyter.widget-view+json": {
       "model_id": "1bc80bfd5b024d62a36f2964d8b633ec",
       "version_major": 2,
       "version_minor": 0
      },
      "text/plain": [
       "Training GP:   0%|          | 0/500 [00:00<?, ?it/s]"
      ]
     },
     "metadata": {},
     "output_type": "display_data"
    },
    {
     "name": "stdout",
     "output_type": "stream",
     "text": [
      "Iteration 36, incumbent x=([3.347899913787842, 5.737500190734863, 1.4714000225067139, 6.662700176239014, -0.728600025177002, 3.2660999298095703, 4.650300025939941, 1.246500015258789, -0.054499998688697815, -5.417699813842773]), f(x)=39.4720\n"
     ]
    },
    {
     "data": {
      "application/vnd.jupyter.widget-view+json": {
       "model_id": "02fd95911c1241dfb9a602e59d1fa32f",
       "version_major": 2,
       "version_minor": 0
      },
      "text/plain": [
       "Training GP:   0%|          | 0/500 [00:00<?, ?it/s]"
      ]
     },
     "metadata": {},
     "output_type": "display_data"
    },
    {
     "name": "stdout",
     "output_type": "stream",
     "text": [
      "Iteration 37, incumbent x=([3.347899913787842, 5.737500190734863, 1.4714000225067139, 6.662700176239014, -0.728600025177002, 3.2660999298095703, 4.650300025939941, 1.246500015258789, -0.054499998688697815, -5.417699813842773]), f(x)=39.4720\n"
     ]
    },
    {
     "data": {
      "application/vnd.jupyter.widget-view+json": {
       "model_id": "16d1e4d1373647aaadcf9fca741dd3a0",
       "version_major": 2,
       "version_minor": 0
      },
      "text/plain": [
       "Training GP:   0%|          | 0/500 [00:00<?, ?it/s]"
      ]
     },
     "metadata": {},
     "output_type": "display_data"
    },
    {
     "name": "stdout",
     "output_type": "stream",
     "text": [
      "Iteration 38, incumbent x=([3.347899913787842, 5.737500190734863, 1.4714000225067139, 6.662700176239014, -0.728600025177002, 3.2660999298095703, 4.650300025939941, 1.246500015258789, -0.054499998688697815, -5.417699813842773]), f(x)=39.4720\n"
     ]
    },
    {
     "data": {
      "application/vnd.jupyter.widget-view+json": {
       "model_id": "14af24a99d15492c9e8e3f926295812d",
       "version_major": 2,
       "version_minor": 0
      },
      "text/plain": [
       "Training GP:   0%|          | 0/500 [00:00<?, ?it/s]"
      ]
     },
     "metadata": {},
     "output_type": "display_data"
    },
    {
     "name": "stdout",
     "output_type": "stream",
     "text": [
      "Iteration 39, incumbent x=([3.347899913787842, 5.737500190734863, 1.4714000225067139, 6.662700176239014, -0.728600025177002, 3.2660999298095703, 4.650300025939941, 1.246500015258789, -0.054499998688697815, -5.417699813842773]), f(x)=39.4720\n"
     ]
    },
    {
     "data": {
      "application/vnd.jupyter.widget-view+json": {
       "model_id": "b09404db21894d6f9f1303c96dca6b7c",
       "version_major": 2,
       "version_minor": 0
      },
      "text/plain": [
       "Training GP:   0%|          | 0/500 [00:00<?, ?it/s]"
      ]
     },
     "metadata": {},
     "output_type": "display_data"
    },
    {
     "name": "stdout",
     "output_type": "stream",
     "text": [
      "Iteration 40, incumbent x=([3.347899913787842, 5.737500190734863, 1.4714000225067139, 6.662700176239014, -0.728600025177002, 3.2660999298095703, 4.650300025939941, 1.246500015258789, -0.054499998688697815, -5.417699813842773]), f(x)=39.4720\n"
     ]
    },
    {
     "data": {
      "application/vnd.jupyter.widget-view+json": {
       "model_id": "e416674472804a459d152792670c3eed",
       "version_major": 2,
       "version_minor": 0
      },
      "text/plain": [
       "Training GP:   0%|          | 0/500 [00:00<?, ?it/s]"
      ]
     },
     "metadata": {},
     "output_type": "display_data"
    },
    {
     "name": "stdout",
     "output_type": "stream",
     "text": [
      "Iteration 41, incumbent x=([3.347899913787842, 5.737500190734863, 1.4714000225067139, 6.662700176239014, -0.728600025177002, 3.2660999298095703, 4.650300025939941, 1.246500015258789, -0.054499998688697815, -5.417699813842773]), f(x)=39.4720\n"
     ]
    },
    {
     "data": {
      "application/vnd.jupyter.widget-view+json": {
       "model_id": "9afcc21832244921a5ef09e9ca1dcefe",
       "version_major": 2,
       "version_minor": 0
      },
      "text/plain": [
       "Training GP:   0%|          | 0/500 [00:00<?, ?it/s]"
      ]
     },
     "metadata": {},
     "output_type": "display_data"
    },
    {
     "name": "stdout",
     "output_type": "stream",
     "text": [
      "Iteration 42, incumbent x=([3.347899913787842, 5.737500190734863, 1.4714000225067139, 6.662700176239014, -0.728600025177002, 3.2660999298095703, 4.650300025939941, 1.246500015258789, -0.054499998688697815, -5.417699813842773]), f(x)=39.4720\n"
     ]
    },
    {
     "data": {
      "application/vnd.jupyter.widget-view+json": {
       "model_id": "b121908c38fa447aaeb9aa77dfe82548",
       "version_major": 2,
       "version_minor": 0
      },
      "text/plain": [
       "Training GP:   0%|          | 0/500 [00:00<?, ?it/s]"
      ]
     },
     "metadata": {},
     "output_type": "display_data"
    },
    {
     "name": "stdout",
     "output_type": "stream",
     "text": [
      "Iteration 43, incumbent x=([3.347899913787842, 5.737500190734863, 1.4714000225067139, 6.662700176239014, -0.728600025177002, 3.2660999298095703, 4.650300025939941, 1.246500015258789, -0.054499998688697815, -5.417699813842773]), f(x)=39.4720\n"
     ]
    },
    {
     "data": {
      "application/vnd.jupyter.widget-view+json": {
       "model_id": "09abab4209de45829b86c9ca0a70d339",
       "version_major": 2,
       "version_minor": 0
      },
      "text/plain": [
       "Training GP:   0%|          | 0/500 [00:00<?, ?it/s]"
      ]
     },
     "metadata": {},
     "output_type": "display_data"
    },
    {
     "name": "stdout",
     "output_type": "stream",
     "text": [
      "Iteration 44, incumbent x=([3.347899913787842, 5.737500190734863, 1.4714000225067139, 6.662700176239014, -0.728600025177002, 3.2660999298095703, 4.650300025939941, 1.246500015258789, -0.054499998688697815, -5.417699813842773]), f(x)=39.4720\n"
     ]
    },
    {
     "data": {
      "application/vnd.jupyter.widget-view+json": {
       "model_id": "d66647dd967449b4b72b6d70964e1ca1",
       "version_major": 2,
       "version_minor": 0
      },
      "text/plain": [
       "Training GP:   0%|          | 0/500 [00:00<?, ?it/s]"
      ]
     },
     "metadata": {},
     "output_type": "display_data"
    },
    {
     "name": "stdout",
     "output_type": "stream",
     "text": [
      "Iteration 45, incumbent x=([3.347899913787842, 5.737500190734863, 1.4714000225067139, 6.662700176239014, -0.728600025177002, 3.2660999298095703, 4.650300025939941, 1.246500015258789, -0.054499998688697815, -5.417699813842773]), f(x)=39.4720\n"
     ]
    },
    {
     "data": {
      "application/vnd.jupyter.widget-view+json": {
       "model_id": "98c08d4fe7214f18aa245d83a08672d6",
       "version_major": 2,
       "version_minor": 0
      },
      "text/plain": [
       "Training GP:   0%|          | 0/500 [00:00<?, ?it/s]"
      ]
     },
     "metadata": {},
     "output_type": "display_data"
    },
    {
     "name": "stdout",
     "output_type": "stream",
     "text": [
      "Iteration 46, incumbent x=([3.347899913787842, 5.737500190734863, 1.4714000225067139, 6.662700176239014, -0.728600025177002, 3.2660999298095703, 4.650300025939941, 1.246500015258789, -0.054499998688697815, -5.417699813842773]), f(x)=39.4720\n"
     ]
    },
    {
     "data": {
      "application/vnd.jupyter.widget-view+json": {
       "model_id": "b06b9cbb12a34dc89eb5cccb7405cf82",
       "version_major": 2,
       "version_minor": 0
      },
      "text/plain": [
       "Training GP:   0%|          | 0/500 [00:00<?, ?it/s]"
      ]
     },
     "metadata": {},
     "output_type": "display_data"
    },
    {
     "name": "stdout",
     "output_type": "stream",
     "text": [
      "Iteration 47, incumbent x=([3.347899913787842, 5.737500190734863, 1.4714000225067139, 6.662700176239014, -0.728600025177002, 3.2660999298095703, 4.650300025939941, 1.246500015258789, -0.054499998688697815, -5.417699813842773]), f(x)=39.4720\n"
     ]
    },
    {
     "data": {
      "application/vnd.jupyter.widget-view+json": {
       "model_id": "0b11482ff8a4460cac6ab9f7b152c3f9",
       "version_major": 2,
       "version_minor": 0
      },
      "text/plain": [
       "Training GP:   0%|          | 0/500 [00:00<?, ?it/s]"
      ]
     },
     "metadata": {},
     "output_type": "display_data"
    },
    {
     "name": "stdout",
     "output_type": "stream",
     "text": [
      "Iteration 48, incumbent x=([3.347899913787842, 5.737500190734863, 1.4714000225067139, 6.662700176239014, -0.728600025177002, 3.2660999298095703, 4.650300025939941, 1.246500015258789, -0.054499998688697815, -5.417699813842773]), f(x)=39.4720\n"
     ]
    },
    {
     "data": {
      "application/vnd.jupyter.widget-view+json": {
       "model_id": "6054df0838cd44ea90ec79ae53178555",
       "version_major": 2,
       "version_minor": 0
      },
      "text/plain": [
       "Training GP:   0%|          | 0/500 [00:00<?, ?it/s]"
      ]
     },
     "metadata": {},
     "output_type": "display_data"
    },
    {
     "name": "stdout",
     "output_type": "stream",
     "text": [
      "Iteration 49, incumbent x=([3.347899913787842, 5.737500190734863, 1.4714000225067139, 6.662700176239014, -0.728600025177002, 3.2660999298095703, 4.650300025939941, 1.246500015258789, -0.054499998688697815, -5.417699813842773]), f(x)=39.4720\n"
     ]
    },
    {
     "data": {
      "application/vnd.jupyter.widget-view+json": {
       "model_id": "93ddc8c3654742f59cf5c51951b094af",
       "version_major": 2,
       "version_minor": 0
      },
      "text/plain": [
       "Training GP:   0%|          | 0/500 [00:00<?, ?it/s]"
      ]
     },
     "metadata": {},
     "output_type": "display_data"
    },
    {
     "name": "stdout",
     "output_type": "stream",
     "text": [
      "Iteration 50, incumbent x=([3.347899913787842, 5.737500190734863, 1.4714000225067139, 6.662700176239014, -0.728600025177002, 3.2660999298095703, 4.650300025939941, 1.246500015258789, -0.054499998688697815, -5.417699813842773]), f(x)=39.4720\n"
     ]
    },
    {
     "data": {
      "application/vnd.jupyter.widget-view+json": {
       "model_id": "2cb4bed4dfc240b2a895746e098a3252",
       "version_major": 2,
       "version_minor": 0
      },
      "text/plain": [
       "Training GP:   0%|          | 0/500 [00:00<?, ?it/s]"
      ]
     },
     "metadata": {},
     "output_type": "display_data"
    },
    {
     "name": "stdout",
     "output_type": "stream",
     "text": [
      "Iteration 51, incumbent x=([3.347899913787842, 5.737500190734863, 1.4714000225067139, 6.662700176239014, -0.728600025177002, 3.2660999298095703, 4.650300025939941, 1.246500015258789, -0.054499998688697815, -5.417699813842773]), f(x)=39.4720\n"
     ]
    },
    {
     "data": {
      "application/vnd.jupyter.widget-view+json": {
       "model_id": "f925aa3abc894e9eb1f1916e6d1f8739",
       "version_major": 2,
       "version_minor": 0
      },
      "text/plain": [
       "Training GP:   0%|          | 0/500 [00:00<?, ?it/s]"
      ]
     },
     "metadata": {},
     "output_type": "display_data"
    },
    {
     "name": "stdout",
     "output_type": "stream",
     "text": [
      "Iteration 52, incumbent x=([3.347899913787842, 5.737500190734863, 1.4714000225067139, 6.662700176239014, -0.728600025177002, 3.2660999298095703, 4.650300025939941, 1.246500015258789, -0.054499998688697815, -5.417699813842773]), f(x)=39.4720\n"
     ]
    },
    {
     "data": {
      "application/vnd.jupyter.widget-view+json": {
       "model_id": "1c5191bad7e240678fd12b53380cf86e",
       "version_major": 2,
       "version_minor": 0
      },
      "text/plain": [
       "Training GP:   0%|          | 0/500 [00:00<?, ?it/s]"
      ]
     },
     "metadata": {},
     "output_type": "display_data"
    },
    {
     "name": "stdout",
     "output_type": "stream",
     "text": [
      "Iteration 53, incumbent x=([3.347899913787842, 5.737500190734863, 1.4714000225067139, 6.662700176239014, -0.728600025177002, 3.2660999298095703, 4.650300025939941, 1.246500015258789, -0.054499998688697815, -5.417699813842773]), f(x)=39.4720\n"
     ]
    },
    {
     "data": {
      "application/vnd.jupyter.widget-view+json": {
       "model_id": "ea08adf5cd6c425393d5081666c9caae",
       "version_major": 2,
       "version_minor": 0
      },
      "text/plain": [
       "Training GP:   0%|          | 0/500 [00:00<?, ?it/s]"
      ]
     },
     "metadata": {},
     "output_type": "display_data"
    },
    {
     "name": "stdout",
     "output_type": "stream",
     "text": [
      "Iteration 54, incumbent x=([3.347899913787842, 5.737500190734863, 1.4714000225067139, 6.662700176239014, -0.728600025177002, 3.2660999298095703, 4.650300025939941, 1.246500015258789, -0.054499998688697815, -5.417699813842773]), f(x)=39.4720\n"
     ]
    },
    {
     "data": {
      "application/vnd.jupyter.widget-view+json": {
       "model_id": "53912350771145dfb1479e96a393b25a",
       "version_major": 2,
       "version_minor": 0
      },
      "text/plain": [
       "Training GP:   0%|          | 0/500 [00:00<?, ?it/s]"
      ]
     },
     "metadata": {},
     "output_type": "display_data"
    },
    {
     "name": "stdout",
     "output_type": "stream",
     "text": [
      "Iteration 55, incumbent x=([3.347899913787842, 5.737500190734863, 1.4714000225067139, 6.662700176239014, -0.728600025177002, 3.2660999298095703, 4.650300025939941, 1.246500015258789, -0.054499998688697815, -5.417699813842773]), f(x)=39.4720\n"
     ]
    },
    {
     "data": {
      "application/vnd.jupyter.widget-view+json": {
       "model_id": "38b32c7dde2343ca83d3140647a54ead",
       "version_major": 2,
       "version_minor": 0
      },
      "text/plain": [
       "Training GP:   0%|          | 0/500 [00:00<?, ?it/s]"
      ]
     },
     "metadata": {},
     "output_type": "display_data"
    },
    {
     "name": "stdout",
     "output_type": "stream",
     "text": [
      "Iteration 56, incumbent x=([3.347899913787842, 5.737500190734863, 1.4714000225067139, 6.662700176239014, -0.728600025177002, 3.2660999298095703, 4.650300025939941, 1.246500015258789, -0.054499998688697815, -5.417699813842773]), f(x)=39.4720\n"
     ]
    },
    {
     "data": {
      "application/vnd.jupyter.widget-view+json": {
       "model_id": "14e57da90d5949d98330627575507ec3",
       "version_major": 2,
       "version_minor": 0
      },
      "text/plain": [
       "Training GP:   0%|          | 0/500 [00:00<?, ?it/s]"
      ]
     },
     "metadata": {},
     "output_type": "display_data"
    },
    {
     "name": "stdout",
     "output_type": "stream",
     "text": [
      "Iteration 57, incumbent x=([3.347899913787842, 5.737500190734863, 1.4714000225067139, 6.662700176239014, -0.728600025177002, 3.2660999298095703, 4.650300025939941, 1.246500015258789, -0.054499998688697815, -5.417699813842773]), f(x)=39.4720\n"
     ]
    },
    {
     "data": {
      "application/vnd.jupyter.widget-view+json": {
       "model_id": "dea27fcdf1ab4dafbe51d2fd61ec176f",
       "version_major": 2,
       "version_minor": 0
      },
      "text/plain": [
       "Training GP:   0%|          | 0/500 [00:00<?, ?it/s]"
      ]
     },
     "metadata": {},
     "output_type": "display_data"
    },
    {
     "name": "stdout",
     "output_type": "stream",
     "text": [
      "Iteration 58, incumbent x=([3.347899913787842, 5.737500190734863, 1.4714000225067139, 6.662700176239014, -0.728600025177002, 3.2660999298095703, 4.650300025939941, 1.246500015258789, -0.054499998688697815, -5.417699813842773]), f(x)=39.4720\n"
     ]
    },
    {
     "data": {
      "application/vnd.jupyter.widget-view+json": {
       "model_id": "ba1949e05e184285a4c0edf91863ef4d",
       "version_major": 2,
       "version_minor": 0
      },
      "text/plain": [
       "Training GP:   0%|          | 0/500 [00:00<?, ?it/s]"
      ]
     },
     "metadata": {},
     "output_type": "display_data"
    },
    {
     "name": "stdout",
     "output_type": "stream",
     "text": [
      "Iteration 59, incumbent x=([3.347899913787842, 5.737500190734863, 1.4714000225067139, 6.662700176239014, -0.728600025177002, 3.2660999298095703, 4.650300025939941, 1.246500015258789, -0.054499998688697815, -5.417699813842773]), f(x)=39.4720\n"
     ]
    },
    {
     "data": {
      "application/vnd.jupyter.widget-view+json": {
       "model_id": "e7884fcf0fab4ebba69349e3ddd602c2",
       "version_major": 2,
       "version_minor": 0
      },
      "text/plain": [
       "Training GP:   0%|          | 0/500 [00:00<?, ?it/s]"
      ]
     },
     "metadata": {},
     "output_type": "display_data"
    },
    {
     "name": "stdout",
     "output_type": "stream",
     "text": [
      "Iteration 60, incumbent x=([-4.856400012969971, 0.7488999962806702, 1.4327000379562378, 7.660699844360352, -8.170100212097168, 4.611800193786621, 0.5432000160217285, -1.7475999593734741, 2.4377999305725098, 3.1019999980926514]), f(x)=25.9080\n"
     ]
    },
    {
     "data": {
      "application/vnd.jupyter.widget-view+json": {
       "model_id": "6c5cef0a9112455680352ce1e5e9bf40",
       "version_major": 2,
       "version_minor": 0
      },
      "text/plain": [
       "Training GP:   0%|          | 0/500 [00:00<?, ?it/s]"
      ]
     },
     "metadata": {},
     "output_type": "display_data"
    },
    {
     "name": "stdout",
     "output_type": "stream",
     "text": [
      "Iteration 61, incumbent x=([-4.856400012969971, 0.7488999962806702, 1.4327000379562378, 7.660699844360352, -8.170100212097168, 4.611800193786621, 0.5432000160217285, -1.7475999593734741, 2.4377999305725098, 3.1019999980926514]), f(x)=25.9080\n"
     ]
    },
    {
     "data": {
      "application/vnd.jupyter.widget-view+json": {
       "model_id": "f9b435ff3e7742088061a92fd4ab9c7e",
       "version_major": 2,
       "version_minor": 0
      },
      "text/plain": [
       "Training GP:   0%|          | 0/500 [00:00<?, ?it/s]"
      ]
     },
     "metadata": {},
     "output_type": "display_data"
    },
    {
     "name": "stdout",
     "output_type": "stream",
     "text": [
      "Iteration 62, incumbent x=([-4.856400012969971, 0.7488999962806702, 1.4327000379562378, 7.660699844360352, -8.170100212097168, 4.611800193786621, 0.5432000160217285, -1.7475999593734741, 2.4377999305725098, 3.1019999980926514]), f(x)=25.9080\n"
     ]
    },
    {
     "data": {
      "application/vnd.jupyter.widget-view+json": {
       "model_id": "d876eef7d88f44c8bf08e0b60dedbfac",
       "version_major": 2,
       "version_minor": 0
      },
      "text/plain": [
       "Training GP:   0%|          | 0/500 [00:00<?, ?it/s]"
      ]
     },
     "metadata": {},
     "output_type": "display_data"
    },
    {
     "name": "stdout",
     "output_type": "stream",
     "text": [
      "Iteration 63, incumbent x=([-4.856400012969971, 0.7488999962806702, 1.4327000379562378, 7.660699844360352, -8.170100212097168, 4.611800193786621, 0.5432000160217285, -1.7475999593734741, 2.4377999305725098, 3.1019999980926514]), f(x)=25.9080\n"
     ]
    },
    {
     "data": {
      "application/vnd.jupyter.widget-view+json": {
       "model_id": "c3d1d14abc2342f2abac997b73b78293",
       "version_major": 2,
       "version_minor": 0
      },
      "text/plain": [
       "Training GP:   0%|          | 0/500 [00:00<?, ?it/s]"
      ]
     },
     "metadata": {},
     "output_type": "display_data"
    },
    {
     "name": "stdout",
     "output_type": "stream",
     "text": [
      "Iteration 64, incumbent x=([-4.856400012969971, 0.7488999962806702, 1.4327000379562378, 7.660699844360352, -8.170100212097168, 4.611800193786621, 0.5432000160217285, -1.7475999593734741, 2.4377999305725098, 3.1019999980926514]), f(x)=25.9080\n"
     ]
    },
    {
     "data": {
      "application/vnd.jupyter.widget-view+json": {
       "model_id": "44da315edec44367a70ca025ac1b63c1",
       "version_major": 2,
       "version_minor": 0
      },
      "text/plain": [
       "Training GP:   0%|          | 0/500 [00:00<?, ?it/s]"
      ]
     },
     "metadata": {},
     "output_type": "display_data"
    },
    {
     "name": "stdout",
     "output_type": "stream",
     "text": [
      "Iteration 65, incumbent x=([-4.856400012969971, 0.7488999962806702, 1.4327000379562378, 7.660699844360352, -8.170100212097168, 4.611800193786621, 0.5432000160217285, -1.7475999593734741, 2.4377999305725098, 3.1019999980926514]), f(x)=25.9080\n"
     ]
    },
    {
     "data": {
      "application/vnd.jupyter.widget-view+json": {
       "model_id": "a6734cf86b9b47d9a76cd7bc5b85d320",
       "version_major": 2,
       "version_minor": 0
      },
      "text/plain": [
       "Training GP:   0%|          | 0/500 [00:00<?, ?it/s]"
      ]
     },
     "metadata": {},
     "output_type": "display_data"
    },
    {
     "name": "stdout",
     "output_type": "stream",
     "text": [
      "Iteration 66, incumbent x=([-4.856400012969971, 0.7488999962806702, 1.4327000379562378, 7.660699844360352, -8.170100212097168, 4.611800193786621, 0.5432000160217285, -1.7475999593734741, 2.4377999305725098, 3.1019999980926514]), f(x)=25.9080\n"
     ]
    },
    {
     "data": {
      "application/vnd.jupyter.widget-view+json": {
       "model_id": "15b5cb13f6cd41c6b8be1d9b7d99732c",
       "version_major": 2,
       "version_minor": 0
      },
      "text/plain": [
       "Training GP:   0%|          | 0/500 [00:00<?, ?it/s]"
      ]
     },
     "metadata": {},
     "output_type": "display_data"
    },
    {
     "name": "stdout",
     "output_type": "stream",
     "text": [
      "Iteration 67, incumbent x=([-4.856400012969971, 0.7488999962806702, 1.4327000379562378, 7.660699844360352, -8.170100212097168, 4.611800193786621, 0.5432000160217285, -1.7475999593734741, 2.4377999305725098, 3.1019999980926514]), f(x)=25.9080\n"
     ]
    },
    {
     "data": {
      "application/vnd.jupyter.widget-view+json": {
       "model_id": "9877a87f808e427a83bb4969881994e5",
       "version_major": 2,
       "version_minor": 0
      },
      "text/plain": [
       "Training GP:   0%|          | 0/500 [00:00<?, ?it/s]"
      ]
     },
     "metadata": {},
     "output_type": "display_data"
    },
    {
     "name": "stdout",
     "output_type": "stream",
     "text": [
      "Iteration 68, incumbent x=([-4.856400012969971, 0.7488999962806702, 1.4327000379562378, 7.660699844360352, -8.170100212097168, 4.611800193786621, 0.5432000160217285, -1.7475999593734741, 2.4377999305725098, 3.1019999980926514]), f(x)=25.9080\n"
     ]
    },
    {
     "data": {
      "application/vnd.jupyter.widget-view+json": {
       "model_id": "fdd186706c974475b36f1f4673cc069e",
       "version_major": 2,
       "version_minor": 0
      },
      "text/plain": [
       "Training GP:   0%|          | 0/500 [00:00<?, ?it/s]"
      ]
     },
     "metadata": {},
     "output_type": "display_data"
    },
    {
     "name": "stdout",
     "output_type": "stream",
     "text": [
      "Iteration 69, incumbent x=([-4.856400012969971, 0.7488999962806702, 1.4327000379562378, 7.660699844360352, -8.170100212097168, 4.611800193786621, 0.5432000160217285, -1.7475999593734741, 2.4377999305725098, 3.1019999980926514]), f(x)=25.9080\n"
     ]
    },
    {
     "data": {
      "application/vnd.jupyter.widget-view+json": {
       "model_id": "3f0966e918b74891bb595e9079bdd13b",
       "version_major": 2,
       "version_minor": 0
      },
      "text/plain": [
       "Training GP:   0%|          | 0/500 [00:00<?, ?it/s]"
      ]
     },
     "metadata": {},
     "output_type": "display_data"
    },
    {
     "name": "stdout",
     "output_type": "stream",
     "text": [
      "Iteration 70, incumbent x=([-4.856400012969971, 0.7488999962806702, 1.4327000379562378, 7.660699844360352, -8.170100212097168, 4.611800193786621, 0.5432000160217285, -1.7475999593734741, 2.4377999305725098, 3.1019999980926514]), f(x)=25.9080\n"
     ]
    },
    {
     "data": {
      "application/vnd.jupyter.widget-view+json": {
       "model_id": "73c41055d3c6470d811a823a7fe923d1",
       "version_major": 2,
       "version_minor": 0
      },
      "text/plain": [
       "Training GP:   0%|          | 0/500 [00:00<?, ?it/s]"
      ]
     },
     "metadata": {},
     "output_type": "display_data"
    },
    {
     "name": "stdout",
     "output_type": "stream",
     "text": [
      "Iteration 71, incumbent x=([-4.856400012969971, 0.7488999962806702, 1.4327000379562378, 7.660699844360352, -8.170100212097168, 4.611800193786621, 0.5432000160217285, -1.7475999593734741, 2.4377999305725098, 3.1019999980926514]), f(x)=25.9080\n"
     ]
    },
    {
     "data": {
      "application/vnd.jupyter.widget-view+json": {
       "model_id": "6b72301a33044483b02e95df7af376b3",
       "version_major": 2,
       "version_minor": 0
      },
      "text/plain": [
       "Training GP:   0%|          | 0/500 [00:00<?, ?it/s]"
      ]
     },
     "metadata": {},
     "output_type": "display_data"
    },
    {
     "name": "stdout",
     "output_type": "stream",
     "text": [
      "Iteration 72, incumbent x=([-4.856400012969971, 0.7488999962806702, 1.4327000379562378, 7.660699844360352, -8.170100212097168, 4.611800193786621, 0.5432000160217285, -1.7475999593734741, 2.4377999305725098, 3.1019999980926514]), f(x)=25.9080\n"
     ]
    },
    {
     "data": {
      "application/vnd.jupyter.widget-view+json": {
       "model_id": "0da51f4b3a2f4691993daf34c0ce5f4b",
       "version_major": 2,
       "version_minor": 0
      },
      "text/plain": [
       "Training GP:   0%|          | 0/500 [00:00<?, ?it/s]"
      ]
     },
     "metadata": {},
     "output_type": "display_data"
    },
    {
     "name": "stdout",
     "output_type": "stream",
     "text": [
      "Iteration 73, incumbent x=([-4.856400012969971, 0.7488999962806702, 1.4327000379562378, 7.660699844360352, -8.170100212097168, 4.611800193786621, 0.5432000160217285, -1.7475999593734741, 2.4377999305725098, 3.1019999980926514]), f(x)=25.9080\n"
     ]
    },
    {
     "data": {
      "application/vnd.jupyter.widget-view+json": {
       "model_id": "f38d8c07449648b498f2bcf1a1e7476a",
       "version_major": 2,
       "version_minor": 0
      },
      "text/plain": [
       "Training GP:   0%|          | 0/500 [00:00<?, ?it/s]"
      ]
     },
     "metadata": {},
     "output_type": "display_data"
    },
    {
     "name": "stdout",
     "output_type": "stream",
     "text": [
      "Iteration 74, incumbent x=([-4.856400012969971, 0.7488999962806702, 1.4327000379562378, 7.660699844360352, -8.170100212097168, 4.611800193786621, 0.5432000160217285, -1.7475999593734741, 2.4377999305725098, 3.1019999980926514]), f(x)=25.9080\n"
     ]
    },
    {
     "data": {
      "application/vnd.jupyter.widget-view+json": {
       "model_id": "1ba7cc50882b4c2cb7e7ed8e5b7fddd8",
       "version_major": 2,
       "version_minor": 0
      },
      "text/plain": [
       "Training GP:   0%|          | 0/500 [00:00<?, ?it/s]"
      ]
     },
     "metadata": {},
     "output_type": "display_data"
    },
    {
     "name": "stdout",
     "output_type": "stream",
     "text": [
      "Iteration 75, incumbent x=([-4.856400012969971, 0.7488999962806702, 1.4327000379562378, 7.660699844360352, -8.170100212097168, 4.611800193786621, 0.5432000160217285, -1.7475999593734741, 2.4377999305725098, 3.1019999980926514]), f(x)=25.9080\n"
     ]
    },
    {
     "data": {
      "application/vnd.jupyter.widget-view+json": {
       "model_id": "b9dc266f73704f5b90e2965856e035ee",
       "version_major": 2,
       "version_minor": 0
      },
      "text/plain": [
       "Training GP:   0%|          | 0/500 [00:00<?, ?it/s]"
      ]
     },
     "metadata": {},
     "output_type": "display_data"
    },
    {
     "name": "stdout",
     "output_type": "stream",
     "text": [
      "Iteration 76, incumbent x=([-4.856400012969971, 0.7488999962806702, 1.4327000379562378, 7.660699844360352, -8.170100212097168, 4.611800193786621, 0.5432000160217285, -1.7475999593734741, 2.4377999305725098, 3.1019999980926514]), f(x)=25.9080\n"
     ]
    },
    {
     "data": {
      "application/vnd.jupyter.widget-view+json": {
       "model_id": "747a7244fc654ab5a77707ced7fa429d",
       "version_major": 2,
       "version_minor": 0
      },
      "text/plain": [
       "Training GP:   0%|          | 0/500 [00:00<?, ?it/s]"
      ]
     },
     "metadata": {},
     "output_type": "display_data"
    },
    {
     "name": "stdout",
     "output_type": "stream",
     "text": [
      "Iteration 77, incumbent x=([-4.856400012969971, 0.7488999962806702, 1.4327000379562378, 7.660699844360352, -8.170100212097168, 4.611800193786621, 0.5432000160217285, -1.7475999593734741, 2.4377999305725098, 3.1019999980926514]), f(x)=25.9080\n"
     ]
    },
    {
     "data": {
      "application/vnd.jupyter.widget-view+json": {
       "model_id": "8f84043626dd44adbae35538c3f98ca6",
       "version_major": 2,
       "version_minor": 0
      },
      "text/plain": [
       "Training GP:   0%|          | 0/500 [00:00<?, ?it/s]"
      ]
     },
     "metadata": {},
     "output_type": "display_data"
    },
    {
     "name": "stdout",
     "output_type": "stream",
     "text": [
      "Iteration 78, incumbent x=([-4.856400012969971, 0.7488999962806702, 1.4327000379562378, 7.660699844360352, -8.170100212097168, 4.611800193786621, 0.5432000160217285, -1.7475999593734741, 2.4377999305725098, 3.1019999980926514]), f(x)=25.9080\n"
     ]
    },
    {
     "data": {
      "application/vnd.jupyter.widget-view+json": {
       "model_id": "db5615f49883430e91593ddd5aaea218",
       "version_major": 2,
       "version_minor": 0
      },
      "text/plain": [
       "Training GP:   0%|          | 0/500 [00:00<?, ?it/s]"
      ]
     },
     "metadata": {},
     "output_type": "display_data"
    },
    {
     "name": "stdout",
     "output_type": "stream",
     "text": [
      "Iteration 79, incumbent x=([-4.856400012969971, 0.7488999962806702, 1.4327000379562378, 7.660699844360352, -8.170100212097168, 4.611800193786621, 0.5432000160217285, -1.7475999593734741, 2.4377999305725098, 3.1019999980926514]), f(x)=25.9080\n"
     ]
    },
    {
     "data": {
      "application/vnd.jupyter.widget-view+json": {
       "model_id": "3086937d43314623a59a14c3fbe0f819",
       "version_major": 2,
       "version_minor": 0
      },
      "text/plain": [
       "Training GP:   0%|          | 0/500 [00:00<?, ?it/s]"
      ]
     },
     "metadata": {},
     "output_type": "display_data"
    },
    {
     "name": "stdout",
     "output_type": "stream",
     "text": [
      "Iteration 80, incumbent x=([-4.856400012969971, 0.7488999962806702, 1.4327000379562378, 7.660699844360352, -8.170100212097168, 4.611800193786621, 0.5432000160217285, -1.7475999593734741, 2.4377999305725098, 3.1019999980926514]), f(x)=25.9080\n"
     ]
    },
    {
     "data": {
      "application/vnd.jupyter.widget-view+json": {
       "model_id": "01ae71c316f74369a267a8c25c73c3c5",
       "version_major": 2,
       "version_minor": 0
      },
      "text/plain": [
       "Training GP:   0%|          | 0/500 [00:00<?, ?it/s]"
      ]
     },
     "metadata": {},
     "output_type": "display_data"
    },
    {
     "name": "stdout",
     "output_type": "stream",
     "text": [
      "Iteration 81, incumbent x=([-4.856400012969971, 0.7488999962806702, 1.4327000379562378, 7.660699844360352, -8.170100212097168, 4.611800193786621, 0.5432000160217285, -1.7475999593734741, 2.4377999305725098, 3.1019999980926514]), f(x)=25.9080\n"
     ]
    },
    {
     "data": {
      "application/vnd.jupyter.widget-view+json": {
       "model_id": "7c27403559e042dbbdb57cbf9d825b66",
       "version_major": 2,
       "version_minor": 0
      },
      "text/plain": [
       "Training GP:   0%|          | 0/500 [00:00<?, ?it/s]"
      ]
     },
     "metadata": {},
     "output_type": "display_data"
    },
    {
     "name": "stdout",
     "output_type": "stream",
     "text": [
      "Iteration 82, incumbent x=([-4.856400012969971, 0.7488999962806702, 1.4327000379562378, 7.660699844360352, -8.170100212097168, 4.611800193786621, 0.5432000160217285, -1.7475999593734741, 2.4377999305725098, 3.1019999980926514]), f(x)=25.9080\n"
     ]
    },
    {
     "data": {
      "application/vnd.jupyter.widget-view+json": {
       "model_id": "8ba88c17160d40efada11349d0352c56",
       "version_major": 2,
       "version_minor": 0
      },
      "text/plain": [
       "Training GP:   0%|          | 0/500 [00:00<?, ?it/s]"
      ]
     },
     "metadata": {},
     "output_type": "display_data"
    },
    {
     "name": "stdout",
     "output_type": "stream",
     "text": [
      "Iteration 83, incumbent x=([-4.856400012969971, 0.7488999962806702, 1.4327000379562378, 7.660699844360352, -8.170100212097168, 4.611800193786621, 0.5432000160217285, -1.7475999593734741, 2.4377999305725098, 3.1019999980926514]), f(x)=25.9080\n"
     ]
    },
    {
     "data": {
      "application/vnd.jupyter.widget-view+json": {
       "model_id": "a41fcc3d1d1f4d77b7467c9e807c1cd7",
       "version_major": 2,
       "version_minor": 0
      },
      "text/plain": [
       "Training GP:   0%|          | 0/500 [00:00<?, ?it/s]"
      ]
     },
     "metadata": {},
     "output_type": "display_data"
    },
    {
     "name": "stdout",
     "output_type": "stream",
     "text": [
      "Iteration 84, incumbent x=([-4.856400012969971, 0.7488999962806702, 1.4327000379562378, 7.660699844360352, -8.170100212097168, 4.611800193786621, 0.5432000160217285, -1.7475999593734741, 2.4377999305725098, 3.1019999980926514]), f(x)=25.9080\n"
     ]
    },
    {
     "data": {
      "application/vnd.jupyter.widget-view+json": {
       "model_id": "ddbbff92849d4873a935412a33090bf6",
       "version_major": 2,
       "version_minor": 0
      },
      "text/plain": [
       "Training GP:   0%|          | 0/500 [00:00<?, ?it/s]"
      ]
     },
     "metadata": {},
     "output_type": "display_data"
    },
    {
     "name": "stdout",
     "output_type": "stream",
     "text": [
      "Iteration 85, incumbent x=([-4.856400012969971, 0.7488999962806702, 1.4327000379562378, 7.660699844360352, -8.170100212097168, 4.611800193786621, 0.5432000160217285, -1.7475999593734741, 2.4377999305725098, 3.1019999980926514]), f(x)=25.9080\n"
     ]
    },
    {
     "data": {
      "application/vnd.jupyter.widget-view+json": {
       "model_id": "64ed67a8cc6344ef83b16ef1011a71c3",
       "version_major": 2,
       "version_minor": 0
      },
      "text/plain": [
       "Training GP:   0%|          | 0/500 [00:00<?, ?it/s]"
      ]
     },
     "metadata": {},
     "output_type": "display_data"
    },
    {
     "name": "stdout",
     "output_type": "stream",
     "text": [
      "Iteration 86, incumbent x=([-4.856400012969971, 0.7488999962806702, 1.4327000379562378, 7.660699844360352, -8.170100212097168, 4.611800193786621, 0.5432000160217285, -1.7475999593734741, 2.4377999305725098, 3.1019999980926514]), f(x)=25.9080\n"
     ]
    },
    {
     "data": {
      "application/vnd.jupyter.widget-view+json": {
       "model_id": "c6da19e1e25647dcb8f22848e0015159",
       "version_major": 2,
       "version_minor": 0
      },
      "text/plain": [
       "Training GP:   0%|          | 0/500 [00:00<?, ?it/s]"
      ]
     },
     "metadata": {},
     "output_type": "display_data"
    },
    {
     "name": "stdout",
     "output_type": "stream",
     "text": [
      "Iteration 87, incumbent x=([-4.856400012969971, 0.7488999962806702, 1.4327000379562378, 7.660699844360352, -8.170100212097168, 4.611800193786621, 0.5432000160217285, -1.7475999593734741, 2.4377999305725098, 3.1019999980926514]), f(x)=25.9080\n"
     ]
    },
    {
     "data": {
      "application/vnd.jupyter.widget-view+json": {
       "model_id": "af582d149f2a4f23b13c63c3428ab2a0",
       "version_major": 2,
       "version_minor": 0
      },
      "text/plain": [
       "Training GP:   0%|          | 0/500 [00:00<?, ?it/s]"
      ]
     },
     "metadata": {},
     "output_type": "display_data"
    },
    {
     "name": "stdout",
     "output_type": "stream",
     "text": [
      "Iteration 88, incumbent x=([-4.856400012969971, 0.7488999962806702, 1.4327000379562378, 7.660699844360352, -8.170100212097168, 4.611800193786621, 0.5432000160217285, -1.7475999593734741, 2.4377999305725098, 3.1019999980926514]), f(x)=25.9080\n"
     ]
    },
    {
     "data": {
      "application/vnd.jupyter.widget-view+json": {
       "model_id": "e95cf162bd2a45c584baa56b57068fbc",
       "version_major": 2,
       "version_minor": 0
      },
      "text/plain": [
       "Training GP:   0%|          | 0/500 [00:00<?, ?it/s]"
      ]
     },
     "metadata": {},
     "output_type": "display_data"
    },
    {
     "name": "stdout",
     "output_type": "stream",
     "text": [
      "Iteration 89, incumbent x=([-4.856400012969971, 0.7488999962806702, 1.4327000379562378, 7.660699844360352, -8.170100212097168, 4.611800193786621, 0.5432000160217285, -1.7475999593734741, 2.4377999305725098, 3.1019999980926514]), f(x)=25.9080\n"
     ]
    },
    {
     "data": {
      "application/vnd.jupyter.widget-view+json": {
       "model_id": "8c213e87f25545f1a8c9c4b05e7396b0",
       "version_major": 2,
       "version_minor": 0
      },
      "text/plain": [
       "Training GP:   0%|          | 0/500 [00:00<?, ?it/s]"
      ]
     },
     "metadata": {},
     "output_type": "display_data"
    },
    {
     "name": "stdout",
     "output_type": "stream",
     "text": [
      "Iteration 90, incumbent x=([-4.856400012969971, 0.7488999962806702, 1.4327000379562378, 7.660699844360352, -8.170100212097168, 4.611800193786621, 0.5432000160217285, -1.7475999593734741, 2.4377999305725098, 3.1019999980926514]), f(x)=25.9080\n"
     ]
    },
    {
     "data": {
      "application/vnd.jupyter.widget-view+json": {
       "model_id": "8717a3ca9b0540ed8358c6f6bbc8bfb2",
       "version_major": 2,
       "version_minor": 0
      },
      "text/plain": [
       "Training GP:   0%|          | 0/500 [00:00<?, ?it/s]"
      ]
     },
     "metadata": {},
     "output_type": "display_data"
    },
    {
     "name": "stdout",
     "output_type": "stream",
     "text": [
      "Iteration 91, incumbent x=([-4.856400012969971, 0.7488999962806702, 1.4327000379562378, 7.660699844360352, -8.170100212097168, 4.611800193786621, 0.5432000160217285, -1.7475999593734741, 2.4377999305725098, 3.1019999980926514]), f(x)=25.9080\n"
     ]
    },
    {
     "data": {
      "application/vnd.jupyter.widget-view+json": {
       "model_id": "59ef7689d1f04e72b2096d860f74725d",
       "version_major": 2,
       "version_minor": 0
      },
      "text/plain": [
       "Training GP:   0%|          | 0/500 [00:00<?, ?it/s]"
      ]
     },
     "metadata": {},
     "output_type": "display_data"
    },
    {
     "name": "stdout",
     "output_type": "stream",
     "text": [
      "Iteration 92, incumbent x=([-4.856400012969971, 0.7488999962806702, 1.4327000379562378, 7.660699844360352, -8.170100212097168, 4.611800193786621, 0.5432000160217285, -1.7475999593734741, 2.4377999305725098, 3.1019999980926514]), f(x)=25.9080\n"
     ]
    },
    {
     "data": {
      "application/vnd.jupyter.widget-view+json": {
       "model_id": "66a9cf51174b473e809d3c634ce0d4fb",
       "version_major": 2,
       "version_minor": 0
      },
      "text/plain": [
       "Training GP:   0%|          | 0/500 [00:00<?, ?it/s]"
      ]
     },
     "metadata": {},
     "output_type": "display_data"
    },
    {
     "name": "stdout",
     "output_type": "stream",
     "text": [
      "Iteration 93, incumbent x=([-4.856400012969971, 0.7488999962806702, 1.4327000379562378, 7.660699844360352, -8.170100212097168, 4.611800193786621, 0.5432000160217285, -1.7475999593734741, 2.4377999305725098, 3.1019999980926514]), f(x)=25.9080\n"
     ]
    },
    {
     "data": {
      "application/vnd.jupyter.widget-view+json": {
       "model_id": "eb733a43b4694d37bfad66bc9b239fcb",
       "version_major": 2,
       "version_minor": 0
      },
      "text/plain": [
       "Training GP:   0%|          | 0/500 [00:00<?, ?it/s]"
      ]
     },
     "metadata": {},
     "output_type": "display_data"
    },
    {
     "name": "stdout",
     "output_type": "stream",
     "text": [
      "Iteration 94, incumbent x=([-4.856400012969971, 0.7488999962806702, 1.4327000379562378, 7.660699844360352, -8.170100212097168, 4.611800193786621, 0.5432000160217285, -1.7475999593734741, 2.4377999305725098, 3.1019999980926514]), f(x)=25.9080\n"
     ]
    },
    {
     "data": {
      "application/vnd.jupyter.widget-view+json": {
       "model_id": "332a8ec8074c4aa5aa88a5ad2349239b",
       "version_major": 2,
       "version_minor": 0
      },
      "text/plain": [
       "Training GP:   0%|          | 0/500 [00:00<?, ?it/s]"
      ]
     },
     "metadata": {},
     "output_type": "display_data"
    },
    {
     "name": "stdout",
     "output_type": "stream",
     "text": [
      "Iteration 95, incumbent x=([-4.856400012969971, 0.7488999962806702, 1.4327000379562378, 7.660699844360352, -8.170100212097168, 4.611800193786621, 0.5432000160217285, -1.7475999593734741, 2.4377999305725098, 3.1019999980926514]), f(x)=25.9080\n"
     ]
    },
    {
     "data": {
      "application/vnd.jupyter.widget-view+json": {
       "model_id": "7995eed7d3414ddd8f622bdcc7570ebc",
       "version_major": 2,
       "version_minor": 0
      },
      "text/plain": [
       "Training GP:   0%|          | 0/500 [00:00<?, ?it/s]"
      ]
     },
     "metadata": {},
     "output_type": "display_data"
    },
    {
     "name": "stdout",
     "output_type": "stream",
     "text": [
      "Iteration 96, incumbent x=([-4.856400012969971, 0.7488999962806702, 1.4327000379562378, 7.660699844360352, -8.170100212097168, 4.611800193786621, 0.5432000160217285, -1.7475999593734741, 2.4377999305725098, 3.1019999980926514]), f(x)=25.9080\n"
     ]
    },
    {
     "data": {
      "application/vnd.jupyter.widget-view+json": {
       "model_id": "4f4357efbde747ddae5990af645a5893",
       "version_major": 2,
       "version_minor": 0
      },
      "text/plain": [
       "Training GP:   0%|          | 0/500 [00:00<?, ?it/s]"
      ]
     },
     "metadata": {},
     "output_type": "display_data"
    },
    {
     "name": "stdout",
     "output_type": "stream",
     "text": [
      "Iteration 97, incumbent x=([-4.856400012969971, 0.7488999962806702, 1.4327000379562378, 7.660699844360352, -8.170100212097168, 4.611800193786621, 0.5432000160217285, -1.7475999593734741, 2.4377999305725098, 3.1019999980926514]), f(x)=25.9080\n"
     ]
    },
    {
     "data": {
      "application/vnd.jupyter.widget-view+json": {
       "model_id": "887c639ad0a0422ea784815f2f9b7990",
       "version_major": 2,
       "version_minor": 0
      },
      "text/plain": [
       "Training GP:   0%|          | 0/500 [00:00<?, ?it/s]"
      ]
     },
     "metadata": {},
     "output_type": "display_data"
    },
    {
     "name": "stdout",
     "output_type": "stream",
     "text": [
      "Iteration 98, incumbent x=([-4.856400012969971, 0.7488999962806702, 1.4327000379562378, 7.660699844360352, -8.170100212097168, 4.611800193786621, 0.5432000160217285, -1.7475999593734741, 2.4377999305725098, 3.1019999980926514]), f(x)=25.9080\n"
     ]
    },
    {
     "data": {
      "application/vnd.jupyter.widget-view+json": {
       "model_id": "95c35ddf499b400a997d275807ff89b2",
       "version_major": 2,
       "version_minor": 0
      },
      "text/plain": [
       "Training GP:   0%|          | 0/500 [00:00<?, ?it/s]"
      ]
     },
     "metadata": {},
     "output_type": "display_data"
    },
    {
     "name": "stdout",
     "output_type": "stream",
     "text": [
      "Iteration 99, incumbent x=([-4.856400012969971, 0.7488999962806702, 1.4327000379562378, 7.660699844360352, -8.170100212097168, 4.611800193786621, 0.5432000160217285, -1.7475999593734741, 2.4377999305725098, 3.1019999980926514]), f(x)=25.9080\n"
     ]
    },
    {
     "data": {
      "application/vnd.jupyter.widget-view+json": {
       "model_id": "306f8aef300c470f87a254e7cf85d821",
       "version_major": 2,
       "version_minor": 0
      },
      "text/plain": [
       "Training GP:   0%|          | 0/500 [00:00<?, ?it/s]"
      ]
     },
     "metadata": {},
     "output_type": "display_data"
    },
    {
     "name": "stdout",
     "output_type": "stream",
     "text": [
      "\n",
      "Run 10/10\n",
      "Initial points (x1, ..., x10, f(x)):\n",
      "tensor([[-7.0192e+00, -2.6894e-01,  9.7132e+00, -6.6320e+00,  1.6789e+00,\n",
      "          3.8720e+00,  1.6617e+00, -7.4312e+00,  1.4425e+00,  8.4968e+00,\n",
      "          1.4926e+02],\n",
      "        [-4.6132e+00,  5.6491e+00, -4.5622e+00, -7.3536e-01,  5.3426e+00,\n",
      "          4.8519e-02, -7.9499e+00,  5.1999e+00,  6.0708e+00,  5.3059e+00,\n",
      "          7.0865e+01],\n",
      "        [ 7.4181e+00,  4.4611e+00,  6.7287e+00,  1.6405e+00,  6.7893e+00,\n",
      "         -8.8098e+00, -1.3703e+00, -1.1508e+00, -4.7565e+00,  2.6014e+00,\n",
      "          5.7065e+01],\n",
      "        [ 7.5502e+00, -6.7476e+00, -5.1239e+00, -3.2365e+00,  7.6948e+00,\n",
      "         -8.4750e+00,  9.8006e+00, -6.1116e+00, -1.4890e+00, -1.2357e+00,\n",
      "          1.5920e+02],\n",
      "        [-4.0245e+00,  6.9471e+00, -4.3018e-01, -6.1291e+00, -5.5226e+00,\n",
      "          1.2779e+00,  2.2499e+00, -5.4720e+00,  1.7055e+00, -6.2983e+00,\n",
      "          9.4932e+01],\n",
      "        [-1.5988e-01,  4.3418e+00, -8.4321e-01, -2.8673e+00, -3.3782e-01,\n",
      "          3.5039e+00, -4.9508e+00,  5.4314e-01,  6.5621e+00, -8.7299e-02,\n",
      "          3.4736e+01],\n",
      "        [ 6.5836e+00, -9.0353e+00, -8.3475e+00, -4.5409e+00,  5.3878e+00,\n",
      "          6.0349e+00, -7.4320e+00,  3.7552e+00, -1.7948e+00,  2.8980e+00,\n",
      "          1.0496e+02],\n",
      "        [ 9.4043e+00, -9.6812e+00,  1.7674e+00,  6.0043e+00,  8.3674e-01,\n",
      "         -5.9869e+00, -1.8417e+00, -2.9808e+00,  7.7510e+00,  8.9329e+00,\n",
      "          1.7890e+02],\n",
      "        [-3.9255e+00, -9.8219e+00, -3.1679e+00, -5.5187e+00,  8.5167e+00,\n",
      "          9.4402e+00,  5.1627e+00, -8.5322e-01, -9.6411e+00,  7.1838e-01,\n",
      "          2.3767e+02],\n",
      "        [-3.8500e+00,  1.1125e-01, -4.6823e+00, -1.0423e+00,  5.6496e+00,\n",
      "          9.8748e+00,  8.2215e+00, -5.4391e+00,  6.5118e+00,  6.5050e+00,\n",
      "          1.2113e+02]])\n"
     ]
    },
    {
     "data": {
      "application/vnd.jupyter.widget-view+json": {
       "model_id": "d05a853d0ba94f62b2d0d698b6e65ea7",
       "version_major": 2,
       "version_minor": 0
      },
      "text/plain": [
       "Training GP:   0%|          | 0/500 [00:00<?, ?it/s]"
      ]
     },
     "metadata": {},
     "output_type": "display_data"
    },
    {
     "name": "stdout",
     "output_type": "stream",
     "text": [
      "Iteration 0, incumbent x=([-0.1598999947309494, 4.341800212860107, -0.8432000279426575, -2.867300033569336, -0.337799996137619, 3.5039000511169434, -4.950799942016602, 0.5430999994277954, 6.562099933624268, -0.08730000257492065]), f(x)=34.7362\n"
     ]
    },
    {
     "data": {
      "application/vnd.jupyter.widget-view+json": {
       "model_id": "8680af4c2232490cbcf6a2382f66bdf6",
       "version_major": 2,
       "version_minor": 0
      },
      "text/plain": [
       "Training GP:   0%|          | 0/500 [00:00<?, ?it/s]"
      ]
     },
     "metadata": {},
     "output_type": "display_data"
    },
    {
     "name": "stdout",
     "output_type": "stream",
     "text": [
      "Iteration 1, incumbent x=([-0.1598999947309494, 4.341800212860107, -0.8432000279426575, -2.867300033569336, -0.337799996137619, 3.5039000511169434, -4.950799942016602, 0.5430999994277954, 6.562099933624268, -0.08730000257492065]), f(x)=34.7362\n"
     ]
    },
    {
     "data": {
      "application/vnd.jupyter.widget-view+json": {
       "model_id": "5637e3cfbfea446a99f6bd1265709730",
       "version_major": 2,
       "version_minor": 0
      },
      "text/plain": [
       "Training GP:   0%|          | 0/500 [00:00<?, ?it/s]"
      ]
     },
     "metadata": {},
     "output_type": "display_data"
    },
    {
     "name": "stdout",
     "output_type": "stream",
     "text": [
      "Iteration 2, incumbent x=([-0.1598999947309494, 4.341800212860107, -0.8432000279426575, -2.867300033569336, -0.337799996137619, 3.5039000511169434, -4.950799942016602, 0.5430999994277954, 6.562099933624268, -0.08730000257492065]), f(x)=34.7362\n"
     ]
    },
    {
     "data": {
      "application/vnd.jupyter.widget-view+json": {
       "model_id": "91f550092ff1439e9ac49f77d0f17821",
       "version_major": 2,
       "version_minor": 0
      },
      "text/plain": [
       "Training GP:   0%|          | 0/500 [00:00<?, ?it/s]"
      ]
     },
     "metadata": {},
     "output_type": "display_data"
    },
    {
     "name": "stdout",
     "output_type": "stream",
     "text": [
      "Iteration 3, incumbent x=([-0.1598999947309494, 4.341800212860107, -0.8432000279426575, -2.867300033569336, -0.337799996137619, 3.5039000511169434, -4.950799942016602, 0.5430999994277954, 6.562099933624268, -0.08730000257492065]), f(x)=34.7362\n"
     ]
    },
    {
     "data": {
      "application/vnd.jupyter.widget-view+json": {
       "model_id": "6dc4ef6693fb4b8e860ffa58ce23bd83",
       "version_major": 2,
       "version_minor": 0
      },
      "text/plain": [
       "Training GP:   0%|          | 0/500 [00:00<?, ?it/s]"
      ]
     },
     "metadata": {},
     "output_type": "display_data"
    },
    {
     "name": "stdout",
     "output_type": "stream",
     "text": [
      "Iteration 4, incumbent x=([-0.1598999947309494, 4.341800212860107, -0.8432000279426575, -2.867300033569336, -0.337799996137619, 3.5039000511169434, -4.950799942016602, 0.5430999994277954, 6.562099933624268, -0.08730000257492065]), f(x)=34.7362\n"
     ]
    },
    {
     "data": {
      "application/vnd.jupyter.widget-view+json": {
       "model_id": "0dd503c194c640a2befffc8664db8e5b",
       "version_major": 2,
       "version_minor": 0
      },
      "text/plain": [
       "Training GP:   0%|          | 0/500 [00:00<?, ?it/s]"
      ]
     },
     "metadata": {},
     "output_type": "display_data"
    },
    {
     "name": "stdout",
     "output_type": "stream",
     "text": [
      "Iteration 5, incumbent x=([-0.1598999947309494, 4.341800212860107, -0.8432000279426575, -2.867300033569336, -0.337799996137619, 3.5039000511169434, -4.950799942016602, 0.5430999994277954, 6.562099933624268, -0.08730000257492065]), f(x)=34.7362\n"
     ]
    },
    {
     "data": {
      "application/vnd.jupyter.widget-view+json": {
       "model_id": "a975bb358cd2419e912fd6190486e8e3",
       "version_major": 2,
       "version_minor": 0
      },
      "text/plain": [
       "Training GP:   0%|          | 0/500 [00:00<?, ?it/s]"
      ]
     },
     "metadata": {},
     "output_type": "display_data"
    },
    {
     "name": "stdout",
     "output_type": "stream",
     "text": [
      "Iteration 6, incumbent x=([-0.1598999947309494, 4.341800212860107, -0.8432000279426575, -2.867300033569336, -0.337799996137619, 3.5039000511169434, -4.950799942016602, 0.5430999994277954, 6.562099933624268, -0.08730000257492065]), f(x)=34.7362\n"
     ]
    },
    {
     "data": {
      "application/vnd.jupyter.widget-view+json": {
       "model_id": "08bc0037dfee42eb8244345eae294a28",
       "version_major": 2,
       "version_minor": 0
      },
      "text/plain": [
       "Training GP:   0%|          | 0/500 [00:00<?, ?it/s]"
      ]
     },
     "metadata": {},
     "output_type": "display_data"
    },
    {
     "name": "stdout",
     "output_type": "stream",
     "text": [
      "Iteration 7, incumbent x=([-0.1598999947309494, 4.341800212860107, -0.8432000279426575, -2.867300033569336, -0.337799996137619, 3.5039000511169434, -4.950799942016602, 0.5430999994277954, 6.562099933624268, -0.08730000257492065]), f(x)=34.7362\n"
     ]
    },
    {
     "data": {
      "application/vnd.jupyter.widget-view+json": {
       "model_id": "2813c0e170e248ce837332a395aaf00f",
       "version_major": 2,
       "version_minor": 0
      },
      "text/plain": [
       "Training GP:   0%|          | 0/500 [00:00<?, ?it/s]"
      ]
     },
     "metadata": {},
     "output_type": "display_data"
    },
    {
     "name": "stdout",
     "output_type": "stream",
     "text": [
      "Iteration 8, incumbent x=([-0.1598999947309494, 4.341800212860107, -0.8432000279426575, -2.867300033569336, -0.337799996137619, 3.5039000511169434, -4.950799942016602, 0.5430999994277954, 6.562099933624268, -0.08730000257492065]), f(x)=34.7362\n"
     ]
    },
    {
     "data": {
      "application/vnd.jupyter.widget-view+json": {
       "model_id": "e94da933d92a439c9b4a9488cfe78007",
       "version_major": 2,
       "version_minor": 0
      },
      "text/plain": [
       "Training GP:   0%|          | 0/500 [00:00<?, ?it/s]"
      ]
     },
     "metadata": {},
     "output_type": "display_data"
    },
    {
     "name": "stdout",
     "output_type": "stream",
     "text": [
      "Iteration 9, incumbent x=([-0.1598999947309494, 4.341800212860107, -0.8432000279426575, -2.867300033569336, -0.337799996137619, 3.5039000511169434, -4.950799942016602, 0.5430999994277954, 6.562099933624268, -0.08730000257492065]), f(x)=34.7362\n"
     ]
    },
    {
     "data": {
      "application/vnd.jupyter.widget-view+json": {
       "model_id": "d78767602e2f4a8e8f37fe1b2f40ae20",
       "version_major": 2,
       "version_minor": 0
      },
      "text/plain": [
       "Training GP:   0%|          | 0/500 [00:00<?, ?it/s]"
      ]
     },
     "metadata": {},
     "output_type": "display_data"
    },
    {
     "name": "stdout",
     "output_type": "stream",
     "text": [
      "Iteration 10, incumbent x=([-0.1598999947309494, 4.341800212860107, -0.8432000279426575, -2.867300033569336, -0.337799996137619, 3.5039000511169434, -4.950799942016602, 0.5430999994277954, 6.562099933624268, -0.08730000257492065]), f(x)=34.7362\n"
     ]
    },
    {
     "data": {
      "application/vnd.jupyter.widget-view+json": {
       "model_id": "8231d637707f47f8ab5d758162be10aa",
       "version_major": 2,
       "version_minor": 0
      },
      "text/plain": [
       "Training GP:   0%|          | 0/500 [00:00<?, ?it/s]"
      ]
     },
     "metadata": {},
     "output_type": "display_data"
    },
    {
     "name": "stdout",
     "output_type": "stream",
     "text": [
      "Iteration 11, incumbent x=([-0.1598999947309494, 4.341800212860107, -0.8432000279426575, -2.867300033569336, -0.337799996137619, 3.5039000511169434, -4.950799942016602, 0.5430999994277954, 6.562099933624268, -0.08730000257492065]), f(x)=34.7362\n"
     ]
    },
    {
     "data": {
      "application/vnd.jupyter.widget-view+json": {
       "model_id": "34ab8ed6ff75491a9337029c8c5a576b",
       "version_major": 2,
       "version_minor": 0
      },
      "text/plain": [
       "Training GP:   0%|          | 0/500 [00:00<?, ?it/s]"
      ]
     },
     "metadata": {},
     "output_type": "display_data"
    },
    {
     "name": "stdout",
     "output_type": "stream",
     "text": [
      "Iteration 12, incumbent x=([-0.1598999947309494, 4.341800212860107, -0.8432000279426575, -2.867300033569336, -0.337799996137619, 3.5039000511169434, -4.950799942016602, 0.5430999994277954, 6.562099933624268, -0.08730000257492065]), f(x)=34.7362\n"
     ]
    },
    {
     "data": {
      "application/vnd.jupyter.widget-view+json": {
       "model_id": "ae8373f76d4949e9a6e63b02d4042183",
       "version_major": 2,
       "version_minor": 0
      },
      "text/plain": [
       "Training GP:   0%|          | 0/500 [00:00<?, ?it/s]"
      ]
     },
     "metadata": {},
     "output_type": "display_data"
    },
    {
     "name": "stdout",
     "output_type": "stream",
     "text": [
      "Iteration 13, incumbent x=([-0.1598999947309494, 4.341800212860107, -0.8432000279426575, -2.867300033569336, -0.337799996137619, 3.5039000511169434, -4.950799942016602, 0.5430999994277954, 6.562099933624268, -0.08730000257492065]), f(x)=34.7362\n"
     ]
    },
    {
     "data": {
      "application/vnd.jupyter.widget-view+json": {
       "model_id": "79a7031bf0594d7c8516f5fc4296cbc2",
       "version_major": 2,
       "version_minor": 0
      },
      "text/plain": [
       "Training GP:   0%|          | 0/500 [00:00<?, ?it/s]"
      ]
     },
     "metadata": {},
     "output_type": "display_data"
    },
    {
     "name": "stdout",
     "output_type": "stream",
     "text": [
      "Iteration 14, incumbent x=([-0.1598999947309494, 4.341800212860107, -0.8432000279426575, -2.867300033569336, -0.337799996137619, 3.5039000511169434, -4.950799942016602, 0.5430999994277954, 6.562099933624268, -0.08730000257492065]), f(x)=34.7362\n"
     ]
    },
    {
     "data": {
      "application/vnd.jupyter.widget-view+json": {
       "model_id": "f9b9d5988d37403095a2e19dc3d5bddc",
       "version_major": 2,
       "version_minor": 0
      },
      "text/plain": [
       "Training GP:   0%|          | 0/500 [00:00<?, ?it/s]"
      ]
     },
     "metadata": {},
     "output_type": "display_data"
    },
    {
     "name": "stdout",
     "output_type": "stream",
     "text": [
      "Iteration 15, incumbent x=([-0.1598999947309494, 4.341800212860107, -0.8432000279426575, -2.867300033569336, -0.337799996137619, 3.5039000511169434, -4.950799942016602, 0.5430999994277954, 6.562099933624268, -0.08730000257492065]), f(x)=34.7362\n"
     ]
    },
    {
     "data": {
      "application/vnd.jupyter.widget-view+json": {
       "model_id": "4ca731c046cc4aafbaaed2cf67986edf",
       "version_major": 2,
       "version_minor": 0
      },
      "text/plain": [
       "Training GP:   0%|          | 0/500 [00:00<?, ?it/s]"
      ]
     },
     "metadata": {},
     "output_type": "display_data"
    },
    {
     "name": "stdout",
     "output_type": "stream",
     "text": [
      "Iteration 16, incumbent x=([-0.1598999947309494, 4.341800212860107, -0.8432000279426575, -2.867300033569336, -0.337799996137619, 3.5039000511169434, -4.950799942016602, 0.5430999994277954, 6.562099933624268, -0.08730000257492065]), f(x)=34.7362\n"
     ]
    },
    {
     "data": {
      "application/vnd.jupyter.widget-view+json": {
       "model_id": "a77b15d6fdbd4731b3a3e6f1fabd2dbe",
       "version_major": 2,
       "version_minor": 0
      },
      "text/plain": [
       "Training GP:   0%|          | 0/500 [00:00<?, ?it/s]"
      ]
     },
     "metadata": {},
     "output_type": "display_data"
    },
    {
     "name": "stdout",
     "output_type": "stream",
     "text": [
      "Iteration 17, incumbent x=([-0.1598999947309494, 4.341800212860107, -0.8432000279426575, -2.867300033569336, -0.337799996137619, 3.5039000511169434, -4.950799942016602, 0.5430999994277954, 6.562099933624268, -0.08730000257492065]), f(x)=34.7362\n"
     ]
    },
    {
     "data": {
      "application/vnd.jupyter.widget-view+json": {
       "model_id": "0b27e20496ec47cda79519443911fb4d",
       "version_major": 2,
       "version_minor": 0
      },
      "text/plain": [
       "Training GP:   0%|          | 0/500 [00:00<?, ?it/s]"
      ]
     },
     "metadata": {},
     "output_type": "display_data"
    },
    {
     "name": "stdout",
     "output_type": "stream",
     "text": [
      "Iteration 18, incumbent x=([-0.1598999947309494, 4.341800212860107, -0.8432000279426575, -2.867300033569336, -0.337799996137619, 3.5039000511169434, -4.950799942016602, 0.5430999994277954, 6.562099933624268, -0.08730000257492065]), f(x)=34.7362\n"
     ]
    },
    {
     "data": {
      "application/vnd.jupyter.widget-view+json": {
       "model_id": "7c2c8aac83e94ab78b390fa3793b3f78",
       "version_major": 2,
       "version_minor": 0
      },
      "text/plain": [
       "Training GP:   0%|          | 0/500 [00:00<?, ?it/s]"
      ]
     },
     "metadata": {},
     "output_type": "display_data"
    },
    {
     "name": "stdout",
     "output_type": "stream",
     "text": [
      "Iteration 19, incumbent x=([-0.1598999947309494, 4.341800212860107, -0.8432000279426575, -2.867300033569336, -0.337799996137619, 3.5039000511169434, -4.950799942016602, 0.5430999994277954, 6.562099933624268, -0.08730000257492065]), f(x)=34.7362\n"
     ]
    },
    {
     "data": {
      "application/vnd.jupyter.widget-view+json": {
       "model_id": "94b501b8cfe044b9a576bf88d1276aac",
       "version_major": 2,
       "version_minor": 0
      },
      "text/plain": [
       "Training GP:   0%|          | 0/500 [00:00<?, ?it/s]"
      ]
     },
     "metadata": {},
     "output_type": "display_data"
    },
    {
     "name": "stdout",
     "output_type": "stream",
     "text": [
      "Iteration 20, incumbent x=([-0.1598999947309494, 4.341800212860107, -0.8432000279426575, -2.867300033569336, -0.337799996137619, 3.5039000511169434, -4.950799942016602, 0.5430999994277954, 6.562099933624268, -0.08730000257492065]), f(x)=34.7362\n"
     ]
    },
    {
     "data": {
      "application/vnd.jupyter.widget-view+json": {
       "model_id": "f07f7a9d907b4eba848bc9e02201d224",
       "version_major": 2,
       "version_minor": 0
      },
      "text/plain": [
       "Training GP:   0%|          | 0/500 [00:00<?, ?it/s]"
      ]
     },
     "metadata": {},
     "output_type": "display_data"
    },
    {
     "name": "stdout",
     "output_type": "stream",
     "text": [
      "Iteration 21, incumbent x=([-0.1598999947309494, 4.341800212860107, -0.8432000279426575, -2.867300033569336, -0.337799996137619, 3.5039000511169434, -4.950799942016602, 0.5430999994277954, 6.562099933624268, -0.08730000257492065]), f(x)=34.7362\n"
     ]
    },
    {
     "data": {
      "application/vnd.jupyter.widget-view+json": {
       "model_id": "b586a13ea55e4abfad97ac66503359db",
       "version_major": 2,
       "version_minor": 0
      },
      "text/plain": [
       "Training GP:   0%|          | 0/500 [00:00<?, ?it/s]"
      ]
     },
     "metadata": {},
     "output_type": "display_data"
    },
    {
     "name": "stdout",
     "output_type": "stream",
     "text": [
      "Iteration 22, incumbent x=([-0.1598999947309494, 4.341800212860107, -0.8432000279426575, -2.867300033569336, -0.337799996137619, 3.5039000511169434, -4.950799942016602, 0.5430999994277954, 6.562099933624268, -0.08730000257492065]), f(x)=34.7362\n"
     ]
    },
    {
     "data": {
      "application/vnd.jupyter.widget-view+json": {
       "model_id": "233553d2216b4ba8bc885655b507124f",
       "version_major": 2,
       "version_minor": 0
      },
      "text/plain": [
       "Training GP:   0%|          | 0/500 [00:00<?, ?it/s]"
      ]
     },
     "metadata": {},
     "output_type": "display_data"
    },
    {
     "name": "stdout",
     "output_type": "stream",
     "text": [
      "Iteration 23, incumbent x=([-0.1598999947309494, 4.341800212860107, -0.8432000279426575, -2.867300033569336, -0.337799996137619, 3.5039000511169434, -4.950799942016602, 0.5430999994277954, 6.562099933624268, -0.08730000257492065]), f(x)=34.7362\n"
     ]
    },
    {
     "data": {
      "application/vnd.jupyter.widget-view+json": {
       "model_id": "0767245c29d04ca48010c793a74652f2",
       "version_major": 2,
       "version_minor": 0
      },
      "text/plain": [
       "Training GP:   0%|          | 0/500 [00:00<?, ?it/s]"
      ]
     },
     "metadata": {},
     "output_type": "display_data"
    },
    {
     "name": "stdout",
     "output_type": "stream",
     "text": [
      "Iteration 24, incumbent x=([-0.1598999947309494, 4.341800212860107, -0.8432000279426575, -2.867300033569336, -0.337799996137619, 3.5039000511169434, -4.950799942016602, 0.5430999994277954, 6.562099933624268, -0.08730000257492065]), f(x)=34.7362\n"
     ]
    },
    {
     "data": {
      "application/vnd.jupyter.widget-view+json": {
       "model_id": "74f33d65ef954bbda2db613013191307",
       "version_major": 2,
       "version_minor": 0
      },
      "text/plain": [
       "Training GP:   0%|          | 0/500 [00:00<?, ?it/s]"
      ]
     },
     "metadata": {},
     "output_type": "display_data"
    },
    {
     "name": "stdout",
     "output_type": "stream",
     "text": [
      "Iteration 25, incumbent x=([-0.1598999947309494, 4.341800212860107, -0.8432000279426575, -2.867300033569336, -0.337799996137619, 3.5039000511169434, -4.950799942016602, 0.5430999994277954, 6.562099933624268, -0.08730000257492065]), f(x)=34.7362\n"
     ]
    },
    {
     "data": {
      "application/vnd.jupyter.widget-view+json": {
       "model_id": "e369af56965e48a0a2e9709c43d46380",
       "version_major": 2,
       "version_minor": 0
      },
      "text/plain": [
       "Training GP:   0%|          | 0/500 [00:00<?, ?it/s]"
      ]
     },
     "metadata": {},
     "output_type": "display_data"
    },
    {
     "name": "stdout",
     "output_type": "stream",
     "text": [
      "Iteration 26, incumbent x=([-0.1598999947309494, 4.341800212860107, -0.8432000279426575, -2.867300033569336, -0.337799996137619, 3.5039000511169434, -4.950799942016602, 0.5430999994277954, 6.562099933624268, -0.08730000257492065]), f(x)=34.7362\n"
     ]
    },
    {
     "data": {
      "application/vnd.jupyter.widget-view+json": {
       "model_id": "70277de89b5b4eb6b1a2dea5e34185d9",
       "version_major": 2,
       "version_minor": 0
      },
      "text/plain": [
       "Training GP:   0%|          | 0/500 [00:00<?, ?it/s]"
      ]
     },
     "metadata": {},
     "output_type": "display_data"
    },
    {
     "name": "stdout",
     "output_type": "stream",
     "text": [
      "Iteration 27, incumbent x=([-0.1598999947309494, 4.341800212860107, -0.8432000279426575, -2.867300033569336, -0.337799996137619, 3.5039000511169434, -4.950799942016602, 0.5430999994277954, 6.562099933624268, -0.08730000257492065]), f(x)=34.7362\n"
     ]
    },
    {
     "data": {
      "application/vnd.jupyter.widget-view+json": {
       "model_id": "f3173274790d412ea103c07afca8aaa4",
       "version_major": 2,
       "version_minor": 0
      },
      "text/plain": [
       "Training GP:   0%|          | 0/500 [00:00<?, ?it/s]"
      ]
     },
     "metadata": {},
     "output_type": "display_data"
    },
    {
     "name": "stdout",
     "output_type": "stream",
     "text": [
      "Iteration 28, incumbent x=([-0.1598999947309494, 4.341800212860107, -0.8432000279426575, -2.867300033569336, -0.337799996137619, 3.5039000511169434, -4.950799942016602, 0.5430999994277954, 6.562099933624268, -0.08730000257492065]), f(x)=34.7362\n"
     ]
    },
    {
     "data": {
      "application/vnd.jupyter.widget-view+json": {
       "model_id": "a289ac9bb64b4567a09f565ad8fb4ca2",
       "version_major": 2,
       "version_minor": 0
      },
      "text/plain": [
       "Training GP:   0%|          | 0/500 [00:00<?, ?it/s]"
      ]
     },
     "metadata": {},
     "output_type": "display_data"
    },
    {
     "name": "stdout",
     "output_type": "stream",
     "text": [
      "Iteration 29, incumbent x=([-0.1598999947309494, 4.341800212860107, -0.8432000279426575, -2.867300033569336, -0.337799996137619, 3.5039000511169434, -4.950799942016602, 0.5430999994277954, 6.562099933624268, -0.08730000257492065]), f(x)=34.7362\n"
     ]
    },
    {
     "data": {
      "application/vnd.jupyter.widget-view+json": {
       "model_id": "122889fae9d2447b8dfe7e4a2c1891ef",
       "version_major": 2,
       "version_minor": 0
      },
      "text/plain": [
       "Training GP:   0%|          | 0/500 [00:00<?, ?it/s]"
      ]
     },
     "metadata": {},
     "output_type": "display_data"
    },
    {
     "name": "stdout",
     "output_type": "stream",
     "text": [
      "Iteration 30, incumbent x=([-0.1598999947309494, 4.341800212860107, -0.8432000279426575, -2.867300033569336, -0.337799996137619, 3.5039000511169434, -4.950799942016602, 0.5430999994277954, 6.562099933624268, -0.08730000257492065]), f(x)=34.7362\n"
     ]
    },
    {
     "data": {
      "application/vnd.jupyter.widget-view+json": {
       "model_id": "6ebdc2850a0e47d386ce83c6b03b2a14",
       "version_major": 2,
       "version_minor": 0
      },
      "text/plain": [
       "Training GP:   0%|          | 0/500 [00:00<?, ?it/s]"
      ]
     },
     "metadata": {},
     "output_type": "display_data"
    },
    {
     "name": "stdout",
     "output_type": "stream",
     "text": [
      "Iteration 31, incumbent x=([-0.1598999947309494, 4.341800212860107, -0.8432000279426575, -2.867300033569336, -0.337799996137619, 3.5039000511169434, -4.950799942016602, 0.5430999994277954, 6.562099933624268, -0.08730000257492065]), f(x)=34.7362\n"
     ]
    },
    {
     "data": {
      "application/vnd.jupyter.widget-view+json": {
       "model_id": "3ec50448b85e49469eec072dc161da89",
       "version_major": 2,
       "version_minor": 0
      },
      "text/plain": [
       "Training GP:   0%|          | 0/500 [00:00<?, ?it/s]"
      ]
     },
     "metadata": {},
     "output_type": "display_data"
    },
    {
     "name": "stdout",
     "output_type": "stream",
     "text": [
      "Iteration 32, incumbent x=([-0.1598999947309494, 4.341800212860107, -0.8432000279426575, -2.867300033569336, -0.337799996137619, 3.5039000511169434, -4.950799942016602, 0.5430999994277954, 6.562099933624268, -0.08730000257492065]), f(x)=34.7362\n"
     ]
    },
    {
     "data": {
      "application/vnd.jupyter.widget-view+json": {
       "model_id": "deca95815b65404fbe248493e085efa7",
       "version_major": 2,
       "version_minor": 0
      },
      "text/plain": [
       "Training GP:   0%|          | 0/500 [00:00<?, ?it/s]"
      ]
     },
     "metadata": {},
     "output_type": "display_data"
    },
    {
     "name": "stdout",
     "output_type": "stream",
     "text": [
      "Iteration 33, incumbent x=([-0.1598999947309494, 4.341800212860107, -0.8432000279426575, -2.867300033569336, -0.337799996137619, 3.5039000511169434, -4.950799942016602, 0.5430999994277954, 6.562099933624268, -0.08730000257492065]), f(x)=34.7362\n"
     ]
    },
    {
     "data": {
      "application/vnd.jupyter.widget-view+json": {
       "model_id": "f2fb853e030845728d20a25a2059898d",
       "version_major": 2,
       "version_minor": 0
      },
      "text/plain": [
       "Training GP:   0%|          | 0/500 [00:00<?, ?it/s]"
      ]
     },
     "metadata": {},
     "output_type": "display_data"
    },
    {
     "name": "stdout",
     "output_type": "stream",
     "text": [
      "Iteration 34, incumbent x=([-0.1598999947309494, 4.341800212860107, -0.8432000279426575, -2.867300033569336, -0.337799996137619, 3.5039000511169434, -4.950799942016602, 0.5430999994277954, 6.562099933624268, -0.08730000257492065]), f(x)=34.7362\n"
     ]
    },
    {
     "data": {
      "application/vnd.jupyter.widget-view+json": {
       "model_id": "6a33877ffa5b478886151953f819bdcf",
       "version_major": 2,
       "version_minor": 0
      },
      "text/plain": [
       "Training GP:   0%|          | 0/500 [00:00<?, ?it/s]"
      ]
     },
     "metadata": {},
     "output_type": "display_data"
    },
    {
     "name": "stdout",
     "output_type": "stream",
     "text": [
      "Iteration 35, incumbent x=([-0.1598999947309494, 4.341800212860107, -0.8432000279426575, -2.867300033569336, -0.337799996137619, 3.5039000511169434, -4.950799942016602, 0.5430999994277954, 6.562099933624268, -0.08730000257492065]), f(x)=34.7362\n"
     ]
    },
    {
     "data": {
      "application/vnd.jupyter.widget-view+json": {
       "model_id": "a2905bbe81ca4e629130ec862b7fd704",
       "version_major": 2,
       "version_minor": 0
      },
      "text/plain": [
       "Training GP:   0%|          | 0/500 [00:00<?, ?it/s]"
      ]
     },
     "metadata": {},
     "output_type": "display_data"
    },
    {
     "name": "stdout",
     "output_type": "stream",
     "text": [
      "Iteration 36, incumbent x=([-0.1598999947309494, 4.341800212860107, -0.8432000279426575, -2.867300033569336, -0.337799996137619, 3.5039000511169434, -4.950799942016602, 0.5430999994277954, 6.562099933624268, -0.08730000257492065]), f(x)=34.7362\n"
     ]
    },
    {
     "data": {
      "application/vnd.jupyter.widget-view+json": {
       "model_id": "e612f7a50ea6463985bc66822477336e",
       "version_major": 2,
       "version_minor": 0
      },
      "text/plain": [
       "Training GP:   0%|          | 0/500 [00:00<?, ?it/s]"
      ]
     },
     "metadata": {},
     "output_type": "display_data"
    },
    {
     "name": "stdout",
     "output_type": "stream",
     "text": [
      "Iteration 37, incumbent x=([-0.1598999947309494, 4.341800212860107, -0.8432000279426575, -2.867300033569336, -0.337799996137619, 3.5039000511169434, -4.950799942016602, 0.5430999994277954, 6.562099933624268, -0.08730000257492065]), f(x)=34.7362\n"
     ]
    },
    {
     "data": {
      "application/vnd.jupyter.widget-view+json": {
       "model_id": "4e0cfe41fd6b48219dfcaf8aee85fc8c",
       "version_major": 2,
       "version_minor": 0
      },
      "text/plain": [
       "Training GP:   0%|          | 0/500 [00:00<?, ?it/s]"
      ]
     },
     "metadata": {},
     "output_type": "display_data"
    },
    {
     "name": "stdout",
     "output_type": "stream",
     "text": [
      "Iteration 38, incumbent x=([-0.1598999947309494, 4.341800212860107, -0.8432000279426575, -2.867300033569336, -0.337799996137619, 3.5039000511169434, -4.950799942016602, 0.5430999994277954, 6.562099933624268, -0.08730000257492065]), f(x)=34.7362\n"
     ]
    },
    {
     "data": {
      "application/vnd.jupyter.widget-view+json": {
       "model_id": "b2b6cc6e71354f19bbf250535cd3c4ad",
       "version_major": 2,
       "version_minor": 0
      },
      "text/plain": [
       "Training GP:   0%|          | 0/500 [00:00<?, ?it/s]"
      ]
     },
     "metadata": {},
     "output_type": "display_data"
    },
    {
     "name": "stdout",
     "output_type": "stream",
     "text": [
      "Iteration 39, incumbent x=([-0.1598999947309494, 4.341800212860107, -0.8432000279426575, -2.867300033569336, -0.337799996137619, 3.5039000511169434, -4.950799942016602, 0.5430999994277954, 6.562099933624268, -0.08730000257492065]), f(x)=34.7362\n"
     ]
    },
    {
     "data": {
      "application/vnd.jupyter.widget-view+json": {
       "model_id": "bd6b4c77046943e2bb2b39bac92800f4",
       "version_major": 2,
       "version_minor": 0
      },
      "text/plain": [
       "Training GP:   0%|          | 0/500 [00:00<?, ?it/s]"
      ]
     },
     "metadata": {},
     "output_type": "display_data"
    },
    {
     "name": "stdout",
     "output_type": "stream",
     "text": [
      "Iteration 40, incumbent x=([-0.1598999947309494, 4.341800212860107, -0.8432000279426575, -2.867300033569336, -0.337799996137619, 3.5039000511169434, -4.950799942016602, 0.5430999994277954, 6.562099933624268, -0.08730000257492065]), f(x)=34.7362\n"
     ]
    },
    {
     "data": {
      "application/vnd.jupyter.widget-view+json": {
       "model_id": "a4fcb1ccff9841758e0391e5916302b4",
       "version_major": 2,
       "version_minor": 0
      },
      "text/plain": [
       "Training GP:   0%|          | 0/500 [00:00<?, ?it/s]"
      ]
     },
     "metadata": {},
     "output_type": "display_data"
    },
    {
     "name": "stdout",
     "output_type": "stream",
     "text": [
      "Iteration 41, incumbent x=([-0.1598999947309494, 4.341800212860107, -0.8432000279426575, -2.867300033569336, -0.337799996137619, 3.5039000511169434, -4.950799942016602, 0.5430999994277954, 6.562099933624268, -0.08730000257492065]), f(x)=34.7362\n"
     ]
    },
    {
     "data": {
      "application/vnd.jupyter.widget-view+json": {
       "model_id": "47a6fbaacd684d75bfc654b54203eddf",
       "version_major": 2,
       "version_minor": 0
      },
      "text/plain": [
       "Training GP:   0%|          | 0/500 [00:00<?, ?it/s]"
      ]
     },
     "metadata": {},
     "output_type": "display_data"
    },
    {
     "name": "stdout",
     "output_type": "stream",
     "text": [
      "Iteration 42, incumbent x=([-0.1598999947309494, 4.341800212860107, -0.8432000279426575, -2.867300033569336, -0.337799996137619, 3.5039000511169434, -4.950799942016602, 0.5430999994277954, 6.562099933624268, -0.08730000257492065]), f(x)=34.7362\n"
     ]
    },
    {
     "data": {
      "application/vnd.jupyter.widget-view+json": {
       "model_id": "def6cd70c9084642b5501ca4df80001b",
       "version_major": 2,
       "version_minor": 0
      },
      "text/plain": [
       "Training GP:   0%|          | 0/500 [00:00<?, ?it/s]"
      ]
     },
     "metadata": {},
     "output_type": "display_data"
    },
    {
     "name": "stdout",
     "output_type": "stream",
     "text": [
      "Iteration 43, incumbent x=([-0.1598999947309494, 4.341800212860107, -0.8432000279426575, -2.867300033569336, -0.337799996137619, 3.5039000511169434, -4.950799942016602, 0.5430999994277954, 6.562099933624268, -0.08730000257492065]), f(x)=34.7362\n"
     ]
    },
    {
     "data": {
      "application/vnd.jupyter.widget-view+json": {
       "model_id": "0aadc0ee1b6048228336e8873be56495",
       "version_major": 2,
       "version_minor": 0
      },
      "text/plain": [
       "Training GP:   0%|          | 0/500 [00:00<?, ?it/s]"
      ]
     },
     "metadata": {},
     "output_type": "display_data"
    },
    {
     "name": "stdout",
     "output_type": "stream",
     "text": [
      "Iteration 44, incumbent x=([-0.1598999947309494, 4.341800212860107, -0.8432000279426575, -2.867300033569336, -0.337799996137619, 3.5039000511169434, -4.950799942016602, 0.5430999994277954, 6.562099933624268, -0.08730000257492065]), f(x)=34.7362\n"
     ]
    },
    {
     "data": {
      "application/vnd.jupyter.widget-view+json": {
       "model_id": "0fa896c15dc14a83999609f4e3091b71",
       "version_major": 2,
       "version_minor": 0
      },
      "text/plain": [
       "Training GP:   0%|          | 0/500 [00:00<?, ?it/s]"
      ]
     },
     "metadata": {},
     "output_type": "display_data"
    },
    {
     "name": "stdout",
     "output_type": "stream",
     "text": [
      "Iteration 45, incumbent x=([-0.1598999947309494, 4.341800212860107, -0.8432000279426575, -2.867300033569336, -0.337799996137619, 3.5039000511169434, -4.950799942016602, 0.5430999994277954, 6.562099933624268, -0.08730000257492065]), f(x)=34.7362\n"
     ]
    },
    {
     "data": {
      "application/vnd.jupyter.widget-view+json": {
       "model_id": "aaa6fc576c534a8aafc50f2d3ccb87eb",
       "version_major": 2,
       "version_minor": 0
      },
      "text/plain": [
       "Training GP:   0%|          | 0/500 [00:00<?, ?it/s]"
      ]
     },
     "metadata": {},
     "output_type": "display_data"
    },
    {
     "name": "stdout",
     "output_type": "stream",
     "text": [
      "Iteration 46, incumbent x=([-0.1598999947309494, 4.341800212860107, -0.8432000279426575, -2.867300033569336, -0.337799996137619, 3.5039000511169434, -4.950799942016602, 0.5430999994277954, 6.562099933624268, -0.08730000257492065]), f(x)=34.7362\n"
     ]
    },
    {
     "data": {
      "application/vnd.jupyter.widget-view+json": {
       "model_id": "c1dd6219944448f8adffa11a6350083c",
       "version_major": 2,
       "version_minor": 0
      },
      "text/plain": [
       "Training GP:   0%|          | 0/500 [00:00<?, ?it/s]"
      ]
     },
     "metadata": {},
     "output_type": "display_data"
    },
    {
     "name": "stdout",
     "output_type": "stream",
     "text": [
      "Iteration 47, incumbent x=([-0.1598999947309494, 4.341800212860107, -0.8432000279426575, -2.867300033569336, -0.337799996137619, 3.5039000511169434, -4.950799942016602, 0.5430999994277954, 6.562099933624268, -0.08730000257492065]), f(x)=34.7362\n"
     ]
    },
    {
     "data": {
      "application/vnd.jupyter.widget-view+json": {
       "model_id": "67d354b8fccf4634981c4f0ea2363fbf",
       "version_major": 2,
       "version_minor": 0
      },
      "text/plain": [
       "Training GP:   0%|          | 0/500 [00:00<?, ?it/s]"
      ]
     },
     "metadata": {},
     "output_type": "display_data"
    },
    {
     "name": "stdout",
     "output_type": "stream",
     "text": [
      "Iteration 48, incumbent x=([-0.1598999947309494, 4.341800212860107, -0.8432000279426575, -2.867300033569336, -0.337799996137619, 3.5039000511169434, -4.950799942016602, 0.5430999994277954, 6.562099933624268, -0.08730000257492065]), f(x)=34.7362\n"
     ]
    },
    {
     "data": {
      "application/vnd.jupyter.widget-view+json": {
       "model_id": "97737e568e7e4afab174ba6fca23073e",
       "version_major": 2,
       "version_minor": 0
      },
      "text/plain": [
       "Training GP:   0%|          | 0/500 [00:00<?, ?it/s]"
      ]
     },
     "metadata": {},
     "output_type": "display_data"
    },
    {
     "name": "stdout",
     "output_type": "stream",
     "text": [
      "Iteration 49, incumbent x=([-0.1598999947309494, 4.341800212860107, -0.8432000279426575, -2.867300033569336, -0.337799996137619, 3.5039000511169434, -4.950799942016602, 0.5430999994277954, 6.562099933624268, -0.08730000257492065]), f(x)=34.7362\n"
     ]
    },
    {
     "data": {
      "application/vnd.jupyter.widget-view+json": {
       "model_id": "0994a38f651f4dbcb6bf00ed887a4fa4",
       "version_major": 2,
       "version_minor": 0
      },
      "text/plain": [
       "Training GP:   0%|          | 0/500 [00:00<?, ?it/s]"
      ]
     },
     "metadata": {},
     "output_type": "display_data"
    },
    {
     "name": "stdout",
     "output_type": "stream",
     "text": [
      "Iteration 50, incumbent x=([-0.1598999947309494, 4.341800212860107, -0.8432000279426575, -2.867300033569336, -0.337799996137619, 3.5039000511169434, -4.950799942016602, 0.5430999994277954, 6.562099933624268, -0.08730000257492065]), f(x)=34.7362\n"
     ]
    },
    {
     "data": {
      "application/vnd.jupyter.widget-view+json": {
       "model_id": "a2e92599a3ff43f7a1ecbf0f3e0d227a",
       "version_major": 2,
       "version_minor": 0
      },
      "text/plain": [
       "Training GP:   0%|          | 0/500 [00:00<?, ?it/s]"
      ]
     },
     "metadata": {},
     "output_type": "display_data"
    },
    {
     "name": "stdout",
     "output_type": "stream",
     "text": [
      "Iteration 51, incumbent x=([-0.1598999947309494, 4.341800212860107, -0.8432000279426575, -2.867300033569336, -0.337799996137619, 3.5039000511169434, -4.950799942016602, 0.5430999994277954, 6.562099933624268, -0.08730000257492065]), f(x)=34.7362\n"
     ]
    },
    {
     "data": {
      "application/vnd.jupyter.widget-view+json": {
       "model_id": "7fddaba82168435caac6cfbf3f477237",
       "version_major": 2,
       "version_minor": 0
      },
      "text/plain": [
       "Training GP:   0%|          | 0/500 [00:00<?, ?it/s]"
      ]
     },
     "metadata": {},
     "output_type": "display_data"
    },
    {
     "name": "stdout",
     "output_type": "stream",
     "text": [
      "Iteration 52, incumbent x=([-0.1598999947309494, 4.341800212860107, -0.8432000279426575, -2.867300033569336, -0.337799996137619, 3.5039000511169434, -4.950799942016602, 0.5430999994277954, 6.562099933624268, -0.08730000257492065]), f(x)=34.7362\n"
     ]
    },
    {
     "data": {
      "application/vnd.jupyter.widget-view+json": {
       "model_id": "2ba0ad3fd9bd4ed18f46ca40256f5068",
       "version_major": 2,
       "version_minor": 0
      },
      "text/plain": [
       "Training GP:   0%|          | 0/500 [00:00<?, ?it/s]"
      ]
     },
     "metadata": {},
     "output_type": "display_data"
    },
    {
     "name": "stdout",
     "output_type": "stream",
     "text": [
      "Iteration 53, incumbent x=([-0.1598999947309494, 4.341800212860107, -0.8432000279426575, -2.867300033569336, -0.337799996137619, 3.5039000511169434, -4.950799942016602, 0.5430999994277954, 6.562099933624268, -0.08730000257492065]), f(x)=34.7362\n"
     ]
    },
    {
     "data": {
      "application/vnd.jupyter.widget-view+json": {
       "model_id": "5d75c5f0812a4775a330213ab92ba1e2",
       "version_major": 2,
       "version_minor": 0
      },
      "text/plain": [
       "Training GP:   0%|          | 0/500 [00:00<?, ?it/s]"
      ]
     },
     "metadata": {},
     "output_type": "display_data"
    },
    {
     "name": "stdout",
     "output_type": "stream",
     "text": [
      "Iteration 54, incumbent x=([-0.1598999947309494, 4.341800212860107, -0.8432000279426575, -2.867300033569336, -0.337799996137619, 3.5039000511169434, -4.950799942016602, 0.5430999994277954, 6.562099933624268, -0.08730000257492065]), f(x)=34.7362\n"
     ]
    },
    {
     "data": {
      "application/vnd.jupyter.widget-view+json": {
       "model_id": "a618d70f9f8e40358568b35b6eda2a9c",
       "version_major": 2,
       "version_minor": 0
      },
      "text/plain": [
       "Training GP:   0%|          | 0/500 [00:00<?, ?it/s]"
      ]
     },
     "metadata": {},
     "output_type": "display_data"
    },
    {
     "name": "stdout",
     "output_type": "stream",
     "text": [
      "Iteration 55, incumbent x=([-0.1598999947309494, 4.341800212860107, -0.8432000279426575, -2.867300033569336, -0.337799996137619, 3.5039000511169434, -4.950799942016602, 0.5430999994277954, 6.562099933624268, -0.08730000257492065]), f(x)=34.7362\n"
     ]
    },
    {
     "data": {
      "application/vnd.jupyter.widget-view+json": {
       "model_id": "ded9bde531594f3298906f3b4b060827",
       "version_major": 2,
       "version_minor": 0
      },
      "text/plain": [
       "Training GP:   0%|          | 0/500 [00:00<?, ?it/s]"
      ]
     },
     "metadata": {},
     "output_type": "display_data"
    },
    {
     "name": "stdout",
     "output_type": "stream",
     "text": [
      "Iteration 56, incumbent x=([-0.1598999947309494, 4.341800212860107, -0.8432000279426575, -2.867300033569336, -0.337799996137619, 3.5039000511169434, -4.950799942016602, 0.5430999994277954, 6.562099933624268, -0.08730000257492065]), f(x)=34.7362\n"
     ]
    },
    {
     "data": {
      "application/vnd.jupyter.widget-view+json": {
       "model_id": "df8de29964964971a038093e45b7334f",
       "version_major": 2,
       "version_minor": 0
      },
      "text/plain": [
       "Training GP:   0%|          | 0/500 [00:00<?, ?it/s]"
      ]
     },
     "metadata": {},
     "output_type": "display_data"
    },
    {
     "name": "stdout",
     "output_type": "stream",
     "text": [
      "Iteration 57, incumbent x=([-0.1598999947309494, 4.341800212860107, -0.8432000279426575, -2.867300033569336, -0.337799996137619, 3.5039000511169434, -4.950799942016602, 0.5430999994277954, 6.562099933624268, -0.08730000257492065]), f(x)=34.7362\n"
     ]
    },
    {
     "data": {
      "application/vnd.jupyter.widget-view+json": {
       "model_id": "0b8f27dad19b4533837ca180a641f414",
       "version_major": 2,
       "version_minor": 0
      },
      "text/plain": [
       "Training GP:   0%|          | 0/500 [00:00<?, ?it/s]"
      ]
     },
     "metadata": {},
     "output_type": "display_data"
    },
    {
     "name": "stdout",
     "output_type": "stream",
     "text": [
      "Iteration 58, incumbent x=([3.716099977493286, 2.163599967956543, 5.210999965667725, 4.770899772644043, -0.2718000113964081, 0.30079999566078186, 3.017199993133545, -3.881200075149536, -4.688899993896484, -2.837599992752075]), f(x)=27.2171\n"
     ]
    },
    {
     "data": {
      "application/vnd.jupyter.widget-view+json": {
       "model_id": "b7e998ea5b1f44e787bce8be7b79756b",
       "version_major": 2,
       "version_minor": 0
      },
      "text/plain": [
       "Training GP:   0%|          | 0/500 [00:00<?, ?it/s]"
      ]
     },
     "metadata": {},
     "output_type": "display_data"
    },
    {
     "name": "stdout",
     "output_type": "stream",
     "text": [
      "Iteration 59, incumbent x=([3.716099977493286, 2.163599967956543, 5.210999965667725, 4.770899772644043, -0.2718000113964081, 0.30079999566078186, 3.017199993133545, -3.881200075149536, -4.688899993896484, -2.837599992752075]), f(x)=27.2171\n"
     ]
    },
    {
     "data": {
      "application/vnd.jupyter.widget-view+json": {
       "model_id": "aef0d6b4599a464c9f50f561d58fec59",
       "version_major": 2,
       "version_minor": 0
      },
      "text/plain": [
       "Training GP:   0%|          | 0/500 [00:00<?, ?it/s]"
      ]
     },
     "metadata": {},
     "output_type": "display_data"
    },
    {
     "name": "stdout",
     "output_type": "stream",
     "text": [
      "Iteration 60, incumbent x=([3.716099977493286, 2.163599967956543, 5.210999965667725, 4.770899772644043, -0.2718000113964081, 0.30079999566078186, 3.017199993133545, -3.881200075149536, -4.688899993896484, -2.837599992752075]), f(x)=27.2171\n"
     ]
    },
    {
     "data": {
      "application/vnd.jupyter.widget-view+json": {
       "model_id": "c1c11cfdd8f4446590d1ac6f9932e336",
       "version_major": 2,
       "version_minor": 0
      },
      "text/plain": [
       "Training GP:   0%|          | 0/500 [00:00<?, ?it/s]"
      ]
     },
     "metadata": {},
     "output_type": "display_data"
    },
    {
     "name": "stdout",
     "output_type": "stream",
     "text": [
      "Iteration 61, incumbent x=([3.716099977493286, 2.163599967956543, 5.210999965667725, 4.770899772644043, -0.2718000113964081, 0.30079999566078186, 3.017199993133545, -3.881200075149536, -4.688899993896484, -2.837599992752075]), f(x)=27.2171\n"
     ]
    },
    {
     "data": {
      "application/vnd.jupyter.widget-view+json": {
       "model_id": "cd2e00b660a14c38a201e147b4121826",
       "version_major": 2,
       "version_minor": 0
      },
      "text/plain": [
       "Training GP:   0%|          | 0/500 [00:00<?, ?it/s]"
      ]
     },
     "metadata": {},
     "output_type": "display_data"
    },
    {
     "name": "stdout",
     "output_type": "stream",
     "text": [
      "Iteration 62, incumbent x=([3.716099977493286, 2.163599967956543, 5.210999965667725, 4.770899772644043, -0.2718000113964081, 0.30079999566078186, 3.017199993133545, -3.881200075149536, -4.688899993896484, -2.837599992752075]), f(x)=27.2171\n"
     ]
    },
    {
     "data": {
      "application/vnd.jupyter.widget-view+json": {
       "model_id": "2b7e0c8e61a54447833bc4d8c9382b26",
       "version_major": 2,
       "version_minor": 0
      },
      "text/plain": [
       "Training GP:   0%|          | 0/500 [00:00<?, ?it/s]"
      ]
     },
     "metadata": {},
     "output_type": "display_data"
    },
    {
     "name": "stdout",
     "output_type": "stream",
     "text": [
      "Iteration 63, incumbent x=([3.716099977493286, 2.163599967956543, 5.210999965667725, 4.770899772644043, -0.2718000113964081, 0.30079999566078186, 3.017199993133545, -3.881200075149536, -4.688899993896484, -2.837599992752075]), f(x)=27.2171\n"
     ]
    },
    {
     "data": {
      "application/vnd.jupyter.widget-view+json": {
       "model_id": "6e3af62daefe45df9414918196fd9c2b",
       "version_major": 2,
       "version_minor": 0
      },
      "text/plain": [
       "Training GP:   0%|          | 0/500 [00:00<?, ?it/s]"
      ]
     },
     "metadata": {},
     "output_type": "display_data"
    },
    {
     "name": "stdout",
     "output_type": "stream",
     "text": [
      "Iteration 64, incumbent x=([3.716099977493286, 2.163599967956543, 5.210999965667725, 4.770899772644043, -0.2718000113964081, 0.30079999566078186, 3.017199993133545, -3.881200075149536, -4.688899993896484, -2.837599992752075]), f(x)=27.2171\n"
     ]
    },
    {
     "data": {
      "application/vnd.jupyter.widget-view+json": {
       "model_id": "34641a5fbb9a4ae5b98542dbba19173b",
       "version_major": 2,
       "version_minor": 0
      },
      "text/plain": [
       "Training GP:   0%|          | 0/500 [00:00<?, ?it/s]"
      ]
     },
     "metadata": {},
     "output_type": "display_data"
    },
    {
     "name": "stdout",
     "output_type": "stream",
     "text": [
      "Iteration 65, incumbent x=([3.716099977493286, 2.163599967956543, 5.210999965667725, 4.770899772644043, -0.2718000113964081, 0.30079999566078186, 3.017199993133545, -3.881200075149536, -4.688899993896484, -2.837599992752075]), f(x)=27.2171\n"
     ]
    },
    {
     "data": {
      "application/vnd.jupyter.widget-view+json": {
       "model_id": "5cd475fd3a6749f6bbd5767b683cee60",
       "version_major": 2,
       "version_minor": 0
      },
      "text/plain": [
       "Training GP:   0%|          | 0/500 [00:00<?, ?it/s]"
      ]
     },
     "metadata": {},
     "output_type": "display_data"
    },
    {
     "name": "stdout",
     "output_type": "stream",
     "text": [
      "Iteration 66, incumbent x=([3.716099977493286, 2.163599967956543, 5.210999965667725, 4.770899772644043, -0.2718000113964081, 0.30079999566078186, 3.017199993133545, -3.881200075149536, -4.688899993896484, -2.837599992752075]), f(x)=27.2171\n"
     ]
    },
    {
     "data": {
      "application/vnd.jupyter.widget-view+json": {
       "model_id": "940217e7528d4d208bcd4c63f8d83d9e",
       "version_major": 2,
       "version_minor": 0
      },
      "text/plain": [
       "Training GP:   0%|          | 0/500 [00:00<?, ?it/s]"
      ]
     },
     "metadata": {},
     "output_type": "display_data"
    },
    {
     "name": "stdout",
     "output_type": "stream",
     "text": [
      "Iteration 67, incumbent x=([3.716099977493286, 2.163599967956543, 5.210999965667725, 4.770899772644043, -0.2718000113964081, 0.30079999566078186, 3.017199993133545, -3.881200075149536, -4.688899993896484, -2.837599992752075]), f(x)=27.2171\n"
     ]
    },
    {
     "data": {
      "application/vnd.jupyter.widget-view+json": {
       "model_id": "8caea1e4069448e9962d4d6a6bda113f",
       "version_major": 2,
       "version_minor": 0
      },
      "text/plain": [
       "Training GP:   0%|          | 0/500 [00:00<?, ?it/s]"
      ]
     },
     "metadata": {},
     "output_type": "display_data"
    },
    {
     "name": "stdout",
     "output_type": "stream",
     "text": [
      "Iteration 68, incumbent x=([3.716099977493286, 2.163599967956543, 5.210999965667725, 4.770899772644043, -0.2718000113964081, 0.30079999566078186, 3.017199993133545, -3.881200075149536, -4.688899993896484, -2.837599992752075]), f(x)=27.2171\n"
     ]
    },
    {
     "data": {
      "application/vnd.jupyter.widget-view+json": {
       "model_id": "2e1bf875647c406d96d3cc2080c2d84e",
       "version_major": 2,
       "version_minor": 0
      },
      "text/plain": [
       "Training GP:   0%|          | 0/500 [00:00<?, ?it/s]"
      ]
     },
     "metadata": {},
     "output_type": "display_data"
    },
    {
     "name": "stdout",
     "output_type": "stream",
     "text": [
      "Iteration 69, incumbent x=([3.716099977493286, 2.163599967956543, 5.210999965667725, 4.770899772644043, -0.2718000113964081, 0.30079999566078186, 3.017199993133545, -3.881200075149536, -4.688899993896484, -2.837599992752075]), f(x)=27.2171\n"
     ]
    },
    {
     "data": {
      "application/vnd.jupyter.widget-view+json": {
       "model_id": "f9533b03d7e844489bef56a62d43a487",
       "version_major": 2,
       "version_minor": 0
      },
      "text/plain": [
       "Training GP:   0%|          | 0/500 [00:00<?, ?it/s]"
      ]
     },
     "metadata": {},
     "output_type": "display_data"
    },
    {
     "name": "stdout",
     "output_type": "stream",
     "text": [
      "Iteration 70, incumbent x=([3.716099977493286, 2.163599967956543, 5.210999965667725, 4.770899772644043, -0.2718000113964081, 0.30079999566078186, 3.017199993133545, -3.881200075149536, -4.688899993896484, -2.837599992752075]), f(x)=27.2171\n"
     ]
    },
    {
     "data": {
      "application/vnd.jupyter.widget-view+json": {
       "model_id": "dc6dc33973b94519b78ad74a5de67b5e",
       "version_major": 2,
       "version_minor": 0
      },
      "text/plain": [
       "Training GP:   0%|          | 0/500 [00:00<?, ?it/s]"
      ]
     },
     "metadata": {},
     "output_type": "display_data"
    },
    {
     "name": "stdout",
     "output_type": "stream",
     "text": [
      "Iteration 71, incumbent x=([3.716099977493286, 2.163599967956543, 5.210999965667725, 4.770899772644043, -0.2718000113964081, 0.30079999566078186, 3.017199993133545, -3.881200075149536, -4.688899993896484, -2.837599992752075]), f(x)=27.2171\n"
     ]
    },
    {
     "data": {
      "application/vnd.jupyter.widget-view+json": {
       "model_id": "a165d785471a4892af3c1eef83fabb45",
       "version_major": 2,
       "version_minor": 0
      },
      "text/plain": [
       "Training GP:   0%|          | 0/500 [00:00<?, ?it/s]"
      ]
     },
     "metadata": {},
     "output_type": "display_data"
    },
    {
     "name": "stdout",
     "output_type": "stream",
     "text": [
      "Iteration 72, incumbent x=([3.716099977493286, 2.163599967956543, 5.210999965667725, 4.770899772644043, -0.2718000113964081, 0.30079999566078186, 3.017199993133545, -3.881200075149536, -4.688899993896484, -2.837599992752075]), f(x)=27.2171\n"
     ]
    },
    {
     "data": {
      "application/vnd.jupyter.widget-view+json": {
       "model_id": "1a39b1e03d744743ac87f7774996da7d",
       "version_major": 2,
       "version_minor": 0
      },
      "text/plain": [
       "Training GP:   0%|          | 0/500 [00:00<?, ?it/s]"
      ]
     },
     "metadata": {},
     "output_type": "display_data"
    },
    {
     "name": "stdout",
     "output_type": "stream",
     "text": [
      "Iteration 73, incumbent x=([3.716099977493286, 2.163599967956543, 5.210999965667725, 4.770899772644043, -0.2718000113964081, 0.30079999566078186, 3.017199993133545, -3.881200075149536, -4.688899993896484, -2.837599992752075]), f(x)=27.2171\n"
     ]
    },
    {
     "data": {
      "application/vnd.jupyter.widget-view+json": {
       "model_id": "b38db760a88e43d49d11965c94695b83",
       "version_major": 2,
       "version_minor": 0
      },
      "text/plain": [
       "Training GP:   0%|          | 0/500 [00:00<?, ?it/s]"
      ]
     },
     "metadata": {},
     "output_type": "display_data"
    },
    {
     "name": "stdout",
     "output_type": "stream",
     "text": [
      "Iteration 74, incumbent x=([3.716099977493286, 2.163599967956543, 5.210999965667725, 4.770899772644043, -0.2718000113964081, 0.30079999566078186, 3.017199993133545, -3.881200075149536, -4.688899993896484, -2.837599992752075]), f(x)=27.2171\n"
     ]
    },
    {
     "data": {
      "application/vnd.jupyter.widget-view+json": {
       "model_id": "d78c65dd77b14e82864b66b9627e9dbe",
       "version_major": 2,
       "version_minor": 0
      },
      "text/plain": [
       "Training GP:   0%|          | 0/500 [00:00<?, ?it/s]"
      ]
     },
     "metadata": {},
     "output_type": "display_data"
    },
    {
     "name": "stdout",
     "output_type": "stream",
     "text": [
      "Iteration 75, incumbent x=([3.716099977493286, 2.163599967956543, 5.210999965667725, 4.770899772644043, -0.2718000113964081, 0.30079999566078186, 3.017199993133545, -3.881200075149536, -4.688899993896484, -2.837599992752075]), f(x)=27.2171\n"
     ]
    },
    {
     "data": {
      "application/vnd.jupyter.widget-view+json": {
       "model_id": "468ec4e651254cc891031f85d3fff508",
       "version_major": 2,
       "version_minor": 0
      },
      "text/plain": [
       "Training GP:   0%|          | 0/500 [00:00<?, ?it/s]"
      ]
     },
     "metadata": {},
     "output_type": "display_data"
    },
    {
     "name": "stdout",
     "output_type": "stream",
     "text": [
      "Iteration 76, incumbent x=([3.716099977493286, 2.163599967956543, 5.210999965667725, 4.770899772644043, -0.2718000113964081, 0.30079999566078186, 3.017199993133545, -3.881200075149536, -4.688899993896484, -2.837599992752075]), f(x)=27.2171\n"
     ]
    },
    {
     "data": {
      "application/vnd.jupyter.widget-view+json": {
       "model_id": "8f371b419a9e40c9bdd7d2a6c2ee50b0",
       "version_major": 2,
       "version_minor": 0
      },
      "text/plain": [
       "Training GP:   0%|          | 0/500 [00:00<?, ?it/s]"
      ]
     },
     "metadata": {},
     "output_type": "display_data"
    },
    {
     "name": "stdout",
     "output_type": "stream",
     "text": [
      "Iteration 77, incumbent x=([3.716099977493286, 2.163599967956543, 5.210999965667725, 4.770899772644043, -0.2718000113964081, 0.30079999566078186, 3.017199993133545, -3.881200075149536, -4.688899993896484, -2.837599992752075]), f(x)=27.2171\n"
     ]
    },
    {
     "data": {
      "application/vnd.jupyter.widget-view+json": {
       "model_id": "a62a929e9a1043c6aa3d90b7503c51e1",
       "version_major": 2,
       "version_minor": 0
      },
      "text/plain": [
       "Training GP:   0%|          | 0/500 [00:00<?, ?it/s]"
      ]
     },
     "metadata": {},
     "output_type": "display_data"
    },
    {
     "name": "stdout",
     "output_type": "stream",
     "text": [
      "Iteration 78, incumbent x=([3.716099977493286, 2.163599967956543, 5.210999965667725, 4.770899772644043, -0.2718000113964081, 0.30079999566078186, 3.017199993133545, -3.881200075149536, -4.688899993896484, -2.837599992752075]), f(x)=27.2171\n"
     ]
    },
    {
     "data": {
      "application/vnd.jupyter.widget-view+json": {
       "model_id": "9fd5e4bbf7524a349d1ad095672baccc",
       "version_major": 2,
       "version_minor": 0
      },
      "text/plain": [
       "Training GP:   0%|          | 0/500 [00:00<?, ?it/s]"
      ]
     },
     "metadata": {},
     "output_type": "display_data"
    },
    {
     "name": "stdout",
     "output_type": "stream",
     "text": [
      "Iteration 79, incumbent x=([3.716099977493286, 2.163599967956543, 5.210999965667725, 4.770899772644043, -0.2718000113964081, 0.30079999566078186, 3.017199993133545, -3.881200075149536, -4.688899993896484, -2.837599992752075]), f(x)=27.2171\n"
     ]
    },
    {
     "data": {
      "application/vnd.jupyter.widget-view+json": {
       "model_id": "063b30941cc444e9aaa10c80be558caa",
       "version_major": 2,
       "version_minor": 0
      },
      "text/plain": [
       "Training GP:   0%|          | 0/500 [00:00<?, ?it/s]"
      ]
     },
     "metadata": {},
     "output_type": "display_data"
    },
    {
     "name": "stdout",
     "output_type": "stream",
     "text": [
      "Iteration 80, incumbent x=([3.716099977493286, 2.163599967956543, 5.210999965667725, 4.770899772644043, -0.2718000113964081, 0.30079999566078186, 3.017199993133545, -3.881200075149536, -4.688899993896484, -2.837599992752075]), f(x)=27.2171\n"
     ]
    },
    {
     "data": {
      "application/vnd.jupyter.widget-view+json": {
       "model_id": "492125a9fea24df0aa9ea57b213163b3",
       "version_major": 2,
       "version_minor": 0
      },
      "text/plain": [
       "Training GP:   0%|          | 0/500 [00:00<?, ?it/s]"
      ]
     },
     "metadata": {},
     "output_type": "display_data"
    },
    {
     "name": "stdout",
     "output_type": "stream",
     "text": [
      "Iteration 81, incumbent x=([3.716099977493286, 2.163599967956543, 5.210999965667725, 4.770899772644043, -0.2718000113964081, 0.30079999566078186, 3.017199993133545, -3.881200075149536, -4.688899993896484, -2.837599992752075]), f(x)=27.2171\n"
     ]
    },
    {
     "data": {
      "application/vnd.jupyter.widget-view+json": {
       "model_id": "635d8d1929b6463b9abde9a93a2374aa",
       "version_major": 2,
       "version_minor": 0
      },
      "text/plain": [
       "Training GP:   0%|          | 0/500 [00:00<?, ?it/s]"
      ]
     },
     "metadata": {},
     "output_type": "display_data"
    },
    {
     "name": "stdout",
     "output_type": "stream",
     "text": [
      "Iteration 82, incumbent x=([3.716099977493286, 2.163599967956543, 5.210999965667725, 4.770899772644043, -0.2718000113964081, 0.30079999566078186, 3.017199993133545, -3.881200075149536, -4.688899993896484, -2.837599992752075]), f(x)=27.2171\n"
     ]
    },
    {
     "data": {
      "application/vnd.jupyter.widget-view+json": {
       "model_id": "04eb0ea788b74ee886764080b6051c9c",
       "version_major": 2,
       "version_minor": 0
      },
      "text/plain": [
       "Training GP:   0%|          | 0/500 [00:00<?, ?it/s]"
      ]
     },
     "metadata": {},
     "output_type": "display_data"
    },
    {
     "name": "stdout",
     "output_type": "stream",
     "text": [
      "Iteration 83, incumbent x=([3.716099977493286, 2.163599967956543, 5.210999965667725, 4.770899772644043, -0.2718000113964081, 0.30079999566078186, 3.017199993133545, -3.881200075149536, -4.688899993896484, -2.837599992752075]), f(x)=27.2171\n"
     ]
    },
    {
     "data": {
      "application/vnd.jupyter.widget-view+json": {
       "model_id": "db8232c3ecf24165a798e9da3311c0bb",
       "version_major": 2,
       "version_minor": 0
      },
      "text/plain": [
       "Training GP:   0%|          | 0/500 [00:00<?, ?it/s]"
      ]
     },
     "metadata": {},
     "output_type": "display_data"
    },
    {
     "name": "stdout",
     "output_type": "stream",
     "text": [
      "Iteration 84, incumbent x=([3.716099977493286, 2.163599967956543, 5.210999965667725, 4.770899772644043, -0.2718000113964081, 0.30079999566078186, 3.017199993133545, -3.881200075149536, -4.688899993896484, -2.837599992752075]), f(x)=27.2171\n"
     ]
    },
    {
     "data": {
      "application/vnd.jupyter.widget-view+json": {
       "model_id": "7b13907ba3da442aa3abc3ad1be100b2",
       "version_major": 2,
       "version_minor": 0
      },
      "text/plain": [
       "Training GP:   0%|          | 0/500 [00:00<?, ?it/s]"
      ]
     },
     "metadata": {},
     "output_type": "display_data"
    },
    {
     "name": "stdout",
     "output_type": "stream",
     "text": [
      "Iteration 85, incumbent x=([3.716099977493286, 2.163599967956543, 5.210999965667725, 4.770899772644043, -0.2718000113964081, 0.30079999566078186, 3.017199993133545, -3.881200075149536, -4.688899993896484, -2.837599992752075]), f(x)=27.2171\n"
     ]
    },
    {
     "data": {
      "application/vnd.jupyter.widget-view+json": {
       "model_id": "7f25f8672be741c784703083a5f9100c",
       "version_major": 2,
       "version_minor": 0
      },
      "text/plain": [
       "Training GP:   0%|          | 0/500 [00:00<?, ?it/s]"
      ]
     },
     "metadata": {},
     "output_type": "display_data"
    },
    {
     "name": "stdout",
     "output_type": "stream",
     "text": [
      "Iteration 86, incumbent x=([3.716099977493286, 2.163599967956543, 5.210999965667725, 4.770899772644043, -0.2718000113964081, 0.30079999566078186, 3.017199993133545, -3.881200075149536, -4.688899993896484, -2.837599992752075]), f(x)=27.2171\n"
     ]
    },
    {
     "data": {
      "application/vnd.jupyter.widget-view+json": {
       "model_id": "68d3380a969142fbb1d0b03d5ac17019",
       "version_major": 2,
       "version_minor": 0
      },
      "text/plain": [
       "Training GP:   0%|          | 0/500 [00:00<?, ?it/s]"
      ]
     },
     "metadata": {},
     "output_type": "display_data"
    },
    {
     "name": "stdout",
     "output_type": "stream",
     "text": [
      "Iteration 87, incumbent x=([3.716099977493286, 2.163599967956543, 5.210999965667725, 4.770899772644043, -0.2718000113964081, 0.30079999566078186, 3.017199993133545, -3.881200075149536, -4.688899993896484, -2.837599992752075]), f(x)=27.2171\n"
     ]
    },
    {
     "data": {
      "application/vnd.jupyter.widget-view+json": {
       "model_id": "670596584439430bbe6f366322afd18d",
       "version_major": 2,
       "version_minor": 0
      },
      "text/plain": [
       "Training GP:   0%|          | 0/500 [00:00<?, ?it/s]"
      ]
     },
     "metadata": {},
     "output_type": "display_data"
    },
    {
     "name": "stdout",
     "output_type": "stream",
     "text": [
      "Iteration 88, incumbent x=([3.716099977493286, 2.163599967956543, 5.210999965667725, 4.770899772644043, -0.2718000113964081, 0.30079999566078186, 3.017199993133545, -3.881200075149536, -4.688899993896484, -2.837599992752075]), f(x)=27.2171\n"
     ]
    },
    {
     "data": {
      "application/vnd.jupyter.widget-view+json": {
       "model_id": "c847dd2c2490408abaf318cbadd45213",
       "version_major": 2,
       "version_minor": 0
      },
      "text/plain": [
       "Training GP:   0%|          | 0/500 [00:00<?, ?it/s]"
      ]
     },
     "metadata": {},
     "output_type": "display_data"
    },
    {
     "name": "stdout",
     "output_type": "stream",
     "text": [
      "Iteration 89, incumbent x=([3.716099977493286, 2.163599967956543, 5.210999965667725, 4.770899772644043, -0.2718000113964081, 0.30079999566078186, 3.017199993133545, -3.881200075149536, -4.688899993896484, -2.837599992752075]), f(x)=27.2171\n"
     ]
    },
    {
     "data": {
      "application/vnd.jupyter.widget-view+json": {
       "model_id": "0050f86c9f724db0b20187bcc3c3d2d4",
       "version_major": 2,
       "version_minor": 0
      },
      "text/plain": [
       "Training GP:   0%|          | 0/500 [00:00<?, ?it/s]"
      ]
     },
     "metadata": {},
     "output_type": "display_data"
    },
    {
     "name": "stdout",
     "output_type": "stream",
     "text": [
      "Iteration 90, incumbent x=([3.716099977493286, 2.163599967956543, 5.210999965667725, 4.770899772644043, -0.2718000113964081, 0.30079999566078186, 3.017199993133545, -3.881200075149536, -4.688899993896484, -2.837599992752075]), f(x)=27.2171\n"
     ]
    },
    {
     "data": {
      "application/vnd.jupyter.widget-view+json": {
       "model_id": "ae1eef1701ba47178e31842054fc275d",
       "version_major": 2,
       "version_minor": 0
      },
      "text/plain": [
       "Training GP:   0%|          | 0/500 [00:00<?, ?it/s]"
      ]
     },
     "metadata": {},
     "output_type": "display_data"
    },
    {
     "name": "stdout",
     "output_type": "stream",
     "text": [
      "Iteration 91, incumbent x=([3.716099977493286, 2.163599967956543, 5.210999965667725, 4.770899772644043, -0.2718000113964081, 0.30079999566078186, 3.017199993133545, -3.881200075149536, -4.688899993896484, -2.837599992752075]), f(x)=27.2171\n"
     ]
    },
    {
     "data": {
      "application/vnd.jupyter.widget-view+json": {
       "model_id": "aa2853e4e4c64595a54b7721abdfa321",
       "version_major": 2,
       "version_minor": 0
      },
      "text/plain": [
       "Training GP:   0%|          | 0/500 [00:00<?, ?it/s]"
      ]
     },
     "metadata": {},
     "output_type": "display_data"
    },
    {
     "name": "stdout",
     "output_type": "stream",
     "text": [
      "Iteration 92, incumbent x=([3.716099977493286, 2.163599967956543, 5.210999965667725, 4.770899772644043, -0.2718000113964081, 0.30079999566078186, 3.017199993133545, -3.881200075149536, -4.688899993896484, -2.837599992752075]), f(x)=27.2171\n"
     ]
    },
    {
     "data": {
      "application/vnd.jupyter.widget-view+json": {
       "model_id": "be44733006c94a40b9def9d854231dd0",
       "version_major": 2,
       "version_minor": 0
      },
      "text/plain": [
       "Training GP:   0%|          | 0/500 [00:00<?, ?it/s]"
      ]
     },
     "metadata": {},
     "output_type": "display_data"
    },
    {
     "name": "stdout",
     "output_type": "stream",
     "text": [
      "Iteration 93, incumbent x=([3.716099977493286, 2.163599967956543, 5.210999965667725, 4.770899772644043, -0.2718000113964081, 0.30079999566078186, 3.017199993133545, -3.881200075149536, -4.688899993896484, -2.837599992752075]), f(x)=27.2171\n"
     ]
    },
    {
     "data": {
      "application/vnd.jupyter.widget-view+json": {
       "model_id": "a62a6ca28d6043cb9d39e782df5691a3",
       "version_major": 2,
       "version_minor": 0
      },
      "text/plain": [
       "Training GP:   0%|          | 0/500 [00:00<?, ?it/s]"
      ]
     },
     "metadata": {},
     "output_type": "display_data"
    },
    {
     "name": "stdout",
     "output_type": "stream",
     "text": [
      "Iteration 94, incumbent x=([3.716099977493286, 2.163599967956543, 5.210999965667725, 4.770899772644043, -0.2718000113964081, 0.30079999566078186, 3.017199993133545, -3.881200075149536, -4.688899993896484, -2.837599992752075]), f(x)=27.2171\n"
     ]
    },
    {
     "data": {
      "application/vnd.jupyter.widget-view+json": {
       "model_id": "843427d1f8704524a1da35c82bbf280c",
       "version_major": 2,
       "version_minor": 0
      },
      "text/plain": [
       "Training GP:   0%|          | 0/500 [00:00<?, ?it/s]"
      ]
     },
     "metadata": {},
     "output_type": "display_data"
    },
    {
     "name": "stdout",
     "output_type": "stream",
     "text": [
      "Iteration 95, incumbent x=([3.716099977493286, 2.163599967956543, 5.210999965667725, 4.770899772644043, -0.2718000113964081, 0.30079999566078186, 3.017199993133545, -3.881200075149536, -4.688899993896484, -2.837599992752075]), f(x)=27.2171\n"
     ]
    },
    {
     "data": {
      "application/vnd.jupyter.widget-view+json": {
       "model_id": "322a8d1d5e564fdaba3858e56a1a6d34",
       "version_major": 2,
       "version_minor": 0
      },
      "text/plain": [
       "Training GP:   0%|          | 0/500 [00:00<?, ?it/s]"
      ]
     },
     "metadata": {},
     "output_type": "display_data"
    },
    {
     "name": "stdout",
     "output_type": "stream",
     "text": [
      "Iteration 96, incumbent x=([3.716099977493286, 2.163599967956543, 5.210999965667725, 4.770899772644043, -0.2718000113964081, 0.30079999566078186, 3.017199993133545, -3.881200075149536, -4.688899993896484, -2.837599992752075]), f(x)=27.2171\n"
     ]
    },
    {
     "data": {
      "application/vnd.jupyter.widget-view+json": {
       "model_id": "48be36f237cc4c64ac2048dbd3c2c155",
       "version_major": 2,
       "version_minor": 0
      },
      "text/plain": [
       "Training GP:   0%|          | 0/500 [00:00<?, ?it/s]"
      ]
     },
     "metadata": {},
     "output_type": "display_data"
    },
    {
     "name": "stdout",
     "output_type": "stream",
     "text": [
      "Iteration 97, incumbent x=([3.716099977493286, 2.163599967956543, 5.210999965667725, 4.770899772644043, -0.2718000113964081, 0.30079999566078186, 3.017199993133545, -3.881200075149536, -4.688899993896484, -2.837599992752075]), f(x)=27.2171\n"
     ]
    },
    {
     "data": {
      "application/vnd.jupyter.widget-view+json": {
       "model_id": "ad52dd1c66de485d8243a7f4d1198bdf",
       "version_major": 2,
       "version_minor": 0
      },
      "text/plain": [
       "Training GP:   0%|          | 0/500 [00:00<?, ?it/s]"
      ]
     },
     "metadata": {},
     "output_type": "display_data"
    },
    {
     "name": "stdout",
     "output_type": "stream",
     "text": [
      "Iteration 98, incumbent x=([3.716099977493286, 2.163599967956543, 5.210999965667725, 4.770899772644043, -0.2718000113964081, 0.30079999566078186, 3.017199993133545, -3.881200075149536, -4.688899993896484, -2.837599992752075]), f(x)=27.2171\n"
     ]
    },
    {
     "data": {
      "application/vnd.jupyter.widget-view+json": {
       "model_id": "1a70eba64dde4427a7605c3992daaad3",
       "version_major": 2,
       "version_minor": 0
      },
      "text/plain": [
       "Training GP:   0%|          | 0/500 [00:00<?, ?it/s]"
      ]
     },
     "metadata": {},
     "output_type": "display_data"
    },
    {
     "name": "stdout",
     "output_type": "stream",
     "text": [
      "Iteration 99, incumbent x=([3.716099977493286, 2.163599967956543, 5.210999965667725, 4.770899772644043, -0.2718000113964081, 0.30079999566078186, 3.017199993133545, -3.881200075149536, -4.688899993896484, -2.837599992752075]), f(x)=27.2171\n"
     ]
    },
    {
     "data": {
      "application/vnd.jupyter.widget-view+json": {
       "model_id": "3699209f42f24c7b901f415c804af94c",
       "version_major": 2,
       "version_minor": 0
      },
      "text/plain": [
       "Training GP:   0%|          | 0/500 [00:00<?, ?it/s]"
      ]
     },
     "metadata": {},
     "output_type": "display_data"
    }
   ],
   "source": [
    "import torch\n",
    "import gpytorch\n",
    "import botorch\n",
    "import matplotlib.pyplot as plt\n",
    "import numpy as np\n",
    "\n",
    "plt.style.use(\"bmh\")\n",
    "\n",
    "from tqdm.notebook import tqdm\n",
    "\n",
    "class Levy:\n",
    "    \"\"\"Levy function in 10 dimensions on [-10,10]^10.\"\"\"\n",
    "    def __init__(self, dim=10):\n",
    "        self.dim = dim\n",
    "        self.bounds = torch.stack([torch.full((dim,), -10.0), torch.full((dim,), 10.0)])\n",
    "\n",
    "    def __call__(self, x: torch.Tensor) -> torch.Tensor:\n",
    "        # x: (..., d)\n",
    "        d = x.size(-1)\n",
    "        assert d == self.dim, f\"Expected dimension {self.dim}, got {d}\"\n",
    "        \n",
    "        # Compute w_i = 1 + (x_i - 1) / 4\n",
    "        w = 1 + (x - 1) / 4\n",
    "        \n",
    "        # First term: sin^2(pi w_1)\n",
    "        term1 = torch.sin(torch.pi * w[..., 0]) ** 2\n",
    "        \n",
    "        # Middle terms: sum from i=1 to d-1 of (w_i - 1)^2 [1 + 10 sin^2(pi w_i + 1)]\n",
    "        term2 = torch.sum(\n",
    "            (w[..., :-1] - 1) ** 2 * (1 + 10 * torch.sin(torch.pi * w[..., :-1] + 1) ** 2),\n",
    "            dim=-1\n",
    "        )\n",
    "        \n",
    "        # Last term: (w_d - 1)^2 [1 + sin^2(2 pi w_d)]\n",
    "        term3 = (w[..., -1] - 1) ** 2 * (1 + torch.sin(2 * torch.pi * w[..., -1]) ** 2)\n",
    "        \n",
    "        # Total function value\n",
    "        return term1 + term2 + term3\n",
    "\n",
    "def visualize_gp_belief_and_policy(model, likelihood, policy=None, next_x=None):\n",
    "    # Disabled for 10D Levy function; kept for compatibility\n",
    "    pass\n",
    "\n",
    "class GPModel(gpytorch.models.ExactGP, botorch.models.gpytorch.GPyTorchModel):\n",
    "    _num_outputs = 1\n",
    "\n",
    "    def __init__(self, train_x, train_y, likelihood):\n",
    "        super().__init__(train_x, train_y, likelihood)\n",
    "        self.mean_module = gpytorch.means.ConstantMean()\n",
    "        self.covar_module = gpytorch.kernels.ScaleKernel(gpytorch.kernels.RBFKernel())\n",
    "\n",
    "    def forward(self, x):\n",
    "        mean_x = self.mean_module(x)\n",
    "        covar_x = self.covar_module(x)\n",
    "        return gpytorch.distributions.MultivariateNormal(mean_x, covar_x)\n",
    "\n",
    "def fit_gp_model(train_x, train_y, num_train_iters=500):\n",
    "    # Declare the GP\n",
    "    noise = 1e-4\n",
    "\n",
    "    likelihood = gpytorch.likelihoods.GaussianLikelihood()\n",
    "    model = GPModel(train_x, train_y, likelihood)\n",
    "    model.likelihood.noise = noise\n",
    "\n",
    "    # Train the hyperparameters\n",
    "    optimizer = torch.optim.Adam(model.parameters(), lr=0.01)\n",
    "    mll = gpytorch.mlls.ExactMarginalLogLikelihood(likelihood, model)\n",
    "\n",
    "    model.train()\n",
    "    likelihood.train()\n",
    "\n",
    "    for i in tqdm(range(num_train_iters), desc=\"Training GP\"):\n",
    "        optimizer.zero_grad()\n",
    "\n",
    "        output = model(train_x)\n",
    "        loss = -mll(output, train_y)\n",
    "\n",
    "        loss.backward()\n",
    "        optimizer.step()\n",
    "\n",
    "    model.eval()\n",
    "    likelihood.eval()\n",
    "\n",
    "    return model, likelihood\n",
    "\n",
    "# Initialize Levy function (10D) and bounds\n",
    "levy = Levy(dim=10)\n",
    "bounds = levy.bounds  # [[-10, ..., -10], [10, ..., 10]]\n",
    "\n",
    "# Parameters\n",
    "n_initial_points = 10\n",
    "num_queries = 100\n",
    "num_runs = 10\n",
    "\n",
    "# Store minimum f(x) for each run\n",
    "all_min_f_values = []\n",
    "\n",
    "for run in range(num_runs):\n",
    "    print(f\"\\nRun {run + 1}/{num_runs}\")\n",
    "    \n",
    "    # Set different random seed for each run\n",
    "    torch.manual_seed(2 + run)\n",
    "    \n",
    "    # Initialize with 10 random points in [-10, 10]^10\n",
    "    train_x = torch.rand(size=(n_initial_points, 10)) * 20 - 10  # Scale to [-10, 10]\n",
    "    train_y = levy(train_x)\n",
    "\n",
    "    # Print initial points and their function values\n",
    "    print(\"Initial points (x1, ..., x10, f(x)):\")\n",
    "    print(torch.hstack([train_x, train_y.unsqueeze(1)]))\n",
    "\n",
    "    # Fit initial GP model\n",
    "    model, likelihood = fit_gp_model(train_x, train_y)\n",
    "\n",
    "    # Track minimum f(x) for this run\n",
    "    min_f_values = [train_y.min().item()]\n",
    "\n",
    "    # Run Bayesian optimization\n",
    "    for i in range(num_queries):\n",
    "        print(f\"Iteration {i}, incumbent x=({train_x[train_y.argmin()].numpy().round(4).tolist()}), f(x)={train_y.min().item():.4f}\")\n",
    "\n",
    "        model, likelihood = fit_gp_model(train_x, train_y)\n",
    "\n",
    "        policy = botorch.acquisition.analytic.ProbabilityOfImprovement(\n",
    "            model, best_f=train_y.min(), maximize=False\n",
    "        )\n",
    "        \n",
    "        next_x, acq_val = botorch.optim.optimize_acqf(\n",
    "            policy,\n",
    "            bounds=bounds,\n",
    "            q=1,\n",
    "            num_restarts=20,\n",
    "            raw_samples=50,\n",
    "        )\n",
    "\n",
    "        next_y = levy(next_x)\n",
    "\n",
    "        # Ensure next_y is 1D with shape (1,)\n",
    "        next_y = next_y.unsqueeze(0) if next_y.dim() == 0 else next_y\n",
    "\n",
    "        train_x = torch.cat([train_x, next_x])\n",
    "        train_y = torch.cat([train_y, next_y])\n",
    "        \n",
    "        # Store the minimum f(x)\n",
    "        min_f_values.append(train_y.min().item())\n",
    "\n",
    "    # Store results for this run\n",
    "    all_min_f_values.append(min_f_values)\n",
    "\n",
    "    # Plot minimum f(x) vs iteration for this run\n",
    "    plt.figure(figsize=(8, 6))\n",
    "    plt.plot(range(num_queries + 1), min_f_values, marker='o', linestyle='-', color='b')\n",
    "    plt.xlabel('Iteration')\n",
    "    plt.ylabel('Minimum f(x)')\n",
    "    plt.title(f'Minimum f(x) vs Iteration (Run {run + 1})')\n",
    "    plt.grid(True)\n",
    "    plt.savefig(f'min_f_vs_iteration_run_{run + 1}.png')\n",
    "    plt.close()\n",
    "\n",
    "# Convert to numpy array for easier computation\n",
    "all_min_f_values = np.array(all_min_f_values)  # Shape: (num_runs, num_queries + 1)\n",
    "\n",
    "# Compute mean, std, and 95% CI\n",
    "mean_f = np.mean(all_min_f_values, axis=0)\n",
    "std_f = np.std(all_min_f_values, axis=0)\n",
    "ci_95 = 1.96 * std_f / np.sqrt(num_runs)  # 95% CI: z=1.96 for normal distribution\n",
    "\n",
    "# Plot convergence with mean, std, and CI\n",
    "plt.figure(figsize=(10, 6))\n",
    "iterations = range(num_queries + 1)\n",
    "\n",
    "# Plot mean\n",
    "plt.plot(iterations, mean_f, marker='o', linestyle='-', color='b', label='Mean Minimum f(x)')\n",
    "\n",
    "# Plot 95% CI\n",
    "plt.fill_between(\n",
    "    iterations,\n",
    "    mean_f - ci_95,\n",
    "    mean_f + ci_95,\n",
    "    color='b',\n",
    "    alpha=0.2,\n",
    "    label='95% Confidence Interval'\n",
    ")\n",
    "\n",
    "# Plot mean ± std\n",
    "plt.fill_between(\n",
    "    iterations,\n",
    "    mean_f - std_f,\n",
    "    mean_f + std_f,\n",
    "    color='g',\n",
    "    alpha=0.1,\n",
    "    label='Mean ± Std'\n",
    ")\n",
    "\n",
    "plt.xlabel('Iteration')\n",
    "plt.ylabel('Minimum f(x)')\n",
    "plt.title('Convergence Plot: Mean, Std, and 95% CI over 10 Runs (Levy 10D)')\n",
    "plt.grid(True)\n",
    "plt.legend()\n",
    "plt.savefig('convergence_plot.png')\n",
    "plt.close()"
   ]
  }
 ],
 "metadata": {
  "kernelspec": {
   "display_name": "meng",
   "language": "python",
   "name": "python3"
  },
  "language_info": {
   "codemirror_mode": {
    "name": "ipython",
    "version": 3
   },
   "file_extension": ".py",
   "mimetype": "text/x-python",
   "name": "python",
   "nbconvert_exporter": "python",
   "pygments_lexer": "ipython3",
   "version": "3.10.16"
  }
 },
 "nbformat": 4,
 "nbformat_minor": 2
}
