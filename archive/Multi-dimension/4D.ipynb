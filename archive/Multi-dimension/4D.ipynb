{
 "cells": [
  {
   "cell_type": "code",
   "execution_count": 1,
   "metadata": {},
   "outputs": [
    {
     "name": "stdout",
     "output_type": "stream",
     "text": [
      "\n",
      "Run 1/10\n",
      "Initial points (x1, x2, x3, x4, f(x)):\n",
      "tensor([[ 0.6147,  0.3810,  0.6371,  0.4745, -1.8271],\n",
      "        [ 0.7136,  0.6190,  0.4425,  0.0958, -0.5780],\n",
      "        [ 0.6142,  0.0573,  0.5657,  0.5332, -1.1070],\n",
      "        [ 0.3901,  0.9088,  0.5334,  0.7073, -2.7414],\n",
      "        [ 0.7116,  0.2050,  0.3078,  0.9809, -0.0230],\n",
      "        [ 0.0103,  0.4660,  0.4604,  0.8547, -0.2548],\n",
      "        [ 0.4525,  0.6317,  0.4760,  0.2200, -1.8143],\n",
      "        [ 0.2166,  0.2571,  0.0458,  0.1755, -2.1780],\n",
      "        [ 0.6177,  0.8291,  0.5246,  0.2708, -0.9913],\n",
      "        [ 0.7197,  0.3081,  0.3892,  0.2259, -1.3620]])\n"
     ]
    },
    {
     "data": {
      "application/vnd.jupyter.widget-view+json": {
       "model_id": "b48626be9a644b68bd61817dfcb43271",
       "version_major": 2,
       "version_minor": 0
      },
      "text/plain": [
       "Training GP:   0%|          | 0/500 [00:00<?, ?it/s]"
      ]
     },
     "metadata": {},
     "output_type": "display_data"
    },
    {
     "name": "stdout",
     "output_type": "stream",
     "text": [
      "Iteration 0, incumbent x=([0.39010000228881836, 0.9088000059127808, 0.5333999991416931, 0.7073000073432922]), f(x)=-2.7414\n"
     ]
    },
    {
     "data": {
      "application/vnd.jupyter.widget-view+json": {
       "model_id": "598c4506d81e4e5993c5a53511bb9cec",
       "version_major": 2,
       "version_minor": 0
      },
      "text/plain": [
       "Training GP:   0%|          | 0/500 [00:00<?, ?it/s]"
      ]
     },
     "metadata": {},
     "output_type": "display_data"
    },
    {
     "name": "stdout",
     "output_type": "stream",
     "text": [
      "Iteration 1, incumbent x=([0.3889999985694885, 0.9140999913215637, 0.539900004863739, 0.7045000195503235]), f(x)=-2.7538\n"
     ]
    },
    {
     "data": {
      "application/vnd.jupyter.widget-view+json": {
       "model_id": "2c40247128344d2bb2843301dfc17544",
       "version_major": 2,
       "version_minor": 0
      },
      "text/plain": [
       "Training GP:   0%|          | 0/500 [00:00<?, ?it/s]"
      ]
     },
     "metadata": {},
     "output_type": "display_data"
    },
    {
     "name": "stdout",
     "output_type": "stream",
     "text": [
      "Iteration 2, incumbent x=([0.3889999985694885, 0.9140999913215637, 0.539900004863739, 0.7045000195503235]), f(x)=-2.7538\n"
     ]
    },
    {
     "data": {
      "application/vnd.jupyter.widget-view+json": {
       "model_id": "1b83459ba41942d2826bb89cc94350ee",
       "version_major": 2,
       "version_minor": 0
      },
      "text/plain": [
       "Training GP:   0%|          | 0/500 [00:00<?, ?it/s]"
      ]
     },
     "metadata": {},
     "output_type": "display_data"
    },
    {
     "name": "stdout",
     "output_type": "stream",
     "text": [
      "Iteration 3, incumbent x=([0.3837999999523163, 0.9289000034332275, 0.5594000220298767, 0.6990000009536743]), f(x)=-2.7583\n"
     ]
    },
    {
     "data": {
      "application/vnd.jupyter.widget-view+json": {
       "model_id": "a80f35c9bcc2432fbc0a592545eb2f21",
       "version_major": 2,
       "version_minor": 0
      },
      "text/plain": [
       "Training GP:   0%|          | 0/500 [00:00<?, ?it/s]"
      ]
     },
     "metadata": {},
     "output_type": "display_data"
    },
    {
     "name": "stdout",
     "output_type": "stream",
     "text": [
      "Iteration 4, incumbent x=([0.37940001487731934, 0.9175999760627747, 0.5709999799728394, 0.6884999871253967]), f(x)=-2.8539\n"
     ]
    },
    {
     "data": {
      "application/vnd.jupyter.widget-view+json": {
       "model_id": "dc604d41423f464783934f3fc4d71ac9",
       "version_major": 2,
       "version_minor": 0
      },
      "text/plain": [
       "Training GP:   0%|          | 0/500 [00:00<?, ?it/s]"
      ]
     },
     "metadata": {},
     "output_type": "display_data"
    },
    {
     "name": "stdout",
     "output_type": "stream",
     "text": [
      "Iteration 5, incumbent x=([0.3702000081539154, 0.888700008392334, 0.5906999707221985, 0.6662999987602234]), f(x)=-3.0315\n"
     ]
    },
    {
     "data": {
      "application/vnd.jupyter.widget-view+json": {
       "model_id": "31ff2ad9f78643f1a885533f527166a0",
       "version_major": 2,
       "version_minor": 0
      },
      "text/plain": [
       "Training GP:   0%|          | 0/500 [00:00<?, ?it/s]"
      ]
     },
     "metadata": {},
     "output_type": "display_data"
    },
    {
     "name": "stdout",
     "output_type": "stream",
     "text": [
      "Iteration 6, incumbent x=([0.3646000027656555, 0.8633000254631042, 0.6017000079154968, 0.6509000062942505]), f(x)=-3.1262\n"
     ]
    },
    {
     "data": {
      "application/vnd.jupyter.widget-view+json": {
       "model_id": "a699efb0e7654c9992925bd324b7e6c5",
       "version_major": 2,
       "version_minor": 0
      },
      "text/plain": [
       "Training GP:   0%|          | 0/500 [00:00<?, ?it/s]"
      ]
     },
     "metadata": {},
     "output_type": "display_data"
    },
    {
     "name": "stderr",
     "output_type": "stream",
     "text": [
      "/opt/anaconda3/envs/meng/lib/python3.10/site-packages/botorch/optim/optimize.py:677: RuntimeWarning: Optimization failed in `gen_candidates_scipy` with the following warning(s):\n",
      "[OptimizationWarning('Optimization failed within `scipy.optimize.minimize` with status 2 and message ABNORMAL_TERMINATION_IN_LNSRCH.')]\n",
      "Trying again with a new set of initial conditions.\n",
      "  return _optimize_acqf_batch(opt_inputs=opt_inputs)\n"
     ]
    },
    {
     "name": "stdout",
     "output_type": "stream",
     "text": [
      "Iteration 7, incumbent x=([0.359499990940094, 0.8393999934196472, 0.6115999817848206, 0.6360999941825867]), f(x)=-3.1849\n"
     ]
    },
    {
     "data": {
      "application/vnd.jupyter.widget-view+json": {
       "model_id": "496f5825f1fb4377a2d0174f9fbd448c",
       "version_major": 2,
       "version_minor": 0
      },
      "text/plain": [
       "Training GP:   0%|          | 0/500 [00:00<?, ?it/s]"
      ]
     },
     "metadata": {},
     "output_type": "display_data"
    },
    {
     "name": "stdout",
     "output_type": "stream",
     "text": [
      "Iteration 8, incumbent x=([0.3555999994277954, 0.819100022315979, 0.6194999814033508, 0.6237000226974487]), f(x)=-3.2117\n"
     ]
    },
    {
     "data": {
      "application/vnd.jupyter.widget-view+json": {
       "model_id": "f098d4785ae54c9fa707b83f680ce8bd",
       "version_major": 2,
       "version_minor": 0
      },
      "text/plain": [
       "Training GP:   0%|          | 0/500 [00:00<?, ?it/s]"
      ]
     },
     "metadata": {},
     "output_type": "display_data"
    },
    {
     "name": "stdout",
     "output_type": "stream",
     "text": [
      "Iteration 9, incumbent x=([0.35350000858306885, 0.8075000047683716, 0.6245999932289124, 0.6158999800682068]), f(x)=-3.2214\n"
     ]
    },
    {
     "data": {
      "application/vnd.jupyter.widget-view+json": {
       "model_id": "862ea8e6d5fb4c4d90d684b5f96dd0e7",
       "version_major": 2,
       "version_minor": 0
      },
      "text/plain": [
       "Training GP:   0%|          | 0/500 [00:00<?, ?it/s]"
      ]
     },
     "metadata": {},
     "output_type": "display_data"
    },
    {
     "name": "stdout",
     "output_type": "stream",
     "text": [
      "\n",
      "Run 2/10\n",
      "Initial points (x1, x2, x3, x4, f(x)):\n",
      "tensor([[ 0.0043,  0.1056,  0.2858,  0.0270, -1.5193],\n",
      "        [ 0.4716,  0.0601,  0.7719,  0.7437, -0.5807],\n",
      "        [ 0.5944,  0.8879,  0.4510,  0.7995, -1.0699],\n",
      "        [ 0.1498,  0.4015,  0.0542,  0.4594, -1.6432],\n",
      "        [ 0.1756,  0.9492,  0.8473,  0.8749, -0.5883],\n",
      "        [ 0.6483,  0.2148,  0.9493,  0.0121, -1.0784],\n",
      "        [ 0.1809,  0.1877,  0.2927,  0.5997, -1.2361],\n",
      "        [ 0.1213,  0.1148,  0.2609,  0.8052, -0.2270],\n",
      "        [ 0.1394,  0.0516,  0.0666,  0.2540, -2.4502],\n",
      "        [ 0.3686,  0.0043,  0.2659,  0.5096, -1.6643]])\n"
     ]
    },
    {
     "data": {
      "application/vnd.jupyter.widget-view+json": {
       "model_id": "e780a7ed978f4bdab0291ecb65f724e1",
       "version_major": 2,
       "version_minor": 0
      },
      "text/plain": [
       "Training GP:   0%|          | 0/500 [00:00<?, ?it/s]"
      ]
     },
     "metadata": {},
     "output_type": "display_data"
    },
    {
     "name": "stdout",
     "output_type": "stream",
     "text": [
      "Iteration 0, incumbent x=([0.13940000534057617, 0.051600001752376556, 0.066600002348423, 0.2540000081062317]), f(x)=-2.4502\n"
     ]
    },
    {
     "data": {
      "application/vnd.jupyter.widget-view+json": {
       "model_id": "29147930c182408d9bc29282d9ee93d2",
       "version_major": 2,
       "version_minor": 0
      },
      "text/plain": [
       "Training GP:   0%|          | 0/500 [00:00<?, ?it/s]"
      ]
     },
     "metadata": {},
     "output_type": "display_data"
    },
    {
     "name": "stdout",
     "output_type": "stream",
     "text": [
      "Iteration 1, incumbent x=([0.1509999930858612, 0.0551999993622303, 0.06939999759197235, 0.2639000117778778]), f(x)=-2.4928\n"
     ]
    },
    {
     "data": {
      "application/vnd.jupyter.widget-view+json": {
       "model_id": "2562a65e9e1649b4ab951180a8f221c8",
       "version_major": 2,
       "version_minor": 0
      },
      "text/plain": [
       "Training GP:   0%|          | 0/500 [00:00<?, ?it/s]"
      ]
     },
     "metadata": {},
     "output_type": "display_data"
    },
    {
     "name": "stdout",
     "output_type": "stream",
     "text": [
      "Iteration 2, incumbent x=([0.17970000207424164, 0.06469999998807907, 0.07880000025033951, 0.28769999742507935]), f(x)=-2.5770\n"
     ]
    },
    {
     "data": {
      "application/vnd.jupyter.widget-view+json": {
       "model_id": "c0a8ade144da4a37b8d371c82dab9ee6",
       "version_major": 2,
       "version_minor": 0
      },
      "text/plain": [
       "Training GP:   0%|          | 0/500 [00:00<?, ?it/s]"
      ]
     },
     "metadata": {},
     "output_type": "display_data"
    },
    {
     "name": "stdout",
     "output_type": "stream",
     "text": [
      "Iteration 3, incumbent x=([0.20479999482631683, 0.07259999960660934, 0.08869999647140503, 0.30730000138282776]), f(x)=-2.6213\n"
     ]
    },
    {
     "data": {
      "application/vnd.jupyter.widget-view+json": {
       "model_id": "b79f61958df240679b5a8ec21d64f046",
       "version_major": 2,
       "version_minor": 0
      },
      "text/plain": [
       "Training GP:   0%|          | 0/500 [00:00<?, ?it/s]"
      ]
     },
     "metadata": {},
     "output_type": "display_data"
    },
    {
     "name": "stdout",
     "output_type": "stream",
     "text": [
      "Iteration 4, incumbent x=([0.22470000386238098, 0.07829999923706055, 0.09560000151395798, 0.31790000200271606]), f(x)=-2.6395\n"
     ]
    },
    {
     "data": {
      "application/vnd.jupyter.widget-view+json": {
       "model_id": "c1e4bcf9a9f1419c85877ed00935c90f",
       "version_major": 2,
       "version_minor": 0
      },
      "text/plain": [
       "Training GP:   0%|          | 0/500 [00:00<?, ?it/s]"
      ]
     },
     "metadata": {},
     "output_type": "display_data"
    },
    {
     "name": "stdout",
     "output_type": "stream",
     "text": [
      "Iteration 5, incumbent x=([0.24240000545978546, 0.08389999717473984, 0.09719999879598618, 0.3165000081062317]), f(x)=-2.6530\n"
     ]
    },
    {
     "data": {
      "application/vnd.jupyter.widget-view+json": {
       "model_id": "22d1385d9da1425cb27087e6e27a063f",
       "version_major": 2,
       "version_minor": 0
      },
      "text/plain": [
       "Training GP:   0%|          | 0/500 [00:00<?, ?it/s]"
      ]
     },
     "metadata": {},
     "output_type": "display_data"
    },
    {
     "name": "stdout",
     "output_type": "stream",
     "text": [
      "Iteration 6, incumbent x=([0.25760000944137573, 0.08959999680519104, 0.09510000050067902, 0.3077000081539154]), f(x)=-2.6617\n"
     ]
    },
    {
     "data": {
      "application/vnd.jupyter.widget-view+json": {
       "model_id": "0fa481ee6a62440a8d9b4815db822c54",
       "version_major": 2,
       "version_minor": 0
      },
      "text/plain": [
       "Training GP:   0%|          | 0/500 [00:00<?, ?it/s]"
      ]
     },
     "metadata": {},
     "output_type": "display_data"
    },
    {
     "name": "stdout",
     "output_type": "stream",
     "text": [
      "Iteration 7, incumbent x=([0.25760000944137573, 0.08959999680519104, 0.09510000050067902, 0.3077000081539154]), f(x)=-2.6617\n"
     ]
    },
    {
     "data": {
      "application/vnd.jupyter.widget-view+json": {
       "model_id": "e179f9d338a0467f9e8aec30d60426f1",
       "version_major": 2,
       "version_minor": 0
      },
      "text/plain": [
       "Training GP:   0%|          | 0/500 [00:00<?, ?it/s]"
      ]
     },
     "metadata": {},
     "output_type": "display_data"
    },
    {
     "name": "stdout",
     "output_type": "stream",
     "text": [
      "Iteration 8, incumbent x=([0.25760000944137573, 0.08959999680519104, 0.09510000050067902, 0.3077000081539154]), f(x)=-2.6617\n"
     ]
    },
    {
     "data": {
      "application/vnd.jupyter.widget-view+json": {
       "model_id": "8a794c759ce744419d3d6390f2ae8afe",
       "version_major": 2,
       "version_minor": 0
      },
      "text/plain": [
       "Training GP:   0%|          | 0/500 [00:00<?, ?it/s]"
      ]
     },
     "metadata": {},
     "output_type": "display_data"
    },
    {
     "name": "stdout",
     "output_type": "stream",
     "text": [
      "Iteration 9, incumbent x=([0.25999999046325684, 0.0989999994635582, 0.1096000000834465, 0.2973000109195709]), f(x)=-2.7154\n"
     ]
    },
    {
     "data": {
      "application/vnd.jupyter.widget-view+json": {
       "model_id": "4f7cd8247556457e8dc25d384b598d79",
       "version_major": 2,
       "version_minor": 0
      },
      "text/plain": [
       "Training GP:   0%|          | 0/500 [00:00<?, ?it/s]"
      ]
     },
     "metadata": {},
     "output_type": "display_data"
    },
    {
     "name": "stdout",
     "output_type": "stream",
     "text": [
      "\n",
      "Run 3/10\n",
      "Initial points (x1, x2, x3, x4, f(x)):\n",
      "tensor([[ 0.5596,  0.5591,  0.0915,  0.2100, -1.2443],\n",
      "        [ 0.0072,  0.0390,  0.9929,  0.9131, -0.2097],\n",
      "        [ 0.6186,  0.9744,  0.3189,  0.2148, -0.5412],\n",
      "        [ 0.9263,  0.4735,  0.5949,  0.7956, -0.4705],\n",
      "        [ 0.7635,  0.2137,  0.3066,  0.0386, -0.6956],\n",
      "        [ 0.5220,  0.3207,  0.6074,  0.5233, -1.8265],\n",
      "        [ 0.9263,  0.5431,  0.7506,  0.6578, -0.9727],\n",
      "        [ 0.9436,  0.2921,  0.9175,  0.8586, -0.8823],\n",
      "        [ 0.3004,  0.8065,  0.9622,  0.2173, -1.2351],\n",
      "        [ 0.3050,  0.8421,  0.9032,  0.6319, -2.8586]])\n"
     ]
    },
    {
     "data": {
      "application/vnd.jupyter.widget-view+json": {
       "model_id": "553e8e04929940d9841084abc49191bf",
       "version_major": 2,
       "version_minor": 0
      },
      "text/plain": [
       "Training GP:   0%|          | 0/500 [00:00<?, ?it/s]"
      ]
     },
     "metadata": {},
     "output_type": "display_data"
    },
    {
     "name": "stdout",
     "output_type": "stream",
     "text": [
      "Iteration 0, incumbent x=([0.3050000071525574, 0.8421000242233276, 0.9031999707221985, 0.6319000124931335]), f(x)=-2.8586\n"
     ]
    },
    {
     "data": {
      "application/vnd.jupyter.widget-view+json": {
       "model_id": "215447b5239f4cb8bf383d0d6c094eb7",
       "version_major": 2,
       "version_minor": 0
      },
      "text/plain": [
       "Training GP:   0%|          | 0/500 [00:00<?, ?it/s]"
      ]
     },
     "metadata": {},
     "output_type": "display_data"
    },
    {
     "name": "stdout",
     "output_type": "stream",
     "text": [
      "Iteration 1, incumbent x=([0.3050000071525574, 0.8421000242233276, 0.9031999707221985, 0.6319000124931335]), f(x)=-2.8586\n"
     ]
    },
    {
     "data": {
      "application/vnd.jupyter.widget-view+json": {
       "model_id": "e1aeb1ebc8a64838bbfe33d8fda9f34d",
       "version_major": 2,
       "version_minor": 0
      },
      "text/plain": [
       "Training GP:   0%|          | 0/500 [00:00<?, ?it/s]"
      ]
     },
     "metadata": {},
     "output_type": "display_data"
    },
    {
     "name": "stdout",
     "output_type": "stream",
     "text": [
      "Iteration 2, incumbent x=([0.30140000581741333, 0.8478999733924866, 0.9079999923706055, 0.6158000230789185]), f(x)=-2.8737\n"
     ]
    },
    {
     "data": {
      "application/vnd.jupyter.widget-view+json": {
       "model_id": "23478f61e1654b3fb0688b2c78848b1d",
       "version_major": 2,
       "version_minor": 0
      },
      "text/plain": [
       "Training GP:   0%|          | 0/500 [00:00<?, ?it/s]"
      ]
     },
     "metadata": {},
     "output_type": "display_data"
    },
    {
     "name": "stdout",
     "output_type": "stream",
     "text": [
      "Iteration 3, incumbent x=([0.30140000581741333, 0.8478999733924866, 0.9079999923706055, 0.6158000230789185]), f(x)=-2.8737\n"
     ]
    },
    {
     "data": {
      "application/vnd.jupyter.widget-view+json": {
       "model_id": "6203386c2644419299533723f71778d2",
       "version_major": 2,
       "version_minor": 0
      },
      "text/plain": [
       "Training GP:   0%|          | 0/500 [00:00<?, ?it/s]"
      ]
     },
     "metadata": {},
     "output_type": "display_data"
    },
    {
     "name": "stdout",
     "output_type": "stream",
     "text": [
      "Iteration 4, incumbent x=([0.30390000343322754, 0.8409000039100647, 0.9072999954223633, 0.6000999808311462]), f(x)=-2.9402\n"
     ]
    },
    {
     "data": {
      "application/vnd.jupyter.widget-view+json": {
       "model_id": "ab39b356d7d84b9188b86602c82d4088",
       "version_major": 2,
       "version_minor": 0
      },
      "text/plain": [
       "Training GP:   0%|          | 0/500 [00:00<?, ?it/s]"
      ]
     },
     "metadata": {},
     "output_type": "display_data"
    },
    {
     "name": "stdout",
     "output_type": "stream",
     "text": [
      "Iteration 5, incumbent x=([0.31610000133514404, 0.8137999773025513, 0.8982999920845032, 0.5810999870300293]), f(x)=-3.0827\n"
     ]
    },
    {
     "data": {
      "application/vnd.jupyter.widget-view+json": {
       "model_id": "3bce3b6f988641c1975740eb3a684167",
       "version_major": 2,
       "version_minor": 0
      },
      "text/plain": [
       "Training GP:   0%|          | 0/500 [00:00<?, ?it/s]"
      ]
     },
     "metadata": {},
     "output_type": "display_data"
    },
    {
     "name": "stdout",
     "output_type": "stream",
     "text": [
      "Iteration 6, incumbent x=([0.3280999958515167, 0.7876999974250793, 0.8885999917984009, 0.5694000124931335]), f(x)=-3.1744\n"
     ]
    },
    {
     "data": {
      "application/vnd.jupyter.widget-view+json": {
       "model_id": "743212a8b8374a3fb028205b7f26314a",
       "version_major": 2,
       "version_minor": 0
      },
      "text/plain": [
       "Training GP:   0%|          | 0/500 [00:00<?, ?it/s]"
      ]
     },
     "metadata": {},
     "output_type": "display_data"
    },
    {
     "name": "stdout",
     "output_type": "stream",
     "text": [
      "Iteration 7, incumbent x=([0.3391999900341034, 0.7638999819755554, 0.8791999816894531, 0.5616000294685364]), f(x)=-3.2269\n"
     ]
    },
    {
     "data": {
      "application/vnd.jupyter.widget-view+json": {
       "model_id": "c5ebd6fd44a94884a80848be50a7a617",
       "version_major": 2,
       "version_minor": 0
      },
      "text/plain": [
       "Training GP:   0%|          | 0/500 [00:00<?, ?it/s]"
      ]
     },
     "metadata": {},
     "output_type": "display_data"
    },
    {
     "name": "stdout",
     "output_type": "stream",
     "text": [
      "Iteration 8, incumbent x=([0.34880000352859497, 0.7433000206947327, 0.8707000017166138, 0.5559999942779541]), f(x)=-3.2507\n"
     ]
    },
    {
     "data": {
      "application/vnd.jupyter.widget-view+json": {
       "model_id": "fcaa5c80402d459f8fba2f36e62adc4e",
       "version_major": 2,
       "version_minor": 0
      },
      "text/plain": [
       "Training GP:   0%|          | 0/500 [00:00<?, ?it/s]"
      ]
     },
     "metadata": {},
     "output_type": "display_data"
    },
    {
     "name": "stdout",
     "output_type": "stream",
     "text": [
      "Iteration 9, incumbent x=([0.35429999232292175, 0.7315000295639038, 0.8654999732971191, 0.5544000267982483]), f(x)=-3.2559\n"
     ]
    },
    {
     "data": {
      "application/vnd.jupyter.widget-view+json": {
       "model_id": "58d3c1ba49ed449d95d627c4a3d660ce",
       "version_major": 2,
       "version_minor": 0
      },
      "text/plain": [
       "Training GP:   0%|          | 0/500 [00:00<?, ?it/s]"
      ]
     },
     "metadata": {},
     "output_type": "display_data"
    },
    {
     "name": "stdout",
     "output_type": "stream",
     "text": [
      "\n",
      "Run 4/10\n",
      "Initial points (x1, x2, x3, x4, f(x)):\n",
      "tensor([[ 0.8303,  0.1261,  0.9075,  0.8199, -0.4949],\n",
      "        [ 0.9201,  0.1166,  0.1644,  0.7379, -0.0917],\n",
      "        [ 0.0333,  0.9942,  0.6064,  0.5646, -0.4217],\n",
      "        [ 0.0724,  0.6593,  0.7150,  0.5793, -1.3237],\n",
      "        [ 0.9809,  0.6502,  0.0566,  0.9201, -0.0059],\n",
      "        [ 0.6698,  0.2615,  0.0407,  0.7850, -0.1441],\n",
      "        [ 0.9752,  0.0903,  0.5273,  0.6794, -0.2033],\n",
      "        [ 0.2639,  0.3906,  0.1661,  0.2636, -2.4371],\n",
      "        [ 0.0442,  0.4884,  0.7965,  0.7432, -1.3717],\n",
      "        [ 0.9697,  0.0609,  0.4385,  0.9868, -0.0281]])\n"
     ]
    },
    {
     "data": {
      "application/vnd.jupyter.widget-view+json": {
       "model_id": "faf4f069799a410882d45ee3f6a64dae",
       "version_major": 2,
       "version_minor": 0
      },
      "text/plain": [
       "Training GP:   0%|          | 0/500 [00:00<?, ?it/s]"
      ]
     },
     "metadata": {},
     "output_type": "display_data"
    },
    {
     "name": "stdout",
     "output_type": "stream",
     "text": [
      "Iteration 0, incumbent x=([0.2639000117778778, 0.3905999958515167, 0.16609999537467957, 0.2635999917984009]), f(x)=-2.4371\n"
     ]
    },
    {
     "data": {
      "application/vnd.jupyter.widget-view+json": {
       "model_id": "df41a8bed2ef4601a85235b690692ed4",
       "version_major": 2,
       "version_minor": 0
      },
      "text/plain": [
       "Training GP:   0%|          | 0/500 [00:00<?, ?it/s]"
      ]
     },
     "metadata": {},
     "output_type": "display_data"
    },
    {
     "name": "stdout",
     "output_type": "stream",
     "text": [
      "Iteration 1, incumbent x=([0.2639000117778778, 0.3905999958515167, 0.16609999537467957, 0.2635999917984009]), f(x)=-2.4371\n"
     ]
    },
    {
     "data": {
      "application/vnd.jupyter.widget-view+json": {
       "model_id": "873734b99dd1425c91e9d6300d2a8e95",
       "version_major": 2,
       "version_minor": 0
      },
      "text/plain": [
       "Training GP:   0%|          | 0/500 [00:00<?, ?it/s]"
      ]
     },
     "metadata": {},
     "output_type": "display_data"
    },
    {
     "name": "stdout",
     "output_type": "stream",
     "text": [
      "Iteration 2, incumbent x=([0.2775000035762787, 0.39399999380111694, 0.16220000386238098, 0.28780001401901245]), f(x)=-2.4516\n"
     ]
    },
    {
     "data": {
      "application/vnd.jupyter.widget-view+json": {
       "model_id": "1817442a72c94eb09293f55ac48a4b41",
       "version_major": 2,
       "version_minor": 0
      },
      "text/plain": [
       "Training GP:   0%|          | 0/500 [00:00<?, ?it/s]"
      ]
     },
     "metadata": {},
     "output_type": "display_data"
    },
    {
     "name": "stdout",
     "output_type": "stream",
     "text": [
      "Iteration 3, incumbent x=([0.2775000035762787, 0.39399999380111694, 0.16220000386238098, 0.28780001401901245]), f(x)=-2.4516\n"
     ]
    },
    {
     "data": {
      "application/vnd.jupyter.widget-view+json": {
       "model_id": "a577849d756e48a5b4a15868eb372a86",
       "version_major": 2,
       "version_minor": 0
      },
      "text/plain": [
       "Training GP:   0%|          | 0/500 [00:00<?, ?it/s]"
      ]
     },
     "metadata": {},
     "output_type": "display_data"
    },
    {
     "name": "stdout",
     "output_type": "stream",
     "text": [
      "Iteration 4, incumbent x=([0.2775000035762787, 0.39399999380111694, 0.16220000386238098, 0.28780001401901245]), f(x)=-2.4516\n"
     ]
    },
    {
     "data": {
      "application/vnd.jupyter.widget-view+json": {
       "model_id": "0688d92c24fe4d0b956945e41fe54835",
       "version_major": 2,
       "version_minor": 0
      },
      "text/plain": [
       "Training GP:   0%|          | 0/500 [00:00<?, ?it/s]"
      ]
     },
     "metadata": {},
     "output_type": "display_data"
    },
    {
     "name": "stdout",
     "output_type": "stream",
     "text": [
      "Iteration 5, incumbent x=([0.2775000035762787, 0.39399999380111694, 0.16220000386238098, 0.28780001401901245]), f(x)=-2.4516\n"
     ]
    },
    {
     "data": {
      "application/vnd.jupyter.widget-view+json": {
       "model_id": "f396f4dfa008468bace67d19a4a868bf",
       "version_major": 2,
       "version_minor": 0
      },
      "text/plain": [
       "Training GP:   0%|          | 0/500 [00:00<?, ?it/s]"
      ]
     },
     "metadata": {},
     "output_type": "display_data"
    },
    {
     "name": "stdout",
     "output_type": "stream",
     "text": [
      "Iteration 6, incumbent x=([0.2775000035762787, 0.39399999380111694, 0.16220000386238098, 0.28780001401901245]), f(x)=-2.4516\n"
     ]
    },
    {
     "data": {
      "application/vnd.jupyter.widget-view+json": {
       "model_id": "5ca9491cd4a843a7b3156428ef3f8450",
       "version_major": 2,
       "version_minor": 0
      },
      "text/plain": [
       "Training GP:   0%|          | 0/500 [00:00<?, ?it/s]"
      ]
     },
     "metadata": {},
     "output_type": "display_data"
    },
    {
     "name": "stdout",
     "output_type": "stream",
     "text": [
      "Iteration 7, incumbent x=([0.2775000035762787, 0.39399999380111694, 0.16220000386238098, 0.28780001401901245]), f(x)=-2.4516\n"
     ]
    },
    {
     "data": {
      "application/vnd.jupyter.widget-view+json": {
       "model_id": "23f68e08e9a049199d5ca5b562716b51",
       "version_major": 2,
       "version_minor": 0
      },
      "text/plain": [
       "Training GP:   0%|          | 0/500 [00:00<?, ?it/s]"
      ]
     },
     "metadata": {},
     "output_type": "display_data"
    },
    {
     "name": "stdout",
     "output_type": "stream",
     "text": [
      "Iteration 8, incumbent x=([0.2750999927520752, 0.3952000141143799, 0.16089999675750732, 0.30709999799728394]), f(x)=-2.4536\n"
     ]
    },
    {
     "data": {
      "application/vnd.jupyter.widget-view+json": {
       "model_id": "1051670b3b2d44148ff52487d6a05440",
       "version_major": 2,
       "version_minor": 0
      },
      "text/plain": [
       "Training GP:   0%|          | 0/500 [00:00<?, ?it/s]"
      ]
     },
     "metadata": {},
     "output_type": "display_data"
    },
    {
     "name": "stdout",
     "output_type": "stream",
     "text": [
      "Iteration 9, incumbent x=([0.265500009059906, 0.39169999957084656, 0.15790000557899475, 0.31279999017715454]), f(x)=-2.4541\n"
     ]
    },
    {
     "data": {
      "application/vnd.jupyter.widget-view+json": {
       "model_id": "61a3aaefcd1643c1ac48c0618a9cae76",
       "version_major": 2,
       "version_minor": 0
      },
      "text/plain": [
       "Training GP:   0%|          | 0/500 [00:00<?, ?it/s]"
      ]
     },
     "metadata": {},
     "output_type": "display_data"
    },
    {
     "name": "stdout",
     "output_type": "stream",
     "text": [
      "\n",
      "Run 5/10\n",
      "Initial points (x1, x2, x3, x4, f(x)):\n",
      "tensor([[ 0.5722,  0.5539,  0.9868,  0.6080, -1.6863],\n",
      "        [ 0.2347,  0.4492,  0.6743,  0.7480, -1.3965],\n",
      "        [ 0.5601,  0.1674,  0.3333,  0.4648, -1.6697],\n",
      "        [ 0.6332,  0.7692,  0.2147,  0.7815, -0.7981],\n",
      "        [ 0.8644,  0.6052,  0.3650,  0.2536, -0.4684],\n",
      "        [ 0.1642,  0.2833,  0.3858,  0.8337, -0.2637],\n",
      "        [ 0.6173,  0.3923,  0.1878,  0.8375, -0.1807],\n",
      "        [ 0.2109,  0.4282,  0.4974,  0.0340, -2.0618],\n",
      "        [ 0.8837,  0.0947,  0.7794,  0.6970, -0.5191],\n",
      "        [ 0.3245,  0.2406,  0.8824,  0.2953, -2.7405]])\n"
     ]
    },
    {
     "data": {
      "application/vnd.jupyter.widget-view+json": {
       "model_id": "bbd6a32cee574cc899e8bacc7f6eabef",
       "version_major": 2,
       "version_minor": 0
      },
      "text/plain": [
       "Training GP:   0%|          | 0/500 [00:00<?, ?it/s]"
      ]
     },
     "metadata": {},
     "output_type": "display_data"
    },
    {
     "name": "stdout",
     "output_type": "stream",
     "text": [
      "Iteration 0, incumbent x=([0.3244999945163727, 0.24060000479221344, 0.8823999762535095, 0.2953000068664551]), f(x)=-2.7405\n"
     ]
    },
    {
     "data": {
      "application/vnd.jupyter.widget-view+json": {
       "model_id": "ec0da9289c004d768d8574663ab6d950",
       "version_major": 2,
       "version_minor": 0
      },
      "text/plain": [
       "Training GP:   0%|          | 0/500 [00:00<?, ?it/s]"
      ]
     },
     "metadata": {},
     "output_type": "display_data"
    },
    {
     "name": "stdout",
     "output_type": "stream",
     "text": [
      "Iteration 1, incumbent x=([0.3179999887943268, 0.24549999833106995, 0.8654000163078308, 0.28940001130104065]), f(x)=-2.8520\n"
     ]
    },
    {
     "data": {
      "application/vnd.jupyter.widget-view+json": {
       "model_id": "0bdcec0eba4a48c793f6f58cd1c83ecb",
       "version_major": 2,
       "version_minor": 0
      },
      "text/plain": [
       "Training GP:   0%|          | 0/500 [00:00<?, ?it/s]"
      ]
     },
     "metadata": {},
     "output_type": "display_data"
    },
    {
     "name": "stdout",
     "output_type": "stream",
     "text": [
      "Iteration 2, incumbent x=([0.30570000410079956, 0.2556000053882599, 0.8320000171661377, 0.27810001373291016]), f(x)=-3.0505\n"
     ]
    },
    {
     "data": {
      "application/vnd.jupyter.widget-view+json": {
       "model_id": "a616bb1d8bc0455888f692c9e45ec0c6",
       "version_major": 2,
       "version_minor": 0
      },
      "text/plain": [
       "Training GP:   0%|          | 0/500 [00:00<?, ?it/s]"
      ]
     },
     "metadata": {},
     "output_type": "display_data"
    },
    {
     "name": "stdout",
     "output_type": "stream",
     "text": [
      "Iteration 3, incumbent x=([0.29600000381469727, 0.2644999921321869, 0.8073999881744385, 0.26759999990463257]), f(x)=-3.1781\n"
     ]
    },
    {
     "data": {
      "application/vnd.jupyter.widget-view+json": {
       "model_id": "90ed219065b54fbcb52e3d60604aa23d",
       "version_major": 2,
       "version_minor": 0
      },
      "text/plain": [
       "Training GP:   0%|          | 0/500 [00:00<?, ?it/s]"
      ]
     },
     "metadata": {},
     "output_type": "display_data"
    },
    {
     "name": "stdout",
     "output_type": "stream",
     "text": [
      "Iteration 4, incumbent x=([0.2816999852657318, 0.2775999903678894, 0.7699000239372253, 0.2524999976158142]), f(x)=-3.3299\n"
     ]
    },
    {
     "data": {
      "application/vnd.jupyter.widget-view+json": {
       "model_id": "41b0db49fcba409aac37bbf292ea2a2d",
       "version_major": 2,
       "version_minor": 0
      },
      "text/plain": [
       "Training GP:   0%|          | 0/500 [00:00<?, ?it/s]"
      ]
     },
     "metadata": {},
     "output_type": "display_data"
    },
    {
     "name": "stdout",
     "output_type": "stream",
     "text": [
      "Iteration 5, incumbent x=([0.27000001072883606, 0.28999999165534973, 0.7373999953269958, 0.23800000548362732]), f(x)=-3.4163\n"
     ]
    },
    {
     "data": {
      "application/vnd.jupyter.widget-view+json": {
       "model_id": "fd08db8c1aa34b33a6709da7770ec1b1",
       "version_major": 2,
       "version_minor": 0
      },
      "text/plain": [
       "Training GP:   0%|          | 0/500 [00:00<?, ?it/s]"
      ]
     },
     "metadata": {},
     "output_type": "display_data"
    },
    {
     "name": "stdout",
     "output_type": "stream",
     "text": [
      "Iteration 6, incumbent x=([0.2612999975681305, 0.2994999885559082, 0.7124999761581421, 0.2272000014781952]), f(x)=-3.4538\n"
     ]
    },
    {
     "data": {
      "application/vnd.jupyter.widget-view+json": {
       "model_id": "927298c6ed2d4d4b9370a399b9a84d5e",
       "version_major": 2,
       "version_minor": 0
      },
      "text/plain": [
       "Training GP:   0%|          | 0/500 [00:00<?, ?it/s]"
      ]
     },
     "metadata": {},
     "output_type": "display_data"
    },
    {
     "name": "stdout",
     "output_type": "stream",
     "text": [
      "Iteration 7, incumbent x=([0.2565000057220459, 0.30169999599456787, 0.6947000026702881, 0.2304999977350235]), f(x)=-3.4925\n"
     ]
    },
    {
     "data": {
      "application/vnd.jupyter.widget-view+json": {
       "model_id": "b3ee0dbfb7414e7b9d7b7f524af24a42",
       "version_major": 2,
       "version_minor": 0
      },
      "text/plain": [
       "Training GP:   0%|          | 0/500 [00:00<?, ?it/s]"
      ]
     },
     "metadata": {},
     "output_type": "display_data"
    },
    {
     "name": "stdout",
     "output_type": "stream",
     "text": [
      "Iteration 8, incumbent x=([0.2506999969482422, 0.29829999804496765, 0.6782000064849854, 0.25189998745918274]), f(x)=-3.5558\n"
     ]
    },
    {
     "data": {
      "application/vnd.jupyter.widget-view+json": {
       "model_id": "19926c5cabfc4c98afb6daa5e3140851",
       "version_major": 2,
       "version_minor": 0
      },
      "text/plain": [
       "Training GP:   0%|          | 0/500 [00:00<?, ?it/s]"
      ]
     },
     "metadata": {},
     "output_type": "display_data"
    },
    {
     "name": "stdout",
     "output_type": "stream",
     "text": [
      "Iteration 9, incumbent x=([0.2460000067949295, 0.2930000126361847, 0.6606000065803528, 0.27619999647140503]), f(x)=-3.5932\n"
     ]
    },
    {
     "data": {
      "application/vnd.jupyter.widget-view+json": {
       "model_id": "b391dd20a6414fe982b91c2d16627aee",
       "version_major": 2,
       "version_minor": 0
      },
      "text/plain": [
       "Training GP:   0%|          | 0/500 [00:00<?, ?it/s]"
      ]
     },
     "metadata": {},
     "output_type": "display_data"
    },
    {
     "name": "stdout",
     "output_type": "stream",
     "text": [
      "\n",
      "Run 6/10\n",
      "Initial points (x1, x2, x3, x4, f(x)):\n",
      "tensor([[ 0.5349,  0.1988,  0.6592,  0.6569, -1.0408],\n",
      "        [ 0.2328,  0.4251,  0.2071,  0.6297, -1.0552],\n",
      "        [ 0.3653,  0.8513,  0.8549,  0.5509, -3.4232],\n",
      "        [ 0.2868,  0.2063,  0.4451,  0.3593, -3.2697],\n",
      "        [ 0.7204,  0.0731,  0.9699,  0.1078, -0.8157],\n",
      "        [ 0.8829,  0.4132,  0.7572,  0.6948, -1.1667],\n",
      "        [ 0.5209,  0.5932,  0.8797,  0.6286, -2.3210],\n",
      "        [ 0.7653,  0.1132,  0.8559,  0.6721, -0.6659],\n",
      "        [ 0.6267,  0.5691,  0.7437,  0.9592, -0.9473],\n",
      "        [ 0.3887,  0.2214,  0.3742,  0.1953, -2.8129]])\n"
     ]
    },
    {
     "data": {
      "application/vnd.jupyter.widget-view+json": {
       "model_id": "1c8e1d987ea9404ca05a24909d1f2e28",
       "version_major": 2,
       "version_minor": 0
      },
      "text/plain": [
       "Training GP:   0%|          | 0/500 [00:00<?, ?it/s]"
      ]
     },
     "metadata": {},
     "output_type": "display_data"
    },
    {
     "name": "stdout",
     "output_type": "stream",
     "text": [
      "Iteration 0, incumbent x=([0.3652999997138977, 0.8513000011444092, 0.8549000024795532, 0.5508999824523926]), f(x)=-3.4232\n"
     ]
    },
    {
     "data": {
      "application/vnd.jupyter.widget-view+json": {
       "model_id": "9b45d4554cf04fcdb6597f5194580b3d",
       "version_major": 2,
       "version_minor": 0
      },
      "text/plain": [
       "Training GP:   0%|          | 0/500 [00:00<?, ?it/s]"
      ]
     },
     "metadata": {},
     "output_type": "display_data"
    },
    {
     "name": "stdout",
     "output_type": "stream",
     "text": [
      "Iteration 1, incumbent x=([0.3652999997138977, 0.8513000011444092, 0.8549000024795532, 0.5508999824523926]), f(x)=-3.4232\n"
     ]
    },
    {
     "data": {
      "application/vnd.jupyter.widget-view+json": {
       "model_id": "26044c4ef22345bda2482c05e2f08b89",
       "version_major": 2,
       "version_minor": 0
      },
      "text/plain": [
       "Training GP:   0%|          | 0/500 [00:00<?, ?it/s]"
      ]
     },
     "metadata": {},
     "output_type": "display_data"
    },
    {
     "name": "stdout",
     "output_type": "stream",
     "text": [
      "Iteration 2, incumbent x=([0.3763999938964844, 0.8392000198364258, 0.850600004196167, 0.5694000124931335]), f(x)=-3.4687\n"
     ]
    },
    {
     "data": {
      "application/vnd.jupyter.widget-view+json": {
       "model_id": "53b0e3f1c28c4a9ea2abf034f00c02b1",
       "version_major": 2,
       "version_minor": 0
      },
      "text/plain": [
       "Training GP:   0%|          | 0/500 [00:00<?, ?it/s]"
      ]
     },
     "metadata": {},
     "output_type": "display_data"
    },
    {
     "name": "stdout",
     "output_type": "stream",
     "text": [
      "Iteration 3, incumbent x=([0.38609999418258667, 0.8289999961853027, 0.8464999794960022, 0.5863000154495239]), f(x)=-3.4741\n"
     ]
    },
    {
     "data": {
      "application/vnd.jupyter.widget-view+json": {
       "model_id": "cdfb197793ae48269ed3b15bac48e770",
       "version_major": 2,
       "version_minor": 0
      },
      "text/plain": [
       "Training GP:   0%|          | 0/500 [00:00<?, ?it/s]"
      ]
     },
     "metadata": {},
     "output_type": "display_data"
    },
    {
     "name": "stdout",
     "output_type": "stream",
     "text": [
      "Iteration 4, incumbent x=([0.38609999418258667, 0.8289999961853027, 0.8464999794960022, 0.5863000154495239]), f(x)=-3.4741\n"
     ]
    },
    {
     "data": {
      "application/vnd.jupyter.widget-view+json": {
       "model_id": "14ce65da259e469a8b5e2c22b26fa132",
       "version_major": 2,
       "version_minor": 0
      },
      "text/plain": [
       "Training GP:   0%|          | 0/500 [00:00<?, ?it/s]"
      ]
     },
     "metadata": {},
     "output_type": "display_data"
    },
    {
     "name": "stdout",
     "output_type": "stream",
     "text": [
      "Iteration 5, incumbent x=([0.38609999418258667, 0.8289999961853027, 0.8464999794960022, 0.5863000154495239]), f(x)=-3.4741\n"
     ]
    },
    {
     "data": {
      "application/vnd.jupyter.widget-view+json": {
       "model_id": "b4ed6d1445cc4f09a22bfe59c0d953b2",
       "version_major": 2,
       "version_minor": 0
      },
      "text/plain": [
       "Training GP:   0%|          | 0/500 [00:00<?, ?it/s]"
      ]
     },
     "metadata": {},
     "output_type": "display_data"
    },
    {
     "name": "stdout",
     "output_type": "stream",
     "text": [
      "Iteration 6, incumbent x=([0.38609999418258667, 0.8289999961853027, 0.8464999794960022, 0.5863000154495239]), f(x)=-3.4741\n"
     ]
    },
    {
     "data": {
      "application/vnd.jupyter.widget-view+json": {
       "model_id": "06ad9566d28447f681b35cd56b2eb3a5",
       "version_major": 2,
       "version_minor": 0
      },
      "text/plain": [
       "Training GP:   0%|          | 0/500 [00:00<?, ?it/s]"
      ]
     },
     "metadata": {},
     "output_type": "display_data"
    },
    {
     "name": "stdout",
     "output_type": "stream",
     "text": [
      "Iteration 7, incumbent x=([0.38609999418258667, 0.8289999961853027, 0.8464999794960022, 0.5863000154495239]), f(x)=-3.4741\n"
     ]
    },
    {
     "data": {
      "application/vnd.jupyter.widget-view+json": {
       "model_id": "4ed578230acb490bb6c6076938baf908",
       "version_major": 2,
       "version_minor": 0
      },
      "text/plain": [
       "Training GP:   0%|          | 0/500 [00:00<?, ?it/s]"
      ]
     },
     "metadata": {},
     "output_type": "display_data"
    },
    {
     "name": "stdout",
     "output_type": "stream",
     "text": [
      "Iteration 8, incumbent x=([0.40070000290870667, 0.8324000239372253, 0.8421000242233276, 0.5803999900817871]), f(x)=-3.4996\n"
     ]
    },
    {
     "data": {
      "application/vnd.jupyter.widget-view+json": {
       "model_id": "c5aef4c88e934cd5a31fac7272c3e2c3",
       "version_major": 2,
       "version_minor": 0
      },
      "text/plain": [
       "Training GP:   0%|          | 0/500 [00:00<?, ?it/s]"
      ]
     },
     "metadata": {},
     "output_type": "display_data"
    },
    {
     "name": "stdout",
     "output_type": "stream",
     "text": [
      "Iteration 9, incumbent x=([0.40070000290870667, 0.8324000239372253, 0.8421000242233276, 0.5803999900817871]), f(x)=-3.4996\n"
     ]
    },
    {
     "data": {
      "application/vnd.jupyter.widget-view+json": {
       "model_id": "c5ef398e1aaf4227a95026a048bb1eeb",
       "version_major": 2,
       "version_minor": 0
      },
      "text/plain": [
       "Training GP:   0%|          | 0/500 [00:00<?, ?it/s]"
      ]
     },
     "metadata": {},
     "output_type": "display_data"
    },
    {
     "name": "stdout",
     "output_type": "stream",
     "text": [
      "\n",
      "Run 7/10\n",
      "Initial points (x1, x2, x3, x4, f(x)):\n",
      "tensor([[ 5.9793e-01,  8.4530e-01,  9.4641e-01,  2.9653e-01, -1.1230e+00],\n",
      "        [ 5.1380e-01,  6.4435e-01,  8.9906e-01,  1.4089e-02, -1.0091e+00],\n",
      "        [ 5.7845e-01,  1.2181e-01,  9.1809e-01,  6.8053e-01, -7.2463e-01],\n",
      "        [ 2.0002e-01,  1.1211e-01,  1.9484e-03,  8.9283e-01, -6.7611e-02],\n",
      "        [ 8.0471e-01,  2.5468e-01,  4.6830e-01,  1.6823e-01, -1.0267e+00],\n",
      "        [ 1.7126e-01,  5.1032e-01,  1.0682e-01,  5.9115e-01, -1.0818e+00],\n",
      "        [ 7.8927e-01,  8.5407e-02,  3.6789e-01,  4.7609e-01, -8.4289e-01],\n",
      "        [ 6.3862e-01,  4.4802e-01,  7.9494e-02,  3.1987e-01, -1.3061e+00],\n",
      "        [ 3.2074e-03,  4.2376e-01,  3.0694e-01,  9.5287e-01, -5.4253e-02],\n",
      "        [ 4.4616e-01,  7.7556e-01,  1.3072e-02,  4.1015e-01, -2.5497e+00]])\n"
     ]
    },
    {
     "data": {
      "application/vnd.jupyter.widget-view+json": {
       "model_id": "ef607ac377e4494aa2d4d89e94b6f064",
       "version_major": 2,
       "version_minor": 0
      },
      "text/plain": [
       "Training GP:   0%|          | 0/500 [00:00<?, ?it/s]"
      ]
     },
     "metadata": {},
     "output_type": "display_data"
    },
    {
     "name": "stdout",
     "output_type": "stream",
     "text": [
      "Iteration 0, incumbent x=([0.44620001316070557, 0.775600016117096, 0.013100000098347664, 0.4101000130176544]), f(x)=-2.5497\n"
     ]
    },
    {
     "data": {
      "application/vnd.jupyter.widget-view+json": {
       "model_id": "3706d6110f694d60aeab59529d260311",
       "version_major": 2,
       "version_minor": 0
      },
      "text/plain": [
       "Training GP:   0%|          | 0/500 [00:00<?, ?it/s]"
      ]
     },
     "metadata": {},
     "output_type": "display_data"
    },
    {
     "name": "stdout",
     "output_type": "stream",
     "text": [
      "Iteration 1, incumbent x=([0.4440999925136566, 0.8032000064849854, 0.007199999876320362, 0.4088999927043915]), f(x)=-2.5790\n"
     ]
    },
    {
     "data": {
      "application/vnd.jupyter.widget-view+json": {
       "model_id": "5f30b345317c4443801a21401bb4c7f8",
       "version_major": 2,
       "version_minor": 0
      },
      "text/plain": [
       "Training GP:   0%|          | 0/500 [00:00<?, ?it/s]"
      ]
     },
     "metadata": {},
     "output_type": "display_data"
    },
    {
     "name": "stdout",
     "output_type": "stream",
     "text": [
      "Iteration 2, incumbent x=([0.4415000081062317, 0.8289999961853027, 0.0019000000320374966, 0.4074000120162964]), f(x)=-2.5888\n"
     ]
    },
    {
     "data": {
      "application/vnd.jupyter.widget-view+json": {
       "model_id": "5b9b01093cc047d196bd51bfd2162c7a",
       "version_major": 2,
       "version_minor": 0
      },
      "text/plain": [
       "Training GP:   0%|          | 0/500 [00:00<?, ?it/s]"
      ]
     },
     "metadata": {},
     "output_type": "display_data"
    },
    {
     "name": "stdout",
     "output_type": "stream",
     "text": [
      "Iteration 3, incumbent x=([0.4415000081062317, 0.8289999961853027, 0.0019000000320374966, 0.4074000120162964]), f(x)=-2.5888\n"
     ]
    },
    {
     "data": {
      "application/vnd.jupyter.widget-view+json": {
       "model_id": "881db3fd979541ec829c3dd007d83c6c",
       "version_major": 2,
       "version_minor": 0
      },
      "text/plain": [
       "Training GP:   0%|          | 0/500 [00:00<?, ?it/s]"
      ]
     },
     "metadata": {},
     "output_type": "display_data"
    },
    {
     "name": "stdout",
     "output_type": "stream",
     "text": [
      "Iteration 4, incumbent x=([0.4415000081062317, 0.8289999961853027, 0.0019000000320374966, 0.4074000120162964]), f(x)=-2.5888\n"
     ]
    },
    {
     "data": {
      "application/vnd.jupyter.widget-view+json": {
       "model_id": "1514d032e1e74bb880141091646a648f",
       "version_major": 2,
       "version_minor": 0
      },
      "text/plain": [
       "Training GP:   0%|          | 0/500 [00:00<?, ?it/s]"
      ]
     },
     "metadata": {},
     "output_type": "display_data"
    },
    {
     "name": "stdout",
     "output_type": "stream",
     "text": [
      "Iteration 5, incumbent x=([0.4415000081062317, 0.8289999961853027, 0.0019000000320374966, 0.4074000120162964]), f(x)=-2.5888\n"
     ]
    },
    {
     "data": {
      "application/vnd.jupyter.widget-view+json": {
       "model_id": "dcdad87ea0ae424da4c54c35f8424e99",
       "version_major": 2,
       "version_minor": 0
      },
      "text/plain": [
       "Training GP:   0%|          | 0/500 [00:00<?, ?it/s]"
      ]
     },
     "metadata": {},
     "output_type": "display_data"
    },
    {
     "name": "stdout",
     "output_type": "stream",
     "text": [
      "Iteration 6, incumbent x=([0.4415000081062317, 0.8289999961853027, 0.0019000000320374966, 0.4074000120162964]), f(x)=-2.5888\n"
     ]
    },
    {
     "data": {
      "application/vnd.jupyter.widget-view+json": {
       "model_id": "278f74b852d446dcaf91ea6ace95e8b2",
       "version_major": 2,
       "version_minor": 0
      },
      "text/plain": [
       "Training GP:   0%|          | 0/500 [00:00<?, ?it/s]"
      ]
     },
     "metadata": {},
     "output_type": "display_data"
    },
    {
     "name": "stdout",
     "output_type": "stream",
     "text": [
      "Iteration 7, incumbent x=([0.4415000081062317, 0.8289999961853027, 0.0019000000320374966, 0.4074000120162964]), f(x)=-2.5888\n"
     ]
    },
    {
     "data": {
      "application/vnd.jupyter.widget-view+json": {
       "model_id": "9c1e328ec9b64dd58d9c9105863cf06e",
       "version_major": 2,
       "version_minor": 0
      },
      "text/plain": [
       "Training GP:   0%|          | 0/500 [00:00<?, ?it/s]"
      ]
     },
     "metadata": {},
     "output_type": "display_data"
    },
    {
     "name": "stdout",
     "output_type": "stream",
     "text": [
      "Iteration 8, incumbent x=([0.4431999921798706, 0.8395000100135803, 0.0, 0.4117000102996826]), f(x)=-2.6106\n"
     ]
    },
    {
     "data": {
      "application/vnd.jupyter.widget-view+json": {
       "model_id": "f5bab90ff5f043a0860bf20573953087",
       "version_major": 2,
       "version_minor": 0
      },
      "text/plain": [
       "Training GP:   0%|          | 0/500 [00:00<?, ?it/s]"
      ]
     },
     "metadata": {},
     "output_type": "display_data"
    },
    {
     "name": "stdout",
     "output_type": "stream",
     "text": [
      "Iteration 9, incumbent x=([0.4690000116825104, 0.8478999733924866, 0.0, 0.45260000228881836]), f(x)=-2.7312\n"
     ]
    },
    {
     "data": {
      "application/vnd.jupyter.widget-view+json": {
       "model_id": "176b06f138fa4f94a0df89d2a856c48c",
       "version_major": 2,
       "version_minor": 0
      },
      "text/plain": [
       "Training GP:   0%|          | 0/500 [00:00<?, ?it/s]"
      ]
     },
     "metadata": {},
     "output_type": "display_data"
    },
    {
     "name": "stdout",
     "output_type": "stream",
     "text": [
      "\n",
      "Run 8/10\n",
      "Initial points (x1, x2, x3, x4, f(x)):\n",
      "tensor([[ 0.6558,  0.3020,  0.4799,  0.7774, -0.3269],\n",
      "        [ 0.9180,  0.9310,  0.2604,  0.9534, -0.0096],\n",
      "        [ 0.3804,  0.4104,  0.9510,  0.5686, -2.0208],\n",
      "        [ 0.1381,  0.2069,  0.5139,  0.4850, -2.4758],\n",
      "        [ 0.5193,  0.3468,  0.4477,  0.6316, -1.0019],\n",
      "        [ 0.6947,  0.8215,  0.9111,  0.7315, -0.8057],\n",
      "        [ 0.4468,  0.0725,  0.9196,  0.7834, -0.4652],\n",
      "        [ 0.9715,  0.5964,  0.6265,  0.6688, -0.4740],\n",
      "        [ 0.8898,  0.8178,  0.7261,  0.4066, -0.3497],\n",
      "        [ 0.2465,  0.5823,  0.8214,  0.4866, -2.6258]])\n"
     ]
    },
    {
     "data": {
      "application/vnd.jupyter.widget-view+json": {
       "model_id": "3a08edc71fd24fe6b77f0f9494acffb3",
       "version_major": 2,
       "version_minor": 0
      },
      "text/plain": [
       "Training GP:   0%|          | 0/500 [00:00<?, ?it/s]"
      ]
     },
     "metadata": {},
     "output_type": "display_data"
    },
    {
     "name": "stdout",
     "output_type": "stream",
     "text": [
      "Iteration 0, incumbent x=([0.24650000035762787, 0.5823000073432922, 0.821399986743927, 0.48660001158714294]), f(x)=-2.6258\n"
     ]
    },
    {
     "data": {
      "application/vnd.jupyter.widget-view+json": {
       "model_id": "1bdbb4167f394acab7cf65d1e9282e7a",
       "version_major": 2,
       "version_minor": 0
      },
      "text/plain": [
       "Training GP:   0%|          | 0/500 [00:00<?, ?it/s]"
      ]
     },
     "metadata": {},
     "output_type": "display_data"
    },
    {
     "name": "stdout",
     "output_type": "stream",
     "text": [
      "Iteration 1, incumbent x=([0.24650000035762787, 0.5823000073432922, 0.821399986743927, 0.48660001158714294]), f(x)=-2.6258\n"
     ]
    },
    {
     "data": {
      "application/vnd.jupyter.widget-view+json": {
       "model_id": "555d1cff06744cd88bceb6820cde0e10",
       "version_major": 2,
       "version_minor": 0
      },
      "text/plain": [
       "Training GP:   0%|          | 0/500 [00:00<?, ?it/s]"
      ]
     },
     "metadata": {},
     "output_type": "display_data"
    },
    {
     "name": "stdout",
     "output_type": "stream",
     "text": [
      "Iteration 2, incumbent x=([0.27549999952316284, 0.5831999778747559, 0.8312000036239624, 0.49950000643730164]), f(x)=-2.7293\n"
     ]
    },
    {
     "data": {
      "application/vnd.jupyter.widget-view+json": {
       "model_id": "9394c7cd8f274d4ca9c1af040d96cd58",
       "version_major": 2,
       "version_minor": 0
      },
      "text/plain": [
       "Training GP:   0%|          | 0/500 [00:00<?, ?it/s]"
      ]
     },
     "metadata": {},
     "output_type": "display_data"
    },
    {
     "name": "stdout",
     "output_type": "stream",
     "text": [
      "Iteration 3, incumbent x=([0.30390000343322754, 0.5839999914169312, 0.8399999737739563, 0.5121999979019165]), f(x)=-2.8189\n"
     ]
    },
    {
     "data": {
      "application/vnd.jupyter.widget-view+json": {
       "model_id": "8e4ffd494c5a4472bcf7afc4d6674878",
       "version_major": 2,
       "version_minor": 0
      },
      "text/plain": [
       "Training GP:   0%|          | 0/500 [00:00<?, ?it/s]"
      ]
     },
     "metadata": {},
     "output_type": "display_data"
    },
    {
     "name": "stderr",
     "output_type": "stream",
     "text": [
      "/opt/anaconda3/envs/meng/lib/python3.10/site-packages/botorch/optim/optimize.py:677: RuntimeWarning: Optimization failed in `gen_candidates_scipy` with the following warning(s):\n",
      "[OptimizationWarning('Optimization failed within `scipy.optimize.minimize` with status 2 and message ABNORMAL_TERMINATION_IN_LNSRCH.')]\n",
      "Trying again with a new set of initial conditions.\n",
      "  return _optimize_acqf_batch(opt_inputs=opt_inputs)\n"
     ]
    },
    {
     "name": "stdout",
     "output_type": "stream",
     "text": [
      "Iteration 4, incumbent x=([0.3361999988555908, 0.5867999792098999, 0.8476999998092651, 0.5266000032424927]), f(x)=-2.9000\n"
     ]
    },
    {
     "data": {
      "application/vnd.jupyter.widget-view+json": {
       "model_id": "281bc18fce094543a3fb635b03afc7d8",
       "version_major": 2,
       "version_minor": 0
      },
      "text/plain": [
       "Training GP:   0%|          | 0/500 [00:00<?, ?it/s]"
      ]
     },
     "metadata": {},
     "output_type": "display_data"
    },
    {
     "name": "stdout",
     "output_type": "stream",
     "text": [
      "Iteration 5, incumbent x=([0.36899998784065247, 0.5947999954223633, 0.8515999913215637, 0.5407999753952026]), f(x)=-2.9616\n"
     ]
    },
    {
     "data": {
      "application/vnd.jupyter.widget-view+json": {
       "model_id": "a3b9be3506c043e38a356cf2c258c1ea",
       "version_major": 2,
       "version_minor": 0
      },
      "text/plain": [
       "Training GP:   0%|          | 0/500 [00:00<?, ?it/s]"
      ]
     },
     "metadata": {},
     "output_type": "display_data"
    },
    {
     "name": "stdout",
     "output_type": "stream",
     "text": [
      "Iteration 6, incumbent x=([0.3912999927997589, 0.6054999828338623, 0.850600004196167, 0.550000011920929]), f(x)=-2.9979\n"
     ]
    },
    {
     "data": {
      "application/vnd.jupyter.widget-view+json": {
       "model_id": "3cfd2097404d4eed9408261e963c65f5",
       "version_major": 2,
       "version_minor": 0
      },
      "text/plain": [
       "Training GP:   0%|          | 0/500 [00:00<?, ?it/s]"
      ]
     },
     "metadata": {},
     "output_type": "display_data"
    },
    {
     "name": "stdout",
     "output_type": "stream",
     "text": [
      "Iteration 7, incumbent x=([0.4023999869823456, 0.6186000108718872, 0.8440999984741211, 0.5529999732971191]), f(x)=-3.0412\n"
     ]
    },
    {
     "data": {
      "application/vnd.jupyter.widget-view+json": {
       "model_id": "c72a8c6b758a4e3d9cf61160925aae21",
       "version_major": 2,
       "version_minor": 0
      },
      "text/plain": [
       "Training GP:   0%|          | 0/500 [00:00<?, ?it/s]"
      ]
     },
     "metadata": {},
     "output_type": "display_data"
    },
    {
     "name": "stdout",
     "output_type": "stream",
     "text": [
      "Iteration 8, incumbent x=([0.40610000491142273, 0.6402999758720398, 0.8266000151634216, 0.5501000285148621]), f(x)=-3.1267\n"
     ]
    },
    {
     "data": {
      "application/vnd.jupyter.widget-view+json": {
       "model_id": "4eae525eab9a49f38e1ed066abd3bb78",
       "version_major": 2,
       "version_minor": 0
      },
      "text/plain": [
       "Training GP:   0%|          | 0/500 [00:00<?, ?it/s]"
      ]
     },
     "metadata": {},
     "output_type": "display_data"
    },
    {
     "name": "stdout",
     "output_type": "stream",
     "text": [
      "Iteration 9, incumbent x=([0.40860000252723694, 0.6699000000953674, 0.7990000247955322, 0.5437999963760376]), f(x)=-3.2313\n"
     ]
    },
    {
     "name": "stderr",
     "output_type": "stream",
     "text": [
      "/opt/anaconda3/envs/meng/lib/python3.10/site-packages/botorch/optim/optimize.py:677: RuntimeWarning: Optimization failed in `gen_candidates_scipy` with the following warning(s):\n",
      "[OptimizationWarning('Optimization failed within `scipy.optimize.minimize` with status 2 and message ABNORMAL_TERMINATION_IN_LNSRCH.')]\n",
      "Trying again with a new set of initial conditions.\n",
      "  return _optimize_acqf_batch(opt_inputs=opt_inputs)\n"
     ]
    },
    {
     "data": {
      "application/vnd.jupyter.widget-view+json": {
       "model_id": "596d53c143b24dba9cef49d2e2687f32",
       "version_major": 2,
       "version_minor": 0
      },
      "text/plain": [
       "Training GP:   0%|          | 0/500 [00:00<?, ?it/s]"
      ]
     },
     "metadata": {},
     "output_type": "display_data"
    },
    {
     "name": "stdout",
     "output_type": "stream",
     "text": [
      "\n",
      "Run 9/10\n",
      "Initial points (x1, x2, x3, x4, f(x)):\n",
      "tensor([[ 0.4581,  0.4829,  0.3125,  0.6150, -1.4531],\n",
      "        [ 0.2139,  0.4118,  0.6938,  0.9693, -0.9451],\n",
      "        [ 0.6178,  0.3304,  0.5479,  0.4440, -1.6984],\n",
      "        [ 0.7041,  0.5573,  0.6959,  0.9849, -0.7439],\n",
      "        [ 0.2924,  0.4823,  0.6150,  0.4967, -2.5776],\n",
      "        [ 0.4521,  0.0575,  0.0687,  0.0501, -1.2603],\n",
      "        [ 0.0108,  0.0343,  0.1212,  0.0490, -1.3061],\n",
      "        [ 0.0310,  0.7192,  0.8067,  0.8379, -0.6162],\n",
      "        [ 0.7694,  0.6694,  0.7203,  0.2235, -0.9407],\n",
      "        [ 0.9502,  0.4655,  0.9314,  0.6533, -1.0227]])\n"
     ]
    },
    {
     "data": {
      "application/vnd.jupyter.widget-view+json": {
       "model_id": "5bdb65a3733246d2ad56c4ce6427c0c4",
       "version_major": 2,
       "version_minor": 0
      },
      "text/plain": [
       "Training GP:   0%|          | 0/500 [00:00<?, ?it/s]"
      ]
     },
     "metadata": {},
     "output_type": "display_data"
    },
    {
     "name": "stdout",
     "output_type": "stream",
     "text": [
      "Iteration 0, incumbent x=([0.2924000024795532, 0.4823000133037567, 0.6150000095367432, 0.4966999888420105]), f(x)=-2.5776\n"
     ]
    },
    {
     "data": {
      "application/vnd.jupyter.widget-view+json": {
       "model_id": "81c81985e29d4e56bd5cdcabe4d5ebf5",
       "version_major": 2,
       "version_minor": 0
      },
      "text/plain": [
       "Training GP:   0%|          | 0/500 [00:00<?, ?it/s]"
      ]
     },
     "metadata": {},
     "output_type": "display_data"
    },
    {
     "name": "stdout",
     "output_type": "stream",
     "text": [
      "Iteration 1, incumbent x=([0.29670000076293945, 0.4772000014781952, 0.614799976348877, 0.48890000581741333]), f(x)=-2.6163\n"
     ]
    },
    {
     "data": {
      "application/vnd.jupyter.widget-view+json": {
       "model_id": "34f8072f9def421b98b33e5c4208b4d6",
       "version_major": 2,
       "version_minor": 0
      },
      "text/plain": [
       "Training GP:   0%|          | 0/500 [00:00<?, ?it/s]"
      ]
     },
     "metadata": {},
     "output_type": "display_data"
    },
    {
     "name": "stdout",
     "output_type": "stream",
     "text": [
      "Iteration 2, incumbent x=([0.30869999527931213, 0.46149998903274536, 0.6150000095367432, 0.4650999903678894]), f(x)=-2.7291\n"
     ]
    },
    {
     "data": {
      "application/vnd.jupyter.widget-view+json": {
       "model_id": "15f86435ed5048089c73edb5fd8e71e4",
       "version_major": 2,
       "version_minor": 0
      },
      "text/plain": [
       "Training GP:   0%|          | 0/500 [00:00<?, ?it/s]"
      ]
     },
     "metadata": {},
     "output_type": "display_data"
    },
    {
     "name": "stdout",
     "output_type": "stream",
     "text": [
      "Iteration 3, incumbent x=([0.3215999901294708, 0.4438999891281128, 0.6157000064849854, 0.438400000333786]), f(x)=-2.8459\n"
     ]
    },
    {
     "data": {
      "application/vnd.jupyter.widget-view+json": {
       "model_id": "1e0d9a86ab8e4936aa36867a52bf4f17",
       "version_major": 2,
       "version_minor": 0
      },
      "text/plain": [
       "Training GP:   0%|          | 0/500 [00:00<?, ?it/s]"
      ]
     },
     "metadata": {},
     "output_type": "display_data"
    },
    {
     "name": "stdout",
     "output_type": "stream",
     "text": [
      "Iteration 4, incumbent x=([0.33180001378059387, 0.42480000853538513, 0.617900013923645, 0.40860000252723694]), f(x)=-2.9684\n"
     ]
    },
    {
     "data": {
      "application/vnd.jupyter.widget-view+json": {
       "model_id": "75f37d1c493641e78753732826e3eb58",
       "version_major": 2,
       "version_minor": 0
      },
      "text/plain": [
       "Training GP:   0%|          | 0/500 [00:00<?, ?it/s]"
      ]
     },
     "metadata": {},
     "output_type": "display_data"
    },
    {
     "name": "stdout",
     "output_type": "stream",
     "text": [
      "Iteration 5, incumbent x=([0.33629998564720154, 0.40380001068115234, 0.6220999956130981, 0.36970001459121704]), f(x)=-3.1154\n"
     ]
    },
    {
     "data": {
      "application/vnd.jupyter.widget-view+json": {
       "model_id": "db39582d36b04fe4b2826c9bd3e77d95",
       "version_major": 2,
       "version_minor": 0
      },
      "text/plain": [
       "Training GP:   0%|          | 0/500 [00:00<?, ?it/s]"
      ]
     },
     "metadata": {},
     "output_type": "display_data"
    },
    {
     "name": "stdout",
     "output_type": "stream",
     "text": [
      "Iteration 6, incumbent x=([0.3296999931335449, 0.3765999972820282, 0.630299985408783, 0.30970001220703125]), f(x)=-3.2927\n"
     ]
    },
    {
     "data": {
      "application/vnd.jupyter.widget-view+json": {
       "model_id": "8f703ac655024a78bbb9b684ab98dfc0",
       "version_major": 2,
       "version_minor": 0
      },
      "text/plain": [
       "Training GP:   0%|          | 0/500 [00:00<?, ?it/s]"
      ]
     },
     "metadata": {},
     "output_type": "display_data"
    },
    {
     "name": "stdout",
     "output_type": "stream",
     "text": [
      "Iteration 7, incumbent x=([0.3179999887943268, 0.36149999499320984, 0.635699987411499, 0.2745000123977661]), f(x)=-3.3595\n"
     ]
    },
    {
     "data": {
      "application/vnd.jupyter.widget-view+json": {
       "model_id": "4ebdf9158cd6437798f617e4c7ad047b",
       "version_major": 2,
       "version_minor": 0
      },
      "text/plain": [
       "Training GP:   0%|          | 0/500 [00:00<?, ?it/s]"
      ]
     },
     "metadata": {},
     "output_type": "display_data"
    },
    {
     "name": "stdout",
     "output_type": "stream",
     "text": [
      "Iteration 8, incumbent x=([0.3052999973297119, 0.3522000014781952, 0.6398000121116638, 0.25130000710487366]), f(x)=-3.3876\n"
     ]
    },
    {
     "data": {
      "application/vnd.jupyter.widget-view+json": {
       "model_id": "66d4ec02ecfd4bf98d7b8c553fc87c0b",
       "version_major": 2,
       "version_minor": 0
      },
      "text/plain": [
       "Training GP:   0%|          | 0/500 [00:00<?, ?it/s]"
      ]
     },
     "metadata": {},
     "output_type": "display_data"
    },
    {
     "name": "stdout",
     "output_type": "stream",
     "text": [
      "Iteration 9, incumbent x=([0.2937000095844269, 0.3474999964237213, 0.6427000164985657, 0.23980000615119934]), f(x)=-3.4053\n"
     ]
    },
    {
     "data": {
      "application/vnd.jupyter.widget-view+json": {
       "model_id": "1727bec00e254d64ad903328bfacf2e7",
       "version_major": 2,
       "version_minor": 0
      },
      "text/plain": [
       "Training GP:   0%|          | 0/500 [00:00<?, ?it/s]"
      ]
     },
     "metadata": {},
     "output_type": "display_data"
    },
    {
     "name": "stdout",
     "output_type": "stream",
     "text": [
      "\n",
      "Run 10/10\n",
      "Initial points (x1, x2, x3, x4, f(x)):\n",
      "tensor([[ 0.1490,  0.4866,  0.9857,  0.1684, -1.6947],\n",
      "        [ 0.5839,  0.6936,  0.5831,  0.1284, -0.9475],\n",
      "        [ 0.5721,  0.9248,  0.2693,  0.7825, -1.2703],\n",
      "        [ 0.2719,  0.4632,  0.7671,  0.5024, -2.7595],\n",
      "        [ 0.1025,  0.7600,  0.8035,  0.7653, -0.8400],\n",
      "        [ 0.8709,  0.7231,  0.8364,  0.5820, -0.5922],\n",
      "        [ 0.8395,  0.0595,  0.4315,  0.4425, -0.7871],\n",
      "        [ 0.2622,  0.6301,  0.8775,  0.1626, -1.7434],\n",
      "        [ 0.2438,  0.3382,  0.8847,  0.0763, -2.2506],\n",
      "        [ 0.9900,  0.1944,  0.4256,  0.4382, -0.4700]])\n"
     ]
    },
    {
     "data": {
      "application/vnd.jupyter.widget-view+json": {
       "model_id": "0cfb8dba09c045228237f4e3e10219b1",
       "version_major": 2,
       "version_minor": 0
      },
      "text/plain": [
       "Training GP:   0%|          | 0/500 [00:00<?, ?it/s]"
      ]
     },
     "metadata": {},
     "output_type": "display_data"
    },
    {
     "name": "stdout",
     "output_type": "stream",
     "text": [
      "Iteration 0, incumbent x=([0.2718999981880188, 0.46320000290870667, 0.7670999765396118, 0.5023999810218811]), f(x)=-2.7595\n"
     ]
    },
    {
     "data": {
      "application/vnd.jupyter.widget-view+json": {
       "model_id": "6d11bfd2941f4e10acb9a945db7b7da2",
       "version_major": 2,
       "version_minor": 0
      },
      "text/plain": [
       "Training GP:   0%|          | 0/500 [00:00<?, ?it/s]"
      ]
     },
     "metadata": {},
     "output_type": "display_data"
    },
    {
     "name": "stdout",
     "output_type": "stream",
     "text": [
      "Iteration 1, incumbent x=([0.2766000032424927, 0.44760000705718994, 0.7631999850273132, 0.49239999055862427]), f(x)=-2.8042\n"
     ]
    },
    {
     "data": {
      "application/vnd.jupyter.widget-view+json": {
       "model_id": "31d7379bea334b0ea579ab9dc702a9d3",
       "version_major": 2,
       "version_minor": 0
      },
      "text/plain": [
       "Training GP:   0%|          | 0/500 [00:00<?, ?it/s]"
      ]
     },
     "metadata": {},
     "output_type": "display_data"
    },
    {
     "name": "stdout",
     "output_type": "stream",
     "text": [
      "Iteration 2, incumbent x=([0.28540000319480896, 0.4165000021457672, 0.754800021648407, 0.4733000099658966]), f(x)=-2.8855\n"
     ]
    },
    {
     "data": {
      "application/vnd.jupyter.widget-view+json": {
       "model_id": "85c4ea515b6a4aa1b41ca078c306755d",
       "version_major": 2,
       "version_minor": 0
      },
      "text/plain": [
       "Training GP:   0%|          | 0/500 [00:00<?, ?it/s]"
      ]
     },
     "metadata": {},
     "output_type": "display_data"
    },
    {
     "name": "stdout",
     "output_type": "stream",
     "text": [
      "Iteration 3, incumbent x=([0.29409998655319214, 0.38420000672340393, 0.7458000183105469, 0.45410001277923584]), f(x)=-2.9620\n"
     ]
    },
    {
     "data": {
      "application/vnd.jupyter.widget-view+json": {
       "model_id": "c340987af9e1492a8b8972f3aa25f250",
       "version_major": 2,
       "version_minor": 0
      },
      "text/plain": [
       "Training GP:   0%|          | 0/500 [00:00<?, ?it/s]"
      ]
     },
     "metadata": {},
     "output_type": "display_data"
    },
    {
     "name": "stdout",
     "output_type": "stream",
     "text": [
      "Iteration 4, incumbent x=([0.30219998955726624, 0.35040000081062317, 0.7355999946594238, 0.43560001254081726]), f(x)=-3.0279\n"
     ]
    },
    {
     "data": {
      "application/vnd.jupyter.widget-view+json": {
       "model_id": "85072f9fd78f405d8e2baf227f7020fe",
       "version_major": 2,
       "version_minor": 0
      },
      "text/plain": [
       "Training GP:   0%|          | 0/500 [00:00<?, ?it/s]"
      ]
     },
     "metadata": {},
     "output_type": "display_data"
    },
    {
     "name": "stdout",
     "output_type": "stream",
     "text": [
      "Iteration 5, incumbent x=([0.3086000084877014, 0.3116999864578247, 0.7232999801635742, 0.41670000553131104]), f(x)=-3.0850\n"
     ]
    },
    {
     "data": {
      "application/vnd.jupyter.widget-view+json": {
       "model_id": "340e4770f80a499da45b4ff7c03cc6fa",
       "version_major": 2,
       "version_minor": 0
      },
      "text/plain": [
       "Training GP:   0%|          | 0/500 [00:00<?, ?it/s]"
      ]
     },
     "metadata": {},
     "output_type": "display_data"
    },
    {
     "name": "stdout",
     "output_type": "stream",
     "text": [
      "Iteration 6, incumbent x=([0.3116999864578247, 0.27000001072883606, 0.7099000215530396, 0.39890000224113464]), f(x)=-3.1281\n"
     ]
    },
    {
     "data": {
      "application/vnd.jupyter.widget-view+json": {
       "model_id": "7521a36fef224e91a7baa3f0c1147f1e",
       "version_major": 2,
       "version_minor": 0
      },
      "text/plain": [
       "Training GP:   0%|          | 0/500 [00:00<?, ?it/s]"
      ]
     },
     "metadata": {},
     "output_type": "display_data"
    },
    {
     "name": "stdout",
     "output_type": "stream",
     "text": [
      "Iteration 7, incumbent x=([0.3084999918937683, 0.23280000686645508, 0.6984999775886536, 0.38510000705718994]), f(x)=-3.1573\n"
     ]
    },
    {
     "data": {
      "application/vnd.jupyter.widget-view+json": {
       "model_id": "43bcba33392c456b98867ed2511cb32e",
       "version_major": 2,
       "version_minor": 0
      },
      "text/plain": [
       "Training GP:   0%|          | 0/500 [00:00<?, ?it/s]"
      ]
     },
     "metadata": {},
     "output_type": "display_data"
    },
    {
     "name": "stdout",
     "output_type": "stream",
     "text": [
      "Iteration 8, incumbent x=([0.296999990940094, 0.20360000431537628, 0.6905999779701233, 0.37560001015663147]), f(x)=-3.1840\n"
     ]
    },
    {
     "data": {
      "application/vnd.jupyter.widget-view+json": {
       "model_id": "42c503733664447d93ab450129521991",
       "version_major": 2,
       "version_minor": 0
      },
      "text/plain": [
       "Training GP:   0%|          | 0/500 [00:00<?, ?it/s]"
      ]
     },
     "metadata": {},
     "output_type": "display_data"
    },
    {
     "name": "stdout",
     "output_type": "stream",
     "text": [
      "Iteration 9, incumbent x=([0.2759000062942505, 0.18029999732971191, 0.6852999925613403, 0.3700000047683716]), f(x)=-3.2106\n"
     ]
    },
    {
     "data": {
      "application/vnd.jupyter.widget-view+json": {
       "model_id": "92040699222e4e918668d5aa1892d3c4",
       "version_major": 2,
       "version_minor": 0
      },
      "text/plain": [
       "Training GP:   0%|          | 0/500 [00:00<?, ?it/s]"
      ]
     },
     "metadata": {},
     "output_type": "display_data"
    }
   ],
   "source": [
    "import torch\n",
    "import gpytorch\n",
    "import botorch\n",
    "import matplotlib.pyplot as plt\n",
    "import numpy as np\n",
    "\n",
    "plt.style.use(\"bmh\")\n",
    "\n",
    "from tqdm.notebook import tqdm\n",
    "\n",
    "class Hartmann:\n",
    "    \"\"\"Generic Hartmann in 3,4,6 dims on [0,1]^d.\"\"\"\n",
    "    _params = {\n",
    "        3: {\n",
    "            \"alpha\": torch.tensor([1.0,1.2,3.0,3.2]),\n",
    "            \"A\":     torch.tensor([[3.0,10,30],\n",
    "                                   [0.1,10,35],\n",
    "                                   [3.0,10,30],\n",
    "                                   [0.1,10,35]]),\n",
    "            \"P\":     torch.tensor([[3689,1170,2673],\n",
    "                                   [4699,4387,7470],\n",
    "                                   [1091,8732,5547],\n",
    "                                   [381,5743,8828]]) * 1e-4\n",
    "        },\n",
    "        4: {\n",
    "            \"alpha\": torch.tensor([1.0,1.2,3.0,3.2]),\n",
    "            \"A\":     torch.tensor([[10,3,17,3.5],\n",
    "                                   [0.05,10,17,0.1],\n",
    "                                   [3,3.5,1.7,10],\n",
    "                                   [17,8,0.05,10]]),\n",
    "            \"P\":     torch.tensor([[1312,1696,5569,124],\n",
    "                                   [2329,4135,8307,3736],\n",
    "                                   [2348,1451,3522,2883],\n",
    "                                   [4047,8828,8732,5743]]) * 1e-4\n",
    "        },\n",
    "        6: {\n",
    "            \"alpha\": torch.tensor([1.0,1.2,3.0,3.2]),\n",
    "            \"A\":     torch.tensor([[10,3,17,3.5,1.7,8],\n",
    "                                   [0.05,10,17,0.1,8,14],\n",
    "                                   [3,3.5,1.7,10,17,8],\n",
    "                                   [17,8,0.05,10,0.1,14]]),\n",
    "            \"P\":     torch.tensor([[1312,1696,5569,124,8283,5886],\n",
    "                                   [2329,4135,8307,3736,1004,9991],\n",
    "                                   [2348,1451,3522,2883,3047,6650],\n",
    "                                   [4047,8828,8732,5743,1091,381]]) * 1e-4\n",
    "        }\n",
    "    }\n",
    "\n",
    "    def __init__(self, dim=3):\n",
    "        assert dim in (3,4,6)\n",
    "        p = self._params[dim]\n",
    "        self.alpha, self.A, self.P = p[\"alpha\"], p[\"A\"], p[\"P\"]\n",
    "        self.bounds = torch.stack([torch.zeros(dim), torch.ones(dim)])\n",
    "\n",
    "    def __call__(self, x: torch.Tensor) -> torch.Tensor:\n",
    "        # x: (..., d)\n",
    "        d = x.size(-1)\n",
    "        inner = ((x.unsqueeze(-2) - self.P)**2 * self.A).sum(dim=-1)  # (..., 4)\n",
    "        return -(self.alpha * torch.exp(-inner)).sum(dim=-1)\n",
    "\n",
    "def visualize_gp_belief_and_policy(model, likelihood, policy=None, next_x=None):\n",
    "    # Disabled for 4D Hartmann function; kept for compatibility\n",
    "    pass\n",
    "\n",
    "class GPModel(gpytorch.models.ExactGP, botorch.models.gpytorch.GPyTorchModel):\n",
    "    _num_outputs = 1\n",
    "\n",
    "    def __init__(self, train_x, train_y, likelihood):\n",
    "        super().__init__(train_x, train_y, likelihood)\n",
    "        self.mean_module = gpytorch.means.ConstantMean()\n",
    "        self.covar_module = gpytorch.kernels.ScaleKernel(gpytorch.kernels.RBFKernel())\n",
    "\n",
    "    def forward(self, x):\n",
    "        mean_x = self.mean_module(x)\n",
    "        covar_x = self.covar_module(x)\n",
    "        return gpytorch.distributions.MultivariateNormal(mean_x, covar_x)\n",
    "\n",
    "def fit_gp_model(train_x, train_y, num_train_iters=500):\n",
    "    # Declare the GP\n",
    "    noise = 1e-4\n",
    "\n",
    "    likelihood = gpytorch.likelihoods.GaussianLikelihood()\n",
    "    model = GPModel(train_x, train_y, likelihood)\n",
    "    model.likelihood.noise = noise\n",
    "\n",
    "    # Train the hyperparameters\n",
    "    optimizer = torch.optim.Adam(model.parameters(), lr=0.01)\n",
    "    mll = gpytorch.mlls.ExactMarginalLogLikelihood(likelihood, model)\n",
    "\n",
    "    model.train()\n",
    "    likelihood.train()\n",
    "\n",
    "    for i in tqdm(range(num_train_iters), desc=\"Training GP\"):\n",
    "        optimizer.zero_grad()\n",
    "\n",
    "        output = model(train_x)\n",
    "        loss = -mll(output, train_y)\n",
    "\n",
    "        loss.backward()\n",
    "        optimizer.step()\n",
    "\n",
    "    model.eval()\n",
    "    likelihood.eval()\n",
    "\n",
    "    return model, likelihood\n",
    "\n",
    "# Initialize Hartmann function (4D) and bounds\n",
    "hartmann = Hartmann(dim=4)\n",
    "bounds = hartmann.bounds  # [[0, 0, 0, 0], [1, 1, 1, 1]]\n",
    "\n",
    "# Parameters\n",
    "n_initial_points = 10\n",
    "num_queries = 10\n",
    "num_runs = 10\n",
    "\n",
    "# Store minimum f(x) for each run\n",
    "all_min_f_values = []\n",
    "\n",
    "for run in range(num_runs):\n",
    "    print(f\"\\nRun {run + 1}/{num_runs}\")\n",
    "    \n",
    "    # Set different random seed for each run\n",
    "    torch.manual_seed(2 + run)\n",
    "    \n",
    "    # Initialize with 10 random points in [0, 1]^4\n",
    "    train_x = torch.rand(size=(n_initial_points, 4))  # Uniformly sampled in [0, 1]^4\n",
    "    train_y = hartmann(train_x)\n",
    "\n",
    "    # Print initial points and their function values\n",
    "    print(\"Initial points (x1, x2, x3, x4, f(x)):\")\n",
    "    print(torch.hstack([train_x, train_y.unsqueeze(1)]))\n",
    "\n",
    "    # Fit initial GP model\n",
    "    model, likelihood = fit_gp_model(train_x, train_y)\n",
    "\n",
    "    # Track minimum f(x) for this run\n",
    "    min_f_values = [train_y.min().item()]\n",
    "\n",
    "    # Run Bayesian optimization\n",
    "    for i in range(num_queries):\n",
    "        print(f\"Iteration {i}, incumbent x=({train_x[train_y.argmin()].numpy().round(4).tolist()}), f(x)={train_y.min().item():.4f}\")\n",
    "\n",
    "        model, likelihood = fit_gp_model(train_x, train_y)\n",
    "\n",
    "        policy = botorch.acquisition.analytic.ProbabilityOfImprovement(\n",
    "            model, best_f=train_y.min(), maximize=False\n",
    "        )\n",
    "        \n",
    "        next_x, acq_val = botorch.optim.optimize_acqf(\n",
    "            policy,\n",
    "            bounds=bounds,\n",
    "            q=1,\n",
    "            num_restarts=20,\n",
    "            raw_samples=50,\n",
    "        )\n",
    "\n",
    "        next_y = hartmann(next_x)\n",
    "\n",
    "        # Ensure next_y is 1D with shape (1,)\n",
    "        next_y = next_y.unsqueeze(0) if next_y.dim() == 0 else next_y\n",
    "\n",
    "        train_x = torch.cat([train_x, next_x])\n",
    "        train_y = torch.cat([train_y, next_y])\n",
    "        \n",
    "        # Store the minimum f(x)\n",
    "        min_f_values.append(train_y.min().item())\n",
    "\n",
    "    # Store results for this run\n",
    "    all_min_f_values.append(min_f_values)\n",
    "\n",
    "    # Plot minimum f(x) vs iteration for this run\n",
    "    plt.figure(figsize=(8, 6))\n",
    "    plt.plot(range(num_queries + 1), min_f_values, marker='o', linestyle='-', color='b')\n",
    "    plt.xlabel('Iteration')\n",
    "    plt.ylabel('Minimum f(x)')\n",
    "    plt.title(f'Minimum f(x) vs Iteration (Run {run + 1})')\n",
    "    plt.grid(True)\n",
    "    plt.savefig(f'min_f_vs_iteration_run_{run + 1}.png')\n",
    "    plt.close()\n",
    "\n",
    "# Convert to numpy array for easier computation\n",
    "all_min_f_values = np.array(all_min_f_values)  # Shape: (num_runs, num_queries + 1)\n",
    "\n",
    "# Compute mean, std, and 95% CI\n",
    "mean_f = np.mean(all_min_f_values, axis=0)\n",
    "std_f = np.std(all_min_f_values, axis=0)\n",
    "ci_95 = 1.96 * std_f / np.sqrt(num_runs)  # 95% CI: z=1.96 for normal distribution\n",
    "\n",
    "# Plot convergence with mean, std, and CI\n",
    "plt.figure(figsize=(10, 6))\n",
    "iterations = range(num_queries + 1)\n",
    "\n",
    "# Plot mean\n",
    "plt.plot(iterations, mean_f, marker='o', linestyle='-', color='b', label='Mean Minimum f(x)')\n",
    "\n",
    "# Plot 95% CI\n",
    "plt.fill_between(\n",
    "    iterations,\n",
    "    mean_f - ci_95,\n",
    "    mean_f + ci_95,\n",
    "    color='b',\n",
    "    alpha=0.2,\n",
    "    label='95% Confidence Interval'\n",
    ")\n",
    "\n",
    "# Plot mean ± std\n",
    "plt.fill_between(\n",
    "    iterations,\n",
    "    mean_f - std_f,\n",
    "    mean_f + std_f,\n",
    "    color='g',\n",
    "    alpha=0.1,\n",
    "    label='Mean ± Std'\n",
    ")\n",
    "\n",
    "plt.xlabel('Iteration')\n",
    "plt.ylabel('Minimum f(x)')\n",
    "plt.title('Convergence Plot: Mean, Std, and 95% CI over 10 Runs (Hartmann 4D)')\n",
    "plt.grid(True)\n",
    "plt.legend()\n",
    "plt.savefig('convergence_plot.png')\n",
    "plt.close()"
   ]
  }
 ],
 "metadata": {
  "kernelspec": {
   "display_name": "meng",
   "language": "python",
   "name": "python3"
  },
  "language_info": {
   "codemirror_mode": {
    "name": "ipython",
    "version": 3
   },
   "file_extension": ".py",
   "mimetype": "text/x-python",
   "name": "python",
   "nbconvert_exporter": "python",
   "pygments_lexer": "ipython3",
   "version": "3.10.16"
  }
 },
 "nbformat": 4,
 "nbformat_minor": 2
}
