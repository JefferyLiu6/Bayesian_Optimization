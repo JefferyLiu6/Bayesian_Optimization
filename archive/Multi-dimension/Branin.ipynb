{
 "cells": [
  {
   "cell_type": "code",
   "execution_count": 11,
   "metadata": {},
   "outputs": [
    {
     "name": "stdout",
     "output_type": "stream",
     "text": [
      "\n",
      "Run 1/10\n",
      "Initial points (x1, x2, f(x)):\n",
      "tensor([[ 4.2204,  5.7152, 22.5310],\n",
      "        [ 4.5567,  7.1169, 40.8511],\n",
      "        [ 5.7039,  9.2855, 84.6316],\n",
      "        [ 1.6380,  1.4365, 14.6597],\n",
      "        [ 4.2124,  0.8599,  5.9265],\n",
      "        [ 3.4857,  7.9984, 36.6794],\n",
      "        [ 0.8508, 13.6327, 95.4217],\n",
      "        [ 3.0005, 10.6101, 68.1029],\n",
      "        [ 5.6740,  3.0755, 21.6653],\n",
      "        [-0.3833, 14.7129, 84.2555]])\n"
     ]
    },
    {
     "data": {
      "application/vnd.jupyter.widget-view+json": {
       "model_id": "fe48d74e7b5c4a4c99dbda40d0b41556",
       "version_major": 2,
       "version_minor": 0
      },
      "text/plain": [
       "Training GP:   0%|          | 0/500 [00:00<?, ?it/s]"
      ]
     },
     "metadata": {},
     "output_type": "display_data"
    },
    {
     "name": "stdout",
     "output_type": "stream",
     "text": [
      "Iteration 0, incumbent x=(4.2124, 0.8599), f(x)=5.9265\n"
     ]
    },
    {
     "data": {
      "application/vnd.jupyter.widget-view+json": {
       "model_id": "6427bd49d2744f5f93759950dc6b7b7f",
       "version_major": 2,
       "version_minor": 0
      },
      "text/plain": [
       "Training GP:   0%|          | 0/500 [00:00<?, ?it/s]"
      ]
     },
     "metadata": {},
     "output_type": "display_data"
    },
    {
     "name": "stdout",
     "output_type": "stream",
     "text": [
      "Iteration 1, incumbent x=(4.2124, 0.8599), f(x)=5.9265\n"
     ]
    },
    {
     "data": {
      "application/vnd.jupyter.widget-view+json": {
       "model_id": "3897a843101344899577b27f52a69914",
       "version_major": 2,
       "version_minor": 0
      },
      "text/plain": [
       "Training GP:   0%|          | 0/500 [00:00<?, ?it/s]"
      ]
     },
     "metadata": {},
     "output_type": "display_data"
    },
    {
     "name": "stdout",
     "output_type": "stream",
     "text": [
      "Iteration 2, incumbent x=(4.2124, 0.8599), f(x)=5.9265\n"
     ]
    },
    {
     "data": {
      "application/vnd.jupyter.widget-view+json": {
       "model_id": "1e92888d0fa24a8582da0ebad912ce3f",
       "version_major": 2,
       "version_minor": 0
      },
      "text/plain": [
       "Training GP:   0%|          | 0/500 [00:00<?, ?it/s]"
      ]
     },
     "metadata": {},
     "output_type": "display_data"
    },
    {
     "name": "stdout",
     "output_type": "stream",
     "text": [
      "Iteration 3, incumbent x=(4.2124, 0.8599), f(x)=5.9265\n"
     ]
    },
    {
     "data": {
      "application/vnd.jupyter.widget-view+json": {
       "model_id": "dd87b98077c7481283d6d4228f964021",
       "version_major": 2,
       "version_minor": 0
      },
      "text/plain": [
       "Training GP:   0%|          | 0/500 [00:00<?, ?it/s]"
      ]
     },
     "metadata": {},
     "output_type": "display_data"
    },
    {
     "name": "stdout",
     "output_type": "stream",
     "text": [
      "Iteration 4, incumbent x=(4.2124, 0.8599), f(x)=5.9265\n"
     ]
    },
    {
     "data": {
      "application/vnd.jupyter.widget-view+json": {
       "model_id": "d0d122ac0b484e51a1f756e21a73e1b2",
       "version_major": 2,
       "version_minor": 0
      },
      "text/plain": [
       "Training GP:   0%|          | 0/500 [00:00<?, ?it/s]"
      ]
     },
     "metadata": {},
     "output_type": "display_data"
    },
    {
     "name": "stdout",
     "output_type": "stream",
     "text": [
      "Iteration 5, incumbent x=(3.5222, 1.5588), f(x)=1.2770\n"
     ]
    },
    {
     "data": {
      "application/vnd.jupyter.widget-view+json": {
       "model_id": "ae1fde97b8c2481f8145e4d56e4dd1e4",
       "version_major": 2,
       "version_minor": 0
      },
      "text/plain": [
       "Training GP:   0%|          | 0/500 [00:00<?, ?it/s]"
      ]
     },
     "metadata": {},
     "output_type": "display_data"
    },
    {
     "name": "stdout",
     "output_type": "stream",
     "text": [
      "Iteration 6, incumbent x=(3.5222, 1.5588), f(x)=1.2770\n"
     ]
    },
    {
     "data": {
      "application/vnd.jupyter.widget-view+json": {
       "model_id": "03ff66fa3fd74683a35173cf4fe4b96f",
       "version_major": 2,
       "version_minor": 0
      },
      "text/plain": [
       "Training GP:   0%|          | 0/500 [00:00<?, ?it/s]"
      ]
     },
     "metadata": {},
     "output_type": "display_data"
    },
    {
     "name": "stdout",
     "output_type": "stream",
     "text": [
      "Iteration 7, incumbent x=(3.3198, 1.8542), f(x)=0.6317\n"
     ]
    },
    {
     "data": {
      "application/vnd.jupyter.widget-view+json": {
       "model_id": "e7a70eda12724c09bd53db37e96070d9",
       "version_major": 2,
       "version_minor": 0
      },
      "text/plain": [
       "Training GP:   0%|          | 0/500 [00:00<?, ?it/s]"
      ]
     },
     "metadata": {},
     "output_type": "display_data"
    },
    {
     "name": "stdout",
     "output_type": "stream",
     "text": [
      "Iteration 8, incumbent x=(3.3198, 1.8542), f(x)=0.6317\n"
     ]
    },
    {
     "data": {
      "application/vnd.jupyter.widget-view+json": {
       "model_id": "9ebb54190a744a2ab3e0bf123e914957",
       "version_major": 2,
       "version_minor": 0
      },
      "text/plain": [
       "Training GP:   0%|          | 0/500 [00:00<?, ?it/s]"
      ]
     },
     "metadata": {},
     "output_type": "display_data"
    },
    {
     "name": "stdout",
     "output_type": "stream",
     "text": [
      "Iteration 9, incumbent x=(3.3198, 1.8542), f(x)=0.6317\n"
     ]
    },
    {
     "data": {
      "application/vnd.jupyter.widget-view+json": {
       "model_id": "6fa6ca3d04534fa39bc0efad45aa8910",
       "version_major": 2,
       "version_minor": 0
      },
      "text/plain": [
       "Training GP:   0%|          | 0/500 [00:00<?, ?it/s]"
      ]
     },
     "metadata": {},
     "output_type": "display_data"
    },
    {
     "name": "stdout",
     "output_type": "stream",
     "text": [
      "Iteration 10, incumbent x=(3.3198, 1.8542), f(x)=0.6317\n"
     ]
    },
    {
     "data": {
      "application/vnd.jupyter.widget-view+json": {
       "model_id": "f5713d553fd345ba84775ff18115bd0e",
       "version_major": 2,
       "version_minor": 0
      },
      "text/plain": [
       "Training GP:   0%|          | 0/500 [00:00<?, ?it/s]"
      ]
     },
     "metadata": {},
     "output_type": "display_data"
    },
    {
     "name": "stdout",
     "output_type": "stream",
     "text": [
      "Iteration 11, incumbent x=(3.3198, 1.8542), f(x)=0.6317\n"
     ]
    },
    {
     "data": {
      "application/vnd.jupyter.widget-view+json": {
       "model_id": "74a0272e9dc74266beda49efc11e4a3f",
       "version_major": 2,
       "version_minor": 0
      },
      "text/plain": [
       "Training GP:   0%|          | 0/500 [00:00<?, ?it/s]"
      ]
     },
     "metadata": {},
     "output_type": "display_data"
    },
    {
     "name": "stdout",
     "output_type": "stream",
     "text": [
      "Iteration 12, incumbent x=(3.3198, 1.8542), f(x)=0.6317\n"
     ]
    },
    {
     "data": {
      "application/vnd.jupyter.widget-view+json": {
       "model_id": "926c2ff5a9084575b61c186273cd62fe",
       "version_major": 2,
       "version_minor": 0
      },
      "text/plain": [
       "Training GP:   0%|          | 0/500 [00:00<?, ?it/s]"
      ]
     },
     "metadata": {},
     "output_type": "display_data"
    },
    {
     "name": "stdout",
     "output_type": "stream",
     "text": [
      "Iteration 13, incumbent x=(3.3198, 1.8542), f(x)=0.6317\n"
     ]
    },
    {
     "data": {
      "application/vnd.jupyter.widget-view+json": {
       "model_id": "87d73ca682ab4e148e44a64fe9ee16f5",
       "version_major": 2,
       "version_minor": 0
      },
      "text/plain": [
       "Training GP:   0%|          | 0/500 [00:00<?, ?it/s]"
      ]
     },
     "metadata": {},
     "output_type": "display_data"
    },
    {
     "name": "stdout",
     "output_type": "stream",
     "text": [
      "Iteration 14, incumbent x=(3.3198, 1.8542), f(x)=0.6317\n"
     ]
    },
    {
     "data": {
      "application/vnd.jupyter.widget-view+json": {
       "model_id": "0e73a2f229214a56884147ac7e0ef5a5",
       "version_major": 2,
       "version_minor": 0
      },
      "text/plain": [
       "Training GP:   0%|          | 0/500 [00:00<?, ?it/s]"
      ]
     },
     "metadata": {},
     "output_type": "display_data"
    },
    {
     "name": "stdout",
     "output_type": "stream",
     "text": [
      "Iteration 15, incumbent x=(3.3198, 1.8542), f(x)=0.6317\n"
     ]
    },
    {
     "data": {
      "application/vnd.jupyter.widget-view+json": {
       "model_id": "4ba702429cba4dd886af8c1017e71b64",
       "version_major": 2,
       "version_minor": 0
      },
      "text/plain": [
       "Training GP:   0%|          | 0/500 [00:00<?, ?it/s]"
      ]
     },
     "metadata": {},
     "output_type": "display_data"
    },
    {
     "name": "stdout",
     "output_type": "stream",
     "text": [
      "Iteration 16, incumbent x=(9.3518, 2.6374), f(x)=0.4733\n"
     ]
    },
    {
     "data": {
      "application/vnd.jupyter.widget-view+json": {
       "model_id": "3c5a593e4ba8417eafe90488eb46f898",
       "version_major": 2,
       "version_minor": 0
      },
      "text/plain": [
       "Training GP:   0%|          | 0/500 [00:00<?, ?it/s]"
      ]
     },
     "metadata": {},
     "output_type": "display_data"
    },
    {
     "name": "stdout",
     "output_type": "stream",
     "text": [
      "Iteration 17, incumbent x=(9.3518, 2.6374), f(x)=0.4733\n"
     ]
    },
    {
     "data": {
      "application/vnd.jupyter.widget-view+json": {
       "model_id": "dd6461927bb84aa2b507aa4b8a48c122",
       "version_major": 2,
       "version_minor": 0
      },
      "text/plain": [
       "Training GP:   0%|          | 0/500 [00:00<?, ?it/s]"
      ]
     },
     "metadata": {},
     "output_type": "display_data"
    },
    {
     "name": "stdout",
     "output_type": "stream",
     "text": [
      "Iteration 18, incumbent x=(9.3518, 2.6374), f(x)=0.4733\n"
     ]
    },
    {
     "data": {
      "application/vnd.jupyter.widget-view+json": {
       "model_id": "ef6fb2a1d89749c5910c56330753738c",
       "version_major": 2,
       "version_minor": 0
      },
      "text/plain": [
       "Training GP:   0%|          | 0/500 [00:00<?, ?it/s]"
      ]
     },
     "metadata": {},
     "output_type": "display_data"
    },
    {
     "name": "stdout",
     "output_type": "stream",
     "text": [
      "Iteration 19, incumbent x=(9.3518, 2.6374), f(x)=0.4733\n"
     ]
    },
    {
     "data": {
      "application/vnd.jupyter.widget-view+json": {
       "model_id": "7a632afc2ecf4fa789e7a90c1c8d58b5",
       "version_major": 2,
       "version_minor": 0
      },
      "text/plain": [
       "Training GP:   0%|          | 0/500 [00:00<?, ?it/s]"
      ]
     },
     "metadata": {},
     "output_type": "display_data"
    },
    {
     "name": "stdout",
     "output_type": "stream",
     "text": [
      "\n",
      "Run 2/10\n",
      "Initial points (x1, x2, f(x)):\n",
      "tensor([[ -4.9360,   1.5835, 249.9045],\n",
      "        [ -0.7124,   0.4043,  63.4390],\n",
      "        [  2.0742,   0.9017,  10.9036],\n",
      "        [  6.5780,  11.1555, 119.8867],\n",
      "        [  3.9163,  13.3179, 136.9913],\n",
      "        [  1.7655,  11.9924,  78.6948],\n",
      "        [ -2.7524,   6.0220,  29.6015],\n",
      "        [ -4.1873,   6.8911,  69.8027],\n",
      "        [ -2.3659,  14.2377,  17.2006],\n",
      "        [  7.7098,  13.1228, 148.6098]])\n"
     ]
    },
    {
     "data": {
      "application/vnd.jupyter.widget-view+json": {
       "model_id": "b4729b6137b549a08605d9a4f9d4eef8",
       "version_major": 2,
       "version_minor": 0
      },
      "text/plain": [
       "Training GP:   0%|          | 0/500 [00:00<?, ?it/s]"
      ]
     },
     "metadata": {},
     "output_type": "display_data"
    },
    {
     "name": "stdout",
     "output_type": "stream",
     "text": [
      "Iteration 0, incumbent x=(2.0742, 0.9017), f(x)=10.9036\n"
     ]
    },
    {
     "data": {
      "application/vnd.jupyter.widget-view+json": {
       "model_id": "1934f89885b148748baa9c796172d80c",
       "version_major": 2,
       "version_minor": 0
      },
      "text/plain": [
       "Training GP:   0%|          | 0/500 [00:00<?, ?it/s]"
      ]
     },
     "metadata": {},
     "output_type": "display_data"
    },
    {
     "name": "stdout",
     "output_type": "stream",
     "text": [
      "Iteration 1, incumbent x=(3.9416, 1.5774), f(x)=3.3344\n"
     ]
    },
    {
     "data": {
      "application/vnd.jupyter.widget-view+json": {
       "model_id": "9af29d5b48f947e4871b0d72212f15d9",
       "version_major": 2,
       "version_minor": 0
      },
      "text/plain": [
       "Training GP:   0%|          | 0/500 [00:00<?, ?it/s]"
      ]
     },
     "metadata": {},
     "output_type": "display_data"
    },
    {
     "name": "stdout",
     "output_type": "stream",
     "text": [
      "Iteration 2, incumbent x=(3.9416, 1.5774), f(x)=3.3344\n"
     ]
    },
    {
     "data": {
      "application/vnd.jupyter.widget-view+json": {
       "model_id": "da2bae556dec46c5a2f553301650ea93",
       "version_major": 2,
       "version_minor": 0
      },
      "text/plain": [
       "Training GP:   0%|          | 0/500 [00:00<?, ?it/s]"
      ]
     },
     "metadata": {},
     "output_type": "display_data"
    },
    {
     "name": "stdout",
     "output_type": "stream",
     "text": [
      "Iteration 3, incumbent x=(3.9416, 1.5774), f(x)=3.3344\n"
     ]
    },
    {
     "data": {
      "application/vnd.jupyter.widget-view+json": {
       "model_id": "d92588cf37334a5fabb0708700f533c3",
       "version_major": 2,
       "version_minor": 0
      },
      "text/plain": [
       "Training GP:   0%|          | 0/500 [00:00<?, ?it/s]"
      ]
     },
     "metadata": {},
     "output_type": "display_data"
    },
    {
     "name": "stdout",
     "output_type": "stream",
     "text": [
      "Iteration 4, incumbent x=(2.9546, 2.7144), f(x)=0.6489\n"
     ]
    },
    {
     "data": {
      "application/vnd.jupyter.widget-view+json": {
       "model_id": "783f9f033529448daacc6efafe82790f",
       "version_major": 2,
       "version_minor": 0
      },
      "text/plain": [
       "Training GP:   0%|          | 0/500 [00:00<?, ?it/s]"
      ]
     },
     "metadata": {},
     "output_type": "display_data"
    },
    {
     "name": "stdout",
     "output_type": "stream",
     "text": [
      "Iteration 5, incumbent x=(2.9546, 2.7144), f(x)=0.6489\n"
     ]
    },
    {
     "data": {
      "application/vnd.jupyter.widget-view+json": {
       "model_id": "2ca10b5e68204b949302c4d2873c37e9",
       "version_major": 2,
       "version_minor": 0
      },
      "text/plain": [
       "Training GP:   0%|          | 0/500 [00:00<?, ?it/s]"
      ]
     },
     "metadata": {},
     "output_type": "display_data"
    },
    {
     "name": "stdout",
     "output_type": "stream",
     "text": [
      "Iteration 6, incumbent x=(2.9546, 2.7144), f(x)=0.6489\n"
     ]
    },
    {
     "data": {
      "application/vnd.jupyter.widget-view+json": {
       "model_id": "d7fe0c32b90b4b928c41f818d20c2185",
       "version_major": 2,
       "version_minor": 0
      },
      "text/plain": [
       "Training GP:   0%|          | 0/500 [00:00<?, ?it/s]"
      ]
     },
     "metadata": {},
     "output_type": "display_data"
    },
    {
     "name": "stdout",
     "output_type": "stream",
     "text": [
      "Iteration 7, incumbent x=(2.9546, 2.7144), f(x)=0.6489\n"
     ]
    },
    {
     "data": {
      "application/vnd.jupyter.widget-view+json": {
       "model_id": "64acc2f16a754501a2b127dc4713cd7e",
       "version_major": 2,
       "version_minor": 0
      },
      "text/plain": [
       "Training GP:   0%|          | 0/500 [00:00<?, ?it/s]"
      ]
     },
     "metadata": {},
     "output_type": "display_data"
    },
    {
     "name": "stdout",
     "output_type": "stream",
     "text": [
      "Iteration 8, incumbent x=(2.9546, 2.7144), f(x)=0.6489\n"
     ]
    },
    {
     "data": {
      "application/vnd.jupyter.widget-view+json": {
       "model_id": "c6c54e8a2bc8414b90b381e1439ce0e0",
       "version_major": 2,
       "version_minor": 0
      },
      "text/plain": [
       "Training GP:   0%|          | 0/500 [00:00<?, ?it/s]"
      ]
     },
     "metadata": {},
     "output_type": "display_data"
    },
    {
     "name": "stdout",
     "output_type": "stream",
     "text": [
      "Iteration 9, incumbent x=(2.9546, 2.7144), f(x)=0.6489\n"
     ]
    },
    {
     "data": {
      "application/vnd.jupyter.widget-view+json": {
       "model_id": "5676b2a87e7b47c791592ff0a0f816a3",
       "version_major": 2,
       "version_minor": 0
      },
      "text/plain": [
       "Training GP:   0%|          | 0/500 [00:00<?, ?it/s]"
      ]
     },
     "metadata": {},
     "output_type": "display_data"
    },
    {
     "name": "stdout",
     "output_type": "stream",
     "text": [
      "Iteration 10, incumbent x=(2.9546, 2.7144), f(x)=0.6489\n"
     ]
    },
    {
     "data": {
      "application/vnd.jupyter.widget-view+json": {
       "model_id": "ae4604a3752f4e3392073b89a3371c3e",
       "version_major": 2,
       "version_minor": 0
      },
      "text/plain": [
       "Training GP:   0%|          | 0/500 [00:00<?, ?it/s]"
      ]
     },
     "metadata": {},
     "output_type": "display_data"
    },
    {
     "name": "stdout",
     "output_type": "stream",
     "text": [
      "Iteration 11, incumbent x=(2.9546, 2.7144), f(x)=0.6489\n"
     ]
    },
    {
     "data": {
      "application/vnd.jupyter.widget-view+json": {
       "model_id": "1fd9ff89b3ba40d2859d59e038c3612d",
       "version_major": 2,
       "version_minor": 0
      },
      "text/plain": [
       "Training GP:   0%|          | 0/500 [00:00<?, ?it/s]"
      ]
     },
     "metadata": {},
     "output_type": "display_data"
    },
    {
     "name": "stdout",
     "output_type": "stream",
     "text": [
      "Iteration 12, incumbent x=(2.9546, 2.7144), f(x)=0.6489\n"
     ]
    },
    {
     "data": {
      "application/vnd.jupyter.widget-view+json": {
       "model_id": "08adbe0a51c44488a455126659d04627",
       "version_major": 2,
       "version_minor": 0
      },
      "text/plain": [
       "Training GP:   0%|          | 0/500 [00:00<?, ?it/s]"
      ]
     },
     "metadata": {},
     "output_type": "display_data"
    },
    {
     "name": "stdout",
     "output_type": "stream",
     "text": [
      "Iteration 13, incumbent x=(2.9546, 2.7144), f(x)=0.6489\n"
     ]
    },
    {
     "data": {
      "application/vnd.jupyter.widget-view+json": {
       "model_id": "8e90e560fc7344828dc18c0e9d84ecb3",
       "version_major": 2,
       "version_minor": 0
      },
      "text/plain": [
       "Training GP:   0%|          | 0/500 [00:00<?, ?it/s]"
      ]
     },
     "metadata": {},
     "output_type": "display_data"
    },
    {
     "name": "stdout",
     "output_type": "stream",
     "text": [
      "Iteration 14, incumbent x=(2.9546, 2.7144), f(x)=0.6489\n"
     ]
    },
    {
     "data": {
      "application/vnd.jupyter.widget-view+json": {
       "model_id": "7ae97554bedd40c18a6b211205d30b96",
       "version_major": 2,
       "version_minor": 0
      },
      "text/plain": [
       "Training GP:   0%|          | 0/500 [00:00<?, ?it/s]"
      ]
     },
     "metadata": {},
     "output_type": "display_data"
    },
    {
     "name": "stdout",
     "output_type": "stream",
     "text": [
      "Iteration 15, incumbent x=(2.9546, 2.7144), f(x)=0.6489\n"
     ]
    },
    {
     "data": {
      "application/vnd.jupyter.widget-view+json": {
       "model_id": "73cbfe3b2bb94bffa1e0a9366a464e50",
       "version_major": 2,
       "version_minor": 0
      },
      "text/plain": [
       "Training GP:   0%|          | 0/500 [00:00<?, ?it/s]"
      ]
     },
     "metadata": {},
     "output_type": "display_data"
    },
    {
     "name": "stdout",
     "output_type": "stream",
     "text": [
      "Iteration 16, incumbent x=(2.9546, 2.7144), f(x)=0.6489\n"
     ]
    },
    {
     "data": {
      "application/vnd.jupyter.widget-view+json": {
       "model_id": "a54a79f4879f450b8a40b4075758dca7",
       "version_major": 2,
       "version_minor": 0
      },
      "text/plain": [
       "Training GP:   0%|          | 0/500 [00:00<?, ?it/s]"
      ]
     },
     "metadata": {},
     "output_type": "display_data"
    },
    {
     "name": "stdout",
     "output_type": "stream",
     "text": [
      "Iteration 17, incumbent x=(2.9546, 2.7144), f(x)=0.6489\n"
     ]
    },
    {
     "data": {
      "application/vnd.jupyter.widget-view+json": {
       "model_id": "956a6c8920b84baf82812ffbb2234a43",
       "version_major": 2,
       "version_minor": 0
      },
      "text/plain": [
       "Training GP:   0%|          | 0/500 [00:00<?, ?it/s]"
      ]
     },
     "metadata": {},
     "output_type": "display_data"
    },
    {
     "name": "stdout",
     "output_type": "stream",
     "text": [
      "Iteration 18, incumbent x=(2.9546, 2.7144), f(x)=0.6489\n"
     ]
    },
    {
     "data": {
      "application/vnd.jupyter.widget-view+json": {
       "model_id": "41144b1968154b6badcc73fb63bd283b",
       "version_major": 2,
       "version_minor": 0
      },
      "text/plain": [
       "Training GP:   0%|          | 0/500 [00:00<?, ?it/s]"
      ]
     },
     "metadata": {},
     "output_type": "display_data"
    },
    {
     "name": "stdout",
     "output_type": "stream",
     "text": [
      "Iteration 19, incumbent x=(2.9546, 2.7144), f(x)=0.6489\n"
     ]
    },
    {
     "data": {
      "application/vnd.jupyter.widget-view+json": {
       "model_id": "6382376cf87c41d89235d234d1ef3fee",
       "version_major": 2,
       "version_minor": 0
      },
      "text/plain": [
       "Training GP:   0%|          | 0/500 [00:00<?, ?it/s]"
      ]
     },
     "metadata": {},
     "output_type": "display_data"
    },
    {
     "name": "stdout",
     "output_type": "stream",
     "text": [
      "\n",
      "Run 3/10\n",
      "Initial points (x1, x2, f(x)):\n",
      "tensor([[ 3.3946e+00,  8.3864e+00,  4.0399e+01],\n",
      "        [-3.6281e+00,  3.1500e+00,  1.0811e+02],\n",
      "        [-4.8921e+00,  5.8443e-01,  2.7719e+02],\n",
      "        [ 9.8934e+00,  1.3697e+01,  1.1803e+02],\n",
      "        [ 4.2787e+00,  1.4616e+01,  1.7654e+02],\n",
      "        [-2.1632e-01,  3.2224e+00,  2.9162e+01],\n",
      "        [ 8.8939e+00,  7.1028e+00,  2.7113e+01],\n",
      "        [ 3.9242e+00,  1.1934e+01,  1.0703e+02],\n",
      "        [ 6.4523e+00,  3.2055e+00,  2.3860e+01],\n",
      "        [-4.0053e-01,  5.7830e-01,  5.5807e+01]])\n"
     ]
    },
    {
     "data": {
      "application/vnd.jupyter.widget-view+json": {
       "model_id": "f87a55f6ae2f437c842ece69c086c62f",
       "version_major": 2,
       "version_minor": 0
      },
      "text/plain": [
       "Training GP:   0%|          | 0/500 [00:00<?, ?it/s]"
      ]
     },
     "metadata": {},
     "output_type": "display_data"
    },
    {
     "name": "stdout",
     "output_type": "stream",
     "text": [
      "Iteration 0, incumbent x=(6.4523, 3.2055), f(x)=23.8604\n"
     ]
    },
    {
     "data": {
      "application/vnd.jupyter.widget-view+json": {
       "model_id": "50ea4da990b94b6a9f5b3ec5328f8afe",
       "version_major": 2,
       "version_minor": 0
      },
      "text/plain": [
       "Training GP:   0%|          | 0/500 [00:00<?, ?it/s]"
      ]
     },
     "metadata": {},
     "output_type": "display_data"
    },
    {
     "name": "stdout",
     "output_type": "stream",
     "text": [
      "Iteration 1, incumbent x=(3.2352, 1.5590), f(x)=0.8549\n"
     ]
    },
    {
     "data": {
      "application/vnd.jupyter.widget-view+json": {
       "model_id": "aed47d40b9d849d088aa2c57efb08a24",
       "version_major": 2,
       "version_minor": 0
      },
      "text/plain": [
       "Training GP:   0%|          | 0/500 [00:00<?, ?it/s]"
      ]
     },
     "metadata": {},
     "output_type": "display_data"
    },
    {
     "name": "stdout",
     "output_type": "stream",
     "text": [
      "Iteration 2, incumbent x=(3.2352, 1.5590), f(x)=0.8549\n"
     ]
    },
    {
     "data": {
      "application/vnd.jupyter.widget-view+json": {
       "model_id": "3fabfe167db84d14b01690b94d04c197",
       "version_major": 2,
       "version_minor": 0
      },
      "text/plain": [
       "Training GP:   0%|          | 0/500 [00:00<?, ?it/s]"
      ]
     },
     "metadata": {},
     "output_type": "display_data"
    },
    {
     "name": "stdout",
     "output_type": "stream",
     "text": [
      "Iteration 3, incumbent x=(3.2352, 1.5590), f(x)=0.8549\n"
     ]
    },
    {
     "data": {
      "application/vnd.jupyter.widget-view+json": {
       "model_id": "bb806c4b0a7e4780a283fe58a0e60d52",
       "version_major": 2,
       "version_minor": 0
      },
      "text/plain": [
       "Training GP:   0%|          | 0/500 [00:00<?, ?it/s]"
      ]
     },
     "metadata": {},
     "output_type": "display_data"
    },
    {
     "name": "stdout",
     "output_type": "stream",
     "text": [
      "Iteration 4, incumbent x=(3.2352, 1.5590), f(x)=0.8549\n"
     ]
    },
    {
     "data": {
      "application/vnd.jupyter.widget-view+json": {
       "model_id": "f3a26d2e1c854b80904360e4aafa3519",
       "version_major": 2,
       "version_minor": 0
      },
      "text/plain": [
       "Training GP:   0%|          | 0/500 [00:00<?, ?it/s]"
      ]
     },
     "metadata": {},
     "output_type": "display_data"
    },
    {
     "name": "stdout",
     "output_type": "stream",
     "text": [
      "Iteration 5, incumbent x=(3.3202, 1.7435), f(x)=0.7077\n"
     ]
    },
    {
     "data": {
      "application/vnd.jupyter.widget-view+json": {
       "model_id": "6d6116f590684bbea878e5a3fff1ae08",
       "version_major": 2,
       "version_minor": 0
      },
      "text/plain": [
       "Training GP:   0%|          | 0/500 [00:00<?, ?it/s]"
      ]
     },
     "metadata": {},
     "output_type": "display_data"
    },
    {
     "name": "stdout",
     "output_type": "stream",
     "text": [
      "Iteration 6, incumbent x=(3.3202, 1.7435), f(x)=0.7077\n"
     ]
    },
    {
     "data": {
      "application/vnd.jupyter.widget-view+json": {
       "model_id": "9043aa69e0c04f67b1e903dcabf3b1e1",
       "version_major": 2,
       "version_minor": 0
      },
      "text/plain": [
       "Training GP:   0%|          | 0/500 [00:00<?, ?it/s]"
      ]
     },
     "metadata": {},
     "output_type": "display_data"
    },
    {
     "name": "stdout",
     "output_type": "stream",
     "text": [
      "Iteration 7, incumbent x=(3.3202, 1.7435), f(x)=0.7077\n"
     ]
    },
    {
     "data": {
      "application/vnd.jupyter.widget-view+json": {
       "model_id": "f283cf4bf69a4f7792c5411f2d80e267",
       "version_major": 2,
       "version_minor": 0
      },
      "text/plain": [
       "Training GP:   0%|          | 0/500 [00:00<?, ?it/s]"
      ]
     },
     "metadata": {},
     "output_type": "display_data"
    },
    {
     "name": "stdout",
     "output_type": "stream",
     "text": [
      "Iteration 8, incumbent x=(3.3202, 1.7435), f(x)=0.7077\n"
     ]
    },
    {
     "data": {
      "application/vnd.jupyter.widget-view+json": {
       "model_id": "ac10456139d641428bd368e9656ac76b",
       "version_major": 2,
       "version_minor": 0
      },
      "text/plain": [
       "Training GP:   0%|          | 0/500 [00:00<?, ?it/s]"
      ]
     },
     "metadata": {},
     "output_type": "display_data"
    },
    {
     "name": "stdout",
     "output_type": "stream",
     "text": [
      "Iteration 9, incumbent x=(3.2694, 1.8193), f(x)=0.6045\n"
     ]
    },
    {
     "data": {
      "application/vnd.jupyter.widget-view+json": {
       "model_id": "a65ba3bb121c43fa911eb8177edc631a",
       "version_major": 2,
       "version_minor": 0
      },
      "text/plain": [
       "Training GP:   0%|          | 0/500 [00:00<?, ?it/s]"
      ]
     },
     "metadata": {},
     "output_type": "display_data"
    },
    {
     "name": "stdout",
     "output_type": "stream",
     "text": [
      "Iteration 10, incumbent x=(-3.1486, 12.3875), f(x)=0.4073\n"
     ]
    },
    {
     "data": {
      "application/vnd.jupyter.widget-view+json": {
       "model_id": "d46ef4d768e04f8a885dbbdf2e1d2048",
       "version_major": 2,
       "version_minor": 0
      },
      "text/plain": [
       "Training GP:   0%|          | 0/500 [00:00<?, ?it/s]"
      ]
     },
     "metadata": {},
     "output_type": "display_data"
    },
    {
     "name": "stdout",
     "output_type": "stream",
     "text": [
      "Iteration 11, incumbent x=(-3.1486, 12.3875), f(x)=0.4073\n"
     ]
    },
    {
     "data": {
      "application/vnd.jupyter.widget-view+json": {
       "model_id": "474e12f6ee064cfc8833a106ce532106",
       "version_major": 2,
       "version_minor": 0
      },
      "text/plain": [
       "Training GP:   0%|          | 0/500 [00:00<?, ?it/s]"
      ]
     },
     "metadata": {},
     "output_type": "display_data"
    },
    {
     "name": "stdout",
     "output_type": "stream",
     "text": [
      "Iteration 12, incumbent x=(-3.1486, 12.3875), f(x)=0.4073\n"
     ]
    },
    {
     "data": {
      "application/vnd.jupyter.widget-view+json": {
       "model_id": "adcca3ce64964242a25fe5a1618941ad",
       "version_major": 2,
       "version_minor": 0
      },
      "text/plain": [
       "Training GP:   0%|          | 0/500 [00:00<?, ?it/s]"
      ]
     },
     "metadata": {},
     "output_type": "display_data"
    },
    {
     "name": "stdout",
     "output_type": "stream",
     "text": [
      "Iteration 13, incumbent x=(-3.1486, 12.3875), f(x)=0.4073\n"
     ]
    },
    {
     "data": {
      "application/vnd.jupyter.widget-view+json": {
       "model_id": "7cb0c321fec844ceae39c63933cac0bb",
       "version_major": 2,
       "version_minor": 0
      },
      "text/plain": [
       "Training GP:   0%|          | 0/500 [00:00<?, ?it/s]"
      ]
     },
     "metadata": {},
     "output_type": "display_data"
    },
    {
     "name": "stdout",
     "output_type": "stream",
     "text": [
      "Iteration 14, incumbent x=(-3.1486, 12.3875), f(x)=0.4073\n"
     ]
    },
    {
     "data": {
      "application/vnd.jupyter.widget-view+json": {
       "model_id": "f256b4786a334a25869b06a8577d3af7",
       "version_major": 2,
       "version_minor": 0
      },
      "text/plain": [
       "Training GP:   0%|          | 0/500 [00:00<?, ?it/s]"
      ]
     },
     "metadata": {},
     "output_type": "display_data"
    },
    {
     "name": "stdout",
     "output_type": "stream",
     "text": [
      "Iteration 15, incumbent x=(-3.1486, 12.3875), f(x)=0.4073\n"
     ]
    },
    {
     "data": {
      "application/vnd.jupyter.widget-view+json": {
       "model_id": "90700a9a3bca4bed82103e4018cfea0e",
       "version_major": 2,
       "version_minor": 0
      },
      "text/plain": [
       "Training GP:   0%|          | 0/500 [00:00<?, ?it/s]"
      ]
     },
     "metadata": {},
     "output_type": "display_data"
    },
    {
     "name": "stdout",
     "output_type": "stream",
     "text": [
      "Iteration 16, incumbent x=(-3.1486, 12.3875), f(x)=0.4073\n"
     ]
    },
    {
     "data": {
      "application/vnd.jupyter.widget-view+json": {
       "model_id": "83a1f2f697934d869f5f401d1fbf0170",
       "version_major": 2,
       "version_minor": 0
      },
      "text/plain": [
       "Training GP:   0%|          | 0/500 [00:00<?, ?it/s]"
      ]
     },
     "metadata": {},
     "output_type": "display_data"
    },
    {
     "name": "stdout",
     "output_type": "stream",
     "text": [
      "Iteration 17, incumbent x=(-3.1486, 12.3875), f(x)=0.4073\n"
     ]
    },
    {
     "data": {
      "application/vnd.jupyter.widget-view+json": {
       "model_id": "5e4757b317bc478f9d2eafb4a751cc78",
       "version_major": 2,
       "version_minor": 0
      },
      "text/plain": [
       "Training GP:   0%|          | 0/500 [00:00<?, ?it/s]"
      ]
     },
     "metadata": {},
     "output_type": "display_data"
    },
    {
     "name": "stdout",
     "output_type": "stream",
     "text": [
      "Iteration 18, incumbent x=(-3.1486, 12.3875), f(x)=0.4073\n"
     ]
    },
    {
     "data": {
      "application/vnd.jupyter.widget-view+json": {
       "model_id": "83ee87b3b9c04616bb42c68403d8340f",
       "version_major": 2,
       "version_minor": 0
      },
      "text/plain": [
       "Training GP:   0%|          | 0/500 [00:00<?, ?it/s]"
      ]
     },
     "metadata": {},
     "output_type": "display_data"
    },
    {
     "name": "stdout",
     "output_type": "stream",
     "text": [
      "Iteration 19, incumbent x=(-3.1486, 12.3875), f(x)=0.4073\n"
     ]
    },
    {
     "data": {
      "application/vnd.jupyter.widget-view+json": {
       "model_id": "d3464e01218c4a9ba13956fcd6dcfc54",
       "version_major": 2,
       "version_minor": 0
      },
      "text/plain": [
       "Training GP:   0%|          | 0/500 [00:00<?, ?it/s]"
      ]
     },
     "metadata": {},
     "output_type": "display_data"
    },
    {
     "name": "stdout",
     "output_type": "stream",
     "text": [
      "\n",
      "Run 4/10\n",
      "Initial points (x1, x2, f(x)):\n",
      "tensor([[  7.4538,   1.8917,  14.0744],\n",
      "        [  8.6120,  12.2989, 112.0609],\n",
      "        [  8.8016,   1.7497,   2.2655],\n",
      "        [ -2.5341,  11.0688,   2.1582],\n",
      "        [ -4.5010,  14.9128,   8.7391],\n",
      "        [  4.0964,   8.4686,  50.9707],\n",
      "        [ -3.9138,   9.8901,  21.7648],\n",
      "        [  5.7251,   8.6899,  75.4113],\n",
      "        [  9.7139,   9.7524,  50.1147],\n",
      "        [ -4.1505,  13.8017,   5.9438]])\n"
     ]
    },
    {
     "data": {
      "application/vnd.jupyter.widget-view+json": {
       "model_id": "7619d621f4e9466085be3c58317c7867",
       "version_major": 2,
       "version_minor": 0
      },
      "text/plain": [
       "Training GP:   0%|          | 0/500 [00:00<?, ?it/s]"
      ]
     },
     "metadata": {},
     "output_type": "display_data"
    },
    {
     "name": "stdout",
     "output_type": "stream",
     "text": [
      "Iteration 0, incumbent x=(-2.5341, 11.0688), f(x)=2.1582\n"
     ]
    },
    {
     "data": {
      "application/vnd.jupyter.widget-view+json": {
       "model_id": "5b97d48413774203867809eb15a4ce3e",
       "version_major": 2,
       "version_minor": 0
      },
      "text/plain": [
       "Training GP:   0%|          | 0/500 [00:00<?, ?it/s]"
      ]
     },
     "metadata": {},
     "output_type": "display_data"
    },
    {
     "name": "stdout",
     "output_type": "stream",
     "text": [
      "Iteration 1, incumbent x=(-2.5341, 11.0688), f(x)=2.1582\n"
     ]
    },
    {
     "data": {
      "application/vnd.jupyter.widget-view+json": {
       "model_id": "8eabe036d1cb41928750a94bf737ad06",
       "version_major": 2,
       "version_minor": 0
      },
      "text/plain": [
       "Training GP:   0%|          | 0/500 [00:00<?, ?it/s]"
      ]
     },
     "metadata": {},
     "output_type": "display_data"
    },
    {
     "name": "stdout",
     "output_type": "stream",
     "text": [
      "Iteration 2, incumbent x=(-2.5341, 11.0688), f(x)=2.1582\n"
     ]
    },
    {
     "data": {
      "application/vnd.jupyter.widget-view+json": {
       "model_id": "416c2222d7474efdb93707a7712e7fc4",
       "version_major": 2,
       "version_minor": 0
      },
      "text/plain": [
       "Training GP:   0%|          | 0/500 [00:00<?, ?it/s]"
      ]
     },
     "metadata": {},
     "output_type": "display_data"
    },
    {
     "name": "stdout",
     "output_type": "stream",
     "text": [
      "Iteration 3, incumbent x=(-2.5341, 11.0688), f(x)=2.1582\n"
     ]
    },
    {
     "data": {
      "application/vnd.jupyter.widget-view+json": {
       "model_id": "4fb9d54bd0394493a0526601dff43ea3",
       "version_major": 2,
       "version_minor": 0
      },
      "text/plain": [
       "Training GP:   0%|          | 0/500 [00:00<?, ?it/s]"
      ]
     },
     "metadata": {},
     "output_type": "display_data"
    },
    {
     "name": "stdout",
     "output_type": "stream",
     "text": [
      "Iteration 4, incumbent x=(9.0224, 1.7804), f(x)=1.3062\n"
     ]
    },
    {
     "data": {
      "application/vnd.jupyter.widget-view+json": {
       "model_id": "3159b5f52c144eb58fccd2740ce9951a",
       "version_major": 2,
       "version_minor": 0
      },
      "text/plain": [
       "Training GP:   0%|          | 0/500 [00:00<?, ?it/s]"
      ]
     },
     "metadata": {},
     "output_type": "display_data"
    },
    {
     "name": "stdout",
     "output_type": "stream",
     "text": [
      "Iteration 5, incumbent x=(9.2892, 1.8292), f(x)=0.7710\n"
     ]
    },
    {
     "data": {
      "application/vnd.jupyter.widget-view+json": {
       "model_id": "ce7c725de31d4e9ebcdb8d5f0bd90b47",
       "version_major": 2,
       "version_minor": 0
      },
      "text/plain": [
       "Training GP:   0%|          | 0/500 [00:00<?, ?it/s]"
      ]
     },
     "metadata": {},
     "output_type": "display_data"
    },
    {
     "name": "stdout",
     "output_type": "stream",
     "text": [
      "Iteration 6, incumbent x=(9.2835, 1.9030), f(x)=0.7010\n"
     ]
    },
    {
     "data": {
      "application/vnd.jupyter.widget-view+json": {
       "model_id": "9dd33f5370094513a307b6735c5f0167",
       "version_major": 2,
       "version_minor": 0
      },
      "text/plain": [
       "Training GP:   0%|          | 0/500 [00:00<?, ?it/s]"
      ]
     },
     "metadata": {},
     "output_type": "display_data"
    },
    {
     "name": "stdout",
     "output_type": "stream",
     "text": [
      "Iteration 7, incumbent x=(-3.1321, 11.7657), f(x)=0.6350\n"
     ]
    },
    {
     "data": {
      "application/vnd.jupyter.widget-view+json": {
       "model_id": "866581f86c144a049090583fd3bcf446",
       "version_major": 2,
       "version_minor": 0
      },
      "text/plain": [
       "Training GP:   0%|          | 0/500 [00:00<?, ?it/s]"
      ]
     },
     "metadata": {},
     "output_type": "display_data"
    },
    {
     "name": "stdout",
     "output_type": "stream",
     "text": [
      "Iteration 8, incumbent x=(9.3670, 2.0794), f(x)=0.5345\n"
     ]
    },
    {
     "data": {
      "application/vnd.jupyter.widget-view+json": {
       "model_id": "73074625b0ef49e0bf28b96123752fc5",
       "version_major": 2,
       "version_minor": 0
      },
      "text/plain": [
       "Training GP:   0%|          | 0/500 [00:00<?, ?it/s]"
      ]
     },
     "metadata": {},
     "output_type": "display_data"
    },
    {
     "name": "stdout",
     "output_type": "stream",
     "text": [
      "Iteration 9, incumbent x=(9.3898, 2.1717), f(x)=0.4788\n"
     ]
    },
    {
     "data": {
      "application/vnd.jupyter.widget-view+json": {
       "model_id": "6c3878f981e84ae68bbb5a427e6fca86",
       "version_major": 2,
       "version_minor": 0
      },
      "text/plain": [
       "Training GP:   0%|          | 0/500 [00:00<?, ?it/s]"
      ]
     },
     "metadata": {},
     "output_type": "display_data"
    },
    {
     "name": "stdout",
     "output_type": "stream",
     "text": [
      "Iteration 10, incumbent x=(9.3898, 2.1717), f(x)=0.4788\n"
     ]
    },
    {
     "data": {
      "application/vnd.jupyter.widget-view+json": {
       "model_id": "89b6c74c81b4405ba9e0a05a0b35fdaf",
       "version_major": 2,
       "version_minor": 0
      },
      "text/plain": [
       "Training GP:   0%|          | 0/500 [00:00<?, ?it/s]"
      ]
     },
     "metadata": {},
     "output_type": "display_data"
    },
    {
     "name": "stdout",
     "output_type": "stream",
     "text": [
      "Iteration 11, incumbent x=(9.3898, 2.1717), f(x)=0.4788\n"
     ]
    },
    {
     "data": {
      "application/vnd.jupyter.widget-view+json": {
       "model_id": "39c8bf5c950d400ba2b040ee8b1593f1",
       "version_major": 2,
       "version_minor": 0
      },
      "text/plain": [
       "Training GP:   0%|          | 0/500 [00:00<?, ?it/s]"
      ]
     },
     "metadata": {},
     "output_type": "display_data"
    },
    {
     "name": "stdout",
     "output_type": "stream",
     "text": [
      "Iteration 12, incumbent x=(9.3898, 2.1717), f(x)=0.4788\n"
     ]
    },
    {
     "data": {
      "application/vnd.jupyter.widget-view+json": {
       "model_id": "21b09049cba54286bba32595b3ad0bb8",
       "version_major": 2,
       "version_minor": 0
      },
      "text/plain": [
       "Training GP:   0%|          | 0/500 [00:00<?, ?it/s]"
      ]
     },
     "metadata": {},
     "output_type": "display_data"
    },
    {
     "name": "stdout",
     "output_type": "stream",
     "text": [
      "Iteration 13, incumbent x=(9.3898, 2.1717), f(x)=0.4788\n"
     ]
    },
    {
     "data": {
      "application/vnd.jupyter.widget-view+json": {
       "model_id": "f6288c6eb728408cab675f0934168767",
       "version_major": 2,
       "version_minor": 0
      },
      "text/plain": [
       "Training GP:   0%|          | 0/500 [00:00<?, ?it/s]"
      ]
     },
     "metadata": {},
     "output_type": "display_data"
    },
    {
     "name": "stdout",
     "output_type": "stream",
     "text": [
      "Iteration 14, incumbent x=(9.3898, 2.1717), f(x)=0.4788\n"
     ]
    },
    {
     "data": {
      "application/vnd.jupyter.widget-view+json": {
       "model_id": "75f8439c2db7432ca4f727a07538170c",
       "version_major": 2,
       "version_minor": 0
      },
      "text/plain": [
       "Training GP:   0%|          | 0/500 [00:00<?, ?it/s]"
      ]
     },
     "metadata": {},
     "output_type": "display_data"
    },
    {
     "name": "stdout",
     "output_type": "stream",
     "text": [
      "Iteration 15, incumbent x=(9.3898, 2.1717), f(x)=0.4788\n"
     ]
    },
    {
     "data": {
      "application/vnd.jupyter.widget-view+json": {
       "model_id": "e02239468b714d999cc6b57b62fa06bf",
       "version_major": 2,
       "version_minor": 0
      },
      "text/plain": [
       "Training GP:   0%|          | 0/500 [00:00<?, ?it/s]"
      ]
     },
     "metadata": {},
     "output_type": "display_data"
    },
    {
     "name": "stdout",
     "output_type": "stream",
     "text": [
      "Iteration 16, incumbent x=(9.4398, 2.2347), f(x)=0.4630\n"
     ]
    },
    {
     "data": {
      "application/vnd.jupyter.widget-view+json": {
       "model_id": "11462764a0374d46958f4976f29590cc",
       "version_major": 2,
       "version_minor": 0
      },
      "text/plain": [
       "Training GP:   0%|          | 0/500 [00:00<?, ?it/s]"
      ]
     },
     "metadata": {},
     "output_type": "display_data"
    },
    {
     "name": "stdout",
     "output_type": "stream",
     "text": [
      "Iteration 17, incumbent x=(9.4398, 2.2347), f(x)=0.4630\n"
     ]
    },
    {
     "data": {
      "application/vnd.jupyter.widget-view+json": {
       "model_id": "f8953bb5897b4db384e6ffcd76fa77d1",
       "version_major": 2,
       "version_minor": 0
      },
      "text/plain": [
       "Training GP:   0%|          | 0/500 [00:00<?, ?it/s]"
      ]
     },
     "metadata": {},
     "output_type": "display_data"
    },
    {
     "name": "stdout",
     "output_type": "stream",
     "text": [
      "Iteration 18, incumbent x=(9.4398, 2.2347), f(x)=0.4630\n"
     ]
    },
    {
     "data": {
      "application/vnd.jupyter.widget-view+json": {
       "model_id": "90147fe9ba704100a412e55a62b67ec7",
       "version_major": 2,
       "version_minor": 0
      },
      "text/plain": [
       "Training GP:   0%|          | 0/500 [00:00<?, ?it/s]"
      ]
     },
     "metadata": {},
     "output_type": "display_data"
    },
    {
     "name": "stdout",
     "output_type": "stream",
     "text": [
      "Iteration 19, incumbent x=(9.4398, 2.2347), f(x)=0.4630\n"
     ]
    },
    {
     "data": {
      "application/vnd.jupyter.widget-view+json": {
       "model_id": "02518f689c874b999827f16b8c5e9aa3",
       "version_major": 2,
       "version_minor": 0
      },
      "text/plain": [
       "Training GP:   0%|          | 0/500 [00:00<?, ?it/s]"
      ]
     },
     "metadata": {},
     "output_type": "display_data"
    },
    {
     "name": "stdout",
     "output_type": "stream",
     "text": [
      "\n",
      "Run 5/10\n",
      "Initial points (x1, x2, f(x)):\n",
      "tensor([[ 3.5830e+00,  8.3081e+00,  4.1668e+01],\n",
      "        [ 9.8024e+00,  9.1204e+00,  4.0871e+01],\n",
      "        [-1.4802e+00,  6.7377e+00,  1.4483e+01],\n",
      "        [ 5.1150e+00,  1.1220e+01,  1.1338e+02],\n",
      "        [ 3.4016e+00,  2.5107e+00,  9.0539e-01],\n",
      "        [-5.3883e-05,  6.9713e+00,  2.0545e+01],\n",
      "        [ 4.4987e+00,  1.1539e+01,  1.0965e+02],\n",
      "        [-1.7795e+00,  1.1722e+01,  1.4167e+01],\n",
      "        [ 7.9661e+00,  9.0776e+00,  6.6051e+01],\n",
      "        [ 4.7461e-01,  3.8037e+00,  2.0702e+01]])\n"
     ]
    },
    {
     "data": {
      "application/vnd.jupyter.widget-view+json": {
       "model_id": "d334ab89b6524299a18483f2c9da44ba",
       "version_major": 2,
       "version_minor": 0
      },
      "text/plain": [
       "Training GP:   0%|          | 0/500 [00:00<?, ?it/s]"
      ]
     },
     "metadata": {},
     "output_type": "display_data"
    },
    {
     "name": "stdout",
     "output_type": "stream",
     "text": [
      "Iteration 0, incumbent x=(3.4016, 2.5107), f(x)=0.9054\n"
     ]
    },
    {
     "data": {
      "application/vnd.jupyter.widget-view+json": {
       "model_id": "b4d335bfb43f4bbe903526e1c9f952f4",
       "version_major": 2,
       "version_minor": 0
      },
      "text/plain": [
       "Training GP:   0%|          | 0/500 [00:00<?, ?it/s]"
      ]
     },
     "metadata": {},
     "output_type": "display_data"
    },
    {
     "name": "stdout",
     "output_type": "stream",
     "text": [
      "Iteration 1, incumbent x=(3.4016, 2.5107), f(x)=0.9054\n"
     ]
    },
    {
     "data": {
      "application/vnd.jupyter.widget-view+json": {
       "model_id": "91f4870cbf804319bfc5a7a2600f5fc1",
       "version_major": 2,
       "version_minor": 0
      },
      "text/plain": [
       "Training GP:   0%|          | 0/500 [00:00<?, ?it/s]"
      ]
     },
     "metadata": {},
     "output_type": "display_data"
    },
    {
     "name": "stdout",
     "output_type": "stream",
     "text": [
      "Iteration 2, incumbent x=(3.3915, 1.6643), f(x)=0.8758\n"
     ]
    },
    {
     "data": {
      "application/vnd.jupyter.widget-view+json": {
       "model_id": "0fc2dc67b4b84d91ba9099c3eb591627",
       "version_major": 2,
       "version_minor": 0
      },
      "text/plain": [
       "Training GP:   0%|          | 0/500 [00:00<?, ?it/s]"
      ]
     },
     "metadata": {},
     "output_type": "display_data"
    },
    {
     "name": "stdout",
     "output_type": "stream",
     "text": [
      "Iteration 3, incumbent x=(3.3915, 1.6643), f(x)=0.8758\n"
     ]
    },
    {
     "data": {
      "application/vnd.jupyter.widget-view+json": {
       "model_id": "19496af5a3e4402681927139d715493f",
       "version_major": 2,
       "version_minor": 0
      },
      "text/plain": [
       "Training GP:   0%|          | 0/500 [00:00<?, ?it/s]"
      ]
     },
     "metadata": {},
     "output_type": "display_data"
    },
    {
     "name": "stdout",
     "output_type": "stream",
     "text": [
      "Iteration 4, incumbent x=(3.1223, 2.5410), f(x)=0.4626\n"
     ]
    },
    {
     "data": {
      "application/vnd.jupyter.widget-view+json": {
       "model_id": "1d19b0ed91114dc7bf2cf1184c1ec6d5",
       "version_major": 2,
       "version_minor": 0
      },
      "text/plain": [
       "Training GP:   0%|          | 0/500 [00:00<?, ?it/s]"
      ]
     },
     "metadata": {},
     "output_type": "display_data"
    },
    {
     "name": "stdout",
     "output_type": "stream",
     "text": [
      "Iteration 5, incumbent x=(3.1223, 2.5410), f(x)=0.4626\n"
     ]
    },
    {
     "data": {
      "application/vnd.jupyter.widget-view+json": {
       "model_id": "431945ba7e77468e9d9b7895d98bf6f8",
       "version_major": 2,
       "version_minor": 0
      },
      "text/plain": [
       "Training GP:   0%|          | 0/500 [00:00<?, ?it/s]"
      ]
     },
     "metadata": {},
     "output_type": "display_data"
    },
    {
     "name": "stdout",
     "output_type": "stream",
     "text": [
      "Iteration 6, incumbent x=(3.1223, 2.5410), f(x)=0.4626\n"
     ]
    },
    {
     "data": {
      "application/vnd.jupyter.widget-view+json": {
       "model_id": "0a9adab664224dbe9da95796a9e71b60",
       "version_major": 2,
       "version_minor": 0
      },
      "text/plain": [
       "Training GP:   0%|          | 0/500 [00:00<?, ?it/s]"
      ]
     },
     "metadata": {},
     "output_type": "display_data"
    },
    {
     "name": "stdout",
     "output_type": "stream",
     "text": [
      "Iteration 7, incumbent x=(3.1223, 2.5410), f(x)=0.4626\n"
     ]
    },
    {
     "data": {
      "application/vnd.jupyter.widget-view+json": {
       "model_id": "be391e0159a248e69962acf35ecb024a",
       "version_major": 2,
       "version_minor": 0
      },
      "text/plain": [
       "Training GP:   0%|          | 0/500 [00:00<?, ?it/s]"
      ]
     },
     "metadata": {},
     "output_type": "display_data"
    },
    {
     "name": "stdout",
     "output_type": "stream",
     "text": [
      "Iteration 8, incumbent x=(3.1223, 2.5410), f(x)=0.4626\n"
     ]
    },
    {
     "data": {
      "application/vnd.jupyter.widget-view+json": {
       "model_id": "04a383d42c5b4ebabd43f7ac554b017a",
       "version_major": 2,
       "version_minor": 0
      },
      "text/plain": [
       "Training GP:   0%|          | 0/500 [00:00<?, ?it/s]"
      ]
     },
     "metadata": {},
     "output_type": "display_data"
    },
    {
     "name": "stdout",
     "output_type": "stream",
     "text": [
      "Iteration 9, incumbent x=(3.1223, 2.5410), f(x)=0.4626\n"
     ]
    },
    {
     "data": {
      "application/vnd.jupyter.widget-view+json": {
       "model_id": "b04f005c46ef4f6193ac7eaa52ade952",
       "version_major": 2,
       "version_minor": 0
      },
      "text/plain": [
       "Training GP:   0%|          | 0/500 [00:00<?, ?it/s]"
      ]
     },
     "metadata": {},
     "output_type": "display_data"
    },
    {
     "name": "stdout",
     "output_type": "stream",
     "text": [
      "Iteration 10, incumbent x=(3.1223, 2.5410), f(x)=0.4626\n"
     ]
    },
    {
     "data": {
      "application/vnd.jupyter.widget-view+json": {
       "model_id": "8e1edd03881d497c9656f989f599e583",
       "version_major": 2,
       "version_minor": 0
      },
      "text/plain": [
       "Training GP:   0%|          | 0/500 [00:00<?, ?it/s]"
      ]
     },
     "metadata": {},
     "output_type": "display_data"
    },
    {
     "name": "stdout",
     "output_type": "stream",
     "text": [
      "Iteration 11, incumbent x=(3.1223, 2.5410), f(x)=0.4626\n"
     ]
    },
    {
     "data": {
      "application/vnd.jupyter.widget-view+json": {
       "model_id": "19999c3d051d4c2eade279f79260726b",
       "version_major": 2,
       "version_minor": 0
      },
      "text/plain": [
       "Training GP:   0%|          | 0/500 [00:00<?, ?it/s]"
      ]
     },
     "metadata": {},
     "output_type": "display_data"
    },
    {
     "name": "stdout",
     "output_type": "stream",
     "text": [
      "Iteration 12, incumbent x=(3.1223, 2.5410), f(x)=0.4626\n"
     ]
    },
    {
     "data": {
      "application/vnd.jupyter.widget-view+json": {
       "model_id": "5802c1d290364b63adee889ea47cc393",
       "version_major": 2,
       "version_minor": 0
      },
      "text/plain": [
       "Training GP:   0%|          | 0/500 [00:00<?, ?it/s]"
      ]
     },
     "metadata": {},
     "output_type": "display_data"
    },
    {
     "name": "stdout",
     "output_type": "stream",
     "text": [
      "Iteration 13, incumbent x=(3.1223, 2.5410), f(x)=0.4626\n"
     ]
    },
    {
     "data": {
      "application/vnd.jupyter.widget-view+json": {
       "model_id": "864a10cd65534ae9b81193092e137e7c",
       "version_major": 2,
       "version_minor": 0
      },
      "text/plain": [
       "Training GP:   0%|          | 0/500 [00:00<?, ?it/s]"
      ]
     },
     "metadata": {},
     "output_type": "display_data"
    },
    {
     "name": "stdout",
     "output_type": "stream",
     "text": [
      "Iteration 14, incumbent x=(3.1223, 2.5410), f(x)=0.4626\n"
     ]
    },
    {
     "data": {
      "application/vnd.jupyter.widget-view+json": {
       "model_id": "8d3703fcf4264f76ab61ea4325eb581a",
       "version_major": 2,
       "version_minor": 0
      },
      "text/plain": [
       "Training GP:   0%|          | 0/500 [00:00<?, ?it/s]"
      ]
     },
     "metadata": {},
     "output_type": "display_data"
    },
    {
     "name": "stdout",
     "output_type": "stream",
     "text": [
      "Iteration 15, incumbent x=(3.1223, 2.5410), f(x)=0.4626\n"
     ]
    },
    {
     "data": {
      "application/vnd.jupyter.widget-view+json": {
       "model_id": "26a51527bbff410181281562e0d8dcf6",
       "version_major": 2,
       "version_minor": 0
      },
      "text/plain": [
       "Training GP:   0%|          | 0/500 [00:00<?, ?it/s]"
      ]
     },
     "metadata": {},
     "output_type": "display_data"
    },
    {
     "name": "stdout",
     "output_type": "stream",
     "text": [
      "Iteration 16, incumbent x=(3.1223, 2.5410), f(x)=0.4626\n"
     ]
    },
    {
     "data": {
      "application/vnd.jupyter.widget-view+json": {
       "model_id": "967007b0bd5b443a86cb70738b3d5be0",
       "version_major": 2,
       "version_minor": 0
      },
      "text/plain": [
       "Training GP:   0%|          | 0/500 [00:00<?, ?it/s]"
      ]
     },
     "metadata": {},
     "output_type": "display_data"
    },
    {
     "name": "stdout",
     "output_type": "stream",
     "text": [
      "Iteration 17, incumbent x=(3.1223, 2.5410), f(x)=0.4626\n"
     ]
    },
    {
     "data": {
      "application/vnd.jupyter.widget-view+json": {
       "model_id": "6a61a3263f7741f1a29347afe2900b28",
       "version_major": 2,
       "version_minor": 0
      },
      "text/plain": [
       "Training GP:   0%|          | 0/500 [00:00<?, ?it/s]"
      ]
     },
     "metadata": {},
     "output_type": "display_data"
    },
    {
     "name": "stdout",
     "output_type": "stream",
     "text": [
      "Iteration 18, incumbent x=(3.1223, 2.5410), f(x)=0.4626\n"
     ]
    },
    {
     "data": {
      "application/vnd.jupyter.widget-view+json": {
       "model_id": "1b03ec09ffc24b6b98a8f6ff209e20f0",
       "version_major": 2,
       "version_minor": 0
      },
      "text/plain": [
       "Training GP:   0%|          | 0/500 [00:00<?, ?it/s]"
      ]
     },
     "metadata": {},
     "output_type": "display_data"
    },
    {
     "name": "stdout",
     "output_type": "stream",
     "text": [
      "Iteration 19, incumbent x=(3.1223, 2.5410), f(x)=0.4626\n"
     ]
    },
    {
     "data": {
      "application/vnd.jupyter.widget-view+json": {
       "model_id": "7440135974034fe19c873c001739b30f",
       "version_major": 2,
       "version_minor": 0
      },
      "text/plain": [
       "Training GP:   0%|          | 0/500 [00:00<?, ?it/s]"
      ]
     },
     "metadata": {},
     "output_type": "display_data"
    },
    {
     "name": "stdout",
     "output_type": "stream",
     "text": [
      "\n",
      "Run 6/10\n",
      "Initial points (x1, x2, f(x)):\n",
      "tensor([[ 3.0238,  2.9820,  0.8407],\n",
      "        [ 4.8882,  9.8534, 84.7195],\n",
      "        [-1.5086,  6.3759, 15.9751],\n",
      "        [-1.8937,  9.4460,  6.9539],\n",
      "        [ 0.4797, 12.7690, 74.8106],\n",
      "        [ 7.8241,  8.2640, 56.6383],\n",
      "        [-0.6974,  3.0948, 33.9903],\n",
      "        [ 1.6764,  5.3893, 11.8588],\n",
      "        [ 5.8057,  1.0958, 18.5285],\n",
      "        [ 9.5488,  1.6168,  1.4025]])\n"
     ]
    },
    {
     "data": {
      "application/vnd.jupyter.widget-view+json": {
       "model_id": "e5047e14ce934c278c710a76867bd68f",
       "version_major": 2,
       "version_minor": 0
      },
      "text/plain": [
       "Training GP:   0%|          | 0/500 [00:00<?, ?it/s]"
      ]
     },
     "metadata": {},
     "output_type": "display_data"
    },
    {
     "name": "stdout",
     "output_type": "stream",
     "text": [
      "Iteration 0, incumbent x=(3.0238, 2.9820), f(x)=0.8407\n"
     ]
    },
    {
     "data": {
      "application/vnd.jupyter.widget-view+json": {
       "model_id": "22240caeb4b24bb39b98b2ee7fd0ca3e",
       "version_major": 2,
       "version_minor": 0
      },
      "text/plain": [
       "Training GP:   0%|          | 0/500 [00:00<?, ?it/s]"
      ]
     },
     "metadata": {},
     "output_type": "display_data"
    },
    {
     "name": "stdout",
     "output_type": "stream",
     "text": [
      "Iteration 1, incumbent x=(3.0238, 2.9820), f(x)=0.8407\n"
     ]
    },
    {
     "data": {
      "application/vnd.jupyter.widget-view+json": {
       "model_id": "9df42c2201b24099af4fa0a8829f43b7",
       "version_major": 2,
       "version_minor": 0
      },
      "text/plain": [
       "Training GP:   0%|          | 0/500 [00:00<?, ?it/s]"
      ]
     },
     "metadata": {},
     "output_type": "display_data"
    },
    {
     "name": "stdout",
     "output_type": "stream",
     "text": [
      "Iteration 2, incumbent x=(3.0238, 2.9820), f(x)=0.8407\n"
     ]
    },
    {
     "data": {
      "application/vnd.jupyter.widget-view+json": {
       "model_id": "2b6b7ee45b56467eb1380399e61631db",
       "version_major": 2,
       "version_minor": 0
      },
      "text/plain": [
       "Training GP:   0%|          | 0/500 [00:00<?, ?it/s]"
      ]
     },
     "metadata": {},
     "output_type": "display_data"
    },
    {
     "name": "stdout",
     "output_type": "stream",
     "text": [
      "Iteration 3, incumbent x=(3.0238, 2.9820), f(x)=0.8407\n"
     ]
    },
    {
     "data": {
      "application/vnd.jupyter.widget-view+json": {
       "model_id": "91c730593892492286e976d0633208de",
       "version_major": 2,
       "version_minor": 0
      },
      "text/plain": [
       "Training GP:   0%|          | 0/500 [00:00<?, ?it/s]"
      ]
     },
     "metadata": {},
     "output_type": "display_data"
    },
    {
     "name": "stdout",
     "output_type": "stream",
     "text": [
      "Iteration 4, incumbent x=(9.3780, 1.8231), f(x)=0.7838\n"
     ]
    },
    {
     "data": {
      "application/vnd.jupyter.widget-view+json": {
       "model_id": "60f6fea34fc847ba8dab0c6519f9c8b4",
       "version_major": 2,
       "version_minor": 0
      },
      "text/plain": [
       "Training GP:   0%|          | 0/500 [00:00<?, ?it/s]"
      ]
     },
     "metadata": {},
     "output_type": "display_data"
    },
    {
     "name": "stdout",
     "output_type": "stream",
     "text": [
      "Iteration 5, incumbent x=(9.3590, 1.8312), f(x)=0.7655\n"
     ]
    },
    {
     "data": {
      "application/vnd.jupyter.widget-view+json": {
       "model_id": "7e53825db218460ead4ac80e6dc916af",
       "version_major": 2,
       "version_minor": 0
      },
      "text/plain": [
       "Training GP:   0%|          | 0/500 [00:00<?, ?it/s]"
      ]
     },
     "metadata": {},
     "output_type": "display_data"
    },
    {
     "name": "stdout",
     "output_type": "stream",
     "text": [
      "Iteration 6, incumbent x=(3.0051, 2.8458), f(x)=0.7006\n"
     ]
    },
    {
     "data": {
      "application/vnd.jupyter.widget-view+json": {
       "model_id": "9d699b05d0d747a38277e1b9b841c1a1",
       "version_major": 2,
       "version_minor": 0
      },
      "text/plain": [
       "Training GP:   0%|          | 0/500 [00:00<?, ?it/s]"
      ]
     },
     "metadata": {},
     "output_type": "display_data"
    },
    {
     "name": "stdout",
     "output_type": "stream",
     "text": [
      "Iteration 7, incumbent x=(3.0015, 2.8195), f(x)=0.6792\n"
     ]
    },
    {
     "data": {
      "application/vnd.jupyter.widget-view+json": {
       "model_id": "0f2ea88a7c15405eb78221f18e087eed",
       "version_major": 2,
       "version_minor": 0
      },
      "text/plain": [
       "Training GP:   0%|          | 0/500 [00:00<?, ?it/s]"
      ]
     },
     "metadata": {},
     "output_type": "display_data"
    },
    {
     "name": "stdout",
     "output_type": "stream",
     "text": [
      "Iteration 8, incumbent x=(2.9959, 2.7796), f(x)=0.6503\n"
     ]
    },
    {
     "data": {
      "application/vnd.jupyter.widget-view+json": {
       "model_id": "a2cd1af67a484d348fa8233be4ee3def",
       "version_major": 2,
       "version_minor": 0
      },
      "text/plain": [
       "Training GP:   0%|          | 0/500 [00:00<?, ?it/s]"
      ]
     },
     "metadata": {},
     "output_type": "display_data"
    },
    {
     "name": "stdout",
     "output_type": "stream",
     "text": [
      "Iteration 9, incumbent x=(2.9882, 2.7246), f(x)=0.6175\n"
     ]
    },
    {
     "data": {
      "application/vnd.jupyter.widget-view+json": {
       "model_id": "35d37ce9ab9142d0bfbf470b7dacdc8a",
       "version_major": 2,
       "version_minor": 0
      },
      "text/plain": [
       "Training GP:   0%|          | 0/500 [00:00<?, ?it/s]"
      ]
     },
     "metadata": {},
     "output_type": "display_data"
    },
    {
     "name": "stdout",
     "output_type": "stream",
     "text": [
      "Iteration 10, incumbent x=(2.9797, 2.6657), f(x)=0.5916\n"
     ]
    },
    {
     "data": {
      "application/vnd.jupyter.widget-view+json": {
       "model_id": "386490cd9cc34a2cb4f7056da51c1b45",
       "version_major": 2,
       "version_minor": 0
      },
      "text/plain": [
       "Training GP:   0%|          | 0/500 [00:00<?, ?it/s]"
      ]
     },
     "metadata": {},
     "output_type": "display_data"
    },
    {
     "name": "stdout",
     "output_type": "stream",
     "text": [
      "Iteration 11, incumbent x=(2.9725, 2.6161), f(x)=0.5771\n"
     ]
    },
    {
     "data": {
      "application/vnd.jupyter.widget-view+json": {
       "model_id": "6599859f010441ed96bc0a4d7d13b039",
       "version_major": 2,
       "version_minor": 0
      },
      "text/plain": [
       "Training GP:   0%|          | 0/500 [00:00<?, ?it/s]"
      ]
     },
     "metadata": {},
     "output_type": "display_data"
    },
    {
     "name": "stdout",
     "output_type": "stream",
     "text": [
      "Iteration 12, incumbent x=(2.9668, 2.5789), f(x)=0.5709\n"
     ]
    },
    {
     "data": {
      "application/vnd.jupyter.widget-view+json": {
       "model_id": "54ae7871161e4743afceb0455245fd0a",
       "version_major": 2,
       "version_minor": 0
      },
      "text/plain": [
       "Training GP:   0%|          | 0/500 [00:00<?, ?it/s]"
      ]
     },
     "metadata": {},
     "output_type": "display_data"
    },
    {
     "name": "stdout",
     "output_type": "stream",
     "text": [
      "Iteration 13, incumbent x=(2.9668, 2.5789), f(x)=0.5709\n"
     ]
    },
    {
     "data": {
      "application/vnd.jupyter.widget-view+json": {
       "model_id": "06a1dc9c1c7d45538b34c39f49dff8d4",
       "version_major": 2,
       "version_minor": 0
      },
      "text/plain": [
       "Training GP:   0%|          | 0/500 [00:00<?, ?it/s]"
      ]
     },
     "metadata": {},
     "output_type": "display_data"
    },
    {
     "name": "stdout",
     "output_type": "stream",
     "text": [
      "Iteration 14, incumbent x=(2.9825, 2.5562), f(x)=0.5428\n"
     ]
    },
    {
     "data": {
      "application/vnd.jupyter.widget-view+json": {
       "model_id": "c6890f59f53344859205a9c1ab706b5d",
       "version_major": 2,
       "version_minor": 0
      },
      "text/plain": [
       "Training GP:   0%|          | 0/500 [00:00<?, ?it/s]"
      ]
     },
     "metadata": {},
     "output_type": "display_data"
    },
    {
     "name": "stdout",
     "output_type": "stream",
     "text": [
      "Iteration 15, incumbent x=(3.0407, 2.5327), f(x)=0.4783\n"
     ]
    },
    {
     "data": {
      "application/vnd.jupyter.widget-view+json": {
       "model_id": "4a8a050049a745c198164396debbf6a8",
       "version_major": 2,
       "version_minor": 0
      },
      "text/plain": [
       "Training GP:   0%|          | 0/500 [00:00<?, ?it/s]"
      ]
     },
     "metadata": {},
     "output_type": "display_data"
    },
    {
     "name": "stdout",
     "output_type": "stream",
     "text": [
      "Iteration 16, incumbent x=(3.0843, 2.5243), f(x)=0.4554\n"
     ]
    },
    {
     "data": {
      "application/vnd.jupyter.widget-view+json": {
       "model_id": "c77659afcfc1422990bac40f0ab2fbc0",
       "version_major": 2,
       "version_minor": 0
      },
      "text/plain": [
       "Training GP:   0%|          | 0/500 [00:00<?, ?it/s]"
      ]
     },
     "metadata": {},
     "output_type": "display_data"
    },
    {
     "name": "stdout",
     "output_type": "stream",
     "text": [
      "Iteration 17, incumbent x=(3.1145, 2.5202), f(x)=0.4516\n"
     ]
    },
    {
     "data": {
      "application/vnd.jupyter.widget-view+json": {
       "model_id": "4660897674bb42619e6afe5a4e82a2ea",
       "version_major": 2,
       "version_minor": 0
      },
      "text/plain": [
       "Training GP:   0%|          | 0/500 [00:00<?, ?it/s]"
      ]
     },
     "metadata": {},
     "output_type": "display_data"
    },
    {
     "name": "stdout",
     "output_type": "stream",
     "text": [
      "Iteration 18, incumbent x=(3.1145, 2.5202), f(x)=0.4516\n"
     ]
    },
    {
     "data": {
      "application/vnd.jupyter.widget-view+json": {
       "model_id": "8e3c0aef8499416697794fbb2f05c389",
       "version_major": 2,
       "version_minor": 0
      },
      "text/plain": [
       "Training GP:   0%|          | 0/500 [00:00<?, ?it/s]"
      ]
     },
     "metadata": {},
     "output_type": "display_data"
    },
    {
     "name": "stdout",
     "output_type": "stream",
     "text": [
      "Iteration 19, incumbent x=(3.1192, 2.5184), f(x)=0.4513\n"
     ]
    },
    {
     "data": {
      "application/vnd.jupyter.widget-view+json": {
       "model_id": "28487e68f47242d7a56fa6facd1aafad",
       "version_major": 2,
       "version_minor": 0
      },
      "text/plain": [
       "Training GP:   0%|          | 0/500 [00:00<?, ?it/s]"
      ]
     },
     "metadata": {},
     "output_type": "display_data"
    },
    {
     "name": "stdout",
     "output_type": "stream",
     "text": [
      "\n",
      "Run 7/10\n",
      "Initial points (x1, x2, f(x)):\n",
      "tensor([[  3.9689,  12.6794, 123.6489],\n",
      "        [  9.1962,   4.4480,   5.3092],\n",
      "        [  2.7070,   9.6652,  50.6676],\n",
      "        [  8.4858,   0.2113,   6.8425],\n",
      "        [  3.6768,   1.8271,   1.7451],\n",
      "        [  8.7714,  10.2080,  70.0917],\n",
      "        [ -1.9997,   1.6816,  70.2890],\n",
      "        [ -4.9708,  13.3924,  26.2233],\n",
      "        [  7.0707,   3.8202,  23.6133],\n",
      "        [  2.0245,   2.5234,   6.4062]])\n"
     ]
    },
    {
     "data": {
      "application/vnd.jupyter.widget-view+json": {
       "model_id": "9388e2354070498eaa17a61952cd64da",
       "version_major": 2,
       "version_minor": 0
      },
      "text/plain": [
       "Training GP:   0%|          | 0/500 [00:00<?, ?it/s]"
      ]
     },
     "metadata": {},
     "output_type": "display_data"
    },
    {
     "name": "stdout",
     "output_type": "stream",
     "text": [
      "Iteration 0, incumbent x=(3.6768, 1.8271), f(x)=1.7451\n"
     ]
    },
    {
     "data": {
      "application/vnd.jupyter.widget-view+json": {
       "model_id": "e43f6e3bbcd94c15b9fdb2c29db3f832",
       "version_major": 2,
       "version_minor": 0
      },
      "text/plain": [
       "Training GP:   0%|          | 0/500 [00:00<?, ?it/s]"
      ]
     },
     "metadata": {},
     "output_type": "display_data"
    },
    {
     "name": "stdout",
     "output_type": "stream",
     "text": [
      "Iteration 1, incumbent x=(3.4298, 1.7759), f(x)=0.8752\n"
     ]
    },
    {
     "data": {
      "application/vnd.jupyter.widget-view+json": {
       "model_id": "5ebe8d1bbacf434781240ff789362b46",
       "version_major": 2,
       "version_minor": 0
      },
      "text/plain": [
       "Training GP:   0%|          | 0/500 [00:00<?, ?it/s]"
      ]
     },
     "metadata": {},
     "output_type": "display_data"
    },
    {
     "name": "stdout",
     "output_type": "stream",
     "text": [
      "Iteration 2, incumbent x=(3.4146, 1.7728), f(x)=0.8429\n"
     ]
    },
    {
     "data": {
      "application/vnd.jupyter.widget-view+json": {
       "model_id": "79a11027e38e4e99aa1681e48a4fcb58",
       "version_major": 2,
       "version_minor": 0
      },
      "text/plain": [
       "Training GP:   0%|          | 0/500 [00:00<?, ?it/s]"
      ]
     },
     "metadata": {},
     "output_type": "display_data"
    },
    {
     "name": "stdout",
     "output_type": "stream",
     "text": [
      "Iteration 3, incumbent x=(3.3813, 1.7655), f(x)=0.7813\n"
     ]
    },
    {
     "data": {
      "application/vnd.jupyter.widget-view+json": {
       "model_id": "28009027fdda45c480fea8c82bb603fe",
       "version_major": 2,
       "version_minor": 0
      },
      "text/plain": [
       "Training GP:   0%|          | 0/500 [00:00<?, ?it/s]"
      ]
     },
     "metadata": {},
     "output_type": "display_data"
    },
    {
     "name": "stdout",
     "output_type": "stream",
     "text": [
      "Iteration 4, incumbent x=(3.3813, 1.7655), f(x)=0.7813\n"
     ]
    },
    {
     "data": {
      "application/vnd.jupyter.widget-view+json": {
       "model_id": "6278f2c167924180bcb5a05bfd96b8da",
       "version_major": 2,
       "version_minor": 0
      },
      "text/plain": [
       "Training GP:   0%|          | 0/500 [00:00<?, ?it/s]"
      ]
     },
     "metadata": {},
     "output_type": "display_data"
    },
    {
     "name": "stdout",
     "output_type": "stream",
     "text": [
      "Iteration 5, incumbent x=(3.3363, 1.7553), f(x)=0.7183\n"
     ]
    },
    {
     "data": {
      "application/vnd.jupyter.widget-view+json": {
       "model_id": "4d3ed0868e1441798871267beca1675e",
       "version_major": 2,
       "version_minor": 0
      },
      "text/plain": [
       "Training GP:   0%|          | 0/500 [00:00<?, ?it/s]"
      ]
     },
     "metadata": {},
     "output_type": "display_data"
    },
    {
     "name": "stdout",
     "output_type": "stream",
     "text": [
      "Iteration 6, incumbent x=(3.2969, 1.7462), f(x)=0.6823\n"
     ]
    },
    {
     "data": {
      "application/vnd.jupyter.widget-view+json": {
       "model_id": "30ab45a409604be387d6c05f44be6ebd",
       "version_major": 2,
       "version_minor": 0
      },
      "text/plain": [
       "Training GP:   0%|          | 0/500 [00:00<?, ?it/s]"
      ]
     },
     "metadata": {},
     "output_type": "display_data"
    },
    {
     "name": "stdout",
     "output_type": "stream",
     "text": [
      "Iteration 7, incumbent x=(3.2671, 1.7383), f(x)=0.6678\n"
     ]
    },
    {
     "data": {
      "application/vnd.jupyter.widget-view+json": {
       "model_id": "28d17acfbd58457f92bc55d44de1033c",
       "version_major": 2,
       "version_minor": 0
      },
      "text/plain": [
       "Training GP:   0%|          | 0/500 [00:00<?, ?it/s]"
      ]
     },
     "metadata": {},
     "output_type": "display_data"
    },
    {
     "name": "stdout",
     "output_type": "stream",
     "text": [
      "Iteration 8, incumbent x=(3.2671, 1.7383), f(x)=0.6678\n"
     ]
    },
    {
     "data": {
      "application/vnd.jupyter.widget-view+json": {
       "model_id": "a1dc9b39c3c14f72b5035c949912913a",
       "version_major": 2,
       "version_minor": 0
      },
      "text/plain": [
       "Training GP:   0%|          | 0/500 [00:00<?, ?it/s]"
      ]
     },
     "metadata": {},
     "output_type": "display_data"
    },
    {
     "name": "stdout",
     "output_type": "stream",
     "text": [
      "Iteration 9, incumbent x=(3.2671, 1.7383), f(x)=0.6678\n"
     ]
    },
    {
     "data": {
      "application/vnd.jupyter.widget-view+json": {
       "model_id": "f6af842c8a954f90bee6ec7dff260352",
       "version_major": 2,
       "version_minor": 0
      },
      "text/plain": [
       "Training GP:   0%|          | 0/500 [00:00<?, ?it/s]"
      ]
     },
     "metadata": {},
     "output_type": "display_data"
    },
    {
     "name": "stdout",
     "output_type": "stream",
     "text": [
      "Iteration 10, incumbent x=(3.2504, 1.7559), f(x)=0.6446\n"
     ]
    },
    {
     "data": {
      "application/vnd.jupyter.widget-view+json": {
       "model_id": "75f5bea8359149008e16ba016d0fd2c3",
       "version_major": 2,
       "version_minor": 0
      },
      "text/plain": [
       "Training GP:   0%|          | 0/500 [00:00<?, ?it/s]"
      ]
     },
     "metadata": {},
     "output_type": "display_data"
    },
    {
     "name": "stdout",
     "output_type": "stream",
     "text": [
      "Iteration 11, incumbent x=(3.2405, 1.7972), f(x)=0.6064\n"
     ]
    },
    {
     "data": {
      "application/vnd.jupyter.widget-view+json": {
       "model_id": "41754752814a4365bb0ec80d68e41376",
       "version_major": 2,
       "version_minor": 0
      },
      "text/plain": [
       "Training GP:   0%|          | 0/500 [00:00<?, ?it/s]"
      ]
     },
     "metadata": {},
     "output_type": "display_data"
    },
    {
     "name": "stdout",
     "output_type": "stream",
     "text": [
      "Iteration 12, incumbent x=(3.2346, 1.8361), f(x)=0.5744\n"
     ]
    },
    {
     "data": {
      "application/vnd.jupyter.widget-view+json": {
       "model_id": "33b1b604478d4b0d80314d06c52b1ab1",
       "version_major": 2,
       "version_minor": 0
      },
      "text/plain": [
       "Training GP:   0%|          | 0/500 [00:00<?, ?it/s]"
      ]
     },
     "metadata": {},
     "output_type": "display_data"
    },
    {
     "name": "stdout",
     "output_type": "stream",
     "text": [
      "Iteration 13, incumbent x=(3.2346, 1.8361), f(x)=0.5744\n"
     ]
    },
    {
     "data": {
      "application/vnd.jupyter.widget-view+json": {
       "model_id": "eef9f8efff6346c9a90004c76eb966c5",
       "version_major": 2,
       "version_minor": 0
      },
      "text/plain": [
       "Training GP:   0%|          | 0/500 [00:00<?, ?it/s]"
      ]
     },
     "metadata": {},
     "output_type": "display_data"
    },
    {
     "name": "stdout",
     "output_type": "stream",
     "text": [
      "Iteration 14, incumbent x=(3.2346, 1.8361), f(x)=0.5744\n"
     ]
    },
    {
     "data": {
      "application/vnd.jupyter.widget-view+json": {
       "model_id": "802b8fb75c9a4a50920c2df1a7dd579f",
       "version_major": 2,
       "version_minor": 0
      },
      "text/plain": [
       "Training GP:   0%|          | 0/500 [00:00<?, ?it/s]"
      ]
     },
     "metadata": {},
     "output_type": "display_data"
    },
    {
     "name": "stdout",
     "output_type": "stream",
     "text": [
      "Iteration 15, incumbent x=(3.2316, 1.8810), f(x)=0.5423\n"
     ]
    },
    {
     "data": {
      "application/vnd.jupyter.widget-view+json": {
       "model_id": "aab48399e77849729bf4e273b5529ef4",
       "version_major": 2,
       "version_minor": 0
      },
      "text/plain": [
       "Training GP:   0%|          | 0/500 [00:00<?, ?it/s]"
      ]
     },
     "metadata": {},
     "output_type": "display_data"
    },
    {
     "name": "stdout",
     "output_type": "stream",
     "text": [
      "Iteration 16, incumbent x=(3.2334, 1.9376), f(x)=0.5095\n"
     ]
    },
    {
     "data": {
      "application/vnd.jupyter.widget-view+json": {
       "model_id": "63baea8dd2564adeb89154e626aff890",
       "version_major": 2,
       "version_minor": 0
      },
      "text/plain": [
       "Training GP:   0%|          | 0/500 [00:00<?, ?it/s]"
      ]
     },
     "metadata": {},
     "output_type": "display_data"
    },
    {
     "name": "stdout",
     "output_type": "stream",
     "text": [
      "Iteration 17, incumbent x=(3.2372, 1.9993), f(x)=0.4826\n"
     ]
    },
    {
     "data": {
      "application/vnd.jupyter.widget-view+json": {
       "model_id": "cfea6d28510e44d58b83e5ca75cac7a8",
       "version_major": 2,
       "version_minor": 0
      },
      "text/plain": [
       "Training GP:   0%|          | 0/500 [00:00<?, ?it/s]"
      ]
     },
     "metadata": {},
     "output_type": "display_data"
    },
    {
     "name": "stdout",
     "output_type": "stream",
     "text": [
      "Iteration 18, incumbent x=(3.2473, 2.0560), f(x)=0.4705\n"
     ]
    },
    {
     "data": {
      "application/vnd.jupyter.widget-view+json": {
       "model_id": "931edad5c74842eeb6c97209fe67bb05",
       "version_major": 2,
       "version_minor": 0
      },
      "text/plain": [
       "Training GP:   0%|          | 0/500 [00:00<?, ?it/s]"
      ]
     },
     "metadata": {},
     "output_type": "display_data"
    },
    {
     "name": "stdout",
     "output_type": "stream",
     "text": [
      "Iteration 19, incumbent x=(3.2524, 2.0970), f(x)=0.4654\n"
     ]
    },
    {
     "data": {
      "application/vnd.jupyter.widget-view+json": {
       "model_id": "e6053d3681574ce2b38e4fb79de4e4f7",
       "version_major": 2,
       "version_minor": 0
      },
      "text/plain": [
       "Training GP:   0%|          | 0/500 [00:00<?, ?it/s]"
      ]
     },
     "metadata": {},
     "output_type": "display_data"
    },
    {
     "name": "stdout",
     "output_type": "stream",
     "text": [
      "\n",
      "Run 8/10\n",
      "Initial points (x1, x2, f(x)):\n",
      "tensor([[  4.8368,   4.5303,  21.4704],\n",
      "        [  2.1984,  11.6606,  77.2103],\n",
      "        [  8.7695,  13.9655, 146.0942],\n",
      "        [ -1.0946,  14.3014,  55.4190],\n",
      "        [  0.7066,   6.1565,  18.7833],\n",
      "        [  9.2653,   8.5294,  38.7823],\n",
      "        [ -2.9286,   3.1030,  75.7132],\n",
      "        [  2.7085,   7.2750,  22.7956],\n",
      "        [  2.7891,   5.2017,   7.9353],\n",
      "        [  1.7148,   9.4733,  42.5253]])\n"
     ]
    },
    {
     "data": {
      "application/vnd.jupyter.widget-view+json": {
       "model_id": "466277f501e443e5a8ec5382008562dc",
       "version_major": 2,
       "version_minor": 0
      },
      "text/plain": [
       "Training GP:   0%|          | 0/500 [00:00<?, ?it/s]"
      ]
     },
     "metadata": {},
     "output_type": "display_data"
    },
    {
     "name": "stdout",
     "output_type": "stream",
     "text": [
      "Iteration 0, incumbent x=(2.7891, 5.2017), f(x)=7.9353\n"
     ]
    },
    {
     "data": {
      "application/vnd.jupyter.widget-view+json": {
       "model_id": "ce8d062447a044fa99ed0e43a6638c32",
       "version_major": 2,
       "version_minor": 0
      },
      "text/plain": [
       "Training GP:   0%|          | 0/500 [00:00<?, ?it/s]"
      ]
     },
     "metadata": {},
     "output_type": "display_data"
    },
    {
     "name": "stdout",
     "output_type": "stream",
     "text": [
      "Iteration 1, incumbent x=(2.2317, 4.9279), f(x)=7.4782\n"
     ]
    },
    {
     "data": {
      "application/vnd.jupyter.widget-view+json": {
       "model_id": "87fa4aec2c4641bda7934b43787e3ea8",
       "version_major": 2,
       "version_minor": 0
      },
      "text/plain": [
       "Training GP:   0%|          | 0/500 [00:00<?, ?it/s]"
      ]
     },
     "metadata": {},
     "output_type": "display_data"
    },
    {
     "name": "stdout",
     "output_type": "stream",
     "text": [
      "Iteration 2, incumbent x=(2.2146, 4.6174), f(x)=6.5119\n"
     ]
    },
    {
     "data": {
      "application/vnd.jupyter.widget-view+json": {
       "model_id": "00aadd27e04e446592332f3173dc175d",
       "version_major": 2,
       "version_minor": 0
      },
      "text/plain": [
       "Training GP:   0%|          | 0/500 [00:00<?, ?it/s]"
      ]
     },
     "metadata": {},
     "output_type": "display_data"
    },
    {
     "name": "stdout",
     "output_type": "stream",
     "text": [
      "Iteration 3, incumbent x=(2.5317, 4.1742), f(x)=4.0211\n"
     ]
    },
    {
     "data": {
      "application/vnd.jupyter.widget-view+json": {
       "model_id": "9bc69fa7c75b4e1dae504eecd9b9cc59",
       "version_major": 2,
       "version_minor": 0
      },
      "text/plain": [
       "Training GP:   0%|          | 0/500 [00:00<?, ?it/s]"
      ]
     },
     "metadata": {},
     "output_type": "display_data"
    },
    {
     "name": "stdout",
     "output_type": "stream",
     "text": [
      "Iteration 4, incumbent x=(2.9173, 1.5778), f(x)=1.4105\n"
     ]
    },
    {
     "data": {
      "application/vnd.jupyter.widget-view+json": {
       "model_id": "7e36ff4078b64ecca93e75080f2a9e22",
       "version_major": 2,
       "version_minor": 0
      },
      "text/plain": [
       "Training GP:   0%|          | 0/500 [00:00<?, ?it/s]"
      ]
     },
     "metadata": {},
     "output_type": "display_data"
    },
    {
     "name": "stdout",
     "output_type": "stream",
     "text": [
      "Iteration 5, incumbent x=(2.9173, 1.5778), f(x)=1.4105\n"
     ]
    },
    {
     "data": {
      "application/vnd.jupyter.widget-view+json": {
       "model_id": "7a17366e8b974c1b8f98032cbe007f06",
       "version_major": 2,
       "version_minor": 0
      },
      "text/plain": [
       "Training GP:   0%|          | 0/500 [00:00<?, ?it/s]"
      ]
     },
     "metadata": {},
     "output_type": "display_data"
    },
    {
     "name": "stdout",
     "output_type": "stream",
     "text": [
      "Iteration 6, incumbent x=(2.9173, 1.5778), f(x)=1.4105\n"
     ]
    },
    {
     "data": {
      "application/vnd.jupyter.widget-view+json": {
       "model_id": "27bd92ae536c48d7b6d6190fd7e8bb0a",
       "version_major": 2,
       "version_minor": 0
      },
      "text/plain": [
       "Training GP:   0%|          | 0/500 [00:00<?, ?it/s]"
      ]
     },
     "metadata": {},
     "output_type": "display_data"
    },
    {
     "name": "stdout",
     "output_type": "stream",
     "text": [
      "Iteration 7, incumbent x=(2.9878, 1.9217), f(x)=0.7382\n"
     ]
    },
    {
     "data": {
      "application/vnd.jupyter.widget-view+json": {
       "model_id": "347a7f7ff0cc4237b6c5e46f49d6631d",
       "version_major": 2,
       "version_minor": 0
      },
      "text/plain": [
       "Training GP:   0%|          | 0/500 [00:00<?, ?it/s]"
      ]
     },
     "metadata": {},
     "output_type": "display_data"
    },
    {
     "name": "stdout",
     "output_type": "stream",
     "text": [
      "Iteration 8, incumbent x=(2.9878, 1.9217), f(x)=0.7382\n"
     ]
    },
    {
     "data": {
      "application/vnd.jupyter.widget-view+json": {
       "model_id": "45960453ff224f34b101e51ea165123b",
       "version_major": 2,
       "version_minor": 0
      },
      "text/plain": [
       "Training GP:   0%|          | 0/500 [00:00<?, ?it/s]"
      ]
     },
     "metadata": {},
     "output_type": "display_data"
    },
    {
     "name": "stdout",
     "output_type": "stream",
     "text": [
      "Iteration 9, incumbent x=(2.9878, 1.9217), f(x)=0.7382\n"
     ]
    },
    {
     "data": {
      "application/vnd.jupyter.widget-view+json": {
       "model_id": "f02b86be214a425a8110fbf5855a2667",
       "version_major": 2,
       "version_minor": 0
      },
      "text/plain": [
       "Training GP:   0%|          | 0/500 [00:00<?, ?it/s]"
      ]
     },
     "metadata": {},
     "output_type": "display_data"
    },
    {
     "name": "stdout",
     "output_type": "stream",
     "text": [
      "Iteration 10, incumbent x=(2.9878, 1.9217), f(x)=0.7382\n"
     ]
    },
    {
     "data": {
      "application/vnd.jupyter.widget-view+json": {
       "model_id": "507858e42ec641f5a73e9921889ce865",
       "version_major": 2,
       "version_minor": 0
      },
      "text/plain": [
       "Training GP:   0%|          | 0/500 [00:00<?, ?it/s]"
      ]
     },
     "metadata": {},
     "output_type": "display_data"
    },
    {
     "name": "stdout",
     "output_type": "stream",
     "text": [
      "Iteration 11, incumbent x=(2.9878, 1.9217), f(x)=0.7382\n"
     ]
    },
    {
     "data": {
      "application/vnd.jupyter.widget-view+json": {
       "model_id": "31b4e9944fc14969a0564bec676c54cb",
       "version_major": 2,
       "version_minor": 0
      },
      "text/plain": [
       "Training GP:   0%|          | 0/500 [00:00<?, ?it/s]"
      ]
     },
     "metadata": {},
     "output_type": "display_data"
    },
    {
     "name": "stdout",
     "output_type": "stream",
     "text": [
      "Iteration 12, incumbent x=(2.9999, 2.7451), f(x)=0.6216\n"
     ]
    },
    {
     "data": {
      "application/vnd.jupyter.widget-view+json": {
       "model_id": "c287c9ae30614df0b4bc78e85ade1a3b",
       "version_major": 2,
       "version_minor": 0
      },
      "text/plain": [
       "Training GP:   0%|          | 0/500 [00:00<?, ?it/s]"
      ]
     },
     "metadata": {},
     "output_type": "display_data"
    },
    {
     "name": "stdout",
     "output_type": "stream",
     "text": [
      "Iteration 13, incumbent x=(2.9999, 2.7451), f(x)=0.6216\n"
     ]
    },
    {
     "data": {
      "application/vnd.jupyter.widget-view+json": {
       "model_id": "bb79e607b8f1446495642b36ff6dad9c",
       "version_major": 2,
       "version_minor": 0
      },
      "text/plain": [
       "Training GP:   0%|          | 0/500 [00:00<?, ?it/s]"
      ]
     },
     "metadata": {},
     "output_type": "display_data"
    },
    {
     "name": "stdout",
     "output_type": "stream",
     "text": [
      "Iteration 14, incumbent x=(2.9999, 2.7451), f(x)=0.6216\n"
     ]
    },
    {
     "data": {
      "application/vnd.jupyter.widget-view+json": {
       "model_id": "ba228c08318f4e5f93ed2c29745be59a",
       "version_major": 2,
       "version_minor": 0
      },
      "text/plain": [
       "Training GP:   0%|          | 0/500 [00:00<?, ?it/s]"
      ]
     },
     "metadata": {},
     "output_type": "display_data"
    },
    {
     "name": "stdout",
     "output_type": "stream",
     "text": [
      "Iteration 15, incumbent x=(9.3220, 2.6845), f(x)=0.5354\n"
     ]
    },
    {
     "data": {
      "application/vnd.jupyter.widget-view+json": {
       "model_id": "80c340d9368a47deba05ead1e05f41be",
       "version_major": 2,
       "version_minor": 0
      },
      "text/plain": [
       "Training GP:   0%|          | 0/500 [00:00<?, ?it/s]"
      ]
     },
     "metadata": {},
     "output_type": "display_data"
    },
    {
     "name": "stdout",
     "output_type": "stream",
     "text": [
      "Iteration 16, incumbent x=(9.3220, 2.6845), f(x)=0.5354\n"
     ]
    },
    {
     "data": {
      "application/vnd.jupyter.widget-view+json": {
       "model_id": "d2e8a47d3c5b4913806b07ebdfccdcc1",
       "version_major": 2,
       "version_minor": 0
      },
      "text/plain": [
       "Training GP:   0%|          | 0/500 [00:00<?, ?it/s]"
      ]
     },
     "metadata": {},
     "output_type": "display_data"
    },
    {
     "name": "stdout",
     "output_type": "stream",
     "text": [
      "Iteration 17, incumbent x=(9.3220, 2.6845), f(x)=0.5354\n"
     ]
    },
    {
     "data": {
      "application/vnd.jupyter.widget-view+json": {
       "model_id": "e469dc0dfcb047b5a409b873bb8157c6",
       "version_major": 2,
       "version_minor": 0
      },
      "text/plain": [
       "Training GP:   0%|          | 0/500 [00:00<?, ?it/s]"
      ]
     },
     "metadata": {},
     "output_type": "display_data"
    },
    {
     "name": "stdout",
     "output_type": "stream",
     "text": [
      "Iteration 18, incumbent x=(9.3220, 2.6845), f(x)=0.5354\n"
     ]
    },
    {
     "data": {
      "application/vnd.jupyter.widget-view+json": {
       "model_id": "69475fd11b2249388dda20ecc1514b8b",
       "version_major": 2,
       "version_minor": 0
      },
      "text/plain": [
       "Training GP:   0%|          | 0/500 [00:00<?, ?it/s]"
      ]
     },
     "metadata": {},
     "output_type": "display_data"
    },
    {
     "name": "stdout",
     "output_type": "stream",
     "text": [
      "Iteration 19, incumbent x=(3.2018, 2.3984), f(x)=0.4442\n"
     ]
    },
    {
     "data": {
      "application/vnd.jupyter.widget-view+json": {
       "model_id": "8f3d7c8730db4f1a95e4339f40836753",
       "version_major": 2,
       "version_minor": 0
      },
      "text/plain": [
       "Training GP:   0%|          | 0/500 [00:00<?, ?it/s]"
      ]
     },
     "metadata": {},
     "output_type": "display_data"
    },
    {
     "name": "stdout",
     "output_type": "stream",
     "text": [
      "\n",
      "Run 9/10\n",
      "Initial points (x1, x2, f(x)):\n",
      "tensor([[  1.8713,   7.2428,  21.3612],\n",
      "        [ -0.3125,   9.2253,  26.5099],\n",
      "        [ -1.7908,   6.1774,  17.4343],\n",
      "        [  5.4069,  14.5396, 194.8577],\n",
      "        [  4.2669,   4.9555,  17.3854],\n",
      "        [  3.2191,   6.6595,  20.1772],\n",
      "        [  5.5614,   8.3588,  69.2556],\n",
      "        [  5.4379,  14.7739, 201.5638],\n",
      "        [ -0.6144,   7.2349,  17.8895],\n",
      "        [  4.2249,   7.4510,  39.9500]])\n"
     ]
    },
    {
     "name": "stderr",
     "output_type": "stream",
     "text": [
      "/opt/anaconda3/envs/meng/lib/python3.10/site-packages/botorch/optim/optimize.py:331: BadInitialCandidatesWarning: Unable to find non-zero acquisition function values - initial conditions are being selected randomly.\n",
      "  generated_initial_conditions = opt_inputs.get_ic_generator()(\n"
     ]
    },
    {
     "data": {
      "application/vnd.jupyter.widget-view+json": {
       "model_id": "44cc4d64149c410f9670d46b0e6a0bf6",
       "version_major": 2,
       "version_minor": 0
      },
      "text/plain": [
       "Training GP:   0%|          | 0/500 [00:00<?, ?it/s]"
      ]
     },
     "metadata": {},
     "output_type": "display_data"
    },
    {
     "name": "stdout",
     "output_type": "stream",
     "text": [
      "Iteration 0, incumbent x=(4.2669, 4.9555), f(x)=17.3854\n"
     ]
    },
    {
     "data": {
      "application/vnd.jupyter.widget-view+json": {
       "model_id": "3deaaaa3f04a47bb8c9b73d1c4af2b05",
       "version_major": 2,
       "version_minor": 0
      },
      "text/plain": [
       "Training GP:   0%|          | 0/500 [00:00<?, ?it/s]"
      ]
     },
     "metadata": {},
     "output_type": "display_data"
    },
    {
     "name": "stdout",
     "output_type": "stream",
     "text": [
      "Iteration 1, incumbent x=(4.2669, 4.9555), f(x)=17.3854\n"
     ]
    },
    {
     "data": {
      "application/vnd.jupyter.widget-view+json": {
       "model_id": "84f55c34e3db4323ae731fc20826ad6d",
       "version_major": 2,
       "version_minor": 0
      },
      "text/plain": [
       "Training GP:   0%|          | 0/500 [00:00<?, ?it/s]"
      ]
     },
     "metadata": {},
     "output_type": "display_data"
    },
    {
     "name": "stdout",
     "output_type": "stream",
     "text": [
      "Iteration 2, incumbent x=(4.2669, 4.9555), f(x)=17.3854\n"
     ]
    },
    {
     "data": {
      "application/vnd.jupyter.widget-view+json": {
       "model_id": "fdcb241d89f64e139431442665afc4b0",
       "version_major": 2,
       "version_minor": 0
      },
      "text/plain": [
       "Training GP:   0%|          | 0/500 [00:00<?, ?it/s]"
      ]
     },
     "metadata": {},
     "output_type": "display_data"
    },
    {
     "name": "stdout",
     "output_type": "stream",
     "text": [
      "Iteration 3, incumbent x=(4.2669, 4.9555), f(x)=17.3854\n"
     ]
    },
    {
     "data": {
      "application/vnd.jupyter.widget-view+json": {
       "model_id": "994819d4e1ea4956b2e009fd73b6eece",
       "version_major": 2,
       "version_minor": 0
      },
      "text/plain": [
       "Training GP:   0%|          | 0/500 [00:00<?, ?it/s]"
      ]
     },
     "metadata": {},
     "output_type": "display_data"
    },
    {
     "name": "stdout",
     "output_type": "stream",
     "text": [
      "Iteration 4, incumbent x=(8.4267, 0.1401), f(x)=7.4264\n"
     ]
    },
    {
     "data": {
      "application/vnd.jupyter.widget-view+json": {
       "model_id": "c04fbbccdb5c4720af721adf13304dff",
       "version_major": 2,
       "version_minor": 0
      },
      "text/plain": [
       "Training GP:   0%|          | 0/500 [00:00<?, ?it/s]"
      ]
     },
     "metadata": {},
     "output_type": "display_data"
    },
    {
     "name": "stdout",
     "output_type": "stream",
     "text": [
      "Iteration 5, incumbent x=(8.4267, 0.1401), f(x)=7.4264\n"
     ]
    },
    {
     "data": {
      "application/vnd.jupyter.widget-view+json": {
       "model_id": "2007516990724dbaa6489c0e6e9fc958",
       "version_major": 2,
       "version_minor": 0
      },
      "text/plain": [
       "Training GP:   0%|          | 0/500 [00:00<?, ?it/s]"
      ]
     },
     "metadata": {},
     "output_type": "display_data"
    },
    {
     "name": "stdout",
     "output_type": "stream",
     "text": [
      "Iteration 6, incumbent x=(8.4267, 0.1401), f(x)=7.4264\n"
     ]
    },
    {
     "data": {
      "application/vnd.jupyter.widget-view+json": {
       "model_id": "3814e78b438c463abb1aad1e5ca5da1f",
       "version_major": 2,
       "version_minor": 0
      },
      "text/plain": [
       "Training GP:   0%|          | 0/500 [00:00<?, ?it/s]"
      ]
     },
     "metadata": {},
     "output_type": "display_data"
    },
    {
     "name": "stdout",
     "output_type": "stream",
     "text": [
      "Iteration 7, incumbent x=(8.4267, 0.1401), f(x)=7.4264\n"
     ]
    },
    {
     "data": {
      "application/vnd.jupyter.widget-view+json": {
       "model_id": "2bf07f117d634c808ff9c932ab2f9576",
       "version_major": 2,
       "version_minor": 0
      },
      "text/plain": [
       "Training GP:   0%|          | 0/500 [00:00<?, ?it/s]"
      ]
     },
     "metadata": {},
     "output_type": "display_data"
    },
    {
     "name": "stdout",
     "output_type": "stream",
     "text": [
      "Iteration 8, incumbent x=(9.0584, 0.0000), f(x)=5.8019\n"
     ]
    },
    {
     "data": {
      "application/vnd.jupyter.widget-view+json": {
       "model_id": "79d3fc1690f44ef0b453f13b0d3eaeb0",
       "version_major": 2,
       "version_minor": 0
      },
      "text/plain": [
       "Training GP:   0%|          | 0/500 [00:00<?, ?it/s]"
      ]
     },
     "metadata": {},
     "output_type": "display_data"
    },
    {
     "name": "stdout",
     "output_type": "stream",
     "text": [
      "Iteration 9, incumbent x=(9.0584, 0.0000), f(x)=5.8019\n"
     ]
    },
    {
     "data": {
      "application/vnd.jupyter.widget-view+json": {
       "model_id": "91f27f99d9bd45f3be5a779cbb49676c",
       "version_major": 2,
       "version_minor": 0
      },
      "text/plain": [
       "Training GP:   0%|          | 0/500 [00:00<?, ?it/s]"
      ]
     },
     "metadata": {},
     "output_type": "display_data"
    },
    {
     "name": "stdout",
     "output_type": "stream",
     "text": [
      "Iteration 10, incumbent x=(9.0584, 0.0000), f(x)=5.8019\n"
     ]
    },
    {
     "data": {
      "application/vnd.jupyter.widget-view+json": {
       "model_id": "9c89215776f246c1913477c18f3f2033",
       "version_major": 2,
       "version_minor": 0
      },
      "text/plain": [
       "Training GP:   0%|          | 0/500 [00:00<?, ?it/s]"
      ]
     },
     "metadata": {},
     "output_type": "display_data"
    },
    {
     "name": "stdout",
     "output_type": "stream",
     "text": [
      "Iteration 11, incumbent x=(10.0000, 4.4219), f(x)=3.9567\n"
     ]
    },
    {
     "data": {
      "application/vnd.jupyter.widget-view+json": {
       "model_id": "597a9dc4b7ab476097107027f25c6ad0",
       "version_major": 2,
       "version_minor": 0
      },
      "text/plain": [
       "Training GP:   0%|          | 0/500 [00:00<?, ?it/s]"
      ]
     },
     "metadata": {},
     "output_type": "display_data"
    },
    {
     "name": "stdout",
     "output_type": "stream",
     "text": [
      "Iteration 12, incumbent x=(10.0000, 4.4219), f(x)=3.9567\n"
     ]
    },
    {
     "data": {
      "application/vnd.jupyter.widget-view+json": {
       "model_id": "39aaec0d29b4403db636eda0bb411185",
       "version_major": 2,
       "version_minor": 0
      },
      "text/plain": [
       "Training GP:   0%|          | 0/500 [00:00<?, ?it/s]"
      ]
     },
     "metadata": {},
     "output_type": "display_data"
    },
    {
     "name": "stdout",
     "output_type": "stream",
     "text": [
      "Iteration 13, incumbent x=(10.0000, 4.2987), f(x)=3.6221\n"
     ]
    },
    {
     "data": {
      "application/vnd.jupyter.widget-view+json": {
       "model_id": "60e5c3a6bded4934b60dd98541cb2db8",
       "version_major": 2,
       "version_minor": 0
      },
      "text/plain": [
       "Training GP:   0%|          | 0/500 [00:00<?, ?it/s]"
      ]
     },
     "metadata": {},
     "output_type": "display_data"
    },
    {
     "name": "stdout",
     "output_type": "stream",
     "text": [
      "Iteration 14, incumbent x=(10.0000, 3.5613), f(x)=2.2549\n"
     ]
    },
    {
     "data": {
      "application/vnd.jupyter.widget-view+json": {
       "model_id": "8baa0713d38345428a9e23cc4dbc6d74",
       "version_major": 2,
       "version_minor": 0
      },
      "text/plain": [
       "Training GP:   0%|          | 0/500 [00:00<?, ?it/s]"
      ]
     },
     "metadata": {},
     "output_type": "display_data"
    },
    {
     "name": "stdout",
     "output_type": "stream",
     "text": [
      "Iteration 15, incumbent x=(10.0000, 3.5613), f(x)=2.2549\n"
     ]
    },
    {
     "data": {
      "application/vnd.jupyter.widget-view+json": {
       "model_id": "2fa48c254c0e49c09d864dc2799c7f58",
       "version_major": 2,
       "version_minor": 0
      },
      "text/plain": [
       "Training GP:   0%|          | 0/500 [00:00<?, ?it/s]"
      ]
     },
     "metadata": {},
     "output_type": "display_data"
    },
    {
     "name": "stdout",
     "output_type": "stream",
     "text": [
      "Iteration 16, incumbent x=(9.8191, 3.3761), f(x)=1.4355\n"
     ]
    },
    {
     "data": {
      "application/vnd.jupyter.widget-view+json": {
       "model_id": "a89f4f2025044e5fbfd889667d4b6595",
       "version_major": 2,
       "version_minor": 0
      },
      "text/plain": [
       "Training GP:   0%|          | 0/500 [00:00<?, ?it/s]"
      ]
     },
     "metadata": {},
     "output_type": "display_data"
    },
    {
     "name": "stdout",
     "output_type": "stream",
     "text": [
      "Iteration 17, incumbent x=(9.8191, 3.3761), f(x)=1.4355\n"
     ]
    },
    {
     "data": {
      "application/vnd.jupyter.widget-view+json": {
       "model_id": "91e2faf38d154a999f99923eac84bed7",
       "version_major": 2,
       "version_minor": 0
      },
      "text/plain": [
       "Training GP:   0%|          | 0/500 [00:00<?, ?it/s]"
      ]
     },
     "metadata": {},
     "output_type": "display_data"
    },
    {
     "name": "stdout",
     "output_type": "stream",
     "text": [
      "Iteration 18, incumbent x=(9.4229, 2.9458), f(x)=0.6210\n"
     ]
    },
    {
     "data": {
      "application/vnd.jupyter.widget-view+json": {
       "model_id": "baa6b4731d854cdeb0f1a66931f8e58f",
       "version_major": 2,
       "version_minor": 0
      },
      "text/plain": [
       "Training GP:   0%|          | 0/500 [00:00<?, ?it/s]"
      ]
     },
     "metadata": {},
     "output_type": "display_data"
    },
    {
     "name": "stdout",
     "output_type": "stream",
     "text": [
      "Iteration 19, incumbent x=(9.4229, 2.9458), f(x)=0.6210\n"
     ]
    },
    {
     "data": {
      "application/vnd.jupyter.widget-view+json": {
       "model_id": "ec5953fa78c040d1bcaed1ec13ba1f5c",
       "version_major": 2,
       "version_minor": 0
      },
      "text/plain": [
       "Training GP:   0%|          | 0/500 [00:00<?, ?it/s]"
      ]
     },
     "metadata": {},
     "output_type": "display_data"
    },
    {
     "name": "stdout",
     "output_type": "stream",
     "text": [
      "\n",
      "Run 10/10\n",
      "Initial points (x1, x2, f(x)):\n",
      "tensor([[ -2.7644,   7.2983,  17.7891],\n",
      "        [  9.7849,   2.5260,   1.0865],\n",
      "        [  3.7592,  10.4040,  75.4678],\n",
      "        [  3.7463,   1.9266,   2.1063],\n",
      "        [  3.5818,  13.8726, 143.3018],\n",
      "        [ -0.9599,  11.7369,  32.2359],\n",
      "        [ -0.9217,   6.9485,  16.1989],\n",
      "        [  6.5070,   7.5364,  60.6150],\n",
      "        [ -3.4625,  11.4000,   3.6418],\n",
      "        [  7.0531,  11.4795, 122.5385]])\n"
     ]
    },
    {
     "data": {
      "application/vnd.jupyter.widget-view+json": {
       "model_id": "cff012fdcec24465af5bba6a54ab7f5c",
       "version_major": 2,
       "version_minor": 0
      },
      "text/plain": [
       "Training GP:   0%|          | 0/500 [00:00<?, ?it/s]"
      ]
     },
     "metadata": {},
     "output_type": "display_data"
    },
    {
     "name": "stdout",
     "output_type": "stream",
     "text": [
      "Iteration 0, incumbent x=(9.7849, 2.5260), f(x)=1.0865\n"
     ]
    },
    {
     "data": {
      "application/vnd.jupyter.widget-view+json": {
       "model_id": "934a65d3dbe341e89be4d4bd9f0a031a",
       "version_major": 2,
       "version_minor": 0
      },
      "text/plain": [
       "Training GP:   0%|          | 0/500 [00:00<?, ?it/s]"
      ]
     },
     "metadata": {},
     "output_type": "display_data"
    },
    {
     "name": "stdout",
     "output_type": "stream",
     "text": [
      "Iteration 1, incumbent x=(9.7849, 2.5260), f(x)=1.0865\n"
     ]
    },
    {
     "data": {
      "application/vnd.jupyter.widget-view+json": {
       "model_id": "8635e029164645c8a22f2bf69b7724ac",
       "version_major": 2,
       "version_minor": 0
      },
      "text/plain": [
       "Training GP:   0%|          | 0/500 [00:00<?, ?it/s]"
      ]
     },
     "metadata": {},
     "output_type": "display_data"
    },
    {
     "name": "stdout",
     "output_type": "stream",
     "text": [
      "Iteration 2, incumbent x=(9.7843, 2.5262), f(x)=1.0842\n"
     ]
    },
    {
     "data": {
      "application/vnd.jupyter.widget-view+json": {
       "model_id": "ad938a8243b34fcb84ba4cc0cc534bbb",
       "version_major": 2,
       "version_minor": 0
      },
      "text/plain": [
       "Training GP:   0%|          | 0/500 [00:00<?, ?it/s]"
      ]
     },
     "metadata": {},
     "output_type": "display_data"
    },
    {
     "name": "stdout",
     "output_type": "stream",
     "text": [
      "Iteration 3, incumbent x=(9.7708, 2.5300), f(x)=1.0306\n"
     ]
    },
    {
     "data": {
      "application/vnd.jupyter.widget-view+json": {
       "model_id": "ca47e2ba8de446608f0b5d369ce465e4",
       "version_major": 2,
       "version_minor": 0
      },
      "text/plain": [
       "Training GP:   0%|          | 0/500 [00:00<?, ?it/s]"
      ]
     },
     "metadata": {},
     "output_type": "display_data"
    },
    {
     "name": "stdout",
     "output_type": "stream",
     "text": [
      "Iteration 4, incumbent x=(9.7260, 2.5429), f(x)=0.8693\n"
     ]
    },
    {
     "data": {
      "application/vnd.jupyter.widget-view+json": {
       "model_id": "27d38b99cf584c76b10fed432bb8356c",
       "version_major": 2,
       "version_minor": 0
      },
      "text/plain": [
       "Training GP:   0%|          | 0/500 [00:00<?, ?it/s]"
      ]
     },
     "metadata": {},
     "output_type": "display_data"
    },
    {
     "name": "stdout",
     "output_type": "stream",
     "text": [
      "Iteration 5, incumbent x=(9.7260, 2.5429), f(x)=0.8693\n"
     ]
    },
    {
     "name": "stderr",
     "output_type": "stream",
     "text": [
      "/opt/anaconda3/envs/meng/lib/python3.10/site-packages/linear_operator/utils/cholesky.py:40: NumericalWarning: A not p.d., added jitter of 1.0e-06 to the diagonal\n",
      "  warnings.warn(\n",
      "/opt/anaconda3/envs/meng/lib/python3.10/site-packages/linear_operator/utils/cholesky.py:40: NumericalWarning: A not p.d., added jitter of 1.0e-05 to the diagonal\n",
      "  warnings.warn(\n",
      "/opt/anaconda3/envs/meng/lib/python3.10/site-packages/linear_operator/utils/cholesky.py:40: NumericalWarning: A not p.d., added jitter of 1.0e-04 to the diagonal\n",
      "  warnings.warn(\n"
     ]
    },
    {
     "data": {
      "application/vnd.jupyter.widget-view+json": {
       "model_id": "a2f8068add954fecba015a6462f3b7d6",
       "version_major": 2,
       "version_minor": 0
      },
      "text/plain": [
       "Training GP:   0%|          | 0/500 [00:00<?, ?it/s]"
      ]
     },
     "metadata": {},
     "output_type": "display_data"
    },
    {
     "name": "stdout",
     "output_type": "stream",
     "text": [
      "Iteration 6, incumbent x=(9.6851, 2.5553), f(x)=0.7432\n"
     ]
    },
    {
     "data": {
      "application/vnd.jupyter.widget-view+json": {
       "model_id": "7c9466dd6b7a4e088fd5209a9eed2afe",
       "version_major": 2,
       "version_minor": 0
      },
      "text/plain": [
       "Training GP:   0%|          | 0/500 [00:00<?, ?it/s]"
      ]
     },
     "metadata": {},
     "output_type": "display_data"
    },
    {
     "name": "stdout",
     "output_type": "stream",
     "text": [
      "Iteration 7, incumbent x=(9.6477, 2.5665), f(x)=0.6461\n"
     ]
    },
    {
     "data": {
      "application/vnd.jupyter.widget-view+json": {
       "model_id": "025ea97c106742c090da37e5e45d443c",
       "version_major": 2,
       "version_minor": 0
      },
      "text/plain": [
       "Training GP:   0%|          | 0/500 [00:00<?, ?it/s]"
      ]
     },
     "metadata": {},
     "output_type": "display_data"
    },
    {
     "name": "stdout",
     "output_type": "stream",
     "text": [
      "Iteration 8, incumbent x=(9.6010, 2.5912), f(x)=0.5480\n"
     ]
    },
    {
     "data": {
      "application/vnd.jupyter.widget-view+json": {
       "model_id": "a78bbef0f0c843ee88be3b1a7143149d",
       "version_major": 2,
       "version_minor": 0
      },
      "text/plain": [
       "Training GP:   0%|          | 0/500 [00:00<?, ?it/s]"
      ]
     },
     "metadata": {},
     "output_type": "display_data"
    },
    {
     "name": "stdout",
     "output_type": "stream",
     "text": [
      "Iteration 9, incumbent x=(9.5663, 2.6083), f(x)=0.4940\n"
     ]
    },
    {
     "data": {
      "application/vnd.jupyter.widget-view+json": {
       "model_id": "6ca929fe45574764b784d70658240aa0",
       "version_major": 2,
       "version_minor": 0
      },
      "text/plain": [
       "Training GP:   0%|          | 0/500 [00:00<?, ?it/s]"
      ]
     },
     "metadata": {},
     "output_type": "display_data"
    },
    {
     "name": "stdout",
     "output_type": "stream",
     "text": [
      "Iteration 10, incumbent x=(9.5328, 2.6263), f(x)=0.4573\n"
     ]
    },
    {
     "data": {
      "application/vnd.jupyter.widget-view+json": {
       "model_id": "af04a0d0f4af46d6977360211df89a1d",
       "version_major": 2,
       "version_minor": 0
      },
      "text/plain": [
       "Training GP:   0%|          | 0/500 [00:00<?, ?it/s]"
      ]
     },
     "metadata": {},
     "output_type": "display_data"
    },
    {
     "name": "stdout",
     "output_type": "stream",
     "text": [
      "Iteration 11, incumbent x=(9.5054, 2.6404), f(x)=0.4384\n"
     ]
    },
    {
     "data": {
      "application/vnd.jupyter.widget-view+json": {
       "model_id": "a8e1428813384d07ae703e4e3f482370",
       "version_major": 2,
       "version_minor": 0
      },
      "text/plain": [
       "Training GP:   0%|          | 0/500 [00:00<?, ?it/s]"
      ]
     },
     "metadata": {},
     "output_type": "display_data"
    },
    {
     "name": "stdout",
     "output_type": "stream",
     "text": [
      "Iteration 12, incumbent x=(9.4819, 2.6480), f(x)=0.4290\n"
     ]
    },
    {
     "data": {
      "application/vnd.jupyter.widget-view+json": {
       "model_id": "5a317335599840c4a759175d65823c67",
       "version_major": 2,
       "version_minor": 0
      },
      "text/plain": [
       "Training GP:   0%|          | 0/500 [00:00<?, ?it/s]"
      ]
     },
     "metadata": {},
     "output_type": "display_data"
    },
    {
     "name": "stdout",
     "output_type": "stream",
     "text": [
      "Iteration 13, incumbent x=(9.4674, 2.6371), f(x)=0.4225\n"
     ]
    },
    {
     "data": {
      "application/vnd.jupyter.widget-view+json": {
       "model_id": "1ae90a878cb64510a7e25ead460f0a2c",
       "version_major": 2,
       "version_minor": 0
      },
      "text/plain": [
       "Training GP:   0%|          | 0/500 [00:00<?, ?it/s]"
      ]
     },
     "metadata": {},
     "output_type": "display_data"
    },
    {
     "name": "stdout",
     "output_type": "stream",
     "text": [
      "Iteration 14, incumbent x=(9.4589, 2.6213), f(x)=0.4173\n"
     ]
    },
    {
     "data": {
      "application/vnd.jupyter.widget-view+json": {
       "model_id": "34390eb0fdaf448e99a2c7b18838b41d",
       "version_major": 2,
       "version_minor": 0
      },
      "text/plain": [
       "Training GP:   0%|          | 0/500 [00:00<?, ?it/s]"
      ]
     },
     "metadata": {},
     "output_type": "display_data"
    },
    {
     "name": "stdout",
     "output_type": "stream",
     "text": [
      "Iteration 15, incumbent x=(9.4562, 2.6079), f(x)=0.4139\n"
     ]
    },
    {
     "data": {
      "application/vnd.jupyter.widget-view+json": {
       "model_id": "3edd2eb1767041ce95d57876bda69f4c",
       "version_major": 2,
       "version_minor": 0
      },
      "text/plain": [
       "Training GP:   0%|          | 0/500 [00:00<?, ?it/s]"
      ]
     },
     "metadata": {},
     "output_type": "display_data"
    },
    {
     "name": "stdout",
     "output_type": "stream",
     "text": [
      "Iteration 16, incumbent x=(9.4562, 2.6079), f(x)=0.4139\n"
     ]
    },
    {
     "data": {
      "application/vnd.jupyter.widget-view+json": {
       "model_id": "dd2b200115f244a4b3cb4517b09d19ab",
       "version_major": 2,
       "version_minor": 0
      },
      "text/plain": [
       "Training GP:   0%|          | 0/500 [00:00<?, ?it/s]"
      ]
     },
     "metadata": {},
     "output_type": "display_data"
    },
    {
     "name": "stdout",
     "output_type": "stream",
     "text": [
      "Iteration 17, incumbent x=(9.4245, 2.5903), f(x)=0.4112\n"
     ]
    },
    {
     "data": {
      "application/vnd.jupyter.widget-view+json": {
       "model_id": "fb5430eb06d64737bd3ef4fc6185363b",
       "version_major": 2,
       "version_minor": 0
      },
      "text/plain": [
       "Training GP:   0%|          | 0/500 [00:00<?, ?it/s]"
      ]
     },
     "metadata": {},
     "output_type": "display_data"
    },
    {
     "name": "stdout",
     "output_type": "stream",
     "text": [
      "Iteration 18, incumbent x=(9.4472, 2.5884), f(x)=0.4092\n"
     ]
    },
    {
     "data": {
      "application/vnd.jupyter.widget-view+json": {
       "model_id": "87e035fe5d0b4d3899c5ab36a847939f",
       "version_major": 2,
       "version_minor": 0
      },
      "text/plain": [
       "Training GP:   0%|          | 0/500 [00:00<?, ?it/s]"
      ]
     },
     "metadata": {},
     "output_type": "display_data"
    },
    {
     "name": "stdout",
     "output_type": "stream",
     "text": [
      "Iteration 19, incumbent x=(9.4468, 2.5813), f(x)=0.4079\n"
     ]
    },
    {
     "data": {
      "application/vnd.jupyter.widget-view+json": {
       "model_id": "1385d9588bf74721b5286729f6289732",
       "version_major": 2,
       "version_minor": 0
      },
      "text/plain": [
       "Training GP:   0%|          | 0/500 [00:00<?, ?it/s]"
      ]
     },
     "metadata": {},
     "output_type": "display_data"
    }
   ],
   "source": [
    "import torch\n",
    "import gpytorch\n",
    "import botorch\n",
    "import matplotlib.pyplot as plt\n",
    "import numpy as np\n",
    "\n",
    "plt.style.use(\"bmh\")\n",
    "\n",
    "from tqdm.notebook import tqdm\n",
    "\n",
    "class Branin:\n",
    "    \"\"\"Branin-Hoo f(x1,x2) on [−5,10]×[0,15]\"\"\"\n",
    "    def __init__(self):\n",
    "        self.bounds = torch.tensor([[-5.0, 0.0], [10.0, 15.0]])\n",
    "        # recommended constants\n",
    "        self.a, self.b = 1.0, 5.1/(4*torch.pi**2)\n",
    "        self.c, self.r = 5.0/torch.pi, 6.0\n",
    "        self.s, self.t = 10.0, 1.0/(8*torch.pi)\n",
    "    def __call__(self, x: torch.Tensor) -> torch.Tensor:\n",
    "        x1, x2 = x[...,0], x[...,1]\n",
    "        term1 = self.a*(x2 - self.b*x1**2 + self.c*x1 - self.r)**2\n",
    "        term2 = self.s*(1 - self.t)*torch.cos(x1) + self.s\n",
    "        return (term1 + term2).squeeze(-1)\n",
    "\n",
    "def visualize_gp_belief_and_policy(model, likelihood, policy=None, next_x=None):\n",
    "    # Disabled for 2D Branin function; kept for compatibility\n",
    "    pass\n",
    "\n",
    "class GPModel(gpytorch.models.ExactGP, botorch.models.gpytorch.GPyTorchModel):\n",
    "    _num_outputs = 1\n",
    "\n",
    "    def __init__(self, train_x, train_y, likelihood):\n",
    "        super().__init__(train_x, train_y, likelihood)\n",
    "        self.mean_module = gpytorch.means.ConstantMean()\n",
    "        self.covar_module = gpytorch.kernels.ScaleKernel(gpytorch.kernels.RBFKernel())\n",
    "\n",
    "    def forward(self, x):\n",
    "        mean_x = self.mean_module(x)\n",
    "        covar_x = self.covar_module(x)\n",
    "        return gpytorch.distributions.MultivariateNormal(mean_x, covar_x)\n",
    "\n",
    "def fit_gp_model(train_x, train_y, num_train_iters=500):\n",
    "    # Declare the GP\n",
    "    noise = 1e-4\n",
    "\n",
    "    likelihood = gpytorch.likelihoods.GaussianLikelihood()\n",
    "    model = GPModel(train_x, train_y, likelihood)\n",
    "    model.likelihood.noise = noise\n",
    "\n",
    "    # Train the hyperparameters\n",
    "    optimizer = torch.optim.Adam(model.parameters(), lr=0.01)\n",
    "    mll = gpytorch.mlls.ExactMarginalLogLikelihood(likelihood, model)\n",
    "\n",
    "    model.train()\n",
    "    likelihood.train()\n",
    "\n",
    "    for i in tqdm(range(num_train_iters), desc=\"Training GP\"):\n",
    "        optimizer.zero_grad()\n",
    "\n",
    "        output = model(train_x)\n",
    "        loss = -mll(output, train_y)\n",
    "\n",
    "        loss.backward()\n",
    "        optimizer.step()\n",
    "\n",
    "    model.eval()\n",
    "    likelihood.eval()\n",
    "\n",
    "    return model, likelihood\n",
    "\n",
    "# Initialize Branin function and bounds\n",
    "branin = Branin()\n",
    "bounds = branin.bounds  # [[-5, 0], [10, 15]]\n",
    "\n",
    "# Parameters\n",
    "n_initial_points = 10\n",
    "num_queries = 20\n",
    "num_runs = 10\n",
    "\n",
    "# Store minimum f(x) for each run\n",
    "all_min_f_values = []\n",
    "\n",
    "for run in range(num_runs):\n",
    "    print(f\"\\nRun {run + 1}/{num_runs}\")\n",
    "    \n",
    "    # Set different random seed for each run\n",
    "    torch.manual_seed(2 + run)\n",
    "    \n",
    "    # Initialize with 10 random points in [-5, 10] x [0, 15]\n",
    "    train_x = torch.rand(size=(n_initial_points, 2))\n",
    "    train_x = bounds[0] + (bounds[1] - bounds[0]) * train_x  # Scale to bounds\n",
    "    train_y = branin(train_x)\n",
    "\n",
    "    # Print initial points and their function values\n",
    "    print(\"Initial points (x1, x2, f(x)):\")\n",
    "    print(torch.hstack([train_x, train_y.unsqueeze(1)]))\n",
    "\n",
    "    # Fit initial GP model\n",
    "    model, likelihood = fit_gp_model(train_x, train_y)\n",
    "\n",
    "    # Track minimum f(x) for this run\n",
    "    min_f_values = [train_y.min().item()]\n",
    "\n",
    "    # Run Bayesian optimization\n",
    "    for i in range(num_queries):\n",
    "        print(f\"Iteration {i}, incumbent x=({train_x[train_y.argmin()][0].item():.4f}, {train_x[train_y.argmin()][1].item():.4f}), f(x)={train_y.min().item():.4f}\")\n",
    "\n",
    "        model, likelihood = fit_gp_model(train_x, train_y)\n",
    "\n",
    "        policy = botorch.acquisition.analytic.ProbabilityOfImprovement(\n",
    "            model, best_f=train_y.min(), maximize=False\n",
    "        )\n",
    "        \n",
    "        next_x, acq_val = botorch.optim.optimize_acqf(\n",
    "            policy,\n",
    "            bounds=bounds,\n",
    "            q=1,\n",
    "            num_restarts=20,\n",
    "            raw_samples=50,\n",
    "        )\n",
    "\n",
    "        next_y = branin(next_x)\n",
    "\n",
    "        # Ensure next_y is 1D with shape (1,)\n",
    "        next_y = next_y.unsqueeze(0) if next_y.dim() == 0 else next_y\n",
    "\n",
    "        train_x = torch.cat([train_x, next_x])\n",
    "        train_y = torch.cat([train_y, next_y])\n",
    "        \n",
    "        # Store the minimum f(x)\n",
    "        min_f_values.append(train_y.min().item())\n",
    "\n",
    "    # Store results for this run\n",
    "    all_min_f_values.append(min_f_values)\n",
    "\n",
    "    # Plot minimum f(x) vs iteration for this run\n",
    "    plt.figure(figsize=(8, 6))\n",
    "    plt.plot(range(num_queries + 1), min_f_values, marker='o', linestyle='-', color='b')\n",
    "    plt.xlabel('Iteration')\n",
    "    plt.ylabel('Minimum f(x)')\n",
    "    plt.title(f'Minimum f(x) vs Iteration (Run {run + 1})')\n",
    "    plt.grid(True)\n",
    "    plt.savefig(f'min_f_vs_iteration_run_{run + 1}.png')\n",
    "    plt.close()\n",
    "\n",
    "# Convert to numpy array for easier computation\n",
    "all_min_f_values = np.array(all_min_f_values)  # Shape: (num_runs, num_queries + 1)\n",
    "\n",
    "# Compute mean, std, and 95% CI\n",
    "mean_f = np.mean(all_min_f_values, axis=0)\n",
    "std_f = np.std(all_min_f_values, axis=0)\n",
    "ci_95 = 1.96 * std_f / np.sqrt(num_runs)  # 95% CI: z=1.96 for normal distribution\n",
    "\n",
    "# Plot convergence with mean, std, and CI\n",
    "plt.figure(figsize=(10, 6))\n",
    "iterations = range(num_queries + 1)\n",
    "\n",
    "# Plot mean\n",
    "plt.plot(iterations, mean_f, marker='o', linestyle='-', color='b', label='Mean Minimum CLEAR f(x)')\n",
    "\n",
    "# Plot 95% CI\n",
    "plt.fill_between(\n",
    "    iterations,\n",
    "    mean_f - ci_95,\n",
    "    mean_f + ci_95,\n",
    "    color='b',\n",
    "    alpha=0.2,\n",
    "    label='95% Confidence Interval'\n",
    ")\n",
    "\n",
    "# Plot mean ± std\n",
    "plt.fill_between(\n",
    "    iterations,\n",
    "    mean_f - std_f,\n",
    "    mean_f + std_f,\n",
    "    color='g',\n",
    "    alpha=0.1,\n",
    "    label='Mean ± Std'\n",
    ")\n",
    "\n",
    "plt.xlabel('Iteration')\n",
    "plt.ylabel('Minimum f(x)')\n",
    "plt.title('Convergence Plot: Mean, Std, and 95% CI over 10 Runs (Branin)')\n",
    "plt.grid(True)\n",
    "plt.legend()\n",
    "plt.savefig('convergence_plot.png')\n",
    "plt.close()"
   ]
  }
 ],
 "metadata": {
  "kernelspec": {
   "display_name": "meng",
   "language": "python",
   "name": "python3"
  },
  "language_info": {
   "codemirror_mode": {
    "name": "ipython",
    "version": 3
   },
   "file_extension": ".py",
   "mimetype": "text/x-python",
   "name": "python",
   "nbconvert_exporter": "python",
   "pygments_lexer": "ipython3",
   "version": "3.10.16"
  }
 },
 "nbformat": 4,
 "nbformat_minor": 2
}
